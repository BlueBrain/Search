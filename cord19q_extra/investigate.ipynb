{
 "cells": [
  {
   "cell_type": "markdown",
   "metadata": {},
   "source": [
    "Pierre-Alexandre\n",
    "\n",
    "30.03.2020"
   ]
  },
  {
   "cell_type": "code",
   "execution_count": 1,
   "metadata": {},
   "outputs": [],
   "source": [
    "from functools import partial\n",
    "from cord19q.query import Query\n",
    "\n",
    "q = partial(Query.run, path='cord19q')"
   ]
  },
  {
   "cell_type": "code",
   "execution_count": 2,
   "metadata": {},
   "outputs": [],
   "source": [
    "from ipywidgets import Textarea, Button, Output, VBox, Layout\n",
    "\n",
    "def investigate():\n",
    "    \n",
    "    def on_clicked(b):\n",
    "        wout.clear_output()\n",
    "        with wout:\n",
    "            q(wtext.value)\n",
    "    \n",
    "    wtext = Textarea(\n",
    "        value=\"Inhibition of N-glycosylation (using N-glycosylation inhibitors or Lectins) is a potential therapeutic approach for COVID-19 therapy.\",\n",
    "        placeholder='You investigation there.',\n",
    "        layout=Layout(width='90%', height='80px')\n",
    "    )\n",
    "\n",
    "    button = Button(description='Generate report')\n",
    "    button.on_click(on_clicked)\n",
    "    \n",
    "    wout = Output(layout={'border': '1px solid black'})\n",
    "\n",
    "    display(VBox([wtext, button, wout], layout=Layout(align_items='center')))"
   ]
  },
  {
   "cell_type": "markdown",
   "metadata": {
    "slideshow": {
     "slide_type": "slide"
    }
   },
   "source": [
    "## Main limitation"
   ]
  },
  {
   "cell_type": "code",
   "execution_count": 3,
   "metadata": {
    "slideshow": {
     "slide_type": "subslide"
    }
   },
   "outputs": [],
   "source": [
    "# Do specific diets correlate with patient susceptibility / outcomes?\n",
    "# diets patient susceptibility"
   ]
  },
  {
   "cell_type": "markdown",
   "metadata": {
    "slideshow": {
     "slide_type": "slide"
    }
   },
   "source": [
    "## Next step"
   ]
  },
  {
   "cell_type": "markdown",
   "metadata": {
    "slideshow": {
     "slide_type": "subslide"
    }
   },
   "source": [
    "=> overcoming this main limitation (i.e. using a sentence embeddings model instead of a word one)"
   ]
  },
  {
   "cell_type": "markdown",
   "metadata": {},
   "source": [
    "## Demo"
   ]
  },
  {
   "cell_type": "markdown",
   "metadata": {},
   "source": [
    "From Emmanuelle:\n",
    "  * ketogenic diet is protective against covid-19\n",
    "\n",
    "From Stan:\n",
    "  * honey is the cure for everything"
   ]
  },
  {
   "cell_type": "code",
   "execution_count": 4,
   "metadata": {
    "slideshow": {
     "slide_type": "slide"
    }
   },
   "outputs": [
    {
     "data": {
      "application/vnd.jupyter.widget-view+json": {
       "model_id": "ba74959b71a64e71b07336431410fa80",
       "version_major": 2,
       "version_minor": 0
      },
      "text/plain": [
       "VBox(children=(Textarea(value='Inhibition of N-glycosylation (using N-glycosylation inhibitors or Lectins) is …"
      ]
     },
     "metadata": {},
     "output_type": "display_data"
    }
   ],
   "source": [
    "investigate()"
   ]
  }
 ],
 "metadata": {
  "kernelspec": {
   "display_name": "Python 3",
   "language": "python",
   "name": "python3"
  },
  "language_info": {
   "codemirror_mode": {
    "name": "ipython",
    "version": 3
   },
   "file_extension": ".py",
   "mimetype": "text/x-python",
   "name": "python",
   "nbconvert_exporter": "python",
   "pygments_lexer": "ipython3",
   "version": "3.7.6"
  }
 },
 "nbformat": 4,
 "nbformat_minor": 4
}
