{
 "cells": [
  {
   "cell_type": "markdown",
   "metadata": {},
   "source": [
    "# Topic Modeling: Finding Related Articles\n",
    "\n",
    "    Creation date : 2020-03-27 (Friday)\n",
    "    Creator       : Stanislav Schmidt <stanislav.schmidt@epfl.ch>"
   ]
  },
  {
   "cell_type": "markdown",
   "metadata": {},
   "source": [
    "- Source: [Kaggle :: Topic Modeling: Finding Related Articles](https://www.kaggle.com/danielwolffram/topic-modeling-finding-related-articles)\n",
    "- Goals:\n",
    "    - Study the notebook\n",
    "    - Understand the underlying techniques\n",
    "    - Understand the results\n",
    "    - Usefult for us?\n",
    "    - What can we add to it to make it better?\n",
    "    \n",
    "Related resources:\n",
    "- Wiki on LDA: https://en.wikipedia.org/wiki/Latent_Dirichlet_allocation\n",
    "- YouTube tutorial on LDA: https://www.youtube.com/watch?v=3mHy4OSyRf0\n",
    "- Sciki-Learn Guide: https://scikit-learn.org/stable/modules/decomposition.html#latent-dirichlet-allocation-lda"
   ]
  },
  {
   "cell_type": "markdown",
   "metadata": {},
   "source": [
    "## Imports"
   ]
  },
  {
   "cell_type": "code",
   "execution_count": 1,
   "metadata": {
    "ExecuteTime": {
     "end_time": "2020-04-01T09:28:58.669826Z",
     "start_time": "2020-04-01T09:28:58.665738Z"
    }
   },
   "outputs": [],
   "source": [
    "# pip install --user scispacy\n",
    "# pip install https://s3-us-west-2.amazonaws.com/ai2-s2-scispacy/releases/v0.2.4/en_core_sci_md-0.2.4.tar.gz"
   ]
  },
  {
   "cell_type": "code",
   "execution_count": 2,
   "metadata": {
    "ExecuteTime": {
     "end_time": "2020-04-01T09:29:00.365449Z",
     "start_time": "2020-04-01T09:28:58.672378Z"
    }
   },
   "outputs": [],
   "source": [
    "from collections import Counter\n",
    "from itertools import islice\n",
    "import pathlib\n",
    "\n",
    "import numpy as np\n",
    "import pandas as pd\n",
    "import en_core_sci_md\n",
    "import joblib\n",
    "\n",
    "from sklearn.feature_extraction.text import CountVectorizer, TfidfVectorizer\n",
    "from sklearn.decomposition import LatentDirichletAllocation\n",
    "from scipy.spatial.distance import jensenshannon\n",
    "\n",
    "import matplotlib.pyplot as plt\n",
    "import seaborn as sb\n",
    "\n",
    "from tqdm.notebook import tqdm\n",
    "\n",
    "import ipywidgets as widgets\n",
    "from IPython.display import HTML, display, clear_output"
   ]
  },
  {
   "cell_type": "code",
   "execution_count": 3,
   "metadata": {
    "ExecuteTime": {
     "end_time": "2020-04-01T09:29:02.585498Z",
     "start_time": "2020-04-01T09:29:02.581421Z"
    }
   },
   "outputs": [],
   "source": [
    "plt.style.use(\"dark_background\")"
   ]
  },
  {
   "cell_type": "code",
   "execution_count": 4,
   "metadata": {
    "ExecuteTime": {
     "end_time": "2020-04-01T09:29:02.715376Z",
     "start_time": "2020-04-01T09:29:02.711818Z"
    }
   },
   "outputs": [],
   "source": [
    "log_dir = pathlib.Path() / \"1_topic_modeling_lda\"\n",
    "log_dir.mkdir(exist_ok=True)"
   ]
  },
  {
   "cell_type": "markdown",
   "metadata": {},
   "source": [
    "## Data"
   ]
  },
  {
   "cell_type": "code",
   "execution_count": 6,
   "metadata": {
    "ExecuteTime": {
     "end_time": "2020-04-01T09:29:19.527940Z",
     "start_time": "2020-04-01T09:29:13.016541Z"
    }
   },
   "outputs": [
    {
     "data": {
      "text/plain": [
       "(29315, 19)"
      ]
     },
     "execution_count": 6,
     "metadata": {},
     "output_type": "execute_result"
    }
   ],
   "source": [
    "df = pd.read_csv(log_dir / 'cord19_df.csv')\n",
    "df.shape"
   ]
  },
  {
   "cell_type": "code",
   "execution_count": 7,
   "metadata": {
    "ExecuteTime": {
     "end_time": "2020-04-01T09:29:20.829790Z",
     "start_time": "2020-04-01T09:29:20.813612Z"
    }
   },
   "outputs": [],
   "source": [
    "df.drop(columns=['Unnamed: 0'], inplace=True)"
   ]
  },
  {
   "cell_type": "code",
   "execution_count": 8,
   "metadata": {
    "ExecuteTime": {
     "end_time": "2020-04-01T09:29:21.115541Z",
     "start_time": "2020-04-01T09:29:21.080547Z"
    }
   },
   "outputs": [
    {
     "data": {
      "text/html": [
       "<div>\n",
       "<style scoped>\n",
       "    .dataframe tbody tr th:only-of-type {\n",
       "        vertical-align: middle;\n",
       "    }\n",
       "\n",
       "    .dataframe tbody tr th {\n",
       "        vertical-align: top;\n",
       "    }\n",
       "\n",
       "    .dataframe thead th {\n",
       "        text-align: right;\n",
       "    }\n",
       "</style>\n",
       "<table border=\"1\" class=\"dataframe\">\n",
       "  <thead>\n",
       "    <tr style=\"text-align: right;\">\n",
       "      <th></th>\n",
       "      <th>paper_id</th>\n",
       "      <th>body_text</th>\n",
       "      <th>source_x</th>\n",
       "      <th>title</th>\n",
       "      <th>doi</th>\n",
       "      <th>pmcid</th>\n",
       "      <th>pubmed_id</th>\n",
       "      <th>license</th>\n",
       "      <th>abstract</th>\n",
       "      <th>publish_time</th>\n",
       "      <th>authors</th>\n",
       "      <th>journal</th>\n",
       "      <th>Microsoft Academic Paper ID</th>\n",
       "      <th>WHO #Covidence</th>\n",
       "      <th>has_full_text</th>\n",
       "      <th>full_text_file</th>\n",
       "      <th>publish_year</th>\n",
       "      <th>link</th>\n",
       "    </tr>\n",
       "  </thead>\n",
       "  <tbody>\n",
       "    <tr>\n",
       "      <th>0</th>\n",
       "      <td>26aec9a28a4345276498c14e302ead7d96c7feee</td>\n",
       "      <td>Here we report a case of a healthy young man p...</td>\n",
       "      <td>NaN</td>\n",
       "      <td>NaN</td>\n",
       "      <td>NaN</td>\n",
       "      <td>NaN</td>\n",
       "      <td>NaN</td>\n",
       "      <td>NaN</td>\n",
       "      <td>NaN</td>\n",
       "      <td>NaN</td>\n",
       "      <td>NaN</td>\n",
       "      <td>NaN</td>\n",
       "      <td>NaN</td>\n",
       "      <td>NaN</td>\n",
       "      <td>NaN</td>\n",
       "      <td>NaN</td>\n",
       "      <td>-1</td>\n",
       "      <td>NaN</td>\n",
       "    </tr>\n",
       "    <tr>\n",
       "      <th>1</th>\n",
       "      <td>252878458973ebf8c4a149447b2887f0e553e7b5</td>\n",
       "      <td>Northern California was evaluated at the Willi...</td>\n",
       "      <td>PMC</td>\n",
       "      <td>Successful Treatment of Disseminated Nocardios...</td>\n",
       "      <td>10.1111/jvim.14855</td>\n",
       "      <td>PMC5787162</td>\n",
       "      <td>29105868.0</td>\n",
       "      <td>cc-by-nc</td>\n",
       "      <td>A 5‐year‐old male castrated Lhasa Apso cross w...</td>\n",
       "      <td>2018 Nov 4 Jan-Feb</td>\n",
       "      <td>Yaemsiri, S.; Sykes, J.E.</td>\n",
       "      <td>J Vet Intern Med</td>\n",
       "      <td>NaN</td>\n",
       "      <td>NaN</td>\n",
       "      <td>True</td>\n",
       "      <td>noncomm_use_subset</td>\n",
       "      <td>2018</td>\n",
       "      <td>http://dx.doi.org/10.1111/jvim.14855</td>\n",
       "    </tr>\n",
       "    <tr>\n",
       "      <th>2</th>\n",
       "      <td>138e18baf12e4e92b67ab7dee321d2b149f236ed</td>\n",
       "      <td>Pneumonia is the leading cause of hospitalizat...</td>\n",
       "      <td>PMC</td>\n",
       "      <td>The changes of prevalence and etiology of pedi...</td>\n",
       "      <td>10.3345/kjp.2017.06100</td>\n",
       "      <td>PMC6172518</td>\n",
       "      <td>30274507.0</td>\n",
       "      <td>cc-by-nc</td>\n",
       "      <td>PURPOSE: Understanding changes in pathogen and...</td>\n",
       "      <td>2018 Sep 15</td>\n",
       "      <td>Shin, Eun Ju; Kim, Yunsun; Jeong, Jin-Young; J...</td>\n",
       "      <td>Korean J Pediatr</td>\n",
       "      <td>NaN</td>\n",
       "      <td>NaN</td>\n",
       "      <td>True</td>\n",
       "      <td>noncomm_use_subset</td>\n",
       "      <td>2018</td>\n",
       "      <td>http://dx.doi.org/10.3345/kjp.2017.06100</td>\n",
       "    </tr>\n",
       "    <tr>\n",
       "      <th>3</th>\n",
       "      <td>e008bb9bd16411df2029bfbfd2df3fef72a7e575</td>\n",
       "      <td>Global climate change is expected to affect th...</td>\n",
       "      <td>PMC</td>\n",
       "      <td>Extreme water-related weather events and water...</td>\n",
       "      <td>10.1017/S0950268812001653</td>\n",
       "      <td>PMC3594835</td>\n",
       "      <td>22877498.0</td>\n",
       "      <td>cc-by-nc-sa</td>\n",
       "      <td>Global climate change is expected to affect th...</td>\n",
       "      <td>2013 Apr 9</td>\n",
       "      <td>CANN, K. F.; THOMAS, D. Rh.; SALMON, R. L.; WY...</td>\n",
       "      <td>Epidemiol Infect</td>\n",
       "      <td>NaN</td>\n",
       "      <td>NaN</td>\n",
       "      <td>True</td>\n",
       "      <td>noncomm_use_subset</td>\n",
       "      <td>2013</td>\n",
       "      <td>http://dx.doi.org/10.1017/S0950268812001653</td>\n",
       "    </tr>\n",
       "    <tr>\n",
       "      <th>4</th>\n",
       "      <td>ba581ccb585036d6220cfb461733c94584326d96</td>\n",
       "      <td>Hand hygiene and patient isolation are two bas...</td>\n",
       "      <td>PMC</td>\n",
       "      <td>Back to basics: hand hygiene and isolation</td>\n",
       "      <td>10.1097/QCO.0000000000000080</td>\n",
       "      <td>PMC4086774</td>\n",
       "      <td>24945613.0</td>\n",
       "      <td>cc-by-nc-nd</td>\n",
       "      <td>PURPOSE OF REVIEW: Hand hygiene and isolation ...</td>\n",
       "      <td>2014 Aug 2</td>\n",
       "      <td>Lin Huang, G. Khai; Stewardson, Andrew J.; Lin...</td>\n",
       "      <td>Curr Opin Infect Dis</td>\n",
       "      <td>NaN</td>\n",
       "      <td>NaN</td>\n",
       "      <td>True</td>\n",
       "      <td>noncomm_use_subset</td>\n",
       "      <td>2014</td>\n",
       "      <td>http://dx.doi.org/10.1097/QCO.0000000000000080</td>\n",
       "    </tr>\n",
       "  </tbody>\n",
       "</table>\n",
       "</div>"
      ],
      "text/plain": [
       "                                   paper_id  \\\n",
       "0  26aec9a28a4345276498c14e302ead7d96c7feee   \n",
       "1  252878458973ebf8c4a149447b2887f0e553e7b5   \n",
       "2  138e18baf12e4e92b67ab7dee321d2b149f236ed   \n",
       "3  e008bb9bd16411df2029bfbfd2df3fef72a7e575   \n",
       "4  ba581ccb585036d6220cfb461733c94584326d96   \n",
       "\n",
       "                                           body_text source_x  \\\n",
       "0  Here we report a case of a healthy young man p...      NaN   \n",
       "1  Northern California was evaluated at the Willi...      PMC   \n",
       "2  Pneumonia is the leading cause of hospitalizat...      PMC   \n",
       "3  Global climate change is expected to affect th...      PMC   \n",
       "4  Hand hygiene and patient isolation are two bas...      PMC   \n",
       "\n",
       "                                               title  \\\n",
       "0                                                NaN   \n",
       "1  Successful Treatment of Disseminated Nocardios...   \n",
       "2  The changes of prevalence and etiology of pedi...   \n",
       "3  Extreme water-related weather events and water...   \n",
       "4         Back to basics: hand hygiene and isolation   \n",
       "\n",
       "                            doi       pmcid   pubmed_id      license  \\\n",
       "0                           NaN         NaN         NaN          NaN   \n",
       "1            10.1111/jvim.14855  PMC5787162  29105868.0     cc-by-nc   \n",
       "2        10.3345/kjp.2017.06100  PMC6172518  30274507.0     cc-by-nc   \n",
       "3     10.1017/S0950268812001653  PMC3594835  22877498.0  cc-by-nc-sa   \n",
       "4  10.1097/QCO.0000000000000080  PMC4086774  24945613.0  cc-by-nc-nd   \n",
       "\n",
       "                                            abstract        publish_time  \\\n",
       "0                                                NaN                 NaN   \n",
       "1  A 5‐year‐old male castrated Lhasa Apso cross w...  2018 Nov 4 Jan-Feb   \n",
       "2  PURPOSE: Understanding changes in pathogen and...         2018 Sep 15   \n",
       "3  Global climate change is expected to affect th...          2013 Apr 9   \n",
       "4  PURPOSE OF REVIEW: Hand hygiene and isolation ...          2014 Aug 2   \n",
       "\n",
       "                                             authors               journal  \\\n",
       "0                                                NaN                   NaN   \n",
       "1                          Yaemsiri, S.; Sykes, J.E.      J Vet Intern Med   \n",
       "2  Shin, Eun Ju; Kim, Yunsun; Jeong, Jin-Young; J...      Korean J Pediatr   \n",
       "3  CANN, K. F.; THOMAS, D. Rh.; SALMON, R. L.; WY...      Epidemiol Infect   \n",
       "4  Lin Huang, G. Khai; Stewardson, Andrew J.; Lin...  Curr Opin Infect Dis   \n",
       "\n",
       "   Microsoft Academic Paper ID WHO #Covidence has_full_text  \\\n",
       "0                          NaN            NaN           NaN   \n",
       "1                          NaN            NaN          True   \n",
       "2                          NaN            NaN          True   \n",
       "3                          NaN            NaN          True   \n",
       "4                          NaN            NaN          True   \n",
       "\n",
       "       full_text_file  publish_year  \\\n",
       "0                 NaN            -1   \n",
       "1  noncomm_use_subset          2018   \n",
       "2  noncomm_use_subset          2018   \n",
       "3  noncomm_use_subset          2013   \n",
       "4  noncomm_use_subset          2014   \n",
       "\n",
       "                                             link  \n",
       "0                                             NaN  \n",
       "1            http://dx.doi.org/10.1111/jvim.14855  \n",
       "2        http://dx.doi.org/10.3345/kjp.2017.06100  \n",
       "3     http://dx.doi.org/10.1017/S0950268812001653  \n",
       "4  http://dx.doi.org/10.1097/QCO.0000000000000080  "
      ]
     },
     "execution_count": 8,
     "metadata": {},
     "output_type": "execute_result"
    }
   ],
   "source": [
    "df.head()"
   ]
  },
  {
   "cell_type": "code",
   "execution_count": 9,
   "metadata": {
    "ExecuteTime": {
     "end_time": "2020-04-01T09:29:23.653231Z",
     "start_time": "2020-04-01T09:29:23.645328Z"
    }
   },
   "outputs": [
    {
     "name": "stdout",
     "output_type": "stream",
     "text": [
      "paper_id\n",
      "body_text\n",
      "source_x\n",
      "title\n",
      "doi\n",
      "pmcid\n",
      "pubmed_id\n",
      "license\n",
      "abstract\n",
      "publish_time\n",
      "authors\n",
      "journal\n",
      "Microsoft Academic Paper ID\n",
      "WHO #Covidence\n",
      "has_full_text\n",
      "full_text_file\n",
      "publish_year\n",
      "link\n"
     ]
    }
   ],
   "source": [
    "for c in df.columns:\n",
    "    print(c)"
   ]
  },
  {
   "cell_type": "code",
   "execution_count": 61,
   "metadata": {
    "ExecuteTime": {
     "end_time": "2020-04-01T09:45:11.120502Z",
     "start_time": "2020-04-01T09:45:11.107123Z"
    }
   },
   "outputs": [
    {
     "data": {
      "text/plain": [
       "(array([0, 0]), array([148543, 154401]))"
      ]
     },
     "execution_count": 61,
     "metadata": {},
     "output_type": "execute_result"
    }
   ],
   "source": [
    "v = tf_vectorizer.transform([\"cure for covid-19\"])\n",
    "np.where(v.A)"
   ]
  },
  {
   "cell_type": "code",
   "execution_count": 63,
   "metadata": {
    "ExecuteTime": {
     "end_time": "2020-04-01T09:45:27.868200Z",
     "start_time": "2020-04-01T09:45:27.859877Z"
    }
   },
   "outputs": [
    {
     "data": {
      "text/plain": [
       "35"
      ]
     },
     "execution_count": 63,
     "metadata": {},
     "output_type": "execute_result"
    }
   ],
   "source": [
    "lda_tf.transform(v).argmax()"
   ]
  },
  {
   "cell_type": "code",
   "execution_count": 64,
   "metadata": {
    "ExecuteTime": {
     "end_time": "2020-04-01T09:46:11.379169Z",
     "start_time": "2020-04-01T09:46:11.370425Z"
    }
   },
   "outputs": [
    {
     "data": {
      "text/plain": [
       "(array([0.00666667, 0.00666667, 0.67333333]), array([48,  1,  1]))"
      ]
     },
     "execution_count": 64,
     "metadata": {},
     "output_type": "execute_result"
    }
   ],
   "source": [
    "np.unique(lda_tf.transform(v), return_counts=True)"
   ]
  },
  {
   "cell_type": "code",
   "execution_count": 10,
   "metadata": {
    "ExecuteTime": {
     "end_time": "2020-04-01T09:29:23.783766Z",
     "start_time": "2020-04-01T09:29:23.780310Z"
    }
   },
   "outputs": [],
   "source": [
    "all_texts = df.body_text"
   ]
  },
  {
   "cell_type": "code",
   "execution_count": 11,
   "metadata": {
    "ExecuteTime": {
     "end_time": "2020-04-01T09:29:24.958964Z",
     "start_time": "2020-04-01T09:29:24.950624Z"
    }
   },
   "outputs": [
    {
     "data": {
      "text/plain": [
       "'Here we report a case of a healthy young man presenting with life threatening diffuse alveolar hemorrhage (DAH) due to leptospirosis pulmonary hemorrhage syndrome (LPHS), acquired during a mud-run. The case is remarkable both in the epidemiologic investigation required to make the diagnosis, and in the use of extracorporeal membrane oxygenation (ECMO) in this infection, which has been reported only once in the United States.\\nErnest Goodpasture first described DAH in 1919 in a patient with suspec'"
      ]
     },
     "execution_count": 11,
     "metadata": {},
     "output_type": "execute_result"
    }
   ],
   "source": [
    "all_texts[0][:500]"
   ]
  },
  {
   "cell_type": "markdown",
   "metadata": {},
   "source": [
    "## Tokenize Documentas and Compute Term Frequencies (TF)"
   ]
  },
  {
   "cell_type": "markdown",
   "metadata": {},
   "source": [
    "For preprocessing we use [scispaCy](https://allenai.github.io/scispacy/), which is a Python package containing [spaCy](https://spacy.io) models for processing biomedical, scientific or clinical text."
   ]
  },
  {
   "cell_type": "code",
   "execution_count": 12,
   "metadata": {
    "ExecuteTime": {
     "end_time": "2020-04-01T09:29:40.660530Z",
     "start_time": "2020-04-01T09:29:31.702634Z"
    }
   },
   "outputs": [],
   "source": [
    "nlp = en_core_sci_md.load(disable=[\"tagger\", \"parser\", \"ner\"])\n",
    "nlp.max_length = 2_000_000  # maximal number of characters in text"
   ]
  },
  {
   "cell_type": "code",
   "execution_count": 13,
   "metadata": {
    "ExecuteTime": {
     "end_time": "2020-04-01T09:29:40.667970Z",
     "start_time": "2020-04-01T09:29:40.663130Z"
    }
   },
   "outputs": [],
   "source": [
    "def spacy_tokenizer(sentence):\n",
    "    return [token.lemma_ for token in nlp(sentence) if not (\n",
    "        token.like_url or\n",
    "        token.like_email or\n",
    "        token.like_num or\n",
    "        token.is_stop or\n",
    "        token.is_punct or\n",
    "        token.is_space or\n",
    "        token.is_bracket or\n",
    "        token.is_punct or\n",
    "        len(token)==1)] # remove numbers (e.g. from references [1], etc.)"
   ]
  },
  {
   "cell_type": "code",
   "execution_count": 14,
   "metadata": {
    "ExecuteTime": {
     "end_time": "2020-04-01T09:29:46.065870Z",
     "start_time": "2020-04-01T09:29:46.009214Z"
    }
   },
   "outputs": [
    {
     "data": {
      "text/plain": [
       "['report',\n",
       " 'case',\n",
       " 'healthy',\n",
       " 'young',\n",
       " 'man',\n",
       " 'present',\n",
       " 'life',\n",
       " 'threaten',\n",
       " 'diffuse',\n",
       " 'alveolar']"
      ]
     },
     "execution_count": 14,
     "metadata": {},
     "output_type": "execute_result"
    }
   ],
   "source": [
    "example_text = all_texts[0]\n",
    "example_tokens = spacy_tokenizer(example_text)\n",
    "example_tokens[:10]"
   ]
  },
  {
   "cell_type": "code",
   "execution_count": 15,
   "metadata": {
    "ExecuteTime": {
     "end_time": "2020-04-01T09:29:49.545122Z",
     "start_time": "2020-04-01T09:29:49.534269Z"
    }
   },
   "outputs": [],
   "source": [
    "# New stop words list \n",
    "customize_stop_words = [\n",
    "    'doi', 'preprint', 'copyright', 'peer', 'reviewed', 'org', 'https', 'et', 'al', 'author', 'figure', \n",
    "    'rights', 'reserved', 'permission', 'used', 'using', 'biorxiv', 'fig', 'fig.', 'al.',\n",
    "    'di', 'la', 'il', 'del', 'le', 'della', 'dei', 'delle', 'una', 'da',  'dell',  'non', 'si'\n",
    "]\n",
    "\n",
    "# Mark them as stop words\n",
    "for w in customize_stop_words:\n",
    "    nlp.vocab[w].is_stop = True"
   ]
  },
  {
   "cell_type": "code",
   "execution_count": 37,
   "metadata": {
    "ExecuteTime": {
     "end_time": "2020-03-27T15:34:57.197997Z",
     "start_time": "2020-03-27T15:18:45.182626Z"
    }
   },
   "outputs": [
    {
     "data": {
      "application/vnd.jupyter.widget-view+json": {
       "model_id": "1d9374e3152a415d9ab09eae8a1a5118",
       "version_major": 2,
       "version_minor": 0
      },
      "text/plain": [
       "HBox(children=(FloatProgress(value=0.0, max=29315.0), HTML(value='')))"
      ]
     },
     "metadata": {},
     "output_type": "display_data"
    },
    {
     "name": "stdout",
     "output_type": "stream",
     "text": [
      "\n"
     ]
    },
    {
     "data": {
      "text/plain": [
       "(29315, 800000)"
      ]
     },
     "execution_count": 37,
     "metadata": {},
     "output_type": "execute_result"
    }
   ],
   "source": [
    "tf_vectorizer = CountVectorizer(tokenizer = spacy_tokenizer, max_features=800_000) \n",
    "\n",
    "tf = tf_vectorizer.fit_transform(tqdm(all_texts))\n",
    "\n",
    "tf.shape"
   ]
  },
  {
   "cell_type": "code",
   "execution_count": 40,
   "metadata": {
    "ExecuteTime": {
     "end_time": "2020-03-27T15:36:24.196382Z",
     "start_time": "2020-03-27T15:35:48.202235Z"
    }
   },
   "outputs": [
    {
     "data": {
      "text/plain": [
       "['tf.csv']"
      ]
     },
     "execution_count": 40,
     "metadata": {},
     "output_type": "execute_result"
    }
   ],
   "source": [
    "joblib.dump(tf_vectorizer, 'tf_vectorizer.csv')\n",
    "joblib.dump(tf, 'tf.csv')"
   ]
  },
  {
   "cell_type": "code",
   "execution_count": 16,
   "metadata": {
    "ExecuteTime": {
     "end_time": "2020-04-01T09:30:17.476465Z",
     "start_time": "2020-04-01T09:30:00.026421Z"
    }
   },
   "outputs": [],
   "source": [
    "# tf_vectorizer = joblib.load(log_dir / 'tf_vectorizer.csv')\n",
    "# tf = joblib.load(log_dir / 'tf.csv')"
   ]
  },
  {
   "cell_type": "code",
   "execution_count": 17,
   "metadata": {
    "ExecuteTime": {
     "end_time": "2020-04-01T09:30:22.698865Z",
     "start_time": "2020-04-01T09:30:21.544685Z"
    }
   },
   "outputs": [],
   "source": [
    "feature_names = tf_vectorizer.get_feature_names()"
   ]
  },
  {
   "cell_type": "code",
   "execution_count": 18,
   "metadata": {
    "ExecuteTime": {
     "end_time": "2020-04-01T09:30:28.920794Z",
     "start_time": "2020-04-01T09:30:28.888588Z"
    }
   },
   "outputs": [
    {
     "data": {
      "text/plain": [
       "146835"
      ]
     },
     "execution_count": 18,
     "metadata": {},
     "output_type": "execute_result"
    }
   ],
   "source": [
    "feature_names.index('coronavirus')"
   ]
  },
  {
   "cell_type": "code",
   "execution_count": 19,
   "metadata": {
    "ExecuteTime": {
     "end_time": "2020-04-01T09:30:32.362842Z",
     "start_time": "2020-04-01T09:30:32.356445Z"
    }
   },
   "outputs": [
    {
     "data": {
      "text/plain": [
       "['coronavirion',\n",
       " 'coronavirions',\n",
       " 'coronavirologists',\n",
       " 'coronavirology',\n",
       " 'coronavirose',\n",
       " 'coronaviroses',\n",
       " 'coronavirosis',\n",
       " 'coronavirues',\n",
       " 'coronaviruese',\n",
       " 'coronavirueses',\n",
       " 'coronavirus',\n",
       " 'coronavirus(es',\n",
       " 'coronavirus,126',\n",
       " 'coronavirus-',\n",
       " 'coronavirus-1ike',\n",
       " 'coronavirus-2',\n",
       " 'coronavirus-229e',\n",
       " 'coronavirus-and',\n",
       " 'coronavirus-antibody',\n",
       " 'coronavirus-associated']"
      ]
     },
     "execution_count": 19,
     "metadata": {},
     "output_type": "execute_result"
    }
   ],
   "source": [
    "feature_names[146835 - 10:146835 + 10]"
   ]
  },
  {
   "cell_type": "code",
   "execution_count": 20,
   "metadata": {
    "ExecuteTime": {
     "end_time": "2020-04-01T09:30:33.464467Z",
     "start_time": "2020-04-01T09:30:33.205936Z"
    },
    "scrolled": false
   },
   "outputs": [
    {
     "name": "stdout",
     "output_type": "stream",
     "text": [
      "# glyco words: 928\n"
     ]
    },
    {
     "data": {
      "application/vnd.jupyter.widget-view+json": {
       "model_id": "32e88323b85a4ad7910a13b3d75a9e6c",
       "version_major": 2,
       "version_minor": 0
      },
      "text/plain": [
       "interactive(children=(IntSlider(value=1, description='Page:', max=47, min=1), Output()), _dom_classes=('widget…"
      ]
     },
     "metadata": {},
     "output_type": "display_data"
    }
   ],
   "source": [
    "keyword = 'glyco'\n",
    "n_show = 20\n",
    "\n",
    "corona_words_in_features = [word for word in feature_names if keyword in word]\n",
    "print(f\"# {keyword} words:\", len(corona_words_in_features))\n",
    "\n",
    "@widgets.interact(\n",
    "    i=widgets.IntSlider(\n",
    "        value=1,\n",
    "        min=1,\n",
    "        max=len(corona_words_in_features) // n_show + 1,\n",
    "        description='Page:'\n",
    "    )\n",
    ")\n",
    "def _(i):\n",
    "    i_start = (i - 1) * n_show\n",
    "    i_end = min(i_start + n_show, len(corona_words_in_features))\n",
    "    \n",
    "    print(\"Show entries from {} to {}\".format(i_start + 1, i_end))\n",
    "    print(\"---\")\n",
    "    for word in corona_words_in_features[i_start:i_end]:\n",
    "        print(word)\n",
    "    print(\"---\")"
   ]
  },
  {
   "cell_type": "markdown",
   "metadata": {},
   "source": [
    "<font color='red'>NOTE:</font> the tokens seem to be quite messed up. This might influence the quality of the results"
   ]
  },
  {
   "cell_type": "code",
   "execution_count": 21,
   "metadata": {
    "ExecuteTime": {
     "end_time": "2020-04-01T09:30:37.131311Z",
     "start_time": "2020-04-01T09:30:37.125985Z"
    }
   },
   "outputs": [
    {
     "data": {
      "text/plain": [
       "(29315, 800000)"
      ]
     },
     "execution_count": 21,
     "metadata": {},
     "output_type": "execute_result"
    }
   ],
   "source": [
    "tf.shape"
   ]
  },
  {
   "cell_type": "code",
   "execution_count": 22,
   "metadata": {
    "ExecuteTime": {
     "end_time": "2020-04-01T09:30:37.635802Z",
     "start_time": "2020-04-01T09:30:37.631300Z"
    }
   },
   "outputs": [
    {
     "data": {
      "text/plain": [
       "29315"
      ]
     },
     "execution_count": 22,
     "metadata": {},
     "output_type": "execute_result"
    }
   ],
   "source": [
    "len(all_texts)"
   ]
  },
  {
   "cell_type": "markdown",
   "metadata": {},
   "source": [
    "How many non-zero entries are there in the count-features?"
   ]
  },
  {
   "cell_type": "code",
   "execution_count": 23,
   "metadata": {
    "ExecuteTime": {
     "end_time": "2020-04-01T09:30:41.149076Z",
     "start_time": "2020-04-01T09:30:40.040354Z"
    }
   },
   "outputs": [
    {
     "name": "stdout",
     "output_type": "stream",
     "text": [
      "Number of non-zero entries     : 23423212\n",
      "Percentage of non-zero features: 0.10%\n"
     ]
    }
   ],
   "source": [
    "n_nonzero = (tf != 0).sum()\n",
    "frac_nonzero = n_nonzero / (tf.shape[0] * tf.shape[1])\n",
    "\n",
    "print(f\"Number of non-zero entries     : {n_nonzero}\")\n",
    "print(f\"Percentage of non-zero features: {frac_nonzero * 100:.2f}%\")"
   ]
  },
  {
   "cell_type": "code",
   "execution_count": 24,
   "metadata": {
    "ExecuteTime": {
     "end_time": "2020-04-01T09:30:50.346928Z",
     "start_time": "2020-04-01T09:30:42.819722Z"
    }
   },
   "outputs": [],
   "source": [
    "feature_value_counts = Counter(tf.data)"
   ]
  },
  {
   "cell_type": "markdown",
   "metadata": {},
   "source": [
    "Distribution of word counts in the features:"
   ]
  },
  {
   "cell_type": "code",
   "execution_count": 25,
   "metadata": {
    "ExecuteTime": {
     "end_time": "2020-04-01T09:30:52.465067Z",
     "start_time": "2020-04-01T09:30:50.349786Z"
    }
   },
   "outputs": [
    {
     "data": {
      "text/plain": [
       "<matplotlib.axes._subplots.AxesSubplot at 0x7f03a38b4eb8>"
      ]
     },
     "execution_count": 25,
     "metadata": {},
     "output_type": "execute_result"
    },
    {
     "data": {
      "image/png": "[encoded data removed]",
      "text/plain": [
       "<Figure size 432x288 with 1 Axes>"
      ]
     },
     "metadata": {},
     "output_type": "display_data"
    }
   ],
   "source": [
    "# most frequent words\n",
    "word_count = pd.DataFrame({\n",
    "    'word': tf_vectorizer.get_feature_names(),\n",
    "    'frequency': tf.sum(axis=0).A1 / tf.shape[1]})\n",
    "\n",
    "word_count.sort_values('frequency', ascending=False)\\\n",
    "          .set_index('word')[:20]\\\n",
    "          .sort_values('frequency', ascending=True)\\\n",
    "          .plot(kind='barh')"
   ]
  },
  {
   "cell_type": "markdown",
   "metadata": {},
   "source": [
    "## Truncate the vocabulary"
   ]
  },
  {
   "cell_type": "markdown",
   "metadata": {},
   "source": [
    "**Idea:**\n",
    "- truncate the most/least frequent words in the vocabulary\n",
    "- common choice: top 10%, bottom 20%"
   ]
  },
  {
   "cell_type": "markdown",
   "metadata": {},
   "source": [
    "Inspect the words by their frequency"
   ]
  },
  {
   "cell_type": "code",
   "execution_count": null,
   "metadata": {},
   "outputs": [],
   "source": []
  },
  {
   "cell_type": "code",
   "execution_count": 500,
   "metadata": {
    "ExecuteTime": {
     "end_time": "2020-03-30T12:38:40.894998Z",
     "start_time": "2020-03-30T12:38:40.697664Z"
    }
   },
   "outputs": [],
   "source": [
    "freqs = tf.sum(axis=0).A1 / tf.shape[1]"
   ]
  },
  {
   "cell_type": "code",
   "execution_count": 508,
   "metadata": {
    "ExecuteTime": {
     "end_time": "2020-03-30T12:39:50.990084Z",
     "start_time": "2020-03-30T12:39:50.946753Z"
    }
   },
   "outputs": [
    {
     "data": {
      "text/plain": [
       "(array([     0, 525062, 525061, ..., 284071, 730936, 125653]), (800000,))"
      ]
     },
     "execution_count": 508,
     "metadata": {},
     "output_type": "execute_result"
    }
   ],
   "source": [
    "freqs_idx = freqs.argsort()\n",
    "freqs_idx, freqs_idx.shape"
   ]
  },
  {
   "cell_type": "code",
   "execution_count": 497,
   "metadata": {
    "ExecuteTime": {
     "end_time": "2020-03-30T12:37:09.876534Z",
     "start_time": "2020-03-30T12:37:08.628647Z"
    }
   },
   "outputs": [],
   "source": [
    "feature_names = tf_vectorizer.get_feature_names()"
   ]
  },
  {
   "cell_type": "code",
   "execution_count": 499,
   "metadata": {
    "ExecuteTime": {
     "end_time": "2020-03-30T12:37:22.115698Z",
     "start_time": "2020-03-30T12:37:22.110152Z"
    }
   },
   "outputs": [
    {
     "data": {
      "text/plain": [
       "'virus'"
      ]
     },
     "execution_count": 499,
     "metadata": {},
     "output_type": "execute_result"
    }
   ],
   "source": [
    "feature_names[730936]"
   ]
  },
  {
   "cell_type": "code",
   "execution_count": 517,
   "metadata": {
    "ExecuteTime": {
     "end_time": "2020-03-30T12:41:05.720736Z",
     "start_time": "2020-03-30T12:41:05.714789Z"
    }
   },
   "outputs": [
    {
     "data": {
      "text/plain": [
       "(1.25e-06, 'quahty')"
      ]
     },
     "execution_count": 517,
     "metadata": {},
     "output_type": "execute_result"
    }
   ],
   "source": [
    "idx = freqs_idx[8001]\n",
    "freqs[idx], feature_names[idx]"
   ]
  },
  {
   "cell_type": "markdown",
   "metadata": {},
   "source": [
    "## Fit LDA"
   ]
  },
  {
   "cell_type": "code",
   "execution_count": 101,
   "metadata": {
    "ExecuteTime": {
     "end_time": "2020-03-27T17:47:54.278524Z",
     "start_time": "2020-03-27T16:22:01.761259Z"
    }
   },
   "outputs": [
    {
     "data": {
      "text/plain": [
       "['lda.csv']"
      ]
     },
     "execution_count": 101,
     "metadata": {},
     "output_type": "execute_result"
    }
   ],
   "source": [
    "# this takes long! you can skip this and load the model from the output file\n",
    "lda_tf = LatentDirichletAllocation(n_components=50, random_state=0) # TODO: tune n_components: how many topics make sense?\n",
    "lda_tf.fit(tf)\n",
    "joblib.dump(lda_tf, 'lda.csv')"
   ]
  },
  {
   "cell_type": "code",
   "execution_count": 26,
   "metadata": {
    "ExecuteTime": {
     "end_time": "2020-04-01T09:31:00.362460Z",
     "start_time": "2020-04-01T09:30:59.984749Z"
    }
   },
   "outputs": [],
   "source": [
    "# lda_tf = joblib.load(log_dir / 'lda.csv')"
   ]
  },
  {
   "cell_type": "code",
   "execution_count": 102,
   "metadata": {
    "ExecuteTime": {
     "end_time": "2020-03-27T19:39:29.890102Z",
     "start_time": "2020-03-27T18:03:11.881825Z"
    }
   },
   "outputs": [
    {
     "data": {
      "text/plain": [
       "['lda80.csv']"
      ]
     },
     "execution_count": 102,
     "metadata": {},
     "output_type": "execute_result"
    }
   ],
   "source": [
    "lda2 = LatentDirichletAllocation(n_components=80, random_state=0) # TODO: tune n_components: how many topics make  sense?\n",
    "lda2.fit(tf)\n",
    "joblib.dump(lda2, 'lda80.csv')"
   ]
  },
  {
   "cell_type": "code",
   "execution_count": 4,
   "metadata": {
    "ExecuteTime": {
     "end_time": "2020-03-31T11:41:39.014637Z",
     "start_time": "2020-03-31T11:41:39.012097Z"
    }
   },
   "outputs": [],
   "source": [
    "# lda2 = joblib.load(log_dir / 'lda80.csv')"
   ]
  },
  {
   "cell_type": "code",
   "execution_count": 103,
   "metadata": {
    "ExecuteTime": {
     "end_time": "2020-03-27T20:51:11.690779Z",
     "start_time": "2020-03-27T19:39:29.892330Z"
    }
   },
   "outputs": [
    {
     "data": {
      "text/plain": [
       "['lda30.csv']"
      ]
     },
     "execution_count": 103,
     "metadata": {},
     "output_type": "execute_result"
    }
   ],
   "source": [
    "lda3 = LatentDirichletAllocation(n_components=30, random_state=0) # TODO: tune n_components: how many topics make sense?\n",
    "lda3.fit(tf)\n",
    "joblib.dump(lda3, 'lda30.csv')"
   ]
  },
  {
   "cell_type": "code",
   "execution_count": 3,
   "metadata": {
    "ExecuteTime": {
     "end_time": "2020-03-31T11:41:37.468040Z",
     "start_time": "2020-03-31T11:41:37.464474Z"
    }
   },
   "outputs": [],
   "source": [
    "# lda3 = joblib.load(log_dir / 'lda30.csv')"
   ]
  },
  {
   "cell_type": "code",
   "execution_count": 27,
   "metadata": {
    "ExecuteTime": {
     "end_time": "2020-04-01T09:31:07.706338Z",
     "start_time": "2020-04-01T09:31:07.698738Z"
    }
   },
   "outputs": [
    {
     "data": {
      "text/plain": [
       "LatentDirichletAllocation(batch_size=128, doc_topic_prior=None,\n",
       "                          evaluate_every=-1, learning_decay=0.7,\n",
       "                          learning_method='batch', learning_offset=10.0,\n",
       "                          max_doc_update_iter=100, max_iter=10,\n",
       "                          mean_change_tol=0.001, n_components=50, n_jobs=None,\n",
       "                          perp_tol=0.1, random_state=0, topic_word_prior=None,\n",
       "                          total_samples=1000000.0, verbose=0)"
      ]
     },
     "execution_count": 27,
     "metadata": {},
     "output_type": "execute_result"
    }
   ],
   "source": [
    "lda_tf"
   ]
  },
  {
   "cell_type": "markdown",
   "metadata": {},
   "source": [
    "## Discovered Topics"
   ]
  },
  {
   "cell_type": "markdown",
   "metadata": {},
   "source": [
    "Inspect the topic composition of a number of documents"
   ]
  },
  {
   "cell_type": "code",
   "execution_count": 169,
   "metadata": {
    "ExecuteTime": {
     "end_time": "2020-03-29T15:38:16.130668Z",
     "start_time": "2020-03-29T15:38:15.847463Z"
    }
   },
   "outputs": [
    {
     "data": {
      "text/plain": [
       "(50, 20)"
      ]
     },
     "execution_count": 169,
     "metadata": {},
     "output_type": "execute_result"
    }
   ],
   "source": [
    "t = lda_tf.transform(tf[:20]).T\n",
    "t.shape  # (n_topics, n_documents)"
   ]
  },
  {
   "cell_type": "code",
   "execution_count": 175,
   "metadata": {
    "ExecuteTime": {
     "end_time": "2020-03-29T15:39:36.182037Z",
     "start_time": "2020-03-29T15:39:33.697255Z"
    }
   },
   "outputs": [
    {
     "data": {
      "image/png": "[encoded data removed]",
      "text/plain": [
       "<Figure size 864x576 with 1 Axes>"
      ]
     },
     "metadata": {},
     "output_type": "display_data"
    }
   ],
   "source": [
    "plt.figure(figsize=(12, 8))\n",
    "x_vals = range(t.shape[1])\n",
    "for i, (values, bottom) in enumerate(zip(t, np.cumsum(t, axis=0) - t)):\n",
    "    plt.bar(x_vals, values, bottom=bottom)\n",
    "#     break\n",
    "plt.xlabel(\"Document\")\n",
    "plt.ylabel(\"Topic Composition\")\n",
    "plt.xticks(x_vals)\n",
    "plt.yticks([])\n",
    "plt.show()"
   ]
  },
  {
   "cell_type": "markdown",
   "metadata": {},
   "source": [
    "Apply LDA to all documents to compute the topic distributions"
   ]
  },
  {
   "cell_type": "code",
   "execution_count": 179,
   "metadata": {
    "ExecuteTime": {
     "end_time": "2020-03-29T16:07:48.269661Z",
     "start_time": "2020-03-29T16:01:30.281714Z"
    }
   },
   "outputs": [],
   "source": [
    "# slow, load from output file instead\n",
    "topic_dist_arr = lda_tf.transform(tf)\n",
    "topic_dist = pd.DataFrame(topic_dist_arr)\n",
    "topic_dist.to_csv('topic_dist.csv', index=False)"
   ]
  },
  {
   "cell_type": "code",
   "execution_count": 638,
   "metadata": {
    "ExecuteTime": {
     "end_time": "2020-03-30T15:07:59.314916Z",
     "start_time": "2020-03-30T15:07:58.988777Z"
    }
   },
   "outputs": [],
   "source": [
    "# Load from output file\n",
    "# topic_dist = pd.read_csv('topic_dist.csv')"
   ]
  },
  {
   "cell_type": "code",
   "execution_count": 181,
   "metadata": {
    "ExecuteTime": {
     "end_time": "2020-03-29T16:07:48.316310Z",
     "start_time": "2020-03-29T16:07:48.277502Z"
    }
   },
   "outputs": [
    {
     "data": {
      "text/html": [
       "<div>\n",
       "<style scoped>\n",
       "    .dataframe tbody tr th:only-of-type {\n",
       "        vertical-align: middle;\n",
       "    }\n",
       "\n",
       "    .dataframe tbody tr th {\n",
       "        vertical-align: top;\n",
       "    }\n",
       "\n",
       "    .dataframe thead th {\n",
       "        text-align: right;\n",
       "    }\n",
       "</style>\n",
       "<table border=\"1\" class=\"dataframe\">\n",
       "  <thead>\n",
       "    <tr style=\"text-align: right;\">\n",
       "      <th></th>\n",
       "      <th>0</th>\n",
       "      <th>1</th>\n",
       "      <th>2</th>\n",
       "      <th>3</th>\n",
       "      <th>4</th>\n",
       "      <th>5</th>\n",
       "      <th>6</th>\n",
       "      <th>7</th>\n",
       "      <th>8</th>\n",
       "      <th>9</th>\n",
       "      <th>...</th>\n",
       "      <th>40</th>\n",
       "      <th>41</th>\n",
       "      <th>42</th>\n",
       "      <th>43</th>\n",
       "      <th>44</th>\n",
       "      <th>45</th>\n",
       "      <th>46</th>\n",
       "      <th>47</th>\n",
       "      <th>48</th>\n",
       "      <th>49</th>\n",
       "    </tr>\n",
       "  </thead>\n",
       "  <tbody>\n",
       "    <tr>\n",
       "      <th>0</th>\n",
       "      <td>0.000016</td>\n",
       "      <td>0.063052</td>\n",
       "      <td>0.000016</td>\n",
       "      <td>0.009705</td>\n",
       "      <td>0.000016</td>\n",
       "      <td>0.000016</td>\n",
       "      <td>0.000016</td>\n",
       "      <td>0.006290</td>\n",
       "      <td>0.000016</td>\n",
       "      <td>0.000016</td>\n",
       "      <td>...</td>\n",
       "      <td>0.000016</td>\n",
       "      <td>0.000016</td>\n",
       "      <td>0.000016</td>\n",
       "      <td>0.598568</td>\n",
       "      <td>0.000016</td>\n",
       "      <td>0.000016</td>\n",
       "      <td>0.000016</td>\n",
       "      <td>0.023403</td>\n",
       "      <td>0.000016</td>\n",
       "      <td>0.000016</td>\n",
       "    </tr>\n",
       "    <tr>\n",
       "      <th>1</th>\n",
       "      <td>0.000012</td>\n",
       "      <td>0.000012</td>\n",
       "      <td>0.000012</td>\n",
       "      <td>0.000012</td>\n",
       "      <td>0.000012</td>\n",
       "      <td>0.000012</td>\n",
       "      <td>0.000012</td>\n",
       "      <td>0.180188</td>\n",
       "      <td>0.000012</td>\n",
       "      <td>0.000012</td>\n",
       "      <td>...</td>\n",
       "      <td>0.000012</td>\n",
       "      <td>0.000012</td>\n",
       "      <td>0.021483</td>\n",
       "      <td>0.012599</td>\n",
       "      <td>0.000012</td>\n",
       "      <td>0.000012</td>\n",
       "      <td>0.000012</td>\n",
       "      <td>0.000012</td>\n",
       "      <td>0.000012</td>\n",
       "      <td>0.000012</td>\n",
       "    </tr>\n",
       "    <tr>\n",
       "      <th>2</th>\n",
       "      <td>0.000013</td>\n",
       "      <td>0.000013</td>\n",
       "      <td>0.000013</td>\n",
       "      <td>0.000013</td>\n",
       "      <td>0.000013</td>\n",
       "      <td>0.566414</td>\n",
       "      <td>0.000013</td>\n",
       "      <td>0.076140</td>\n",
       "      <td>0.000013</td>\n",
       "      <td>0.000013</td>\n",
       "      <td>...</td>\n",
       "      <td>0.000013</td>\n",
       "      <td>0.000013</td>\n",
       "      <td>0.000013</td>\n",
       "      <td>0.252351</td>\n",
       "      <td>0.000013</td>\n",
       "      <td>0.000013</td>\n",
       "      <td>0.000013</td>\n",
       "      <td>0.035968</td>\n",
       "      <td>0.000013</td>\n",
       "      <td>0.000013</td>\n",
       "    </tr>\n",
       "    <tr>\n",
       "      <th>3</th>\n",
       "      <td>0.000008</td>\n",
       "      <td>0.000008</td>\n",
       "      <td>0.000008</td>\n",
       "      <td>0.000008</td>\n",
       "      <td>0.000008</td>\n",
       "      <td>0.035569</td>\n",
       "      <td>0.000008</td>\n",
       "      <td>0.000008</td>\n",
       "      <td>0.000008</td>\n",
       "      <td>0.000008</td>\n",
       "      <td>...</td>\n",
       "      <td>0.000008</td>\n",
       "      <td>0.000008</td>\n",
       "      <td>0.000008</td>\n",
       "      <td>0.000008</td>\n",
       "      <td>0.000008</td>\n",
       "      <td>0.000008</td>\n",
       "      <td>0.000008</td>\n",
       "      <td>0.324324</td>\n",
       "      <td>0.000008</td>\n",
       "      <td>0.000008</td>\n",
       "    </tr>\n",
       "    <tr>\n",
       "      <th>4</th>\n",
       "      <td>0.000011</td>\n",
       "      <td>0.000011</td>\n",
       "      <td>0.000011</td>\n",
       "      <td>0.000011</td>\n",
       "      <td>0.000011</td>\n",
       "      <td>0.002228</td>\n",
       "      <td>0.000011</td>\n",
       "      <td>0.104095</td>\n",
       "      <td>0.000011</td>\n",
       "      <td>0.004745</td>\n",
       "      <td>...</td>\n",
       "      <td>0.252573</td>\n",
       "      <td>0.000011</td>\n",
       "      <td>0.000011</td>\n",
       "      <td>0.401539</td>\n",
       "      <td>0.000011</td>\n",
       "      <td>0.000011</td>\n",
       "      <td>0.000011</td>\n",
       "      <td>0.124437</td>\n",
       "      <td>0.000011</td>\n",
       "      <td>0.000011</td>\n",
       "    </tr>\n",
       "  </tbody>\n",
       "</table>\n",
       "<p>5 rows × 50 columns</p>\n",
       "</div>"
      ],
      "text/plain": [
       "         0         1         2         3         4         5         6   \\\n",
       "0  0.000016  0.063052  0.000016  0.009705  0.000016  0.000016  0.000016   \n",
       "1  0.000012  0.000012  0.000012  0.000012  0.000012  0.000012  0.000012   \n",
       "2  0.000013  0.000013  0.000013  0.000013  0.000013  0.566414  0.000013   \n",
       "3  0.000008  0.000008  0.000008  0.000008  0.000008  0.035569  0.000008   \n",
       "4  0.000011  0.000011  0.000011  0.000011  0.000011  0.002228  0.000011   \n",
       "\n",
       "         7         8         9   ...        40        41        42        43  \\\n",
       "0  0.006290  0.000016  0.000016  ...  0.000016  0.000016  0.000016  0.598568   \n",
       "1  0.180188  0.000012  0.000012  ...  0.000012  0.000012  0.021483  0.012599   \n",
       "2  0.076140  0.000013  0.000013  ...  0.000013  0.000013  0.000013  0.252351   \n",
       "3  0.000008  0.000008  0.000008  ...  0.000008  0.000008  0.000008  0.000008   \n",
       "4  0.104095  0.000011  0.004745  ...  0.252573  0.000011  0.000011  0.401539   \n",
       "\n",
       "         44        45        46        47        48        49  \n",
       "0  0.000016  0.000016  0.000016  0.023403  0.000016  0.000016  \n",
       "1  0.000012  0.000012  0.000012  0.000012  0.000012  0.000012  \n",
       "2  0.000013  0.000013  0.000013  0.035968  0.000013  0.000013  \n",
       "3  0.000008  0.000008  0.000008  0.324324  0.000008  0.000008  \n",
       "4  0.000011  0.000011  0.000011  0.124437  0.000011  0.000011  \n",
       "\n",
       "[5 rows x 50 columns]"
      ]
     },
     "execution_count": 181,
     "metadata": {},
     "output_type": "execute_result"
    }
   ],
   "source": [
    "topic_dist.head()"
   ]
  },
  {
   "cell_type": "markdown",
   "metadata": {},
   "source": [
    "Print samples for all topics"
   ]
  },
  {
   "cell_type": "code",
   "execution_count": null,
   "metadata": {},
   "outputs": [],
   "source": [
    "def print_top_words(model, feature_names, n_top_words):\n",
    "    for topic_idx, topic in enumerate(model.components_):\n",
    "        message = \"\\nTopic #%d: \" % topic_idx\n",
    "        message += \" \".join([feature_names[i]\n",
    "                             for i in topic.argsort()[:-n_top_words - 1:-1]])\n",
    "        print(message)\n",
    "    print()"
   ]
  },
  {
   "cell_type": "code",
   "execution_count": 176,
   "metadata": {
    "ExecuteTime": {
     "end_time": "2020-03-29T15:53:14.748284Z",
     "start_time": "2020-03-29T15:53:12.798452Z"
    },
    "scrolled": false
   },
   "outputs": [
    {
     "name": "stdout",
     "output_type": "stream",
     "text": [
      "\n",
      "Topic #0: study asthma child patient symptom airway exacerbation group treatment subject nasal copd year increase effect allergic respiratory age cold trial wheeze acute associate level day\n",
      "\n",
      "Topic #1: cell cause disease occur lesion tissue intestinal include small associate result usually increase mucosa live infection common chronic epithelium inflammation normal present case large form\n",
      "\n",
      "Topic #2: increase effect study receptor cell level role rat expression mouse function activity signal activation disease protein cancer suggest brain show model factor mechanism pathway decrease\n",
      "\n",
      "Topic #3: tourism market travel price industry hong passenger kong airport effect tourist economic result impact cost hotel study air country business event crisis airline demand destination\n",
      "\n",
      "Topic #4: un che con sono nel alla più ha cd13 cftr tra gli degli come rischio ad ed pazienti nella nei essere stato studio salute anche\n",
      "\n",
      "Topic #5: study age case child year infection report high disease risk rate infant group datum incidence increase include patient woman population month tb test death associate\n",
      "\n",
      "Topic #6: peptide protein target bind cell membrane acid molecule surface nanoparticle drug lipid sirna delivery show study high interaction structure complex property system dna application activity\n",
      "\n",
      "Topic #7: bacterial bacterium infection antibiotic s. strain resistance isolate antimicrobial pathogen pneumonia aureus study coli e. m. resistant organism c. mrsa treatment gene increase susceptibility result\n",
      "\n",
      "Topic #8: de les des en une est dans du par un ou sont pour plus au que avec chez sur d'une qui cas être pas ces\n",
      "\n",
      "Topic #9: cell mouse expression response infection cytokine level immune increase macrophage induce show activation production cd8 cd4 signal type control result express ifn study role compare\n",
      "\n",
      "Topic #10: patient study group increase level high result treatment day blood therapy compare mortality recipient rate time clinical low risk method associate dose mean show receive\n",
      "\n",
      "Topic #11: de en el los que se con las por un es para pacientes como más son virus tratamiento su infección puede ha casos enfermedad ser\n",
      "\n",
      "Topic #12: compound activity reaction group acid derivative ml show solution obtain inhibitor mixture value yield spectrum result concentration water active ring table nmr mm chemical synthesis\n",
      "\n",
      "Topic #13: particle air surface concentration temperature water system high time process flow room sample show filter increase rate condition size method material low solution study aerosol\n",
      "\n",
      "Topic #14: horse animal rabbit disease cause sign occur affect treatment foal result usually condition increase species small large common diet include water clinical body case high\n",
      "\n",
      "Topic #15: taiwan zinc waste hospital wind taipei mt mg isolate china rate result bay analysis ash taiwanese table show method ncl respectively regional value image region\n",
      "\n",
      "Topic #16: china datum information research system chinese article study health search government medium provide group user include database use medicine public publish analysis review quality publication\n",
      "\n",
      "Topic #17: virus influenza respiratory infection viral rsv study sample human detect child h1n1 pandemic ha h5n1 test detection hmpv tract patient clinical positive low high hrv\n",
      "\n",
      "Topic #18: cat disease sign dog clinical include lesion cause case diagnosis ferret cell occur report treatment result present tumor common infection animal normal associate affect usually\n",
      "\n",
      "Topic #19: gene protein expression analysis identify study sequence datum table pathway level human codon sample response transcript include allele genetic show rna function different find express\n",
      "\n",
      "Topic #20: virus viral infection cell host protein immune response replication infect receptor human type mechanism antiviral cellular disease factor study system target genome role lead rna\n",
      "\n",
      "Topic #21: virus disease infection human transmission infect cause outbreak case animal fever occur host species include report infectious dengue bird spread mosquito transmit pathogen area risk\n",
      "\n",
      "Topic #22: protein rna virus sequence cell gene region genome viral contain site show acid clone amino coronavirus replication fusion domain mutant result mutation encode product structure\n",
      "\n",
      "Topic #23: vaccine antibody response immune antigen cell vaccination protein vector virus human study immunization protection development epitope challenge induce immunity dna mouse recombinant trial use dose\n",
      "\n",
      "Topic #24: cell protein membrane expression viral show infection signal virus pathway result er bind replication level infect indicate induce express cellular study suggest activity domain transfect\n",
      "\n",
      "Topic #25: disease health human new research animal population global example include risk development pathogen food world state change country year agent public increase infectious use people\n",
      "\n",
      "Topic #26: antibody serum cell protein group min incubate sample show assay mouse control wash plate igg day ml elisa pbs antigen culture test high titer bind\n",
      "\n",
      "Topic #27: channel tm fp m2 p7 veev tmd suicide ppmo nsp4 viroporins pore e2 membrane rrv viroporin ion proton hk amantadine cb rns sinv tc-83 egr1\n",
      "\n",
      "Topic #28: mouse lung infection animal virus tissue cell day infect rat respiratory observe viral disease strain model study alveolar epithelial sars-cov human pulmonary section lesion stain\n",
      "\n",
      "Topic #29: muscle skin lesion cell nerve neuron prp nucleus hair nucleolus brain affect degeneration form fiber occur tissue area axon cutaneous spinal animal horse collagen epidermis\n",
      "\n",
      "Topic #30: mers-cov bat sars-cov human coronavirus virus mers case camel sars infection study transmission report cov outbreak respiratory animal sample species saudi contact covs arabia host\n",
      "\n",
      "Topic #31: parasite e. coli toxin rabbit t. species strain c. cell produce bacterium igy egg host isolate human intestinal pathogen report p. find l. antigen study\n",
      "\n",
      "Topic #32: pig pedv prrsv strain piglet tgev porcine swine group study sow virus sample pdcov isolate diarrhea high pcv2 show infection farm infect intestinal animal detect\n",
      "\n",
      "Topic #33: cat dog study feline sample canine infection animal fip test group fcov positive disease high fiv felv fipv clinical report healthy veterinary age population result\n",
      "\n",
      "Topic #34: model datum method network value study set result numb different analysis base time high structure approach predict information show algorithm score prediction parameter variable node\n",
      "\n",
      "Topic #35: case model numb epidemic time transmission individual estimate rate outbreak population contact datum disease infection infect day parameter period infectious spread distribution value control probability\n",
      "\n",
      "Topic #36: blood patient fluid use donor transfusion plasma product bone catheter administer require procedure platelet administration treatment perform test drug clinical risk volume place include time\n",
      "\n",
      "Topic #37: sample test assay detection pcr method result detect dna positive sensitivity clinical primer reaction specimen laboratory probe target amplification diagnostic perform negative specificity culture diagnosis\n",
      "\n",
      "Topic #38: sequence genome virus strain sample gene analysis species nucleotide viral phylogenetic isolate read region tree identify genotype table acid dna base primer genetic different alignment\n",
      "\n",
      "Topic #39: cell virus viral antiviral assay infection replication effect culture treatment activity rna concentration infect show inhibit drug control medium treat inhibitor inhibition result compound determine\n",
      "\n",
      "Topic #40: care participant nurse study hospital staff medical train emergency work health practice worker provide use control need student include hand knowledge mask experience time survey\n",
      "\n",
      "Topic #41: der die und bei mit von eine ist werden zu für sind oder einer des den nicht das als nach zur auf durch auch ein\n",
      "\n",
      "Topic #42: cell cns ms mouse brain disease patient antigen astrocyte study demyelination microglia antibody lesion eae myelin cord spinal autoimmune virus infection show class model immune\n",
      "\n",
      "Topic #43: patient infection pneumonia hospital respiratory clinical case study disease treatment day sars include care symptom acute test severe diagnosis report therapy risk use illness fever\n",
      "\n",
      "Topic #44: fish cp l2 l1 macro salmon c. car par benthamiana glycyrrhizin macrodomain adp-ribose dm trout oocyst n. rtd-1 adpr nbs aquaculture adp-ribosylation tp parp ostrich\n",
      "\n",
      "Topic #45: bind structure residue protein domain site activity rna interaction protease complex form show enzyme inhibitor substrate sequence mutant mm mutation loop structural region pro position\n",
      "\n",
      "Topic #46: ibv chicken group ace2 strain bird vaccine mouse cell show peptide ndv egg virus day challenge control study response s1 high epitope result kidney ang\n",
      "\n",
      "Topic #47: health public disease system country surveillance risk outbreak need include response national provide service information care report datum community plan global pandemic level resource policy\n",
      "\n",
      "Topic #48: calve animal milk herd cattle study diarrhea day farm rotavirus sample calf bovine cow feed group disease colostrum age high increase dairy treatment infection result\n",
      "\n",
      "Topic #49: activity plant cell effect acid extract compound inhibit show study protein drug treatment human report find production enzyme inhibition concentration include cancer high different lectin\n",
      "\n"
     ]
    }
   ],
   "source": [
    "tfidf_feature_names = tf_vectorizer.get_feature_names()\n",
    "print_top_words(lda_tf, tfidf_feature_names, 25)"
   ]
  },
  {
   "cell_type": "markdown",
   "metadata": {},
   "source": [
    "By manual inspection of the topics we see that there are some articles in languages other than English:\n",
    "- #4 = Italian\n",
    "- #8 = French\n",
    "- #11 = Spanish\n",
    "- #41 = German"
   ]
  },
  {
   "cell_type": "markdown",
   "metadata": {},
   "source": [
    "Determine how many documents there are that are assigned to the language topics, and show a preview"
   ]
  },
  {
   "cell_type": "code",
   "execution_count": 255,
   "metadata": {
    "ExecuteTime": {
     "end_time": "2020-03-29T19:19:17.280279Z",
     "start_time": "2020-03-29T19:19:17.275542Z"
    }
   },
   "outputs": [],
   "source": [
    "language_topics = {\n",
    "    'Italian': 4,\n",
    "    'French': 8,\n",
    "    'Spanish': 11,\n",
    "    'German': 41,\n",
    "}"
   ]
  },
  {
   "cell_type": "code",
   "execution_count": 324,
   "metadata": {
    "ExecuteTime": {
     "end_time": "2020-03-29T19:39:59.376985Z",
     "start_time": "2020-03-29T19:39:59.308298Z"
    }
   },
   "outputs": [
    {
     "name": "stdout",
     "output_type": "stream",
     "text": [
      "Italian   :  17\n",
      "French    : 321\n",
      "Spanish   : 281\n",
      "German    :  54\n"
     ]
    }
   ],
   "source": [
    "def count_docs_by_language_topic(top_n_topics=1):\n",
    "    for lang, lang_topic_idx in language_topics.items():\n",
    "        top_n = topic_dist_arr.argsort(axis=1)[:, -top_n_topics:]\n",
    "        doc_mask = np.sum(top_n == lang_topic_idx, axis=1).sum()\n",
    "        print(f\"{lang:10s}: {doc_mask.sum():3d}\")\n",
    "            \n",
    "\n",
    "count_docs_by_language_topic(top_n_topics=1)"
   ]
  },
  {
   "cell_type": "markdown",
   "metadata": {},
   "source": [
    "Preview widget by language"
   ]
  },
  {
   "cell_type": "code",
   "execution_count": 368,
   "metadata": {
    "ExecuteTime": {
     "end_time": "2020-03-29T19:59:13.887634Z",
     "start_time": "2020-03-29T19:59:13.798596Z"
    }
   },
   "outputs": [
    {
     "data": {
      "application/vnd.jupyter.widget-view+json": {
       "model_id": "91755078c1a34153b661232ac3aa9868",
       "version_major": 2,
       "version_minor": 0
      },
      "text/plain": [
       "interactive(children=(Dropdown(description='Language', options={'Italian': 4, 'French': 8, 'Spanish': 11, 'Ger…"
      ]
     },
     "metadata": {},
     "output_type": "display_data"
    }
   ],
   "source": [
    "@interact(\n",
    "    lang_topic_idx=widgets.Dropdown(\n",
    "        options=language_topics,\n",
    "        description='Language'),\n",
    "    top_n_topics=widgets.IntSlider(\n",
    "        value=1,\n",
    "        min=1,\n",
    "        max=topic_dist_arr.shape[1],\n",
    "        description='Top N topics'),\n",
    ")\n",
    "def preview_docs_by_language(lang_topic_idx, top_n_topics):\n",
    "    top_n = topic_dist_arr.argsort(axis=1)[:, -top_n_topics:]\n",
    "    doc_mask = np.sum(top_n == lang_topic_idx, axis=1)\n",
    "    doc_ids = np.where(doc_mask)[0]\n",
    "    n_docs = len(doc_ids)\n",
    "    print(f\">>> {n_docs} documents found\")\n",
    "    per_page=20\n",
    "    n_pages = np.ceil(n_docs / per_page).astype(int)\n",
    "    @interact(\n",
    "        which_page=widgets.IntSlider(\n",
    "            value=1,\n",
    "            min=1,\n",
    "            max=n_pages,\n",
    "            description=f\"Page (of {n_pages})\",\n",
    "        ),\n",
    "    )\n",
    "    def show_page(which_page):\n",
    "        n_start = (which_page - 1) * per_page\n",
    "        n_end = n_start + per_page\n",
    "        ids = doc_ids[n_start:n_end]\n",
    "        for i, idx in enumerate(ids):\n",
    "            text = all_texts[idx][:80].replace('\\n', ' ')\n",
    "            print(f\"# {n_start + i+1:2d}: {text} [...]\")"
   ]
  },
  {
   "cell_type": "markdown",
   "metadata": {},
   "source": [
    "## Get Nearest Papers (in Topic Space)"
   ]
  },
  {
   "cell_type": "code",
   "execution_count": 33,
   "metadata": {
    "ExecuteTime": {
     "end_time": "2020-04-01T09:34:03.256443Z",
     "start_time": "2020-04-01T09:32:01.939244Z"
    }
   },
   "outputs": [],
   "source": [
    "convid19_kw = [\n",
    "    'COVID-19',\n",
    "    'SARS-CoV-2',\n",
    "    '2019-nCov',\n",
    "    'SARS Coronavirus 2',\n",
    "    '2019 Novel Coronavirus',\n",
    "]\n",
    "df['is_covid19_article'] = df.body_text.str.contains('|'.join(convid19_kw), case=False)"
   ]
  },
  {
   "cell_type": "code",
   "execution_count": 36,
   "metadata": {
    "ExecuteTime": {
     "end_time": "2020-04-01T09:34:07.546843Z",
     "start_time": "2020-04-01T09:34:07.538766Z"
    }
   },
   "outputs": [],
   "source": [
    "def get_k_nearest_docs(\n",
    "    doc_dist,\n",
    "    k=5,\n",
    "    lower=1950,\n",
    "    upper=2020,\n",
    "    only_covid19=False,\n",
    "    get_dist=False):\n",
    "    \n",
    "    \"\"\"Given a document LDA distribution determine the k nearest documents\n",
    "    \n",
    "    Parameters\n",
    "    ----------\n",
    "    doc_dist : array_like\n",
    "        topic distribution (sums to 1) of one article\n",
    "    \n",
    "    Return\n",
    "    ------\n",
    "    Returns the index of the k nearest articles (as by Jensen–Shannon\n",
    "    divergence in topic space). \n",
    "    \"\"\"\n",
    "    \n",
    "    relevant_time = df.publish_year.between(lower, upper)\n",
    "    \n",
    "    if only_covid19:\n",
    "        topic_dist_temp = topic_dist[relevant_time & df.is_covid19_article]\n",
    "    else:\n",
    "        topic_dist_temp = topic_dist[relevant_time]\n",
    "         \n",
    "    distances = topic_dist_temp.apply(lambda x: jensenshannon(x, doc_dist), axis=1)\n",
    "    k_distances = distances[distances != 0].nsmallest(n=k)\n",
    "    k_nearest = k_distances.index\n",
    "    \n",
    "    if get_dist:\n",
    "        return k_nearest, k_distances\n",
    "    else:\n",
    "        return k_nearest"
   ]
  },
  {
   "cell_type": "code",
   "execution_count": 39,
   "metadata": {
    "ExecuteTime": {
     "end_time": "2020-04-01T09:34:53.605000Z",
     "start_time": "2020-04-01T09:34:51.458903Z"
    }
   },
   "outputs": [
    {
     "data": {
      "text/plain": [
       "Int64Index([2398, 2993, 10412, 2852, 2737], dtype='int64')"
      ]
     },
     "execution_count": 39,
     "metadata": {},
     "output_type": "execute_result"
    }
   ],
   "source": [
    "d = get_k_nearest_docs(topic_dist[df.paper_id == '90b5ecf991032f3918ad43b252e17d1171b4ea63'].iloc[0])\n",
    "d\n",
    "# sb.kdeplot(d)"
   ]
  },
  {
   "cell_type": "code",
   "execution_count": 40,
   "metadata": {
    "ExecuteTime": {
     "end_time": "2020-04-01T09:34:55.135293Z",
     "start_time": "2020-04-01T09:34:55.124815Z"
    }
   },
   "outputs": [],
   "source": [
    "def plot_article_dna(paper_id, width=12):\n",
    "    t = df[df.paper_id == paper_id].title.values[0]\n",
    "    topic_dist[df.paper_id == paper_id].T.plot(kind='bar', legend=None, title=t, figsize=(width, 5))\n",
    "    plt.xlabel('Topic')\n",
    "\n",
    "    \n",
    "def compare_dnas(paper_id, recommendation_id, width=12):\n",
    "    t = df[df.paper_id == recommendation_id].title.values[0]\n",
    "    title_max_len = 100\n",
    "    if len(t) > title_max_len - 6:\n",
    "        t = t[:title_max_len - 6] + \" [...]\"\n",
    "    temp = topic_dist[df.paper_id == paper_id]\n",
    "    temp = pd.concat([temp, topic_dist[df.paper_id == recommendation_id]])\n",
    "    temp.T.plot(kind='bar', title=t, figsize=(width, 5), ylim= [0, 1])\n",
    "    plt.xlabel('Topic')\n",
    "    plt.legend(['Selection', 'Recommendation'])\n",
    "    plt.show()"
   ]
  },
  {
   "cell_type": "code",
   "execution_count": 41,
   "metadata": {
    "ExecuteTime": {
     "end_time": "2020-04-01T09:34:57.343843Z",
     "start_time": "2020-04-01T09:34:56.696524Z"
    }
   },
   "outputs": [
    {
     "data": {
      "image/png": "[encoded data removed]",
      "text/plain": [
       "<Figure size 864x360 with 1 Axes>"
      ]
     },
     "metadata": {},
     "output_type": "display_data"
    }
   ],
   "source": [
    "compare_dnas('90b5ecf991032f3918ad43b252e17d1171b4ea63', 'a137eb51461b4a4ed3980aa5b9cb2f2c1cf0292a')"
   ]
  },
  {
   "cell_type": "markdown",
   "metadata": {},
   "source": [
    "## Search related papers to a chosen one"
   ]
  },
  {
   "cell_type": "code",
   "execution_count": 385,
   "metadata": {
    "ExecuteTime": {
     "end_time": "2020-03-29T20:12:18.565827Z",
     "start_time": "2020-03-29T20:12:18.554731Z"
    }
   },
   "outputs": [],
   "source": [
    "def dna_tabs(paper_ids):\n",
    "    k = len(paper_ids)\n",
    "    outs = [widgets.Output() for i in range(k)]\n",
    "\n",
    "    tab = widgets.Tab(children = outs)\n",
    "    tab_titles = ['Paper ' + str(i+1) for i in range(k)]\n",
    "    for i, t in enumerate(tab_titles):\n",
    "        tab.set_title(i, t)\n",
    "    display(tab)\n",
    "\n",
    "    for i, t in enumerate(tab_titles):\n",
    "        with outs[i]:\n",
    "            ax = plot_article_dna(paper_ids[i])\n",
    "            plt.show(ax)\n",
    "\n",
    "            \n",
    "def compare_tabs(paper_id, recommendation_ids):\n",
    "    k = len(recommendation_ids)\n",
    "    outs = [widgets.Output() for i in range(k)]\n",
    "\n",
    "    tab = widgets.Tab(children = outs)\n",
    "    tab_titles = ['Paper ' + str(i+1) for i in range(k)]\n",
    "    for i, t in enumerate(tab_titles):\n",
    "        tab.set_title(i, t)\n",
    "    display(tab)\n",
    "\n",
    "    for i, t in enumerate(tab_titles):\n",
    "        with outs[i]:\n",
    "            compare_dnas(paper_id, recommendation_ids[i])"
   ]
  },
  {
   "cell_type": "code",
   "execution_count": 386,
   "metadata": {
    "ExecuteTime": {
     "end_time": "2020-03-29T20:12:19.278358Z",
     "start_time": "2020-03-29T20:12:19.269779Z"
    }
   },
   "outputs": [],
   "source": [
    "def recommendation(paper_id, k=5, lower=1950, upper=2020, only_covid19=False, plot_dna=False):\n",
    "    '''\n",
    "    Returns the title of the k papers that are closest (topic-wise) to the paper given by paper_id.\n",
    "    '''\n",
    "    \n",
    "    print(df.title[df.paper_id == paper_id].values[0])\n",
    "\n",
    "    recommended, dist = get_k_nearest_docs(topic_dist[df.paper_id == paper_id].iloc[0], k, lower, upper, only_covid19, get_dist=True)\n",
    "    recommended = df.iloc[recommended].copy()\n",
    "    recommended['similarity'] = 1 - dist \n",
    "    \n",
    "    h = '<br/>'.join(['<a href=\"' + l + '\" target=\"_blank\">'+ n + '</a>' +' (Similarity: ' + \"{:.2f}\".format(s) + ')' for l, n, s in recommended[['link','title', 'similarity']].values])\n",
    "    display(HTML(h))\n",
    "    \n",
    "    if plot_dna:\n",
    "        compare_tabs(paper_id, recommended.paper_id.values)"
   ]
  },
  {
   "cell_type": "code",
   "execution_count": 443,
   "metadata": {
    "ExecuteTime": {
     "end_time": "2020-03-30T12:02:31.796008Z",
     "start_time": "2020-03-30T12:02:26.525687Z"
    }
   },
   "outputs": [
    {
     "name": "stdout",
     "output_type": "stream",
     "text": [
      "The effect of inhibition of PP1 and TNFα signaling on pathogenesis of SARS coronavirus\n"
     ]
    },
    {
     "data": {
      "text/html": [
       "<a href=\"http://dx.doi.org/10.1371/journal.pone.0126843\" target=\"_blank\">Multiplexed Component Analysis to Identify Genes Contributing to the Immune Response during Acute SIV Infection</a> (Similarity: 0.73)<br/><a href=\"http://dx.doi.org/10.1534/g3.117.041624\" target=\"_blank\">Oas1b-dependent Immune Transcriptional Profiles of West Nile Virus Infection in the Collaborative Cross</a> (Similarity: 0.70)<br/><a href=\"http://dx.doi.org/10.1128/mBio.00271-13\" target=\"_blank\">Mechanisms of Severe Acute Respiratory Syndrome Coronavirus-Induced Acute Lung Injury</a> (Similarity: 0.69)<br/><a href=\"http://dx.doi.org/10.1186/1471-2164-15-1161\" target=\"_blank\">Cytokine systems approach demonstrates differences in innate and pro-inflammatory host responses between genetically distinct MERS-CoV isolates</a> (Similarity: 0.67)<br/><a href=\"http://dx.doi.org/10.1016/j.virusres.2013.02.011\" target=\"_blank\">Moving H5N1 studies into the era of systems biology</a> (Similarity: 0.65)"
      ],
      "text/plain": [
       "<IPython.core.display.HTML object>"
      ]
     },
     "metadata": {},
     "output_type": "display_data"
    },
    {
     "data": {
      "application/vnd.jupyter.widget-view+json": {
       "model_id": "900a23d837754ea0aa8300cb8820162f",
       "version_major": 2,
       "version_minor": 0
      },
      "text/plain": [
       "Tab(children=(Output(), Output(), Output(), Output(), Output()), _titles={'0': 'Paper 1', '1': 'Paper 2', '2':…"
      ]
     },
     "metadata": {},
     "output_type": "display_data"
    }
   ],
   "source": [
    "recommendation(\n",
    "    'a137eb51461b4a4ed3980aa5b9cb2f2c1cf0292a',\n",
    "    k=5,\n",
    "    lower=2005,\n",
    "    upper=2018,\n",
    "    only_covid19=False,\n",
    "    plot_dna=True)"
   ]
  },
  {
   "cell_type": "code",
   "execution_count": 388,
   "metadata": {
    "ExecuteTime": {
     "end_time": "2020-03-29T20:12:41.713369Z",
     "start_time": "2020-03-29T20:12:24.952065Z"
    }
   },
   "outputs": [
    {
     "name": "stdout",
     "output_type": "stream",
     "text": [
      "The effect of inhibition of PP1 and TNFα signaling on pathogenesis of SARS coronavirus\n"
     ]
    },
    {
     "data": {
      "text/html": [
       "<a href=\"http://dx.doi.org/10.1101/2020.02.27.967885\" target=\"_blank\">Prediction of receptorome for human-infecting virome</a> (Similarity: 0.56)<br/><a href=\"http://dx.doi.org/10.1101/2020.01.26.919985\" target=\"_blank\">Single-cell RNA expression profiling of ACE2, the putative receptor of Wuhan 2019-nCov</a> (Similarity: 0.54)<br/><a href=\"http://dx.doi.org/10.1101/2020.02.27.967588\" target=\"_blank\">TWIRLS, an automated topic-wise inference method based on massive literature, suggests a possible mechanism via ACE2 for the pathological changes in the human host after coronavirus infection</a> (Similarity: 0.53)<br/><a href=\"http://dx.doi.org/10.1101/2020.02.19.957118\" target=\"_blank\">Mucin 4 Protects Female Mice from Coronavirus Pathogenesis</a> (Similarity: 0.51)<br/><a href=\"http://dx.doi.org/10.1101/2020.02.24.20025437\" target=\"_blank\">TWIRLS, an automated topic-wise inference method based on massive literature, suggests a possible mechanism via ACE2 for the pathological changes in the human host after coronavirus infection</a> (Similarity: 0.50)"
      ],
      "text/plain": [
       "<IPython.core.display.HTML object>"
      ]
     },
     "metadata": {},
     "output_type": "display_data"
    },
    {
     "data": {
      "application/vnd.jupyter.widget-view+json": {
       "model_id": "aef833ca483041e8847dc19a95c76609",
       "version_major": 2,
       "version_minor": 0
      },
      "text/plain": [
       "Tab(children=(Output(), Output(), Output(), Output(), Output()), _titles={'0': 'Paper 1', '1': 'Paper 2', '2':…"
      ]
     },
     "metadata": {},
     "output_type": "display_data"
    }
   ],
   "source": [
    "recommendation('a137eb51461b4a4ed3980aa5b9cb2f2c1cf0292a', k=5, only_covid19=True, plot_dna=True)"
   ]
  },
  {
   "cell_type": "code",
   "execution_count": 205,
   "metadata": {
    "ExecuteTime": {
     "end_time": "2020-03-29T16:14:39.553365Z",
     "start_time": "2020-03-29T16:14:34.304034Z"
    }
   },
   "outputs": [
    {
     "name": "stdout",
     "output_type": "stream",
     "text": [
      "The role of absolute humidity on transmission rates of the COVID-19 outbreak\n"
     ]
    },
    {
     "data": {
      "text/html": [
       "<a href=\"http://dx.doi.org/10.1101/2020.02.14.20022913\" target=\"_blank\">Estimating the Efficacy of Traffic Blockage and Quarantine for the Epidemic Caused by 2019-nCoV (COVID-19)</a> (Similarity: 0.81)<br/><a href=\"http://dx.doi.org/10.1101/461285\" target=\"_blank\">Real-time projections of epidemic transmission and estimation of vaccination impact during an Ebola virus disease outbreak in Northeastern Democratic Republic of Congo</a> (Similarity: 0.81)<br/><a href=\"http://dx.doi.org/10.3390/ijerph7010291\" target=\"_blank\">Correcting the Actual Reproduction Number: A Simple Method to Estimate R(0) from Early Epidemic Growth Data</a> (Similarity: 0.79)<br/><a href=\"http://dx.doi.org/10.1101/2020.03.08.20032847\" target=\"_blank\">Prediction of COVID-19 Spreading Profiles in South Korea, Italy and Iran by Data-Driven Coding</a> (Similarity: 0.79)<br/><a href=\"http://dx.doi.org/10.1101/2020.02.26.20027797\" target=\"_blank\">Relations of parameters for describing the epidemic of COVID―19 by the Kermack―McKendrick model</a> (Similarity: 0.79)"
      ],
      "text/plain": [
       "<IPython.core.display.HTML object>"
      ]
     },
     "metadata": {},
     "output_type": "display_data"
    },
    {
     "data": {
      "application/vnd.jupyter.widget-view+json": {
       "model_id": "b10414c9ee5d4b5ba4a3478336131268",
       "version_major": 2,
       "version_minor": 0
      },
      "text/plain": [
       "Tab(children=(Output(), Output(), Output(), Output(), Output()), _titles={'0': 'Paper 1', '1': 'Paper 2', '2':…"
      ]
     },
     "metadata": {},
     "output_type": "display_data"
    }
   ],
   "source": [
    "recommendation('90b5ecf991032f3918ad43b252e17d1171b4ea63', k=5, only_covid19=False, plot_dna=True)"
   ]
  },
  {
   "cell_type": "code",
   "execution_count": 206,
   "metadata": {
    "ExecuteTime": {
     "end_time": "2020-03-29T16:14:56.720043Z",
     "start_time": "2020-03-29T16:14:39.555391Z"
    }
   },
   "outputs": [
    {
     "name": "stdout",
     "output_type": "stream",
     "text": [
      "Potential inhibitors for 2019-nCoV coronavirus M protease from clinically approved medicines\n"
     ]
    },
    {
     "data": {
      "text/html": [
       "<a href=\"http://dx.doi.org/10.1016/j.lfs.2020.117477\" target=\"_blank\">Anti-HCV, nucleotide inhibitors, repurposing against COVID-19</a> (Similarity: 0.69)<br/><a href=\"http://dx.doi.org/10.1101/2020.03.15.991844\" target=\"_blank\">RBD mutations from circulating SARS-CoV-2 strains enhance the structure stability and infectivity of the spike protein</a> (Similarity: 0.64)<br/><a href=\"http://dx.doi.org/10.1101/2020.03.04.976027\" target=\"_blank\">In silico study of the spike protein from SARS-CoV-2 interaction with ACE2: similarity with SARS-CoV, hot-spot analysis and effect of the receptor polymorphism</a> (Similarity: 0.61)<br/><a href=\"http://dx.doi.org/10.1101/2020.03.02.968388\" target=\"_blank\">Crystal structure of Nsp15 endoribonuclease NendoU from SARS-CoV-2</a> (Similarity: 0.60)<br/><a href=\"http://dx.doi.org/10.1101/2020.01.31.929695\" target=\"_blank\">Molecular Modeling Evaluation of the Binding Effect of Ritonavir, Lopinavir and Darunavir to Severe Acute Respiratory Syndrome Coronavirus 2 Proteases</a> (Similarity: 0.60)"
      ],
      "text/plain": [
       "<IPython.core.display.HTML object>"
      ]
     },
     "metadata": {},
     "output_type": "display_data"
    },
    {
     "data": {
      "application/vnd.jupyter.widget-view+json": {
       "model_id": "a47b5c68a6894ca480ab8da24f4953d5",
       "version_major": 2,
       "version_minor": 0
      },
      "text/plain": [
       "Tab(children=(Output(), Output(), Output(), Output(), Output()), _titles={'0': 'Paper 1', '1': 'Paper 2', '2':…"
      ]
     },
     "metadata": {},
     "output_type": "display_data"
    }
   ],
   "source": [
    "recommendation('c04c7fb330a409a00f67040dde0f83b3da88eacb', k=5, only_covid19=True, plot_dna=True)"
   ]
  },
  {
   "cell_type": "code",
   "execution_count": 207,
   "metadata": {
    "ExecuteTime": {
     "end_time": "2020-03-29T16:15:01.988653Z",
     "start_time": "2020-03-29T16:14:56.722015Z"
    }
   },
   "outputs": [
    {
     "name": "stdout",
     "output_type": "stream",
     "text": [
      "Estimation of the epidemic properties of the 2019 novel coronavirus: A mathematical modeling study\n"
     ]
    },
    {
     "data": {
      "text/html": [
       "<a href=\"http://dx.doi.org/10.1371/journal.pcbi.1005210\" target=\"_blank\">Spatiotemporal Analysis of the 2014 Ebola Epidemic in West Africa</a> (Similarity: 0.90)<br/><a href=\"http://dx.doi.org/10.1101/2020.03.05.20031088\" target=\"_blank\">Modeling the Comparative Impact of Individual Quarantine vs. Active Monitoring of Contacts for the Mitigation of COVID-19</a> (Similarity: 0.90)<br/><a href=\"http://dx.doi.org/10.1101/2020.02.18.20024414\" target=\"_blank\">Effective containment explains sub-exponential growth in confirmed cases of recent COVID-19 outbreak in Mainland China</a> (Similarity: 0.88)<br/><a href=\"http://dx.doi.org/10.1101/2020.02.12.20022426\" target=\"_blank\">Interventions targeting air travellers early in the pandemic may delay local outbreaks of SARS-CoV-2</a> (Similarity: 0.88)<br/><a href=\"http://dx.doi.org/10.1371/journal.pone.0140651\" target=\"_blank\">Evaluating Subcriticality during the Ebola Epidemic in West Africa</a> (Similarity: 0.88)"
      ],
      "text/plain": [
       "<IPython.core.display.HTML object>"
      ]
     },
     "metadata": {},
     "output_type": "display_data"
    },
    {
     "data": {
      "application/vnd.jupyter.widget-view+json": {
       "model_id": "8abffc66a2a640fd90213e8a1b8bdb50",
       "version_major": 2,
       "version_minor": 0
      },
      "text/plain": [
       "Tab(children=(Output(), Output(), Output(), Output(), Output()), _titles={'0': 'Paper 1', '1': 'Paper 2', '2':…"
      ]
     },
     "metadata": {},
     "output_type": "display_data"
    }
   ],
   "source": [
    "recommendation('36521caf90f471c9da1a4e84f8562440d73ead9a', k=5, plot_dna=True)"
   ]
  },
  {
   "cell_type": "markdown",
   "metadata": {},
   "source": [
    "## Widget: Pick a COVID-19-Paper"
   ]
  },
  {
   "cell_type": "code",
   "execution_count": 28,
   "metadata": {
    "ExecuteTime": {
     "end_time": "2020-04-01T09:31:28.837227Z",
     "start_time": "2020-04-01T09:31:28.820379Z"
    }
   },
   "outputs": [],
   "source": [
    "def related_papers():\n",
    "    \"\"\"\n",
    "    Creates a widget where you can select one of many papers about covid-19\n",
    "    and then displays related articles from the whole dataset.\n",
    "    \"\"\"\n",
    "    covid_query = 'COVID-19|SARS-CoV-2|2019-nCov|SARS Coronavirus 2|2019 Novel Coronavirus'  # are there more names?\n",
    "    covid_papers = df[df.body_text.str.contains(covid_query)][['paper_id', 'title']]\n",
    "    title_to_id = covid_papers.set_index('title')['paper_id'].to_dict()\n",
    "    \n",
    "    def main_function(bullet, k=5, year_range=[1950, 2020], only_covid19=False):\n",
    "        recommendation(\n",
    "            title_to_id[bullet],\n",
    "            k,\n",
    "            lower=year_range[0],\n",
    "            upper=year_range[1],\n",
    "            only_covid19=only_covid19)\n",
    "    \n",
    "    yearW = widgets.IntRangeSlider(\n",
    "        min=1950,\n",
    "        max=2020,\n",
    "        value=[2010, 2020],\n",
    "        description='Year Range',\n",
    "        continuous_update=False,\n",
    "        layout=widgets.Layout(width='40%'))\n",
    "    covidW = widgets.Checkbox(\n",
    "        value=False,\n",
    "        description='Only COVID-19-Papers',\n",
    "        disabled=False,\n",
    "        indent=False,\n",
    "        layout=widgets.Layout(width='20%'))\n",
    "    kWidget = widgets.IntSlider(\n",
    "        value=10,\n",
    "        description='k',\n",
    "        max=50,\n",
    "        min=1,\n",
    "        layout=widgets.Layout(width='20%'),\n",
    "        continuous_uptdate=False)\n",
    "    bulletW = widgets.Select(\n",
    "        options=title_to_id.keys(),\n",
    "        layout=widgets.Layout(width='90%', height='200px'),\n",
    "        description='Title:')\n",
    "    widget = widgets.interactive(\n",
    "        main_function,\n",
    "        bullet=bulletW,\n",
    "        k=kWidget,\n",
    "        year_range=yearW,\n",
    "        only_covid19=covidW)\n",
    "\n",
    "    controls = widgets.VBox(\n",
    "        [\n",
    "            widgets.Box(\n",
    "                children=[\n",
    "                    widget.children[:-1][1],\n",
    "                    widget.children[:-1][2],\n",
    "                    widget.children[:-1][3]],\n",
    "                layout=widgets.Layout(justify_content='space-around')),\n",
    "            widget.children[:-1][0]\n",
    "        ])\n",
    "    output = widget.children[-1]\n",
    "    display(widgets.VBox([controls, output]))"
   ]
  },
  {
   "cell_type": "code",
   "execution_count": 29,
   "metadata": {
    "ExecuteTime": {
     "end_time": "2020-04-01T09:31:43.702374Z",
     "start_time": "2020-04-01T09:31:29.955015Z"
    },
    "scrolled": false
   },
   "outputs": [
    {
     "data": {
      "application/vnd.jupyter.widget-view+json": {
       "model_id": "2634220c98574c92b118b4134de391c2",
       "version_major": 2,
       "version_minor": 0
      },
      "text/plain": [
       "VBox(children=(VBox(children=(Box(children=(IntSlider(value=10, description='k', layout=Layout(width='20%'), m…"
      ]
     },
     "metadata": {},
     "output_type": "display_data"
    }
   ],
   "source": [
    "related_papers()"
   ]
  },
  {
   "cell_type": "markdown",
   "metadata": {},
   "source": [
    "## Browse Tasks"
   ]
  },
  {
   "cell_type": "markdown",
   "metadata": {},
   "source": [
    "We can now also map a task or bullet point into the topic space and find related articles that might help to solve the question at hand.\n",
    "\n",
    "Note: Some of the bullet points are very short - results might not be reliable in this case."
   ]
  },
  {
   "cell_type": "code",
   "execution_count": 30,
   "metadata": {
    "ExecuteTime": {
     "end_time": "2020-04-01T09:31:47.925868Z",
     "start_time": "2020-04-01T09:31:47.908267Z"
    }
   },
   "outputs": [],
   "source": [
    "task1 = [\n",
    "    \"Range of incubation periods for the disease in humans (and how this varies across age and health status) and how long individuals are contagious, even after recovery.\",\n",
    "\"Prevalence of asymptomatic shedding and transmission (e.g., particularly children).\",\n",
    "\"Seasonality of transmission.\",\n",
    "\"Physical science of the coronavirus (e.g., charge distribution, adhesion to hydrophilic/phobic surfaces, environmental survival to inform decontamination efforts for affected areas and provide information about viral shedding).\",\n",
    "\"Persistence and stability on a multitude of substrates and sources (e.g., nasal discharge, sputum, urine, fecal matter, blood).\",\n",
    "\"Persistence of virus on surfaces of different materials (e,g., copper, stainless steel, plastic).\",\n",
    "\"Natural history of the virus and shedding of it from an infected person\",\n",
    "\"Implementation of diagnostics and products to improve clinical processes\",\n",
    "\"Disease models, including animal models for infection, disease and transmission\",\n",
    "\"Tools and studies to monitor phenotypic change and potential adaptation of the virus\",\n",
    "\"Immune response and immunity\",\n",
    "\"Effectiveness of movement control strategies to prevent secondary transmission in health care and community settings\",\n",
    " \"Effectiveness of personal protective equipment (PPE) and its usefulness to reduce risk of transmission in health care and community settings\",\n",
    "\"Role of the environment in transmission\"]\n",
    "\n",
    "task2 = ['Data on potential risks factors',\n",
    "'Smoking, pre-existing pulmonary disease',\n",
    "'Co-infections (determine whether co-existing respiratory/viral infections make the virus more transmissible or virulent) and other co-morbidities',\n",
    "'Neonates and pregnant women',\n",
    "'Socio-economic and behavioral factors to understand the economic impact of the virus and whether there were differences.',\n",
    "'Transmission dynamics of the virus, including the basic reproductive number, incubation period, serial interval, modes of transmission and environmental factors', \n",
    "'Severity of disease, including risk of fatality among symptomatic hospitalized patients, and high-risk patient groups',\n",
    "'Susceptibility of populations',\n",
    "'Public health mitigation measures that could be effective for control']\n",
    "\n",
    "task3 = ['Real-time tracking of whole genomes and a mechanism for coordinating the rapid dissemination of that information to inform the development of diagnostics and therapeutics and to track variations of the virus over time.',\n",
    "'Access to geographic and temporal diverse sample sets to understand geographic distribution and genomic differences, and determine whether there is more than one strain in circulation. Multi-lateral agreements such as the Nagoya Protocol could be leveraged.',\n",
    "'Evidence that livestock could be infected (e.g., field surveillance, genetic sequencing, receptor binding) and serve as a reservoir after the epidemic appears to be over.',\n",
    "'Evidence of whether farmers are infected, and whether farmers could have played a role in the origin.',\n",
    "'Surveillance of mixed wildlife- livestock farms for SARS-CoV-2 and other coronaviruses in Southeast Asia.',\n",
    "'Experimental infections to test host range for this pathogen.',\n",
    "'Animal host(s) and any evidence of continued spill-over to humans',\n",
    "'Socioeconomic and behavioral risk factors for this spill-over',\n",
    "'Sustainable risk reduction strategies']\n",
    "\n",
    "task4 = [\"Guidance on ways to scale up NPIs in a more coordinated way (e.g., establish funding, infrastructure and authorities to support real time, authoritative (qualified participants) collaboration with all states to gain consensus on consistent guidance and to mobilize resources to geographic areas where critical shortfalls are identified) to give us time to enhance our health care delivery system capacity to respond to an increase in cases.\",\n",
    "\"Rapid design and execution of experiments to examine and compare NPIs currently being implemented. DHS Centers for Excellence could potentially be leveraged to conduct these experiments.\",\n",
    "\"Rapid assessment of the likely efficacy of school closures, travel bans, bans on mass gatherings of various sizes, and other social distancing approaches.\",\n",
    "\"Methods to control the spread in communities, barriers to compliance and how these vary among different populations..\",\n",
    "\"Models of potential interventions to predict costs and benefits that take account of such factors as race, income, disability, age, geographic location, immigration status, housing status, employment status, and health insurance status.\",\n",
    "\"Policy changes necessary to enable the compliance of individuals with limited resources and the underserved with NPIs.\",\n",
    "\"Research on why people fail to comply with public health advice, even if they want to do so (e.g., social or financial costs may be too high).\",\n",
    "\"Research on the economic impact of this or any pandemic. This would include identifying policy and programmatic alternatives that lessen/mitigate risks to critical government services, food distribution and supplies, access to critical household supplies, and access to health diagnoses, treatment, and needed care, regardless of ability to pay.\"]\n",
    "\n",
    "task5 = [\"Effectiveness of drugs being developed and tried to treat COVID-19 patients. Clinical and bench trials to investigate less common viral inhibitors against COVID-19 such as naproxen, clarithromycin, and minocyclinethat that may exert effects on viral replication.\",\n",
    "\"Methods evaluating potential complication of Antibody-Dependent Enhancement (ADE) in vaccine recipients.\",\n",
    "\"Exploration of use of best animal models and their predictive value for a human vaccine.\",\n",
    "\"Capabilities to discover a therapeutic (not vaccine) for the disease, and clinical effectiveness studies to discover therapeutics, to include antiviral agents.\",\n",
    "\"Alternative models to aid decision makers in determining how to prioritize and distribute scarce, newly proven therapeutics as production ramps up. This could include identifying approaches for expanding production capacity to ensure equitable and timely distribution to populations in need.\",\n",
    "\"Efforts targeted at a universal coronavirus vaccine.\",\n",
    "\"Efforts to develop animal models and standardize challenge studies\",\n",
    "\"Efforts to develop prophylaxis clinical studies and prioritize in healthcare workers\",\n",
    "\"Approaches to evaluate risk for enhanced disease after vaccination\",\n",
    "\"Assays to evaluate vaccine immune response and process development for vaccines, alongside suitable animal models [in conjunction with therapeutics]\"]\n",
    "\n",
    "task6 = [\"Efforts to articulate and translate existing ethical principles and standards to salient issues in COVID-2019\", \n",
    "\"Efforts to embed ethics across all thematic areas, engage with novel ethical issues that arise and coordinate to minimize duplication of oversight\",\n",
    "\"Efforts to support sustained education, access, and capacity building in the area of ethics\",\n",
    "\"Efforts to establish a team at WHO that will be integrated within multidisciplinary research and operational platforms and that will connect with existing and expanded global networks of social sciences.\",\n",
    "\"Efforts to develop qualitative assessment frameworks to systematically collect information related to local barriers and enablers for the uptake and adherence to public health measures for prevention and control. This includes the rapid identification of the secondary impacts of these measures. (e.g. use of surgical masks, modification of health seeking behaviors for SRH, school closures)\",\n",
    "\"Efforts to identify how the burden of responding to the outbreak and implementing public health measures affects the physical and psychological health of those providing care for Covid-19 patients and identify the immediate needs that must be addressed.\",\n",
    "\"Efforts to identify the underlying drivers of fear, anxiety and stigma that fuel misinformation and rumor, particularly through social media.\"]\n",
    "\n",
    "task7 = [\"How widespread current exposure is to be able to make immediate policy recommendations on mitigation measures. Denominators for testing and a mechanism for rapidly sharing that information, including demographics, to the extent possible. Sampling methods to determine asymptomatic disease (e.g., use of serosurveys (such as convalescent samples) and early detection of disease (e.g., use of screening of neutralizing antibodies such as ELISAs).\",\n",
    "\"Efforts to increase capacity on existing diagnostic platforms and tap into existing surveillance platforms.\",\n",
    "\"Recruitment, support, and coordination of local expertise and capacity (public, private—commercial, and non-profit, including academic), including legal, ethical, communications, and operational issues.\",\n",
    "\"National guidance and guidelines about best practices to states (e.g., how states might leverage universities and private laboratories for testing purposes, communications to public health officials and the public).\",\n",
    "\"Development of a point-of-care test (like a rapid influenza test) and rapid bed-side tests, recognizing the tradeoffs between speed, accessibility, and accuracy.\",\n",
    "\"Rapid design and execution of targeted surveillance experiments calling for all potential testers using PCR in a defined area to start testing and report to a specific entity. These experiments could aid in collecting longitudinal samples, which are critical to understanding the impact of ad hoc local interventions (which also need to be recorded).\",\n",
    "\"Separation of assay development issues from instruments, and the role of the private sector to help quickly migrate assays onto those devices.\",\n",
    "\"Efforts to track the evolution of the virus (i.e., genetic drift or mutations) and avoid locking into specific reagents and surveillance/detection schemes.\",\n",
    "\"Latency issues and when there is sufficient viral load to detect the pathogen, and understanding of what is needed in terms of biological and environmental sampling.\",\n",
    "\"Use of diagnostics such as host response markers (e.g., cytokines) to detect early disease or predict severe disease progression, which would be important to understanding best clinical practice and efficacy of therapeutic interventions.\",\n",
    "\"Policies and protocols for screening and testing.\",\n",
    "\"Policies to mitigate the effects on supplies associated with mass testing, including swabs and reagents.\",\n",
    "\"Technology roadmap for diagnostics.\",\n",
    "\"Barriers to developing and scaling up new diagnostic tests (e.g., market forces), how future coalition and accelerator models (e.g., Coalition for Epidemic Preparedness Innovations) could provide critical funding for diagnostics, and opportunities for a streamlined regulatory environment.\",\n",
    "\"New platforms and technology (e.g., CRISPR) to improve response times and employ more holistic approaches to COVID-19 and future diseases.\",\n",
    "\"Coupling genomics and diagnostic testing on a large scale.\",\n",
    "\"Enhance capabilities for rapid sequencing and bioinformatics to target regions of the genome that will allow specificity for a particular variant.\",\n",
    "\"Enhance capacity (people, technology, data) for sequencing with advanced analytics for unknown pathogens, and explore capabilities for distinguishing naturally-occurring pathogens from intentional.\",\n",
    "\"One Health surveillance of humans and potential sources of future spillover or ongoing exposure for this organism and future pathogens, including both evolutionary hosts (e.g., bats) and transmission hosts (e.g., heavily trafficked and farmed wildlife and domestic food and companion species), inclusive of environmental, demographic, and occupational risk factors.\"]\n",
    "\n",
    "task8 = [\"Resources to support skilled nursing facilities and long term care facilities.\",\n",
    "\"Mobilization of surge medical staff to address shortages in overwhelmed communities\",\n",
    "\"Age-adjusted mortality data for Acute Respiratory Distress Syndrome (ARDS) with/without other organ failure – particularly for viral etiologies\",\n",
    "\"Extracorporeal membrane oxygenation (ECMO) outcomes data of COVID-19 patients\",\n",
    "\"Outcomes data for COVID-19 after mechanical ventilation adjusted for age.\",\n",
    "\"Knowledge of the frequency, manifestations, and course of extrapulmonary manifestations of COVID-19, including, but not limited to, possible cardiomyopathy and cardiac arrest.\",\n",
    "\"Application of regulatory standards (e.g., EUA, CLIA) and ability to adapt care to crisis standards of care level.\",\n",
    "\"Approaches for encouraging and facilitating the production of elastomeric respirators, which can save thousands of N95 masks.\",\n",
    "\"Best telemedicine practices, barriers and faciitators, and specific actions to remove/expand them within and across state boundaries.\",\n",
    "\"Guidance on the simple things people can do at home to take care of sick people and manage disease.\",\n",
    "\"Oral medications that might potentially work.\",\n",
    "\"Use of AI in real-time health care delivery to evaluate interventions, risk factors, and outcomes in a way that could not be done manually.\",\n",
    "\"Best practices and critical challenges and innovative solutions and technologies in hospital flow and organization, workforce protection, workforce allocation, community-based support resources, payment, and supply chain management to enhance capacity, efficiency, and outcomes.\",\n",
    "\"Efforts to define the natural history of disease to inform clinical care, public health interventions, infection prevention control, transmission, and clinical trials\",\n",
    "\"Efforts to develop a core clinical outcome set to maximize usability of data across a range of trials\",\n",
    "\"Efforts to determine adjunctive and supportive interventions that can improve the clinical outcomes of infected patients (e.g. steroids, high flow oxygen)\"]\n",
    "\n",
    "task9 = [\"Methods for coordinating data-gathering with standardized nomenclature.\",\n",
    "\"Sharing response information among planners, providers, and others.\",\n",
    "\"Understanding and mitigating barriers to information-sharing.\",\n",
    "\"How to recruit, support, and coordinate local (non-Federal) expertise and capacity relevant to public health emergency response (public, private, commercial and non-profit, including academic).\",\n",
    "\"Integration of federal/state/local public health surveillance systems.\",\n",
    "\"Value of investments in baseline public health response infrastructure preparedness\",\n",
    "\"Modes of communicating with target high-risk populations (elderly, health care workers).\",\n",
    "\"Risk communication and guidelines that are easy to understand and follow (include targeting at risk populations’ families too).\",\n",
    "\"Communication that indicates potential risk of disease to all population groups.\",\n",
    "\"Misunderstanding around containment and mitigation.\",\n",
    "\"Action plan to mitigate gaps and problems of inequity in the Nation’s public health capability, capacity, and funding to ensure all citizens in need are supported and can access information, surveillance, and treatment.\",\n",
    "\"Measures to reach marginalized and disadvantaged populations.\",\n",
    "\"Data systems and research priorities and agendas incorporate attention to the needs and circumstances of disadvantaged populations and underrepresented minorities.\",\n",
    "\"Mitigating threats to incarcerated people from COVID-19, assuring access to information, prevention, diagnosis, and treatment.\",\n",
    "\"Understanding coverage policies (barriers and opportunities) related to testing, treatment, and care\"]\n",
    "\n",
    "tasks={'What is known about transmission, incubation, and environmental stability?': task1,\n",
    "       'What do we know about COVID-19 risk factors?': task2, \n",
    "       'What do we know about virus genetics, origin, and evolution?': task3, \n",
    "       'What do we know about non-pharmaceutical interventions?': task4,\n",
    "       'What do we know about vaccines and therapeutics?': task5, \n",
    "       'What has been published about ethical and social science considerations?': task6, \n",
    "       'What do we know about diagnostics and surveillance?': task7,\n",
    "       'What has been published about medical care?': task8, \n",
    "       'What has been published about information sharing and inter-sectoral collaboration?': task9}"
   ]
  },
  {
   "cell_type": "code",
   "execution_count": 31,
   "metadata": {
    "ExecuteTime": {
     "end_time": "2020-04-01T09:31:49.111189Z",
     "start_time": "2020-04-01T09:31:49.103819Z"
    }
   },
   "outputs": [],
   "source": [
    "def relevant_articles(tasks, k=3, lower=1950, upper=2020, only_covid19=False):\n",
    "    tasks = [tasks] if type(tasks) is str else tasks \n",
    "    \n",
    "    tasks_tf = tf_vectorizer.transform(tasks)\n",
    "    tasks_topic_dist = pd.DataFrame(lda_tf.transform(tasks_tf))\n",
    "\n",
    "    for index, bullet in enumerate(tasks):\n",
    "        print(bullet)\n",
    "        recommended = get_k_nearest_docs(\n",
    "            tasks_topic_dist.iloc[index],\n",
    "            k,\n",
    "            lower,\n",
    "            upper,\n",
    "            only_covid19)\n",
    "        recommended = df.iloc[recommended]\n",
    "\n",
    "        h = '<br/>'.join(['<a href=\"' + l + '\" target=\"_blank\">'+ n + '</a>'\n",
    "                          for l, n in recommended[['link','title']].values])\n",
    "        display(HTML(h))"
   ]
  },
  {
   "cell_type": "markdown",
   "metadata": {},
   "source": [
    "### What is known about transmission, incubation, and environmental stability?"
   ]
  },
  {
   "cell_type": "code",
   "execution_count": 42,
   "metadata": {
    "ExecuteTime": {
     "end_time": "2020-04-01T09:35:03.907202Z",
     "start_time": "2020-04-01T09:35:02.792094Z"
    },
    "scrolled": false
   },
   "outputs": [
    {
     "name": "stdout",
     "output_type": "stream",
     "text": [
      "Range of incubation periods for the disease in humans (and how this varies across age and health status) and how long individuals are contagious, even after recovery.\n"
     ]
    },
    {
     "data": {
      "text/html": [
       "<a href=\"http://dx.doi.org/10.1101/2020.03.05.20031849\" target=\"_blank\">A mathematical model for estimating the age-specific transmissibility of a novel coronavirus</a><br/><a href=\"http://dx.doi.org/10.1101/2020.02.24.20027474\" target=\"_blank\">Estimate the incubation period of coronavirus 2019 (COVID-19)</a><br/><a href=\"http://dx.doi.org/10.1101/2020.03.04.20031112\" target=\"_blank\">Projecting the transmission dynamics of SARS-CoV-2 through the post-pandemic period</a><br/><a href=\"http://dx.doi.org/10.1101/2020.03.04.20031104\" target=\"_blank\">Adjusted age-specific case fatality ratio during the COVID-19 epidemic in Hubei, China, January and February 2020</a><br/><a href=\"http://dx.doi.org/10.1101/2020.03.09.20033183\" target=\"_blank\">Ascertainment rate of novel coronavirus disease (COVID-19) in Japan</a>"
      ],
      "text/plain": [
       "<IPython.core.display.HTML object>"
      ]
     },
     "metadata": {},
     "output_type": "display_data"
    },
    {
     "name": "stdout",
     "output_type": "stream",
     "text": [
      "Prevalence of asymptomatic shedding and transmission (e.g., particularly children).\n"
     ]
    },
    {
     "data": {
      "text/html": [
       "<a href=\"http://dx.doi.org/10.1016/j.tmaid.2020.101613\" target=\"_blank\">COVID-19 in Latin America: The implications of the first confirmed case in Brazil</a><br/><a href=\"http://dx.doi.org/10.1016/j.jinf.2020.01.014\" target=\"_blank\">Emergence of a novel coronavirus causing respiratory illness from Wuhan, China</a><br/><a href=\"http://dx.doi.org/10.1016/j.jinf.2019.11.014\" target=\"_blank\">Detection of 20 respiratory viruses and bacteria by influenza-like illness surveillance in Beijing, China, 2016–2018</a><br/><a href=\"http://dx.doi.org/10.1016/j.jinf.2020.01.016\" target=\"_blank\">Genetic diversity and potential recombination between ferret coronaviruses from European and American lineages</a><br/><a href=\"http://dx.doi.org/10.1016/j.jinf.2020.01.017\" target=\"_blank\">Emergence of SARS-like coronavirus poses new challenge in China</a>"
      ],
      "text/plain": [
       "<IPython.core.display.HTML object>"
      ]
     },
     "metadata": {},
     "output_type": "display_data"
    },
    {
     "name": "stdout",
     "output_type": "stream",
     "text": [
      "Seasonality of transmission.\n"
     ]
    },
    {
     "data": {
      "text/html": [
       "<a href=\"http://dx.doi.org/10.1101/2020.03.08.20032946\" target=\"_blank\">Quantifying dynamics of SARS-CoV-2 transmission suggests that epidemic control and avoidance is feasible through instantaneous digital contact tracing</a><br/><a href=\"http://dx.doi.org/10.1016/j.jinf.2020.02.014\" target=\"_blank\">Trend and forecasting of the COVID-19 outbreak in China</a><br/><a href=\"http://dx.doi.org/10.1101/2020.02.18.20024414\" target=\"_blank\">Effective containment explains sub-exponential growth in confirmed cases of recent COVID-19 outbreak in Mainland China</a><br/><a href=\"http://dx.doi.org/10.1101/2020.02.16.20023804\" target=\"_blank\">When will the battle against novel coronavirus end in Wuhan: a SEIR modeling analysis</a><br/><a href=\"http://dx.doi.org/10.1101/2020.02.16.20023564\" target=\"_blank\">Simulating and Forecasting the Cumulative Confirmed Cases of SARS-CoV-2 in China by Boltzmann Function-based Regression Analyses</a>"
      ],
      "text/plain": [
       "<IPython.core.display.HTML object>"
      ]
     },
     "metadata": {},
     "output_type": "display_data"
    },
    {
     "name": "stdout",
     "output_type": "stream",
     "text": [
      "Physical science of the coronavirus (e.g., charge distribution, adhesion to hydrophilic/phobic surfaces, environmental survival to inform decontamination efforts for affected areas and provide information about viral shedding).\n"
     ]
    },
    {
     "data": {
      "text/html": [
       "<a href=\"http://dx.doi.org/10.1016/j.jhin.2020.01.022\" target=\"_blank\">Persistence of coronaviruses on inanimate surfaces and their inactivation with biocidal agents</a><br/><a href=\"http://dx.doi.org/10.1101/2020.03.08.982637\" target=\"_blank\">Aerodynamic Characteristics and RNA Concentration of SARS-CoV-2 Aerosol in Wuhan Hospitals during COVID-19 Outbreak</a><br/><a href=\"http://dx.doi.org/10.1016/j.jhin.2020.03.008\" target=\"_blank\">Makeshift hospitals for COVID-19 patients: where health-care workers and patients need sufficient ventilation for more protection</a><br/><a href=\"http://dx.doi.org/10.1016/j.onehlt.2020.100127\" target=\"_blank\">The SARS-CoV-2 outbreak from a one health perspective</a><br/><a href=\"http://dx.doi.org/10.1101/2020.03.12.20034793\" target=\"_blank\">Infrared assessment of human facial temperature in the presence and absence of common cosmetics</a>"
      ],
      "text/plain": [
       "<IPython.core.display.HTML object>"
      ]
     },
     "metadata": {},
     "output_type": "display_data"
    },
    {
     "name": "stdout",
     "output_type": "stream",
     "text": [
      "Persistence and stability on a multitude of substrates and sources (e.g., nasal discharge, sputum, urine, fecal matter, blood).\n"
     ]
    },
    {
     "data": {
      "text/html": [
       "<a href=\"http://dx.doi.org/10.1101/2020.02.17.952879\" target=\"_blank\">X-ray Structure of Main Protease of the Novel Coronavirus SARS-CoV-2 Enables Design of α-Ketoamide Inhibitors</a><br/><a href=\"http://dx.doi.org/10.1101/2020.01.28.922922\" target=\"_blank\">Therapeutic Drugs Targeting 2019-nCoV Main Protease by High-Throughput Screening</a><br/><a href=\"http://dx.doi.org/10.1101/2020.03.13.991083\" target=\"_blank\">Structural and functional conservation of the programmed -1 ribosomal frameshift signal of SARS-CoV-2</a><br/><a href=\"http://dx.doi.org/10.1101/2020.02.26.964882\" target=\"_blank\">Structure of Mpro from COVID-19 virus and discovery of its inhibitors</a><br/><a href=\"http://dx.doi.org/10.1101/2020.03.02.968388\" target=\"_blank\">Crystal structure of Nsp15 endoribonuclease NendoU from SARS-CoV-2</a>"
      ],
      "text/plain": [
       "<IPython.core.display.HTML object>"
      ]
     },
     "metadata": {},
     "output_type": "display_data"
    },
    {
     "name": "stdout",
     "output_type": "stream",
     "text": [
      "Persistence of virus on surfaces of different materials (e,g., copper, stainless steel, plastic).\n"
     ]
    },
    {
     "data": {
      "text/html": [
       "<a href=\"http://dx.doi.org/10.1101/2020.03.12.20034793\" target=\"_blank\">Infrared assessment of human facial temperature in the presence and absence of common cosmetics</a><br/><a href=\"http://dx.doi.org/10.1101/2020.03.08.982637\" target=\"_blank\">Aerodynamic Characteristics and RNA Concentration of SARS-CoV-2 Aerosol in Wuhan Hospitals during COVID-19 Outbreak</a><br/><a href=\"http://dx.doi.org/10.1016/j.jhin.2020.01.022\" target=\"_blank\">Persistence of coronaviruses on inanimate surfaces and their inactivation with biocidal agents</a><br/><a href=\"http://dx.doi.org/10.1016/j.jhin.2020.03.008\" target=\"_blank\">Makeshift hospitals for COVID-19 patients: where health-care workers and patients need sufficient ventilation for more protection</a><br/><a href=\"http://dx.doi.org/10.1016/B978-0-323-28780-7.00003-2\" target=\"_blank\">Chapter 3 Autopsy Biosafety</a>"
      ],
      "text/plain": [
       "<IPython.core.display.HTML object>"
      ]
     },
     "metadata": {},
     "output_type": "display_data"
    },
    {
     "name": "stdout",
     "output_type": "stream",
     "text": [
      "Natural history of the virus and shedding of it from an infected person\n"
     ]
    },
    {
     "data": {
      "text/html": [
       "<a href=\"http://dx.doi.org/10.1016/j.tmaid.2020.101572\" target=\"_blank\">What goes on board aircraft? Passengers include Aedes, Anopheles, 2019-nCoV, dengue, Salmonella, Zika, et al</a><br/><a href=\"http://dx.doi.org/10.1016/j.hlpt.2020.02.001\" target=\"_blank\">A new pandemic out of China: the Wuhan 2019-nCoV coronavirus syndrome</a><br/><a href=\"http://dx.doi.org/10.1016/j.apmr.2020.03.003\" target=\"_blank\">How Should the Rehabilitation Community Prepare for 2019-nCoV?</a><br/><a href=\"http://dx.doi.org/10.1016/j.tmaid.2020.101613\" target=\"_blank\">COVID-19 in Latin America: The implications of the first confirmed case in Brazil</a><br/><a href=\"http://dx.doi.org/10.1016/j.meegid.2020.104215\" target=\"_blank\">Pathogenic viruses: Molecular detection and characterization</a>"
      ],
      "text/plain": [
       "<IPython.core.display.HTML object>"
      ]
     },
     "metadata": {},
     "output_type": "display_data"
    },
    {
     "name": "stdout",
     "output_type": "stream",
     "text": [
      "Implementation of diagnostics and products to improve clinical processes\n"
     ]
    },
    {
     "data": {
      "text/html": [
       "<a href=\"http://dx.doi.org/10.1016/j.jpha.2020.02.010\" target=\"_blank\">Recent advances and perspectives of nucleic acid detection for coronavirus</a><br/><a href=\"http://dx.doi.org/10.1101/2020.03.07.20032326\" target=\"_blank\">Analytical sensibility and specificity of two RT-qPCR protocols for SARS-CoV-2 detection performed in an automated workflow</a><br/><a href=\"http://dx.doi.org/10.1101/2020.02.26.20028373\" target=\"_blank\">Rapid Molecular Detection of SARS-CoV-2 (COVID-19) Virus RNA Using Colorimetric LAMP</a><br/><a href=\"http://dx.doi.org/10.1101/2020.02.20.20025874\" target=\"_blank\">Rapid colorimetric detection of COVID-19 coronavirus using a reverse tran-scriptional loop-mediated isothermal amplification (RT-LAMP) diagnostic plat-form: iLACO</a><br/><a href=\"http://dx.doi.org/10.1101/2020.03.02.20030130\" target=\"_blank\">Rapid Detection of SARS-CoV-2 Using Reverse transcription RT-LAMP method</a>"
      ],
      "text/plain": [
       "<IPython.core.display.HTML object>"
      ]
     },
     "metadata": {},
     "output_type": "display_data"
    },
    {
     "name": "stdout",
     "output_type": "stream",
     "text": [
      "Disease models, including animal models for infection, disease and transmission\n"
     ]
    },
    {
     "data": {
      "text/html": [
       "<a href=\"http://dx.doi.org/10.1016/j.apmr.2020.03.003\" target=\"_blank\">How Should the Rehabilitation Community Prepare for 2019-nCoV?</a><br/><a href=\"http://dx.doi.org/10.1101/2020.02.29.20029421\" target=\"_blank\">An epidemiological forecast model and software assessing interventions on COVID-19 epidemic in China</a><br/><a href=\"http://dx.doi.org/10.1101/2020.02.14.20022939\" target=\"_blank\">A new transmission route for the propagation of the SARS-CoV-2 coronavirus</a><br/><a href=\"http://dx.doi.org/10.1101/2020.01.28.923169\" target=\"_blank\">Beware of asymptomatic transmission: Study on 2019-nCoV prevention and control measures based on extended SEIR model</a><br/><a href=\"http://dx.doi.org/10.1101/2020.02.27.20027169\" target=\"_blank\">Prediction of the Epidemic of COVID-19 Based on Quarantined Surveillance in China</a>"
      ],
      "text/plain": [
       "<IPython.core.display.HTML object>"
      ]
     },
     "metadata": {},
     "output_type": "display_data"
    },
    {
     "name": "stdout",
     "output_type": "stream",
     "text": [
      "Tools and studies to monitor phenotypic change and potential adaptation of the virus\n"
     ]
    },
    {
     "data": {
      "text/html": [
       "<a href=\"http://dx.doi.org/10.1101/2020.02.03.20020263\" target=\"_blank\">Network-based Drug Repurposing for Human Coronavirus</a><br/><a href=\"http://dx.doi.org/10.1101/2020.01.26.919985\" target=\"_blank\">Single-cell RNA expression profiling of ACE2, the putative receptor of Wuhan 2019-nCov</a><br/><a href=\"http://dx.doi.org/10.1101/2020.02.15.950568\" target=\"_blank\">Multivariate Analyses of Codon Usage of SARS-CoV-2 and other betacoronaviruses</a><br/><a href=\"http://dx.doi.org/10.1101/2020.02.16.951913\" target=\"_blank\">Single cell RNA sequencing of 13 human tissues identify cell types and receptors of human coronaviruses</a><br/><a href=\"http://dx.doi.org/10.1101/2020.02.27.967885\" target=\"_blank\">Prediction of receptorome for human-infecting virome</a>"
      ],
      "text/plain": [
       "<IPython.core.display.HTML object>"
      ]
     },
     "metadata": {},
     "output_type": "display_data"
    },
    {
     "name": "stdout",
     "output_type": "stream",
     "text": [
      "Immune response and immunity\n"
     ]
    },
    {
     "data": {
      "text/html": [
       "<a href=\"http://dx.doi.org/10.3389/fmicb.2020.00298\" target=\"_blank\">Subunit Vaccines Against Emerging Pathogenic Human Coronaviruses</a><br/><a href=\"http://dx.doi.org/10.1101/2020.02.25.963546\" target=\"_blank\">An Effective CTL Peptide Vaccine for Ebola Zaire Based on Survivors' CD8+ Targeting of a Particular Nucleocapsid Protein Epitope with Potential Implications for COVID-19 Vaccine Design</a><br/><a href=\"http://dx.doi.org/10.3390/v12030254\" target=\"_blank\">Preliminary Identification of Potential Vaccine Targets for the COVID-19 Coronavirus (SARS-CoV-2) Based on SARS-CoV Immunological Studies</a><br/><a href=\"http://dx.doi.org/10.1101/2020.02.03.933226\" target=\"_blank\">Preliminary identification of potential vaccine targets for the COVID-19 coronavirus (SARS-CoV-2) based on SARS-CoV immunological studies</a><br/><a href=\"http://dx.doi.org/10.1016/S0140-6736(04)16501-X\" target=\"_blank\">Mucosal immunisation of African green monkeys (Cercopithecus aethiops) with an attenuated parainfluenza virus expressing the SARS coronavirus spike protein for the prevention of SARS</a>"
      ],
      "text/plain": [
       "<IPython.core.display.HTML object>"
      ]
     },
     "metadata": {},
     "output_type": "display_data"
    },
    {
     "name": "stdout",
     "output_type": "stream",
     "text": [
      "Effectiveness of movement control strategies to prevent secondary transmission in health care and community settings\n"
     ]
    },
    {
     "data": {
      "text/html": [
       "<a href=\"http://dx.doi.org/10.1016/S2214-109X(20)30101-7\" target=\"_blank\">Can Nigeria contain the COVID-19 outbreak using lessons from recent epidemics?</a><br/><a href=\"http://dx.doi.org/10.1101/2020.02.11.20022111\" target=\"_blank\">Healthcare-resource-adjusted vulnerabilities towards the 2019-nCoV epidemic across China</a><br/><a href=\"http://dx.doi.org/10.1101/2020.02.05.20020792\" target=\"_blank\">Preparedness and vulnerability of African countries against introductions of 2019-nCoV</a><br/><a href=\"http://dx.doi.org/10.1016/S0140-6736(20)30411-6\" target=\"_blank\">Preparedness and vulnerability of African countries against importations of COVID-19: a modelling study</a><br/><a href=\"http://dx.doi.org/10.1016/S0140-6736(20)30567-5\" target=\"_blank\">How will country-based mitigation measures influence the course of the COVID-19 epidemic?</a>"
      ],
      "text/plain": [
       "<IPython.core.display.HTML object>"
      ]
     },
     "metadata": {},
     "output_type": "display_data"
    },
    {
     "name": "stdout",
     "output_type": "stream",
     "text": [
      "Effectiveness of personal protective equipment (PPE) and its usefulness to reduce risk of transmission in health care and community settings\n"
     ]
    },
    {
     "data": {
      "text/html": [
       "<a href=\"http://dx.doi.org/10.1016/S2215-0366(20)30078-X\" target=\"_blank\">Mental health care for medical staff in China during the COVID-19 outbreak</a><br/><a href=\"http://dx.doi.org/10.1016/S0140-6736(20)30547-X\" target=\"_blank\">Mitigate the effects of home confinement on children during the COVID-19 outbreak</a><br/><a href=\"http://dx.doi.org/10.1016/S2215-0366(20)30073-0\" target=\"_blank\">Psychological interventions for people affected by the COVID-19 epidemic</a><br/><a href=\"http://dx.doi.org/10.1093/pcmedi/pbaa006\" target=\"_blank\">Recommended psychological crisis intervention response to the 2019 novel coronavirus pneumonia outbreak in China: a model of West China Hospital</a><br/><a href=\"http://dx.doi.org/10.1016/j.ijnurstu.2020.103567\" target=\"_blank\">Policies on the use of Respiratory Protection for Hospital Health Workers to Protect from Coronavirus Disease (COVID-19)</a>"
      ],
      "text/plain": [
       "<IPython.core.display.HTML object>"
      ]
     },
     "metadata": {},
     "output_type": "display_data"
    },
    {
     "name": "stdout",
     "output_type": "stream",
     "text": [
      "Role of the environment in transmission\n"
     ]
    },
    {
     "data": {
      "text/html": [
       "<a href=\"http://dx.doi.org/10.1016/j.tmaid.2020.101572\" target=\"_blank\">What goes on board aircraft? Passengers include Aedes, Anopheles, 2019-nCoV, dengue, Salmonella, Zika, et al</a><br/><a href=\"http://dx.doi.org/10.1016/j.hlpt.2020.02.001\" target=\"_blank\">A new pandemic out of China: the Wuhan 2019-nCoV coronavirus syndrome</a><br/><a href=\"http://dx.doi.org/10.1016/j.apmr.2020.03.003\" target=\"_blank\">How Should the Rehabilitation Community Prepare for 2019-nCoV?</a><br/><a href=\"http://dx.doi.org/10.1016/j.meegid.2020.104215\" target=\"_blank\">Pathogenic viruses: Molecular detection and characterization</a><br/><a href=\"http://dx.doi.org/10.1016/j.tmaid.2020.101613\" target=\"_blank\">COVID-19 in Latin America: The implications of the first confirmed case in Brazil</a>"
      ],
      "text/plain": [
       "<IPython.core.display.HTML object>"
      ]
     },
     "metadata": {},
     "output_type": "display_data"
    }
   ],
   "source": [
    "relevant_articles(task1, 5, only_covid19=True)"
   ]
  },
  {
   "cell_type": "markdown",
   "metadata": {},
   "source": [
    "### What do we know about COVID-19 risk factors?"
   ]
  },
  {
   "cell_type": "code",
   "execution_count": 222,
   "metadata": {
    "ExecuteTime": {
     "end_time": "2020-03-29T16:26:48.106255Z",
     "start_time": "2020-03-29T16:24:48.671044Z"
    }
   },
   "outputs": [
    {
     "name": "stdout",
     "output_type": "stream",
     "text": [
      "Data on potential risks factors\n"
     ]
    },
    {
     "data": {
      "text/html": [
       "<a href=\"http://dx.doi.org/10.1101/2020.03.06.20032144\" target=\"_blank\">CORONAVIRUS IN PREGNANCY AND DELIVERY: RAPID REVIEW AND EXPERT CONSENSUS</a><br/><a href=\"http://dx.doi.org/10.1016/j.ijid.2020.03.017\" target=\"_blank\">Prevalence of comorbidities in the novel Wuhan coronavirus (COVID-19) infection: a systematic review and meta-analysis</a><br/><a href=\"http://dx.doi.org/10.1016/S2213-2600(20)30117-X\" target=\"_blank\">Sex difference and smoking predisposition in patients with COVID-19</a><br/><a href=\"http://dx.doi.org/10.1016/S0140-6736(20)30360-3\" target=\"_blank\">Clinical characteristics and intrauterine vertical transmission potential of COVID-19 infection in nine pregnant women: a retrospective review of medical records</a><br/><a href=\"http://dx.doi.org/10.1016/j.jinf.2020.02.028\" target=\"_blank\">Clinical manifestations and outcome of SARS-CoV-2 infection during pregnancy</a>"
      ],
      "text/plain": [
       "<IPython.core.display.HTML object>"
      ]
     },
     "metadata": {},
     "output_type": "display_data"
    },
    {
     "name": "stdout",
     "output_type": "stream",
     "text": [
      "Smoking, pre-existing pulmonary disease\n"
     ]
    },
    {
     "data": {
      "text/html": [
       "<a href=\"http://dx.doi.org/10.1016/j.ctcp.2020.101132\" target=\"_blank\">Effects of progressive muscle relaxation on anxiety and sleep quality in patients with COVID-19</a><br/><a href=\"http://dx.doi.org/10.1016/S2213-2600(20)30117-X\" target=\"_blank\">Sex difference and smoking predisposition in patients with COVID-19</a><br/><a href=\"http://dx.doi.org/10.1101/2020.03.05.20031476\" target=\"_blank\">Appealing for Efficient, Well Organized Clinical Trials on COVID-19</a><br/><a href=\"http://dx.doi.org/10.1101/2020.03.11.987016\" target=\"_blank\">The inhaled corticosteroid ciclesonide blocks coronavirus RNA replication by targeting viral NSP15</a><br/><a href=\"http://dx.doi.org/10.1016/j.psychres.2020.112921\" target=\"_blank\">Prevalence and predictors of PTSS during COVID-19 Outbreak in China Hardest-hit Areas: Gender differences matter</a>"
      ],
      "text/plain": [
       "<IPython.core.display.HTML object>"
      ]
     },
     "metadata": {},
     "output_type": "display_data"
    },
    {
     "name": "stdout",
     "output_type": "stream",
     "text": [
      "Co-infections (determine whether co-existing respiratory/viral infections make the virus more transmissible or virulent) and other co-morbidities\n"
     ]
    },
    {
     "data": {
      "text/html": [
       "<a href=\"http://dx.doi.org/10.1016/j.tmaid.2020.101629\" target=\"_blank\">Viral loads of SARS-CoV, MERS-CoV and SARS-CoV-2 in respiratory specimens: What have we learned?</a><br/><a href=\"http://dx.doi.org/10.2807/1560-7917.ES.2020.25.8.2000171\" target=\"_blank\">Letter to the editor: Plenty of coronaviruses but no SARS-CoV-2</a><br/><a href=\"http://dx.doi.org/10.1016/S1473-3099(20)30113-4\" target=\"_blank\">Viral load of SARS-CoV-2 in clinical samples</a><br/><a href=\"http://dx.doi.org/10.3346/jkms.2020.35.e86\" target=\"_blank\">Viral Load Kinetics of SARS-CoV-2 Infection in First Two Patients in Korea</a><br/><a href=\"http://dx.doi.org/10.2807/1560-7917.ES.2020.25.8.2000170\" target=\"_blank\">Differential diagnosis of illness in patients under investigation for the novel coronavirus (SARS-CoV-2), Italy, February 2020</a>"
      ],
      "text/plain": [
       "<IPython.core.display.HTML object>"
      ]
     },
     "metadata": {},
     "output_type": "display_data"
    },
    {
     "name": "stdout",
     "output_type": "stream",
     "text": [
      "Neonates and pregnant women\n"
     ]
    },
    {
     "data": {
      "text/html": [
       "<a href=\"http://dx.doi.org/10.1101/2020.03.06.20032144\" target=\"_blank\">CORONAVIRUS IN PREGNANCY AND DELIVERY: RAPID REVIEW AND EXPERT CONSENSUS</a><br/><a href=\"http://dx.doi.org/10.1016/j.ijid.2020.03.017\" target=\"_blank\">Prevalence of comorbidities in the novel Wuhan coronavirus (COVID-19) infection: a systematic review and meta-analysis</a><br/><a href=\"http://dx.doi.org/10.1016/S2213-2600(20)30117-X\" target=\"_blank\">Sex difference and smoking predisposition in patients with COVID-19</a><br/><a href=\"http://dx.doi.org/10.1016/S0140-6736(20)30360-3\" target=\"_blank\">Clinical characteristics and intrauterine vertical transmission potential of COVID-19 infection in nine pregnant women: a retrospective review of medical records</a><br/><a href=\"http://dx.doi.org/10.1016/j.jinf.2020.02.028\" target=\"_blank\">Clinical manifestations and outcome of SARS-CoV-2 infection during pregnancy</a>"
      ],
      "text/plain": [
       "<IPython.core.display.HTML object>"
      ]
     },
     "metadata": {},
     "output_type": "display_data"
    },
    {
     "name": "stdout",
     "output_type": "stream",
     "text": [
      "Socio-economic and behavioral factors to understand the economic impact of the virus and whether there were differences.\n"
     ]
    },
    {
     "data": {
      "text/html": [
       "<a href=\"http://dx.doi.org/10.1016/j.bbi.2020.03.007\" target=\"_blank\">Vicarious traumatization in the general public, members, and non-members of medical teams aiding in COVID-19 control</a><br/><a href=\"http://dx.doi.org/10.1101/2020.02.29.20029322\" target=\"_blank\">Vicarious traumatization in the general public, members, and non-members of medical teams aiding in COVID-19 control</a><br/><a href=\"http://dx.doi.org/10.1016/j.sapharm.2020.02.003\" target=\"_blank\">Community pharmacist in public health emergencies: Quick to action against the coronavirus 2019-nCoV outbreak</a><br/><a href=\"http://dx.doi.org/10.1016/j.tmaid.2020.101624\" target=\"_blank\">Testing the repatriated for SARS-Cov2: Should laboratory-based quarantine replace traditional quarantine?</a><br/><a href=\"http://dx.doi.org/10.1016/j.tmaid.2020.101604\" target=\"_blank\">The COVID-19 outbreak and implications for the Tokyo 2020 Summer Olympic Games</a>"
      ],
      "text/plain": [
       "<IPython.core.display.HTML object>"
      ]
     },
     "metadata": {},
     "output_type": "display_data"
    },
    {
     "name": "stdout",
     "output_type": "stream",
     "text": [
      "Transmission dynamics of the virus, including the basic reproductive number, incubation period, serial interval, modes of transmission and environmental factors\n"
     ]
    },
    {
     "data": {
      "text/html": [
       "<a href=\"http://dx.doi.org/10.1101/2020.02.27.20027169\" target=\"_blank\">Prediction of the Epidemic of COVID-19 Based on Quarantined Surveillance in China</a><br/><a href=\"http://dx.doi.org/10.1101/2020.02.17.20023747\" target=\"_blank\">The reproductive number R0 of COVID-19 based on estimate of a statistical time delay dynamical system</a><br/><a href=\"http://dx.doi.org/10.1101/2020.02.27.20028639\" target=\"_blank\">Modeling the Epidemic Dynamics and Control of COVID-19 Outbreak in China</a><br/><a href=\"http://dx.doi.org/10.1101/2020.03.09.20033498\" target=\"_blank\">Modeling the situation of COVID-19 and effects of different containment strategies in China with dynamic differential equations and parameters estimation</a><br/><a href=\"http://dx.doi.org/10.1101/2020.02.29.20029421\" target=\"_blank\">An epidemiological forecast model and software assessing interventions on COVID-19 epidemic in China</a>"
      ],
      "text/plain": [
       "<IPython.core.display.HTML object>"
      ]
     },
     "metadata": {},
     "output_type": "display_data"
    },
    {
     "name": "stdout",
     "output_type": "stream",
     "text": [
      "Severity of disease, including risk of fatality among symptomatic hospitalized patients, and high-risk patient groups\n"
     ]
    },
    {
     "data": {
      "text/html": [
       "<a href=\"http://dx.doi.org/10.1016/j.tmaid.2020.101606\" target=\"_blank\">Clinical characteristics of laboratory confirmed positive cases of SARS-CoV-2 infection in Wuhan, China: A retrospective single center analysis</a><br/><a href=\"http://dx.doi.org/10.1016/j.annonc.2020.03.001\" target=\"_blank\">Atypical lung feature on chest CT in a lung adenocarcinoma cancer patient infected with COVID-19</a><br/><a href=\"http://dx.doi.org/10.1016/j.clinimag.2020.02.008\" target=\"_blank\">Asymptomatic novel coronavirus pneumonia patient outside Wuhan: The value of CT images in the course of the disease</a><br/><a href=\"http://dx.doi.org/10.1016/S1473-3099(20)30086-4\" target=\"_blank\">Radiological findings from 81 patients with COVID-19 pneumonia in Wuhan, China: a descriptive study</a><br/><a href=\"http://dx.doi.org/10.1016/S0140-6736(20)30558-4\" target=\"_blank\">Comorbidities and multi-organ injuries in the treatment of COVID-19</a>"
      ],
      "text/plain": [
       "<IPython.core.display.HTML object>"
      ]
     },
     "metadata": {},
     "output_type": "display_data"
    },
    {
     "name": "stdout",
     "output_type": "stream",
     "text": [
      "Susceptibility of populations\n"
     ]
    },
    {
     "data": {
      "text/html": [
       "<a href=\"http://dx.doi.org/10.1101/2020.02.17.20024257\" target=\"_blank\">Tracking and Predicting COVID-19 Epidemic in China Mainland</a><br/><a href=\"http://dx.doi.org/10.1101/2020.02.03.20019497\" target=\"_blank\">Serial interval of novel coronavirus (2019-nCoV) infections</a><br/><a href=\"http://dx.doi.org/10.1101/2020.02.14.20023168\" target=\"_blank\">A model simulation study on effects of intervention measures in Wuhan COVID-19 epidemic</a><br/><a href=\"http://dx.doi.org/10.1101/2020.02.26.20028217\" target=\"_blank\">Community responses during the early phase of the COVID-19 epidemic in Hong Kong: risk perception, information exposure and preventive measures</a><br/><a href=\"http://dx.doi.org/10.1101/2020.02.24.20027649\" target=\"_blank\">Transmission potential of the novel coronavirus (COVID-19) onboard the Diamond Princess Cruises Ship, 2020</a>"
      ],
      "text/plain": [
       "<IPython.core.display.HTML object>"
      ]
     },
     "metadata": {},
     "output_type": "display_data"
    },
    {
     "name": "stdout",
     "output_type": "stream",
     "text": [
      "Public health mitigation measures that could be effective for control\n"
     ]
    },
    {
     "data": {
      "text/html": [
       "<a href=\"http://dx.doi.org/10.1016/S0140-6736(20)30069-6\" target=\"_blank\">Responding to health emergencies in the Eastern Mediterranean region in times of conflict</a><br/><a href=\"http://dx.doi.org/10.1016/S2468-2667(20)30048-7\" target=\"_blank\">How African migrants in China cope with barriers to health care</a><br/><a href=\"http://dx.doi.org/10.1016/S2215-0366(20)30076-6\" target=\"_blank\">The neglected health of international migrant workers in the COVID-19 epidemic</a><br/><a href=\"http://dx.doi.org/10.1016/j.ijsu.2020.03.001\" target=\"_blank\">A commentary on “World Health Organization declares global emergency: A review of the 2019 novel Coronavirus (COVID-19)”</a><br/><a href=\"http://dx.doi.org/10.1016/j.tmaid.2020.101631\" target=\"_blank\">The cancellation of mass gatherings (MGs)? Decision making in the time of COVID-19</a>"
      ],
      "text/plain": [
       "<IPython.core.display.HTML object>"
      ]
     },
     "metadata": {},
     "output_type": "display_data"
    }
   ],
   "source": [
    "relevant_articles(task2, 5, only_covid19=True)"
   ]
  },
  {
   "cell_type": "markdown",
   "metadata": {},
   "source": [
    "### What do we know about virus genetics, origin, and evolution?"
   ]
  },
  {
   "cell_type": "code",
   "execution_count": 223,
   "metadata": {
    "ExecuteTime": {
     "end_time": "2020-03-29T16:28:47.793017Z",
     "start_time": "2020-03-29T16:26:48.108624Z"
    }
   },
   "outputs": [
    {
     "name": "stdout",
     "output_type": "stream",
     "text": [
      "Real-time tracking of whole genomes and a mechanism for coordinating the rapid dissemination of that information to inform the development of diagnostics and therapeutics and to track variations of the virus over time.\n"
     ]
    },
    {
     "data": {
      "text/html": [
       "<a href=\"http://dx.doi.org/10.1016/S0140-6736(20)30069-6\" target=\"_blank\">Responding to health emergencies in the Eastern Mediterranean region in times of conflict</a><br/><a href=\"http://dx.doi.org/10.1016/S2468-2667(20)30048-7\" target=\"_blank\">How African migrants in China cope with barriers to health care</a><br/><a href=\"http://dx.doi.org/10.1016/S2215-0366(20)30076-6\" target=\"_blank\">The neglected health of international migrant workers in the COVID-19 epidemic</a><br/><a href=\"http://dx.doi.org/10.1016/j.ijsu.2020.03.001\" target=\"_blank\">A commentary on “World Health Organization declares global emergency: A review of the 2019 novel Coronavirus (COVID-19)”</a><br/><a href=\"http://dx.doi.org/10.1016/j.tmaid.2020.101631\" target=\"_blank\">The cancellation of mass gatherings (MGs)? Decision making in the time of COVID-19</a>"
      ],
      "text/plain": [
       "<IPython.core.display.HTML object>"
      ]
     },
     "metadata": {},
     "output_type": "display_data"
    },
    {
     "name": "stdout",
     "output_type": "stream",
     "text": [
      "Access to geographic and temporal diverse sample sets to understand geographic distribution and genomic differences, and determine whether there is more than one strain in circulation. Multi-lateral agreements such as the Nagoya Protocol could be leveraged.\n"
     ]
    },
    {
     "data": {
      "text/html": [
       "<a href=\"http://dx.doi.org/10.1101/2020.02.21.959973\" target=\"_blank\">No more business as usual: agile and effective responses to emerging pathogen threats require open data and open analytics</a><br/><a href=\"http://dx.doi.org/10.1038/s41564-020-0695-z\" target=\"_blank\">The species Severe acute respiratory syndrome-related coronavirus: classifying 2019-nCoV and naming it SARS-CoV-2</a><br/><a href=\"http://dx.doi.org/10.1101/2020.03.02.974311\" target=\"_blank\">Partial RdRp sequences offer a robust method for Coronavirus subgenus classification</a><br/><a href=\"http://dx.doi.org/10.1101/2020.02.03.932350\" target=\"_blank\">Machine learning using intrinsic genomic signatures for rapid classification of novel pathogens: COVID-19 case study</a><br/><a href=\"http://dx.doi.org/10.1101/2020.03.13.990242\" target=\"_blank\">Accurate Identification of SARS-CoV-2 from Viral Genome Sequences using Deep Learning</a>"
      ],
      "text/plain": [
       "<IPython.core.display.HTML object>"
      ]
     },
     "metadata": {},
     "output_type": "display_data"
    },
    {
     "name": "stdout",
     "output_type": "stream",
     "text": [
      "Evidence that livestock could be infected (e.g., field surveillance, genetic sequencing, receptor binding) and serve as a reservoir after the epidemic appears to be over.\n"
     ]
    },
    {
     "data": {
      "text/html": [
       "<a href=\"http://dx.doi.org/10.1101/2020.02.07.937862\" target=\"_blank\">Severe acute respiratory syndrome-related coronavirus - The species and its viruses, a statement of the Coronavirus Study Group</a><br/><a href=\"http://dx.doi.org/10.1016/j.onehlt.2020.100127\" target=\"_blank\">The SARS-CoV-2 outbreak from a one health perspective</a><br/><a href=\"http://dx.doi.org/10.1038/s41564-020-0695-z\" target=\"_blank\">The species Severe acute respiratory syndrome-related coronavirus: classifying 2019-nCoV and naming it SARS-CoV-2</a><br/><a href=\"http://dx.doi.org/10.1101/2020.03.10.986109\" target=\"_blank\">Larger viral genome size facilitates emergence of zoonotic diseases</a><br/><a href=\"http://dx.doi.org/10.1101/2020.01.21.914044\" target=\"_blank\">Host and infectivity prediction of Wuhan 2019 novel coronavirus using deep learning algorithm</a>"
      ],
      "text/plain": [
       "<IPython.core.display.HTML object>"
      ]
     },
     "metadata": {},
     "output_type": "display_data"
    },
    {
     "name": "stdout",
     "output_type": "stream",
     "text": [
      "Evidence of whether farmers are infected, and whether farmers could have played a role in the origin.\n"
     ]
    },
    {
     "data": {
      "text/html": [
       "<a href=\"http://dx.doi.org/10.1016/j.biocel.2020.105738\" target=\"_blank\">Viroporins and inflammasomes: A key to understand virus-induced inflammation</a><br/><a href=\"http://dx.doi.org/10.1016/j.ijantimicag.2020.105938\" target=\"_blank\">New insights on the antiviral effects of chloroquine against coronavirus: what to expect for COVID-19?</a><br/><a href=\"http://dx.doi.org/10.1016/j.it.2020.02.007\" target=\"_blank\">SARS Coronavirus Redux</a><br/><a href=\"http://dx.doi.org/10.1002/cti2.1115\" target=\"_blank\">Frontiers in antiviral therapy and immunotherapy</a><br/><a href=\"http://dx.doi.org/10.1101/2020.02.20.958272\" target=\"_blank\">A Multiscale and Comparative Model for Receptor Binding of 2019 Novel Coronavirus and the Implication of its Life Cycle in Host Cells</a>"
      ],
      "text/plain": [
       "<IPython.core.display.HTML object>"
      ]
     },
     "metadata": {},
     "output_type": "display_data"
    },
    {
     "name": "stdout",
     "output_type": "stream",
     "text": [
      "Surveillance of mixed wildlife- livestock farms for SARS-CoV-2 and other coronaviruses in Southeast Asia.\n"
     ]
    },
    {
     "data": {
      "text/html": [
       "<a href=\"http://dx.doi.org/10.1016/j.jinf.2020.03.010\" target=\"_blank\">Emergence of SARS-like Coronavirus in China: An Update</a><br/><a href=\"http://dx.doi.org/10.1016/j.ajic.2020.01.023\" target=\"_blank\">An update on the 2019-nCoV outbreak</a><br/><a href=\"http://dx.doi.org/10.1016/j.meegid.2020.104285\" target=\"_blank\">Genetic evolution analysis of 2019 novel coronavirus and coronavirus from other species</a><br/><a href=\"http://dx.doi.org/10.3390/ijerph17051633\" target=\"_blank\">Potential Factors Influencing Repeated SARS Outbreaks in China</a><br/><a href=\"http://dx.doi.org/10.1016/j.jare.2020.03.005\" target=\"_blank\">COVID-19 infection: origin, transmission, and characteristics of human coronaviruses</a>"
      ],
      "text/plain": [
       "<IPython.core.display.HTML object>"
      ]
     },
     "metadata": {},
     "output_type": "display_data"
    },
    {
     "name": "stdout",
     "output_type": "stream",
     "text": [
      "Experimental infections to test host range for this pathogen.\n"
     ]
    },
    {
     "data": {
      "text/html": [
       "<a href=\"http://dx.doi.org/10.1016/j.jpha.2020.03.001\" target=\"_blank\">Molecular immune pathogenesis and diagnosis of COVID-19</a><br/><a href=\"http://dx.doi.org/10.1016/j.biocel.2020.105738\" target=\"_blank\">Viroporins and inflammasomes: A key to understand virus-induced inflammation</a><br/><a href=\"http://dx.doi.org/10.1016/j.ijantimicag.2020.105938\" target=\"_blank\">New insights on the antiviral effects of chloroquine against coronavirus: what to expect for COVID-19?</a><br/><a href=\"http://dx.doi.org/10.1101/2020.02.20.958785\" target=\"_blank\">Inactivating porcine coronavirus before nuclei acid isolation with the temperature higher than 56 °C damages its genome integrity seriously</a><br/><a href=\"http://dx.doi.org/10.1016/j.it.2020.02.007\" target=\"_blank\">SARS Coronavirus Redux</a>"
      ],
      "text/plain": [
       "<IPython.core.display.HTML object>"
      ]
     },
     "metadata": {},
     "output_type": "display_data"
    },
    {
     "name": "stdout",
     "output_type": "stream",
     "text": [
      "Animal host(s) and any evidence of continued spill-over to humans\n"
     ]
    },
    {
     "data": {
      "text/html": [
       "<a href=\"http://dx.doi.org/10.1016/j.jinf.2020.03.010\" target=\"_blank\">Emergence of SARS-like Coronavirus in China: An Update</a><br/><a href=\"http://dx.doi.org/10.1016/j.ajic.2020.01.023\" target=\"_blank\">An update on the 2019-nCoV outbreak</a><br/><a href=\"http://dx.doi.org/10.1016/j.meegid.2020.104285\" target=\"_blank\">Genetic evolution analysis of 2019 novel coronavirus and coronavirus from other species</a><br/><a href=\"http://dx.doi.org/10.3390/ijerph17051633\" target=\"_blank\">Potential Factors Influencing Repeated SARS Outbreaks in China</a><br/><a href=\"http://dx.doi.org/10.1016/j.jare.2020.03.005\" target=\"_blank\">COVID-19 infection: origin, transmission, and characteristics of human coronaviruses</a>"
      ],
      "text/plain": [
       "<IPython.core.display.HTML object>"
      ]
     },
     "metadata": {},
     "output_type": "display_data"
    },
    {
     "name": "stdout",
     "output_type": "stream",
     "text": [
      "Socioeconomic and behavioral risk factors for this spill-over\n"
     ]
    },
    {
     "data": {
      "text/html": [
       "<a href=\"http://dx.doi.org/10.1101/2020.03.06.20032144\" target=\"_blank\">CORONAVIRUS IN PREGNANCY AND DELIVERY: RAPID REVIEW AND EXPERT CONSENSUS</a><br/><a href=\"http://dx.doi.org/10.3390/v12020194\" target=\"_blank\">Potential Maternal and Infant Outcomes from (Wuhan) Coronavirus 2019-nCoV Infecting Pregnant Women: Lessons from SARS, MERS, and Other Human Coronavirus Infections</a><br/><a href=\"http://dx.doi.org/10.1016/j.ijid.2020.03.017\" target=\"_blank\">Prevalence of comorbidities in the novel Wuhan coronavirus (COVID-19) infection: a systematic review and meta-analysis</a><br/><a href=\"http://dx.doi.org/10.1016/j.ajog.2020.02.017\" target=\"_blank\">Coronavirus Disease 2019 (COVID-19) and Pregnancy: What obstetricians need to know</a><br/><a href=\"http://dx.doi.org/10.1016/S0140-6736(20)30365-2\" target=\"_blank\">What are the risks of COVID-19 infection in pregnant women?</a>"
      ],
      "text/plain": [
       "<IPython.core.display.HTML object>"
      ]
     },
     "metadata": {},
     "output_type": "display_data"
    },
    {
     "name": "stdout",
     "output_type": "stream",
     "text": [
      "Sustainable risk reduction strategies\n"
     ]
    },
    {
     "data": {
      "text/html": [
       "<a href=\"http://dx.doi.org/10.1016/S0140-6736(20)30069-6\" target=\"_blank\">Responding to health emergencies in the Eastern Mediterranean region in times of conflict</a><br/><a href=\"http://dx.doi.org/10.1016/S2468-2667(20)30048-7\" target=\"_blank\">How African migrants in China cope with barriers to health care</a><br/><a href=\"http://dx.doi.org/10.1016/S2215-0366(20)30076-6\" target=\"_blank\">The neglected health of international migrant workers in the COVID-19 epidemic</a><br/><a href=\"http://dx.doi.org/10.1016/j.ijsu.2020.03.001\" target=\"_blank\">A commentary on “World Health Organization declares global emergency: A review of the 2019 novel Coronavirus (COVID-19)”</a><br/><a href=\"http://dx.doi.org/10.1016/j.tmaid.2020.101631\" target=\"_blank\">The cancellation of mass gatherings (MGs)? Decision making in the time of COVID-19</a>"
      ],
      "text/plain": [
       "<IPython.core.display.HTML object>"
      ]
     },
     "metadata": {},
     "output_type": "display_data"
    }
   ],
   "source": [
    "relevant_articles(task3, 5, only_covid19=True)"
   ]
  },
  {
   "cell_type": "markdown",
   "metadata": {},
   "source": [
    "### What do we know about non-pharmaceutical interventions?"
   ]
  },
  {
   "cell_type": "code",
   "execution_count": 224,
   "metadata": {
    "ExecuteTime": {
     "end_time": "2020-03-29T16:30:33.996899Z",
     "start_time": "2020-03-29T16:28:47.795303Z"
    }
   },
   "outputs": [
    {
     "name": "stdout",
     "output_type": "stream",
     "text": [
      "Guidance on ways to scale up NPIs in a more coordinated way (e.g., establish funding, infrastructure and authorities to support real time, authoritative (qualified participants) collaboration with all states to gain consensus on consistent guidance and to mobilize resources to geographic areas where critical shortfalls are identified) to give us time to enhance our health care delivery system capacity to respond to an increase in cases.\n"
     ]
    },
    {
     "data": {
      "text/html": [
       "<a href=\"http://dx.doi.org/10.1016/S0140-6736(20)30069-6\" target=\"_blank\">Responding to health emergencies in the Eastern Mediterranean region in times of conflict</a><br/><a href=\"http://dx.doi.org/10.1016/S2468-2667(20)30048-7\" target=\"_blank\">How African migrants in China cope with barriers to health care</a><br/><a href=\"http://dx.doi.org/10.1016/S2215-0366(20)30076-6\" target=\"_blank\">The neglected health of international migrant workers in the COVID-19 epidemic</a><br/><a href=\"http://dx.doi.org/10.1016/j.ijsu.2020.03.001\" target=\"_blank\">A commentary on “World Health Organization declares global emergency: A review of the 2019 novel Coronavirus (COVID-19)”</a><br/><a href=\"http://dx.doi.org/10.1016/j.tmaid.2020.101631\" target=\"_blank\">The cancellation of mass gatherings (MGs)? Decision making in the time of COVID-19</a>"
      ],
      "text/plain": [
       "<IPython.core.display.HTML object>"
      ]
     },
     "metadata": {},
     "output_type": "display_data"
    },
    {
     "name": "stdout",
     "output_type": "stream",
     "text": [
      "Rapid design and execution of experiments to examine and compare NPIs currently being implemented. DHS Centers for Excellence could potentially be leveraged to conduct these experiments.\n"
     ]
    },
    {
     "data": {
      "text/html": [
       "<a href=\"http://dx.doi.org/10.1016/S0140-6736(20)30069-6\" target=\"_blank\">Responding to health emergencies in the Eastern Mediterranean region in times of conflict</a><br/><a href=\"http://dx.doi.org/10.1016/S2468-2667(20)30048-7\" target=\"_blank\">How African migrants in China cope with barriers to health care</a><br/><a href=\"http://dx.doi.org/10.1016/S2215-0366(20)30076-6\" target=\"_blank\">The neglected health of international migrant workers in the COVID-19 epidemic</a><br/><a href=\"http://dx.doi.org/10.1016/S0140-6736(20)30464-5\" target=\"_blank\">Looming threat of COVID-19 infection in Africa: act collectively, and fast</a><br/><a href=\"http://dx.doi.org/10.1016/j.ijsu.2020.03.001\" target=\"_blank\">A commentary on “World Health Organization declares global emergency: A review of the 2019 novel Coronavirus (COVID-19)”</a>"
      ],
      "text/plain": [
       "<IPython.core.display.HTML object>"
      ]
     },
     "metadata": {},
     "output_type": "display_data"
    },
    {
     "name": "stdout",
     "output_type": "stream",
     "text": [
      "Rapid assessment of the likely efficacy of school closures, travel bans, bans on mass gatherings of various sizes, and other social distancing approaches.\n"
     ]
    },
    {
     "data": {
      "text/html": [
       "<a href=\"http://dx.doi.org/10.1016/S0140-6736(20)30567-5\" target=\"_blank\">How will country-based mitigation measures influence the course of the COVID-19 epidemic?</a><br/><a href=\"http://dx.doi.org/10.1016/S2214-109X(20)30101-7\" target=\"_blank\">Can Nigeria contain the COVID-19 outbreak using lessons from recent epidemics?</a><br/><a href=\"http://dx.doi.org/10.1101/2020.03.04.20031187\" target=\"_blank\">The impact of social distancing and epicenter lockdown on the COVID-19 epidemic in mainland China: A data-driven SEIQR model study</a><br/><a href=\"http://dx.doi.org/10.1186/s41256-020-00137-4\" target=\"_blank\">First two months of the 2019 Coronavirus Disease (COVID-19) epidemic in China: real-time surveillance and evaluation with a second derivative model</a><br/><a href=\"http://dx.doi.org/10.1016/S0140-6736(20)30411-6\" target=\"_blank\">Preparedness and vulnerability of African countries against importations of COVID-19: a modelling study</a>"
      ],
      "text/plain": [
       "<IPython.core.display.HTML object>"
      ]
     },
     "metadata": {},
     "output_type": "display_data"
    },
    {
     "name": "stdout",
     "output_type": "stream",
     "text": [
      "Methods to control the spread in communities, barriers to compliance and how these vary among different populations..\n"
     ]
    },
    {
     "data": {
      "text/html": [
       "<a href=\"http://dx.doi.org/10.1101/2020.02.18.20024448\" target=\"_blank\">Psychological responses, behavioral changes and public perceptions during the early phase of the COVID-19 outbreak in China: a population based cross-sectional survey</a><br/><a href=\"http://dx.doi.org/10.1101/2020.03.09.20033381\" target=\"_blank\">Novel Coronavirus (COVID-19) Knowledge and Perceptions: A Survey of Healthcare Workers</a><br/><a href=\"http://dx.doi.org/10.1101/2020.02.26.20028217\" target=\"_blank\">Community responses during the early phase of the COVID-19 epidemic in Hong Kong: risk perception, information exposure and preventive measures</a><br/><a href=\"http://dx.doi.org/10.1101/2020.03.13.20033290\" target=\"_blank\">Mental health status among family members of health care workers in Ningbo, China during the Coronavirus Disease 2019 (COVID-19) outbreak: a Cross-sectional Study</a><br/><a href=\"http://dx.doi.org/10.1101/2020.02.14.20023036\" target=\"_blank\">The Efficacy of Contact Tracing for the Containment of the 2019 Novel Coronavirus (COVID-19).</a>"
      ],
      "text/plain": [
       "<IPython.core.display.HTML object>"
      ]
     },
     "metadata": {},
     "output_type": "display_data"
    },
    {
     "name": "stdout",
     "output_type": "stream",
     "text": [
      "Models of potential interventions to predict costs and benefits that take account of such factors as race, income, disability, age, geographic location, immigration status, housing status, employment status, and health insurance status.\n"
     ]
    },
    {
     "data": {
      "text/html": [
       "<a href=\"http://dx.doi.org/10.1016/S0140-6736(20)30526-2\" target=\"_blank\">COVID-19: the gendered impacts of the outbreak</a><br/><a href=\"http://dx.doi.org/10.1016/S2215-0366(20)30079-1\" target=\"_blank\">Mental health services for older adults in China during the COVID-19 outbreak</a><br/><a href=\"http://dx.doi.org/10.1016/S0140-6736(20)30561-4\" target=\"_blank\">Preparedness is essential for malaria-endemic regions during the COVID-19 pandemic</a><br/><a href=\"http://dx.doi.org/10.1016/S0140-6736(20)30069-6\" target=\"_blank\">Responding to health emergencies in the Eastern Mediterranean region in times of conflict</a><br/><a href=\"http://dx.doi.org/10.1016/j.tmaid.2020.101628\" target=\"_blank\">Is Romania ready to face the novel coronavirus (COVID-19) outbreak? The role of incoming travelers and that of Romanian diaspora</a>"
      ],
      "text/plain": [
       "<IPython.core.display.HTML object>"
      ]
     },
     "metadata": {},
     "output_type": "display_data"
    },
    {
     "name": "stdout",
     "output_type": "stream",
     "text": [
      "Policy changes necessary to enable the compliance of individuals with limited resources and the underserved with NPIs.\n"
     ]
    },
    {
     "data": {
      "text/html": [
       "<a href=\"http://dx.doi.org/10.1016/S0140-6736(20)30069-6\" target=\"_blank\">Responding to health emergencies in the Eastern Mediterranean region in times of conflict</a><br/><a href=\"http://dx.doi.org/10.1016/S2468-2667(20)30048-7\" target=\"_blank\">How African migrants in China cope with barriers to health care</a><br/><a href=\"http://dx.doi.org/10.1016/S2215-0366(20)30076-6\" target=\"_blank\">The neglected health of international migrant workers in the COVID-19 epidemic</a><br/><a href=\"http://dx.doi.org/10.1016/S0140-6736(20)30464-5\" target=\"_blank\">Looming threat of COVID-19 infection in Africa: act collectively, and fast</a><br/><a href=\"http://dx.doi.org/10.1016/j.ijsu.2020.03.001\" target=\"_blank\">A commentary on “World Health Organization declares global emergency: A review of the 2019 novel Coronavirus (COVID-19)”</a>"
      ],
      "text/plain": [
       "<IPython.core.display.HTML object>"
      ]
     },
     "metadata": {},
     "output_type": "display_data"
    },
    {
     "name": "stdout",
     "output_type": "stream",
     "text": [
      "Research on why people fail to comply with public health advice, even if they want to do so (e.g., social or financial costs may be too high).\n"
     ]
    },
    {
     "data": {
      "text/html": [
       "<a href=\"http://dx.doi.org/10.1016/S0140-6736(20)30069-6\" target=\"_blank\">Responding to health emergencies in the Eastern Mediterranean region in times of conflict</a><br/><a href=\"http://dx.doi.org/10.1016/S2468-2667(20)30048-7\" target=\"_blank\">How African migrants in China cope with barriers to health care</a><br/><a href=\"http://dx.doi.org/10.1016/S2215-0366(20)30076-6\" target=\"_blank\">The neglected health of international migrant workers in the COVID-19 epidemic</a><br/><a href=\"http://dx.doi.org/10.1016/j.ijsu.2020.03.001\" target=\"_blank\">A commentary on “World Health Organization declares global emergency: A review of the 2019 novel Coronavirus (COVID-19)”</a><br/><a href=\"http://dx.doi.org/10.1016/j.tmaid.2020.101631\" target=\"_blank\">The cancellation of mass gatherings (MGs)? Decision making in the time of COVID-19</a>"
      ],
      "text/plain": [
       "<IPython.core.display.HTML object>"
      ]
     },
     "metadata": {},
     "output_type": "display_data"
    },
    {
     "name": "stdout",
     "output_type": "stream",
     "text": [
      "Research on the economic impact of this or any pandemic. This would include identifying policy and programmatic alternatives that lessen/mitigate risks to critical government services, food distribution and supplies, access to critical household supplies, and access to health diagnoses, treatment, and needed care, regardless of ability to pay.\n"
     ]
    },
    {
     "data": {
      "text/html": [
       "<a href=\"http://dx.doi.org/10.1016/S0140-6736(20)30069-6\" target=\"_blank\">Responding to health emergencies in the Eastern Mediterranean region in times of conflict</a><br/><a href=\"http://dx.doi.org/10.1016/S2468-2667(20)30048-7\" target=\"_blank\">How African migrants in China cope with barriers to health care</a><br/><a href=\"http://dx.doi.org/10.1016/S2215-0366(20)30076-6\" target=\"_blank\">The neglected health of international migrant workers in the COVID-19 epidemic</a><br/><a href=\"http://dx.doi.org/10.1016/j.ijsu.2020.03.001\" target=\"_blank\">A commentary on “World Health Organization declares global emergency: A review of the 2019 novel Coronavirus (COVID-19)”</a><br/><a href=\"http://dx.doi.org/10.1016/j.tmaid.2020.101631\" target=\"_blank\">The cancellation of mass gatherings (MGs)? Decision making in the time of COVID-19</a>"
      ],
      "text/plain": [
       "<IPython.core.display.HTML object>"
      ]
     },
     "metadata": {},
     "output_type": "display_data"
    }
   ],
   "source": [
    "relevant_articles(task4, 5, only_covid19=True)"
   ]
  },
  {
   "cell_type": "markdown",
   "metadata": {},
   "source": [
    "### What do we know about vaccines and therapeutics?"
   ]
  },
  {
   "cell_type": "code",
   "execution_count": 225,
   "metadata": {
    "ExecuteTime": {
     "end_time": "2020-03-29T16:32:46.762313Z",
     "start_time": "2020-03-29T16:30:33.999005Z"
    }
   },
   "outputs": [
    {
     "name": "stdout",
     "output_type": "stream",
     "text": [
      "Effectiveness of drugs being developed and tried to treat COVID-19 patients. Clinical and bench trials to investigate less common viral inhibitors against COVID-19 such as naproxen, clarithromycin, and minocyclinethat that may exert effects on viral replication.\n"
     ]
    },
    {
     "data": {
      "text/html": [
       "<a href=\"http://dx.doi.org/10.1016/j.tmaid.2020.101615\" target=\"_blank\">Remdesivir as a possible therapeutic option for the COVID-19</a><br/><a href=\"http://dx.doi.org/10.1016/j.antiviral.2020.104762\" target=\"_blank\">Of chloroquine and COVID-19</a><br/><a href=\"http://dx.doi.org/10.1016/j.ijantimicag.2020.105932\" target=\"_blank\">Chloroquine and hydroxychloroquine as available weapons to fight COVID-19</a><br/><a href=\"http://dx.doi.org/10.3346/jkms.2020.35.e89\" target=\"_blank\">The Author's Response: Case of the Index Patient Who Caused Tertiary Transmission of Coronavirus Disease 2019 in Korea: the Application of Lopinavir/Ritonavir for the Treatment of COVID-19 Pneumonia Monitored by Quantitative RT-PCR</a><br/><a href=\"http://dx.doi.org/10.1016/j.ijantimicag.2020.105923\" target=\"_blank\">Chloroquine for the 2019 novel coronavirus SARS-CoV-2</a>"
      ],
      "text/plain": [
       "<IPython.core.display.HTML object>"
      ]
     },
     "metadata": {},
     "output_type": "display_data"
    },
    {
     "name": "stdout",
     "output_type": "stream",
     "text": [
      "Methods evaluating potential complication of Antibody-Dependent Enhancement (ADE) in vaccine recipients.\n"
     ]
    },
    {
     "data": {
      "text/html": [
       "<a href=\"http://dx.doi.org/10.1101/2020.02.25.963546\" target=\"_blank\">An Effective CTL Peptide Vaccine for Ebola Zaire Based on Survivors' CD8+ Targeting of a Particular Nucleocapsid Protein Epitope with Potential Implications for COVID-19 Vaccine Design</a><br/><a href=\"http://dx.doi.org/10.3390/v12030254\" target=\"_blank\">Preliminary Identification of Potential Vaccine Targets for the COVID-19 Coronavirus (SARS-CoV-2) Based on SARS-CoV Immunological Studies</a><br/><a href=\"http://dx.doi.org/10.1101/2020.02.03.933226\" target=\"_blank\">Preliminary identification of potential vaccine targets for the COVID-19 coronavirus (SARS-CoV-2) based on SARS-CoV immunological studies</a><br/><a href=\"http://dx.doi.org/10.1016/j.chom.2020.03.002\" target=\"_blank\">A Sequence Homology and Bioinformatic Approach Can Predict Candidate Targets for Immune Responses to SARS-CoV-2</a><br/><a href=\"http://dx.doi.org/10.1101/2020.02.04.934232\" target=\"_blank\">Design of multi epitope-based peptide vaccine against E protein of human COVID-19: An immunoinformatics approach</a>"
      ],
      "text/plain": [
       "<IPython.core.display.HTML object>"
      ]
     },
     "metadata": {},
     "output_type": "display_data"
    },
    {
     "name": "stdout",
     "output_type": "stream",
     "text": [
      "Exploration of use of best animal models and their predictive value for a human vaccine.\n"
     ]
    },
    {
     "data": {
      "text/html": [
       "<a href=\"http://dx.doi.org/10.3390/jcm9030674\" target=\"_blank\">Optimization Method for Forecasting Confirmed Cases of COVID-19 in China</a><br/><a href=\"http://dx.doi.org/10.1101/2020.02.05.935072\" target=\"_blank\">The Essential Facts of Wuhan Novel Coronavirus Outbreak in China and Epitope-based Vaccine Designing against COVID-19</a><br/><a href=\"http://dx.doi.org/10.1016/j.chom.2020.03.002\" target=\"_blank\">A Sequence Homology and Bioinformatic Approach Can Predict Candidate Targets for Immune Responses to SARS-CoV-2</a><br/><a href=\"http://dx.doi.org/10.1101/2020.02.04.934232\" target=\"_blank\">Design of multi epitope-based peptide vaccine against E protein of human COVID-19: An immunoinformatics approach</a><br/><a href=\"http://dx.doi.org/10.3390/v12030254\" target=\"_blank\">Preliminary Identification of Potential Vaccine Targets for the COVID-19 Coronavirus (SARS-CoV-2) Based on SARS-CoV Immunological Studies</a>"
      ],
      "text/plain": [
       "<IPython.core.display.HTML object>"
      ]
     },
     "metadata": {},
     "output_type": "display_data"
    },
    {
     "name": "stdout",
     "output_type": "stream",
     "text": [
      "Capabilities to discover a therapeutic (not vaccine) for the disease, and clinical effectiveness studies to discover therapeutics, to include antiviral agents.\n"
     ]
    },
    {
     "data": {
      "text/html": [
       "<a href=\"http://dx.doi.org/10.1101/2020.02.25.963546\" target=\"_blank\">An Effective CTL Peptide Vaccine for Ebola Zaire Based on Survivors' CD8+ Targeting of a Particular Nucleocapsid Protein Epitope with Potential Implications for COVID-19 Vaccine Design</a><br/><a href=\"http://dx.doi.org/10.3390/v12030254\" target=\"_blank\">Preliminary Identification of Potential Vaccine Targets for the COVID-19 Coronavirus (SARS-CoV-2) Based on SARS-CoV Immunological Studies</a><br/><a href=\"http://dx.doi.org/10.1101/2020.02.03.933226\" target=\"_blank\">Preliminary identification of potential vaccine targets for the COVID-19 coronavirus (SARS-CoV-2) based on SARS-CoV immunological studies</a><br/><a href=\"http://dx.doi.org/10.1016/j.chom.2020.03.002\" target=\"_blank\">A Sequence Homology and Bioinformatic Approach Can Predict Candidate Targets for Immune Responses to SARS-CoV-2</a><br/><a href=\"http://dx.doi.org/10.1101/2020.02.04.934232\" target=\"_blank\">Design of multi epitope-based peptide vaccine against E protein of human COVID-19: An immunoinformatics approach</a>"
      ],
      "text/plain": [
       "<IPython.core.display.HTML object>"
      ]
     },
     "metadata": {},
     "output_type": "display_data"
    },
    {
     "name": "stdout",
     "output_type": "stream",
     "text": [
      "Alternative models to aid decision makers in determining how to prioritize and distribute scarce, newly proven therapeutics as production ramps up. This could include identifying approaches for expanding production capacity to ensure equitable and timely distribution to populations in need.\n"
     ]
    },
    {
     "data": {
      "text/html": [
       "<a href=\"http://dx.doi.org/10.1016/S2214-109X(20)30101-7\" target=\"_blank\">Can Nigeria contain the COVID-19 outbreak using lessons from recent epidemics?</a><br/><a href=\"http://dx.doi.org/10.1016/S0140-6736(20)30069-6\" target=\"_blank\">Responding to health emergencies in the Eastern Mediterranean region in times of conflict</a><br/><a href=\"http://dx.doi.org/10.1016/j.ijsu.2020.03.001\" target=\"_blank\">A commentary on “World Health Organization declares global emergency: A review of the 2019 novel Coronavirus (COVID-19)”</a><br/><a href=\"http://dx.doi.org/10.1016/S2468-2667(20)30048-7\" target=\"_blank\">How African migrants in China cope with barriers to health care</a><br/><a href=\"http://dx.doi.org/10.1016/S2468-2667(20)30053-0\" target=\"_blank\">COVID-19: a potential public health problem for homeless populations</a>"
      ],
      "text/plain": [
       "<IPython.core.display.HTML object>"
      ]
     },
     "metadata": {},
     "output_type": "display_data"
    },
    {
     "name": "stdout",
     "output_type": "stream",
     "text": [
      "Efforts targeted at a universal coronavirus vaccine.\n"
     ]
    },
    {
     "data": {
      "text/html": [
       "<a href=\"http://dx.doi.org/10.3390/v12030254\" target=\"_blank\">Preliminary Identification of Potential Vaccine Targets for the COVID-19 Coronavirus (SARS-CoV-2) Based on SARS-CoV Immunological Studies</a><br/><a href=\"http://dx.doi.org/10.1016/j.chom.2020.03.002\" target=\"_blank\">A Sequence Homology and Bioinformatic Approach Can Predict Candidate Targets for Immune Responses to SARS-CoV-2</a><br/><a href=\"http://dx.doi.org/10.1101/2020.02.03.933226\" target=\"_blank\">Preliminary identification of potential vaccine targets for the COVID-19 coronavirus (SARS-CoV-2) based on SARS-CoV immunological studies</a><br/><a href=\"http://dx.doi.org/10.1101/2020.02.04.934232\" target=\"_blank\">Design of multi epitope-based peptide vaccine against E protein of human COVID-19: An immunoinformatics approach</a><br/><a href=\"http://dx.doi.org/10.1101/2020.02.25.963546\" target=\"_blank\">An Effective CTL Peptide Vaccine for Ebola Zaire Based on Survivors' CD8+ Targeting of a Particular Nucleocapsid Protein Epitope with Potential Implications for COVID-19 Vaccine Design</a>"
      ],
      "text/plain": [
       "<IPython.core.display.HTML object>"
      ]
     },
     "metadata": {},
     "output_type": "display_data"
    },
    {
     "name": "stdout",
     "output_type": "stream",
     "text": [
      "Efforts to develop animal models and standardize challenge studies\n"
     ]
    },
    {
     "data": {
      "text/html": [
       "<a href=\"http://dx.doi.org/10.1101/2020.02.25.963546\" target=\"_blank\">An Effective CTL Peptide Vaccine for Ebola Zaire Based on Survivors' CD8+ Targeting of a Particular Nucleocapsid Protein Epitope with Potential Implications for COVID-19 Vaccine Design</a><br/><a href=\"http://dx.doi.org/10.3390/v12030254\" target=\"_blank\">Preliminary Identification of Potential Vaccine Targets for the COVID-19 Coronavirus (SARS-CoV-2) Based on SARS-CoV Immunological Studies</a><br/><a href=\"http://dx.doi.org/10.1101/2020.02.03.933226\" target=\"_blank\">Preliminary identification of potential vaccine targets for the COVID-19 coronavirus (SARS-CoV-2) based on SARS-CoV immunological studies</a><br/><a href=\"http://dx.doi.org/10.1016/j.chom.2020.03.002\" target=\"_blank\">A Sequence Homology and Bioinformatic Approach Can Predict Candidate Targets for Immune Responses to SARS-CoV-2</a><br/><a href=\"http://dx.doi.org/10.1101/2020.02.04.934232\" target=\"_blank\">Design of multi epitope-based peptide vaccine against E protein of human COVID-19: An immunoinformatics approach</a>"
      ],
      "text/plain": [
       "<IPython.core.display.HTML object>"
      ]
     },
     "metadata": {},
     "output_type": "display_data"
    },
    {
     "name": "stdout",
     "output_type": "stream",
     "text": [
      "Efforts to develop prophylaxis clinical studies and prioritize in healthcare workers\n"
     ]
    },
    {
     "data": {
      "text/html": [
       "<a href=\"http://dx.doi.org/10.1016/S0140-6736(20)30463-3\" target=\"_blank\">Lessons for managing high-consequence infections from first COVID-19 cases in the UK</a><br/><a href=\"http://dx.doi.org/10.12809/hkmj208375\" target=\"_blank\">Severe acute respiratory symptoms and suspected sars again 2020</a><br/><a href=\"http://dx.doi.org/10.1016/S2213-2600(20)30114-4\" target=\"_blank\">Adoption of COVID-19 triage strategies for low-income settings</a><br/><a href=\"http://dx.doi.org/10.1016/j.ijsu.2020.03.002\" target=\"_blank\">An Invited Commentary on “World Health Organization declares global emergency: A review of the 2019 novel Coronavirus (COVID-19)\": Emergency or new reality?</a><br/><a href=\"http://dx.doi.org/10.1016/j.eururo.2020.03.004\" target=\"_blank\">Stepping Forward: Urologists’ Efforts During the COVID-19 Outbreak in Singapore</a>"
      ],
      "text/plain": [
       "<IPython.core.display.HTML object>"
      ]
     },
     "metadata": {},
     "output_type": "display_data"
    },
    {
     "name": "stdout",
     "output_type": "stream",
     "text": [
      "Approaches to evaluate risk for enhanced disease after vaccination\n"
     ]
    },
    {
     "data": {
      "text/html": [
       "<a href=\"http://dx.doi.org/10.1101/2020.02.25.963546\" target=\"_blank\">An Effective CTL Peptide Vaccine for Ebola Zaire Based on Survivors' CD8+ Targeting of a Particular Nucleocapsid Protein Epitope with Potential Implications for COVID-19 Vaccine Design</a><br/><a href=\"http://dx.doi.org/10.3390/v12030254\" target=\"_blank\">Preliminary Identification of Potential Vaccine Targets for the COVID-19 Coronavirus (SARS-CoV-2) Based on SARS-CoV Immunological Studies</a><br/><a href=\"http://dx.doi.org/10.1101/2020.02.03.933226\" target=\"_blank\">Preliminary identification of potential vaccine targets for the COVID-19 coronavirus (SARS-CoV-2) based on SARS-CoV immunological studies</a><br/><a href=\"http://dx.doi.org/10.1016/j.chom.2020.03.002\" target=\"_blank\">A Sequence Homology and Bioinformatic Approach Can Predict Candidate Targets for Immune Responses to SARS-CoV-2</a><br/><a href=\"http://dx.doi.org/10.1101/2020.02.04.934232\" target=\"_blank\">Design of multi epitope-based peptide vaccine against E protein of human COVID-19: An immunoinformatics approach</a>"
      ],
      "text/plain": [
       "<IPython.core.display.HTML object>"
      ]
     },
     "metadata": {},
     "output_type": "display_data"
    },
    {
     "name": "stdout",
     "output_type": "stream",
     "text": [
      "Assays to evaluate vaccine immune response and process development for vaccines, alongside suitable animal models [in conjunction with therapeutics]\n"
     ]
    },
    {
     "data": {
      "text/html": [
       "<a href=\"http://dx.doi.org/10.1101/2020.02.25.963546\" target=\"_blank\">An Effective CTL Peptide Vaccine for Ebola Zaire Based on Survivors' CD8+ Targeting of a Particular Nucleocapsid Protein Epitope with Potential Implications for COVID-19 Vaccine Design</a><br/><a href=\"http://dx.doi.org/10.3390/v12030254\" target=\"_blank\">Preliminary Identification of Potential Vaccine Targets for the COVID-19 Coronavirus (SARS-CoV-2) Based on SARS-CoV Immunological Studies</a><br/><a href=\"http://dx.doi.org/10.1101/2020.02.03.933226\" target=\"_blank\">Preliminary identification of potential vaccine targets for the COVID-19 coronavirus (SARS-CoV-2) based on SARS-CoV immunological studies</a><br/><a href=\"http://dx.doi.org/10.1016/j.chom.2020.03.002\" target=\"_blank\">A Sequence Homology and Bioinformatic Approach Can Predict Candidate Targets for Immune Responses to SARS-CoV-2</a><br/><a href=\"http://dx.doi.org/10.1101/2020.02.04.934232\" target=\"_blank\">Design of multi epitope-based peptide vaccine against E protein of human COVID-19: An immunoinformatics approach</a>"
      ],
      "text/plain": [
       "<IPython.core.display.HTML object>"
      ]
     },
     "metadata": {},
     "output_type": "display_data"
    }
   ],
   "source": [
    "relevant_articles(task5, 5, only_covid19=True)"
   ]
  },
  {
   "cell_type": "markdown",
   "metadata": {},
   "source": [
    "### What has been published about ethical and social science considerations?"
   ]
  },
  {
   "cell_type": "code",
   "execution_count": 226,
   "metadata": {
    "ExecuteTime": {
     "end_time": "2020-03-29T16:34:19.702703Z",
     "start_time": "2020-03-29T16:32:46.764353Z"
    }
   },
   "outputs": [
    {
     "name": "stdout",
     "output_type": "stream",
     "text": [
      "Efforts to articulate and translate existing ethical principles and standards to salient issues in COVID-2019\n"
     ]
    },
    {
     "data": {
      "text/html": [
       "<a href=\"http://dx.doi.org/10.1016/S0140-6736(20)30069-6\" target=\"_blank\">Responding to health emergencies in the Eastern Mediterranean region in times of conflict</a><br/><a href=\"http://dx.doi.org/10.1016/j.ijsu.2020.03.001\" target=\"_blank\">A commentary on “World Health Organization declares global emergency: A review of the 2019 novel Coronavirus (COVID-19)”</a><br/><a href=\"http://dx.doi.org/10.1016/S2214-109X(20)30101-7\" target=\"_blank\">Can Nigeria contain the COVID-19 outbreak using lessons from recent epidemics?</a><br/><a href=\"http://dx.doi.org/10.1016/S2468-2667(20)30053-0\" target=\"_blank\">COVID-19: a potential public health problem for homeless populations</a><br/><a href=\"http://dx.doi.org/10.1016/S0140-6736(20)30464-5\" target=\"_blank\">Looming threat of COVID-19 infection in Africa: act collectively, and fast</a>"
      ],
      "text/plain": [
       "<IPython.core.display.HTML object>"
      ]
     },
     "metadata": {},
     "output_type": "display_data"
    },
    {
     "name": "stdout",
     "output_type": "stream",
     "text": [
      "Efforts to embed ethics across all thematic areas, engage with novel ethical issues that arise and coordinate to minimize duplication of oversight\n"
     ]
    },
    {
     "data": {
      "text/html": [
       "<a href=\"http://dx.doi.org/10.1016/S0140-6736(20)30069-6\" target=\"_blank\">Responding to health emergencies in the Eastern Mediterranean region in times of conflict</a><br/><a href=\"http://dx.doi.org/10.1016/S2468-2667(20)30048-7\" target=\"_blank\">How African migrants in China cope with barriers to health care</a><br/><a href=\"http://dx.doi.org/10.1016/S2215-0366(20)30076-6\" target=\"_blank\">The neglected health of international migrant workers in the COVID-19 epidemic</a><br/><a href=\"http://dx.doi.org/10.1016/j.ijsu.2020.03.001\" target=\"_blank\">A commentary on “World Health Organization declares global emergency: A review of the 2019 novel Coronavirus (COVID-19)”</a><br/><a href=\"http://dx.doi.org/10.1016/j.tmaid.2020.101631\" target=\"_blank\">The cancellation of mass gatherings (MGs)? Decision making in the time of COVID-19</a>"
      ],
      "text/plain": [
       "<IPython.core.display.HTML object>"
      ]
     },
     "metadata": {},
     "output_type": "display_data"
    },
    {
     "name": "stdout",
     "output_type": "stream",
     "text": [
      "Efforts to support sustained education, access, and capacity building in the area of ethics\n"
     ]
    },
    {
     "data": {
      "text/html": [
       "<a href=\"http://dx.doi.org/10.1016/S0140-6736(20)30069-6\" target=\"_blank\">Responding to health emergencies in the Eastern Mediterranean region in times of conflict</a><br/><a href=\"http://dx.doi.org/10.1016/S2468-2667(20)30048-7\" target=\"_blank\">How African migrants in China cope with barriers to health care</a><br/><a href=\"http://dx.doi.org/10.1016/S2215-0366(20)30076-6\" target=\"_blank\">The neglected health of international migrant workers in the COVID-19 epidemic</a><br/><a href=\"http://dx.doi.org/10.1016/j.ijsu.2020.03.001\" target=\"_blank\">A commentary on “World Health Organization declares global emergency: A review of the 2019 novel Coronavirus (COVID-19)”</a><br/><a href=\"http://dx.doi.org/10.1016/j.tmaid.2020.101631\" target=\"_blank\">The cancellation of mass gatherings (MGs)? Decision making in the time of COVID-19</a>"
      ],
      "text/plain": [
       "<IPython.core.display.HTML object>"
      ]
     },
     "metadata": {},
     "output_type": "display_data"
    },
    {
     "name": "stdout",
     "output_type": "stream",
     "text": [
      "Efforts to establish a team at WHO that will be integrated within multidisciplinary research and operational platforms and that will connect with existing and expanded global networks of social sciences.\n"
     ]
    },
    {
     "data": {
      "text/html": [
       "<a href=\"http://dx.doi.org/10.1016/S0140-6736(20)30069-6\" target=\"_blank\">Responding to health emergencies in the Eastern Mediterranean region in times of conflict</a><br/><a href=\"http://dx.doi.org/10.1016/S2468-2667(20)30048-7\" target=\"_blank\">How African migrants in China cope with barriers to health care</a><br/><a href=\"http://dx.doi.org/10.1016/S2215-0366(20)30076-6\" target=\"_blank\">The neglected health of international migrant workers in the COVID-19 epidemic</a><br/><a href=\"http://dx.doi.org/10.1016/j.ijsu.2020.03.001\" target=\"_blank\">A commentary on “World Health Organization declares global emergency: A review of the 2019 novel Coronavirus (COVID-19)”</a><br/><a href=\"http://dx.doi.org/10.1016/j.tmaid.2020.101631\" target=\"_blank\">The cancellation of mass gatherings (MGs)? Decision making in the time of COVID-19</a>"
      ],
      "text/plain": [
       "<IPython.core.display.HTML object>"
      ]
     },
     "metadata": {},
     "output_type": "display_data"
    },
    {
     "name": "stdout",
     "output_type": "stream",
     "text": [
      "Efforts to develop qualitative assessment frameworks to systematically collect information related to local barriers and enablers for the uptake and adherence to public health measures for prevention and control. This includes the rapid identification of the secondary impacts of these measures. (e.g. use of surgical masks, modification of health seeking behaviors for SRH, school closures)\n"
     ]
    },
    {
     "data": {
      "text/html": [
       "<a href=\"http://dx.doi.org/10.1093/pcmedi/pbaa006\" target=\"_blank\">Recommended psychological crisis intervention response to the 2019 novel coronavirus pneumonia outbreak in China: a model of West China Hospital</a><br/><a href=\"http://dx.doi.org/10.1016/S0140-6736(20)30547-X\" target=\"_blank\">Mitigate the effects of home confinement on children during the COVID-19 outbreak</a><br/><a href=\"http://dx.doi.org/10.1016/j.janxdis.2020.102211\" target=\"_blank\">How health anxiety influences responses to viral outbreaks like COVID-19: What all decision-makers, health authorities, and health care professionals need to know</a><br/><a href=\"http://dx.doi.org/10.1016/S2215-0366(20)30073-0\" target=\"_blank\">Psychological interventions for people affected by the COVID-19 epidemic</a><br/><a href=\"http://dx.doi.org/10.1016/j.psychres.2020.112915\" target=\"_blank\">The Emotional Impact Of Coronavirus 2019-Ncov (New Coronavirus Disease)</a>"
      ],
      "text/plain": [
       "<IPython.core.display.HTML object>"
      ]
     },
     "metadata": {},
     "output_type": "display_data"
    },
    {
     "name": "stdout",
     "output_type": "stream",
     "text": [
      "Efforts to identify how the burden of responding to the outbreak and implementing public health measures affects the physical and psychological health of those providing care for Covid-19 patients and identify the immediate needs that must be addressed.\n"
     ]
    },
    {
     "data": {
      "text/html": [
       "<a href=\"http://dx.doi.org/10.1016/S0140-6736(20)30069-6\" target=\"_blank\">Responding to health emergencies in the Eastern Mediterranean region in times of conflict</a><br/><a href=\"http://dx.doi.org/10.1016/j.ijsu.2020.03.001\" target=\"_blank\">A commentary on “World Health Organization declares global emergency: A review of the 2019 novel Coronavirus (COVID-19)”</a><br/><a href=\"http://dx.doi.org/10.1016/S0140-6736(20)30551-1\" target=\"_blank\">Are high-performing health systems resilient against the COVID-19 epidemic?</a><br/><a href=\"http://dx.doi.org/10.1016/S2468-2667(20)30048-7\" target=\"_blank\">How African migrants in China cope with barriers to health care</a><br/><a href=\"http://dx.doi.org/10.3399/bjgpopen20X101041\" target=\"_blank\">The coronavirus outbreak: the central role of primary care in emergency preparedness and response</a>"
      ],
      "text/plain": [
       "<IPython.core.display.HTML object>"
      ]
     },
     "metadata": {},
     "output_type": "display_data"
    },
    {
     "name": "stdout",
     "output_type": "stream",
     "text": [
      "Efforts to identify the underlying drivers of fear, anxiety and stigma that fuel misinformation and rumor, particularly through social media.\n"
     ]
    },
    {
     "data": {
      "text/html": [
       "<a href=\"http://dx.doi.org/10.1016/S2468-2667(20)30048-7\" target=\"_blank\">How African migrants in China cope with barriers to health care</a><br/><a href=\"http://dx.doi.org/10.2471/BLT.20.251561\" target=\"_blank\">Data sharing for novel coronavirus (COVID-19)</a><br/><a href=\"http://dx.doi.org/10.3390/healthcare8010046\" target=\"_blank\">On the Coronavirus (COVID-19) Outbreak and the Smart City Network: Universal Data Sharing Standards Coupled with Artificial Intelligence (AI) to Benefit Urban Health Monitoring and Management</a><br/><a href=\"http://dx.doi.org/10.1016/S0140-6736(20)30069-6\" target=\"_blank\">Responding to health emergencies in the Eastern Mediterranean region in times of conflict</a><br/><a href=\"http://dx.doi.org/10.1016/j.psychres.2020.112915\" target=\"_blank\">The Emotional Impact Of Coronavirus 2019-Ncov (New Coronavirus Disease)</a>"
      ],
      "text/plain": [
       "<IPython.core.display.HTML object>"
      ]
     },
     "metadata": {},
     "output_type": "display_data"
    }
   ],
   "source": [
    "relevant_articles(task6, 5, only_covid19=True)"
   ]
  },
  {
   "cell_type": "markdown",
   "metadata": {},
   "source": [
    "### What do we know about diagnostics and surveillance?"
   ]
  },
  {
   "cell_type": "code",
   "execution_count": 227,
   "metadata": {
    "ExecuteTime": {
     "end_time": "2020-03-29T16:38:32.497208Z",
     "start_time": "2020-03-29T16:34:19.704781Z"
    },
    "scrolled": false
   },
   "outputs": [
    {
     "name": "stdout",
     "output_type": "stream",
     "text": [
      "How widespread current exposure is to be able to make immediate policy recommendations on mitigation measures. Denominators for testing and a mechanism for rapidly sharing that information, including demographics, to the extent possible. Sampling methods to determine asymptomatic disease (e.g., use of serosurveys (such as convalescent samples) and early detection of disease (e.g., use of screening of neutralizing antibodies such as ELISAs).\n"
     ]
    },
    {
     "data": {
      "text/html": [
       "<a href=\"http://dx.doi.org/10.1016/j.tmaid.2020.101613\" target=\"_blank\">COVID-19 in Latin America: The implications of the first confirmed case in Brazil</a><br/><a href=\"http://dx.doi.org/10.1016/S2468-2667(20)30053-0\" target=\"_blank\">COVID-19: a potential public health problem for homeless populations</a><br/><a href=\"http://dx.doi.org/10.1016/S0140-6736(20)30561-4\" target=\"_blank\">Preparedness is essential for malaria-endemic regions during the COVID-19 pandemic</a><br/><a href=\"http://dx.doi.org/10.1016/S0140-6736(20)30464-5\" target=\"_blank\">Looming threat of COVID-19 infection in Africa: act collectively, and fast</a><br/><a href=\"http://dx.doi.org/10.1016/S0140-6736(20)30526-2\" target=\"_blank\">COVID-19: the gendered impacts of the outbreak</a>"
      ],
      "text/plain": [
       "<IPython.core.display.HTML object>"
      ]
     },
     "metadata": {},
     "output_type": "display_data"
    },
    {
     "name": "stdout",
     "output_type": "stream",
     "text": [
      "Efforts to increase capacity on existing diagnostic platforms and tap into existing surveillance platforms.\n"
     ]
    },
    {
     "data": {
      "text/html": [
       "<a href=\"http://dx.doi.org/10.1016/S0140-6736(20)30069-6\" target=\"_blank\">Responding to health emergencies in the Eastern Mediterranean region in times of conflict</a><br/><a href=\"http://dx.doi.org/10.1016/S2468-2667(20)30048-7\" target=\"_blank\">How African migrants in China cope with barriers to health care</a><br/><a href=\"http://dx.doi.org/10.1016/S2215-0366(20)30076-6\" target=\"_blank\">The neglected health of international migrant workers in the COVID-19 epidemic</a><br/><a href=\"http://dx.doi.org/10.1016/j.ijsu.2020.03.001\" target=\"_blank\">A commentary on “World Health Organization declares global emergency: A review of the 2019 novel Coronavirus (COVID-19)”</a><br/><a href=\"http://dx.doi.org/10.1016/j.tmaid.2020.101631\" target=\"_blank\">The cancellation of mass gatherings (MGs)? Decision making in the time of COVID-19</a>"
      ],
      "text/plain": [
       "<IPython.core.display.HTML object>"
      ]
     },
     "metadata": {},
     "output_type": "display_data"
    },
    {
     "name": "stdout",
     "output_type": "stream",
     "text": [
      "Recruitment, support, and coordination of local expertise and capacity (public, private—commercial, and non-profit, including academic), including legal, ethical, communications, and operational issues.\n"
     ]
    },
    {
     "data": {
      "text/html": [
       "<a href=\"http://dx.doi.org/10.1016/S0140-6736(20)30069-6\" target=\"_blank\">Responding to health emergencies in the Eastern Mediterranean region in times of conflict</a><br/><a href=\"http://dx.doi.org/10.1016/S2468-2667(20)30048-7\" target=\"_blank\">How African migrants in China cope with barriers to health care</a><br/><a href=\"http://dx.doi.org/10.1016/S2215-0366(20)30076-6\" target=\"_blank\">The neglected health of international migrant workers in the COVID-19 epidemic</a><br/><a href=\"http://dx.doi.org/10.1016/j.ijsu.2020.03.001\" target=\"_blank\">A commentary on “World Health Organization declares global emergency: A review of the 2019 novel Coronavirus (COVID-19)”</a><br/><a href=\"http://dx.doi.org/10.1016/j.tmaid.2020.101631\" target=\"_blank\">The cancellation of mass gatherings (MGs)? Decision making in the time of COVID-19</a>"
      ],
      "text/plain": [
       "<IPython.core.display.HTML object>"
      ]
     },
     "metadata": {},
     "output_type": "display_data"
    },
    {
     "name": "stdout",
     "output_type": "stream",
     "text": [
      "National guidance and guidelines about best practices to states (e.g., how states might leverage universities and private laboratories for testing purposes, communications to public health officials and the public).\n"
     ]
    },
    {
     "data": {
      "text/html": [
       "<a href=\"http://dx.doi.org/10.1016/S0140-6736(20)30069-6\" target=\"_blank\">Responding to health emergencies in the Eastern Mediterranean region in times of conflict</a><br/><a href=\"http://dx.doi.org/10.1016/S2468-2667(20)30048-7\" target=\"_blank\">How African migrants in China cope with barriers to health care</a><br/><a href=\"http://dx.doi.org/10.1016/S2215-0366(20)30076-6\" target=\"_blank\">The neglected health of international migrant workers in the COVID-19 epidemic</a><br/><a href=\"http://dx.doi.org/10.1016/j.ijsu.2020.03.001\" target=\"_blank\">A commentary on “World Health Organization declares global emergency: A review of the 2019 novel Coronavirus (COVID-19)”</a><br/><a href=\"http://dx.doi.org/10.1016/j.tmaid.2020.101631\" target=\"_blank\">The cancellation of mass gatherings (MGs)? Decision making in the time of COVID-19</a>"
      ],
      "text/plain": [
       "<IPython.core.display.HTML object>"
      ]
     },
     "metadata": {},
     "output_type": "display_data"
    },
    {
     "name": "stdout",
     "output_type": "stream",
     "text": [
      "Development of a point-of-care test (like a rapid influenza test) and rapid bed-side tests, recognizing the tradeoffs between speed, accessibility, and accuracy.\n"
     ]
    },
    {
     "data": {
      "text/html": [
       "<a href=\"http://dx.doi.org/10.1101/2020.03.07.20032326\" target=\"_blank\">Analytical sensibility and specificity of two RT-qPCR protocols for SARS-CoV-2 detection performed in an automated workflow</a><br/><a href=\"http://dx.doi.org/10.1016/j.jpha.2020.02.010\" target=\"_blank\">Recent advances and perspectives of nucleic acid detection for coronavirus</a><br/><a href=\"http://dx.doi.org/10.1016/j.jcv.2020.104305\" target=\"_blank\">Rapid random access detection of the novel SARS-coronavirus-2 (SARS-CoV-2, previously 2019-nCoV) using an open access protocol for the Panther Fusion</a><br/><a href=\"http://dx.doi.org/10.1101/2020.03.02.20030130\" target=\"_blank\">Rapid Detection of SARS-CoV-2 Using Reverse transcription RT-LAMP method</a><br/><a href=\"http://dx.doi.org/10.1101/2020.02.26.967026\" target=\"_blank\">CRISPR-based surveillance for COVID-19 using genomically-comprehensive machine learning design</a>"
      ],
      "text/plain": [
       "<IPython.core.display.HTML object>"
      ]
     },
     "metadata": {},
     "output_type": "display_data"
    },
    {
     "name": "stdout",
     "output_type": "stream",
     "text": [
      "Rapid design and execution of targeted surveillance experiments calling for all potential testers using PCR in a defined area to start testing and report to a specific entity. These experiments could aid in collecting longitudinal samples, which are critical to understanding the impact of ad hoc local interventions (which also need to be recorded).\n"
     ]
    },
    {
     "data": {
      "text/html": [
       "<a href=\"http://dx.doi.org/10.1016/S0140-6736(20)30069-6\" target=\"_blank\">Responding to health emergencies in the Eastern Mediterranean region in times of conflict</a><br/><a href=\"http://dx.doi.org/10.1016/j.ijpharm.2020.119171\" target=\"_blank\">New regulatory strategies to manage medicines shortages in Europe</a><br/><a href=\"http://dx.doi.org/10.1016/S2468-2667(20)30048-7\" target=\"_blank\">How African migrants in China cope with barriers to health care</a><br/><a href=\"http://dx.doi.org/10.1101/2020.02.26.967026\" target=\"_blank\">CRISPR-based surveillance for COVID-19 using genomically-comprehensive machine learning design</a><br/><a href=\"http://dx.doi.org/10.1016/S2215-0366(20)30076-6\" target=\"_blank\">The neglected health of international migrant workers in the COVID-19 epidemic</a>"
      ],
      "text/plain": [
       "<IPython.core.display.HTML object>"
      ]
     },
     "metadata": {},
     "output_type": "display_data"
    },
    {
     "name": "stdout",
     "output_type": "stream",
     "text": [
      "Separation of assay development issues from instruments, and the role of the private sector to help quickly migrate assays onto those devices.\n"
     ]
    },
    {
     "data": {
      "text/html": [
       "<a href=\"http://dx.doi.org/10.1016/S0140-6736(20)30069-6\" target=\"_blank\">Responding to health emergencies in the Eastern Mediterranean region in times of conflict</a><br/><a href=\"http://dx.doi.org/10.1016/S2468-2667(20)30048-7\" target=\"_blank\">How African migrants in China cope with barriers to health care</a><br/><a href=\"http://dx.doi.org/10.1016/S2215-0366(20)30076-6\" target=\"_blank\">The neglected health of international migrant workers in the COVID-19 epidemic</a><br/><a href=\"http://dx.doi.org/10.3390/healthcare8010046\" target=\"_blank\">On the Coronavirus (COVID-19) Outbreak and the Smart City Network: Universal Data Sharing Standards Coupled with Artificial Intelligence (AI) to Benefit Urban Health Monitoring and Management</a><br/><a href=\"http://dx.doi.org/10.1016/j.ijsu.2020.03.001\" target=\"_blank\">A commentary on “World Health Organization declares global emergency: A review of the 2019 novel Coronavirus (COVID-19)”</a>"
      ],
      "text/plain": [
       "<IPython.core.display.HTML object>"
      ]
     },
     "metadata": {},
     "output_type": "display_data"
    },
    {
     "name": "stdout",
     "output_type": "stream",
     "text": [
      "Efforts to track the evolution of the virus (i.e., genetic drift or mutations) and avoid locking into specific reagents and surveillance/detection schemes.\n"
     ]
    },
    {
     "data": {
      "text/html": [
       "<a href=\"http://dx.doi.org/10.1101/2020.03.02.974311\" target=\"_blank\">Partial RdRp sequences offer a robust method for Coronavirus subgenus classification</a><br/><a href=\"http://dx.doi.org/10.1093/bioinformatics/btaa145\" target=\"_blank\">Genome Detective Coronavirus Typing Tool for rapid identification and characterization of novel coronavirus genomes</a><br/><a href=\"http://dx.doi.org/10.1101/2020.02.03.932350\" target=\"_blank\">Machine learning using intrinsic genomic signatures for rapid classification of novel pathogens: COVID-19 case study</a><br/><a href=\"http://dx.doi.org/10.1101/2020.03.02.968818\" target=\"_blank\">Rapid metagenomic characterization of a case of imported COVID-19 in Cambodia</a><br/><a href=\"http://dx.doi.org/10.1101/2020.02.07.937862\" target=\"_blank\">Severe acute respiratory syndrome-related coronavirus - The species and its viruses, a statement of the Coronavirus Study Group</a>"
      ],
      "text/plain": [
       "<IPython.core.display.HTML object>"
      ]
     },
     "metadata": {},
     "output_type": "display_data"
    },
    {
     "name": "stdout",
     "output_type": "stream",
     "text": [
      "Latency issues and when there is sufficient viral load to detect the pathogen, and understanding of what is needed in terms of biological and environmental sampling.\n"
     ]
    },
    {
     "data": {
      "text/html": [
       "<a href=\"http://dx.doi.org/10.1002/cti2.1115\" target=\"_blank\">Frontiers in antiviral therapy and immunotherapy</a><br/><a href=\"http://dx.doi.org/10.1016/S0140-6736(20)30557-2\" target=\"_blank\">SARS-CoV-2 is an appropriate name for the new coronavirus</a><br/><a href=\"http://dx.doi.org/10.1016/j.jpha.2020.02.010\" target=\"_blank\">Recent advances and perspectives of nucleic acid detection for coronavirus</a><br/><a href=\"http://dx.doi.org/10.1016/S0140-6736(20)30468-2\" target=\"_blank\">COVID-19 and the anti-lessons of history</a><br/><a href=\"http://dx.doi.org/10.1016/j.pulmoe.2020.02.010\" target=\"_blank\">And now for something completely different: from 2019-nCoV and COVID-19 to 2020-nMan</a>"
      ],
      "text/plain": [
       "<IPython.core.display.HTML object>"
      ]
     },
     "metadata": {},
     "output_type": "display_data"
    },
    {
     "name": "stdout",
     "output_type": "stream",
     "text": [
      "Use of diagnostics such as host response markers (e.g., cytokines) to detect early disease or predict severe disease progression, which would be important to understanding best clinical practice and efficacy of therapeutic interventions.\n"
     ]
    },
    {
     "data": {
      "text/html": [
       "<a href=\"http://dx.doi.org/10.1016/S1473-3099(20)30141-9\" target=\"_blank\">Convalescent plasma as a potential therapy for COVID-19</a><br/><a href=\"http://dx.doi.org/10.1016/j.jpha.2020.03.001\" target=\"_blank\">Molecular immune pathogenesis and diagnosis of COVID-19</a><br/><a href=\"http://dx.doi.org/10.1016/j.tmaid.2020.101627\" target=\"_blank\">Clinical diagnostic value of CT imaging in COVID-19 with multiple negative RT-PCR testing</a><br/><a href=\"http://dx.doi.org/10.1016/S0140-6736(19)33221-0\" target=\"_blank\">Middle East respiratory syndrome</a><br/><a href=\"http://dx.doi.org/10.1016/j.healun.2020.03.007\" target=\"_blank\">COVID-19: Yet Another Coronavirus Challenge in Transplantation</a>"
      ],
      "text/plain": [
       "<IPython.core.display.HTML object>"
      ]
     },
     "metadata": {},
     "output_type": "display_data"
    },
    {
     "name": "stdout",
     "output_type": "stream",
     "text": [
      "Policies and protocols for screening and testing.\n"
     ]
    },
    {
     "data": {
      "text/html": [
       "<a href=\"http://dx.doi.org/10.1016/j.jpha.2020.02.010\" target=\"_blank\">Recent advances and perspectives of nucleic acid detection for coronavirus</a><br/><a href=\"http://dx.doi.org/10.1101/2020.02.26.20028373\" target=\"_blank\">Rapid Molecular Detection of SARS-CoV-2 (COVID-19) Virus RNA Using Colorimetric LAMP</a><br/><a href=\"http://dx.doi.org/10.1101/2020.03.07.20032326\" target=\"_blank\">Analytical sensibility and specificity of two RT-qPCR protocols for SARS-CoV-2 detection performed in an automated workflow</a><br/><a href=\"http://dx.doi.org/10.1016/j.tmaid.2020.101624\" target=\"_blank\">Testing the repatriated for SARS-Cov2: Should laboratory-based quarantine replace traditional quarantine?</a><br/><a href=\"http://dx.doi.org/10.1101/2020.03.02.20030130\" target=\"_blank\">Rapid Detection of SARS-CoV-2 Using Reverse transcription RT-LAMP method</a>"
      ],
      "text/plain": [
       "<IPython.core.display.HTML object>"
      ]
     },
     "metadata": {},
     "output_type": "display_data"
    },
    {
     "name": "stdout",
     "output_type": "stream",
     "text": [
      "Policies to mitigate the effects on supplies associated with mass testing, including swabs and reagents.\n"
     ]
    },
    {
     "data": {
      "text/html": [
       "<a href=\"http://dx.doi.org/10.1016/S0140-6736(20)30069-6\" target=\"_blank\">Responding to health emergencies in the Eastern Mediterranean region in times of conflict</a><br/><a href=\"http://dx.doi.org/10.1016/S2468-2667(20)30048-7\" target=\"_blank\">How African migrants in China cope with barriers to health care</a><br/><a href=\"http://dx.doi.org/10.1016/S2215-0366(20)30076-6\" target=\"_blank\">The neglected health of international migrant workers in the COVID-19 epidemic</a><br/><a href=\"http://dx.doi.org/10.1016/j.ijsu.2020.03.001\" target=\"_blank\">A commentary on “World Health Organization declares global emergency: A review of the 2019 novel Coronavirus (COVID-19)”</a><br/><a href=\"http://dx.doi.org/10.1016/j.tmaid.2020.101631\" target=\"_blank\">The cancellation of mass gatherings (MGs)? Decision making in the time of COVID-19</a>"
      ],
      "text/plain": [
       "<IPython.core.display.HTML object>"
      ]
     },
     "metadata": {},
     "output_type": "display_data"
    },
    {
     "name": "stdout",
     "output_type": "stream",
     "text": [
      "Technology roadmap for diagnostics.\n"
     ]
    },
    {
     "data": {
      "text/html": [
       "<a href=\"http://dx.doi.org/10.1016/j.tmaid.2020.101624\" target=\"_blank\">Testing the repatriated for SARS-Cov2: Should laboratory-based quarantine replace traditional quarantine?</a><br/><a href=\"http://dx.doi.org/10.1016/j.jpha.2020.02.010\" target=\"_blank\">Recent advances and perspectives of nucleic acid detection for coronavirus</a><br/><a href=\"http://dx.doi.org/10.1101/2020.02.26.20028373\" target=\"_blank\">Rapid Molecular Detection of SARS-CoV-2 (COVID-19) Virus RNA Using Colorimetric LAMP</a><br/><a href=\"http://dx.doi.org/10.1101/2020.02.26.967026\" target=\"_blank\">CRISPR-based surveillance for COVID-19 using genomically-comprehensive machine learning design</a><br/><a href=\"http://dx.doi.org/10.1101/2020.03.07.20032326\" target=\"_blank\">Analytical sensibility and specificity of two RT-qPCR protocols for SARS-CoV-2 detection performed in an automated workflow</a>"
      ],
      "text/plain": [
       "<IPython.core.display.HTML object>"
      ]
     },
     "metadata": {},
     "output_type": "display_data"
    },
    {
     "name": "stdout",
     "output_type": "stream",
     "text": [
      "Barriers to developing and scaling up new diagnostic tests (e.g., market forces), how future coalition and accelerator models (e.g., Coalition for Epidemic Preparedness Innovations) could provide critical funding for diagnostics, and opportunities for a streamlined regulatory environment.\n"
     ]
    },
    {
     "data": {
      "text/html": [
       "<a href=\"http://dx.doi.org/10.1016/S0140-6736(20)30373-1\" target=\"_blank\">Do not violate the International Health Regulations during the COVID-19 outbreak</a><br/><a href=\"http://dx.doi.org/10.1016/S0140-6736(20)30069-6\" target=\"_blank\">Responding to health emergencies in the Eastern Mediterranean region in times of conflict</a><br/><a href=\"http://dx.doi.org/10.1016/j.ijid.2020.02.049\" target=\"_blank\">Is Africa prepared for tackling the COVID-19 (SARS-CoV-2) epidemic. Lessons from past outbreaks, ongoing pan-African public health efforts, and implications for the future</a><br/><a href=\"http://dx.doi.org/10.1016/S0140-6736(20)30418-9\" target=\"_blank\">Statement in support of the scientists, public health professionals, and medical professionals of China combatting COVID-19</a><br/><a href=\"http://dx.doi.org/10.1016/S2468-2667(20)30053-0\" target=\"_blank\">COVID-19: a potential public health problem for homeless populations</a>"
      ],
      "text/plain": [
       "<IPython.core.display.HTML object>"
      ]
     },
     "metadata": {},
     "output_type": "display_data"
    },
    {
     "name": "stdout",
     "output_type": "stream",
     "text": [
      "New platforms and technology (e.g., CRISPR) to improve response times and employ more holistic approaches to COVID-19 and future diseases.\n"
     ]
    },
    {
     "data": {
      "text/html": [
       "<a href=\"http://dx.doi.org/10.1016/S0140-6736(20)30468-2\" target=\"_blank\">COVID-19 and the anti-lessons of history</a><br/><a href=\"http://dx.doi.org/10.1016/j.pulmoe.2020.02.010\" target=\"_blank\">And now for something completely different: from 2019-nCoV and COVID-19 to 2020-nMan</a><br/><a href=\"http://dx.doi.org/10.1002/cti2.1115\" target=\"_blank\">Frontiers in antiviral therapy and immunotherapy</a><br/><a href=\"http://dx.doi.org/10.1016/j.jhin.2020.02.023\" target=\"_blank\">Understanding the emerging coronavirus: what it means for health security and infection prevention</a><br/><a href=\"http://dx.doi.org/10.1097/CM9.0000000000000760\" target=\"_blank\">Six weeks into the 2019 coronavirus disease (COVID-19) outbreak- it is time to consider strategies to impede the emergence of new zoonotic infections</a>"
      ],
      "text/plain": [
       "<IPython.core.display.HTML object>"
      ]
     },
     "metadata": {},
     "output_type": "display_data"
    },
    {
     "name": "stdout",
     "output_type": "stream",
     "text": [
      "Coupling genomics and diagnostic testing on a large scale.\n"
     ]
    },
    {
     "data": {
      "text/html": [
       "<a href=\"http://dx.doi.org/10.1101/2020.03.08.980383\" target=\"_blank\">In silico approach to accelerate the development of mass spectrometry-based proteomics methods for detection of viral proteins: Application to COVID-19</a><br/><a href=\"http://dx.doi.org/10.1101/2020.03.12.20027185\" target=\"_blank\">Deep Learning-based Detection for COVID-19 from Chest CT using Weak Label</a><br/><a href=\"http://dx.doi.org/10.1101/2020.02.26.967026\" target=\"_blank\">CRISPR-based surveillance for COVID-19 using genomically-comprehensive machine learning design</a><br/><a href=\"http://dx.doi.org/10.1101/2020.02.23.20026930\" target=\"_blank\">Deep learning Enables Accurate Diagnosis of Novel Coronavirus (COVID-19) with CT images</a><br/><a href=\"http://dx.doi.org/10.1101/2020.03.02.20030130\" target=\"_blank\">Rapid Detection of SARS-CoV-2 Using Reverse transcription RT-LAMP method</a>"
      ],
      "text/plain": [
       "<IPython.core.display.HTML object>"
      ]
     },
     "metadata": {},
     "output_type": "display_data"
    },
    {
     "name": "stdout",
     "output_type": "stream",
     "text": [
      "Enhance capabilities for rapid sequencing and bioinformatics to target regions of the genome that will allow specificity for a particular variant.\n"
     ]
    },
    {
     "data": {
      "text/html": [
       "<a href=\"http://dx.doi.org/10.1101/2020.03.12.988246\" target=\"_blank\">High sensitivity detection of coronavirus SARS-CoV-2 using multiplex PCR and a multiplex-PCR-based metagenomic method</a><br/><a href=\"http://dx.doi.org/10.1101/2020.03.02.968818\" target=\"_blank\">Rapid metagenomic characterization of a case of imported COVID-19 in Cambodia</a><br/><a href=\"http://dx.doi.org/10.1093/bioinformatics/btaa145\" target=\"_blank\">Genome Detective Coronavirus Typing Tool for rapid identification and characterization of novel coronavirus genomes</a><br/><a href=\"http://dx.doi.org/10.1101/2020.03.05.20032011\" target=\"_blank\">Amplicon based MinION sequencing of SARS-CoV-2 and metagenomic characterisation of nasopharyngeal swabs from patients with COVID-19</a><br/><a href=\"http://dx.doi.org/10.1101/2020.03.08.980383\" target=\"_blank\">In silico approach to accelerate the development of mass spectrometry-based proteomics methods for detection of viral proteins: Application to COVID-19</a>"
      ],
      "text/plain": [
       "<IPython.core.display.HTML object>"
      ]
     },
     "metadata": {},
     "output_type": "display_data"
    },
    {
     "name": "stdout",
     "output_type": "stream",
     "text": [
      "Enhance capacity (people, technology, data) for sequencing with advanced analytics for unknown pathogens, and explore capabilities for distinguishing naturally-occurring pathogens from intentional.\n"
     ]
    },
    {
     "data": {
      "text/html": [
       "<a href=\"http://dx.doi.org/10.1016/S0140-6736(20)30468-2\" target=\"_blank\">COVID-19 and the anti-lessons of history</a><br/><a href=\"http://dx.doi.org/10.1093/nsr/nwaa030\" target=\"_blank\">Moral imperative for the immediate release of 2019-nCoV sequence data</a><br/><a href=\"http://dx.doi.org/10.1016/j.ajo.2020.02.014\" target=\"_blank\">Ophthalmologists Are More Than Eye Doctors—In Memoriam Li Wenliang</a><br/><a href=\"http://dx.doi.org/10.1016/j.cll.2004.05.012\" target=\"_blank\">Emerging infections and their causative agents</a><br/><a href=\"http://dx.doi.org/10.1016/S0140-6736(20)30418-9\" target=\"_blank\">Statement in support of the scientists, public health professionals, and medical professionals of China combatting COVID-19</a>"
      ],
      "text/plain": [
       "<IPython.core.display.HTML object>"
      ]
     },
     "metadata": {},
     "output_type": "display_data"
    },
    {
     "name": "stdout",
     "output_type": "stream",
     "text": [
      "One Health surveillance of humans and potential sources of future spillover or ongoing exposure for this organism and future pathogens, including both evolutionary hosts (e.g., bats) and transmission hosts (e.g., heavily trafficked and farmed wildlife and domestic food and companion species), inclusive of environmental, demographic, and occupational risk factors.\n"
     ]
    },
    {
     "data": {
      "text/html": [
       "<a href=\"http://dx.doi.org/10.1097/CM9.0000000000000760\" target=\"_blank\">Six weeks into the 2019 coronavirus disease (COVID-19) outbreak- it is time to consider strategies to impede the emergence of new zoonotic infections</a><br/><a href=\"http://dx.doi.org/10.1016/j.pulmoe.2020.02.010\" target=\"_blank\">And now for something completely different: from 2019-nCoV and COVID-19 to 2020-nMan</a><br/><a href=\"http://dx.doi.org/10.1016/S0140-6736(20)30468-2\" target=\"_blank\">COVID-19 and the anti-lessons of history</a><br/><a href=\"http://dx.doi.org/10.1016/S0140-6736(20)30557-2\" target=\"_blank\">SARS-CoV-2 is an appropriate name for the new coronavirus</a><br/><a href=\"http://dx.doi.org/10.1016/j.jinf.2020.03.010\" target=\"_blank\">Emergence of SARS-like Coronavirus in China: An Update</a>"
      ],
      "text/plain": [
       "<IPython.core.display.HTML object>"
      ]
     },
     "metadata": {},
     "output_type": "display_data"
    }
   ],
   "source": [
    "relevant_articles(task7, 5, only_covid19=True)"
   ]
  },
  {
   "cell_type": "markdown",
   "metadata": {},
   "source": [
    "### What has been published about medical care?"
   ]
  },
  {
   "cell_type": "code",
   "execution_count": 228,
   "metadata": {
    "ExecuteTime": {
     "end_time": "2020-03-29T16:42:04.964120Z",
     "start_time": "2020-03-29T16:38:32.500010Z"
    },
    "scrolled": false
   },
   "outputs": [
    {
     "name": "stdout",
     "output_type": "stream",
     "text": [
      "Resources to support skilled nursing facilities and long term care facilities.\n"
     ]
    },
    {
     "data": {
      "text/html": [
       "<a href=\"http://dx.doi.org/10.1016/S2215-0366(20)30078-X\" target=\"_blank\">Mental health care for medical staff in China during the COVID-19 outbreak</a><br/><a href=\"http://dx.doi.org/10.1016/j.jhin.2020.02.020\" target=\"_blank\">Practical experiences and suggestions on the eagle-eyed observer, a novel promising role for controlling nosocomial infection of the COVID-19 outbreak</a><br/><a href=\"http://dx.doi.org/10.1016/j.ijnurstu.2020.103567\" target=\"_blank\">Policies on the use of Respiratory Protection for Hospital Health Workers to Protect from Coronavirus Disease (COVID-19)</a><br/><a href=\"http://dx.doi.org/10.1016/j.bbi.2020.03.007\" target=\"_blank\">Vicarious traumatization in the general public, members, and non-members of medical teams aiding in COVID-19 control</a><br/><a href=\"http://dx.doi.org/10.1101/2020.03.04.20030973\" target=\"_blank\">Study of the mental health status of medical personnel dealing with new coronavirus pneumonia</a>"
      ],
      "text/plain": [
       "<IPython.core.display.HTML object>"
      ]
     },
     "metadata": {},
     "output_type": "display_data"
    },
    {
     "name": "stdout",
     "output_type": "stream",
     "text": [
      "Mobilization of surge medical staff to address shortages in overwhelmed communities\n"
     ]
    },
    {
     "data": {
      "text/html": [
       "<a href=\"http://dx.doi.org/10.1016/S0140-6736(20)30547-X\" target=\"_blank\">Mitigate the effects of home confinement on children during the COVID-19 outbreak</a><br/><a href=\"http://dx.doi.org/10.1093/pcmedi/pbaa006\" target=\"_blank\">Recommended psychological crisis intervention response to the 2019 novel coronavirus pneumonia outbreak in China: a model of West China Hospital</a><br/><a href=\"http://dx.doi.org/10.1016/S2215-0366(20)30073-0\" target=\"_blank\">Psychological interventions for people affected by the COVID-19 epidemic</a><br/><a href=\"http://dx.doi.org/10.1016/j.janxdis.2020.102211\" target=\"_blank\">How health anxiety influences responses to viral outbreaks like COVID-19: What all decision-makers, health authorities, and health care professionals need to know</a><br/><a href=\"http://dx.doi.org/10.1016/S2215-0366(20)30078-X\" target=\"_blank\">Mental health care for medical staff in China during the COVID-19 outbreak</a>"
      ],
      "text/plain": [
       "<IPython.core.display.HTML object>"
      ]
     },
     "metadata": {},
     "output_type": "display_data"
    },
    {
     "name": "stdout",
     "output_type": "stream",
     "text": [
      "Age-adjusted mortality data for Acute Respiratory Distress Syndrome (ARDS) with/without other organ failure – particularly for viral etiologies\n"
     ]
    },
    {
     "data": {
      "text/html": [
       "<a href=\"http://dx.doi.org/10.1016/j.tmaid.2020.101606\" target=\"_blank\">Clinical characteristics of laboratory confirmed positive cases of SARS-CoV-2 infection in Wuhan, China: A retrospective single center analysis</a><br/><a href=\"http://dx.doi.org/10.1016/j.annonc.2020.03.001\" target=\"_blank\">Atypical lung feature on chest CT in a lung adenocarcinoma cancer patient infected with COVID-19</a><br/><a href=\"http://dx.doi.org/10.1016/j.clinimag.2020.02.008\" target=\"_blank\">Asymptomatic novel coronavirus pneumonia patient outside Wuhan: The value of CT images in the course of the disease</a><br/><a href=\"http://dx.doi.org/10.1016/S0140-6736(20)30558-4\" target=\"_blank\">Comorbidities and multi-organ injuries in the treatment of COVID-19</a><br/><a href=\"http://dx.doi.org/10.1016/S1473-3099(20)30086-4\" target=\"_blank\">Radiological findings from 81 patients with COVID-19 pneumonia in Wuhan, China: a descriptive study</a>"
      ],
      "text/plain": [
       "<IPython.core.display.HTML object>"
      ]
     },
     "metadata": {},
     "output_type": "display_data"
    },
    {
     "name": "stdout",
     "output_type": "stream",
     "text": [
      "Extracorporeal membrane oxygenation (ECMO) outcomes data of COVID-19 patients\n"
     ]
    },
    {
     "data": {
      "text/html": [
       "<a href=\"http://dx.doi.org/10.1101/2020.03.07.20031575\" target=\"_blank\">Prognostic value of NT-proBNP in patients with severe COVID-19</a><br/><a href=\"http://dx.doi.org/10.1101/2020.03.05.20031591\" target=\"_blank\">Acute Myocardial Injury of Patients with Coronavirus Disease 2019</a><br/><a href=\"http://dx.doi.org/10.1101/2020.02.24.20027052\" target=\"_blank\">Clinical and radiographic features of cardiac injury in patients with 2019 novel coronavirus pneumonia</a><br/><a href=\"http://dx.doi.org/10.1101/2020.02.27.20028530\" target=\"_blank\">Hypokalemia and Clinical Implications in Patients with Coronavirus Disease 2019 (COVID-19)</a><br/><a href=\"http://dx.doi.org/10.1101/2020.02.18.20023242\" target=\"_blank\">Kidney impairment is associated with in-hospital death of COVID-19 patients</a>"
      ],
      "text/plain": [
       "<IPython.core.display.HTML object>"
      ]
     },
     "metadata": {},
     "output_type": "display_data"
    },
    {
     "name": "stdout",
     "output_type": "stream",
     "text": [
      "Outcomes data for COVID-19 after mechanical ventilation adjusted for age.\n"
     ]
    },
    {
     "data": {
      "text/html": [
       "<a href=\"http://dx.doi.org/10.1101/2020.03.07.20031575\" target=\"_blank\">Prognostic value of NT-proBNP in patients with severe COVID-19</a><br/><a href=\"http://dx.doi.org/10.1101/2020.02.24.20027052\" target=\"_blank\">Clinical and radiographic features of cardiac injury in patients with 2019 novel coronavirus pneumonia</a><br/><a href=\"http://dx.doi.org/10.1101/2020.02.27.20028530\" target=\"_blank\">Hypokalemia and Clinical Implications in Patients with Coronavirus Disease 2019 (COVID-19)</a><br/><a href=\"http://dx.doi.org/10.1101/2020.02.18.20023242\" target=\"_blank\">Kidney impairment is associated with in-hospital death of COVID-19 patients</a><br/><a href=\"http://dx.doi.org/10.1101/2020.03.05.20031591\" target=\"_blank\">Acute Myocardial Injury of Patients with Coronavirus Disease 2019</a>"
      ],
      "text/plain": [
       "<IPython.core.display.HTML object>"
      ]
     },
     "metadata": {},
     "output_type": "display_data"
    },
    {
     "name": "stdout",
     "output_type": "stream",
     "text": [
      "Knowledge of the frequency, manifestations, and course of extrapulmonary manifestations of COVID-19, including, but not limited to, possible cardiomyopathy and cardiac arrest.\n"
     ]
    },
    {
     "data": {
      "text/html": [
       "<a href=\"http://dx.doi.org/10.1016/S0140-6736(20)30558-4\" target=\"_blank\">Comorbidities and multi-organ injuries in the treatment of COVID-19</a><br/><a href=\"http://dx.doi.org/10.1097/CM9.0000000000000761\" target=\"_blank\">Non-invasive respiratory support for patients with novel coronavirus pneumonia: clinical efficacy and reduction in risk of infection transmission</a><br/><a href=\"http://dx.doi.org/10.1097/CM9.0000000000000775\" target=\"_blank\">Analysis of factors associated with disease outcomes in hospitalized patients with 2019 novel coronavirus disease</a><br/><a href=\"http://dx.doi.org/10.1016/S2213-2600(20)30079-5\" target=\"_blank\">Clinical course and outcomes of critically ill patients with SARS-CoV-2 pneumonia in Wuhan, China: a single-centered, retrospective, observational study</a><br/><a href=\"http://dx.doi.org/10.1016/j.jinf.2020.03.002\" target=\"_blank\">Arbidol combined with LPV/r versus LPV/r alone against Corona Virus Disease 2019:a retrospective cohort study</a>"
      ],
      "text/plain": [
       "<IPython.core.display.HTML object>"
      ]
     },
     "metadata": {},
     "output_type": "display_data"
    },
    {
     "name": "stdout",
     "output_type": "stream",
     "text": [
      "Application of regulatory standards (e.g., EUA, CLIA) and ability to adapt care to crisis standards of care level.\n"
     ]
    },
    {
     "data": {
      "text/html": [
       "<a href=\"http://dx.doi.org/10.1016/j.tmaid.2020.101624\" target=\"_blank\">Testing the repatriated for SARS-Cov2: Should laboratory-based quarantine replace traditional quarantine?</a><br/><a href=\"http://dx.doi.org/10.1016/j.bbi.2020.03.007\" target=\"_blank\">Vicarious traumatization in the general public, members, and non-members of medical teams aiding in COVID-19 control</a><br/><a href=\"http://dx.doi.org/10.1016/S2215-0366(20)30078-X\" target=\"_blank\">Mental health care for medical staff in China during the COVID-19 outbreak</a><br/><a href=\"http://dx.doi.org/10.1016/j.jhin.2020.02.010\" target=\"_blank\">The non-contact handheld cutaneous infra-red thermometer for fever screening during the COVID-19 global emergency</a><br/><a href=\"http://dx.doi.org/10.1101/2020.03.07.20032326\" target=\"_blank\">Analytical sensibility and specificity of two RT-qPCR protocols for SARS-CoV-2 detection performed in an automated workflow</a>"
      ],
      "text/plain": [
       "<IPython.core.display.HTML object>"
      ]
     },
     "metadata": {},
     "output_type": "display_data"
    },
    {
     "name": "stdout",
     "output_type": "stream",
     "text": [
      "Approaches for encouraging and facilitating the production of elastomeric respirators, which can save thousands of N95 masks.\n"
     ]
    },
    {
     "data": {
      "text/html": [
       "<a href=\"http://dx.doi.org/10.1016/j.nurpra.2020.02.020\" target=\"_blank\">Are We Ready for Anything?</a><br/><a href=\"http://dx.doi.org/10.1016/j.jhin.2020.03.010\" target=\"_blank\">Washing our hands of the problem</a><br/><a href=\"http://dx.doi.org/10.1016/j.ienj.2020.100848\" target=\"_blank\">2020 year of the nurse and midwife: Meeting new challenges</a><br/><a href=\"http://dx.doi.org/10.1016/S2215-0366(20)30078-X\" target=\"_blank\">Mental health care for medical staff in China during the COVID-19 outbreak</a><br/><a href=\"http://dx.doi.org/10.1016/j.jhin.2020.02.020\" target=\"_blank\">Practical experiences and suggestions on the eagle-eyed observer, a novel promising role for controlling nosocomial infection of the COVID-19 outbreak</a>"
      ],
      "text/plain": [
       "<IPython.core.display.HTML object>"
      ]
     },
     "metadata": {},
     "output_type": "display_data"
    },
    {
     "name": "stdout",
     "output_type": "stream",
     "text": [
      "Best telemedicine practices, barriers and faciitators, and specific actions to remove/expand them within and across state boundaries.\n"
     ]
    },
    {
     "data": {
      "text/html": [
       "<a href=\"http://dx.doi.org/10.1016/S0140-6736(20)30069-6\" target=\"_blank\">Responding to health emergencies in the Eastern Mediterranean region in times of conflict</a><br/><a href=\"http://dx.doi.org/10.1016/S2468-2667(20)30048-7\" target=\"_blank\">How African migrants in China cope with barriers to health care</a><br/><a href=\"http://dx.doi.org/10.1016/S2215-0366(20)30076-6\" target=\"_blank\">The neglected health of international migrant workers in the COVID-19 epidemic</a><br/><a href=\"http://dx.doi.org/10.1016/j.ijsu.2020.03.001\" target=\"_blank\">A commentary on “World Health Organization declares global emergency: A review of the 2019 novel Coronavirus (COVID-19)”</a><br/><a href=\"http://dx.doi.org/10.1016/j.tmaid.2020.101631\" target=\"_blank\">The cancellation of mass gatherings (MGs)? Decision making in the time of COVID-19</a>"
      ],
      "text/plain": [
       "<IPython.core.display.HTML object>"
      ]
     },
     "metadata": {},
     "output_type": "display_data"
    },
    {
     "name": "stdout",
     "output_type": "stream",
     "text": [
      "Guidance on the simple things people can do at home to take care of sick people and manage disease.\n"
     ]
    },
    {
     "data": {
      "text/html": [
       "<a href=\"http://dx.doi.org/10.1016/S0140-6736(20)30069-6\" target=\"_blank\">Responding to health emergencies in the Eastern Mediterranean region in times of conflict</a><br/><a href=\"http://dx.doi.org/10.1016/S2468-2667(20)30048-7\" target=\"_blank\">How African migrants in China cope with barriers to health care</a><br/><a href=\"http://dx.doi.org/10.1016/S2215-0366(20)30076-6\" target=\"_blank\">The neglected health of international migrant workers in the COVID-19 epidemic</a><br/><a href=\"http://dx.doi.org/10.1016/j.ijsu.2020.03.001\" target=\"_blank\">A commentary on “World Health Organization declares global emergency: A review of the 2019 novel Coronavirus (COVID-19)”</a><br/><a href=\"http://dx.doi.org/10.1016/j.tmaid.2020.101631\" target=\"_blank\">The cancellation of mass gatherings (MGs)? Decision making in the time of COVID-19</a>"
      ],
      "text/plain": [
       "<IPython.core.display.HTML object>"
      ]
     },
     "metadata": {},
     "output_type": "display_data"
    },
    {
     "name": "stdout",
     "output_type": "stream",
     "text": [
      "Oral medications that might potentially work.\n"
     ]
    },
    {
     "data": {
      "text/html": [
       "<a href=\"http://dx.doi.org/10.1016/j.ctcp.2020.101132\" target=\"_blank\">Effects of progressive muscle relaxation on anxiety and sleep quality in patients with COVID-19</a><br/><a href=\"http://dx.doi.org/10.1016/j.psychres.2020.112921\" target=\"_blank\">Prevalence and predictors of PTSS during COVID-19 Outbreak in China Hardest-hit Areas: Gender differences matter</a><br/><a href=\"http://dx.doi.org/10.1016/S0140-6736(20)30547-X\" target=\"_blank\">Mitigate the effects of home confinement on children during the COVID-19 outbreak</a><br/><a href=\"http://dx.doi.org/10.1101/2020.03.13.20033290\" target=\"_blank\">Mental health status among family members of health care workers in Ningbo, China during the Coronavirus Disease 2019 (COVID-19) outbreak: a Cross-sectional Study</a><br/><a href=\"http://dx.doi.org/10.1016/j.bbi.2020.03.007\" target=\"_blank\">Vicarious traumatization in the general public, members, and non-members of medical teams aiding in COVID-19 control</a>"
      ],
      "text/plain": [
       "<IPython.core.display.HTML object>"
      ]
     },
     "metadata": {},
     "output_type": "display_data"
    },
    {
     "name": "stdout",
     "output_type": "stream",
     "text": [
      "Use of AI in real-time health care delivery to evaluate interventions, risk factors, and outcomes in a way that could not be done manually.\n"
     ]
    },
    {
     "data": {
      "text/html": [
       "<a href=\"http://dx.doi.org/10.1093/pcmedi/pbaa006\" target=\"_blank\">Recommended psychological crisis intervention response to the 2019 novel coronavirus pneumonia outbreak in China: a model of West China Hospital</a><br/><a href=\"http://dx.doi.org/10.1016/S0140-6736(20)30547-X\" target=\"_blank\">Mitigate the effects of home confinement on children during the COVID-19 outbreak</a><br/><a href=\"http://dx.doi.org/10.1016/S2215-0366(20)30073-0\" target=\"_blank\">Psychological interventions for people affected by the COVID-19 epidemic</a><br/><a href=\"http://dx.doi.org/10.1016/j.janxdis.2020.102211\" target=\"_blank\">How health anxiety influences responses to viral outbreaks like COVID-19: What all decision-makers, health authorities, and health care professionals need to know</a><br/><a href=\"http://dx.doi.org/10.1016/j.psychres.2020.112915\" target=\"_blank\">The Emotional Impact Of Coronavirus 2019-Ncov (New Coronavirus Disease)</a>"
      ],
      "text/plain": [
       "<IPython.core.display.HTML object>"
      ]
     },
     "metadata": {},
     "output_type": "display_data"
    },
    {
     "name": "stdout",
     "output_type": "stream",
     "text": [
      "Best practices and critical challenges and innovative solutions and technologies in hospital flow and organization, workforce protection, workforce allocation, community-based support resources, payment, and supply chain management to enhance capacity, efficiency, and outcomes.\n"
     ]
    },
    {
     "data": {
      "text/html": [
       "<a href=\"http://dx.doi.org/10.1016/S0140-6736(20)30069-6\" target=\"_blank\">Responding to health emergencies in the Eastern Mediterranean region in times of conflict</a><br/><a href=\"http://dx.doi.org/10.1016/S2468-2667(20)30048-7\" target=\"_blank\">How African migrants in China cope with barriers to health care</a><br/><a href=\"http://dx.doi.org/10.1016/S2215-0366(20)30076-6\" target=\"_blank\">The neglected health of international migrant workers in the COVID-19 epidemic</a><br/><a href=\"http://dx.doi.org/10.1016/j.ijsu.2020.03.001\" target=\"_blank\">A commentary on “World Health Organization declares global emergency: A review of the 2019 novel Coronavirus (COVID-19)”</a><br/><a href=\"http://dx.doi.org/10.1016/j.tmaid.2020.101631\" target=\"_blank\">The cancellation of mass gatherings (MGs)? Decision making in the time of COVID-19</a>"
      ],
      "text/plain": [
       "<IPython.core.display.HTML object>"
      ]
     },
     "metadata": {},
     "output_type": "display_data"
    },
    {
     "name": "stdout",
     "output_type": "stream",
     "text": [
      "Efforts to define the natural history of disease to inform clinical care, public health interventions, infection prevention control, transmission, and clinical trials\n"
     ]
    },
    {
     "data": {
      "text/html": [
       "<a href=\"http://dx.doi.org/10.1016/S0140-6736(20)30463-3\" target=\"_blank\">Lessons for managing high-consequence infections from first COVID-19 cases in the UK</a><br/><a href=\"http://dx.doi.org/10.12809/hkmj208375\" target=\"_blank\">Severe acute respiratory symptoms and suspected sars again 2020</a><br/><a href=\"http://dx.doi.org/10.1016/S2213-2600(20)30114-4\" target=\"_blank\">Adoption of COVID-19 triage strategies for low-income settings</a><br/><a href=\"http://dx.doi.org/10.1016/j.ijsu.2020.03.002\" target=\"_blank\">An Invited Commentary on “World Health Organization declares global emergency: A review of the 2019 novel Coronavirus (COVID-19)\": Emergency or new reality?</a><br/><a href=\"http://dx.doi.org/10.1016/j.eururo.2020.03.004\" target=\"_blank\">Stepping Forward: Urologists’ Efforts During the COVID-19 Outbreak in Singapore</a>"
      ],
      "text/plain": [
       "<IPython.core.display.HTML object>"
      ]
     },
     "metadata": {},
     "output_type": "display_data"
    },
    {
     "name": "stdout",
     "output_type": "stream",
     "text": [
      "Efforts to develop a core clinical outcome set to maximize usability of data across a range of trials\n"
     ]
    },
    {
     "data": {
      "text/html": [
       "<a href=\"http://dx.doi.org/10.3390/jcm9030674\" target=\"_blank\">Optimization Method for Forecasting Confirmed Cases of COVID-19 in China</a><br/><a href=\"http://dx.doi.org/10.1101/2020.02.05.935072\" target=\"_blank\">The Essential Facts of Wuhan Novel Coronavirus Outbreak in China and Epitope-based Vaccine Designing against COVID-19</a><br/><a href=\"http://dx.doi.org/10.1016/j.chom.2020.03.002\" target=\"_blank\">A Sequence Homology and Bioinformatic Approach Can Predict Candidate Targets for Immune Responses to SARS-CoV-2</a><br/><a href=\"http://dx.doi.org/10.1101/2020.02.04.934232\" target=\"_blank\">Design of multi epitope-based peptide vaccine against E protein of human COVID-19: An immunoinformatics approach</a><br/><a href=\"http://dx.doi.org/10.1101/2020.03.13.990267\" target=\"_blank\">Differential Antibody Recognition by Novel SARS-CoV-2 and SARS-CoV Spike Protein Receptor Binding Domains: Mechanistic Insights and Implications for the Design of Diagnostics and Therapeutics</a>"
      ],
      "text/plain": [
       "<IPython.core.display.HTML object>"
      ]
     },
     "metadata": {},
     "output_type": "display_data"
    },
    {
     "name": "stdout",
     "output_type": "stream",
     "text": [
      "Efforts to determine adjunctive and supportive interventions that can improve the clinical outcomes of infected patients (e.g. steroids, high flow oxygen)\n"
     ]
    },
    {
     "data": {
      "text/html": [
       "<a href=\"http://dx.doi.org/10.1016/S0140-6736(20)30558-4\" target=\"_blank\">Comorbidities and multi-organ injuries in the treatment of COVID-19</a><br/><a href=\"http://dx.doi.org/10.1016/S2213-2600(20)30079-5\" target=\"_blank\">Clinical course and outcomes of critically ill patients with SARS-CoV-2 pneumonia in Wuhan, China: a single-centered, retrospective, observational study</a><br/><a href=\"http://dx.doi.org/10.1097/CM9.0000000000000761\" target=\"_blank\">Non-invasive respiratory support for patients with novel coronavirus pneumonia: clinical efficacy and reduction in risk of infection transmission</a><br/><a href=\"http://dx.doi.org/10.1097/CM9.0000000000000775\" target=\"_blank\">Analysis of factors associated with disease outcomes in hospitalized patients with 2019 novel coronavirus disease</a><br/><a href=\"http://dx.doi.org/10.1016/j.jinf.2020.03.002\" target=\"_blank\">Arbidol combined with LPV/r versus LPV/r alone against Corona Virus Disease 2019:a retrospective cohort study</a>"
      ],
      "text/plain": [
       "<IPython.core.display.HTML object>"
      ]
     },
     "metadata": {},
     "output_type": "display_data"
    }
   ],
   "source": [
    "relevant_articles(task8, 5, only_covid19=True)"
   ]
  },
  {
   "cell_type": "markdown",
   "metadata": {},
   "source": [
    "### What has been published about information sharing and inter-sectoral collaboration?"
   ]
  },
  {
   "cell_type": "code",
   "execution_count": 229,
   "metadata": {
    "ExecuteTime": {
     "end_time": "2020-03-29T16:45:24.340151Z",
     "start_time": "2020-03-29T16:42:04.966601Z"
    },
    "scrolled": false
   },
   "outputs": [
    {
     "name": "stdout",
     "output_type": "stream",
     "text": [
      "Methods for coordinating data-gathering with standardized nomenclature.\n"
     ]
    },
    {
     "data": {
      "text/html": [
       "<a href=\"http://dx.doi.org/10.1101/2020.03.02.968818\" target=\"_blank\">Rapid metagenomic characterization of a case of imported COVID-19 in Cambodia</a><br/><a href=\"http://dx.doi.org/10.1101/2020.02.26.967026\" target=\"_blank\">CRISPR-based surveillance for COVID-19 using genomically-comprehensive machine learning design</a><br/><a href=\"http://dx.doi.org/10.1016/j.ijpharm.2020.119171\" target=\"_blank\">New regulatory strategies to manage medicines shortages in Europe</a><br/><a href=\"http://dx.doi.org/10.1101/2020.03.12.988246\" target=\"_blank\">High sensitivity detection of coronavirus SARS-CoV-2 using multiplex PCR and a multiplex-PCR-based metagenomic method</a><br/><a href=\"http://dx.doi.org/10.1016/S2468-1253(20)30082-0\" target=\"_blank\">Screening of faecal microbiota transplant donors during the COVID-19 outbreak: suggestions for urgent updates from an international expert panel</a>"
      ],
      "text/plain": [
       "<IPython.core.display.HTML object>"
      ]
     },
     "metadata": {},
     "output_type": "display_data"
    },
    {
     "name": "stdout",
     "output_type": "stream",
     "text": [
      "Sharing response information among planners, providers, and others.\n"
     ]
    },
    {
     "data": {
      "text/html": [
       "<a href=\"http://dx.doi.org/10.1016/S0140-6736(20)30069-6\" target=\"_blank\">Responding to health emergencies in the Eastern Mediterranean region in times of conflict</a><br/><a href=\"http://dx.doi.org/10.1016/S2468-2667(20)30048-7\" target=\"_blank\">How African migrants in China cope with barriers to health care</a><br/><a href=\"http://dx.doi.org/10.1016/S2215-0366(20)30076-6\" target=\"_blank\">The neglected health of international migrant workers in the COVID-19 epidemic</a><br/><a href=\"http://dx.doi.org/10.1016/j.ijsu.2020.03.001\" target=\"_blank\">A commentary on “World Health Organization declares global emergency: A review of the 2019 novel Coronavirus (COVID-19)”</a><br/><a href=\"http://dx.doi.org/10.1016/j.tmaid.2020.101631\" target=\"_blank\">The cancellation of mass gatherings (MGs)? Decision making in the time of COVID-19</a>"
      ],
      "text/plain": [
       "<IPython.core.display.HTML object>"
      ]
     },
     "metadata": {},
     "output_type": "display_data"
    },
    {
     "name": "stdout",
     "output_type": "stream",
     "text": [
      "Understanding and mitigating barriers to information-sharing.\n"
     ]
    },
    {
     "data": {
      "text/html": [
       "<a href=\"http://dx.doi.org/10.1016/S0140-6736(20)30069-6\" target=\"_blank\">Responding to health emergencies in the Eastern Mediterranean region in times of conflict</a><br/><a href=\"http://dx.doi.org/10.1016/S2468-2667(20)30048-7\" target=\"_blank\">How African migrants in China cope with barriers to health care</a><br/><a href=\"http://dx.doi.org/10.1016/S2215-0366(20)30076-6\" target=\"_blank\">The neglected health of international migrant workers in the COVID-19 epidemic</a><br/><a href=\"http://dx.doi.org/10.1016/j.ijsu.2020.03.001\" target=\"_blank\">A commentary on “World Health Organization declares global emergency: A review of the 2019 novel Coronavirus (COVID-19)”</a><br/><a href=\"http://dx.doi.org/10.1016/j.tmaid.2020.101631\" target=\"_blank\">The cancellation of mass gatherings (MGs)? Decision making in the time of COVID-19</a>"
      ],
      "text/plain": [
       "<IPython.core.display.HTML object>"
      ]
     },
     "metadata": {},
     "output_type": "display_data"
    },
    {
     "name": "stdout",
     "output_type": "stream",
     "text": [
      "How to recruit, support, and coordinate local (non-Federal) expertise and capacity relevant to public health emergency response (public, private, commercial and non-profit, including academic).\n"
     ]
    },
    {
     "data": {
      "text/html": [
       "<a href=\"http://dx.doi.org/10.1016/S0140-6736(20)30069-6\" target=\"_blank\">Responding to health emergencies in the Eastern Mediterranean region in times of conflict</a><br/><a href=\"http://dx.doi.org/10.1016/S2468-2667(20)30048-7\" target=\"_blank\">How African migrants in China cope with barriers to health care</a><br/><a href=\"http://dx.doi.org/10.1016/S2215-0366(20)30076-6\" target=\"_blank\">The neglected health of international migrant workers in the COVID-19 epidemic</a><br/><a href=\"http://dx.doi.org/10.1016/j.ijsu.2020.03.001\" target=\"_blank\">A commentary on “World Health Organization declares global emergency: A review of the 2019 novel Coronavirus (COVID-19)”</a><br/><a href=\"http://dx.doi.org/10.1016/j.tmaid.2020.101631\" target=\"_blank\">The cancellation of mass gatherings (MGs)? Decision making in the time of COVID-19</a>"
      ],
      "text/plain": [
       "<IPython.core.display.HTML object>"
      ]
     },
     "metadata": {},
     "output_type": "display_data"
    },
    {
     "name": "stdout",
     "output_type": "stream",
     "text": [
      "Integration of federal/state/local public health surveillance systems.\n"
     ]
    },
    {
     "data": {
      "text/html": [
       "<a href=\"http://dx.doi.org/10.1016/S0140-6736(20)30069-6\" target=\"_blank\">Responding to health emergencies in the Eastern Mediterranean region in times of conflict</a><br/><a href=\"http://dx.doi.org/10.1016/S2468-2667(20)30048-7\" target=\"_blank\">How African migrants in China cope with barriers to health care</a><br/><a href=\"http://dx.doi.org/10.1016/S2215-0366(20)30076-6\" target=\"_blank\">The neglected health of international migrant workers in the COVID-19 epidemic</a><br/><a href=\"http://dx.doi.org/10.1016/j.ijsu.2020.03.001\" target=\"_blank\">A commentary on “World Health Organization declares global emergency: A review of the 2019 novel Coronavirus (COVID-19)”</a><br/><a href=\"http://dx.doi.org/10.1016/j.tmaid.2020.101631\" target=\"_blank\">The cancellation of mass gatherings (MGs)? Decision making in the time of COVID-19</a>"
      ],
      "text/plain": [
       "<IPython.core.display.HTML object>"
      ]
     },
     "metadata": {},
     "output_type": "display_data"
    },
    {
     "name": "stdout",
     "output_type": "stream",
     "text": [
      "Value of investments in baseline public health response infrastructure preparedness\n"
     ]
    },
    {
     "data": {
      "text/html": [
       "<a href=\"http://dx.doi.org/10.1016/S0140-6736(20)30069-6\" target=\"_blank\">Responding to health emergencies in the Eastern Mediterranean region in times of conflict</a><br/><a href=\"http://dx.doi.org/10.1016/S2468-2667(20)30048-7\" target=\"_blank\">How African migrants in China cope with barriers to health care</a><br/><a href=\"http://dx.doi.org/10.1016/S2215-0366(20)30076-6\" target=\"_blank\">The neglected health of international migrant workers in the COVID-19 epidemic</a><br/><a href=\"http://dx.doi.org/10.1016/j.ijsu.2020.03.001\" target=\"_blank\">A commentary on “World Health Organization declares global emergency: A review of the 2019 novel Coronavirus (COVID-19)”</a><br/><a href=\"http://dx.doi.org/10.1016/j.tmaid.2020.101631\" target=\"_blank\">The cancellation of mass gatherings (MGs)? Decision making in the time of COVID-19</a>"
      ],
      "text/plain": [
       "<IPython.core.display.HTML object>"
      ]
     },
     "metadata": {},
     "output_type": "display_data"
    },
    {
     "name": "stdout",
     "output_type": "stream",
     "text": [
      "Modes of communicating with target high-risk populations (elderly, health care workers).\n"
     ]
    },
    {
     "data": {
      "text/html": [
       "<a href=\"http://dx.doi.org/10.1016/S0140-6736(20)30547-X\" target=\"_blank\">Mitigate the effects of home confinement on children during the COVID-19 outbreak</a><br/><a href=\"http://dx.doi.org/10.1093/pcmedi/pbaa006\" target=\"_blank\">Recommended psychological crisis intervention response to the 2019 novel coronavirus pneumonia outbreak in China: a model of West China Hospital</a><br/><a href=\"http://dx.doi.org/10.1016/S2215-0366(20)30073-0\" target=\"_blank\">Psychological interventions for people affected by the COVID-19 epidemic</a><br/><a href=\"http://dx.doi.org/10.1016/j.janxdis.2020.102211\" target=\"_blank\">How health anxiety influences responses to viral outbreaks like COVID-19: What all decision-makers, health authorities, and health care professionals need to know</a><br/><a href=\"http://dx.doi.org/10.1016/j.psychres.2020.112915\" target=\"_blank\">The Emotional Impact Of Coronavirus 2019-Ncov (New Coronavirus Disease)</a>"
      ],
      "text/plain": [
       "<IPython.core.display.HTML object>"
      ]
     },
     "metadata": {},
     "output_type": "display_data"
    },
    {
     "name": "stdout",
     "output_type": "stream",
     "text": [
      "Risk communication and guidelines that are easy to understand and follow (include targeting at risk populations’ families too).\n"
     ]
    },
    {
     "data": {
      "text/html": [
       "<a href=\"http://dx.doi.org/10.1016/S0140-6736(20)30069-6\" target=\"_blank\">Responding to health emergencies in the Eastern Mediterranean region in times of conflict</a><br/><a href=\"http://dx.doi.org/10.1016/S2468-2667(20)30048-7\" target=\"_blank\">How African migrants in China cope with barriers to health care</a><br/><a href=\"http://dx.doi.org/10.1016/S2215-0366(20)30076-6\" target=\"_blank\">The neglected health of international migrant workers in the COVID-19 epidemic</a><br/><a href=\"http://dx.doi.org/10.1016/j.ijsu.2020.03.001\" target=\"_blank\">A commentary on “World Health Organization declares global emergency: A review of the 2019 novel Coronavirus (COVID-19)”</a><br/><a href=\"http://dx.doi.org/10.1016/j.tmaid.2020.101631\" target=\"_blank\">The cancellation of mass gatherings (MGs)? Decision making in the time of COVID-19</a>"
      ],
      "text/plain": [
       "<IPython.core.display.HTML object>"
      ]
     },
     "metadata": {},
     "output_type": "display_data"
    },
    {
     "name": "stdout",
     "output_type": "stream",
     "text": [
      "Communication that indicates potential risk of disease to all population groups.\n"
     ]
    },
    {
     "data": {
      "text/html": [
       "<a href=\"http://dx.doi.org/10.1016/S2215-0366(20)30079-1\" target=\"_blank\">Mental health services for older adults in China during the COVID-19 outbreak</a><br/><a href=\"http://dx.doi.org/10.1016/S0140-6736(20)30526-2\" target=\"_blank\">COVID-19: the gendered impacts of the outbreak</a><br/><a href=\"http://dx.doi.org/10.1016/S0140-6736(20)30561-4\" target=\"_blank\">Preparedness is essential for malaria-endemic regions during the COVID-19 pandemic</a><br/><a href=\"http://dx.doi.org/10.1016/S0140-6736(20)30365-2\" target=\"_blank\">What are the risks of COVID-19 infection in pregnant women?</a><br/><a href=\"http://dx.doi.org/10.1016/j.tmaid.2020.101628\" target=\"_blank\">Is Romania ready to face the novel coronavirus (COVID-19) outbreak? The role of incoming travelers and that of Romanian diaspora</a>"
      ],
      "text/plain": [
       "<IPython.core.display.HTML object>"
      ]
     },
     "metadata": {},
     "output_type": "display_data"
    },
    {
     "name": "stdout",
     "output_type": "stream",
     "text": [
      "Misunderstanding around containment and mitigation.\n"
     ]
    },
    {
     "data": {
      "text/html": [
       "<a href=\"http://dx.doi.org/10.1016/S0140-6736(20)30069-6\" target=\"_blank\">Responding to health emergencies in the Eastern Mediterranean region in times of conflict</a><br/><a href=\"http://dx.doi.org/10.1016/S2468-2667(20)30048-7\" target=\"_blank\">How African migrants in China cope with barriers to health care</a><br/><a href=\"http://dx.doi.org/10.1016/S2215-0366(20)30076-6\" target=\"_blank\">The neglected health of international migrant workers in the COVID-19 epidemic</a><br/><a href=\"http://dx.doi.org/10.1016/j.ijsu.2020.03.001\" target=\"_blank\">A commentary on “World Health Organization declares global emergency: A review of the 2019 novel Coronavirus (COVID-19)”</a><br/><a href=\"http://dx.doi.org/10.1016/j.tmaid.2020.101631\" target=\"_blank\">The cancellation of mass gatherings (MGs)? Decision making in the time of COVID-19</a>"
      ],
      "text/plain": [
       "<IPython.core.display.HTML object>"
      ]
     },
     "metadata": {},
     "output_type": "display_data"
    },
    {
     "name": "stdout",
     "output_type": "stream",
     "text": [
      "Action plan to mitigate gaps and problems of inequity in the Nation’s public health capability, capacity, and funding to ensure all citizens in need are supported and can access information, surveillance, and treatment.\n"
     ]
    },
    {
     "data": {
      "text/html": [
       "<a href=\"http://dx.doi.org/10.1016/S0140-6736(20)30069-6\" target=\"_blank\">Responding to health emergencies in the Eastern Mediterranean region in times of conflict</a><br/><a href=\"http://dx.doi.org/10.1016/S2468-2667(20)30048-7\" target=\"_blank\">How African migrants in China cope with barriers to health care</a><br/><a href=\"http://dx.doi.org/10.1016/S2215-0366(20)30076-6\" target=\"_blank\">The neglected health of international migrant workers in the COVID-19 epidemic</a><br/><a href=\"http://dx.doi.org/10.1016/j.ijsu.2020.03.001\" target=\"_blank\">A commentary on “World Health Organization declares global emergency: A review of the 2019 novel Coronavirus (COVID-19)”</a><br/><a href=\"http://dx.doi.org/10.1016/j.tmaid.2020.101631\" target=\"_blank\">The cancellation of mass gatherings (MGs)? Decision making in the time of COVID-19</a>"
      ],
      "text/plain": [
       "<IPython.core.display.HTML object>"
      ]
     },
     "metadata": {},
     "output_type": "display_data"
    },
    {
     "name": "stdout",
     "output_type": "stream",
     "text": [
      "Measures to reach marginalized and disadvantaged populations.\n"
     ]
    },
    {
     "data": {
      "text/html": [
       "<a href=\"http://dx.doi.org/10.1016/S0140-6736(20)30069-6\" target=\"_blank\">Responding to health emergencies in the Eastern Mediterranean region in times of conflict</a><br/><a href=\"http://dx.doi.org/10.1016/S2468-2667(20)30048-7\" target=\"_blank\">How African migrants in China cope with barriers to health care</a><br/><a href=\"http://dx.doi.org/10.1016/S2215-0366(20)30076-6\" target=\"_blank\">The neglected health of international migrant workers in the COVID-19 epidemic</a><br/><a href=\"http://dx.doi.org/10.1016/j.ijsu.2020.03.001\" target=\"_blank\">A commentary on “World Health Organization declares global emergency: A review of the 2019 novel Coronavirus (COVID-19)”</a><br/><a href=\"http://dx.doi.org/10.1016/j.tmaid.2020.101631\" target=\"_blank\">The cancellation of mass gatherings (MGs)? Decision making in the time of COVID-19</a>"
      ],
      "text/plain": [
       "<IPython.core.display.HTML object>"
      ]
     },
     "metadata": {},
     "output_type": "display_data"
    },
    {
     "name": "stdout",
     "output_type": "stream",
     "text": [
      "Data systems and research priorities and agendas incorporate attention to the needs and circumstances of disadvantaged populations and underrepresented minorities.\n"
     ]
    },
    {
     "data": {
      "text/html": [
       "<a href=\"http://dx.doi.org/10.1016/S0140-6736(20)30069-6\" target=\"_blank\">Responding to health emergencies in the Eastern Mediterranean region in times of conflict</a><br/><a href=\"http://dx.doi.org/10.1016/S2468-2667(20)30048-7\" target=\"_blank\">How African migrants in China cope with barriers to health care</a><br/><a href=\"http://dx.doi.org/10.1016/S2215-0366(20)30076-6\" target=\"_blank\">The neglected health of international migrant workers in the COVID-19 epidemic</a><br/><a href=\"http://dx.doi.org/10.1016/j.ijsu.2020.03.001\" target=\"_blank\">A commentary on “World Health Organization declares global emergency: A review of the 2019 novel Coronavirus (COVID-19)”</a><br/><a href=\"http://dx.doi.org/10.1016/j.tmaid.2020.101631\" target=\"_blank\">The cancellation of mass gatherings (MGs)? Decision making in the time of COVID-19</a>"
      ],
      "text/plain": [
       "<IPython.core.display.HTML object>"
      ]
     },
     "metadata": {},
     "output_type": "display_data"
    },
    {
     "name": "stdout",
     "output_type": "stream",
     "text": [
      "Mitigating threats to incarcerated people from COVID-19, assuring access to information, prevention, diagnosis, and treatment.\n"
     ]
    },
    {
     "data": {
      "text/html": [
       "<a href=\"http://dx.doi.org/10.3399/bjgpopen20X101041\" target=\"_blank\">The coronavirus outbreak: the central role of primary care in emergency preparedness and response</a><br/><a href=\"http://dx.doi.org/10.1016/j.ijid.2020.02.049\" target=\"_blank\">Is Africa prepared for tackling the COVID-19 (SARS-CoV-2) epidemic. Lessons from past outbreaks, ongoing pan-African public health efforts, and implications for the future</a><br/><a href=\"http://dx.doi.org/10.1016/S2213-2600(20)30114-4\" target=\"_blank\">Adoption of COVID-19 triage strategies for low-income settings</a><br/><a href=\"http://dx.doi.org/10.1016/j.ijsu.2020.03.001\" target=\"_blank\">A commentary on “World Health Organization declares global emergency: A review of the 2019 novel Coronavirus (COVID-19)”</a><br/><a href=\"http://dx.doi.org/10.1016/S0140-6736(20)30373-1\" target=\"_blank\">Do not violate the International Health Regulations during the COVID-19 outbreak</a>"
      ],
      "text/plain": [
       "<IPython.core.display.HTML object>"
      ]
     },
     "metadata": {},
     "output_type": "display_data"
    },
    {
     "name": "stdout",
     "output_type": "stream",
     "text": [
      "Understanding coverage policies (barriers and opportunities) related to testing, treatment, and care\n"
     ]
    },
    {
     "data": {
      "text/html": [
       "<a href=\"http://dx.doi.org/10.3399/bjgpopen20X101041\" target=\"_blank\">The coronavirus outbreak: the central role of primary care in emergency preparedness and response</a><br/><a href=\"http://dx.doi.org/10.1016/S0140-6736(20)30551-1\" target=\"_blank\">Are high-performing health systems resilient against the COVID-19 epidemic?</a><br/><a href=\"http://dx.doi.org/10.1016/j.ijsu.2020.03.002\" target=\"_blank\">An Invited Commentary on “World Health Organization declares global emergency: A review of the 2019 novel Coronavirus (COVID-19)\": Emergency or new reality?</a><br/><a href=\"http://dx.doi.org/10.1016/S0140-6736(20)30069-6\" target=\"_blank\">Responding to health emergencies in the Eastern Mediterranean region in times of conflict</a><br/><a href=\"http://dx.doi.org/10.2807/1560-7917.ES.2020.25.8.2000197\" target=\"_blank\">Authors’ response: Plenty of coronaviruses but no SARS-CoV-2</a>"
      ],
      "text/plain": [
       "<IPython.core.display.HTML object>"
      ]
     },
     "metadata": {},
     "output_type": "display_data"
    }
   ],
   "source": [
    "relevant_articles(task9, 5, only_covid19=True)"
   ]
  },
  {
   "cell_type": "markdown",
   "metadata": {},
   "source": [
    "## Widget: Pick a Task"
   ]
  },
  {
   "cell_type": "code",
   "execution_count": 43,
   "metadata": {
    "ExecuteTime": {
     "end_time": "2020-04-01T09:36:04.718797Z",
     "start_time": "2020-04-01T09:36:04.701981Z"
    }
   },
   "outputs": [],
   "source": [
    "def relevant_articles_for_task():\n",
    "    def main_function(bullet, task, k=5, year_range=[1950, 2020], only_covid19=False):\n",
    "        relevant_articles([bullet], k, lower=year_range[0], upper=year_range[1], only_covid19=only_covid19)\n",
    "        bulletW.options = tasks[task]    \n",
    "\n",
    "    yearW = widgets.IntRangeSlider(\n",
    "        min=1950,\n",
    "        max=2020,\n",
    "        value=[2010, 2020],\n",
    "        description='Year Range',\n",
    "        continuous_update=False,\n",
    "        layout=widgets.Layout(width='40%'))\n",
    "    covidW = widgets.Checkbox(\n",
    "        value=True,\n",
    "        description='Only COVID-19-Papers',\n",
    "        disabled=False,\n",
    "        indent=False,\n",
    "        layout=widgets.Layout(width='20%'))\n",
    "    kWidget = widgets.IntSlider(\n",
    "        value=10,\n",
    "        description='k',\n",
    "        max=50,\n",
    "        min=1,\n",
    "        layout=widgets.Layout(width='30%'))\n",
    "    taskW = widgets.Dropdown(\n",
    "        options=tasks.keys(),\n",
    "        layout=widgets.Layout(width='90%', height='50px'),\n",
    "        description='Task:')\n",
    "    init = taskW.value\n",
    "    bulletW = widgets.Select(\n",
    "        options=tasks[init],\n",
    "        layout=widgets.Layout(width='90%', height='200px'),\n",
    "        description='Bullet Point:')\n",
    "    widget = widgets.interactive(\n",
    "        main_function,\n",
    "        task=taskW,\n",
    "        bullet=bulletW,\n",
    "        k=kWidget,\n",
    "        year_range=yearW,\n",
    "        only_covid19=covidW)\n",
    "    \n",
    "    controls = widgets.VBox(\n",
    "        [\n",
    "            widgets.HBox(\n",
    "                [\n",
    "                    widget.children[2],\n",
    "                    widget.children[3],\n",
    "                    widget.children[4]\n",
    "                ],\n",
    "                layout=widgets.Layout(width='90%', justify_content='space-around')),\n",
    "            widget.children[1],\n",
    "            widget.children[0]\n",
    "        ],\n",
    "        layout=widgets.Layout(align_items='center'))\n",
    "    output = widget.children[-1]\n",
    "    \n",
    "    display(widgets.VBox([controls, output]))"
   ]
  },
  {
   "cell_type": "code",
   "execution_count": 44,
   "metadata": {
    "ExecuteTime": {
     "end_time": "2020-04-01T09:36:07.165736Z",
     "start_time": "2020-04-01T09:36:07.082530Z"
    },
    "scrolled": false
   },
   "outputs": [
    {
     "data": {
      "application/vnd.jupyter.widget-view+json": {
       "model_id": "06a4dc0a71ad49c2bd40cf274713c8b8",
       "version_major": 2,
       "version_minor": 0
      },
      "text/plain": [
       "VBox(children=(VBox(children=(HBox(children=(IntSlider(value=10, description='k', layout=Layout(width='30%'), …"
      ]
     },
     "metadata": {},
     "output_type": "display_data"
    }
   ],
   "source": [
    "relevant_articles_for_task()"
   ]
  },
  {
   "cell_type": "markdown",
   "metadata": {},
   "source": [
    "## Widget: Free Text Search with exclusions"
   ]
  },
  {
   "cell_type": "code",
   "execution_count": 605,
   "metadata": {
    "ExecuteTime": {
     "end_time": "2020-03-30T14:56:49.010793Z",
     "start_time": "2020-03-30T14:56:49.004649Z"
    }
   },
   "outputs": [],
   "source": [
    "doc_tf = exclusions_tf = tf_vectorizer.transform(['honey'])\n",
    "exclusions_tf = tf_vectorizer.transform(['traditional'])"
   ]
  },
  {
   "cell_type": "code",
   "execution_count": 606,
   "metadata": {
    "ExecuteTime": {
     "end_time": "2020-03-30T14:57:00.066532Z",
     "start_time": "2020-03-30T14:57:00.058511Z"
    }
   },
   "outputs": [],
   "source": [
    "topic_dist = pd.DataFrame(lda_tf.transform(doc_tf))\n",
    "exclusions_topic_dist = pd.DataFrame(lda_tf.transform(exclusions_tf))"
   ]
  },
  {
   "cell_type": "code",
   "execution_count": 38,
   "metadata": {
    "ExecuteTime": {
     "end_time": "2020-04-01T09:34:40.922340Z",
     "start_time": "2020-04-01T09:34:40.599632Z"
    }
   },
   "outputs": [],
   "source": [
    "# topic_dist = pd.read_csv(log_dir / 'topic_dist.csv')"
   ]
  },
  {
   "cell_type": "code",
   "execution_count": 604,
   "metadata": {
    "ExecuteTime": {
     "end_time": "2020-03-30T14:56:10.053533Z",
     "start_time": "2020-03-30T14:56:03.759033Z"
    }
   },
   "outputs": [],
   "source": [
    "dds = topic_dist.apply(lambda x: jensenshannon(x, exclusions_topic_dist.iloc[0]), axis=1)"
   ]
  },
  {
   "cell_type": "code",
   "execution_count": 637,
   "metadata": {
    "ExecuteTime": {
     "end_time": "2020-03-30T15:07:29.460288Z",
     "start_time": "2020-03-30T15:07:29.435444Z"
    }
   },
   "outputs": [
    {
     "data": {
      "text/html": [
       "<div>\n",
       "<style scoped>\n",
       "    .dataframe tbody tr th:only-of-type {\n",
       "        vertical-align: middle;\n",
       "    }\n",
       "\n",
       "    .dataframe tbody tr th {\n",
       "        vertical-align: top;\n",
       "    }\n",
       "\n",
       "    .dataframe thead th {\n",
       "        text-align: right;\n",
       "    }\n",
       "</style>\n",
       "<table border=\"1\" class=\"dataframe\">\n",
       "  <thead>\n",
       "    <tr style=\"text-align: right;\">\n",
       "      <th></th>\n",
       "      <th>0</th>\n",
       "      <th>1</th>\n",
       "      <th>2</th>\n",
       "      <th>3</th>\n",
       "      <th>4</th>\n",
       "      <th>5</th>\n",
       "      <th>6</th>\n",
       "      <th>7</th>\n",
       "      <th>8</th>\n",
       "      <th>9</th>\n",
       "      <th>...</th>\n",
       "      <th>40</th>\n",
       "      <th>41</th>\n",
       "      <th>42</th>\n",
       "      <th>43</th>\n",
       "      <th>44</th>\n",
       "      <th>45</th>\n",
       "      <th>46</th>\n",
       "      <th>47</th>\n",
       "      <th>48</th>\n",
       "      <th>49</th>\n",
       "    </tr>\n",
       "  </thead>\n",
       "  <tbody>\n",
       "    <tr>\n",
       "      <th>0</th>\n",
       "      <td>0.01</td>\n",
       "      <td>0.01</td>\n",
       "      <td>0.01</td>\n",
       "      <td>0.01</td>\n",
       "      <td>0.01</td>\n",
       "      <td>0.01</td>\n",
       "      <td>0.01</td>\n",
       "      <td>0.01</td>\n",
       "      <td>0.01</td>\n",
       "      <td>0.01</td>\n",
       "      <td>...</td>\n",
       "      <td>0.01</td>\n",
       "      <td>0.01</td>\n",
       "      <td>0.01</td>\n",
       "      <td>0.01</td>\n",
       "      <td>0.01</td>\n",
       "      <td>0.01</td>\n",
       "      <td>0.01</td>\n",
       "      <td>0.01</td>\n",
       "      <td>0.01</td>\n",
       "      <td>0.01</td>\n",
       "    </tr>\n",
       "  </tbody>\n",
       "</table>\n",
       "<p>1 rows × 50 columns</p>\n",
       "</div>"
      ],
      "text/plain": [
       "     0     1     2     3     4     5     6     7     8     9   ...    40  \\\n",
       "0  0.01  0.01  0.01  0.01  0.01  0.01  0.01  0.01  0.01  0.01  ...  0.01   \n",
       "\n",
       "     41    42    43    44    45    46    47    48    49  \n",
       "0  0.01  0.01  0.01  0.01  0.01  0.01  0.01  0.01  0.01  \n",
       "\n",
       "[1 rows x 50 columns]"
      ]
     },
     "execution_count": 637,
     "metadata": {},
     "output_type": "execute_result"
    }
   ],
   "source": [
    "topic_dist.nsmallest()"
   ]
  },
  {
   "cell_type": "code",
   "execution_count": 687,
   "metadata": {
    "ExecuteTime": {
     "end_time": "2020-03-30T15:27:51.260561Z",
     "start_time": "2020-03-30T15:27:51.249398Z"
    }
   },
   "outputs": [],
   "source": [
    "def get_k_nearest_docs(\n",
    "    doc_dist,\n",
    "    excl_dist=None,\n",
    "    k=5,\n",
    "    lower=1950,\n",
    "    upper=2020,\n",
    "    only_covid19=False,\n",
    "    get_dist=False,\n",
    "    get_original_dist=False):\n",
    "    \n",
    "    \"\"\"Given a document LDA distribution determine the k nearest documents\n",
    "    \n",
    "    Parameters\n",
    "    ----------\n",
    "    doc_dist : array_like\n",
    "        topic distribution (sums to 1) of one article\n",
    "    \n",
    "    Return\n",
    "    ------\n",
    "    Returns the index of the k nearest articles (as by Jensen–Shannon\n",
    "    divergence in topic space). \n",
    "    \"\"\"\n",
    "    \n",
    "    relevant_time = df.publish_year.between(lower, upper)\n",
    "    \n",
    "    if only_covid19:\n",
    "        topic_dist_temp = topic_dist[relevant_time & df.is_covid19_article]\n",
    "    else:\n",
    "        topic_dist_temp = topic_dist[relevant_time]\n",
    "        \n",
    "         \n",
    "    distances = topic_dist_temp.apply(\n",
    "        lambda x: jensenshannon(x, doc_dist), axis=1)\n",
    "    distances[distances == 0] = 100  # exclude itself\n",
    "    \n",
    "    if excl_dist is None:\n",
    "        distances_excl = topic_dist_temp.apply(\n",
    "            lambda x: 0.0, axis=1)\n",
    "    else:\n",
    "        distances_excl = topic_dist_temp.apply(\n",
    "            lambda x: jensenshannon(x, excl_dist), axis=1)\n",
    "    \n",
    "    \n",
    "    \n",
    "    \n",
    "    relative_distances = distances - distances_excl\n",
    "    \n",
    "    k_distances = relative_distances.nsmallest(n=k)\n",
    "    k_nearest = k_distances.index\n",
    "    \n",
    "    if get_dist and not get_original_dist:\n",
    "        return k_nearest, k_distances\n",
    "    elif get_dist and get_original_dist:\n",
    "        return k_nearest, k_distances, distances[k_nearest], distances_excl[k_nearest]\n",
    "    else:\n",
    "        return k_nearest"
   ]
  },
  {
   "cell_type": "code",
   "execution_count": 733,
   "metadata": {
    "ExecuteTime": {
     "end_time": "2020-03-30T15:51:49.715668Z",
     "start_time": "2020-03-30T15:51:49.705892Z"
    }
   },
   "outputs": [],
   "source": [
    "def get_k_nearest_single(\n",
    "    query_doc_distr,\n",
    "    exclusion_doc_distr=None,\n",
    "    k=3,\n",
    "    lower=1950,\n",
    "    upper=2020,\n",
    "    only_covid19=False):\n",
    "    \n",
    "    relevant_time = df.publish_year.between(lower, upper)\n",
    "    \n",
    "    if only_covid19:\n",
    "        topic_dist_temp = topic_dist[relevant_time & df.is_covid19_article]\n",
    "    else:\n",
    "        topic_dist_temp = topic_dist[relevant_time]\n",
    "    \n",
    "    distances = topic_dist_temp.apply(\n",
    "        lambda x: jensenshannon(x, query_doc_distr), axis=1)\n",
    "    distances[distances == 0] = 100  # exclude itself\n",
    "    \n",
    "    if exclusion_doc_distr is not None:\n",
    "        distances_excl = topic_dist_temp.apply(\n",
    "            lambda x: jensenshannon(x, exclusion_doc_distr), axis=1)\n",
    "    else:\n",
    "        distances_excl = pd.Series(0, index=distances.index)\n",
    "    \n",
    "    \n",
    "    relative_distances = distances - distances_excl\n",
    "    k_distances = relative_distances.nsmallest(n=k)\n",
    "    k_nearest = k_distances.index\n",
    "    \n",
    "    return k_nearest, k_distances, distances[k_nearest], distances_excl[k_nearest]"
   ]
  },
  {
   "cell_type": "code",
   "execution_count": 734,
   "metadata": {
    "ExecuteTime": {
     "end_time": "2020-03-30T15:51:50.245423Z",
     "start_time": "2020-03-30T15:51:50.236096Z"
    }
   },
   "outputs": [],
   "source": [
    "def relevant_articles_single(query_doc, exlusion_doc=None, k=3, lower=1950, upper=2020, only_covid19=False):\n",
    "    print(\"Query      :\", query_doc)\n",
    "    print(\"Exclusions :\", exlusion_doc)\n",
    "    \n",
    "    query_tf = tf_vectorizer.transform([query_doc])\n",
    "    query_topic_distr = lda_tf.transform(query_tf)[0]\n",
    "    \n",
    "    if exlusion_doc is not None and len(exlusion_doc) > 0:\n",
    "        exclusion_tf = tf_vectorizer.transform([exlusion_doc])\n",
    "        exclusion_topic_distr = lda_tf.transform(exclusion_tf)[0]\n",
    "    else:\n",
    "        exclusion_topic_distr = None\n",
    "    \n",
    "    recommended, distances, d_tasks, d_excl = get_k_nearest_single(\n",
    "        query_topic_distr,\n",
    "        exclusion_topic_distr,\n",
    "        k,\n",
    "        lower,\n",
    "        upper,\n",
    "        only_covid19)\n",
    "\n",
    "    lines = []\n",
    "    for idx, dist, dt, de in zip(recommended, distances, d_tasks, d_excl):\n",
    "        link = df.iloc[idx]['link']\n",
    "        title = df.iloc[idx]['title']\n",
    "        line = f\"[sim={dist:.2f}={dt:.2f}-{de:.2f}] <a href={link} target='_blank'>{title}</a>\"\n",
    "        lines.append(line)\n",
    "\n",
    "    h = '<br/>'.join(lines)\n",
    "    display(HTML(h))"
   ]
  },
  {
   "cell_type": "code",
   "execution_count": 737,
   "metadata": {
    "ExecuteTime": {
     "end_time": "2020-03-30T15:52:34.717258Z",
     "start_time": "2020-03-30T15:52:32.757601Z"
    }
   },
   "outputs": [
    {
     "name": "stdout",
     "output_type": "stream",
     "text": [
      "Query      : honey\n",
      "Exclusions : None\n"
     ]
    },
    {
     "data": {
      "text/html": [
       "[sim=0.39=0.39-0.00] <a href=http://dx.doi.org/10.1016/j.dci.2018.09.003 target='_blank'>Transcriptomics analysis reveals candidate genes and pathways for susceptibility or resistance to Singapore grouper iridovirus in orange-spotted grouper (Epinephelus coioides)</a><br/>[sim=0.40=0.40-0.00] <a href=http://dx.doi.org/10.1186/1471-2199-8-10 target='_blank'>Appropriate 'housekeeping' genes for use in expression profiling the effects of environmental estrogens in fish</a><br/>[sim=0.41=0.41-0.00] <a href=http://dx.doi.org/10.1016/j.scitotenv.2019.136045 target='_blank'>The regulation mechanism of lncRNAs and mRNAs in sea cucumbers under global climate changes: Defense against thermal and hypoxic stresses</a><br/>[sim=0.41=0.41-0.00] <a href=http://dx.doi.org/10.3390/genes8120366 target='_blank'>Current Research on Non-Coding Ribonucleic Acid (RNA)</a><br/>[sim=0.42=0.42-0.00] <a href=http://dx.doi.org/10.1371/journal.pone.0192024 target='_blank'>Genetic variation in the C-type lectin receptor CLEC4M in type 1 von Willebrand Disease patients</a><br/>[sim=0.42=0.42-0.00] <a href=http://dx.doi.org/10.3390/ijms21010302 target='_blank'>A Single Cell but Many Different Transcripts: A Journey into the World of Long Non-Coding RNAs</a><br/>[sim=0.42=0.42-0.00] <a href=http://dx.doi.org/10.1038/s41598-018-36342-y target='_blank'>Gene expression profiles alteration after infection of virus, bacteria, and parasite in the Olive flounder (Paralichthys olivaceus)</a><br/>[sim=0.42=0.42-0.00] <a href=http://dx.doi.org/10.3390/genes8010031 target='_blank'>Characterization of the Transcriptome and Gene Expression of Brain Tissue in Sevenband Grouper (Hyporthodus septemfasciatus) in Response to NNV Infection</a><br/>[sim=0.42=0.42-0.00] <a href=http://dx.doi.org/10.1186/1756-0500-1-47 target='_blank'>Selection of reference genes for qRT-PCR examination of wild populations of Atlantic cod Gadus morhua</a><br/>[sim=0.42=0.42-0.00] <a href=http://dx.doi.org/10.1186/1471-2164-13-173 target='_blank'>Genome-wide expression profiling shows transcriptional reprogramming in Fusarium graminearum by Fusarium graminearum virus 1-DK21 infection</a>"
      ],
      "text/plain": [
       "<IPython.core.display.HTML object>"
      ]
     },
     "metadata": {},
     "output_type": "display_data"
    }
   ],
   "source": [
    "relevant_articles_single('honey', k=10)"
   ]
  },
  {
   "cell_type": "code",
   "execution_count": 753,
   "metadata": {
    "ExecuteTime": {
     "end_time": "2020-03-30T16:03:40.439820Z",
     "start_time": "2020-03-30T16:03:40.427003Z"
    }
   },
   "outputs": [
    {
     "data": {
      "text/plain": [
       "array([[0.01, 0.01, 0.51, 0.01, 0.01, 0.01, 0.01, 0.01, 0.01, 0.01, 0.01,\n",
       "        0.01, 0.01, 0.01, 0.01, 0.01, 0.01, 0.01, 0.01, 0.01, 0.01, 0.01,\n",
       "        0.01, 0.01, 0.01, 0.01, 0.01, 0.01, 0.01, 0.01, 0.01, 0.01, 0.01,\n",
       "        0.01, 0.01, 0.01, 0.01, 0.01, 0.01, 0.01, 0.01, 0.01, 0.01, 0.01,\n",
       "        0.01, 0.01, 0.01, 0.01, 0.01, 0.01]])"
      ]
     },
     "execution_count": 753,
     "metadata": {},
     "output_type": "execute_result"
    }
   ],
   "source": [
    "lda_tf.transform(tf_vectorizer.transform(['glucose']))"
   ]
  },
  {
   "cell_type": "code",
   "execution_count": 754,
   "metadata": {
    "ExecuteTime": {
     "end_time": "2020-03-30T16:03:43.013504Z",
     "start_time": "2020-03-30T16:03:43.005839Z"
    }
   },
   "outputs": [
    {
     "data": {
      "text/plain": [
       "array([[0.01, 0.01, 0.51, 0.01, 0.01, 0.01, 0.01, 0.01, 0.01, 0.01, 0.01,\n",
       "        0.01, 0.01, 0.01, 0.01, 0.01, 0.01, 0.01, 0.01, 0.01, 0.01, 0.01,\n",
       "        0.01, 0.01, 0.01, 0.01, 0.01, 0.01, 0.01, 0.01, 0.01, 0.01, 0.01,\n",
       "        0.01, 0.01, 0.01, 0.01, 0.01, 0.01, 0.01, 0.01, 0.01, 0.01, 0.01,\n",
       "        0.01, 0.01, 0.01, 0.01, 0.01, 0.01]])"
      ]
     },
     "execution_count": 754,
     "metadata": {},
     "output_type": "execute_result"
    }
   ],
   "source": [
    "lda_tf.transform(tf_vectorizer.transform(['diabetes']))"
   ]
  },
  {
   "cell_type": "code",
   "execution_count": 755,
   "metadata": {
    "ExecuteTime": {
     "end_time": "2020-03-30T16:03:52.035514Z",
     "start_time": "2020-03-30T16:03:48.165314Z"
    }
   },
   "outputs": [
    {
     "name": "stdout",
     "output_type": "stream",
     "text": [
      "Query      : glucose\n",
      "Exclusions : diabetes\n"
     ]
    },
    {
     "data": {
      "text/html": [
       "[sim=-0.00=0.44-0.44] <a href=http://dx.doi.org/10.3390/ijms21010087 target='_blank'>Mechanistic Insight of Na/K-ATPase Signaling and HO-1 into Models of Obesity and Nonalcoholic Steatohepatitis</a><br/>[sim=-0.00=0.40-0.40] <a href=http://dx.doi.org/10.1016/j.neures.2006.04.004 target='_blank'>Abstracts for the 29th Annual Meeting of the Japan Neuroscience Society (Neuroscience2006)</a><br/>[sim=-0.00=0.43-0.43] <a href=http://dx.doi.org/10.3760/cma.j.issn.1008-1275.2012.02.008 target='_blank'>Barrier stabilizing mediators in regulation of microvascular endothelial permeability</a><br/>[sim=-0.00=0.42-0.42] <a href=http://dx.doi.org/10.1016/B978-0-12-385095-9.00186-X target='_blank'>Chapter 186 Angiotensin II Peptides</a><br/>[sim=-0.00=0.43-0.43] <a href=http://dx.doi.org/10.3390/molecules21091172 target='_blank'>The Role of Na/K-ATPase Signaling in Oxidative Stress Related to Obesity and Cardiovascular Disease</a><br/>[sim=-0.00=0.45-0.45] <a href=http://dx.doi.org/10.1016/j.ihj.2016.06.010 target='_blank'>Role of cardiac renin angiotensin system in ischemia reperfusion injury and preconditioning of heart</a><br/>[sim=-0.00=0.43-0.43] <a href=http://dx.doi.org/10.1016/j.sjbs.2020.01.026 target='_blank'>Role of brain renin angiotensin system in neurodegeneration: An update</a><br/>[sim=-0.00=0.45-0.45] <a href=http://dx.doi.org/10.2174/1570159X11311020007 target='_blank'>ACE2-Ang-(1-7)-Mas Axis in Brain: A Potential Target for Prevention and Treatment of Ischemic Stroke</a><br/>[sim=-0.00=0.42-0.42] <a href=http://dx.doi.org/10.1186/s13069-015-0023-z target='_blank'>Modulation of angiotensin II signaling in the prevention of fibrosis</a><br/>[sim=-0.00=0.42-0.42] <a href=http://dx.doi.org/10.1016/j.trsl.2008.12.005 target='_blank'>Oxidized phospholipids in control of inflammation and endothelial barrier</a>"
      ],
      "text/plain": [
       "<IPython.core.display.HTML object>"
      ]
     },
     "metadata": {},
     "output_type": "display_data"
    }
   ],
   "source": [
    "relevant_articles_single('glucose', 'diabetes', k=10)"
   ]
  },
  {
   "cell_type": "code",
   "execution_count": 688,
   "metadata": {
    "ExecuteTime": {
     "end_time": "2020-03-30T15:27:53.200195Z",
     "start_time": "2020-03-30T15:27:53.188189Z"
    }
   },
   "outputs": [],
   "source": [
    "def relevant_articles(tasks, exclusions=None, k=3, lower=1950, upper=2020, only_covid19=False):\n",
    "    tasks = [tasks] if type(tasks) is str else tasks\n",
    "    if exclusions is None:\n",
    "        exclusions = ['']\n",
    "    elif type(exclusions) is str:\n",
    "        exclusions = [exclusions]\n",
    "    \n",
    "    tasks_tf = tf_vectorizer.transform(tasks)\n",
    "    exclusions_tf = tf_vectorizer.transform(exclusions)\n",
    "    \n",
    "    tasks_topic_dist = pd.DataFrame(lda_tf.transform(tasks_tf))\n",
    "    exclusions_topic_dist = pd.DataFrame(lda_tf.transform(exclusions_tf))\n",
    "\n",
    "    for index, (bullet, exclusion) in enumerate(zip(tasks, exclusions)):\n",
    "        print(\"Query      :\", bullet)\n",
    "        print(\"Exclusions :\", exclusion)\n",
    "        recommended, distances, d_tasks, d_excl = get_k_nearest_docs(\n",
    "            tasks_topic_dist.iloc[index],\n",
    "            exclusions_topic_dist.iloc[index],\n",
    "            k,\n",
    "            lower,\n",
    "            upper,\n",
    "            only_covid19,\n",
    "            get_dist=True,\n",
    "            get_original_dist=True)\n",
    "        \n",
    "        lines = []\n",
    "        for idx, dist, dt, de in zip(recommended, distances, d_tasks, d_excl):\n",
    "            link = df.iloc[idx]['link']\n",
    "            title = df.iloc[idx]['title']\n",
    "            line = f\"[sim={dist:.2f}={dt:.2f}-{de:.2f}] <a href={link} target='_blank'>{title}</a>\"\n",
    "            lines.append(line)\n",
    "        \n",
    "        h = '<br/>'.join(lines)\n",
    "        display(HTML(h))"
   ]
  },
  {
   "cell_type": "code",
   "execution_count": 689,
   "metadata": {
    "ExecuteTime": {
     "end_time": "2020-03-30T15:27:58.379913Z",
     "start_time": "2020-03-30T15:27:53.867745Z"
    }
   },
   "outputs": [
    {
     "name": "stdout",
     "output_type": "stream",
     "text": [
      "Query      : honey\n",
      "Exclusions : \n"
     ]
    },
    {
     "data": {
      "text/html": [
       "[sim=-0.33=0.44-0.77] <a href=http://dx.doi.org/10.1155/2009/316936 target='_blank'>Synonymous Codon Usage Analysis of Thirty Two Mycobacteriophage Genomes</a><br/>[sim=-0.33=0.44-0.77] <a href=http://dx.doi.org/10.1186/s12864-018-5158-z target='_blank'>Genome-wide identification and characterization of long non-coding RNAs involved in the early somatic embryogenesis in Dimocarpus longan Lour</a><br/>[sim=-0.32=0.45-0.77] <a href=http://dx.doi.org/10.3390/ijms17071138 target='_blank'>Genome-Wide Analysis of Codon Usage Bias in Epichloë festucae</a><br/>[sim=-0.32=0.41-0.73] <a href=http://dx.doi.org/10.3390/genes8120366 target='_blank'>Current Research on Non-Coding Ribonucleic Acid (RNA)</a><br/>[sim=-0.32=0.46-0.78] <a href=http://dx.doi.org/10.1371/journal.pone.0121709 target='_blank'>Gaining Insights into the Codon Usage Patterns of TP53 Gene across Eight Mammalian Species</a>"
      ],
      "text/plain": [
       "<IPython.core.display.HTML object>"
      ]
     },
     "metadata": {},
     "output_type": "display_data"
    }
   ],
   "source": [
    "relevant_articles(\"honey\", exclusions=None, k=5)"
   ]
  },
  {
   "cell_type": "code",
   "execution_count": 248,
   "metadata": {
    "ExecuteTime": {
     "end_time": "2020-03-29T18:07:44.332257Z",
     "start_time": "2020-03-29T18:07:44.321212Z"
    }
   },
   "outputs": [],
   "source": [
    "def relevant_articles_for_text():    \n",
    "    textW = widgets.Textarea(\n",
    "        value='',\n",
    "        placeholder='Type something',\n",
    "        description='',\n",
    "        disabled=False,\n",
    "        layout=widgets.Layout(width='90%', height='200px')\n",
    "    )\n",
    "\n",
    "    yearW = widgets.IntRangeSlider(min=1950, max=2020, value=[2010, 2020], description='Year Range', \n",
    "                               continuous_update=False, layout=widgets.Layout(width='40%'))\n",
    "    covidW = widgets.Checkbox(value=True,description='Only COVID-19-Papers',disabled=False, indent=False, layout=widgets.Layout(width='25%'))\n",
    "    kWidget = widgets.IntSlider(value=10, description='k', max=50, min=1, layout=widgets.Layout(width='25%'))\n",
    "\n",
    "    button = widgets.Button(description=\"Search\")\n",
    "\n",
    "    display(widgets.VBox([widgets.HBox([kWidget, yearW, covidW], layout=widgets.Layout(width='90%', justify_content='space-around')),\n",
    "        textW, button], layout=widgets.Layout(align_items='center')))\n",
    "\n",
    "    def on_button_clicked(b):\n",
    "        clear_output()\n",
    "        display(widgets.VBox([widgets.HBox([kWidget, yearW, covidW], layout=widgets.Layout(width='90%', justify_content='space-around')),\n",
    "            textW, button], layout=widgets.Layout(align_items='center')))        \n",
    "        relevant_articles(textW.value, kWidget.value, yearW.value[0], yearW.value[1], covidW.value)\n",
    "\n",
    "    button.on_click(on_button_clicked)"
   ]
  },
  {
   "cell_type": "code",
   "execution_count": 249,
   "metadata": {
    "ExecuteTime": {
     "end_time": "2020-03-29T18:07:44.502388Z",
     "start_time": "2020-03-29T18:07:44.441054Z"
    }
   },
   "outputs": [
    {
     "data": {
      "application/vnd.jupyter.widget-view+json": {
       "model_id": "3799af3a30a742baaf876f7ef08d4140",
       "version_major": 2,
       "version_minor": 0
      },
      "text/plain": [
       "VBox(children=(HBox(children=(IntSlider(value=10, description='k', layout=Layout(width='25%'), max=50, min=1),…"
      ]
     },
     "metadata": {},
     "output_type": "display_data"
    },
    {
     "name": "stdout",
     "output_type": "stream",
     "text": [
      "cure for covid-19\n"
     ]
    },
    {
     "data": {
      "text/html": [
       "<a href=\"http://dx.doi.org/10.1101/2020.03.08.20032946\" target=\"_blank\">Quantifying dynamics of SARS-CoV-2 transmission suggests that epidemic control and avoidance is feasible through instantaneous digital contact tracing</a><br/><a href=\"http://dx.doi.org/10.1016/j.jinf.2020.02.014\" target=\"_blank\">Trend and forecasting of the COVID-19 outbreak in China</a><br/><a href=\"http://dx.doi.org/10.1101/2020.02.18.20024414\" target=\"_blank\">Effective containment explains sub-exponential growth in confirmed cases of recent COVID-19 outbreak in Mainland China</a><br/><a href=\"http://dx.doi.org/10.1101/2020.02.16.20023804\" target=\"_blank\">When will the battle against novel coronavirus end in Wuhan: a SEIR modeling analysis</a><br/><a href=\"http://dx.doi.org/10.1101/2020.02.16.20023564\" target=\"_blank\">Simulating and Forecasting the Cumulative Confirmed Cases of SARS-CoV-2 in China by Boltzmann Function-based Regression Analyses</a><br/><a href=\"http://dx.doi.org/10.1101/2020.02.08.20021253\" target=\"_blank\">Estimation of the Time-Varying Reproduction Number of COVID-19 Outbreak in China</a><br/><a href=\"http://dx.doi.org/10.1101/2020.03.08.20032854\" target=\"_blank\">A deterministic epidemic model for the emergence of COVID-19 in China</a><br/><a href=\"http://dx.doi.org/10.1101/2020.02.21.20026070\" target=\"_blank\">CoVID-19 in Japan: What could happen in the future?</a><br/><a href=\"http://dx.doi.org/10.1101/2020.02.16.20023465\" target=\"_blank\">Epidemic analysis of COVID-19 in China by dynamical modeling</a><br/><a href=\"http://dx.doi.org/10.1101/2020.03.05.20031740\" target=\"_blank\">A data-driven assessment of early travel restrictions related to the spreading of the novel COVID-19 within mainland China</a>"
      ],
      "text/plain": [
       "<IPython.core.display.HTML object>"
      ]
     },
     "metadata": {},
     "output_type": "display_data"
    }
   ],
   "source": [
    "relevant_articles_for_text()"
   ]
  },
  {
   "cell_type": "markdown",
   "metadata": {},
   "source": [
    "## Widget: Free Text Search"
   ]
  },
  {
   "cell_type": "code",
   "execution_count": 45,
   "metadata": {
    "ExecuteTime": {
     "end_time": "2020-04-01T09:36:13.523592Z",
     "start_time": "2020-04-01T09:36:13.509984Z"
    }
   },
   "outputs": [],
   "source": [
    "def relevant_articles_for_text():    \n",
    "    textW = widgets.Textarea(\n",
    "        value='',\n",
    "        placeholder='Type something',\n",
    "        description='',\n",
    "        disabled=False,\n",
    "        layout=widgets.Layout(width='90%', height='200px')\n",
    "    )\n",
    "\n",
    "    yearW = widgets.IntRangeSlider(min=1950, max=2020, value=[2010, 2020], description='Year Range', \n",
    "                               continuous_update=False, layout=widgets.Layout(width='40%'))\n",
    "    covidW = widgets.Checkbox(value=True,description='Only COVID-19-Papers',disabled=False, indent=False, layout=widgets.Layout(width='25%'))\n",
    "    kWidget = widgets.IntSlider(value=10, description='k', max=50, min=1, layout=widgets.Layout(width='25%'))\n",
    "\n",
    "    button = widgets.Button(description=\"Search\")\n",
    "\n",
    "    display(widgets.VBox([widgets.HBox([kWidget, yearW, covidW], layout=widgets.Layout(width='90%', justify_content='space-around')),\n",
    "        textW, button], layout=widgets.Layout(align_items='center')))\n",
    "\n",
    "    def on_button_clicked(b):\n",
    "        clear_output()\n",
    "        display(widgets.VBox([widgets.HBox([kWidget, yearW, covidW], layout=widgets.Layout(width='90%', justify_content='space-around')),\n",
    "            textW, button], layout=widgets.Layout(align_items='center')))        \n",
    "        relevant_articles(textW.value, kWidget.value, yearW.value[0], yearW.value[1], covidW.value)\n",
    "\n",
    "    button.on_click(on_button_clicked)"
   ]
  },
  {
   "cell_type": "code",
   "execution_count": 46,
   "metadata": {
    "ExecuteTime": {
     "end_time": "2020-04-01T09:36:14.061426Z",
     "start_time": "2020-04-01T09:36:14.001660Z"
    }
   },
   "outputs": [
    {
     "data": {
      "application/vnd.jupyter.widget-view+json": {
       "model_id": "2699e159103e427cbaa437ec86e982a6",
       "version_major": 2,
       "version_minor": 0
      },
      "text/plain": [
       "VBox(children=(HBox(children=(IntSlider(value=10, description='k', layout=Layout(width='25%'), max=50, min=1),…"
      ]
     },
     "metadata": {},
     "output_type": "display_data"
    },
    {
     "name": "stdout",
     "output_type": "stream",
     "text": [
      "cure for covid-19\n"
     ]
    },
    {
     "data": {
      "text/html": [
       "<a href=\"http://dx.doi.org/10.1101/2020.03.08.20032946\" target=\"_blank\">Quantifying dynamics of SARS-CoV-2 transmission suggests that epidemic control and avoidance is feasible through instantaneous digital contact tracing</a><br/><a href=\"http://dx.doi.org/10.1016/j.mbs.2019.03.006\" target=\"_blank\">An investigation of the combined effect of an annual mass gathering event and seasonal infectiousness on disease outbreak</a><br/><a href=\"http://dx.doi.org/10.1016/j.jinf.2020.02.014\" target=\"_blank\">Trend and forecasting of the COVID-19 outbreak in China</a><br/><a href=\"http://dx.doi.org/10.1101/2020.02.18.20024414\" target=\"_blank\">Effective containment explains sub-exponential growth in confirmed cases of recent COVID-19 outbreak in Mainland China</a><br/><a href=\"http://dx.doi.org/10.3201/eid1201.050396\" target=\"_blank\">Real-time Forecast of Multiphase Outbreak</a><br/><a href=\"http://dx.doi.org/10.1101/2020.02.16.20023804\" target=\"_blank\">When will the battle against novel coronavirus end in Wuhan: a SEIR modeling analysis</a><br/><a href=\"http://dx.doi.org/10.1101/2020.02.16.20023564\" target=\"_blank\">Simulating and Forecasting the Cumulative Confirmed Cases of SARS-CoV-2 in China by Boltzmann Function-based Regression Analyses</a><br/><a href=\"http://dx.doi.org/10.1371/journal.pmed.0020174\" target=\"_blank\">Appropriate Models for the Management of Infectious Diseases</a><br/><a href=\"http://dx.doi.org/10.1101/2020.02.08.20021253\" target=\"_blank\">Estimation of the Time-Varying Reproduction Number of COVID-19 Outbreak in China</a><br/><a href=\"http://dx.doi.org/10.1101/2020.03.08.20032854\" target=\"_blank\">A deterministic epidemic model for the emergence of COVID-19 in China</a>"
      ],
      "text/plain": [
       "<IPython.core.display.HTML object>"
      ]
     },
     "metadata": {},
     "output_type": "display_data"
    }
   ],
   "source": [
    "relevant_articles_for_text()"
   ]
  },
  {
   "cell_type": "markdown",
   "metadata": {},
   "source": [
    "## The End"
   ]
  },
  {
   "cell_type": "markdown",
   "metadata": {},
   "source": [
    "Where can one improve:\n",
    "\n",
    "- [ ] Remove papers with foreign languages\n",
    "- [ ] Better vocabulary\n",
    "    - compund words / synonyms\n",
    "    - truncate top/bottom n%\n",
    "- [ ] play with n_topics\n",
    "- [x] make queries faster"
   ]
  },
  {
   "cell_type": "markdown",
   "metadata": {},
   "source": [
    "## Sandbox"
   ]
  },
  {
   "cell_type": "code",
   "execution_count": 68,
   "metadata": {
    "ExecuteTime": {
     "end_time": "2020-04-01T09:48:18.675693Z",
     "start_time": "2020-04-01T09:48:18.671803Z"
    }
   },
   "outputs": [],
   "source": [
    "query = \"cure for covid-19\"\n",
    "top_title = \"Quantifying dynamics of SARS-CoV-2 transmission suggests that epidemic control and avoidance is feasible through instantaneous digital contact tracing\"\n",
    "top_sha = \"c91b581d38243c502118d93fc6f71ee02ec395e4\""
   ]
  },
  {
   "cell_type": "code",
   "execution_count": 67,
   "metadata": {
    "ExecuteTime": {
     "end_time": "2020-04-01T09:48:03.129095Z",
     "start_time": "2020-04-01T09:48:03.092429Z"
    }
   },
   "outputs": [
    {
     "data": {
      "text/html": [
       "<div>\n",
       "<style scoped>\n",
       "    .dataframe tbody tr th:only-of-type {\n",
       "        vertical-align: middle;\n",
       "    }\n",
       "\n",
       "    .dataframe tbody tr th {\n",
       "        vertical-align: top;\n",
       "    }\n",
       "\n",
       "    .dataframe thead th {\n",
       "        text-align: right;\n",
       "    }\n",
       "</style>\n",
       "<table border=\"1\" class=\"dataframe\">\n",
       "  <thead>\n",
       "    <tr style=\"text-align: right;\">\n",
       "      <th></th>\n",
       "      <th>paper_id</th>\n",
       "      <th>body_text</th>\n",
       "      <th>source_x</th>\n",
       "      <th>title</th>\n",
       "      <th>doi</th>\n",
       "      <th>pmcid</th>\n",
       "      <th>pubmed_id</th>\n",
       "      <th>license</th>\n",
       "      <th>abstract</th>\n",
       "      <th>publish_time</th>\n",
       "      <th>authors</th>\n",
       "      <th>journal</th>\n",
       "      <th>Microsoft Academic Paper ID</th>\n",
       "      <th>WHO #Covidence</th>\n",
       "      <th>has_full_text</th>\n",
       "      <th>full_text_file</th>\n",
       "      <th>publish_year</th>\n",
       "      <th>link</th>\n",
       "      <th>is_covid19_article</th>\n",
       "    </tr>\n",
       "  </thead>\n",
       "  <tbody>\n",
       "    <tr>\n",
       "      <th>2915</th>\n",
       "      <td>c91b581d38243c502118d93fc6f71ee02ec395e4</td>\n",
       "      <td>The new viral pathogen SARS-CoV-2 emerged in l...</td>\n",
       "      <td>medrxiv</td>\n",
       "      <td>Quantifying dynamics of SARS-CoV-2 transmissio...</td>\n",
       "      <td>10.1101/2020.03.08.20032946</td>\n",
       "      <td>NaN</td>\n",
       "      <td>NaN</td>\n",
       "      <td>medrvix</td>\n",
       "      <td>Mobile phone apps implementing algorithmic con...</td>\n",
       "      <td>2020-03-12</td>\n",
       "      <td>Luca Ferretti; Chris Wymant; Michelle Kendall;...</td>\n",
       "      <td>NaN</td>\n",
       "      <td>NaN</td>\n",
       "      <td>NaN</td>\n",
       "      <td>True</td>\n",
       "      <td>biorxiv_medrxiv</td>\n",
       "      <td>2020</td>\n",
       "      <td>http://dx.doi.org/10.1101/2020.03.08.20032946</td>\n",
       "      <td>True</td>\n",
       "    </tr>\n",
       "  </tbody>\n",
       "</table>\n",
       "</div>"
      ],
      "text/plain": [
       "                                      paper_id  \\\n",
       "2915  c91b581d38243c502118d93fc6f71ee02ec395e4   \n",
       "\n",
       "                                              body_text source_x  \\\n",
       "2915  The new viral pathogen SARS-CoV-2 emerged in l...  medrxiv   \n",
       "\n",
       "                                                  title  \\\n",
       "2915  Quantifying dynamics of SARS-CoV-2 transmissio...   \n",
       "\n",
       "                              doi pmcid  pubmed_id  license  \\\n",
       "2915  10.1101/2020.03.08.20032946   NaN        NaN  medrvix   \n",
       "\n",
       "                                               abstract publish_time  \\\n",
       "2915  Mobile phone apps implementing algorithmic con...   2020-03-12   \n",
       "\n",
       "                                                authors journal  \\\n",
       "2915  Luca Ferretti; Chris Wymant; Michelle Kendall;...     NaN   \n",
       "\n",
       "      Microsoft Academic Paper ID WHO #Covidence has_full_text  \\\n",
       "2915                          NaN            NaN          True   \n",
       "\n",
       "       full_text_file  publish_year  \\\n",
       "2915  biorxiv_medrxiv          2020   \n",
       "\n",
       "                                               link  is_covid19_article  \n",
       "2915  http://dx.doi.org/10.1101/2020.03.08.20032946                True  "
      ]
     },
     "execution_count": 67,
     "metadata": {},
     "output_type": "execute_result"
    }
   ],
   "source": [
    "df[df.title == top_title]"
   ]
  },
  {
   "cell_type": "code",
   "execution_count": 82,
   "metadata": {
    "ExecuteTime": {
     "end_time": "2020-04-01T09:50:50.641463Z",
     "start_time": "2020-04-01T09:50:50.634806Z"
    }
   },
   "outputs": [],
   "source": [
    "query_distr = lda_tf.transform(tf_vectorizer.transform([query]))[0]"
   ]
  },
  {
   "cell_type": "code",
   "execution_count": 83,
   "metadata": {
    "ExecuteTime": {
     "end_time": "2020-04-01T09:50:51.035771Z",
     "start_time": "2020-04-01T09:50:51.029393Z"
    }
   },
   "outputs": [
    {
     "data": {
      "text/plain": [
       "array([0.00666667, 0.00666667, 0.00666667, 0.00666667, 0.00666667,\n",
       "       0.00666667, 0.00666667, 0.00666667, 0.00666667, 0.00666667,\n",
       "       0.00666667, 0.00666667, 0.00666667, 0.00666667, 0.00666667,\n",
       "       0.00666667, 0.00666667, 0.00666667, 0.00666667, 0.00666667,\n",
       "       0.00666667, 0.00666667, 0.00666667, 0.00666667, 0.00666667,\n",
       "       0.00666667, 0.00666667, 0.00666667, 0.00666667, 0.00666667,\n",
       "       0.00666667, 0.00666667, 0.00666667, 0.00666667, 0.00666667,\n",
       "       0.67333333, 0.00666667, 0.00666667, 0.00666667, 0.00666667,\n",
       "       0.00666667, 0.00666667, 0.00666667, 0.00666667, 0.00666667,\n",
       "       0.00666667, 0.00666667, 0.00666667, 0.00666667, 0.00666667])"
      ]
     },
     "execution_count": 83,
     "metadata": {},
     "output_type": "execute_result"
    }
   ],
   "source": [
    "query_distr"
   ]
  },
  {
   "cell_type": "code",
   "execution_count": 78,
   "metadata": {
    "ExecuteTime": {
     "end_time": "2020-04-01T09:50:04.632233Z",
     "start_time": "2020-04-01T09:50:04.620293Z"
    }
   },
   "outputs": [
    {
     "data": {
      "text/plain": [
       "array([9.85707245e-06, 9.85707245e-06, 9.85707245e-06, 9.85707245e-06,\n",
       "       9.85707245e-06, 9.85707245e-06, 9.85707245e-06, 9.85707245e-06,\n",
       "       9.85707245e-06, 9.85707245e-06, 9.85707245e-06, 9.85707245e-06,\n",
       "       9.85707245e-06, 1.01268429e-02, 9.85707245e-06, 9.85707245e-06,\n",
       "       2.02473331e-03, 9.85707245e-06, 9.85707245e-06, 9.85707245e-06,\n",
       "       9.85707245e-06, 1.39728165e-02, 9.85707245e-06, 3.00036303e-03,\n",
       "       9.85707245e-06, 9.85707245e-06, 9.85707245e-06, 9.85707245e-06,\n",
       "       9.85707245e-06, 9.85707245e-06, 4.46405899e-03, 9.85707245e-06,\n",
       "       9.85707245e-06, 9.85707245e-06, 1.18699184e-02, 9.30979012e-01,\n",
       "       9.85707245e-06, 9.85707245e-06, 3.80413464e-03, 9.85707245e-06,\n",
       "       1.59768454e-02, 9.85707245e-06, 9.85707245e-06, 9.85707245e-06,\n",
       "       9.85707245e-06, 9.85707245e-06, 9.85707245e-06, 9.85707245e-06,\n",
       "       3.38699203e-03, 9.85707245e-06])"
      ]
     },
     "execution_count": 78,
     "metadata": {},
     "output_type": "execute_result"
    }
   ],
   "source": [
    "top_doc_distr = topic_dist.iloc[2915].values\n",
    "top_doc_distr"
   ]
  },
  {
   "cell_type": "code",
   "execution_count": 85,
   "metadata": {
    "ExecuteTime": {
     "end_time": "2020-04-01T09:51:02.958921Z",
     "start_time": "2020-04-01T09:51:02.953228Z"
    }
   },
   "outputs": [
    {
     "data": {
      "text/plain": [
       "0.32442223674872517"
      ]
     },
     "execution_count": 85,
     "metadata": {},
     "output_type": "execute_result"
    }
   ],
   "source": [
    "jensenshannon(top_doc_distr, query_distr)"
   ]
  },
  {
   "cell_type": "code",
   "execution_count": 86,
   "metadata": {
    "ExecuteTime": {
     "end_time": "2020-04-01T09:54:20.119043Z",
     "start_time": "2020-04-01T09:54:20.115829Z"
    }
   },
   "outputs": [],
   "source": [
    "other_top_sha = 'a50f3a7514dd9363e42a1eff725a7eb3e49b6ed2'"
   ]
  },
  {
   "cell_type": "code",
   "execution_count": 87,
   "metadata": {
    "ExecuteTime": {
     "end_time": "2020-04-01T09:54:42.059548Z",
     "start_time": "2020-04-01T09:54:42.029366Z"
    }
   },
   "outputs": [
    {
     "data": {
      "text/html": [
       "<div>\n",
       "<style scoped>\n",
       "    .dataframe tbody tr th:only-of-type {\n",
       "        vertical-align: middle;\n",
       "    }\n",
       "\n",
       "    .dataframe tbody tr th {\n",
       "        vertical-align: top;\n",
       "    }\n",
       "\n",
       "    .dataframe thead th {\n",
       "        text-align: right;\n",
       "    }\n",
       "</style>\n",
       "<table border=\"1\" class=\"dataframe\">\n",
       "  <thead>\n",
       "    <tr style=\"text-align: right;\">\n",
       "      <th></th>\n",
       "      <th>paper_id</th>\n",
       "      <th>body_text</th>\n",
       "      <th>source_x</th>\n",
       "      <th>title</th>\n",
       "      <th>doi</th>\n",
       "      <th>pmcid</th>\n",
       "      <th>pubmed_id</th>\n",
       "      <th>license</th>\n",
       "      <th>abstract</th>\n",
       "      <th>publish_time</th>\n",
       "      <th>authors</th>\n",
       "      <th>journal</th>\n",
       "      <th>Microsoft Academic Paper ID</th>\n",
       "      <th>WHO #Covidence</th>\n",
       "      <th>has_full_text</th>\n",
       "      <th>full_text_file</th>\n",
       "      <th>publish_year</th>\n",
       "      <th>link</th>\n",
       "      <th>is_covid19_article</th>\n",
       "    </tr>\n",
       "  </thead>\n",
       "  <tbody>\n",
       "    <tr>\n",
       "      <th>9888</th>\n",
       "      <td>a50f3a7514dd9363e42a1eff725a7eb3e49b6ed2</td>\n",
       "      <td>1 Supporting Text S1 infection (relative to co...</td>\n",
       "      <td>NaN</td>\n",
       "      <td>NaN</td>\n",
       "      <td>NaN</td>\n",
       "      <td>NaN</td>\n",
       "      <td>NaN</td>\n",
       "      <td>NaN</td>\n",
       "      <td>NaN</td>\n",
       "      <td>NaN</td>\n",
       "      <td>NaN</td>\n",
       "      <td>NaN</td>\n",
       "      <td>NaN</td>\n",
       "      <td>NaN</td>\n",
       "      <td>NaN</td>\n",
       "      <td>NaN</td>\n",
       "      <td>-1</td>\n",
       "      <td>NaN</td>\n",
       "      <td>False</td>\n",
       "    </tr>\n",
       "  </tbody>\n",
       "</table>\n",
       "</div>"
      ],
      "text/plain": [
       "                                      paper_id  \\\n",
       "9888  a50f3a7514dd9363e42a1eff725a7eb3e49b6ed2   \n",
       "\n",
       "                                              body_text source_x title  doi  \\\n",
       "9888  1 Supporting Text S1 infection (relative to co...      NaN   NaN  NaN   \n",
       "\n",
       "     pmcid  pubmed_id license abstract publish_time authors journal  \\\n",
       "9888   NaN        NaN     NaN      NaN          NaN     NaN     NaN   \n",
       "\n",
       "      Microsoft Academic Paper ID WHO #Covidence has_full_text full_text_file  \\\n",
       "9888                          NaN            NaN           NaN            NaN   \n",
       "\n",
       "      publish_year link  is_covid19_article  \n",
       "9888            -1  NaN               False  "
      ]
     },
     "execution_count": 87,
     "metadata": {},
     "output_type": "execute_result"
    }
   ],
   "source": [
    "df[df.paper_id == other_top_sha]"
   ]
  },
  {
   "cell_type": "code",
   "execution_count": 90,
   "metadata": {
    "ExecuteTime": {
     "end_time": "2020-04-01T09:55:06.635864Z",
     "start_time": "2020-04-01T09:55:06.628487Z"
    }
   },
   "outputs": [
    {
     "data": {
      "text/plain": [
       "0.21536620682174096"
      ]
     },
     "execution_count": 90,
     "metadata": {},
     "output_type": "execute_result"
    }
   ],
   "source": [
    "jensenshannon(top_doc_distr, topic_dist.iloc[9888])"
   ]
  },
  {
   "cell_type": "code",
   "execution_count": 91,
   "metadata": {
    "ExecuteTime": {
     "end_time": "2020-04-01T13:32:02.783973Z",
     "start_time": "2020-04-01T13:32:02.751042Z"
    }
   },
   "outputs": [
    {
     "data": {
      "text/html": [
       "<div>\n",
       "<style scoped>\n",
       "    .dataframe tbody tr th:only-of-type {\n",
       "        vertical-align: middle;\n",
       "    }\n",
       "\n",
       "    .dataframe tbody tr th {\n",
       "        vertical-align: top;\n",
       "    }\n",
       "\n",
       "    .dataframe thead th {\n",
       "        text-align: right;\n",
       "    }\n",
       "</style>\n",
       "<table border=\"1\" class=\"dataframe\">\n",
       "  <thead>\n",
       "    <tr style=\"text-align: right;\">\n",
       "      <th></th>\n",
       "      <th>paper_id</th>\n",
       "      <th>body_text</th>\n",
       "      <th>source_x</th>\n",
       "      <th>title</th>\n",
       "      <th>doi</th>\n",
       "      <th>pmcid</th>\n",
       "      <th>pubmed_id</th>\n",
       "      <th>license</th>\n",
       "      <th>abstract</th>\n",
       "      <th>publish_time</th>\n",
       "      <th>authors</th>\n",
       "      <th>journal</th>\n",
       "      <th>Microsoft Academic Paper ID</th>\n",
       "      <th>WHO #Covidence</th>\n",
       "      <th>has_full_text</th>\n",
       "      <th>full_text_file</th>\n",
       "      <th>publish_year</th>\n",
       "      <th>link</th>\n",
       "      <th>is_covid19_article</th>\n",
       "    </tr>\n",
       "  </thead>\n",
       "  <tbody>\n",
       "    <tr>\n",
       "      <th>17305</th>\n",
       "      <td>2309dc999803317771dca7201f28e8632b8bf773</td>\n",
       "      <td>veals the epidemic in Hubei is much more serio...</td>\n",
       "      <td>Elsevier</td>\n",
       "      <td>Trend and forecasting of the COVID-19 outbreak...</td>\n",
       "      <td>10.1016/j.jinf.2020.02.014</td>\n",
       "      <td>NaN</td>\n",
       "      <td>NaN</td>\n",
       "      <td>els-covid</td>\n",
       "      <td>NaN</td>\n",
       "      <td>2020-02-27</td>\n",
       "      <td>Li, Qiang; Feng, Wei; Quan, Ying-Hui</td>\n",
       "      <td>Journal of Infection</td>\n",
       "      <td>3.005902e+09</td>\n",
       "      <td>#2988</td>\n",
       "      <td>True</td>\n",
       "      <td>custom_license</td>\n",
       "      <td>2020</td>\n",
       "      <td>http://dx.doi.org/10.1016/j.jinf.2020.02.014</td>\n",
       "      <td>True</td>\n",
       "    </tr>\n",
       "  </tbody>\n",
       "</table>\n",
       "</div>"
      ],
      "text/plain": [
       "                                       paper_id  \\\n",
       "17305  2309dc999803317771dca7201f28e8632b8bf773   \n",
       "\n",
       "                                               body_text  source_x  \\\n",
       "17305  veals the epidemic in Hubei is much more serio...  Elsevier   \n",
       "\n",
       "                                                   title  \\\n",
       "17305  Trend and forecasting of the COVID-19 outbreak...   \n",
       "\n",
       "                              doi pmcid  pubmed_id    license abstract  \\\n",
       "17305  10.1016/j.jinf.2020.02.014   NaN        NaN  els-covid      NaN   \n",
       "\n",
       "      publish_time                               authors  \\\n",
       "17305   2020-02-27  Li, Qiang; Feng, Wei; Quan, Ying-Hui   \n",
       "\n",
       "                    journal  Microsoft Academic Paper ID WHO #Covidence  \\\n",
       "17305  Journal of Infection                 3.005902e+09          #2988   \n",
       "\n",
       "      has_full_text  full_text_file  publish_year  \\\n",
       "17305          True  custom_license          2020   \n",
       "\n",
       "                                               link  is_covid19_article  \n",
       "17305  http://dx.doi.org/10.1016/j.jinf.2020.02.014                True  "
      ]
     },
     "execution_count": 91,
     "metadata": {},
     "output_type": "execute_result"
    }
   ],
   "source": [
    "df[df.paper_id == '2309dc999803317771dca7201f28e8632b8bf773']"
   ]
  },
  {
   "cell_type": "code",
   "execution_count": null,
   "metadata": {},
   "outputs": [],
   "source": []
  }
 ],
 "metadata": {
  "kernelspec": {
   "display_name": "Python 3",
   "language": "python",
   "name": "python3"
  },
  "language_info": {
   "codemirror_mode": {
    "name": "ipython",
    "version": 3
   },
   "file_extension": ".py",
   "mimetype": "text/x-python",
   "name": "python",
   "nbconvert_exporter": "python",
   "pygments_lexer": "ipython3",
   "version": "3.6.10"
  },
  "toc": {
   "base_numbering": 1,
   "nav_menu": {},
   "number_sections": true,
   "sideBar": true,
   "skip_h1_title": true,
   "title_cell": "Table of Contents",
   "title_sidebar": "Contents",
   "toc_cell": false,
   "toc_position": {},
   "toc_section_display": true,
   "toc_window_display": true
  }
 },
 "nbformat": 4,
 "nbformat_minor": 2
}
