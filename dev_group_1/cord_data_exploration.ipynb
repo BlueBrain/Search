{
 "cells": [
  {
   "cell_type": "markdown",
   "metadata": {},
   "source": [
    "# Data Exploration\n",
    "\n",
    "    Creation date : 2020-04-03 (Friday)\n",
    "    Creator       : Stanislav Schmidt <stanislav.schmidt@epfl.ch>"
   ]
  },
  {
   "cell_type": "markdown",
   "metadata": {},
   "source": [
    "- Thorough data exploration\n",
    "- Statistics\n",
    "    - missing values\n",
    "    - data structure\n",
    "    - text lengths\n",
    "    - metadata\n",
    "- Data ingression/reading\n",
    "- Data cleaning\n",
    "- Proper data representation / data class"
   ]
  },
  {
   "cell_type": "markdown",
   "metadata": {},
   "source": [
    "## Imports"
   ]
  },
  {
   "cell_type": "code",
   "execution_count": 78,
   "metadata": {
    "ExecuteTime": {
     "end_time": "2020-04-04T20:12:06.128249Z",
     "start_time": "2020-04-04T20:12:06.123179Z"
    }
   },
   "outputs": [],
   "source": [
    "from collections import Counter, OrderedDict\n",
    "from functools import reduce\n",
    "import pathlib\n",
    "import textwrap\n",
    "import json\n",
    "\n",
    "import pandas as pd\n",
    "import matplotlib.pyplot as plt\n",
    "import numpy as np\n",
    "from tqdm.notebook import tqdm\n",
    "\n",
    "import ipywidgets as widgets"
   ]
  },
  {
   "cell_type": "markdown",
   "metadata": {},
   "source": [
    "## Read Data"
   ]
  },
  {
   "cell_type": "markdown",
   "metadata": {},
   "source": [
    "Note that the dataset is constantly being updated. Therefore it makes sense to keep the local copy of the data up to date."
   ]
  },
  {
   "cell_type": "code",
   "execution_count": 2,
   "metadata": {
    "ExecuteTime": {
     "end_time": "2020-04-04T17:40:59.089946Z",
     "start_time": "2020-04-04T17:40:59.083468Z"
    }
   },
   "outputs": [
    {
     "data": {
      "text/plain": [
       "True"
      ]
     },
     "execution_count": 2,
     "metadata": {},
     "output_type": "execute_result"
    }
   ],
   "source": [
    "data_dir = pathlib.Path(\"../data/2020-04-03/\")\n",
    "data_dir.exists()"
   ]
  },
  {
   "cell_type": "markdown",
   "metadata": {},
   "source": [
    "### Contents of the data folder"
   ]
  },
  {
   "cell_type": "code",
   "execution_count": 3,
   "metadata": {
    "ExecuteTime": {
     "end_time": "2020-04-04T17:41:01.560217Z",
     "start_time": "2020-04-04T17:41:01.551857Z"
    }
   },
   "outputs": [
    {
     "name": "stdout",
     "output_type": "stream",
     "text": [
      "Folders:\n",
      "../data/2020-04-03/biorxiv_medrxiv\n",
      "../data/2020-04-03/comm_use_subset\n",
      "../data/2020-04-03/custom_license\n",
      "../data/2020-04-03/noncomm_use_subset\n",
      "\n",
      "Files:\n",
      "../data/2020-04-03/COVID.DATA.LIC.AGMT.pdf\n",
      "../data/2020-04-03/json_schema.txt\n",
      "../data/2020-04-03/metadata.csv\n",
      "../data/2020-04-03/metadata.readme\n"
     ]
    }
   ],
   "source": [
    "print(\"Folders:\")\n",
    "for f in sorted(data_dir.iterdir()):\n",
    "    if f.is_dir():\n",
    "        print(f)\n",
    "print()\n",
    "\n",
    "print(\"Files:\")\n",
    "for f in sorted(data_dir.iterdir()):\n",
    "    if not f.is_dir():\n",
    "        print(f)"
   ]
  },
  {
   "cell_type": "markdown",
   "metadata": {},
   "source": [
    "- The 4 folders contain JSON files, which represent the publications for which the full text PDF was available.\n",
    "- `COVID.DATA.LIC.AGMT.pdf` is a license agreement for the dataset\n",
    "- `json_schema.txt` contains the structure of all JSON files\n",
    "- `metadata.csv` is a table with the metadata of all samples in the dataset. There are two types of entries:\n",
    "    - Those for which the full text was available. These entries will have a corresponding JSON file\n",
    "    - Those for which the full text was not available. This is the only place where such entries will apear.\n",
    "- `metadata.readme` is a short description of the `metadata.csv` file and a changelog\n"
   ]
  },
  {
   "cell_type": "markdown",
   "metadata": {},
   "source": [
    "### JSON files"
   ]
  },
  {
   "cell_type": "code",
   "execution_count": 10,
   "metadata": {
    "ExecuteTime": {
     "end_time": "2020-04-04T17:48:22.492240Z",
     "start_time": "2020-04-04T17:48:22.206389Z"
    }
   },
   "outputs": [
    {
     "name": "stdout",
     "output_type": "stream",
     "text": [
      "Total number of JSON files: 33375\n"
     ]
    }
   ],
   "source": [
    "n_json = len(list(data_dir.rglob(\"*.json\")))\n",
    "print(\"Total number of JSON files:\", n_json)"
   ]
  },
  {
   "cell_type": "markdown",
   "metadata": {},
   "source": [
    "Read JSON files into a list"
   ]
  },
  {
   "cell_type": "code",
   "execution_count": 11,
   "metadata": {
    "ExecuteTime": {
     "end_time": "2020-04-04T17:49:26.820815Z",
     "start_time": "2020-04-04T17:48:23.308373Z"
    }
   },
   "outputs": [
    {
     "data": {
      "application/vnd.jupyter.widget-view+json": {
       "model_id": "64dbdb7765b24eac99fde380bf4d9479",
       "version_major": 2,
       "version_minor": 0
      },
      "text/plain": [
       "HBox(children=(FloatProgress(value=0.0, max=33375.0), HTML(value='')))"
      ]
     },
     "metadata": {},
     "output_type": "display_data"
    },
    {
     "name": "stdout",
     "output_type": "stream",
     "text": [
      "\n"
     ]
    }
   ],
   "source": [
    "json_files = []\n",
    "\n",
    "for f in tqdm(data_dir.rglob(\"*.json\"), total=n_json):\n",
    "    json_file = json.load(open(f))\n",
    "    assert json_file['paper_id'] == f.stem\n",
    "    json_files.append(json_file)"
   ]
  },
  {
   "cell_type": "markdown",
   "metadata": {},
   "source": [
    "### `metadata.readme`"
   ]
  },
  {
   "cell_type": "code",
   "execution_count": 12,
   "metadata": {
    "ExecuteTime": {
     "end_time": "2020-04-04T17:52:48.962555Z",
     "start_time": "2020-04-04T17:52:48.939449Z"
    }
   },
   "outputs": [
    {
     "name": "stdout",
     "output_type": "stream",
     "text": [
      "(1) Metadata for papers from these sources are combined: CZI, PMC, BioRxiv/MedRxiv. (total records 29500)\n",
      "\t- CZI 1236 records\n",
      "\t- PMC 27337\n",
      "\t- bioRxiv 566\n",
      "\t- medRxiv 361\n",
      "(2) 17K of the paper records have PDFs and the hash of the PDFs are in 'sha'\n",
      "(3) For PMC sourced papers, one paper's metadata can be associated with one or more PDFs/shas under that paper - a PDF/sha correponding to the main article, and possibly additional PDF/shas corresponding to supporting materials for the article.\n",
      "(4)\t13K of the PDFs were processed with fulltext ('has_full_text'=True)\n",
      "(5) Various 'keys' are populated with the metadata:\n",
      "\t- 'pmcid': populated for all PMC paper records (27337 non null)\n",
      "\t- 'doi': populated for all BioRxiv/MedRxiv paper records and most of the other records (26357 non null)\n",
      "\t- 'WHO #Covidence': populated for all CZI records and none of the other records (1236 non null)\n",
      "\t- 'pubmed_id': populated for some of the records\n",
      "\t- 'Microsoft Academic Paper ID': populated for some of the records\n",
      "\n",
      "\n",
      "\n",
      "\n",
      "2020-03-20\n",
      "---CHANGES---\n",
      "* normalized doi, authors, title, abstract strings\n",
      "* merged redundant rows in metadata file on doi, pmcid, and pubmed_id\n",
      "* metadata sha column can now include multiple files (some PMC files have multiple associated PDFs)\n",
      "* added column in metadata file \"full_text_file\" to signal the tar.gz file in which the full text json resides\n",
      "---SUMMARY---\n",
      "total metadata rows: 44220\n",
      "custom_license: 16959 full text (new: 15533)\n",
      "noncomm_use_subset: 2353 full text (new: 385)\n",
      "comm_use_subset: 9118 full text (new: 128)\n",
      "biorxiv_medrxiv: 885 full text (new: 110)\n",
      "\n",
      "\n",
      "\n",
      "\n",
      "2020-03-27\n",
      "---CHANGES---\n",
      "* added column \"cord_uid\" (this persistent identifier is a 8-char alphanumeric string unique to each entry)\n",
      "* added column \"url\" (URL to paper landing page where available)\n",
      "* normalized publication date, dois\n",
      "* adjusted deduplication logic slightly (affects 3 papers)\n",
      "* removed some entries that correspond to indices or table of contents\n",
      "\n",
      "---SUMMARY---\n",
      "total metadata rows: 45774\n",
      "biorxiv_medrxiv: 1053 full text (new: 194, removed: 26)\n",
      "comm_use_subset: 9315 full text (new: 210, removed: 13)\n",
      "custom_license: 20657 full text (new: 4218, removed: 520)\n",
      "noncomm_use_subset: 2350 full text (new: 6, removed: 9)\n"
     ]
    }
   ],
   "source": [
    "with open(data_dir / 'metadata.readme', 'r') as f:\n",
    "    print(f.read())"
   ]
  },
  {
   "cell_type": "markdown",
   "metadata": {},
   "source": [
    "### `json_schema.txt`"
   ]
  },
  {
   "cell_type": "code",
   "execution_count": 13,
   "metadata": {
    "ExecuteTime": {
     "end_time": "2020-04-04T17:52:51.265845Z",
     "start_time": "2020-04-04T17:52:51.261702Z"
    }
   },
   "outputs": [
    {
     "name": "stdout",
     "output_type": "stream",
     "text": [
      "# JSON schema of full text documents\n",
      "\n",
      "\n",
      "{\n",
      "    \"paper_id\": <str>,                      # 40-character sha1 of the PDF\n",
      "    \"metadata\": {\n",
      "        \"title\": <str>,\n",
      "        \"authors\": [                        # list of author dicts, in order\n",
      "            {\n",
      "                \"first\": <str>,\n",
      "                \"middle\": <list of str>,\n",
      "                \"last\": <str>,\n",
      "                \"suffix\": <str>,\n",
      "                \"affiliation\": <dict>,\n",
      "                \"email\": <str>\n",
      "            },\n",
      "            ...\n",
      "        ],\n",
      "        \"abstract\": [                       # list of paragraphs in the abstract\n",
      "            {\n",
      "                \"text\": <str>,\n",
      "                \"cite_spans\": [             # list of character indices of inline citations\n",
      "                                            # e.g. citation \"[7]\" occurs at positions 151-154 in \"text\"\n",
      "                                            #      linked to bibliography entry BIBREF3\n",
      "                    {\n",
      "                        \"start\": 151,\n",
      "                        \"end\": 154,\n",
      "                        \"text\": \"[7]\",\n",
      "                        \"ref_id\": \"BIBREF3\"\n",
      "                    },\n",
      "                    ...\n",
      "                ],\n",
      "                \"ref_spans\": <list of dicts similar to cite_spans>,     # e.g. inline reference to \"Table 1\"\n",
      "                \"section\": \"Abstract\"\n",
      "            },\n",
      "            ...\n",
      "        ],\n",
      "        \"body_text\": [                      # list of paragraphs in full body\n",
      "                                            # paragraph dicts look the same as above\n",
      "            {\n",
      "                \"text\": <str>,\n",
      "                \"cite_spans\": [],\n",
      "                \"ref_spans\": [],\n",
      "                \"eq_spans\": [],\n",
      "                \"section\": \"Introduction\"\n",
      "            },\n",
      "            ...\n",
      "            {\n",
      "                ...,\n",
      "                \"section\": \"Conclusion\"\n",
      "            }\n",
      "        ],\n",
      "        \"bib_entries\": {\n",
      "            \"BIBREF0\": {\n",
      "                \"ref_id\": <str>,\n",
      "                \"title\": <str>,\n",
      "                \"authors\": <list of dict>       # same structure as earlier,\n",
      "                                                # but without `affiliation` or `email`\n",
      "                \"year\": <int>,\n",
      "                \"venue\": <str>,\n",
      "                \"volume\": <str>,\n",
      "                \"issn\": <str>,\n",
      "                \"pages\": <str>,\n",
      "                \"other_ids\": {\n",
      "                    \"DOI\": [\n",
      "                        <str>\n",
      "                    ]\n",
      "                }\n",
      "            },\n",
      "            \"BIBREF1\": {},\n",
      "            ...\n",
      "            \"BIBREF25\": {}\n",
      "        },\n",
      "        \"ref_entries\":\n",
      "            \"FIGREF0\": {\n",
      "                \"text\": <str>,                  # figure caption text\n",
      "                \"type\": \"figure\"\n",
      "            },\n",
      "            ...\n",
      "            \"TABREF13\": {\n",
      "                \"text\": <str>,                  # table caption text\n",
      "                \"type\": \"table\"\n",
      "            }\n",
      "        },\n",
      "        \"back_matter\": <list of dict>           # same structure as body_text\n",
      "    }\n",
      "}\n",
      "\n"
     ]
    }
   ],
   "source": [
    "with open(data_dir / 'json_schema.txt', 'r') as f:\n",
    "    print(f.read())"
   ]
  },
  {
   "cell_type": "markdown",
   "metadata": {},
   "source": [
    "#### Top-Level Keys"
   ]
  },
  {
   "cell_type": "markdown",
   "metadata": {},
   "source": [
    "In fact, the file `json_schema.txt` above suggests a slightly wrong structure. The top-level entries should the the following"
   ]
  },
  {
   "cell_type": "code",
   "execution_count": 60,
   "metadata": {
    "ExecuteTime": {
     "end_time": "2020-04-04T18:26:56.309462Z",
     "start_time": "2020-04-04T18:26:56.302799Z"
    }
   },
   "outputs": [
    {
     "data": {
      "text/plain": [
       "dict_keys(['paper_id', 'metadata', 'abstract', 'body_text', 'bib_entries', 'ref_entries', 'back_matter'])"
      ]
     },
     "execution_count": 60,
     "metadata": {},
     "output_type": "execute_result"
    }
   ],
   "source": [
    "json_files[0].keys()"
   ]
  },
  {
   "cell_type": "markdown",
   "metadata": {},
   "source": [
    "Are we sure there are no other top-level keys? Check:"
   ]
  },
  {
   "cell_type": "code",
   "execution_count": 61,
   "metadata": {
    "ExecuteTime": {
     "end_time": "2020-04-04T18:27:22.401769Z",
     "start_time": "2020-04-04T18:27:22.302675Z"
    }
   },
   "outputs": [
    {
     "data": {
      "text/plain": [
       "{'abstract',\n",
       " 'back_matter',\n",
       " 'bib_entries',\n",
       " 'body_text',\n",
       " 'metadata',\n",
       " 'paper_id',\n",
       " 'ref_entries'}"
      ]
     },
     "execution_count": 61,
     "metadata": {},
     "output_type": "execute_result"
    }
   ],
   "source": [
    "top_level_keys = reduce(\n",
    "    lambda s1, s2: s1.union(s2),\n",
    "    (json_file.keys() for json_file in json_files),\n",
    "    set())\n",
    "\n",
    "top_level_keys"
   ]
  },
  {
   "cell_type": "markdown",
   "metadata": {},
   "source": [
    "So it's really just these seven top-level entries and nothing more."
   ]
  },
  {
   "cell_type": "markdown",
   "metadata": {},
   "source": [
    "A JSON file has thus the following structure:\n",
    "\n",
    "```python\n",
    "json_file {\n",
    "    'paper_id': str,\n",
    "    'metadata': dict,\n",
    "    'abstract': [text_chunk_1, text_chunk_2, ...],\n",
    "    'body_text': [text_chunk_1, text_chunk_2, ...],\n",
    "    'back_matter': [text_chunk_1, text_chunk_2, ...],\n",
    "    'ref_entries': dict,\n",
    "    'bib_entries': dict,\n",
    "}\n",
    "```\n",
    "\n",
    "A `text_chunk` represents a block of text, usually a paragraph, and has the following structure:\n",
    "\n",
    "```python\n",
    "text_chunk {\n",
    "    'section': str,\n",
    "    'text': str,\n",
    "    'cite_spans': [ref_1, ref_2, ...],\n",
    "    'ref_spans': [ref_1, ref_2, ...],\n",
    "}\n",
    "```\n",
    "\n",
    "A `ref` represents an inline reference within the text. It can be one of the two things\n",
    "\n",
    "1. A reference to a figure or table within the text. In this case the corresponding item is found in `ref_entries`\n",
    "2. A citation reference. In this case the corresponding item is found in `bib_entries`\n",
    "\n",
    "A `ref` has thus the following structure:\n",
    "\n",
    "```python\n",
    "ref {\n",
    "    'start': int,\n",
    "    'end': int,\n",
    "    'text': str,\n",
    "    'ref_id': str,\n",
    "}\n",
    "```\n",
    "\n",
    "The `ref`s were probably extracted from PDFs by looking for hyperlinks. Thus `start` and `end` represent the position in the text where the hyperlink was located. `text` is the text of the hyperlink. `ref_id` is the identifier of the item the hyperlink was pointing to and the corresponding item can by found either in `bib_entries` or in `ref_entries`, depending on the reference type described above."
   ]
  },
  {
   "cell_type": "markdown",
   "metadata": {},
   "source": [
    "#### Paper ID"
   ]
  },
  {
   "cell_type": "markdown",
   "metadata": {},
   "source": [
    "The paper ID is just the SHA of the corresponding PDF file, saved as a string.\n",
    "\n",
    "For examples:"
   ]
  },
  {
   "cell_type": "code",
   "execution_count": 18,
   "metadata": {
    "ExecuteTime": {
     "end_time": "2020-04-04T17:53:22.741202Z",
     "start_time": "2020-04-04T17:53:22.734565Z"
    }
   },
   "outputs": [
    {
     "data": {
      "text/plain": [
       "'4dfec82a8f515375c1dcc8e570d37b1aa33a591c'"
      ]
     },
     "execution_count": 18,
     "metadata": {},
     "output_type": "execute_result"
    }
   ],
   "source": [
    "json_files[0]['paper_id']"
   ]
  },
  {
   "cell_type": "markdown",
   "metadata": {},
   "source": [
    "Make sure all `paper_id` entries are strings"
   ]
  },
  {
   "cell_type": "code",
   "execution_count": 19,
   "metadata": {
    "ExecuteTime": {
     "end_time": "2020-04-04T17:53:27.065541Z",
     "start_time": "2020-04-04T17:53:27.029669Z"
    }
   },
   "outputs": [
    {
     "data": {
      "text/plain": [
       "True"
      ]
     },
     "execution_count": 19,
     "metadata": {},
     "output_type": "execute_result"
    }
   ],
   "source": [
    "all(isinstance(json_file['paper_id'], str) for json_file in json_files)"
   ]
  },
  {
   "cell_type": "markdown",
   "metadata": {},
   "source": [
    "Let's check that all SHAs are unique"
   ]
  },
  {
   "cell_type": "code",
   "execution_count": 27,
   "metadata": {
    "ExecuteTime": {
     "end_time": "2020-04-04T17:55:22.737118Z",
     "start_time": "2020-04-04T17:55:22.672730Z"
    }
   },
   "outputs": [
    {
     "data": {
      "text/plain": [
       "[('4dfec82a8f515375c1dcc8e570d37b1aa33a591c', 1)]"
      ]
     },
     "execution_count": 27,
     "metadata": {},
     "output_type": "execute_result"
    }
   ],
   "source": [
    "Counter(json_file['paper_id'] for json_file in json_files).most_common(1)"
   ]
  },
  {
   "cell_type": "markdown",
   "metadata": {},
   "source": [
    "#### Metadata"
   ]
  },
  {
   "cell_type": "markdown",
   "metadata": {},
   "source": [
    "#### Abstract"
   ]
  },
  {
   "cell_type": "markdown",
   "metadata": {},
   "source": [
    "Preview the abstract field. As mentioned before it is a list of text chunks"
   ]
  },
  {
   "cell_type": "code",
   "execution_count": 64,
   "metadata": {
    "ExecuteTime": {
     "end_time": "2020-04-04T20:04:54.539962Z",
     "start_time": "2020-04-04T20:04:54.534369Z"
    }
   },
   "outputs": [
    {
     "data": {
      "text/plain": [
       "[{'text': 'T lymphocyte cells, including regulatory T (Treg) and T helper 17 cells, have important roles in the human periodontium. However, the basis for Treg cytokine expression in various compartments of the periodontium remains unclear. The aim of the present study was to investigate the expression of interleukin (IL)-35 in the peripheral blood mononuclear cells (PBMCs) and periodontal tissues of patients with chronic periodontitis (CP), with a view to understanding its role in this disease, and ultimately providing improved treatments. Peripheral blood, periodontal tissues and gingival crevicular fluids (GCFs) were collected from patients with CP or impacted teeth, the latter serving as healthy controls. The expression levels of IL-35 subunit mRNAs in PBMCs and periodontal tissues were determined using reverse transcription-quantitative polymerase chain reaction, while the IL-35 protein expression in GCFs and sera was quantified by ELISA. The relative expression of IL-35 subunit mRNAs in the affected tissues of patients with CP was significantly higher compared with that in samples from healthy controls (P<0.05). The mean concentration of IL-35 protein in the GCFs and sera of patients with periodontitis was also significantly higher compared with that in samples from healthy controls (P<0.001). IL-35 protein and periodontal clinical indicators were negatively correlated. It was hypothesized that the increased level of IL-35 plays a protective role in periodontal disease by maintaining immune system homeostasis and dampening the inflammatory response, and highlights IL-35 as a potential new therapy for the treatment of periodontitis.',\n",
       "  'cite_spans': [],\n",
       "  'ref_spans': [],\n",
       "  'section': 'Abstract'}]"
      ]
     },
     "execution_count": 64,
     "metadata": {},
     "output_type": "execute_result"
    }
   ],
   "source": [
    "json_files[0]['abstract']"
   ]
  },
  {
   "cell_type": "markdown",
   "metadata": {},
   "source": [
    "Is there always just one abstract entry? Test this count checking all JSON files"
   ]
  },
  {
   "cell_type": "code",
   "execution_count": 65,
   "metadata": {
    "ExecuteTime": {
     "end_time": "2020-04-04T20:05:03.737764Z",
     "start_time": "2020-04-04T20:05:03.690794Z"
    }
   },
   "outputs": [
    {
     "data": {
      "text/plain": [
       "Counter({1: 16704,\n",
       "         0: 8548,\n",
       "         2: 3456,\n",
       "         3: 2108,\n",
       "         5: 567,\n",
       "         4: 1357,\n",
       "         8: 96,\n",
       "         7: 149,\n",
       "         6: 259,\n",
       "         10: 23,\n",
       "         12: 9,\n",
       "         9: 43,\n",
       "         11: 20,\n",
       "         31: 1,\n",
       "         17: 4,\n",
       "         29: 2,\n",
       "         14: 5,\n",
       "         15: 4,\n",
       "         13: 6,\n",
       "         21: 1,\n",
       "         16: 3,\n",
       "         20: 3,\n",
       "         27: 1,\n",
       "         22: 2,\n",
       "         19: 1,\n",
       "         28: 1,\n",
       "         25: 1,\n",
       "         18: 1})"
      ]
     },
     "execution_count": 65,
     "metadata": {},
     "output_type": "execute_result"
    }
   ],
   "source": [
    "Counter(len(json_file['abstract']) for json_file in json_files)"
   ]
  },
  {
   "cell_type": "markdown",
   "metadata": {},
   "source": [
    "By far not!\n",
    "\n",
    "Are all those entries paragraphs of the same \"Abstract\" section?"
   ]
  },
  {
   "cell_type": "code",
   "execution_count": 66,
   "metadata": {
    "ExecuteTime": {
     "end_time": "2020-04-04T20:05:09.124760Z",
     "start_time": "2020-04-04T20:05:08.961021Z"
    }
   },
   "outputs": [
    {
     "data": {
      "text/plain": [
       "Counter({1: 24827, 0: 8548})"
      ]
     },
     "execution_count": 66,
     "metadata": {},
     "output_type": "execute_result"
    }
   ],
   "source": [
    "Counter(\n",
    "    len(set(text_chunk['section'] for text_chunk in json_file['abstract']))\n",
    "    for json_file in json_files)"
   ]
  },
  {
   "cell_type": "markdown",
   "metadata": {},
   "source": [
    "What are the names for the abstract section that occur?"
   ]
  },
  {
   "cell_type": "code",
   "execution_count": 67,
   "metadata": {
    "ExecuteTime": {
     "end_time": "2020-04-04T20:05:12.615387Z",
     "start_time": "2020-04-04T20:05:12.585500Z"
    }
   },
   "outputs": [
    {
     "data": {
      "text/plain": [
       "{'Abstract'}"
      ]
     },
     "execution_count": 67,
     "metadata": {},
     "output_type": "execute_result"
    }
   ],
   "source": [
    "set(text_chunk['section']\n",
    "    for text_chunk in json_file['abstract']\n",
    "    for json_file in json_files)"
   ]
  },
  {
   "cell_type": "markdown",
   "metadata": {},
   "source": [
    "So, to summarise:\n",
    "- There are publications with and without an abstract\n",
    "- Abstracts can contains multiple paragraphs\n",
    "- All paragraphs in an abstract are always assigned to the section named \"Abstract\""
   ]
  },
  {
   "cell_type": "markdown",
   "metadata": {},
   "source": [
    "#### Body Text"
   ]
  },
  {
   "cell_type": "markdown",
   "metadata": {},
   "source": [
    "Preview the contents of the `body_text` field. It is a list of text chunks"
   ]
  },
  {
   "cell_type": "code",
   "execution_count": 74,
   "metadata": {
    "ExecuteTime": {
     "end_time": "2020-04-04T20:06:36.545960Z",
     "start_time": "2020-04-04T20:06:36.535404Z"
    }
   },
   "outputs": [
    {
     "data": {
      "text/plain": [
       "[{'text': 'Chronic periodontitis (CP) is an infectious disease that affects the periodontium and gradually destroys periodontal tissues (1) . Bacterial plaque is a well-known cause of CP, which stimulates a local inflammatory response and activation of the innate immune system (1, 2) . This eventually results in the characteristic pathology of periodontal disease, the main clinical features of which are advancing gingival inflammation, irreversible alveolar bone loss, and the loosening and/or loss of teeth (3) . Numerous studies (4, 5) have highlighted the role of T lymphocyte cells in periodontitis; in particular, T lymphocyte phenotype and function are important in the susceptibility, onset and severity of periodontitis (6) .',\n",
       "  'cite_spans': [{'start': 125,\n",
       "    'end': 128,\n",
       "    'text': '(1)',\n",
       "    'ref_id': 'BIBREF0'},\n",
       "   {'start': 267, 'end': 270, 'text': '(1,', 'ref_id': 'BIBREF0'},\n",
       "   {'start': 271, 'end': 273, 'text': '2)', 'ref_id': 'BIBREF1'},\n",
       "   {'start': 501, 'end': 504, 'text': '(3)', 'ref_id': 'BIBREF2'},\n",
       "   {'start': 524, 'end': 527, 'text': '(4,', 'ref_id': 'BIBREF3'},\n",
       "   {'start': 528, 'end': 530, 'text': '5)', 'ref_id': 'BIBREF4'},\n",
       "   {'start': 721, 'end': 724, 'text': '(6)', 'ref_id': 'BIBREF5'}],\n",
       "  'ref_spans': [],\n",
       "  'section': 'Introduction'},\n",
       " {'text': 'Regulatory T (Treg) cells are a critical sub-population of CD4 + T cells that are essential for maintaining self-tolerance and preventing autoimmunity, for limiting chronic inflammatory diseases, and for regulating homeostatic lymphocyte expansion (7) (8) (9) (10) (11) . A recent study by Wang et al (12) demonstrated that the imbalance between Treg cells and T helper 17 (Th17) cells plays an essential role in the progression of periodontitis.',\n",
       "  'cite_spans': [{'start': 248,\n",
       "    'end': 251,\n",
       "    'text': '(7)',\n",
       "    'ref_id': 'BIBREF6'},\n",
       "   {'start': 252, 'end': 255, 'text': '(8)', 'ref_id': 'BIBREF7'},\n",
       "   {'start': 256, 'end': 259, 'text': '(9)', 'ref_id': 'BIBREF8'},\n",
       "   {'start': 260, 'end': 264, 'text': '(10)', 'ref_id': 'BIBREF9'},\n",
       "   {'start': 265, 'end': 269, 'text': '(11)', 'ref_id': 'BIBREF10'},\n",
       "   {'start': 301, 'end': 305, 'text': '(12)', 'ref_id': 'BIBREF11'}],\n",
       "  'ref_spans': [],\n",
       "  'section': 'Introduction'},\n",
       " {'text': 'Interleukin (IL)-35, as a Forkhead box P3 (Foxp3) + Treg cell immunosuppressive/anti-inflammatory cytokine, is required for the maximum regulatory activity of Treg cells (13) . IL-35 is a heterodimer formed by an IL-12p35 subunit and an IL-27β chain, the latter of which is encoded by the Epstein-Barr virus-induced 3 (EBi3) gene (14) . The known functions of IL-35 include: Maintenance of the peripheral immune system; regulation of the proliferation of T effector cells; inhibition of Th17 cell differentiation and IL-17 synthesis (15) . Thus, it has a close association with immunological and infectious diseases (16, 17) . Although studies on IL-35 are relatively few, and the signal transduction mechanisms involved in its actions are not yet elucidated, IL-35 therapy shows promising potential for the treatment of immunological and infectious diseases (15, 18) .',\n",
       "  'cite_spans': [{'start': 170,\n",
       "    'end': 174,\n",
       "    'text': '(13)',\n",
       "    'ref_id': 'BIBREF12'},\n",
       "   {'start': 330, 'end': 334, 'text': '(14)', 'ref_id': 'BIBREF13'},\n",
       "   {'start': 533, 'end': 537, 'text': '(15)', 'ref_id': 'BIBREF14'},\n",
       "   {'start': 616, 'end': 620, 'text': '(16,', 'ref_id': 'BIBREF15'},\n",
       "   {'start': 621, 'end': 624, 'text': '17)', 'ref_id': 'BIBREF16'},\n",
       "   {'start': 859, 'end': 863, 'text': '(15,', 'ref_id': 'BIBREF14'},\n",
       "   {'start': 864, 'end': 867, 'text': '18)', 'ref_id': 'BIBREF17'}],\n",
       "  'ref_spans': [],\n",
       "  'section': 'Introduction'}]"
      ]
     },
     "execution_count": 74,
     "metadata": {},
     "output_type": "execute_result"
    }
   ],
   "source": [
    "json_files[0]['body_text'][:3]"
   ]
  },
  {
   "cell_type": "markdown",
   "metadata": {},
   "source": [
    "Are there any JSON files with empty `body_text`?"
   ]
  },
  {
   "cell_type": "code",
   "execution_count": 76,
   "metadata": {
    "ExecuteTime": {
     "end_time": "2020-04-04T20:09:16.608963Z",
     "start_time": "2020-04-04T20:09:16.564465Z"
    }
   },
   "outputs": [
    {
     "data": {
      "text/plain": [
       "False"
      ]
     },
     "execution_count": 76,
     "metadata": {},
     "output_type": "execute_result"
    }
   ],
   "source": [
    "any(len(json_file['body_text']) == 0 for json_file in json_files)"
   ]
  },
  {
   "cell_type": "markdown",
   "metadata": {},
   "source": [
    "What are the section names of all text chunks in a given JSON file?"
   ]
  },
  {
   "cell_type": "code",
   "execution_count": 102,
   "metadata": {
    "ExecuteTime": {
     "end_time": "2020-04-04T20:36:24.908499Z",
     "start_time": "2020-04-04T20:36:24.870787Z"
    },
    "scrolled": false
   },
   "outputs": [
    {
     "data": {
      "application/vnd.jupyter.widget-view+json": {
       "model_id": "d356f717e7ba43158e879c408e695b8c",
       "version_major": 2,
       "version_minor": 0
      },
      "text/plain": [
       "interactive(children=(IntSlider(value=0, continuous_update=False, description='JSON file', max=33374), Output(…"
      ]
     },
     "metadata": {},
     "output_type": "display_data"
    }
   ],
   "source": [
    "@widgets.interact(\n",
    "    idx=widgets.IntSlider(\n",
    "        value=0,\n",
    "        min=0,\n",
    "        max=len(json_files) - 1,\n",
    "        description=\"JSON file\",\n",
    "        continuous_update=False,\n",
    "    ),\n",
    ")\n",
    "def _(idx):\n",
    "    json_file = json_files[idx]\n",
    "    print(json_file['paper_id'])\n",
    "    print('---')\n",
    "    for text_chunk in json_file['body_text']:\n",
    "        section_name = text_chunk['section']\n",
    "        print(section_name or '<empty>')"
   ]
  },
  {
   "cell_type": "markdown",
   "metadata": {},
   "source": [
    "Observations\n",
    "\n",
    "- Most section titles seem to make sense\n",
    "- Sometimes there are text chunks with empty section titles\n",
    "- Some section titles seem to have been misidentified. Some common misidentifications are\n",
    "    - Page headers\n",
    "    - Page numbers\n",
    "    - Parts of normal text\n",
    "    - Jibberish text\n",
    "- It seems there is no distinction between sections, sub-setions, etc. (Seen in documents where sections are in all-caps, but the sub-sections aren't)"
   ]
  },
  {
   "cell_type": "markdown",
   "metadata": {},
   "source": [
    "#### Back Matter"
   ]
  },
  {
   "cell_type": "markdown",
   "metadata": {},
   "source": [
    "As with the abstract and the body text, back matters are collections of text chunks. It seems that many JSON files have empty back matters."
   ]
  },
  {
   "cell_type": "code",
   "execution_count": 97,
   "metadata": {
    "ExecuteTime": {
     "end_time": "2020-04-04T20:33:01.199627Z",
     "start_time": "2020-04-04T20:33:01.132877Z"
    }
   },
   "outputs": [
    {
     "data": {
      "text/plain": [
       "Counter({1: 13569,\n",
       "         2: 5354,\n",
       "         0: 11114,\n",
       "         4: 667,\n",
       "         3: 1748,\n",
       "         10: 16,\n",
       "         17: 3,\n",
       "         6: 244,\n",
       "         13: 7,\n",
       "         5: 330,\n",
       "         26: 1,\n",
       "         7: 165,\n",
       "         8: 71,\n",
       "         16: 6,\n",
       "         15: 7,\n",
       "         12: 11,\n",
       "         9: 17,\n",
       "         48: 1,\n",
       "         23: 3,\n",
       "         11: 7,\n",
       "         20: 3,\n",
       "         42: 1,\n",
       "         33: 1,\n",
       "         18: 5,\n",
       "         153: 1,\n",
       "         19: 2,\n",
       "         21: 2,\n",
       "         24: 3,\n",
       "         89: 1,\n",
       "         32: 2,\n",
       "         14: 4,\n",
       "         22: 2,\n",
       "         40: 1,\n",
       "         55: 2,\n",
       "         29: 1,\n",
       "         209: 1,\n",
       "         70: 1,\n",
       "         37: 1})"
      ]
     },
     "execution_count": 97,
     "metadata": {},
     "output_type": "execute_result"
    }
   ],
   "source": [
    "Counter(len(json_file['back_matter']) for json_file in json_files)"
   ]
  },
  {
   "cell_type": "code",
   "execution_count": 103,
   "metadata": {
    "ExecuteTime": {
     "end_time": "2020-04-04T20:38:16.436528Z",
     "start_time": "2020-04-04T20:38:16.401449Z"
    }
   },
   "outputs": [
    {
     "data": {
      "application/vnd.jupyter.widget-view+json": {
       "model_id": "2868ed6c985e4d68ac5e97d96e31f3d9",
       "version_major": 2,
       "version_minor": 0
      },
      "text/plain": [
       "interactive(children=(IntSlider(value=0, continuous_update=False, description='JSON file', max=33374), Output(…"
      ]
     },
     "metadata": {},
     "output_type": "display_data"
    }
   ],
   "source": [
    "@widgets.interact(\n",
    "    idx=widgets.IntSlider(\n",
    "        value=0,\n",
    "        min=0,\n",
    "        max=len(json_files) - 1,\n",
    "        description=\"JSON file\",\n",
    "        continuous_update=False,\n",
    "    ),\n",
    ")\n",
    "def _(idx):\n",
    "    json_file = json_files[idx]\n",
    "    print(json_file['paper_id'])\n",
    "    print('---')\n",
    "    for text_chunk in json_file['back_matter']:\n",
    "        section_name = text_chunk['section']\n",
    "        print(section_name or '<empty>')"
   ]
  },
  {
   "cell_type": "markdown",
   "metadata": {},
   "source": [
    "Observations\n",
    "\n",
    "- Most back matters are either empty or contain acknowledgements\n",
    "- Some contain supplementary material\n",
    "- Some contain an appendix / annex / notes"
   ]
  },
  {
   "cell_type": "markdown",
   "metadata": {},
   "source": [
    "#### Ref Entries"
   ]
  },
  {
   "cell_type": "markdown",
   "metadata": {},
   "source": [
    "Sample ref entry"
   ]
  },
  {
   "cell_type": "code",
   "execution_count": 108,
   "metadata": {
    "ExecuteTime": {
     "end_time": "2020-04-04T20:43:55.508303Z",
     "start_time": "2020-04-04T20:43:55.501929Z"
    }
   },
   "outputs": [
    {
     "data": {
      "text/plain": [
       "{'FIGREF0': {'text': 'Foxp3, IL-12p35 and EBi3 mRNAs in periodontal tissues. (A) Foxp3, (B) IL-12p35 and (C) EBi3 mRNA expression in tissues of patients from the healthy control and CP groups. Healthy and periodontal tissue biopsies were collected from patients, mRNA extracted and reverse transcription-quantitative polymerase chain reaction performed using primers for Foxp3, IL-12p35 and EBi3 mRNAs. Data are expressed as the mean + standard error of the mean for each group (n=20). * P<0.05 vs. control. Foxp3, Forkhead box P3; IL-12p35, interleukin 12 p35 subunit; EBi3, Epstein-Barr virus-induced 3; CP, chronic periodontitis.',\n",
       "  'latex': None,\n",
       "  'type': 'figure'},\n",
       " 'FIGREF1': {'text': 'Foxp3, IL-12p35 and EBi3 mRNAs in PBMCs from patients. (A) Foxp3, (B) IL-12p35 and (C) EBi3 mRNA expression in PBMCs of patients from the healthy control and CP groups. Following the extraction of mRNA, reverse transcription-quantitative polymerase chain reaction was performed using primers for Foxp3, IL-12p35 and EBi3 mRNAs. Data are expressed as the mean + standard error of the mean for each group (n=20). * P<0.05 vs. control. Foxp3, Forkhead box P3; IL-12p35, interleukin 12 p35 subunit; EBi3, Epstein-Barr virus-induced 3; CP, chronic periodontitis. IL-35 protein in GCF and serum.',\n",
       "  'latex': None,\n",
       "  'type': 'figure'},\n",
       " 'FIGREF2': {'text': 'IL-35 protein in GCF and serum. The mean concentration of IL-35 protein in (A) GCF and (B) serum of patients from the healthy control and CP groups as determined using ELISA. Data are expressed as the mean + standard error of the mean for each group (n=20). # P<0.001 vs. control. IL-35, interleukin 35; GCF, gingival crevicular fluid; CP, chronic periodontitis.',\n",
       "  'latex': None,\n",
       "  'type': 'figure'},\n",
       " 'FIGREF3': {'text': 'Correlation analysis of IL-35 protein and clinical examination results of patients with CP. Correlation of IL-35 with (A) CAL and (B) PD in the GCF, and with (C) CAL and (D) PD in serum. IL-35, interleukin 35; GCF, gingival crevicular fluid; CP, chronic periodontitis; CAL, clinical attachment level; PD, probing depth.',\n",
       "  'latex': None,\n",
       "  'type': 'figure'},\n",
       " 'TABREF0': {'text': 'Primer sequences.', 'latex': None, 'type': 'table'},\n",
       " 'TABREF1': {'text': '', 'latex': None, 'type': 'table'},\n",
       " 'TABREF2': {'text': 'Patient information and clinical parameters.',\n",
       "  'latex': None,\n",
       "  'type': 'table'},\n",
       " 'TABREF3': {'text': '', 'latex': None, 'type': 'table'},\n",
       " 'TABREF4': {'text': 'Concentration of IL-35 protein in GCF and serum.',\n",
       "  'latex': None,\n",
       "  'type': 'table'}}"
      ]
     },
     "execution_count": 108,
     "metadata": {},
     "output_type": "execute_result"
    }
   ],
   "source": [
    "json_files[0]['ref_entries']"
   ]
  },
  {
   "cell_type": "markdown",
   "metadata": {},
   "source": [
    "Note that some table/figure captions may actually contain considerable text."
   ]
  },
  {
   "cell_type": "markdown",
   "metadata": {},
   "source": [
    "All ref entries seem to be either figures or tables, as can be explored with the widget below."
   ]
  },
  {
   "cell_type": "code",
   "execution_count": 109,
   "metadata": {
    "ExecuteTime": {
     "end_time": "2020-04-04T20:45:40.694285Z",
     "start_time": "2020-04-04T20:45:40.657857Z"
    }
   },
   "outputs": [
    {
     "data": {
      "application/vnd.jupyter.widget-view+json": {
       "model_id": "b3211ebba4954f9e8947576179440140",
       "version_major": 2,
       "version_minor": 0
      },
      "text/plain": [
       "interactive(children=(IntSlider(value=0, continuous_update=False, description='JSON file', max=33374), Output(…"
      ]
     },
     "metadata": {},
     "output_type": "display_data"
    }
   ],
   "source": [
    "@widgets.interact(\n",
    "    idx=widgets.IntSlider(\n",
    "        value=0,\n",
    "        min=0,\n",
    "        max=len(json_files) - 1,\n",
    "        description=\"JSON file\",\n",
    "        continuous_update=False,\n",
    "    ),\n",
    ")\n",
    "def _(idx):\n",
    "    json_file = json_files[idx]\n",
    "    print(json_file['paper_id'])\n",
    "    print('---')\n",
    "    for key in json_file['ref_entries']:\n",
    "        print(key)"
   ]
  },
  {
   "cell_type": "markdown",
   "metadata": {},
   "source": [
    "We can actually verify the item types in `ref_entry` by checking the `type` field:"
   ]
  },
  {
   "cell_type": "code",
   "execution_count": 110,
   "metadata": {
    "ExecuteTime": {
     "end_time": "2020-04-04T20:46:52.567941Z",
     "start_time": "2020-04-04T20:46:51.866543Z"
    }
   },
   "outputs": [
    {
     "data": {
      "text/plain": [
       "Counter({'figure': 2770125, 'table': 1335000})"
      ]
     },
     "execution_count": 110,
     "metadata": {},
     "output_type": "execute_result"
    }
   ],
   "source": [
    "Counter(entry['type']\n",
    "        for entry in json_file['ref_entries'].values()\n",
    "        for json_file in json_files)"
   ]
  },
  {
   "cell_type": "markdown",
   "metadata": {},
   "source": [
    "#### Bib Entries"
   ]
  },
  {
   "cell_type": "markdown",
   "metadata": {},
   "source": [
    "### `metadata.csv`"
   ]
  },
  {
   "cell_type": "code",
   "execution_count": 154,
   "metadata": {
    "ExecuteTime": {
     "end_time": "2020-04-05T21:07:39.419813Z",
     "start_time": "2020-04-05T21:07:38.635089Z"
    }
   },
   "outputs": [],
   "source": [
    "df_metadata = pd.read_csv(data_dir / 'metadata.csv', dtype=str)\n",
    "\n",
    "df_metadata['has_full_text'] = df_metadata['has_full_text'].map(\n",
    "    {'True': True, 'False': False})\n",
    "df_metadata['publish_time'] = pd.to_datetime(\n",
    "    df_metadata['publish_time'],\n",
    "    dayfirst=False)"
   ]
  },
  {
   "cell_type": "code",
   "execution_count": 153,
   "metadata": {
    "ExecuteTime": {
     "end_time": "2020-04-05T21:07:32.575623Z",
     "start_time": "2020-04-05T21:07:32.570213Z"
    }
   },
   "outputs": [
    {
     "data": {
      "text/plain": [
       "(45774, 17)"
      ]
     },
     "execution_count": 153,
     "metadata": {},
     "output_type": "execute_result"
    }
   ],
   "source": [
    "df_metadata.shape"
   ]
  },
  {
   "cell_type": "code",
   "execution_count": 70,
   "metadata": {
    "ExecuteTime": {
     "end_time": "2020-04-04T20:05:22.342155Z",
     "start_time": "2020-04-04T20:05:22.306444Z"
    }
   },
   "outputs": [
    {
     "data": {
      "text/html": [
       "<div>\n",
       "<style scoped>\n",
       "    .dataframe tbody tr th:only-of-type {\n",
       "        vertical-align: middle;\n",
       "    }\n",
       "\n",
       "    .dataframe tbody tr th {\n",
       "        vertical-align: top;\n",
       "    }\n",
       "\n",
       "    .dataframe thead th {\n",
       "        text-align: right;\n",
       "    }\n",
       "</style>\n",
       "<table border=\"1\" class=\"dataframe\">\n",
       "  <thead>\n",
       "    <tr style=\"text-align: right;\">\n",
       "      <th></th>\n",
       "      <th>cord_uid</th>\n",
       "      <th>sha</th>\n",
       "      <th>source_x</th>\n",
       "      <th>title</th>\n",
       "      <th>doi</th>\n",
       "      <th>pmcid</th>\n",
       "      <th>pubmed_id</th>\n",
       "      <th>license</th>\n",
       "      <th>abstract</th>\n",
       "      <th>publish_time</th>\n",
       "      <th>authors</th>\n",
       "      <th>journal</th>\n",
       "      <th>Microsoft Academic Paper ID</th>\n",
       "      <th>WHO #Covidence</th>\n",
       "      <th>has_full_text</th>\n",
       "      <th>full_text_file</th>\n",
       "      <th>url</th>\n",
       "    </tr>\n",
       "  </thead>\n",
       "  <tbody>\n",
       "    <tr>\n",
       "      <th>0</th>\n",
       "      <td>vho70jcx</td>\n",
       "      <td>f056da9c64fbf00a4645ae326e8a4339d015d155</td>\n",
       "      <td>biorxiv</td>\n",
       "      <td>SIANN: Strain Identification by Alignment to N...</td>\n",
       "      <td>10.1101/001727</td>\n",
       "      <td>NaN</td>\n",
       "      <td>NaN</td>\n",
       "      <td>biorxiv</td>\n",
       "      <td>Next-generation sequencing is increasingly bei...</td>\n",
       "      <td>2014-01-10</td>\n",
       "      <td>Samuel Minot; Stephen D Turner; Krista L Ternu...</td>\n",
       "      <td>NaN</td>\n",
       "      <td>NaN</td>\n",
       "      <td>NaN</td>\n",
       "      <td>True</td>\n",
       "      <td>biorxiv_medrxiv</td>\n",
       "      <td>https://doi.org/10.1101/001727</td>\n",
       "    </tr>\n",
       "    <tr>\n",
       "      <th>1</th>\n",
       "      <td>i9tbix2v</td>\n",
       "      <td>daf32e013d325a6feb80e83d15aabc64a48fae33</td>\n",
       "      <td>biorxiv</td>\n",
       "      <td>Spatial epidemiology of networked metapopulati...</td>\n",
       "      <td>10.1101/003889</td>\n",
       "      <td>NaN</td>\n",
       "      <td>NaN</td>\n",
       "      <td>biorxiv</td>\n",
       "      <td>An emerging disease is one infectious epidemic...</td>\n",
       "      <td>2014-06-04</td>\n",
       "      <td>Lin WANG; Xiang Li</td>\n",
       "      <td>NaN</td>\n",
       "      <td>NaN</td>\n",
       "      <td>NaN</td>\n",
       "      <td>True</td>\n",
       "      <td>biorxiv_medrxiv</td>\n",
       "      <td>https://doi.org/10.1101/003889</td>\n",
       "    </tr>\n",
       "    <tr>\n",
       "      <th>2</th>\n",
       "      <td>62gfisc6</td>\n",
       "      <td>f33c6d94b0efaa198f8f3f20e644625fa3fe10d2</td>\n",
       "      <td>biorxiv</td>\n",
       "      <td>Sequencing of the human IG light chain loci fr...</td>\n",
       "      <td>10.1101/006866</td>\n",
       "      <td>NaN</td>\n",
       "      <td>NaN</td>\n",
       "      <td>biorxiv</td>\n",
       "      <td>Germline variation at immunoglobulin gene (IG)...</td>\n",
       "      <td>2014-07-03</td>\n",
       "      <td>Corey T Watson; Karyn Meltz Steinberg; Tina A ...</td>\n",
       "      <td>NaN</td>\n",
       "      <td>NaN</td>\n",
       "      <td>NaN</td>\n",
       "      <td>True</td>\n",
       "      <td>biorxiv_medrxiv</td>\n",
       "      <td>https://doi.org/10.1101/006866</td>\n",
       "    </tr>\n",
       "    <tr>\n",
       "      <th>3</th>\n",
       "      <td>058r9486</td>\n",
       "      <td>4da8a87e614373d56070ed272487451266dce919</td>\n",
       "      <td>biorxiv</td>\n",
       "      <td>Bayesian mixture analysis for metagenomic comm...</td>\n",
       "      <td>10.1101/007476</td>\n",
       "      <td>NaN</td>\n",
       "      <td>NaN</td>\n",
       "      <td>biorxiv</td>\n",
       "      <td>Deep sequencing of clinical samples is now an ...</td>\n",
       "      <td>2014-07-25</td>\n",
       "      <td>Sofia Morfopoulou; Vincent Plagnol</td>\n",
       "      <td>NaN</td>\n",
       "      <td>NaN</td>\n",
       "      <td>NaN</td>\n",
       "      <td>True</td>\n",
       "      <td>biorxiv_medrxiv</td>\n",
       "      <td>https://doi.org/10.1101/007476</td>\n",
       "    </tr>\n",
       "    <tr>\n",
       "      <th>4</th>\n",
       "      <td>wich35l7</td>\n",
       "      <td>eccef80cfbe078235df22398f195d5db462d8000</td>\n",
       "      <td>biorxiv</td>\n",
       "      <td>Mapping a viral phylogeny onto outbreak trees ...</td>\n",
       "      <td>10.1101/010389</td>\n",
       "      <td>NaN</td>\n",
       "      <td>NaN</td>\n",
       "      <td>biorxiv</td>\n",
       "      <td>Developing methods to reconstruct transmission...</td>\n",
       "      <td>2014-11-11</td>\n",
       "      <td>Stephen P Velsko; Jonathan E Allen</td>\n",
       "      <td>NaN</td>\n",
       "      <td>NaN</td>\n",
       "      <td>NaN</td>\n",
       "      <td>True</td>\n",
       "      <td>biorxiv_medrxiv</td>\n",
       "      <td>https://doi.org/10.1101/010389</td>\n",
       "    </tr>\n",
       "  </tbody>\n",
       "</table>\n",
       "</div>"
      ],
      "text/plain": [
       "   cord_uid                                       sha source_x  \\\n",
       "0  vho70jcx  f056da9c64fbf00a4645ae326e8a4339d015d155  biorxiv   \n",
       "1  i9tbix2v  daf32e013d325a6feb80e83d15aabc64a48fae33  biorxiv   \n",
       "2  62gfisc6  f33c6d94b0efaa198f8f3f20e644625fa3fe10d2  biorxiv   \n",
       "3  058r9486  4da8a87e614373d56070ed272487451266dce919  biorxiv   \n",
       "4  wich35l7  eccef80cfbe078235df22398f195d5db462d8000  biorxiv   \n",
       "\n",
       "                                               title             doi pmcid  \\\n",
       "0  SIANN: Strain Identification by Alignment to N...  10.1101/001727   NaN   \n",
       "1  Spatial epidemiology of networked metapopulati...  10.1101/003889   NaN   \n",
       "2  Sequencing of the human IG light chain loci fr...  10.1101/006866   NaN   \n",
       "3  Bayesian mixture analysis for metagenomic comm...  10.1101/007476   NaN   \n",
       "4  Mapping a viral phylogeny onto outbreak trees ...  10.1101/010389   NaN   \n",
       "\n",
       "  pubmed_id  license                                           abstract  \\\n",
       "0       NaN  biorxiv  Next-generation sequencing is increasingly bei...   \n",
       "1       NaN  biorxiv  An emerging disease is one infectious epidemic...   \n",
       "2       NaN  biorxiv  Germline variation at immunoglobulin gene (IG)...   \n",
       "3       NaN  biorxiv  Deep sequencing of clinical samples is now an ...   \n",
       "4       NaN  biorxiv  Developing methods to reconstruct transmission...   \n",
       "\n",
       "  publish_time                                            authors journal  \\\n",
       "0   2014-01-10  Samuel Minot; Stephen D Turner; Krista L Ternu...     NaN   \n",
       "1   2014-06-04                                 Lin WANG; Xiang Li     NaN   \n",
       "2   2014-07-03  Corey T Watson; Karyn Meltz Steinberg; Tina A ...     NaN   \n",
       "3   2014-07-25                 Sofia Morfopoulou; Vincent Plagnol     NaN   \n",
       "4   2014-11-11                 Stephen P Velsko; Jonathan E Allen     NaN   \n",
       "\n",
       "  Microsoft Academic Paper ID WHO #Covidence  has_full_text   full_text_file  \\\n",
       "0                         NaN            NaN           True  biorxiv_medrxiv   \n",
       "1                         NaN            NaN           True  biorxiv_medrxiv   \n",
       "2                         NaN            NaN           True  biorxiv_medrxiv   \n",
       "3                         NaN            NaN           True  biorxiv_medrxiv   \n",
       "4                         NaN            NaN           True  biorxiv_medrxiv   \n",
       "\n",
       "                              url  \n",
       "0  https://doi.org/10.1101/001727  \n",
       "1  https://doi.org/10.1101/003889  \n",
       "2  https://doi.org/10.1101/006866  \n",
       "3  https://doi.org/10.1101/007476  \n",
       "4  https://doi.org/10.1101/010389  "
      ]
     },
     "execution_count": 70,
     "metadata": {},
     "output_type": "execute_result"
    }
   ],
   "source": [
    "df_metadata.head()"
   ]
  },
  {
   "cell_type": "code",
   "execution_count": 71,
   "metadata": {
    "ExecuteTime": {
     "end_time": "2020-04-04T20:05:25.229657Z",
     "start_time": "2020-04-04T20:05:25.164648Z"
    }
   },
   "outputs": [
    {
     "name": "stdout",
     "output_type": "stream",
     "text": [
      "<class 'pandas.core.frame.DataFrame'>\n",
      "RangeIndex: 45774 entries, 0 to 45773\n",
      "Data columns (total 17 columns):\n",
      " #   Column                       Non-Null Count  Dtype         \n",
      "---  ------                       --------------  -----         \n",
      " 0   cord_uid                     45774 non-null  object        \n",
      " 1   sha                          31753 non-null  object        \n",
      " 2   source_x                     45774 non-null  object        \n",
      " 3   title                        45617 non-null  object        \n",
      " 4   doi                          42440 non-null  object        \n",
      " 5   pmcid                        26243 non-null  object        \n",
      " 6   pubmed_id                    34641 non-null  object        \n",
      " 7   license                      45774 non-null  object        \n",
      " 8   abstract                     37913 non-null  object        \n",
      " 9   publish_time                 45765 non-null  datetime64[ns]\n",
      " 10  authors                      43774 non-null  object        \n",
      " 11  journal                      41707 non-null  object        \n",
      " 12  Microsoft Academic Paper ID  964 non-null    object        \n",
      " 13  WHO #Covidence               1768 non-null   object        \n",
      " 14  has_full_text                45774 non-null  bool          \n",
      " 15  full_text_file               35558 non-null  object        \n",
      " 16  url                          45472 non-null  object        \n",
      "dtypes: bool(1), datetime64[ns](1), object(15)\n",
      "memory usage: 5.6+ MB\n"
     ]
    }
   ],
   "source": [
    "df_metadata.info()"
   ]
  },
  {
   "cell_type": "markdown",
   "metadata": {},
   "source": [
    "## Inspect Contents of JSON Files"
   ]
  },
  {
   "cell_type": "markdown",
   "metadata": {},
   "source": [
    "### Printing Contents"
   ]
  },
  {
   "cell_type": "code",
   "execution_count": 114,
   "metadata": {
    "ExecuteTime": {
     "end_time": "2020-04-05T20:52:30.251217Z",
     "start_time": "2020-04-05T20:52:30.240882Z"
    }
   },
   "outputs": [],
   "source": [
    "def text_chunks_to_sections(all_chunks):\n",
    "    sections = OrderedDict()\n",
    "    \n",
    "    for chunk in all_chunks:\n",
    "        section_name = chunk['section']\n",
    "        if section_name not in sections:\n",
    "            sections[section_name] = []\n",
    "        sections[section_name].append({\n",
    "            k: v for k, v in chunk.items()\n",
    "            if k != 'section'\n",
    "        })\n",
    "    \n",
    "    return sections"
   ]
  },
  {
   "cell_type": "code",
   "execution_count": 115,
   "metadata": {
    "ExecuteTime": {
     "end_time": "2020-04-05T20:52:30.675378Z",
     "start_time": "2020-04-05T20:52:30.623912Z"
    }
   },
   "outputs": [
    {
     "data": {
      "text/plain": [
       "(array([3864]),)"
      ]
     },
     "execution_count": 115,
     "metadata": {},
     "output_type": "execute_result"
    }
   ],
   "source": [
    "np.where([len(json_file['abstract']) == 31 for json_file in json_files])"
   ]
  },
  {
   "cell_type": "code",
   "execution_count": 116,
   "metadata": {
    "ExecuteTime": {
     "end_time": "2020-04-05T20:52:31.048318Z",
     "start_time": "2020-04-05T20:52:31.040719Z"
    }
   },
   "outputs": [
    {
     "name": "stdout",
     "output_type": "stream",
     "text": [
      "odict_keys(['Abstract'])\n",
      "odict_keys(['Background', 'Surveillance interventions', 'Results for interventions targeted at Nipah virus', 'Methodological quality of the studies', 'Nipah virus -Review findings', 'Halton et al. A systematic review of community-based interventions for emerging zoonotic infectious diseases in Southeast Asia © the authors 2013 Page 18', 'Prevention and control interventions', 'Contextual factors', 'Summary', 'Results for interventions targeted at dengue', 'Education interventions', 'Environmental control', 'Biological control', 'Chemical control', 'Contextual information', 'Study context', 'Models of behaviour change', 'Dengue knowledge', 'Perceived importance of dengue', 'Perceived effectiveness of the intervention', 'Community input, ownership and involvement', '62', 'Use of schools to deliver education activities', 'Acceptability of the intervention', 'Meta-analysis', 'Household index', 'Container index', 'Breteau index', 'Larval population number', 'Larval density index', 'Mosquito bite rate', 'Rate of dengue haemorrhagic fever', 'Summary of results for meta-analyses for dengue control interventions', 'Halton et al. A systematic review of community-based interventions for emerging zoonotic infectious diseases in Southeast Asia © the authors 2013 Page 39', '55, 61', 'Results for interventions targeted at SARS', 'Halton et al. A systematic review of community-based interventions for emerging zoonotic infectious diseases in Southeast Asia © the authors 2013', 'Results for interventions targeted at avian Influenza', 'Halton et al. A systematic review of community-based interventions for emerging zoonotic infectious diseases in Southeast Asia © the authors 2013 Page 46', 'Rabies Surveillance interventions', 'Halton et al. A systematic review of community-based interventions for emerging zoonotic infectious diseases in Southeast Asia © the authors 2013 Page 49', 'Halton et al. A systematic review of community-based interventions for emerging zoonotic infectious diseases in Southeast Asia © the authors 2013 Page 51', 'Surveillance Interventions', 'Conclusion', 'Rabies', 'Nipah virus', 'Dengue', 'SARS', 'Avian influenza', 'Limitations of the review', 'Implications for practice', 'General', 'Avian Influenza', 'Implications for research', 'Halton et al. A systematic review of community-based interventions for emerging zoonotic infectious diseases in Southeast Asia © the authors 2013 Page 66', 'Conflict of interest', 'Appendix I -Search strategy', 'Appendix IV -Characteristics of included studies', 'Screening of sow blood allowed detection of infected farms'])\n",
      "odict_keys(['Acknowledgements', 'Rabiesarticles'])\n"
     ]
    }
   ],
   "source": [
    "json_file = json_files[3864]\n",
    "\n",
    "abstract_sections = text_chunks_to_sections(json_file['abstract'])\n",
    "body_text_sections = text_chunks_to_sections(json_file['body_text'])\n",
    "back_matter_sections = text_chunks_to_sections(json_file['back_matter'])\n",
    "\n",
    "print(abstract_sections.keys())\n",
    "print(body_text_sections.keys())\n",
    "print(back_matter_sections.keys())"
   ]
  },
  {
   "cell_type": "code",
   "execution_count": 118,
   "metadata": {
    "ExecuteTime": {
     "end_time": "2020-04-05T20:52:36.526857Z",
     "start_time": "2020-04-05T20:52:36.519702Z"
    }
   },
   "outputs": [
    {
     "name": "stdout",
     "output_type": "stream",
     "text": [
      "    T lymphocyte cells, including regulatory T (Treg) and T helper 17 cells,\n",
      "    have important roles in the human periodontium. However, the basis for Treg\n",
      "    cytokine expression in various compartments of the periodontium remains\n",
      "    unclear. The aim of the present study was to investigate the expression of\n",
      "    interleukin (IL)-35 in the peripheral blood mononuclear cells (PBMCs) and\n",
      "    periodontal tissues of patients with chronic periodontitis (CP), with a view\n",
      "    to understanding its role in this disease, and ultimately providing improved\n",
      "    treatments. Peripheral blood, periodontal tissues and gingival crevicular\n",
      "    fluids (GCFs) were collected from patients with CP or impacted teeth, the\n",
      "    latter serving as healthy controls. The expression levels of IL-35 subunit\n",
      "    mRNAs in PBMCs and periodontal tissues were determined using reverse\n",
      "    transcription-quantitative polymerase chain reaction, while the IL-35\n",
      "    protein expression in GCFs and sera was quantified by ELISA. The relative\n",
      "    expression of IL-35 subunit mRNAs in the affected tissues of patients with\n",
      "    CP was significantly higher compared with that in samples from healthy\n",
      "    controls (P<0.05). The mean concentration of IL-35 protein in the GCFs and\n",
      "    sera of patients with periodontitis was also significantly higher compared\n",
      "    with that in samples from healthy controls (P<0.001). IL-35 protein and\n",
      "    periodontal clinical indicators were negatively correlated. It was\n",
      "    hypothesized that the increased level of IL-35 plays a protective role in\n",
      "    periodontal disease by maintaining immune system homeostasis and dampening\n",
      "    the inflammatory response, and highlights IL-35 as a potential new therapy\n",
      "    for the treatment of periodontitis.\n"
     ]
    }
   ],
   "source": [
    "def wrap_text(text, width=80, indent=4):\n",
    "    lines = textwrap.wrap(text, width=width - indent)\n",
    "    filler = ' ' * indent\n",
    "    lines = [filler + line for line in lines]\n",
    "    return '\\n'.join(lines)\n",
    "    \n",
    "print(wrap_text(json_files[0]['abstract'][0]['text']))"
   ]
  },
  {
   "cell_type": "code",
   "execution_count": null,
   "metadata": {
    "ExecuteTime": {
     "end_time": "2020-04-05T20:54:58.681202Z",
     "start_time": "2020-04-05T20:54:58.666736Z"
    }
   },
   "outputs": [],
   "source": [
    "def print_section(section_title, section_chunks, paragraph_sep='\\n\\n'):\n",
    "    print('-' * 80)\n",
    "    print(section_title)\n",
    "    print('-' * 80)\n",
    "    \n",
    "    paragraphs = [wrap_text(chunk['text']) for chunk in section_chunks]\n",
    "    text = paragraph_sep.join(paragraphs)\n",
    "    print(text)"
   ]
  },
  {
   "cell_type": "code",
   "execution_count": 122,
   "metadata": {
    "ExecuteTime": {
     "end_time": "2020-04-05T20:54:58.681202Z",
     "start_time": "2020-04-05T20:54:58.666736Z"
    },
    "scrolled": false
   },
   "outputs": [
    {
     "name": "stdout",
     "output_type": "stream",
     "text": [
      "--------------------------------------------------------------------------------\n",
      "Abstract\n",
      "--------------------------------------------------------------------------------\n",
      "    Background Southeast Asia has been at the epicentre of recent epidemics of\n",
      "    emerging and re-emerging zoonotic diseases. Community-based surveillance and\n",
      "    control interventions have been heavily promoted but the most effective\n",
      "    interventions have not been identified.\n",
      "\n",
      "    This review evaluated evidence for the effectiveness of community-based\n",
      "    surveillance interventions at monitoring and identifying emerging infectious\n",
      "    disease; the effectiveness of community-based control interventions at\n",
      "    reducing rates of emerging infectious disease; and contextual factors that\n",
      "    influence intervention effectiveness.\n",
      "\n",
      "    Inclusion criteria\n",
      "\n",
      "    Communities in Brunei, Cambodia, Indonesia, Laos, Malaysia, Myanmar, the\n",
      "    Philippines, Singapore, Thailand and Viet Nam.\n",
      "\n",
      "    Non-pharmaceutical, non-vaccine, and community-based surveillance or\n",
      "    prevention and control interventions targeting rabies, Nipah virus , dengue,\n",
      "    SARS or avian influenza.\n",
      "\n",
      "    Two independent reviewers critically appraised studies using standard Joanna\n",
      "    Briggs Institute instruments. Disagreements were resolved through\n",
      "    discussion.\n",
      "\n",
      "    A customised tool was used to extract quantitative data on intervention(s),\n",
      "    populations, study methods, and primary and secondary outcomes; and\n",
      "    qualitative contextual information or narrative evidence about\n",
      "    interventions.\n",
      "\n",
      "    Data was synthesised in a narrative summary with the aid of tables. Meta-\n",
      "    analysis was used to statistically pool quantitative results.\n",
      "\n",
      "    Fifty-seven studies were included. Vector control interventions using\n",
      "    copepods, environmental cleanup and education are effective and sustainable\n",
      "    at reducing dengue in rural and urban communities, whilst insecticide\n",
      "    spraying is effective in urban outbreak situations. Communitybased\n",
      "    surveillance interventions can effectively identify avian influenza in\n",
      "    backyard flocks, but have not been broadly applied. Outbreak control\n",
      "    interventions for Nipah virus and SARS are effective but may not be suitable\n",
      "    for ongoing control. Canine vaccination and education is more acceptable\n",
      "    than culling, but still fails to reach coverage levels required to\n",
      "    effectively control rabies. Contextual factors were identified that\n",
      "    influence community engagement with, and ultimately effectiveness of,\n",
      "    interventions.\n",
      "\n",
      "    Despite investment in community-based disease control and surveillance in\n",
      "    Southeast Asia, published evidence evaluating interventions is limited in\n",
      "    quantity and quality. Nonetheless this review identified a number of\n",
      "    effective interventions, and several contextual factors influencing\n",
      "    effectiveness. Identification of the best programs will require comparative\n",
      "    evidence of effectiveness acceptability, cost-effectiveness and\n",
      "    sustainability.\n",
      "\n",
      "    Interventions are more effective if there are high levels of community\n",
      "    ownership and engagement. Linkages between veterinary and public health\n",
      "    surveillance systems are essential. Interventions are not well accepted when\n",
      "    they fail to acknowledge the importance of animals for economic activity in\n",
      "    communities.\n",
      "\n",
      "    Evidence is needed on functioning and outcomes of current surveillance\n",
      "    systems and novel low-cost methods of surveillance. Evaluations of control\n",
      "    interventions should control for confounding and report measures of disease,\n",
      "    cost and sustainability. Translational research is needed to assess\n",
      "    generalisability and evaluate roll-out of effective interventions as\n",
      "    regional or national programs.\n",
      "\n",
      "    Page 4 places a strong emphasis on both the early detection and early\n",
      "    control of infectious disease outbreaks.\n",
      "\n",
      "    Early detection of disease outbreaks requires effective disease surveillance\n",
      "    systems. Systems in developing countries face many operational challenges,\n",
      "    including a lack of accurate and timely information exchange between local,\n",
      "    provincial, national and regional levels, and inadequate human resource and\n",
      "    laboratory capacity for speedy diagnosis. The WHO's Asia Pacific Strategy\n",
      "    for Emerging Diseases 2010 highlights the need for community involvement in\n",
      "    surveillance. 2 Zoonotic disease detection and control also depends on\n",
      "    effective veterinary surveillance and the ability to contain outbreaks\n",
      "    amongst animal populations, systems that are often poorly developed or\n",
      "    nonexistent in developing countries. Jones et al. 5 suggest that local\n",
      "    targeted surveillance of at-risk people may be the best way to prevent\n",
      "    large-scale emergence. Brownstein et al. 6 in their discussion of web\n",
      "    surveillance suggest that the use of news media and other non-traditional\n",
      "    sources of surveillance data such as web-accessible discussion sites and\n",
      "    disease reporting networks could facilitate early outbreak detection and\n",
      "    increase public awareness of disease outbreaks prior to their formal\n",
      "    recognition. May et al. 7 review the evidence for syndromic surveillance\n",
      "    systems in developing countries (systems utilising existing clinical\n",
      "\n",
      "    data prior to a diagnosis) and find that this may be a feasible and\n",
      "    effective approach to infectious disease surveillance in developing\n",
      "    countries.\n",
      "\n",
      "    The effectiveness of surveillance systems in responding generally to\n",
      "    emerging infectious diseases has not been reviewed systematically. Reviews\n",
      "    aimed at particular contexts (for example, prevention of bioterrorism 8 and\n",
      "    public health surveillance for trachoma 2 ) have been undertaken, however,\n",
      "    neither review was able to state whether surveillance systems are achieving\n",
      "    the ultimate goal of detecting outbreaks early and providing an accurate\n",
      "    picture of infection rates in the area covered by the surveillance program.\n",
      "    2 Most evaluations of surveillance programs have been qualitative, and\n",
      "    focused on evaluating the practical structure and operation of the system,\n",
      "    rather than the impact on infectious disease transmission. 9-11 Many\n",
      "    researchers have used the Centers for Disease Control and Prevention (CDC)\n",
      "    guideline which recommends how a surveillance system can be assessed to\n",
      "    verify if it meets its objectives. 12 This provides a framework for\n",
      "    evaluating how well a system is functioning and determining reasons why it\n",
      "    may or may not be functioning to detect and respond to infectious disease\n",
      "    outbreaks and/or support ongoing control activities to tackle endemic\n",
      "    diseases.\n",
      "\n",
      "    The CDC guideline recommends that reports of surveillance systems include\n",
      "    the following:\n",
      "\n",
      "     descriptions of the public health importance of the health event under\n",
      "    surveillance; the system under evaluation; the direct costs needed to\n",
      "    operate the system; the usefulness of the system;\n",
      "\n",
      "     evaluations of the system's simplicity, stability (its ability to\n",
      "    withstand external changes), flexibility (that is, -the system's ability to\n",
      "    change as surveillance needs change‖), acceptability (-as reflected by the\n",
      "    willingness of participants and stakeholders to contribute to the data\n",
      "    collection, analysis and use‖), sensitivity to detect outbreaks, positive\n",
      "    predictive value of JBI Database of Systematic Reviews & Implementation\n",
      "    Reports JBL000603 2013;11(2)1-235\n",
      "\n",
      "    Page 5 system alarms for true outbreaks, representativeness of the\n",
      "    population covered by the system, and timeliness of detection.\n",
      "\n",
      "    Control of emerging infectious disease requires an effective response to\n",
      "    surveillance data. Single measures such as the use of vaccines or antiviral\n",
      "    drugs may be unavailable, unaffordable or not in sufficient quantity. The\n",
      "    control of these infectious diseases in resource constrained settings is\n",
      "    more likely to be influenced by community-based and behavioural change\n",
      "    interventions as well as by strengthening of national and international\n",
      "    commitment to their control. 13 Over the last decade there have been\n",
      "    increased efforts to promote community-based infectious disease control.\n",
      "\n",
      "    2 For vector-borne infections, such as dengue, attention has been focused on\n",
      "    interventions to reduce larval, and ultimately adult, vector populations.\n",
      "    Programs have attempted to achieve this via a range of chemical, biological\n",
      "    and physical interventions to reduce vector populations, as well as trying\n",
      "    to initiate behavioural change at the community level to prevent contact\n",
      "    with the mosquito vectors.\n",
      "\n",
      "    14 Heintze et al. have previously reviewed the evidence for community-based\n",
      "    dengue control programs. 15 This systematic review completed in 2005 found\n",
      "    at that time that the evidence for these activities was weak and\n",
      "    inconclusive and suggested a number of priorities for future research in\n",
      "    this area. However, the review has not since been updated.\n",
      "\n",
      "    Community-based interventions to control the spread of respiratory viruses,\n",
      "    such as influenza, have focused on hygiene and respiratory etiquette to\n",
      "    prevent human-to-human transmission. Many of these interventions have only\n",
      "    been evaluated in a developed country context. Aledort et al. 16 and\n",
      "    Jefferson et al. 13 undertook systematic reviews of physical interventions\n",
      "    to interrupt or reduce the spread of respiratory viruses. Both reviews found\n",
      "    handwashing was effective whilst there was no evidence to support\n",
      "    school/workplace closure. However, these findings are from a predominantly\n",
      "    North American context and may not be generalisable to countries with\n",
      "    limited access to safe water and sanitation.\n",
      "\n",
      "    To understand whether community-based control activities will be effective\n",
      "    and why requires us to look at the behavioural mechanisms through which\n",
      "    these interventions work and the context in which they are based.\n",
      "    Behavioural mechanisms operate through the experiences, beliefs and values\n",
      "    of groups and individuals. These mechanisms are therefore dependent in part\n",
      "    on the context in which they are used. This framework was used in a recent\n",
      "    synthetic review of water and sanitation projects. 17 The framework is shown\n",
      "    in Figure 1 .\n",
      "\n",
      "    The objective of this review is to identify the effectiveness of\n",
      "    surveillance systems and communitybased interventions in identifying and\n",
      "    responding to emerging and re-emerging zoonotic infections in SE Asia.\n",
      "\n",
      "    It aims to provide a critical review of published evidence that evaluated\n",
      "    the effectiveness of community-based surveillance and prevention and control\n",
      "    interventions for emerging zoonotic infectious diseases. In addressing the\n",
      "    three research questions outlined below we will summarise evidence for not\n",
      "    only the effectiveness of community surveillance and prevention and control\n",
      "    interventions in SE Asia in identifying and responding to these infectious\n",
      "    diseases, but also explore the contextual factors that influenced their\n",
      "    success.\n",
      "\n",
      "    More specifically the review questions were:\n",
      "\n",
      "    1. What is the effectiveness of community-based surveillance interventions\n",
      "    designed to identify emerging zoonotic infectious diseases?\n",
      "\n",
      "    2. What is the effectiveness of non-pharmaceutical community-based\n",
      "    interventions designed to prevent transmission of emerging zoonotic\n",
      "    infectious diseases?\n",
      "\n",
      "    3. How do factors related to the emergence and management of emerging\n",
      "    zoonotic infectious diseases impact the effectiveness of interventions\n",
      "    designed to identify and respond to them?\n"
     ]
    }
   ],
   "source": [
    "for section_title, section_chunks in abstract_sections.items():\n",
    "    print_section(section_title, section_chunks)"
   ]
  },
  {
   "cell_type": "code",
   "execution_count": 123,
   "metadata": {
    "ExecuteTime": {
     "end_time": "2020-04-05T20:56:16.281145Z",
     "start_time": "2020-04-05T20:56:16.274549Z"
    }
   },
   "outputs": [
    {
     "name": "stdout",
     "output_type": "stream",
     "text": [
      "--------------------------------------------------------------------------------\n",
      "Acknowledgements\n",
      "--------------------------------------------------------------------------------\n",
      "    This research was funded by the Australian Agency for International\n",
      "    Development (AusAID). The research was commissioned as part of a joint call\n",
      "    for systematic reviews with the Department for International Development\n",
      "    (DFID) and the International Initiative for Impact Evaluation (3ie). The\n",
      "    views expressed are those of the authors and not necessarily those of the\n",
      "    Commonwealth of Australia. The Commonwealth of Australia accepts no\n",
      "    responsibility for any loss, damage or injury\n",
      "--------------------------------------------------------------------------------\n",
      "Rabiesarticles\n",
      "--------------------------------------------------------------------------------\n",
      "    Akoso BT. Rabies in animals in Indonesia. In: Rabies control in Asia, Dodet\n",
      "    B, Meslin FX, editors, 2001. p\n"
     ]
    }
   ],
   "source": [
    "for section_title, section_chunks in back_matter_sections.items():\n",
    "    print_section(section_title, section_chunks)"
   ]
  },
  {
   "cell_type": "markdown",
   "metadata": {},
   "source": [
    "## JSON File Statistics"
   ]
  },
  {
   "cell_type": "markdown",
   "metadata": {},
   "source": [
    "## JSON Files vs. `metadata.csv`"
   ]
  },
  {
   "cell_type": "markdown",
   "metadata": {},
   "source": [
    "### Duplicate SHAs"
   ]
  },
  {
   "cell_type": "code",
   "execution_count": 181,
   "metadata": {
    "ExecuteTime": {
     "end_time": "2020-04-05T21:21:26.552786Z",
     "start_time": "2020-04-05T21:21:26.419443Z"
    }
   },
   "outputs": [],
   "source": [
    "all_json_shas = set(json_file['paper_id'] for json_file in json_files)\n",
    "all_metadata_shas = set(df_metadata['sha'].values)"
   ]
  },
  {
   "cell_type": "code",
   "execution_count": 183,
   "metadata": {
    "ExecuteTime": {
     "end_time": "2020-04-05T21:22:26.285464Z",
     "start_time": "2020-04-05T21:22:26.279922Z"
    }
   },
   "outputs": [
    {
     "name": "stdout",
     "output_type": "stream",
     "text": [
      "Are JSON file SHAs unique? True\n",
      "Are all metadata SHAs unique? False\n"
     ]
    }
   ],
   "source": [
    "print(\"Are JSON file SHAs unique?\", len(all_json_shas) == n_json)\n",
    "print(\"Are all metadata SHAs unique?\", len(all_metadata_shas) == n_metadata)"
   ]
  },
  {
   "cell_type": "markdown",
   "metadata": {},
   "source": [
    "All JSON files' SHAs are unique, but the medatadata file has duplicates. How many duplicates are there"
   ]
  },
  {
   "cell_type": "code",
   "execution_count": 234,
   "metadata": {
    "ExecuteTime": {
     "end_time": "2020-04-05T21:41:13.777087Z",
     "start_time": "2020-04-05T21:41:13.754214Z"
    }
   },
   "outputs": [
    {
     "data": {
      "text/plain": [
       "{'58be092086c74c58e9067121a6ba4836468e7ec3': 2,\n",
       " '45e40b2d7d973ed5c9798da613fb3cfa4427e2e2': 2,\n",
       " 'f3aafdecdc43a3f57e58cf6dcea038b1834a953e': 2,\n",
       " '9ce0a6cfd53840cd985f7a1439708c7a48bb7f23': 3,\n",
       " 'ba4afe00e152de82121a4445aed52c46833d927e': 2,\n",
       " '4644c32551fb23aa873a7738ecc8d777bd49877e': 4}"
      ]
     },
     "execution_count": 234,
     "metadata": {},
     "output_type": "execute_result"
    }
   ],
   "source": [
    "sha_duplicates_in_metadata = Counter(df_metadata['sha'])\n",
    "sha_duplicates_in_metadata = {\n",
    "    k: v for k, v in sha_duplicates_in_metadata.items()\n",
    "    if v > 1 and isinstance(k, str)}\n",
    "sha_duplicates_in_metadata"
   ]
  },
  {
   "cell_type": "markdown",
   "metadata": {},
   "source": [
    "After manually inspecting the documents corresponding to the SHA with most duplicates (`4644c32551fb23aa873a7738ecc8d777bd49877e`, URLs are in the metadatafile) we found that all four entries corresponnd to very short one-paragraph texts that fit on the same PDF page. This explains why they all have the same SHA, which is the hash of that PDF."
   ]
  },
  {
   "cell_type": "code",
   "execution_count": 197,
   "metadata": {
    "ExecuteTime": {
     "end_time": "2020-04-05T21:33:12.521455Z",
     "start_time": "2020-04-05T21:33:12.500621Z"
    }
   },
   "outputs": [
    {
     "data": {
      "text/html": [
       "<div>\n",
       "<style scoped>\n",
       "    .dataframe tbody tr th:only-of-type {\n",
       "        vertical-align: middle;\n",
       "    }\n",
       "\n",
       "    .dataframe tbody tr th {\n",
       "        vertical-align: top;\n",
       "    }\n",
       "\n",
       "    .dataframe thead th {\n",
       "        text-align: right;\n",
       "    }\n",
       "</style>\n",
       "<table border=\"1\" class=\"dataframe\">\n",
       "  <thead>\n",
       "    <tr style=\"text-align: right;\">\n",
       "      <th></th>\n",
       "      <th>sha</th>\n",
       "      <th>title</th>\n",
       "      <th>url</th>\n",
       "    </tr>\n",
       "  </thead>\n",
       "  <tbody>\n",
       "    <tr>\n",
       "      <th>41027</th>\n",
       "      <td>4644c32551fb23aa873a7738ecc8d777bd49877e</td>\n",
       "      <td>PIV-33 Detection of oseltamivir-resistant infl...</td>\n",
       "      <td>https://doi.org/10.1016/s1386-6532(09)70129-5</td>\n",
       "    </tr>\n",
       "    <tr>\n",
       "      <th>41028</th>\n",
       "      <td>4644c32551fb23aa873a7738ecc8d777bd49877e</td>\n",
       "      <td>PIV-34 A fast procedure for the detection of t...</td>\n",
       "      <td>https://doi.org/10.1016/s1386-6532(09)70130-1</td>\n",
       "    </tr>\n",
       "    <tr>\n",
       "      <th>41029</th>\n",
       "      <td>4644c32551fb23aa873a7738ecc8d777bd49877e</td>\n",
       "      <td>PIV-35 Evaluation of two newly developed QIAsy...</td>\n",
       "      <td>https://doi.org/10.1016/s1386-6532(09)70131-3</td>\n",
       "    </tr>\n",
       "    <tr>\n",
       "      <th>41030</th>\n",
       "      <td>4644c32551fb23aa873a7738ecc8d777bd49877e</td>\n",
       "      <td>PIV-36 Performance of the Qiagen Resplex II ve...</td>\n",
       "      <td>https://doi.org/10.1016/s1386-6532(09)70132-5</td>\n",
       "    </tr>\n",
       "  </tbody>\n",
       "</table>\n",
       "</div>"
      ],
      "text/plain": [
       "                                            sha  \\\n",
       "41027  4644c32551fb23aa873a7738ecc8d777bd49877e   \n",
       "41028  4644c32551fb23aa873a7738ecc8d777bd49877e   \n",
       "41029  4644c32551fb23aa873a7738ecc8d777bd49877e   \n",
       "41030  4644c32551fb23aa873a7738ecc8d777bd49877e   \n",
       "\n",
       "                                                   title  \\\n",
       "41027  PIV-33 Detection of oseltamivir-resistant infl...   \n",
       "41028  PIV-34 A fast procedure for the detection of t...   \n",
       "41029  PIV-35 Evaluation of two newly developed QIAsy...   \n",
       "41030  PIV-36 Performance of the Qiagen Resplex II ve...   \n",
       "\n",
       "                                                 url  \n",
       "41027  https://doi.org/10.1016/s1386-6532(09)70129-5  \n",
       "41028  https://doi.org/10.1016/s1386-6532(09)70130-1  \n",
       "41029  https://doi.org/10.1016/s1386-6532(09)70131-3  \n",
       "41030  https://doi.org/10.1016/s1386-6532(09)70132-5  "
      ]
     },
     "execution_count": 197,
     "metadata": {},
     "output_type": "execute_result"
    }
   ],
   "source": [
    "df_metadata[df_metadata['sha'] == '4644c32551fb23aa873a7738ecc8d777bd49877e'][['sha', 'title', 'url']]"
   ]
  },
  {
   "cell_type": "markdown",
   "metadata": {},
   "source": [
    "Are any of the duplicate SHAs found in the JSON files?"
   ]
  },
  {
   "cell_type": "code",
   "execution_count": 236,
   "metadata": {
    "ExecuteTime": {
     "end_time": "2020-04-05T21:42:40.090046Z",
     "start_time": "2020-04-05T21:42:40.083614Z"
    }
   },
   "outputs": [
    {
     "data": {
      "text/plain": [
       "{'58be092086c74c58e9067121a6ba4836468e7ec3': True,\n",
       " '45e40b2d7d973ed5c9798da613fb3cfa4427e2e2': True,\n",
       " 'f3aafdecdc43a3f57e58cf6dcea038b1834a953e': True,\n",
       " '9ce0a6cfd53840cd985f7a1439708c7a48bb7f23': True,\n",
       " 'ba4afe00e152de82121a4445aed52c46833d927e': True,\n",
       " '4644c32551fb23aa873a7738ecc8d777bd49877e': True}"
      ]
     },
     "execution_count": 236,
     "metadata": {},
     "output_type": "execute_result"
    }
   ],
   "source": [
    "{sha: (sha in all_json_shas) for sha in sha_duplicates_in_metadata}"
   ]
  },
  {
   "cell_type": "markdown",
   "metadata": {},
   "source": [
    "OK, they all are. So do the corresponding JSON files contain all of the corresponding articles? Check the JSON for which the SHA has 4 duplicates in the metadata file"
   ]
  },
  {
   "cell_type": "code",
   "execution_count": 263,
   "metadata": {
    "ExecuteTime": {
     "end_time": "2020-04-05T21:55:58.310885Z",
     "start_time": "2020-04-05T21:55:58.253418Z"
    }
   },
   "outputs": [
    {
     "name": "stdout",
     "output_type": "stream",
     "text": [
      "PIV-33 Detection of oseltamivir-resistant influenza A(H1N1) viruses with H274Y\n",
      "mutation during 2007-2008 influenza season from central and eastern part of\n",
      "Turkey\n",
      "================================================================================\n",
      "abstract\n",
      "================================================================================\n",
      "================================================================================\n",
      "body_text\n",
      "================================================================================\n",
      "--------------------------------------------------------------------------------\n",
      "S26\n",
      "--------------------------------------------------------------------------------\n",
      "    S15-S61 A. Carhan *, N. Albayrak, A.B. Altas, Y. Uyar. Refik Saydam National\n",
      "    Health Agency, Virology Reference and Research Laboratory, Turkey In the\n",
      "    beginning of 2007-2008 Northern Hemisphere influenza season, the frequency\n",
      "    of influenza A(H1N1) viruses bearing a previously defined oseltamivir\n",
      "    resistance conferring amino acid change from Histidine to Tyrosine at\n",
      "    position 274 (H274Y) in neuraminidase (NA) gene increased dramatically. The\n",
      "    overall frequency of oseltamivir resistance in A(H1N1) strains from Europe\n",
      "    was 25%, although it varied between countries, with Norway detecting the\n",
      "    highest proportion (67%), and others, including Spain, as low as 2%. In\n",
      "    order to detect such resistant viruses in Turkey, an RT-PCR assay was\n",
      "    performed targeting amino acid position 274 in NA gene of H1N1 influenza\n",
      "    strain to investigate the presence or absence of histidine to tyrosine\n",
      "    mutation. A total of 20 influenza A(H1N1) isolates were selected randomly\n",
      "    from 73 influenza A (H1N1) positive specimens from different provinces which\n",
      "    were detected by real-time PCR in Refik Saydam Public Health Agency National\n",
      "    Influenza Center, Turkey during the 2007-2008 influenza season. The NA genes\n",
      "    of influenza viruses were sequenced and resistance was inferred by\n",
      "    comparison with published sequences and known resistant mutations. 2 of them\n",
      "    (10%) had histidine (H) to tyrosine (Y) change at position 274 (275 in N1\n",
      "    numbering) of the NA gene which indicates resistance to oseltamivir. By NA\n",
      "    gene sequencing, we monitor the presence of H274Y oseltamivir-resistant\n",
      "    influenza A(H1N1) viruses in central and eastern part of Turkey Our results\n",
      "    indicate that resistance to NAIs began to be detected in A/H1N1 isolates in\n",
      "    Turkey in 2008. Aim: To assess a fast molecular procedure for the\n",
      "    identification of the new influenza virus A/H1N1v. Methods: The procedure\n",
      "    consisted of two steps: 1) the detection of the influenza type A (Iv-A) and\n",
      "    B (Iv-B) viruses by a commercial real-time PCR (Nanogen, I and Arrow, I); 2)\n",
      "    the identification of the swine-flu type A (matrix-gene) and the new\n",
      "    influenza A/H1N1v (HA-gene) according to the WHO-CDC protocol (April, 2009)\n",
      "    by a one-step real-time PCR system (AB-Ambion, US). 111 nasal or\n",
      "    nasopharyngeal specimens from 111 patients were analyzed. Nucleic-acids\n",
      "    extraction was performed with the NucliSENS-easyMAG (Biomerieux, F).\n",
      "    Positive A/H1N1v samples were grown in MDCK cell cultures and sequenced (HA-\n",
      "    segment, 1701bp). Results: We identified 16 (14.4%) A/H1N1v, 5 (4.5%)\n",
      "    seasonal Iv-A (H3N2) and 1 (1%) Iv-B. Five A/H1N1v were sequenced (HA-\n",
      "    segment) and clustered with the reference GenBank A/H1N1v sequences. The\n",
      "    total turn-aroundtime for positive and negative samples was 6.5hrs and 3hrs,\n",
      "    respectively. Moreover 20 samples resulted positive for other respiratory\n",
      "    viruses: 10 Rhinovirus, 3 Parainfluenza-3, 2 Adenovirus, 2 h-Coronavirus\n",
      "    229E/NL63, 1 h-Metapneumovirus, 1 RSV and one samples was co-infected with a\n",
      "    parainfluenzavirus-3 and Rhinovirus. Conclusion: Our procedure identified\n",
      "    and typed A/H1N1v in one workingday and can be successfully used for the new\n",
      "    influenza A/H1N1v surveillance allowing a prompt management of A/H1N1v\n",
      "    infected patients as well as of their contacts. Purpose: Influenza is one of\n",
      "    the most severe respiratory infections. Detection of the Influenza Virus by\n",
      "    realtime PCR is sensitive and fast. Here we report the suitability of the\n",
      "    QIAsymphony for isolation of Influenza RNA from different sample materials.\n",
      "    In addition, the fully automated QIAsymphony protocol is compared to a\n",
      "    protocol with off-board lysis. Methods: Respiratory samples from swine and\n",
      "    humans were spiked with Influenza standard. Viral RNA was extracted either\n",
      "    with a manual method (QIAamp Viral RNA), or with the QIAsymphony\n",
      "    Virus/Bacteria Mini Kit. For off-board lysis, samples were incubated with or\n",
      "    without shaking in a lysis mixture similar to the one used in the completely\n",
      "    automated procedure. Lysates were transferred onto the QIAsymphony and a\n",
      "    Bind-Wash-Elute protocol was run. Purified RNA was analyzed using the artus\n",
      "    Influenza RT PCR-Kit. Results: All respiratory samples were detected\n",
      "    positive with both extraction methods. In general, the QIAsymphony showed\n",
      "    better performance compared to the manual method by an average over all\n",
      "    samples delta Ct of −1.83. No differences were observed between the fully\n",
      "    automated protocol and the off-board lysis protocol using the QIAsymphony.\n",
      "    Shaking during off-board lysis did not affect the performance. Conclusion:\n",
      "    The QIAsymphony Virus/Bacteria Kit in combination with the artus Influenza\n",
      "    RT-PCR Kit is suitable for sensitive analysis of Influenza from different\n",
      "    respiratory sample types. The artus Influenza RT-PCR Kit is intended For\n",
      "    Research Use Only. Not for use in diagnostics procedures. No claim or\n",
      "    representation is intended to provide information for the diagnosis,\n",
      "    prevention, or treatment of a disease.\n",
      "--------------------------------------------------------------------------------\n",
      "PIV-36\n",
      "--------------------------------------------------------------------------------\n",
      "    Performance of the Qiagen Resplex II ver. 2.0 & ver. 3.0 multiplex assays\n",
      "    for the detection of (H1N1V) pandemic influenza A in a London teaching\n",
      "    hospital\n",
      "================================================================================\n",
      "back_matter\n",
      "================================================================================\n"
     ]
    }
   ],
   "source": [
    "sha = '4644c32551fb23aa873a7738ecc8d777bd49877e'\n",
    "\n",
    "sha_idx = np.where([json_file['paper_id'] == sha for json_file in json_files])[0][0]\n",
    "json_file = json_files[sha_idx]\n",
    "\n",
    "title = json_file['metadata']['title']\n",
    "\n",
    "\n",
    "print(wrap_text(title, indent=0))\n",
    "for part in ['abstract', 'body_text', 'back_matter']:\n",
    "    print('=' * 80)\n",
    "    print(part)\n",
    "    print('=' * 80)\n",
    "    sections = text_chunks_to_sections(json_file[part])\n",
    "    for sec_name, sec_chunks in sections.items():\n",
    "        print_section(sec_name, sec_chunks)"
   ]
  },
  {
   "cell_type": "markdown",
   "metadata": {},
   "source": [
    "By comparing to the actualy PDF we see that the first 3 entries from the metadata file got parsed into the corresponding JSON file, while from the fourth one the title was taken and appended to the main text of the JSON.\n",
    "\n",
    "The lesson learnt is that the parsing of the PDFs might not be 100% reliable, and inconsistencies between the JSON files and the metedata file might occur."
   ]
  },
  {
   "cell_type": "markdown",
   "metadata": {},
   "source": [
    "### Overlap between JSON files and metadata file"
   ]
  },
  {
   "cell_type": "code",
   "execution_count": 156,
   "metadata": {
    "ExecuteTime": {
     "end_time": "2020-04-05T21:08:00.919513Z",
     "start_time": "2020-04-05T21:08:00.911252Z"
    }
   },
   "outputs": [
    {
     "name": "stdout",
     "output_type": "stream",
     "text": [
      "Number of JSON files: 33375\n",
      "Number of entries in metadata.csv: 45774\n",
      "  has_full_text = True : 31753\n",
      "  has_full_text = False: 14021\n"
     ]
    }
   ],
   "source": [
    "n_metadata = len(df_metadata)\n",
    "n_has_full_text = np.sum(df_metadata[\"has_full_text\"] == True)\n",
    "n_json = len(json_files)\n",
    "\n",
    "print(\"Number of JSON files:\", n_json)\n",
    "print(\"Number of entries in metadata.csv:\", n_metadata)\n",
    "print(\"  has_full_text = True :\", n_has_full_text)\n",
    "print(\"  has_full_text = False:\", n_metadata - n_has_full_text)"
   ]
  },
  {
   "cell_type": "markdown",
   "metadata": {
    "ExecuteTime": {
     "end_time": "2020-04-05T20:57:51.479028Z",
     "start_time": "2020-04-05T20:57:51.447917Z"
    }
   },
   "source": [
    "There seems to be a mismatch between the JSON files and the entries in the metadata file that have `has_full_text=True`. Let's check what happening exactly"
   ]
  },
  {
   "cell_type": "code",
   "execution_count": 163,
   "metadata": {
    "ExecuteTime": {
     "end_time": "2020-04-05T21:12:43.977842Z",
     "start_time": "2020-04-05T21:12:43.942192Z"
    }
   },
   "outputs": [],
   "source": [
    "sha_in_json = df_metadata['sha'].map(lambda sha: sha in all_json_shas)\n",
    "has_full_text = df_metadata['has_full_text']"
   ]
  },
  {
   "cell_type": "markdown",
   "metadata": {},
   "source": [
    "Are all SHAs of JSON files in the metadata file?"
   ]
  },
  {
   "cell_type": "code",
   "execution_count": 176,
   "metadata": {
    "ExecuteTime": {
     "end_time": "2020-04-05T21:19:42.158542Z",
     "start_time": "2020-04-05T21:19:42.131009Z"
    }
   },
   "outputs": [
    {
     "data": {
      "text/plain": [
       "{'48ed8f0e9592a06e0d5cb09acdd6397fb7ffba15',\n",
       " '0b35b06902127f13fe98623b233abddea9e80f16',\n",
       " '4d754b08444d19e6df8559afad357bb13be89bd8',\n",
       " '794631ba2517f1c98a655013cbe22169f67b70c9',\n",
       " 'c97895cef4c4d3d1e78a477e397cc258f2c1640c',\n",
       " 'b099c55c3b7797a03f19d6ff8c78e568672a6066',\n",
       " '0e803f9a98199d4c1e322f933e9943db653460be',\n",
       " 'df61f934c991b4b4b08e1ec28804812ec0629ea1',\n",
       " '7a43d0241aa1e131a19e83d48ce65ba5664c4bb3',\n",
       " '0898b22b38bdf9962d526c96baa1693f135d16a6',\n",
       " 'e4a3696c1433c42badbd9cce9ec2721be357e02d',\n",
       " '07c4d4d483be850eb24ecb722746f27e74d2b217',\n",
       " '5b0440b7d2a6ed9c1c93a2f7f928dc1cb2a856ea',\n",
       " '216a12289d34dd8c0febe000a1de70c1c8b634c8',\n",
       " 'b0718d5c8888216c95fa19d7a79fd709da2c3ff4',\n",
       " '10879a331911aff539b074549e2913baa6bec50e',\n",
       " 'bad8f12dc3e97b6539e35b4de35790b12cc32a48',\n",
       " '9aeeefa3b03f5d9a49a7af22a1524eb320a5bc88',\n",
       " '23c57f7251a9c115446b642916b659018f527763',\n",
       " '46c5f4a01496ab4fe89b1dfba7b7f94445766640',\n",
       " '2eaa2a813ac6ff1fc901cf8eadc3b44e13d71d6a',\n",
       " '6b9671552c1cebfbdec4ccb22fc444ea890ae9dd',\n",
       " 'a347a23ce4452adcb772163e22fa377854605ad8',\n",
       " '5d1fba93202bde59044de4d458a69e21b5ab5d78',\n",
       " 'f8804edced097a80df3777ea5c6680844fcf87aa',\n",
       " '4b67407e4c15f57f958a898a1f91f3719da5c51d',\n",
       " '36c9f0d81abca39d9decec0de264ad9b5e8be161',\n",
       " '49fbca70a4e7e3018cab7eb445683c58fd06bce2',\n",
       " '324224a860eb73492e4207926e5ea62cd1a910d9',\n",
       " '89054d3b5ef141d48c496a326098d412b3f0c462',\n",
       " 'b99ed0fbbc06b1b6f0db98a1118f11d9cdba1008',\n",
       " 'abd5833ba0f868ce51622b090b9121b3be9c08dc',\n",
       " '8e615240758a285de829308e4db562cfea5fef1f',\n",
       " 'd29a40a56e3f084fb51cea52a403e24a0b79629b',\n",
       " 'd593578ee0f5633a80ea5ff2f3d3c2e2fe8ddf26',\n",
       " '51f9ab9c7010dae7a662a33f0fd32e91a2001523',\n",
       " 'e5f65a647fe4b24d1f29df211953a2c87935734b',\n",
       " '9e102fc4487f4b9cdc7f7426ad24ba33aa1a4d42',\n",
       " '74f3d71d215bc46a4e051895aec6a005552638fd',\n",
       " '59e70474f7eae42943ba63363f887cdaa91e29f9',\n",
       " 'db4c8228189750c2de16f125ea1a96feefd63bda',\n",
       " 'd4ea57e72c426571255c1c45861db4c6b46b95d5',\n",
       " 'd205480b1b5704003ff43d9dbb8b531827fcfb7b',\n",
       " '25ec934edd0a8eb7ef55980e5683355f02b2647f',\n",
       " 'd544afdb9c39e7a5587c689392230518594b0215',\n",
       " 'a969190e8cae42cb65e639aee83d71d9f78c4dc0',\n",
       " 'e25748c65fb3bd1bbdb71e1a074d2a6173e5081a',\n",
       " 'dad72c9c3422ef1c9b9149e8dd567de494d46a8a',\n",
       " '0e88d4fb23740a8d59ec3b36256db8f99231929d',\n",
       " 'c0e2a35c4d40c977d928949d069328281dd394c9',\n",
       " '751ffc336c6d7846e4d9018ad8ad6234e06056ed',\n",
       " 'ddf2188ff710d883c2e8c00aaed33cc460b34160',\n",
       " '11b467c41fc22d9ef4ddd4a4a67bfcbde425beea',\n",
       " '4eb512e8b51929e92cae935e6355b1b571e9e7b0',\n",
       " '869e5025eaad1ecffecafbe7fef335dca8661964',\n",
       " '2fef395624ecfc1747991a5cb4b9b2282aeac208',\n",
       " 'ba3522d00ecebd159c5b5dc90119df8642993c49',\n",
       " '7267644046c69d176e889933002a9c8819751ff8',\n",
       " '4e981f12b911299e88748a7b972ade85c842ea38',\n",
       " 'd9bc72dcb21981faa5504ca0b2d670013d61dfdf',\n",
       " '24c739b85e7c9082d00e9680cf7a99070c427d55',\n",
       " '6eb0faeda9396efaf96674c33b40395012a01e0a',\n",
       " 'cccc6d4345633099ad5574b4bbe23727e0e5edd0',\n",
       " '5d48afb4ea92f863786028c6de5225d25a8144c9',\n",
       " '58a9c23ad5702fdc007f682342e3a77fe5516a8f',\n",
       " '1bd2f6497996fc0fccd8dffd7f84846d3d36f964',\n",
       " 'cde903001c25e2e1da0870eb9e40573e9fd8c424',\n",
       " 'ddba9808c2e5a41e0a27996ff5b59e4c09ae159a',\n",
       " '65bb23e5e0c90ac6d7c365f0d0f79e35b91c803f',\n",
       " '242c45037a932923b21e94b1f3be6f8c3e5579bd',\n",
       " '6a45024a424c3a6f8c31fd16d57756a34992b495',\n",
       " 'adb6ef77396a14265ecb8d3a6f085fb4b644bf34',\n",
       " '2a3cf61ff7cf0ba8a72cc4b1d8f297441dcea911',\n",
       " 'e338b95dc7ea1a75d88399ecf9f638d3c31b67a8',\n",
       " '01a67ebcdff08c33e7cda01649297647dc170ae4',\n",
       " '3681d4a779b248ead8c5e7517ce9d542e91d843a',\n",
       " '76d2a690120b972075f49370c5b27aaa61763df2',\n",
       " '2747330a4eca3fc78e67be4fbf4eb5d127d33e73',\n",
       " '119f62415e2acfe16087cfde48f3ed7b3d145703',\n",
       " '8d88a7096820fcfb637b56b5563868c866ec692c',\n",
       " 'ec4a332b863ec8c1bbf94d605b17c67acddf0889',\n",
       " 'f059cb5b8e364ac854af783fd8c0ada82452ba83',\n",
       " '38db3b3d3d82b08a9d95490fd0871d04d7001efe',\n",
       " '795e53a63175f420259c91b2d6b277ed0691b9c9',\n",
       " 'faa78016d43607a624a3a9fb22c2267c28f7ca43',\n",
       " '878c083d8dba57f1ac98843585ab42fe5efd2980',\n",
       " 'befd47f9dd7e050dcd46f483ca8e7bd902f4707f',\n",
       " '0e5a0ea9adb65bfebb23916c9d77c4b38680d36e',\n",
       " '40b1e938710764eab74f1bdadba1b75f2f7e480c',\n",
       " '90a4e8d4193ed15f515b6837fc9c92b8344896cd',\n",
       " 'a2b0f19c4b1270624987ede418ab8da1e8b55cdf',\n",
       " '93aab5344693c6df1630f5dcd54b16ad82d7966a',\n",
       " '962fe9022b7ecbb15c50380673d47716888060d4',\n",
       " '138d4617f4f4984bec9cf2c7540fed533d9e4d6e',\n",
       " 'd5f7332f6dba1d990d54b5887a175e530d144130',\n",
       " '3ca43ade94501268228e5239d1717d4f6333d462',\n",
       " '79f00b710ef36e1f905f7d4ac5328a3ea56c0fc0',\n",
       " 'ba3f924cd173278664082b760dccd4c6ae738436',\n",
       " 'bcd1b9de8035034c15e37289ffebb68f227d70b2',\n",
       " '0a617f5467e92a9a638ee23204247128635e32aa',\n",
       " '3455e9fd57dea013498de20c236c15b7bf19b424',\n",
       " '6574d82bfd73a7138be2a62e222eece43cb6bf7c',\n",
       " 'eb5dcf1546dae050e8aa82aecc2d4b2cc472cbc4',\n",
       " '8d7876047a1709d32140730550bf5c1fa7808378',\n",
       " 'c60392b55a9acde4311257b1693ce0285a922aae',\n",
       " '1f1bfc20d5fa1896482283874f8b7971e51426ec',\n",
       " '86db8aa209550ebe1e807a42ec268087be6ce826',\n",
       " '3f0df8f8017cbe949add8bb74b4afb0597e54330',\n",
       " 'da0ac5ca59cccd00e9de165b34d835f4446f5f58',\n",
       " 'e776077dcfd93e49990ea94ab5f67e0c02cd3fca',\n",
       " '9f63dea0f76ee477d2e8e5209d40179db431ab1d',\n",
       " '2f45403508d925c6fd337bd53f0842e1340a6fcd',\n",
       " '440505bd6ffa90117eeaddd0b4d31f0020715233',\n",
       " '0ace222a6c33986dfe57d3f24779fe5f674724c7',\n",
       " 'c7f5828ffb5dbc51bda8427bc64056b6eeb1afb0',\n",
       " '4090d8537051fae501355bc567dc2dec620762eb',\n",
       " '61baa9b1ae842b28e3e7aa90a3e8034d96ba9aa9',\n",
       " '8a5683da7753722f586dbd2a388397d908dcd8dd',\n",
       " '4235f9c6e84312765672dd1b422ce68772ff2408',\n",
       " '7a0108c70d3af86c64911d951b82ec9b1bda2818',\n",
       " '381038319b9bd8397d76640dd52e646976107a36',\n",
       " 'e833e12d4fb0a4ac62b2a2397747bd7fe2c5d733',\n",
       " '353852971069ad5794445e5c1ab6077ce23da75d',\n",
       " '8623670915cd6b73a6577622d733d56d69528c75',\n",
       " '586cc97876444b5ebac56140971f4ce8ed3007d5',\n",
       " 'f08c7adb093a127e8f71dd85385e2d8bc95ddd17',\n",
       " '778543806bc7ebe5596c085cf9a0421d0c0a1a2f',\n",
       " 'f5fb2153b992cdc2d4bdb3678e667126c9a27689',\n",
       " '5dc4268a42adf3d5c55c87b7f6518de600b057c5',\n",
       " 'cf6f9b9df745bcf3f8857dc2322c7ae7803b09ef',\n",
       " 'd09cf8292da2fff474aa67b603531c8900235c3e',\n",
       " 'bd2f7613f5818fc82f76c7d68bdac08825957fb9',\n",
       " '483dd65eb6b06ffb4f69b0da8e3a1f9ea1a92fb0',\n",
       " 'd7a7b192c1b103a6969745eab82e370383539573',\n",
       " '2fac2663c1643fe03479ddfc4122ec63bf269803',\n",
       " '2285a9061ef4e005c64397576f72dbc14824966e',\n",
       " 'f849d3e71f4d2eae8a1e39802195bc9c06fc30ae',\n",
       " '82668d5d3289aa6a8a1348e5b52d344809bcd5e6',\n",
       " '5adf1ce218579cf9f0f919c778c05bf0f864c1a5',\n",
       " 'd5a4d0cd6846bf609769f3274a5cbf22b11b14a5',\n",
       " '283e32b6190b8c6183e0f5cbfae20c01d7df035c',\n",
       " '110f1d8e7cfc045022c195d0025270b51e027d15',\n",
       " 'f6413370029bc8c6ae7df194c50821d80c03598e',\n",
       " '8f52b78e1c88e4caa3daf5a09d9723b11e4bd113',\n",
       " 'b858c3fad34771ddf43961b1f93f3ca82f38ae2b',\n",
       " '7d102f0d9bd25cf5ac225ae0312a2f6c66f4b9a5',\n",
       " '6e0d5cb338ea8a2916c74b3b06789d3b21ac36a4',\n",
       " '6dba5abd850a3eed2e6bcd1116d3959faf6e4c8c',\n",
       " 'dce3223bc1e440db905bf6f30f067623fdf0d954',\n",
       " '1f33cc82e136a1cc89b2382e6fcc6ae520e364ab',\n",
       " '36469337a42a7feb9bdefa958b364d2e269ec2ae',\n",
       " '56d13b6ae2f8569d1540069238878affe78ebf67',\n",
       " 'e8ce3bfb5998240ec5c139c3874e426f55ca82f5',\n",
       " 'ac8d2e900ee0c6d713d153782a530ddee6d606aa',\n",
       " '2ab24bbc71562ee67437db9fee7f83edb40f4de9',\n",
       " '1cd621a792bc7ac02d4cdf0392ffc3feded13b0e',\n",
       " '6493e6374b1ab79aef927ea66a239463386d5109',\n",
       " '498c5814ddb98bb877b80e1b0ba51015f4fcb270',\n",
       " '9b4169c1ace45a318ef354affcb9b466feed7e74',\n",
       " '93f01a5442558daf0e294decc76d6f302e74a141',\n",
       " '7b2af34d3c65cc3eda82560616c424a447139709',\n",
       " '849323d550c05b7686a3ce258800f42fbd5f46be',\n",
       " '5fe161cec1e62818c325d515ec8a2a93af178cfd',\n",
       " '1a6aea516a8e2d848685704f39a0a00b74eef125',\n",
       " '4491bb88635bf0a02fd1e0475f98dcb23d9b5a2b',\n",
       " '2f8012db8f2100bb1876e19722d6c131849e2315',\n",
       " 'd5e52547df25abfc489429e1cd693f5c70876de9',\n",
       " '127f7406694d56170ba96532e59ac976280c98e5',\n",
       " '442483b51febb0ef0cedea0d4283da1cb8c7ec01',\n",
       " '8016c07acf423bde29ea3e2742fb37286a9b013a',\n",
       " '791bb7fd75fdeed7781334dfb35f216bcea492df',\n",
       " '31765f424318a1efd7be41fb311e54bcc00541d3',\n",
       " '7b430982b2fc7bb7b3e56ad2b58bb42a431985f6',\n",
       " 'ce0425b48e9b111a10f612fc562a2cd316633c15',\n",
       " '1a8436e348051d8046fcd0a558a8225470b6a8c7',\n",
       " 'bf5c0b8c4f555f2af2ff41bc32faeb9c991dcafa',\n",
       " 'c14ce2c27ca770924c1ca4a4fef0fa5b532f73c1',\n",
       " '8a528b9ecf07da488937d1409d1e241008a3368a',\n",
       " '9dd55fd0a85ac293d72b4c64589532f28d2a6962',\n",
       " '8b2141d00757fe30e235fc16fecc7106c96b3088',\n",
       " '692d370e0aea122b6c4b92aae68b24e3d22256c5',\n",
       " 'dedc4700c705e92f673764ae9959fac57f1e2e7b',\n",
       " '9a4eb1665b578ba6744d7c2a62775379f6fcfc00',\n",
       " '6c14b49e6ccbcc14e900547423e3bc591d3c41dc',\n",
       " '35be4bfe3809797eb672c5f54b37d3cbd996db74',\n",
       " '7bc929ab19e608e85e901dd0e3fe014ec8761a60',\n",
       " '59c41eef8e1d079fc6d1de1cf07cd989c8456d1c',\n",
       " 'bdd02ec997b0ccc041c819c3ee95affbcfded0fc',\n",
       " 'a1eecd9b658fbc0cd37c471c36a479e2cc353e38',\n",
       " '0365f0fffc3259273aeaef1026c85131f3390448',\n",
       " 'e194924017ffd82f926955f23ca6e30ef772b6de',\n",
       " '4855be64a5e7637134abdef26487801074cc62e3',\n",
       " 'd85d142716f7f85cd27b54fc38a9e2968cf14346',\n",
       " '0a19aacc124c9c42d66d481a9d0c837a76a252e6',\n",
       " '4cb9c6ef889605b3149ab8b59c8258074067ba04',\n",
       " '370ad225264134d7b3fcabc6e19e5862026525ab',\n",
       " '750eb3af6059e879b20beac9fb982f85332dd552',\n",
       " '1d613eb26d86e376a5f8cb5fdb673b7254110936',\n",
       " 'c825a4d277f3300983a01b6961865b8377e87cf0',\n",
       " 'ac29d39e0b59cf2d1469af974756f5efbf3c26dd',\n",
       " '5faef288fa2cd3e02a6d12b9e09912decde1032c',\n",
       " 'ecea1d9607209bfcf32da251f53136e7f5c12f3e',\n",
       " 'b92f186eac785ef058a89c4aa5a668b302a1c932',\n",
       " 'a36b237ef765813aededf3d7643a79e8de555106',\n",
       " 'e9304fa14f5ca2e5589a0354f83cda4a172463c2',\n",
       " '9e881f35d3222748d7c2cb9a2a8b9b0d99246564',\n",
       " 'eb018f450fa6903ccf3c0c151b24a814ee81fd55',\n",
       " 'bdda4bba7ea376d1c23c3704fc09680015cb111c',\n",
       " 'd5772ae858256cb8d44805aff6e26800c6868eb4',\n",
       " 'd657cc5e24009f5081425da4d8c3b6467b85df1d',\n",
       " 'c4d8572e1178f29b8aae42bdd25e752165ef8f69',\n",
       " '1936c52119861b05b006d6ccf7d32e9059ebfe5e',\n",
       " 'fcae60dc1a37f467c1d95884787e1e3283dc769e',\n",
       " 'ee39a598ee0002f0772c0f3d3d4cce472dd61ca2',\n",
       " 'c2fb6867057dd0152657070fde0a4ab564d375c2',\n",
       " '24c1019ec7fae9b5990dff2a375859092ba7123a',\n",
       " 'c77304ebab5efc8f6d8af8b9a04e8614882523e9',\n",
       " 'c0c443a48257c150eb3e2437ecd2cc60c792a107',\n",
       " 'c1e30136a93f8a9206a347dd53af20dd91f98e92',\n",
       " '9b572b4daa4221f13d85bf260ceefe285cf878c2',\n",
       " '3ca41eba26adc5422815f1d8043e76b406e747bd',\n",
       " 'c82205e91bbd1135020b4fdf0d9df2654c66650a',\n",
       " '3c32d329efdcc9bd98f5abd5411d2824948e7b35',\n",
       " '0638a299934da797243f6f35a516e172a38466a4',\n",
       " 'f53ee0aa846865d02ddf6b4fd18b0ef2ad51fa68',\n",
       " 'b19500b86a4f5899691c139db8e640ef3a976abb',\n",
       " '68ac63121bded12e1db3178a0c9b050154f81ab8',\n",
       " '78e17a104e6974cb01f894b2578534998e647bc5',\n",
       " '75d78749fe0ededfadc860e8c5eb8562ddcc45f3',\n",
       " '0d929daefa6aa5af6d1f4e049a53e884b51f3650',\n",
       " '0dbe4d649872b1ecd33637cf4bcdeca805d2b714',\n",
       " '27a384d0c39976636013345ad762f2ccf4fc1f10',\n",
       " 'd4f4ca21b787bb6a090b859a21aade4e7a0fb633',\n",
       " '0c2c9843d300150c32c42c751ae5832267bdc5e1',\n",
       " '20a514f4c66e47b35d2fed043146ac22ad71dbaa',\n",
       " '8eef6fec694446e150e95dfbef3a3579ae8806d3',\n",
       " '899528284019b6c75b5e90fdc9a3956ac7a94eb2',\n",
       " 'afdf4694fcff27644d397ebc85d0a61ed809fa9e',\n",
       " 'cf285d7726af717711e8e4acedbd93f5d3e00c7e',\n",
       " 'b4880f58c3aa402dbac07ae581fee25703aafcb5',\n",
       " '118d16b3829c6880298058627442bdc06591be6e',\n",
       " 'bd1a86a6c01513ed0b1cf8fc1590cf5962111f98',\n",
       " 'ff65e36452a845d53d1bf494cdfc5f262dfdf29b',\n",
       " 'fc3bce122003ef28564d0dfaec7bd5771cfa4bff',\n",
       " '1766a9d5945897581c80f83276cc723c77e3798d',\n",
       " '18a8af7a7be62a2ccc66a4f65c94ac94bf2f8639',\n",
       " 'f6c72b0d5522ce852bc2aeb711ab57fb75b3489a',\n",
       " '30cdc5454f2ddceba7ba4c251dcc4b1731fb87d7',\n",
       " '644eaa288c6117418948da9091989043c509e570',\n",
       " '8b221945f093d8d13835556a56c2a1d8f02e2705',\n",
       " '1db7695061f60ea4fa02c2ad7df592dc904c9e17',\n",
       " '46decd956d74e9db8e5c0f023b554015a7d8f0af',\n",
       " '50c1901ebf4db31816c88cc4c2512ca0261730fb',\n",
       " 'c3bcae4e00c1244d63784b678740cfe2545a0870',\n",
       " '532dc582abd41e833303742ca40976db63fe6fc1',\n",
       " 'f2d38da952953f1321f5effb9bd87fb0dab679d9',\n",
       " 'f9d941d30a663db32ceabe367cf36b6f3c2c744c',\n",
       " '50e9a2649e38d10b9359b5dceb6e1197f56dc476',\n",
       " 'c7482fd487c4a1a40e25b393ba04466922d434b1',\n",
       " 'e8c2bc95762a2aefd919b02ae90131bc67716140',\n",
       " 'ecfb3c3040888f2ce3fffad5624f86bb261c7096',\n",
       " '226108186ae7cc147780e134abca966617fdd243',\n",
       " 'b45eb2cb079ef2489165f86686645b88c2bac2bb',\n",
       " '203444a1f13dc82f6e5116d1c62eea44e1e5198f',\n",
       " 'ea5d20e07d05c8b241f90e6429f3daaacc844ecd',\n",
       " '41743a48f1acec724d627f76e02e85137debc076',\n",
       " '4dcde213ebf72aff0935b2714faf7fd691736c5e',\n",
       " '97027e08cb413795cf19064338efd049fe5d491b',\n",
       " '08a3e8af143f9b97a9ba5220f0de0fe0ae1bba06',\n",
       " 'adeb3d4a3dd9d33b0c5f15323ddbb9d6f1370aa3',\n",
       " 'e0d9cf8d4a2ffadd021ee90851ddf9f0c37738ed',\n",
       " 'ac37ba61c91bb6939a507dbf4efe2119ddafeb9c',\n",
       " '3ef6e6e952b66be4c95401c58c1ca45254fadc82',\n",
       " '4c8bac1e65d1fd2effec0b45c143a97cef99aebd',\n",
       " '584b672339598376f9cd7222d02151b25c18a9ea',\n",
       " 'e3f8a927d16b29f381241e2ecca7bc13f048550c',\n",
       " '747868835446fad8f43fbffd79f057023d50cf98',\n",
       " '5d9e52011787ca962e5391dd027c6641a37f9cba',\n",
       " 'd18a60b16db8129a14683368ef6be0ff66e36cd9',\n",
       " 'bbb4038e28cab7e031d4a60ee4501989aef467aa',\n",
       " '3178ce8195f3f42963e3bf058ef3932ee9743cb9',\n",
       " '0bc69cf4c0bb5adcc8ec0797489ca9daf3dcfc69',\n",
       " 'da0342ac2f74af964ce1a72731bfec7d7d0a483e',\n",
       " '6566db587556ce7228eca39ac94dbf4a4b4dbd6c',\n",
       " '75cc9a3d0d2fc4baea735c4090944046019c8d39',\n",
       " '6091444b4f7495b1b4cb0c72b6f30da73ccf867d',\n",
       " 'd435442cd87022ada554fd62a55e38ade2eeb35f',\n",
       " 'e3d6916ac31d4594aa431c771487f34277504b8d',\n",
       " '52194e8281940254cc935191779fbd75c31b2875',\n",
       " '24ff3659d783f4ae055ca1580b01d7f1ca36b9ab',\n",
       " 'a78b5afb95ea148ea0b55b1f0155bcfd82638e5c',\n",
       " 'a9a4101b25236a4fc0e14a9cbdd904ca8b2baffd',\n",
       " 'be1fdb41126471a57aaf40faf017bfa94cbfdb28',\n",
       " '253d52a717629685ceadeab5430aedaaaee99566',\n",
       " 'f27b96eea603d6abadace2bf53ae4cbec1369eb3',\n",
       " 'bfc788fc09e582f57d79645b919b28f522cf4fb8',\n",
       " '78fa8b05073ecba09e455117590b9a97bcd1f3ef',\n",
       " 'c23d0e5107a2764e299a147d41a8c76ce91c231d',\n",
       " 'c54a60bad3d8663eaef03c69a465f0cf619429fd',\n",
       " '48f7616ac0756fa4bcdb79fef569643b929b108e',\n",
       " '8e6ef0f551beb549a3e0d523f5b1472cd11110f4',\n",
       " 'b79db3d6eca01b53a667d32ce59b3f33b40a81ae',\n",
       " '3888fc7029c2975318f184e5922a2d234e76cb8d',\n",
       " 'b237ce82d4760a515d2b8d7267e582cd9283d426',\n",
       " '02974b9466bf593193d05ada669d7ff0567bb657',\n",
       " '7ee80965aff1a676d9462439bfe3ef88fbbe5982',\n",
       " '1d12dd4d9f7317225b46d7be01e997332051c527',\n",
       " 'e87d436d32199acf0b99a4ebbabf654f76af2e44',\n",
       " 'df9639ce535332cea4ac239347f2ee621f0b73f8',\n",
       " 'b41638f869301e2af9eef7913301d55516fcf4ce',\n",
       " 'b9813b3096f02bf382cd6cea374e7f24b0c93abf',\n",
       " '311345eef7b2f35d1ae56168cb95bed074648925',\n",
       " '140cdf5d99f486ccd0346d07cad3fa66b2567c42',\n",
       " 'f6a48fbd732028270b1efd2d60c6d795a36ee6dd',\n",
       " '3f893c8176209b798e129adac6c6ce6b17631a27',\n",
       " 'cce799da8d05a008416755970e7f4361e948fed7',\n",
       " '109ac576c495ec3c3f4366c6f0f31d69e9b60dee',\n",
       " '2181d8b3314b4df9e8419a4387efd56027b841d6',\n",
       " '91758e8808c68b3e5319a9a2b58ddf0c676bc5c2',\n",
       " '89d144081894a40f61f156c794e0ec60b3d2e876',\n",
       " '670ef52bc9d875ae6086b6b76d739fe85652ab6c',\n",
       " '17c30925f6e62319c5049126e8fddbc1410e9983',\n",
       " '77f331c73a874a86f6109346c3b798593b75fa5e',\n",
       " '176274e5fb44083ebc8c91d87e013d624533c7f6',\n",
       " '37894de51fed87b7b8b323f9ca56cdabdc164a94',\n",
       " 'db686f8dfda7f08182906e102e19f36128505c77',\n",
       " '1329ea9b040bdc8af7c30f7ba4b5755e352deae8',\n",
       " 'ba3179ae7ea6877b7b76e048959e97cc0012f5fc',\n",
       " '3c568d47a1d134908dc09e454a5a52655d3a9434',\n",
       " 'ba29366173f97f54a22e5c410b3d05e9a9649d28',\n",
       " 'd722c9f9e012a2517e6c2d2eaae709b4893b930e',\n",
       " '16a4b3acbf0f8aeecd2156786377cbe85bd648aa',\n",
       " '3ec8d7b955cb1e0499606195775efedfafac48a7',\n",
       " '8016aa2f0efab40abf2808f30e2723aaa9222dbf',\n",
       " '26fec23192bed03196a134abb20b8b197a2acc42',\n",
       " 'f898cf4050bf5a2b1bf84b2954938c671df2d89e',\n",
       " '105379aa88346392c0fb179ae411fc228784990b',\n",
       " 'beb38f99a59fa3129e34eadfc28c9d46438ec820',\n",
       " 'a8ef9241679c4b547561a7512a173515abfc6f77',\n",
       " '8372200a0a5a24d19771c584a403e2b4281eddfb',\n",
       " '97f0a7e6ca8d48ac37eb4bf5c1aa47f9ab80ffd6',\n",
       " 'b64592cff2ff0f9aeb6646327245936a4dc8bdf2',\n",
       " '5148320311832c95cb1c8b4fa32569e5a7945ff9',\n",
       " '956c14bf0fee36c86e12851b3195d6bcd1b6a141',\n",
       " '335f41145ff784047aa5a0ae829be50613c65038',\n",
       " 'f2d2d359d70d3109bbd998e88114fc4afa6135bf',\n",
       " 'c011219f5dd677b4dfa1842539501bb1d1e01f0f',\n",
       " 'abf7526308d07bb5fd96d27c8a21bdabf1622914',\n",
       " '548e130322d8a5c00999baa2ee66df6244e6a2b4',\n",
       " '37e17a2bab698f8850dc89f7689eda93502821fb',\n",
       " 'f98620ed2999ecd1b74035ecdac538572d30771b',\n",
       " '91d05ee767e5582b61781844a76f08951ce43501',\n",
       " '83893cafe53fc26b47974495bb1cd9511f34fecc',\n",
       " '8b2d340ec310542eb706f2569b0a4f0e1871e42c',\n",
       " '403bb1d39bfd4ac8f7a8014cc772d27cc5e34115',\n",
       " '736d5109d55feed08b21d5b95eff52f2e50eea59',\n",
       " '10ccf193082fb8532e96668e57e64ce83e49f06e',\n",
       " 'c5ab148072ef7abaecc05e3837748e0710e24f6e',\n",
       " 'c13ccb96d5082729569404040c8e4a3d4e545203',\n",
       " '950f1934937fa206c30ebb00594fc02cee026bb7',\n",
       " '7e312dac8268e55c91df2df2fac9ab805bb6f207',\n",
       " '5c31897d01f3edc7f58a0f03fceec2373fcfdc3d',\n",
       " 'bc7589d2740163d5b95ae28880b8cd38fdcd9a0b',\n",
       " 'e6101d200a980bb2dbc327768fdd5acfb02a49e7',\n",
       " '51a2dad6387cc9aa3f9d5d73c83f1df8b4ba021d',\n",
       " '8baba2afe8dd478ae1d7ed13b666098aa3bfb623',\n",
       " '4a7e283daf71f03797f7b332026361c84accabaa',\n",
       " '693fc4ef493a14cc28598b0cc1b52bde6f184d9e',\n",
       " '4c9ad1a2079bbbbdadea249d0b069067bf74e951',\n",
       " '0b812694f1a51b99b25c0a7933230ced2eb0feef',\n",
       " '362ff59c268fdb40d5a9689c370beca4f2a16d66',\n",
       " 'c8e940f25e802de4fb2abd917b76b8dffc5a23ae',\n",
       " 'e9c9b0ae161292a02df40687664ee8175e6c7468',\n",
       " 'd2727abafe0e60a9f3d42f5d07d19f832636e47b',\n",
       " '9984d00caafab39f1c5673c4f7cc53fbddf0b8e9',\n",
       " '4ee96f6aac6fca0322723018570c5979bab6b017',\n",
       " '136a52d8100f85d1baa7976838bfcace2b6c08d7',\n",
       " 'f0a81ef5904f18f92f59b48bb0b7bb6ec7f1c2a8',\n",
       " 'ccdbd5431930f6aac18712e585eb5158508c2a91',\n",
       " 'deea74c59b21622d228c43adea5340e8a2447081',\n",
       " '2ea9c457b5f33101f1f6c72213806ab1e790e8cb',\n",
       " '230b07719bf94b403d32eb58d41f6d4782e069a5',\n",
       " '0f6fac5e86a7b2905e078004092fefce1acb4bfb',\n",
       " 'db92a9cee0d0ae29de92ca986788b97010a3fbb5',\n",
       " 'e5adf7aca5308543613d1f966616c2fbec18ec21',\n",
       " 'f18b52b261e05b501a769dad6328d8dfe9ac4e84',\n",
       " 'd80b601453836f7cec83e253eba417098c96cd28',\n",
       " '9cf43ad7346d9099015ee0545e0b3498c10213b4',\n",
       " 'd02d0f21741ea920934c91f9cc92e0da83a72b87',\n",
       " 'f186944f45fec6916b431f95cb84275037b6d717',\n",
       " '2f3f3fc88a1b21cfb6c1e38e5cd61b856e6caab8',\n",
       " '1fc650db3448c38d83fbe7cdd07db4f45dda9223',\n",
       " '3dfa916237b9663c3b6f17604d5e970bc4053898',\n",
       " 'c7bed5de7f3b0420a20453a9393ce3b50fffef6e',\n",
       " '501253691503b00c9dbf6a9bb1c04169a3b7b33b',\n",
       " '8e29fa03ad2ae833e99f41652cc543877d415c44',\n",
       " 'c1f8df65b2c0cc3ead7d7bcf94732cc68b472e64',\n",
       " '4ed2b0198011b3339c4330a0c72168932bbfc863',\n",
       " 'cec09e3b5beea8a13cd359b3aa53e5ee0d40b969',\n",
       " '958b1090ed34b9c6a01509f231126df1ae831b75',\n",
       " '8b78861684f93b6c17ed9e9d18027cfc12c41644',\n",
       " '70b51615329fe89b718e0df871d649b989586b05',\n",
       " '1dbdb89edb0d40d542d73c57024777330ed16f55',\n",
       " '3b6d953fa2770589cb1f699047f2d94990cfa4ad',\n",
       " '019760388ec5fa9151add6cfe32178deda5433eb',\n",
       " '8ceeda57bcfaddff726b0c80f499eeb941fe81f9',\n",
       " '16d8e4bc11bda42b815d14c8f4fee9f6d10da8f8',\n",
       " 'cc66ac23fd5a72e5bf95bad4be77eb93527562d9',\n",
       " '2af5138b56227763df71c897d6ffab1ee131c32e',\n",
       " 'e4378403c2941d85c9c86adb59b8f0082646129b',\n",
       " 'f880418303ca5f21c858eca97f076216919bb4b5',\n",
       " '69f831364cfb2aeccc57bf2e48d7819794ceb5e4',\n",
       " '24c20b8ab487acad45bb797b2ae0a2a910b31043',\n",
       " '6ff8826ca04c185f3a88ab4b0d5a912aea4ab1a6',\n",
       " 'aa1277a24d5df77f6db4d03b80612b91224c5604',\n",
       " '648294ddaa0f2eacd9f760b458b023827f398045',\n",
       " '82b043ec316b0bfb8350d65b09f6028d4ea9e564',\n",
       " '51322b542c607391bab941c674975450dd33dd38',\n",
       " 'd31c8c30c1aaad525d6a1714296376a091414e5e',\n",
       " '734680f31840d5a79216db3115568a20c8f5fe20',\n",
       " 'c09a602a62f8976f5772470145fd98f2abfa1236',\n",
       " '83d82d42b92c964ba7bd7bd9f456a16c9d3cbaaf',\n",
       " 'f294102f799f81ac9cda375e8ea273cf5912b772',\n",
       " '92b400ef5499c8b04972861e4844d90cb0610474',\n",
       " 'afc17f2e1e1517681a668f05f190a7d4dd58ff9e',\n",
       " 'b62576b1566e272b3f29f8a16ae06c1ec363707f',\n",
       " '0a6d3a2d7197b1d4ac24d24f2f154b5fa583f230',\n",
       " '995d2bb3b94e40338961672f61cd66b6893763df',\n",
       " '1fb6c0cd83b966fe0f4a4d0a960425cd38306a54',\n",
       " '81ad5452b6cb0ceb6a91c8da2cc2b6b4bfcd8326',\n",
       " '668d738d46daa0b1a2a32486746d117add1750f5',\n",
       " '769398f7e7d03582fd05a4fbf322133e4509f5b7',\n",
       " '5ae9d09818e63828c80da0e37f6a5c1a1ccc22e6',\n",
       " '9c168a74dca383f46fc14047b00fc38ecd012826',\n",
       " 'a67012609fad77c2a1dc55f139b044c546cd13a8',\n",
       " 'f0d33bca612ddb67f1029465657ff93c2b1e6e5b',\n",
       " '043008db266bf378f1e1146d8a6524cba7da644f',\n",
       " 'b11f198de26a3035fb312becd5eeac9a25d5f2c1',\n",
       " '6b7c1c5517d7dc49a79939f3ac7539ed5e066674',\n",
       " '12627b91b3942f3727458c1bd4653be6fe30600f',\n",
       " 'a92e70c0a129a56173ef38bf186c1cd7ecfe6d9f',\n",
       " 'e0ccdee546e2568d5fde7d2f21305d91948cb9bc',\n",
       " 'd2d199af80d02aacab575e7cffbc82b19b708040',\n",
       " '6ab55fd404dc1987435bb3fd1b1a7d02c0951f08',\n",
       " '60a342d1b18b2059aa722f46cc9f8b9770b6919c',\n",
       " 'ee5ee45366753b52ea76058be790ec3e611f8cbb',\n",
       " '522da4df2c31909547ac81763ad28d318fdb88e6',\n",
       " 'bc7219efb063d1c0aa002e536f9503f999fbcb42',\n",
       " '195f3013f0ab6b1a3413a7424bf5ed1f24a4218f',\n",
       " '90f3ae265d116ec552de05e4d16d86b04a47b357',\n",
       " '50f42123b5035f840369d0ff88cc55263a1394b7',\n",
       " '81a11c6680ce725535704809655d945cd1d4a088',\n",
       " '7ade2824ccb1bdf7839a51ca3622c291e5663ac6',\n",
       " '2068afc018b995910ee71c91eec83c3d90b80f0e',\n",
       " '695abb67710c45651031cfddd591559c1a771015',\n",
       " '6d28097d6542b0b34f34ca4d2359856cc461b5f5',\n",
       " 'f0a79b29facecbda554b79c26b92fffe616ca648',\n",
       " '894a03c99fc695b7a1bcdae987a2495c1edc321f',\n",
       " '5e1532b05d5b91301c284337ba1a4d0fab32ab28',\n",
       " '63495fd69b9b1e72e551e992d16552853cb5aee0',\n",
       " '87be5496d8834f90eab07a64b14b09105a2a7a5e',\n",
       " 'ce5413279fdc8bb3d13af1147e9f282c1bd049ee',\n",
       " '7d77a852039f1cfc2c13843ecfa721c1fe49528c',\n",
       " '54f41e920ee2d14bdd27c4811a41fd0eb22a1d5b',\n",
       " 'fa01c29dbfecae6c944aa503f98b30db9b7dea79',\n",
       " '5ab92ddf1bb39b6863b28e2e9946415f7a5adf34',\n",
       " '68081e6d2768743855003f159baf5cb7ab59087d',\n",
       " '7fedd1176b41cfd4cc01538305f91439304abee7',\n",
       " 'c8cf3d83ec81e885443131f63ef86495d98b9dd6',\n",
       " '4d1696e014e57ca335e9fe116840afda273d2ba9',\n",
       " 'd09bd265b653ad43903ab17eedc773af56aef932',\n",
       " '9701a8c529cd8c18124da4cd61c1165a64b50281',\n",
       " 'a9be3897c30e4a416d00398d86a623fc3d9faab5',\n",
       " 'b3711415342979b9ac1ec01e2b2142f65b3a10d8',\n",
       " '2fd5063d5a44dcd6609d76cdd65a5552284e0dc3',\n",
       " '9ef3e1ca242767cf549d414959705a903f31fa4b',\n",
       " 'fbabb5fb318eb82681d448718a79bc44f11a7643',\n",
       " '04dc6d9c1e3f28e2b57934301593cf3da58b9935',\n",
       " 'b0117852218c4404e51fdefa66d21addc415d039',\n",
       " '386c21f11ae0c9199c26218e334373932f3fa0c0',\n",
       " 'f0f627b8e856fdf97cf414ac42f3536ff1a33134',\n",
       " '6101fcc0282d2e355b5e094de10aafaa05e749c6',\n",
       " 'd66311a0656685a7a39bd82b24ac3cb16c17ecfa',\n",
       " 'a08ed18c73c6448f107ffb5a95eb7ef61f3450a1',\n",
       " '988eb76f99bdb20992a35c3e9e5bdcd5105d58e5',\n",
       " '2738ed5788b2eb1a42164c7ddff227105d5ae617',\n",
       " 'b801b7f92cff2155d98f0e3404229c67b60e2f9f',\n",
       " '2d037fb63487bc90d12106c4708689c565081d04',\n",
       " 'eca703cf43ad5b44614dbb7fcccfa2896201711c',\n",
       " '9e77a7d043deba03e975acf026d76b82fdd7e3b6',\n",
       " '85fe4d02c970252bd374d09ceb879165c7f6e8f6',\n",
       " '902ec7158906ac390bdc04cd55350a12c8a39281',\n",
       " '547a2a7312920c1e47993ce4df580bfb8b0ce588',\n",
       " '587e11d9868ac5731428c8ea73f11827d63382f3',\n",
       " '62c9069eef665066e355debf3d6e274f5ecd023b',\n",
       " '1369823dbf5f34fd8e2f5d5bba470711dfca4032',\n",
       " '25c35b5bbe6a1a4ee57d6e29f9b697324e74e86c',\n",
       " '4f5e61016cc163004558e810c9a86210bd8da5ae',\n",
       " '8ef53001824bab46d02f6968b8ee1a148a7406d9',\n",
       " '9becd2019e0ff5052d47d3d23201cc521375cb03',\n",
       " 'a5e53acce9f0017436d1e5289a54398f0741dce6',\n",
       " '806ed4b573bb13a6b02a788317786e7f0153272d',\n",
       " 'ec0a66b8b227c1a0ced88608d544e3b98120d557',\n",
       " '608dd9de58dd358aa92b8032a45877badf9a69ed',\n",
       " 'c99cdc324f00e9d9c228432731214d3b9cc6f7ee',\n",
       " '001916486b2012ccc611fe18d4763f9e81517cbb',\n",
       " '1626ffb1fa8e2dee8b77761c0cadcd5dca957114',\n",
       " '808bef2a2f0f58c1b1573cbf95f12a655311b45a',\n",
       " '1ccf19a7957dd88ddcce92605007ad16f26d28ed',\n",
       " '2bf64a4c4277515f803e7f9ded51954a11ed6494',\n",
       " '6dcfb4eedcd905b10e2a3ea32ce6afa25fb3a3ea',\n",
       " '954d000b2e7252ffb05812341a6436d3d784494a',\n",
       " 'a2d7c5fc05284d7176ae30fd6fe4967cdc111f10',\n",
       " '58fe8abb109727266b790a96c73c4457f80e2400',\n",
       " '5a2d0804fc8a4c5d6c661deca4e3150e5cbc77d5',\n",
       " 'dfab08ab790dd73ffd24f0d75e508971fc85de68',\n",
       " 'b61d4d87ea3b4fa2ff058ee867bdac4f15c0cf11',\n",
       " '93185810db7edfb5e3ecab72eee8a1f6b2ecd3f7',\n",
       " '40d07a2b945e582197c4ed95205335036aa0f59b',\n",
       " 'c936ef4688d255c47855066ca55d95f4dfc227e0',\n",
       " '9d61d2b6e1d3f1098f282a528280b90900426736',\n",
       " '31e67053158e68f513214a7a33046b5cc5f26249',\n",
       " '0c4b19d02fd4fad087f3571c64cc5c33dcb5a3fb',\n",
       " '2405ef9633b330bba233f68fa4e6812d155f714f',\n",
       " '3414f68f0f2e1d906ec351e409e6cf7d54649a88',\n",
       " 'd89e75abf6d24fe1591dcfba3820d54bb36f3a6f',\n",
       " 'a6ae0b0a1b76a367c6a95d58052c65b2c5feb850',\n",
       " '76a6114bfdeafa52095b1b06581204c303242e8b',\n",
       " '99f61ec3a18d65b10e7df69531368c3afae01e45',\n",
       " '1d105041da2d3a6e6e16cd0dce1f0a672066d407',\n",
       " '3544b3974fdeb9415092ae530cfc86f81bb30915',\n",
       " '670777b45dae78bb6f9a1b089771e31fb897c10f',\n",
       " '449a30a14d55d5eb735468fac84e2dca5bcf75e4',\n",
       " 'cd7911f796c2f3682a5fcab9becc3b243547a4ee',\n",
       " '3041ba0d88fceebd32a14e0b62b443961a64a82b',\n",
       " '55b183d3b08ab5f079b22df1dbe20c54aecd0e5b',\n",
       " '819902e2222b531ae0a6016763e43618b2988516',\n",
       " 'f49e6e46478825425a0f97dca718e6f5efceb9f9',\n",
       " '2cb852594d508b30697ce1efe0e5bc48efe4e12f',\n",
       " 'c0906ab25c9872b8b349cdf70f9e2bea71e122d6',\n",
       " 'd078065e748bdfbd159a9acb9fcddcbab3b5f084',\n",
       " '6bbe1fdec385f05e1ecc78015597770668fe1a89',\n",
       " '47607c06b9a109c4a5d6f1c51fdc9db107a48bab',\n",
       " 'f7f99b10a8f56b2e0e85885a30ef3e3f3258ce7d',\n",
       " 'ab58ef9490d13c80ad2cc093bf584d17a1e3288c',\n",
       " 'a43c646b7e235bfd28cb68bf8ee44d3218328e1b',\n",
       " '237898ac24bdee989edb832243d04c45d984755c',\n",
       " 'c7d6dd30a24a63898307d3d9e1dd6ca13a6cf9bd',\n",
       " 'c112383dc204e7d830cc2094b2c5637c9d99b7d7',\n",
       " 'af95e2e33f92328584357352ebbe0faa743dc4ab',\n",
       " 'a092e0d69d2667fe623c4183d4c148a4bbbe1d80',\n",
       " '996fc493a4d72390383d242d35515dc8144bb36d',\n",
       " '368676412357dd087fe50eb592eb8d5b034db046',\n",
       " 'd6a325260dac29bfe718f1e57160583cb23b5908',\n",
       " '1be0e0b85312fb2bf7e2f6914fb89dec82ff29d8',\n",
       " 'fa2ab10f1041d2bdf77688448044ce72dfc74eca',\n",
       " '45ba3b5b8fa3bda8382468b68cff5c361b6569e1',\n",
       " '5055a81a32741e8c2d188c49c6e5290a09d615cd',\n",
       " '641ddae8963ac3177731bd9e2095837f2ace30dd',\n",
       " '6fecfe80a5c76339823ebe9f93f69eb8388cc882',\n",
       " 'e91039e88e6ece2d0fc532dac2d6d1cee67b58cb',\n",
       " 'bdb4078604be20be0405079563e3e2ad3353f667',\n",
       " 'e54d7c030edf8736b345a53ad17f7a7b00a74912',\n",
       " '2aac4f808ecf429a389fb473ebd06e44b152db6d',\n",
       " '0596a285261bc529af5a4bea0447bc838f45866f',\n",
       " '3df56c2e76799309cc7bdbc5ef8f968a1569a08c',\n",
       " 'fadb7b83889a6dbd8268e959c2f3812bd74ae5f0',\n",
       " '70bae0f6fbce9a54e7574b4309c5a3ebd1be7133',\n",
       " 'b5cca39555dc0539465de02702e9b001811c570b',\n",
       " '329b4aa757557f56f89d796a0034cd3fe4bf983c',\n",
       " '81b22a5b5989dfc8f57c6d05fd29d3c735785887',\n",
       " '361e12416e0ff49f28521c2dc5fc69934e419910',\n",
       " '19b86cf16403e695203854d598ff4bc4dbfcff86',\n",
       " '67ae131e7daddeb5ae6e0ba2050a8e2760510d1d',\n",
       " 'b3c7cd5491836d0e345797bad2673c79ceaffe67',\n",
       " '943f2beb4d32bce84617c72677a277224b73fd8f',\n",
       " '4f29e78dd106a5a5ce4224736699ffe7b9a9d71c',\n",
       " '9b034efc9d262e8687f1ad7adb78fa7374d3e5ad',\n",
       " '84e3663e6544caf4cac64a937e7e3f6159717c3c',\n",
       " 'ca96f361ba8d99dedbd1421fe735d230e86f7797',\n",
       " '9bc3ac306e397cbdcf5fb08bda4c743d3c845663',\n",
       " 'e6d86dd9fa56d9d01412e3dbd4924881fe58894f',\n",
       " '7203ee00953dc742b847ad2d76e09b3be7ccb151',\n",
       " '4b8c16c6de2bceaeaa79c2e465703045d0064318',\n",
       " '1b5f9fbc074680772e482ba6ee8bebb760497280',\n",
       " '18c87ac63c04723a939961675d43ff749f929e87',\n",
       " '7efffb907dcb780f0ec8c2d1574117193c6aa75e',\n",
       " '95b1f681cfe2bb33c6433b07cd38f0ed3ce3667d',\n",
       " '01c38883adc35308c3fc1a7aff85936e4e6eaf2b',\n",
       " '6e7ccee890e63857a43205195c605c7f164b90c4',\n",
       " '82441199a6d3222ad51244e351b5df2d53aecc0f',\n",
       " '2b32ff14b35f71ce148ca70e0d0669b10d642ae8',\n",
       " 'e1d18533a984250b32398bc1e121abdb2cb05ae7',\n",
       " '6af49373c566eac05d2609e3474e847157cafb3b',\n",
       " '3deb6393bd43f440a69c84da9ed61986b1781d36',\n",
       " '5f8c204d73feaf62ba6caa3be033d007e3134d5a',\n",
       " '810749401200c77f19d5a7950070e0c2d4d2629e',\n",
       " '75e5e406f83b2f0a94abc8cbed71cbb900f9956e',\n",
       " 'dcc4db04a2a7001e0b9931be5648c7f0cc233620',\n",
       " 'f570f099d9ff961e399d29261ccf3b2998cba63e',\n",
       " '4940630ef0d7fedb1071bd36b1290bfa20ad28e7',\n",
       " 'eaca4d1f48201c3ad99d6156490cd6156b1d34b3',\n",
       " 'a04fd2ba5b43c2a74478edc8d69b4743781911dc',\n",
       " 'b52349bc9d96316e3a3868b471c30e7d2207ead1',\n",
       " '92f1c8750d5dd25efcefb0a1cbf66ad87b3abdf1',\n",
       " '16c8b4fe2b6ae40077de377027c4fdf6a27a0744',\n",
       " '7068e2615724c8beaa4e9bffd90c059aa4a96752',\n",
       " '012debf5a240a496518af146ddfc16c958339c2b',\n",
       " '5a85cf34eee367f1a73ac62a05779d4c815dc767',\n",
       " '293d7c403645f198b05221bc927bb9af8ca04042',\n",
       " '5b4118a71d2dc9dae927ebd17ba9dcaa22f57ce2',\n",
       " 'ab98d1b125aa0704e63adef426b27abd32e935f0',\n",
       " 'd86a5350811ae89aa7878812f7e74944362dbf2b',\n",
       " '0f7c4b6a69f7c82ec245cf64dada9150d1e4b831',\n",
       " '8b5b244bede323cc9e2195d9c98c642069b303e2',\n",
       " '9c57f276217c4e3f85b0980157c337e847bca2b6',\n",
       " 'e4522d5cdfc2b4538f73524b4c43bbc6c83c7775',\n",
       " '8cf5055e0ca001204109a5455b58a42aaa79f431',\n",
       " 'd8d17ed0a635b0771ab27b88b15e868759b1dfb2',\n",
       " '0ae08d570fd266cc5c5e7f7f21b52b068f67a505',\n",
       " '7af72db19cf1096560e19d5265dc5783ea8dc2cc',\n",
       " 'bc8c2d0af01971a0eaaff35585d04baa56e9f00e',\n",
       " 'c635d21a8dd780ebae0bfe87fd7ef1d7d717c4ec',\n",
       " 'e13be042b54aa7114d963939242cdbabc78711fa',\n",
       " 'b39580b3bf3af68ed88977c56efdca4d41816b10',\n",
       " '1304ff9ef1cbd2e97a0ee662cebc837da9eb25ca',\n",
       " '7921dddae344003214db8484cb84e7ccae23c42c',\n",
       " '9ffccb5731f62e6c18e8c6b4411204407cc4df1d',\n",
       " 'ea6327597215470d7c489d8bbc7da34fb8f49d1a',\n",
       " 'addfc8917a3c08ae4ecb6520a9a136a6fdea13ea',\n",
       " '93d080273b1f33330243dd140a35ba890ddd2973',\n",
       " '2ce9a3225e5e3bb3b0c5fd62107f93e7d1be1191',\n",
       " 'cfc50a9bd1ee95a96fbed71872961cdb239658da',\n",
       " '9761a7769d24a9c051f0b5327b5db54e9161fef1',\n",
       " '1b8d06f7731cf3cc67c26ea590acdb49c9f4249e',\n",
       " '73ebafc883553f8e00da91624bccf49f0d98b6a1',\n",
       " '89f41c87c8849ce37e609c1010087291a4679a37',\n",
       " 'aa7094234bc71c19d615cc130ca8c2ef98f543a9',\n",
       " '7e4905089dd52ffd586f780d272e2cd951457196',\n",
       " '5c38c4bc23007bce016ab4932053b9cb56d46a51',\n",
       " 'f517779e34858d0ead654a118f04e05e8744f23e',\n",
       " '27f21ae7789e41a6de01554cdae09cb93ef8524f',\n",
       " 'b3faaf79e78e6f6f14093b0181708d4ff76933f9',\n",
       " '9da34b54546112d418aa2b0e1ea55758b456a54c',\n",
       " 'a358b310169064bd8e9358763fdf33c38a2820cd',\n",
       " '2bc42d72f7e8f70aee929da9d80d88eb17051362',\n",
       " 'b44d7d0d6bb8064eaebff55fd9ca353d98050ab2',\n",
       " '40b19e61122433538ff22a68b0f7d4ff4f5d0821',\n",
       " '1ef024725b588f435abcc6c51189d14b223d24fa',\n",
       " '2653807613a9f41dd55b66dcd5d5b551f7e29e9b',\n",
       " '81cfdc6601a05ba9db405a714d3372ea328a2186',\n",
       " '341a9a57e865081e81a9c60b97802773761ce8c4',\n",
       " 'fe2c4dd2b0a96acbdcd6566d94bf227c497995ef',\n",
       " 'b51603b65f40d384c4aa0f11379f0dcc387e46b1',\n",
       " '830267d850fecba497f80f0c51331a397a734a94',\n",
       " '880fac3968f6da39eac919e4e33257d0f0df2989',\n",
       " '02367294fca9464069595ab8c888b068764131e5',\n",
       " '11def60675b38fbb811f2b7a9ad62f5d938c8956',\n",
       " 'b673f5281f550b997d1293829a4c91bed50436d6',\n",
       " '080660f20f078c10524f6186bca263327094acbb',\n",
       " '20d1c063410f32eb59b3f3063d506c4888c80bec',\n",
       " 'ed2de3694f5580ea38f4adf24bd1c8b46862df1f',\n",
       " 'e209784c9a22ca29bf423b8d77359142db053182',\n",
       " '27a14d62ca347172b9c98ccb0aa47d1c08425e4d',\n",
       " '032207023bce7ab4550c38283ac7e2964d3c6561',\n",
       " '85931c154d726d61ef2ab2804a9c42e9d41108f5',\n",
       " '5209b22f39590447aea8e07579381fe7557c5478',\n",
       " 'ae7eb643b9434689092354a21abd88ea9c65926a',\n",
       " 'aeb63d391feee1b548adf8d5a208d70c3ee5c802',\n",
       " 'f74ee87b0db54450d2684da633a56b6f159a6c0b',\n",
       " '83938e7a72820e7de7655d2b9cc7c728e335b1b2',\n",
       " '22f900655ab6120262c7a2f72fbd89d6339825cc',\n",
       " '02daefeae571984ec376e5b992a52bd8803bfe0a',\n",
       " '95b007ba470e7ad2dd648f19ee4e3fd594ea7e48',\n",
       " 'aea1136bae15d1d3b628f228145f6853578f2b55',\n",
       " '8d071131a8b8a464c8adf297083fef4e7bff59c5',\n",
       " '27c6eda0f75c116059fc221888ee52e9ada306f6',\n",
       " '5b4707dbb9908080a2368e45298982ef80cc8c68',\n",
       " '2a1e091e9ed956fa71921a76e014e1694c855d04',\n",
       " '9484af8bce6df5d0a9912a686e44a1db4a381635',\n",
       " '5d8465c31b2ac7f410aa07470c3670362e708307',\n",
       " '894f98dcfe5044e6eeed84e9fd59cc4082e62bb9',\n",
       " 'ed883041a0d3e747865c7854f961ac149cd31690',\n",
       " 'c1722fc1da22b2ccf5565ccf81a1677c2994aeee',\n",
       " '5df930a270c02311fc56c6f6ea09d1f5734b9136',\n",
       " '557a14f4857aab6fa0b5d3b980aa241b113977ba',\n",
       " 'b08591a37f6db5d579f4e875e8326ae408a257bd',\n",
       " 'a99c4b9e539ac13e666430236b3483c72b79154f',\n",
       " 'a164dd0cc0a69d43f195359cf4644e1e236ed12a',\n",
       " '327bc5f754f40be82f7abcd9b95b3ff62a620394',\n",
       " 'bd9abaeae84a3ecea684e6bc7ddc64d4c6bb7cc0',\n",
       " '8e3230d271fea2714dd544af802180200812419d',\n",
       " '2acc399f4f9b801dc473aa2a17693094fb2f187f',\n",
       " '98ebefa9ea63cabfcfac33fb259adf77a19428af',\n",
       " 'cd3ba20c68cb9cb76fee65b00e55fda02c48db1a',\n",
       " '8f962ad62ba3d5af7c52898283c4827ff71a5949',\n",
       " 'efc40fc57c0832923577b3f3fea326be41143765',\n",
       " '8392e17917353d4926592fc0bd9fccc70fbe79af',\n",
       " '3a693a23a7b7c13330611d995ea9d8861203c8b9',\n",
       " '9eec2605140f0856096789a10421729e4ba9d4e5',\n",
       " 'f55d236f93a8d11a6265a8c3fdfaa2c32b3af19b',\n",
       " '7b5e4275ce77db36a189bd0432320d8a0115f8cd',\n",
       " 'a3e99e6c5f921c7d0195bacf6e6a93d7d348a50d',\n",
       " '9b26e1267786a1ec02d8ede9599ec416b7e9f3cf',\n",
       " 'b9a3b446a5fdaf68c0d54f1b3663467007562429',\n",
       " 'e0d38e588237ad8de8a378b3c3613aa3103950e8',\n",
       " '809de304bd8dd175fd9e3059135c2a8af5dcba3e',\n",
       " '57b4939fbcc081a9bf7730c344c1c3218651c0b7',\n",
       " '154eae1741c2ed718dec40b25f60eca4b56e0a74',\n",
       " 'a30914c39a6a59e378c61c8675f8a5d626dff5ac',\n",
       " '31ab6847a110bd234cacdbfbef3f54177158232e',\n",
       " '1af5ac9c0b95915b7e1eb4861c4eea2a1d083f08',\n",
       " '03dce266594748330a10d2d11dbe611bf42aa42d',\n",
       " '77779295f3fcc05a193b349478b8730b226790c7',\n",
       " 'bcc562cf2076fa55f32a63255fa5f71d0bed4f14',\n",
       " '7f2fe524a45f506644bbd7b0e9f962aeb13305a5',\n",
       " 'a35ebe4d9e37757660f7f1529d5d20af9717f4cf',\n",
       " 'd715943a776ca56fc921de789ec636f8f6866dd0',\n",
       " '14f66845d5028f06204e3bc528e14e7dddd5b341',\n",
       " '2c423af1dde4c389b02982930f81e76714204660',\n",
       " '1195603cd9c5ba3d0bfbcdf1972cf567a0ef18d1',\n",
       " '21469fd00f33c1dcdde68abf4b8da0508b7fe2d8',\n",
       " '881739c1040a5d2fa7024857e21aec68e4d25230',\n",
       " 'a7069f86aa3a4d5231c386f08dd28dc3a97b0e0a',\n",
       " 'b7aee99640edf75791f77fd9ab46534c27efdaae',\n",
       " 'bca9dc3dd7bba82457736ea3729ac75e3c815181',\n",
       " 'a6196a950d38fee79d699c99ef50adc7442e5879',\n",
       " '05cf81cc55f7a6f80902a671cac49d85af9782ed',\n",
       " 'b029cd7b3c8216e1e78a56afcc5ed30fdc8d812d',\n",
       " '6f6b7b1efffae7f3765f29fe801ab63dd35110bb',\n",
       " '3a39675856b079cff5438b3af8df92c4034bc741',\n",
       " '9512c82c4c57a277601cbfe6893f8374973e53e1',\n",
       " '80c5518b3591cd8c64d1eba6292da596dbe9ca7e',\n",
       " '210bab14d150cf0602003bf17efb09f19c8ce382',\n",
       " 'f33e644d058bc8373378c115878be06346298687',\n",
       " '22212b4c01be73b039da9396b7d20fb4a3429cb5',\n",
       " '2990612686e9b3dc6819d62a2daeec9c857a98e9',\n",
       " 'd1b10c067af8e33362698db214cb59eb14e6bf5a',\n",
       " '31d3160dbbc1b93458f5355ba6261b3822cd9e4e',\n",
       " 'cfafca2d4a79e684fdd5291ae3b69245ff13b61c',\n",
       " 'cc4677c77d61de96ba2873ecfc8faa4a2f393def',\n",
       " '7c3be5c1501f68e5305325f4acac221632ccb290',\n",
       " '79d74f550f25e52d549aa795801c0d8eb8c46dac',\n",
       " 'f6686ac18c05ec72b33fbed5485fc922531d2529',\n",
       " '160ecaaa5a766c289fc2f6b5499f0dfe7aab971c',\n",
       " 'e476e786bb03ac9d4f039f368c80d7cd4edb91f7',\n",
       " '8b5ceed1959d72acf8c21d0ef6a0ef7c07221bf4',\n",
       " 'd88bb13c3e9b5f003ed3d866730c1f7c17b3740b',\n",
       " 'a8a55f01d9e4a3e3b77512767ab78bb8d1d74a25',\n",
       " 'f66963a9155d44a7f734c0f1d30cab3371cd99fa',\n",
       " 'c5c0550f37aa2212ccdc4608e7117c142965e119',\n",
       " 'aa22680b2015ab5547187ac59f9276745cbd62e0',\n",
       " '5c2a1fccbd1bf8984f9c5b1db12987e0b6b2726b',\n",
       " '1efc2d5258eb4387f65e85a5b9bde50cdcd104fd',\n",
       " 'd1eb75bf85d281d6d99e6db97573e8e7bc0bf10c',\n",
       " '1ee87835e289f0ac3b35400041e60e953fbe55a2',\n",
       " 'a8e89b8d22e0daace27ca2a9358e433e9f4148d0',\n",
       " '22fded6131b777db20e2b0a69b1f887553d675f8',\n",
       " '38961185beb38aa928232a73801aa76944468e07',\n",
       " 'e8dc5f97ae5b0031941cdf6a059ac686584d3e6f',\n",
       " 'fd606942b39e160390d5d5f09962ed7727387da3',\n",
       " 'd4b11ed79efbb3cd53fbceed8c9f7bdf83af3d12',\n",
       " '845b2c4662c9d7db919b0f257acecf15d97dfc81',\n",
       " 'b5920438d50f6bd338c57c0f107733bd7ef37a6f',\n",
       " 'bf16161587fb3f5199b013ab4c3ff63ad882a2c5',\n",
       " '7645bbc175eee392d9d94c9fae6a0a401a757201',\n",
       " '74c3211af6739769cc5afa6f6d6bb2f4c74689cd',\n",
       " '94b0b4ff4b0f902dfd657ad09a97c75163b1cd43',\n",
       " 'ea5534297452fc523674a7fee46b42c7f61f31ec',\n",
       " 'aa10bd7786186fdb475d443f980c383a5b870bd3',\n",
       " '14a86f296914eeefb4232f547ffafdd538700291',\n",
       " '240688a5e42b8cb41a65023846705179bc9efeb2',\n",
       " '1f6b9042dccbbb2f608e8729140dd12d5eb7159e',\n",
       " '490c64195eec44f9280570aece9732e7a120bd34',\n",
       " 'ec6adb9dc121bcbb8215cb16b880d6dc6497d209',\n",
       " '29f72afab8b9894bede98ed862d87595374099c7',\n",
       " 'b8fecbc5515e46b4dd16b9e11b4b1ce9a576e6d7',\n",
       " '72592687e5d2fb29468c44c6a3a674c8a2b28535',\n",
       " '2aa0a28e4246f367ffe104837e755b28d2021f45',\n",
       " '9e9667fc7fcb441ee60a45d5cc2a8550205c9ad3',\n",
       " '9b091d374eb3d5febb3180df05e65020b9ddb04c',\n",
       " '56948f3e281e7271f952181ed0c3bd83d1d70f8e',\n",
       " '7c39de4602343eff8fc68e576b3e38336b3ddb71',\n",
       " 'dc3d3e12aa6087b1141910cf58ac7f37c8cd0793',\n",
       " '3ba2641160cb0acdca16991443017f11d2d848c2',\n",
       " 'aa459595dc1aa246cba8f7c4081571d24f8b4b37',\n",
       " 'ea1e56714716e37976424e685c00f6176ddd86f8',\n",
       " 'eea7ee3da4fcd0dc1f2fb5297f169fc08acd6362',\n",
       " '23e37316e27cec6fe0e71647552b1f7b0e9255b2',\n",
       " '168667e863cc79cb44157edf0e39ca66a37b2b7b',\n",
       " 'f07dc37504dcba39fd4812ce37c4d9c72fcd0d08',\n",
       " 'f4c43e4ae49ca69dbac32620bd0a73ecbb683b91',\n",
       " 'c3ac28783beb36d4b01a82b6c3196407f6097b7e',\n",
       " '9809fd94325b39bffb3a2414a3d7f3e1429fa539',\n",
       " '2a8a6ddd84f0c80ce33fed8960c3201c08e56854',\n",
       " '06da4a4c7211ac6ba75602d9f7657c67d75a06f3',\n",
       " 'd135acb9011d47a0f0d9e2b6542cb86539042fdf',\n",
       " 'd311964341e7e167635e150212eee7d7a70130e8',\n",
       " 'e5ca488c67d3b9db4056f7fe900e10254d69f7ca',\n",
       " 'a13f9ec4f4f4819b5800f85d9075ed5476357918',\n",
       " '121638b718d18f7bb5086223540f74cf61e49800',\n",
       " '9817c7e2740f87abc0e932253a2162c413df69b5',\n",
       " 'ffa07201a988202e99c545a888bf5c6f9b9e0a81',\n",
       " 'cb62f467ee641118d0b7d0b6244c6f7aa800416f',\n",
       " 'd80e95a571dcd71c037ddb7b95b393a08627ee01',\n",
       " '09ec8daa8e32168d92d05b86de1784c639685fb4',\n",
       " 'a83b9f98ccbd6dd76d47c49cfe5785f9c2ecc09e',\n",
       " '51d3450393a2a698cfe8ae3e94cb9d8f556e43ff',\n",
       " '4b4e9deaa44ef81f610a6bf52204ad56d2006009',\n",
       " '76ac8014dc99ee788e295c21f870aa9410d5840d',\n",
       " 'ff72d2bcb1cd8d45ab59ddf8ca4e56d029024628',\n",
       " '816189230d6a7194892b0f10e0dcdd3a6a025647',\n",
       " 'feaab7f92856f7b66f9e069f2686bc90660e9029',\n",
       " '32d7bc240bc5e8490bb891b341c58cd7935062f4',\n",
       " '548fbde9442680310e833796e4cd9e9ed5a0feb7',\n",
       " '762b99951ed5f0c0f1e12bed8918a4d43f85b2a6',\n",
       " '4391d9d627212c229a46b526b0f906c014318492',\n",
       " '64478db449af8e4a5645c17f548649a0159da0c6',\n",
       " 'af28c7f2e54f09c2ee5ea579d8646768a3be25c6',\n",
       " '4133c93549564777a2c2fc39fb206a013a3dbe17',\n",
       " 'e981fac56a2168159157612f40eb0f5fa17a6660',\n",
       " 'a6162a37e174b484abcc61ca7bf6500025f37db6',\n",
       " '9ab72d1eb67bd9a7e8b30084a9d0fb2080e9bd34',\n",
       " 'd236b61cb9d3610724996551f9f6ca1ee7fef4a4',\n",
       " '25707e09aa87bb548138776e263ab037f4e6cda0',\n",
       " '89310dadd3635852cc7afe2c9b8c7c45778cdebf',\n",
       " '6b1b1794fd25ebbbe0839b59ed72f3cbe3e2188b',\n",
       " '430e170a0e1d7b50278f2626184d00ed87edd2d4',\n",
       " '7b90a611cbd9c79f7702ba81380872a918c23eb5',\n",
       " '38d4184fcc07afbf2bd269491da88687764e86f0',\n",
       " '23fcb75440f439f30f656e0c6b47c6f565f32ef2',\n",
       " '50aa060bb87a548227b5b972c63920faef016f05',\n",
       " 'e2e24b371002ae84f05ed7ec76ad923a2a90f573',\n",
       " '6a776cdff97d90eae72e7f8be666aef3a14224e2',\n",
       " '5aec74f8200d62f59b212ea9fb94541cdf431fbf',\n",
       " '9305dbadf39b7da72a61b551eb55bda43567b7da',\n",
       " '5938b0be5d7696d37c227bc647bcbc3f7f3ae18b',\n",
       " 'c890ed14ccd5c6bdebb854a79bde38632b980677',\n",
       " 'de35d44cf3b6a8234f0c62484b8290992438c332',\n",
       " 'b6b194382723f8c929c36eb1e7e80394f0a105fd',\n",
       " 'c2c2bdf558b075e5a6c196cc977ec5cd47f1f266',\n",
       " '418538e40e195b8a0c7669b3a005ebcdb6a325c3',\n",
       " 'e1ac799cac27617c32f911777bd8fad57886f35d',\n",
       " 'ed8dc30f2ea9e692863a2b29954ab0028ce13a57',\n",
       " '35dd113e67ede7d921128d82d5a0077071a8ee78',\n",
       " 'd11a280063358d36fb38fad6fdf64489796e56ef',\n",
       " '693a08804a5da83a38bff8f67201eb50817e557e',\n",
       " 'eb8ac60527db35b10881cb4fd86b8a6e21983d02',\n",
       " '2644a49c01c4e8bd04980c46ad6f9a8b1e0a26d3',\n",
       " 'b0e519e2224e5ee8dd2303ed3f347e049cb599a2',\n",
       " '80210c849b491a3c4367f3e75a792b721663d183',\n",
       " '946ec9b4ff8f3a1cd7efc576ba15e9fe3742c073',\n",
       " 'e74c09fac1f951aa3859885662c702089ba95c80',\n",
       " 'ba7fc2e5541679edbb6be160fe327838f9762100',\n",
       " 'b69fe5e231d41629e4620b18e90999022c72474d',\n",
       " '145b849ffc443529651d531b40b392078823f4ec',\n",
       " 'e125efdb411edece9a23a57d3e6042918a4994e9',\n",
       " 'e05c39ce913edc81f93c9247f9714d6cddd30073',\n",
       " 'a4b16ad01125dda3a5dd4ae97fe8cb53c9538075',\n",
       " '459c46dd67638638c4195e1f4abf1c74a7aba4cb',\n",
       " '8a6809df45d5f80a822d68d3c305f7640e10234a',\n",
       " '3b3bb498af6f356f4389825f4f3b026edcaef4f0',\n",
       " '907f894adb65a78f0d4ee2b936c4637c0bbddcf3',\n",
       " '18d519cf1ea884ddf381067f0733c18d8ad94c7a',\n",
       " '264e7bc2caec36fca2b89d1f21198b8abb4a2d3e',\n",
       " '4465b8957219de75fb5b7f7ed57069405572cf00',\n",
       " '54cbbaf44335fdc1995cb19e5a08779929fd0966',\n",
       " '239da66e7f71763fd7180b5fb831de6202eb09db',\n",
       " '120bd6eed7e254029455aec25478a4860a46764e',\n",
       " '141bb78c68caf0302c6f31eac91d1ff5197d5771',\n",
       " '6edbfac15ca59eb0e18859543190088f7a52112e',\n",
       " '902568bea5ed7342820b9ff0fe8974bb2ca34efd',\n",
       " '368fb114dfd565dedb635f62b9062956b49cd475',\n",
       " 'cd4889df1e36fd838d6835714cbf4fdfd7e7e32e',\n",
       " 'ae86b35dbe14d158c5e9c3ea3014acc60bb9a9e5',\n",
       " 'aa8016f871841b6899dac58441f6f8de93f30ffa',\n",
       " '9f4050b9399c1b4b744d79edca2d37ed021ad362',\n",
       " '4fc15d2af497369e0e7aa99dc78a403bdfa4790f',\n",
       " 'f678918637d6949ca22b1d7cd5982309f8ad6dbe',\n",
       " '08e6541bee1b67eab1918bcbbe6f90463ecb651a',\n",
       " '98a53ab5c12da91e1a7ff02c6df62ac9fc85ce41',\n",
       " '44ca0c52f79a893a551da92dd78e599fbc74b060',\n",
       " '06a58628c1ebc8e8d49a5a70ba3597acffba0304',\n",
       " 'f0efc7104651baf03c3bb08565dd1d907cbeb976',\n",
       " 'f6e5a9056211dd2c91aee0f542551553979bb208',\n",
       " 'd818265a6a977c56d49c1336a7dda840aeb5e08f',\n",
       " '0fdff4fa856c56dfb2f19a0ca3829e5d135e4b9f',\n",
       " 'eb3806cbd091aa2efe22795f8f18536e315161c9',\n",
       " 'f402d089931ac01b58f6a949027539265ef69cb6',\n",
       " '32032aa6ad4c962f4414647151cd77785e25a673',\n",
       " 'f2cf26f9c677482ee8e060ce7d9d73b6214fef52',\n",
       " '852c50a6904e65797e479144d01abb962f65dbb6',\n",
       " '28d987c4ec40dafc05993e3a209ea4266f270f28',\n",
       " 'ac44b168cb2445657d3d041c70cd70ad6f540d5b',\n",
       " '0c2acffdc35700ec79736d34954367e953c68556',\n",
       " '4f462b846636ba6022852c5f97982f6e27e15d2f',\n",
       " '67e7efbd1d4c301ca5e676c366dbaf31f3bf3949',\n",
       " '1df88af8dcc9e6e046f9e78ccf67be4bd72ef45d',\n",
       " 'ffa499eec937130124dd2260aa81c46904d59910',\n",
       " '63c8de490d2b494cff5edf10398374305e6b48bf',\n",
       " '4c5c841e4ad3fbf9b31d6c0c282dfec035f716bb',\n",
       " '9045c0ceb50e8844bb95b19f3946d9608d9a9470',\n",
       " '77f6c0a87cc80dca84892fca0c74f1ba51568eeb',\n",
       " '99da54318cd9e891d43f15d7b96365e2a2e9740d',\n",
       " 'fe0801853cba9b614824581080ad33a547e05fef',\n",
       " '250543d2df3a87e7d92cdd481b0fcb8afe0da206',\n",
       " 'd13f5a5fa79315e120154fcac023f97ccfe8ad6f',\n",
       " '91bb81fe30065ae9e480cde7ceefd1d3979d4505',\n",
       " '91f7d680642d12d824471d0e9563da7e393170ff',\n",
       " 'ea0708422bc00075218004425460298c0a1543c2',\n",
       " '09715b7726d3d6eae06f7b79e5962448dd11d169',\n",
       " 'f93603928844e6a32a3cbb57e715798d4718097b',\n",
       " 'b7a57d6723ee09b5dfab4c9e6882f1d65a7e803c',\n",
       " '96041a41f60fce78d72972cd277cc5fd00dcf2f9',\n",
       " '37e67b3fa1f8e9b422b009e613043f6aebdb0b20',\n",
       " '6aa4476feb03bb59ab1cd8452bb48c77c9816a73',\n",
       " '19ff77e874c0706f794908e9b6878314671d385a',\n",
       " '61b90922be286db0340b0543233488c3764c611d',\n",
       " '0f064aabb1cfae95425e8035777d74c14f24bb1e',\n",
       " '704eebd9653b61d2dfbe1483d1a616e6836eeec8',\n",
       " '719011222a3dd0642fb565e5f80fa03a184835eb',\n",
       " '1d7079e54330e89dde86b8677dd3c5f676aa7159',\n",
       " '0b79c5f5d26ba81ffaa3c3c6e5fa7be9147ab0c0',\n",
       " 'd5d3cf2a2143a80918e81de0ffeeae0a01c3349b',\n",
       " 'f508f5a7c736788eb798ee76553b33b887882e63',\n",
       " 'a5bedf3a8d33e6b501c2203982eaaa5567011d86',\n",
       " '96d1423925b6930795b2ac9f2f8b48d4295f4364',\n",
       " '7bc3103f71aaffbda7cdeb61603f12ded3194ab5',\n",
       " '12928aeec557f9957cd7490eaa046d1a113e71cb',\n",
       " '7ed90dc2ba07fe8e7cc7008e6acf09c5eafba854',\n",
       " 'b2f0e12f8f1cb35be12a8b139547c7d570aedaf0',\n",
       " '78a8d488d2fa21bd3fedcd4534718376e9333406',\n",
       " '35c31daa44cb7fd28aeea422bb15d1a3858a2378',\n",
       " '0f98b25888658385f928bee2a94937345e144327',\n",
       " 'd21f085a2346bd4337634830f2b5f26c65230ade',\n",
       " '5de791dacf00eab043ec804d189a7781b1070add',\n",
       " '9b5ccd6bdaec71cd24d8c9122c6a6b868bdd22a0',\n",
       " 'f850ab8f4d1fe9c4d89b61869f7dc3364b1934be',\n",
       " 'd8cb8791d55d4b24eb9486c4f75a3fb121bb614e',\n",
       " '47657978dd272aff0e0be8c8aa3877b8db673067',\n",
       " '24a525b0319b028b8898f731d49b84f467ae2c73',\n",
       " '5ceca9883a0930498d29cdfc09b942f6a9c6bf89',\n",
       " '8a02bd02717fcd12797a77da25b734c2dad7ba74',\n",
       " '5a5a25d733b227ba661f3ba8f69af5886999f02c',\n",
       " '69b4d83503fda10464dc830c82e76af9b8fbf73f',\n",
       " '356f0fd788357570d8316ea566c88002554745b0',\n",
       " '1a465d982030d8f361dc914ff2defa359fdbe5f9',\n",
       " '2bb3155d787524124e55269ea2e9c6f3f27818af',\n",
       " '2fadf74eaae82e5005e0b31d8e07afc739b32f72',\n",
       " '558eec44990e2c8c43145a48bcae68219ae2ba52',\n",
       " 'ef24952db4f57fa1bf2a5a09a0af5493eefe0923',\n",
       " '91f50f2c7f7b633f91d93f03819506c0cc850947',\n",
       " 'b6761b66c1494299587710188e9a371713d88450',\n",
       " 'a4efe5912760797318110dec69b255d743f0f0bd',\n",
       " 'adf19a9b6146fd075d668ad7a41b4f9e6dc48a51',\n",
       " '35774942278435cc157297f3ad033563eb20497f',\n",
       " 'bb3716d66667c66f6f79b37c765388cd334f2cad',\n",
       " 'b39171b7e9363a54727c33c8d7d197d2acfbc1ce',\n",
       " '184daf3507a842a3231c6639f3adb05539afb2d2',\n",
       " '7df2a4456a1aca5cc46fcc6d7c0d46dc5e182544',\n",
       " '7e5895cf23d87d2246903fc27c53130ab5b4d9e4',\n",
       " 'dbebe2f483751980d39e3574a25f3bcdaf2550c2',\n",
       " 'c46224620e6c2f039588f57d5133dedd75941da5',\n",
       " 'cff09cd72961bfaa2c50919e65b093c20937b137',\n",
       " '32be8da328c8337c4282df22b02316e2ef015d9c',\n",
       " '10b60ad509529d6aa668e35c9456967cb797b6c4',\n",
       " 'ebd75e4cc027973b608bcfd44c5c10f6e7328624',\n",
       " 'c97243d65788222d1cf09203e27ae04deaf0ef1c',\n",
       " 'f635dd0f13ee3859c7e4b653398c9b9dba9895d8',\n",
       " '9753bb382a8c82a2855c8b63e70d44494ebf33fd',\n",
       " 'fccc2cff358d6c08f512003b88bab9934e4ffa7a',\n",
       " 'e582bc041b65f0b488e292996f0c07d6dae95143',\n",
       " '90b1c08620b3bcc5694e31a241e2be2589003030',\n",
       " 'ff7bf5c8a285587c9e39f4acacd57aee0aa77981',\n",
       " 'edb6c82007b0ae485698434032ead89735e131a8',\n",
       " 'f7c19067a96ac610aee8d5c8eb1759f3a7de71fd',\n",
       " '37d2a557fe2029d7bf6e32dde8fe5728e27ba4a3',\n",
       " '6e7be8a150296b55701950588570b7a56af1df56',\n",
       " 'f0b95482306158df395281317e4f3f7b37c5a52c',\n",
       " 'a08e255cf5c010f8b86481ea8f0ed4d5e991e7db',\n",
       " 'ca274e20fd535ce3666baf7a70daffcecd68d5ae',\n",
       " 'fad2e25d3eb22c2837bc1dc311d83a79d65b2889',\n",
       " 'e0c0b8b911613511a56c06d11185a55de24eb829',\n",
       " '905e2b35719215760ebed8f3e93fdf6ea8ec9bcf',\n",
       " 'b90c0ff9f6c2d16eed507a2ff051f6f27fec1006',\n",
       " '20f185b11fa23da8938efb5c839c6c078c66f1e9',\n",
       " '55e0d20b6cc56c2cdc131e1dcc51f752575cf532',\n",
       " 'cf6801825e8f933349753bd8c52ec5f40165b14c',\n",
       " '5135187bfbd07b1a425b506bc74011e570a78797',\n",
       " '6af0a3821669f8450d8e8dad3e2e1d3750fb1aec',\n",
       " 'f349e5479fd86ad262294d666fb88c323af65786',\n",
       " 'f22b324eec2eaf85f8e70381b13017e64b1e0e5c',\n",
       " '5a1181279e73cacc2c21a3c697f2f1304f4a5d45',\n",
       " 'a51943a6b6527dd8f62bc27c061a6371fd045dce',\n",
       " '639e6993ca462dd015a5901c23c86faf8d5025da',\n",
       " '64d31d4587a86108556e52c45e1ea3750fa7303f',\n",
       " 'd7a80f6f56131be32a661d7604b38c6a893ded50',\n",
       " 'd7efb83a3dc82118fc6f4b73fbc9d7e9d3f73531',\n",
       " '2ee4ebdd4c12d37f13ce71f5a7ae3b8cd172806d',\n",
       " '21a539cc5e6c5ce8c39d80a59033791d7860a8b0',\n",
       " ...}"
      ]
     },
     "execution_count": 176,
     "metadata": {},
     "output_type": "execute_result"
    }
   ],
   "source": [
    "all_json_shas"
   ]
  },
  {
   "cell_type": "code",
   "execution_count": 180,
   "metadata": {
    "ExecuteTime": {
     "end_time": "2020-04-05T21:20:38.499535Z",
     "start_time": "2020-04-05T21:20:06.403478Z"
    }
   },
   "outputs": [
    {
     "ename": "KeyboardInterrupt",
     "evalue": "",
     "output_type": "error",
     "traceback": [
      "\u001b[0;31m---------------------------------------------------------------------------\u001b[0m",
      "\u001b[0;31mKeyboardInterrupt\u001b[0m                         Traceback (most recent call last)",
      "\u001b[0;32m<ipython-input-180-590ef9950f36>\u001b[0m in \u001b[0;36m<module>\u001b[0;34m\u001b[0m\n\u001b[0;32m----> 1\u001b[0;31m \u001b[0mshas_in_metadata\u001b[0m \u001b[0;34m=\u001b[0m \u001b[0;34m[\u001b[0m\u001b[0msha\u001b[0m \u001b[0;32mfor\u001b[0m \u001b[0msha\u001b[0m \u001b[0;32min\u001b[0m \u001b[0mall_json_shas\u001b[0m \u001b[0;32mif\u001b[0m \u001b[0msha\u001b[0m \u001b[0;32min\u001b[0m \u001b[0mdf_metadata\u001b[0m\u001b[0;34m[\u001b[0m\u001b[0;34m'sha'\u001b[0m\u001b[0;34m]\u001b[0m\u001b[0;34m.\u001b[0m\u001b[0mvalues\u001b[0m\u001b[0;34m]\u001b[0m\u001b[0;34m\u001b[0m\u001b[0;34m\u001b[0m\u001b[0m\n\u001b[0m\u001b[1;32m      2\u001b[0m \u001b[0mshas_not_in_metadata\u001b[0m \u001b[0;34m=\u001b[0m \u001b[0;34m[\u001b[0m\u001b[0msha\u001b[0m \u001b[0;32mfor\u001b[0m \u001b[0msha\u001b[0m \u001b[0;32min\u001b[0m \u001b[0mall_json_shas\u001b[0m \u001b[0;32mif\u001b[0m \u001b[0msha\u001b[0m \u001b[0;32mnot\u001b[0m \u001b[0;32min\u001b[0m \u001b[0mdf_metadata\u001b[0m\u001b[0;34m[\u001b[0m\u001b[0;34m'sha'\u001b[0m\u001b[0;34m]\u001b[0m\u001b[0;34m.\u001b[0m\u001b[0mvalues\u001b[0m\u001b[0;34m]\u001b[0m\u001b[0;34m\u001b[0m\u001b[0;34m\u001b[0m\u001b[0m\n\u001b[1;32m      3\u001b[0m \u001b[0;34m\u001b[0m\u001b[0m\n\u001b[1;32m      4\u001b[0m \u001b[0mprint\u001b[0m\u001b[0;34m(\u001b[0m\u001b[0;34mf\"Out of all {n_json} JSON files we have:\"\u001b[0m\u001b[0;34m)\u001b[0m\u001b[0;34m\u001b[0m\u001b[0;34m\u001b[0m\u001b[0m\n\u001b[1;32m      5\u001b[0m \u001b[0mprint\u001b[0m\u001b[0;34m(\u001b[0m\u001b[0;34mf\"  {len(shas_in_metadata)} in metadata.csv\"\u001b[0m\u001b[0;34m)\u001b[0m\u001b[0;34m\u001b[0m\u001b[0;34m\u001b[0m\u001b[0m\n",
      "\u001b[0;32m<ipython-input-180-590ef9950f36>\u001b[0m in \u001b[0;36m<listcomp>\u001b[0;34m(.0)\u001b[0m\n\u001b[0;32m----> 1\u001b[0;31m \u001b[0mshas_in_metadata\u001b[0m \u001b[0;34m=\u001b[0m \u001b[0;34m[\u001b[0m\u001b[0msha\u001b[0m \u001b[0;32mfor\u001b[0m \u001b[0msha\u001b[0m \u001b[0;32min\u001b[0m \u001b[0mall_json_shas\u001b[0m \u001b[0;32mif\u001b[0m \u001b[0msha\u001b[0m \u001b[0;32min\u001b[0m \u001b[0mdf_metadata\u001b[0m\u001b[0;34m[\u001b[0m\u001b[0;34m'sha'\u001b[0m\u001b[0;34m]\u001b[0m\u001b[0;34m.\u001b[0m\u001b[0mvalues\u001b[0m\u001b[0;34m]\u001b[0m\u001b[0;34m\u001b[0m\u001b[0;34m\u001b[0m\u001b[0m\n\u001b[0m\u001b[1;32m      2\u001b[0m \u001b[0mshas_not_in_metadata\u001b[0m \u001b[0;34m=\u001b[0m \u001b[0;34m[\u001b[0m\u001b[0msha\u001b[0m \u001b[0;32mfor\u001b[0m \u001b[0msha\u001b[0m \u001b[0;32min\u001b[0m \u001b[0mall_json_shas\u001b[0m \u001b[0;32mif\u001b[0m \u001b[0msha\u001b[0m \u001b[0;32mnot\u001b[0m \u001b[0;32min\u001b[0m \u001b[0mdf_metadata\u001b[0m\u001b[0;34m[\u001b[0m\u001b[0;34m'sha'\u001b[0m\u001b[0;34m]\u001b[0m\u001b[0;34m.\u001b[0m\u001b[0mvalues\u001b[0m\u001b[0;34m]\u001b[0m\u001b[0;34m\u001b[0m\u001b[0;34m\u001b[0m\u001b[0m\n\u001b[1;32m      3\u001b[0m \u001b[0;34m\u001b[0m\u001b[0m\n\u001b[1;32m      4\u001b[0m \u001b[0mprint\u001b[0m\u001b[0;34m(\u001b[0m\u001b[0;34mf\"Out of all {n_json} JSON files we have:\"\u001b[0m\u001b[0;34m)\u001b[0m\u001b[0;34m\u001b[0m\u001b[0;34m\u001b[0m\u001b[0m\n\u001b[1;32m      5\u001b[0m \u001b[0mprint\u001b[0m\u001b[0;34m(\u001b[0m\u001b[0;34mf\"  {len(shas_in_metadata)} in metadata.csv\"\u001b[0m\u001b[0;34m)\u001b[0m\u001b[0;34m\u001b[0m\u001b[0;34m\u001b[0m\u001b[0m\n",
      "\u001b[0;31mKeyboardInterrupt\u001b[0m: "
     ]
    }
   ],
   "source": [
    "shas_in_metadata = [sha for sha in all_json_shas if sha in df_metadata['sha'].values]\n",
    "shas_not_in_metadata = [sha for sha in all_json_shas if sha not in df_metadata['sha'].values]\n",
    "\n",
    "print(f\"Out of all {n_json} JSON files we have:\")\n",
    "print(f\"  {len(shas_in_metadata)} in metadata.csv\")\n",
    "print(f\"  {len(shas_not_in_metadata)} not in metadata.csv\")"
   ]
  },
  {
   "cell_type": "code",
   "execution_count": 164,
   "metadata": {
    "ExecuteTime": {
     "end_time": "2020-04-05T21:13:27.115710Z",
     "start_time": "2020-04-05T21:13:27.107732Z"
    }
   },
   "outputs": [
    {
     "data": {
      "text/plain": [
       "Series([], Name: sha, dtype: object)"
      ]
     },
     "execution_count": 164,
     "metadata": {},
     "output_type": "execute_result"
    }
   ],
   "source": [
    "df_metadata['sha'][sha_in_json & ~has_full_text]"
   ]
  },
  {
   "cell_type": "code",
   "execution_count": 165,
   "metadata": {
    "ExecuteTime": {
     "end_time": "2020-04-05T21:13:49.545025Z",
     "start_time": "2020-04-05T21:13:49.534406Z"
    }
   },
   "outputs": [
    {
     "data": {
      "text/plain": [
       "0        f056da9c64fbf00a4645ae326e8a4339d015d155\n",
       "1        daf32e013d325a6feb80e83d15aabc64a48fae33\n",
       "2        f33c6d94b0efaa198f8f3f20e644625fa3fe10d2\n",
       "3        4da8a87e614373d56070ed272487451266dce919\n",
       "4        eccef80cfbe078235df22398f195d5db462d8000\n",
       "                           ...                   \n",
       "45764    a186e1e74616d4936c8de93c42a857c4cb9d1edf\n",
       "45765    efd9f0bbc3ac52b299b2799aa8d72cd9a5b55ccf\n",
       "45768    f81692543d3e35858911cea48c298bfa23b20bc6\n",
       "45769    289deae0b2050aa259a05ba84565a4df82fa099a\n",
       "45770    21a4369f83891bf6975dd916c0aa495d5df8709e\n",
       "Name: sha, Length: 30206, dtype: object"
      ]
     },
     "execution_count": 165,
     "metadata": {},
     "output_type": "execute_result"
    }
   ],
   "source": [
    "df_metadata['sha'][sha_in_json & has_full_text]"
   ]
  },
  {
   "cell_type": "code",
   "execution_count": 166,
   "metadata": {
    "ExecuteTime": {
     "end_time": "2020-04-05T21:14:06.125769Z",
     "start_time": "2020-04-05T21:14:06.116125Z"
    }
   },
   "outputs": [
    {
     "data": {
      "text/plain": [
       "2399     e9c78584c08ba79d735e150eff98297eb57f12dd; 4a22...\n",
       "2482     bd92cbae7179f07d59d1ce4d7ca96e37ebb40ec9; 7526...\n",
       "2589     2bd6e33d92632dfcba4056a2d7355ced5b7ab1fd; 6fe7...\n",
       "2648     4eb6e165ee705e2ae2a24ed2d4e67da42831ff4a; d4f0...\n",
       "2650     daee7f7d31f4bf1c0ef883bcd6c124b6e94cbee7; ad9a...\n",
       "                               ...                        \n",
       "45749    d14208a77004363b34b3cf0b7d08fd0d121e12a4; 7f7c...\n",
       "45751    1b5064ad9a2828b30813ac5634d98b5da2f1d3d9; 0391...\n",
       "45766    f9d941d30a663db32ceabe367cf36b6f3c2c744c; 1f19...\n",
       "45767    889ba9338ea71cd42c3bc675db30a1928d487f43; d38e...\n",
       "45773    3369a14e1d116943f48b3a33597796c9802de279; f523...\n",
       "Name: sha, Length: 1547, dtype: object"
      ]
     },
     "execution_count": 166,
     "metadata": {},
     "output_type": "execute_result"
    }
   ],
   "source": [
    "df_metadata['sha'][~sha_in_json & has_full_text]"
   ]
  },
  {
   "cell_type": "code",
   "execution_count": null,
   "metadata": {},
   "outputs": [],
   "source": []
  }
 ],
 "metadata": {
  "kernelspec": {
   "display_name": "Python 3",
   "language": "python",
   "name": "python3"
  },
  "language_info": {
   "codemirror_mode": {
    "name": "ipython",
    "version": 3
   },
   "file_extension": ".py",
   "mimetype": "text/x-python",
   "name": "python",
   "nbconvert_exporter": "python",
   "pygments_lexer": "ipython3",
   "version": "3.6.10"
  },
  "toc": {
   "base_numbering": 1,
   "nav_menu": {},
   "number_sections": true,
   "sideBar": true,
   "skip_h1_title": true,
   "title_cell": "Table of Contents",
   "title_sidebar": "Contents",
   "toc_cell": false,
   "toc_position": {},
   "toc_section_display": true,
   "toc_window_display": true
  }
 },
 "nbformat": 4,
 "nbformat_minor": 2
}
