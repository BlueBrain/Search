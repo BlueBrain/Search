{
 "cells": [
  {
   "cell_type": "markdown",
   "metadata": {},
   "source": [
    "# Goal of the notebook\n",
    "End to end pipeline for searching articles of interest, extracting entities of interest, building, accessing and deploying a knowled graph and a co-mention graph."
   ]
  },
  {
   "cell_type": "code",
   "execution_count": 1,
   "metadata": {},
   "outputs": [],
   "source": [
    "import getpass\n",
    "import json\n",
    "import os\n",
    "import pathlib\n",
    "import requests\n",
    "import time\n",
    "\n",
    "import networkx as nx\n",
    "import pandas as pd\n",
    "\n",
    "import sqlalchemy\n",
    "from sqlalchemy.sql import select\n",
    "from sqlalchemy.sql import and_, or_, not_\n",
    "\n",
    "import ipywidgets\n",
    "\n",
    "from bbsearch.widgets import ArticleSaver, SearchWidget, MiningSchema, MiningWidget"
   ]
  },
  {
   "cell_type": "code",
   "execution_count": 2,
   "metadata": {},
   "outputs": [],
   "source": [
    "pd.options.mode.chained_assignment = None"
   ]
  },
  {
   "cell_type": "code",
   "execution_count": 3,
   "metadata": {},
   "outputs": [],
   "source": [
    "from jupyter_dash.comms import _send_jupyter_config_comm_request, _jupyter_config\n",
    "from jupyter_dash import JupyterDash\n",
    "\n",
    "import dash_cytoscape as cyto\n",
    "\n",
    "from tqdm.notebook import tqdm"
   ]
  },
  {
   "cell_type": "code",
   "execution_count": 4,
   "metadata": {},
   "outputs": [],
   "source": [
    "# JupyterDash configs\n",
    "_send_jupyter_config_comm_request()"
   ]
  },
  {
   "cell_type": "code",
   "execution_count": null,
   "metadata": {},
   "outputs": [],
   "source": [
    "time.sleep(3)\n",
    "JupyterDash.infer_jupyter_proxy_config()"
   ]
  },
  {
   "cell_type": "code",
   "execution_count": 6,
   "metadata": {},
   "outputs": [],
   "source": [
    "cyto.load_extra_layouts()"
   ]
  },
  {
   "cell_type": "code",
   "execution_count": 7,
   "metadata": {},
   "outputs": [],
   "source": [
    "import dash_core_components as dcc"
   ]
  },
  {
   "cell_type": "code",
   "execution_count": 8,
   "metadata": {},
   "outputs": [],
   "source": [
    "from cord_analytics.utils import (generate_curation_table,\n",
    "                                  link_ontology,\n",
    "                                  generate_comention_analysis,\n",
    "                                  build_cytoscape_data,\n",
    "                                  merge_with_ontology_linking,\n",
    "                                  resolve_taxonomy_to_types)\n",
    "            \n",
    "from bbg_apps.curation_app import (curation_app)\n",
    "from bbg_apps.visualization_app import (visualization_app)\n",
    "\n",
    "from kganalytics.export import load_network"
   ]
  },
  {
   "cell_type": "markdown",
   "metadata": {},
   "source": [
    "# Set a Project\n",
    "\n",
    "The user chooses / creates a project to host a KG.\n",
    "\n",
    "* Use the [Nexus web application](https://bbp.epfl.ch/nexus/web) to get a token.\n",
    "* Once a token is obtained then proceed to paste it below."
   ]
  },
  {
   "cell_type": "code",
   "execution_count": 10,
   "metadata": {},
   "outputs": [
    {
     "name": "stdin",
     "output_type": "stream",
     "text": [
      " ··········································································································································································································································································································································································································································································································································································································································································································································································································································································································································································································································································································································································································································································································································································································································································································································································\n"
     ]
    }
   ],
   "source": [
    "import getpass\n",
    "TOKEN = getpass.getpass()"
   ]
  },
  {
   "cell_type": "code",
   "execution_count": 11,
   "metadata": {},
   "outputs": [],
   "source": [
    "from kgforge.core import KnowledgeGraphForge"
   ]
  },
  {
   "cell_type": "code",
   "execution_count": 12,
   "metadata": {},
   "outputs": [],
   "source": [
    "# Configure a 'forge' to manage (create, access and deploy) the knowledge graph within a given Blue Brain Nexus Project.\n",
    "FORGE_CONFIG_FILE = os.getenv(\"FORGE_CONFIG_FILE\") \n",
    "assert (FORGE_CONFIG_FILE is not None) \n",
    "forge = KnowledgeGraphForge(FORGE_CONFIG_FILE,token=TOKEN, debug=True)"
   ]
  },
  {
   "cell_type": "markdown",
   "metadata": {},
   "source": [
    "# Set topic\n",
    "The user defines a topic."
   ]
  },
  {
   "cell_type": "code",
   "execution_count": 13,
   "metadata": {},
   "outputs": [],
   "source": [
    "import jwt\n",
    "from IPython.display import display, HTML"
   ]
  },
  {
   "cell_type": "code",
   "execution_count": 14,
   "metadata": {},
   "outputs": [
    {
     "data": {
      "application/vnd.jupyter.widget-view+json": {
       "model_id": "629a252683914299931cc2df95a413a0",
       "version_major": 2,
       "version_minor": 0
      },
      "text/plain": [
       "Tab(children=(VBox(children=(HBox(children=(Button(description='🔬 List all your topics', layout=Layout(height=…"
      ]
     },
     "metadata": {},
     "output_type": "display_data"
    }
   ],
   "source": [
    "topic_resource=None\n",
    "kg_resource=None\n",
    "agent_username = jwt.decode(TOKEN,  verify=False)['preferred_username']\n",
    "\n",
    "def save_topic(b):\n",
    "    output.clear_output()\n",
    "    output2.clear_output()\n",
    "    output3.clear_output()\n",
    "    topic_to_save = {\n",
    "        'id': str(widget.children[1].children[0].value).replace(' ', '_'),\n",
    "        'type': 'Topic',\n",
    "        'name': widget.children[1].children[0].value,\n",
    "        'field': widget.children[1].children[1].value,\n",
    "        'description': widget.children[1].children[2].value,\n",
    "        'keywords': widget.children[1].children[3].value,\n",
    "        'question':  [widget.children[1].children[i].value for i in range(5,9)]\n",
    "    }\n",
    "    global topic_resource\n",
    "    topic_resource = forge.from_json(topic_to_save)\n",
    "    forge.register(topic_resource)\n",
    "    with output2:\n",
    "        if w1.value == \"\":\n",
    "            print(\"Please provide a topic name\")\n",
    "        else:\n",
    "            print(\"Topic saved!\")\n",
    "            w1.value = \"\"\n",
    "            w2.value = \"\"\n",
    "            w3.value = \"\"\n",
    "            w4.value = \"\"\n",
    "            w5.value = \"\"\n",
    "            w6.value = \"\"\n",
    "            w7.value = \"\"\n",
    "            w8.value = \"\"\n",
    "\n",
    "def get_topics(b):\n",
    "    output.clear_output()\n",
    "    output2.clear_output()\n",
    "    output3.clear_output()\n",
    "    query = f\"\"\"\n",
    "    SELECT ?id ?name ?description ?keywords ?field ?question ?createdAt\n",
    "    WHERE {{\n",
    "        ?id a Topic ;\n",
    "            name ?name ;\n",
    "            description ?description ;\n",
    "            keywords ?keywords ;\n",
    "            field ?field ;\n",
    "            question ?question ;\n",
    "            <https://bluebrain.github.io/nexus/vocabulary/deprecated> false ;\n",
    "            <https://bluebrain.github.io/nexus/vocabulary/createdAt> ?createdAt ;\n",
    "            <https://bluebrain.github.io/nexus/vocabulary/createdBy> <{forge._store.endpoint}/realms/bbp/users/{agent_username}> .\n",
    "    }}\n",
    "    \"\"\"\n",
    "    resources = forge.sparql(query, limit=100)\n",
    "    if len(resources) >= 1:\n",
    "        global topics_df\n",
    "        topics_df = forge.as_dataframe(resources)\n",
    "        output.clear_output()\n",
    "        with output:\n",
    "            topics_list = list(set(topics_df.name))\n",
    "            topics_list.sort()\n",
    "            w0.options = [\"\"] + topics_list\n",
    "            w0.value = \"\"\n",
    "            w0.placeholder = \"Select topic\"\n",
    "            w0.observe(topics_change, names='value')\n",
    "            display(w0)\n",
    "            display(s12)\n",
    "    else:\n",
    "        with output:\n",
    "            print(\"No topics found!\")\n",
    "\n",
    "def topics_change(change):\n",
    "    output3.clear_output()\n",
    "    with output:\n",
    "        if len(output.outputs) >= 1:\n",
    "            output.outputs = (output.outputs[0],)\n",
    "        s5.value = \"\"\n",
    "        s6.value = \"\"\n",
    "        s7.value = \"\"\n",
    "        s8.value = \"\"\n",
    "        s9.value = \"\"\n",
    "        s10.value = \"\"\n",
    "        s11.value = \"\"\n",
    "        global topic_resource\n",
    "        if change['new'] != \"\":\n",
    "            topic_resource = forge.retrieve(list(set(topics_df[topics_df.name == change['new']].id))[0])\n",
    "            s5.value = topic_resource.field\n",
    "            s6.value = topic_resource.description\n",
    "            s7.value = topic_resource.keywords\n",
    "            question = topic_resource.question\n",
    "            if isinstance(question, str):\n",
    "                question = [question]\n",
    "            if isinstance(question, list):\n",
    "                for i in range(len(question)):\n",
    "                    sq.children[i].value = question[i]            \n",
    "        display(s12)\n",
    "\n",
    "def update_topic(b):\n",
    "    output2.clear_output()\n",
    "    if w0.value != \"\":\n",
    "        topic_resource.id = forge.as_jsonld(topic_resource, form=\"expanded\")['@id']\n",
    "        topic_resource.field = s5.value\n",
    "        topic_resource.description = s6.value\n",
    "        topic_resource.keywords = s7.value\n",
    "        topic_resource.question = [sq.children[i].value for i in range(0,4)]\n",
    "        forge.update(topic_resource)\n",
    "        with output:\n",
    "            print(\"topic updated!\")\n",
    "        \n",
    "def get_datasets(b):\n",
    "    output3.clear_output()\n",
    "    if w0.value != \"\":\n",
    "        topic_resource_id = forge.as_jsonld(topic_resource, form=\"expanded\")['@id']\n",
    "        query = f\"\"\"\n",
    "            SELECT ?id ?name ?description ?keywords ?field ?question ?createdAt\n",
    "            WHERE {{\n",
    "                ?id a Dataset ;\n",
    "                    name ?name ;\n",
    "                    about <{topic_resource_id}> ;\n",
    "                    <https://bluebrain.github.io/nexus/vocabulary/deprecated> false ;\n",
    "                    <https://bluebrain.github.io/nexus/vocabulary/createdAt> ?createdAt ;\n",
    "                    <https://bluebrain.github.io/nexus/vocabulary/createdBy> <{forge._store.endpoint}/realms/bbp/users/{agent_username}> .\n",
    "            }}\n",
    "            \"\"\"\n",
    "        global kg_resources\n",
    "        kg_resources = forge.sparql(query, limit=100, debug=True)\n",
    "        print(len(kg_resources))\n",
    "        if len(kg_resources) >= 1:\n",
    "            with output3:\n",
    "                display(s2)\n",
    "                s2.options = [r.name for r in kg_resources]\n",
    "                display(s3)\n",
    "        else:\n",
    "            with output3:\n",
    "                print(\"No datasets found!\")\n",
    "        \n",
    "def download_dataset(b):\n",
    "    resource_id = [r.id for r in kg_resources if r.name == s2.value][0]\n",
    "    global kg_resource\n",
    "    global table_extractions\n",
    "    kg_resource = forge.retrieve(resource_id)\n",
    "    forge.download(kg_resource, \"distribution.contentUrl\", \"/tmp/\", overwrite=True)\n",
    "    for r in kg_resource.distribution:\n",
    "        if \"curated\" in r.name:\n",
    "            table_extractions = pd.read_csv(f\"/tmp/{r.name}\")\n",
    "            if table_extractions is not None:\n",
    "                message = f\"Dataset '{r.name}' with {len(table_extractions)} entities ready to be reused. Its content has been assigned to the variable 'table_extractions'. Please continue with the interactive UI section to visualise this dataset.\"\n",
    "            else:\n",
    "                table_extractions = pd.DataFrame()\n",
    "                message = \"No dataset has been downloaded\"\n",
    "            with output3:\n",
    "                print(message)\n",
    "\n",
    "s0 = ipywidgets.Button(\n",
    "    description= '🔬 List all your topics',\n",
    "    button_style='',\n",
    "    layout=ipywidgets.Layout(width='300px', height='30px'),\n",
    "    disabled=False)\n",
    "s1 = ipywidgets.Button(\n",
    "    description= \"📃 Show datasets for selected topic\",\n",
    "    button_style='',\n",
    "    layout=ipywidgets.Layout(width='300px', height='30px'),\n",
    "    disabled=False)\n",
    "s2 = ipywidgets.RadioButtons(\n",
    "    description='Select:',\n",
    "    disabled=False)\n",
    "s3 = ipywidgets.Button(\n",
    "    description= '📈 Reuse selected dataset',\n",
    "    button_style='',\n",
    "    layout=ipywidgets.Layout(width='300px', height='30px'),\n",
    "    disabled=False)\n",
    "s4 = ipywidgets.Button(\n",
    "    description= '✏️ Update topic',\n",
    "    button_style='',\n",
    "    layout=ipywidgets.Layout(width='300px', height='30px'),\n",
    "    disabled=False)\n",
    "s5 = ipywidgets.Text(\n",
    "    description='Field:',\n",
    "    disabled=False)\n",
    "s6 = ipywidgets.Textarea(\n",
    "    description='Description:',\n",
    "    disabled=False)\n",
    "s7 = ipywidgets.Textarea(\n",
    "    description='Keywords:',\n",
    "    disabled=False)\n",
    "s8 = ipywidgets.Text(\n",
    "    disabled=False)\n",
    "s9 = ipywidgets.Text(\n",
    "    disabled=False)\n",
    "s10 = ipywidgets.Text(\n",
    "    disabled=False)\n",
    "s11 = ipywidgets.Text(\n",
    "    disabled=False)\n",
    "\n",
    "sq = ipywidgets.VBox(children=[s8, s9, s10, s11])\n",
    "\n",
    "s12 = ipywidgets.VBox(children=[s5, s6, s7, ipywidgets.Label('Questions:'), sq, s4])\n",
    "\n",
    "w0 = ipywidgets.Dropdown(\n",
    "        description='Select topic:',\n",
    "        disabled=False)\n",
    "w1 = ipywidgets.Text(\n",
    "    placeholder='e.g. COVID-19',\n",
    "    description='Topic name:',\n",
    "    disabled=False)\n",
    "w2 = ipywidgets.Text(\n",
    "    placeholder='e.g. Neuroscience',\n",
    "    description='Field:',\n",
    "    disabled=False)\n",
    "w3 = ipywidgets.Textarea(\n",
    "    placeholder='Add a description of your topic',\n",
    "    description='Description:',\n",
    "    disabled=False)\n",
    "w4 = ipywidgets.Textarea(\n",
    "    placeholder='e.g. Coronavirus; COVID-19; SARS; risk factor; glycosylation; sugar; carbohydrates',\n",
    "    description='Keywords:',\n",
    "    disabled=False)\n",
    "w5 = ipywidgets.Text(\n",
    "    placeholder='Add a question about your research topic',\n",
    "    disabled=False)\n",
    "w6 = ipywidgets.Text(\n",
    "    placeholder='Add a question about your research topic',\n",
    "    disabled=False)\n",
    "w7 = ipywidgets.Text(\n",
    "    placeholder='Add a question about your research topic',\n",
    "    disabled=False)\n",
    "w8 = ipywidgets.Text(\n",
    "    placeholder='Add a question about your research topic',\n",
    "    disabled=False)\n",
    "w9 = ipywidgets.Button(\n",
    "    description='Create',\n",
    "    button_style='',\n",
    "    tooltip='Create new topic',\n",
    "    disabled=False)\n",
    "\n",
    "output = ipywidgets.Output()\n",
    "output2 = ipywidgets.Output()\n",
    "output3 = ipywidgets.Output()\n",
    "\n",
    "buttons = ipywidgets.HBox(children=[s0, s1])\n",
    "outputs = ipywidgets.HBox(children=[output, output3])\n",
    "tab1 = ipywidgets.VBox(children=[buttons, outputs])\n",
    "tab2 = ipywidgets.VBox(children=[w1, w2, w3, w4, ipywidgets.Label('Please express your research topic in a few questions:'), w5, w6, w7, w8, w9, output2])\n",
    "widget = ipywidgets.Tab(children=[tab1, tab2])\n",
    "widget.set_title(0, 'Select topic')\n",
    "widget.set_title(1, 'Create topic')\n",
    "\n",
    "w9.on_click(save_topic)\n",
    "s0.on_click(get_topics)\n",
    "s1.on_click(get_datasets)\n",
    "s3.on_click(download_dataset)\n",
    "s4.on_click(update_topic)\n",
    "\n",
    "display(widget)"
   ]
  },
  {
   "cell_type": "markdown",
   "metadata": {},
   "source": [
    "# Data Import\n",
    "The user loads data from a data source (CORD-19). The loaded data forms the corpus. The user searches the CORPUS in Blue Brain Search."
   ]
  },
  {
   "cell_type": "markdown",
   "metadata": {},
   "source": [
    "Search server URL"
   ]
  },
  {
   "cell_type": "code",
   "execution_count": 15,
   "metadata": {},
   "outputs": [
    {
     "name": "stdout",
     "output_type": "stream",
     "text": [
      "This server is using the database: cord19_v47\n"
     ]
    }
   ],
   "source": [
    "SEARCH_ENGINE_URL = os.getenv(\"SEARCH_ENGINE_URL\", \"http://dgx1.bbp.epfl.ch:8850\")\n",
    "assert SEARCH_ENGINE_URL is not None\n",
    "\n",
    "response = requests.post(\"{}/help\".format(SEARCH_ENGINE_URL))\n",
    "assert response.ok and response.json()['name'] == 'SearchServer', \"The server is not accessible\"\n",
    "print(f\"This server is using the database: {response.json()['database']}\")"
   ]
  },
  {
   "cell_type": "markdown",
   "metadata": {},
   "source": [
    "MySQL URL and engine"
   ]
  },
  {
   "cell_type": "code",
   "execution_count": 16,
   "metadata": {},
   "outputs": [],
   "source": [
    "MYSQL_DB_URI = os.getenv(\"MYSQL_DB_URI\", \"dgx1.bbp.epfl.ch:8853\")\n",
    "bbs_mysql_engine = sqlalchemy.create_engine(f'mysql+pymysql://guest:guest@{MYSQL_DB_URI}/cord19_v47')"
   ]
  },
  {
   "cell_type": "markdown",
   "metadata": {},
   "source": [
    "Article saver"
   ]
  },
  {
   "cell_type": "code",
   "execution_count": 17,
   "metadata": {},
   "outputs": [],
   "source": [
    "article_saver = ArticleSaver(connection=bbs_mysql_engine)"
   ]
  },
  {
   "cell_type": "markdown",
   "metadata": {},
   "source": [
    "Search widget"
   ]
  },
  {
   "cell_type": "code",
   "execution_count": 19,
   "metadata": {},
   "outputs": [
    {
     "data": {
      "text/html": [
       "<style> /* search engine */\n",
       "\n",
       ".article_title {\n",
       "    font-size: 17px;\n",
       "    color: #1A0DAB;\n",
       "}\n",
       ".paragraph {\n",
       "    font-size: 13px;\n",
       "    color: #222;\n",
       "}\n",
       ".paragraph_emph {\n",
       "    font-weight: bold;\n",
       "    color: #000;\n",
       "}\n",
       ".metadata {\n",
       "    font-size: 13px;\n",
       "    color: #006621;\n",
       "}\n",
       "\n",
       "\n",
       "/* widgets buttons */\n",
       "\n",
       ".bbs_button {\n",
       "    background-color: #3c96f3;\n",
       "    color: #FFF;\n",
       "    font-size: 150%;\n",
       "    transition-duration: 0.2s;\n",
       "}\n",
       ".bbs_button:hover {\n",
       "    background-color: #3176d2;\n",
       "}\n",
       "\n",
       "\n",
       "/* attribute extraction */\n",
       "\n",
       ".number  {\n",
       "    display: inline-block;\n",
       "    background: lightgreen;\n",
       "    padding: 0.2em 0.5em;\n",
       "    border-radius: 7px;\n",
       "}\n",
       ".unit {\n",
       "    display: inline-block;\n",
       "    background: pink;\n",
       "    padding: 0.2em 0.5em;\n",
       "    border-radius: 7px;\n",
       "}\n",
       ".quantityType {\n",
       "    display: inline-block;\n",
       "    background: yellow;\n",
       "    font-variant:small-caps;\n",
       "    padding: 0.2em 0.5em;\n",
       "    border-radius: 7px;\n",
       "}\n",
       ".fixedWidth {\n",
       "    width: 4px;\n",
       "    text-align: justify;\n",
       "} </style>"
      ],
      "text/plain": [
       "<IPython.core.display.HTML object>"
      ]
     },
     "metadata": {},
     "output_type": "display_data"
    },
    {
     "data": {
      "application/vnd.jupyter.widget-view+json": {
       "model_id": "9687881dc3cc432db7bcf8d7538c09ae",
       "version_major": 2,
       "version_minor": 0
      },
      "text/plain": [
       "SearchWidget(children=(Textarea(value='Glucose is a risk factor for COVID-19', description='Query', layout=Lay…"
      ]
     },
     "metadata": {},
     "output_type": "display_data"
    }
   ],
   "source": [
    "search_widget = SearchWidget(\n",
    "    bbs_search_url=SEARCH_ENGINE_URL,\n",
    "    bbs_mysql_engine=bbs_mysql_engine,\n",
    "    article_saver=article_saver,\n",
    "    results_per_page=3)\n",
    "search_widget"
   ]
  },
  {
   "cell_type": "markdown",
   "metadata": {},
   "source": [
    "Status of the Article Saver"
   ]
  },
  {
   "cell_type": "code",
   "execution_count": 20,
   "metadata": {},
   "outputs": [
    {
     "data": {
      "text/html": [
       "<div>\n",
       "<style scoped>\n",
       "    .dataframe tbody tr th:only-of-type {\n",
       "        vertical-align: middle;\n",
       "    }\n",
       "\n",
       "    .dataframe tbody tr th {\n",
       "        vertical-align: top;\n",
       "    }\n",
       "\n",
       "    .dataframe thead th {\n",
       "        text-align: right;\n",
       "    }\n",
       "</style>\n",
       "<table border=\"1\" class=\"dataframe\">\n",
       "  <thead>\n",
       "    <tr style=\"text-align: right;\">\n",
       "      <th></th>\n",
       "      <th>article_id</th>\n",
       "      <th>paragraph_pos_in_article</th>\n",
       "      <th>option</th>\n",
       "    </tr>\n",
       "  </thead>\n",
       "  <tbody>\n",
       "    <tr>\n",
       "      <th>0</th>\n",
       "      <td>154053</td>\n",
       "      <td>-1</td>\n",
       "      <td>Save full article</td>\n",
       "    </tr>\n",
       "    <tr>\n",
       "      <th>1</th>\n",
       "      <td>138667</td>\n",
       "      <td>-1</td>\n",
       "      <td>Save full article</td>\n",
       "    </tr>\n",
       "    <tr>\n",
       "      <th>2</th>\n",
       "      <td>161021</td>\n",
       "      <td>-1</td>\n",
       "      <td>Save full article</td>\n",
       "    </tr>\n",
       "    <tr>\n",
       "      <th>3</th>\n",
       "      <td>209940</td>\n",
       "      <td>-1</td>\n",
       "      <td>Save full article</td>\n",
       "    </tr>\n",
       "    <tr>\n",
       "      <th>4</th>\n",
       "      <td>214036</td>\n",
       "      <td>-1</td>\n",
       "      <td>Save full article</td>\n",
       "    </tr>\n",
       "    <tr>\n",
       "      <th>...</th>\n",
       "      <td>...</td>\n",
       "      <td>...</td>\n",
       "      <td>...</td>\n",
       "    </tr>\n",
       "    <tr>\n",
       "      <th>995</th>\n",
       "      <td>214298</td>\n",
       "      <td>-1</td>\n",
       "      <td>Save full article</td>\n",
       "    </tr>\n",
       "    <tr>\n",
       "      <th>996</th>\n",
       "      <td>216172</td>\n",
       "      <td>-1</td>\n",
       "      <td>Save full article</td>\n",
       "    </tr>\n",
       "    <tr>\n",
       "      <th>997</th>\n",
       "      <td>126431</td>\n",
       "      <td>-1</td>\n",
       "      <td>Save full article</td>\n",
       "    </tr>\n",
       "    <tr>\n",
       "      <th>998</th>\n",
       "      <td>30802</td>\n",
       "      <td>-1</td>\n",
       "      <td>Save full article</td>\n",
       "    </tr>\n",
       "    <tr>\n",
       "      <th>999</th>\n",
       "      <td>122358</td>\n",
       "      <td>-1</td>\n",
       "      <td>Save full article</td>\n",
       "    </tr>\n",
       "  </tbody>\n",
       "</table>\n",
       "<p>1000 rows × 3 columns</p>\n",
       "</div>"
      ],
      "text/plain": [
       "     article_id  paragraph_pos_in_article             option\n",
       "0        154053                        -1  Save full article\n",
       "1        138667                        -1  Save full article\n",
       "2        161021                        -1  Save full article\n",
       "3        209940                        -1  Save full article\n",
       "4        214036                        -1  Save full article\n",
       "..          ...                       ...                ...\n",
       "995      214298                        -1  Save full article\n",
       "996      216172                        -1  Save full article\n",
       "997      126431                        -1  Save full article\n",
       "998       30802                        -1  Save full article\n",
       "999      122358                        -1  Save full article\n",
       "\n",
       "[1000 rows x 3 columns]"
      ]
     },
     "execution_count": 20,
     "metadata": {},
     "output_type": "execute_result"
    }
   ],
   "source": [
    "article_saver.summary_table()"
   ]
  },
  {
   "cell_type": "markdown",
   "metadata": {},
   "source": [
    "# Set schemas\n",
    "The user defines the KG schema."
   ]
  },
  {
   "cell_type": "code",
   "execution_count": 21,
   "metadata": {},
   "outputs": [
    {
     "data": {
      "text/html": [
       "<div>\n",
       "<style scoped>\n",
       "    .dataframe tbody tr th:only-of-type {\n",
       "        vertical-align: middle;\n",
       "    }\n",
       "\n",
       "    .dataframe tbody tr th {\n",
       "        vertical-align: top;\n",
       "    }\n",
       "\n",
       "    .dataframe thead th {\n",
       "        text-align: right;\n",
       "    }\n",
       "</style>\n",
       "<table border=\"1\" class=\"dataframe\">\n",
       "  <thead>\n",
       "    <tr style=\"text-align: right;\">\n",
       "      <th></th>\n",
       "      <th>entity_type</th>\n",
       "      <th>property</th>\n",
       "      <th>property_type</th>\n",
       "      <th>property_value_type</th>\n",
       "      <th>ontology_source</th>\n",
       "    </tr>\n",
       "  </thead>\n",
       "  <tbody>\n",
       "    <tr>\n",
       "      <th>0</th>\n",
       "      <td>CELL_COMPARTMENT</td>\n",
       "      <td>None</td>\n",
       "      <td>None</td>\n",
       "      <td>None</td>\n",
       "      <td>None</td>\n",
       "    </tr>\n",
       "    <tr>\n",
       "      <th>1</th>\n",
       "      <td>CELL_TYPE</td>\n",
       "      <td>None</td>\n",
       "      <td>None</td>\n",
       "      <td>None</td>\n",
       "      <td>None</td>\n",
       "    </tr>\n",
       "    <tr>\n",
       "      <th>2</th>\n",
       "      <td>CHEMICAL</td>\n",
       "      <td>None</td>\n",
       "      <td>None</td>\n",
       "      <td>None</td>\n",
       "      <td>NCIT</td>\n",
       "    </tr>\n",
       "    <tr>\n",
       "      <th>3</th>\n",
       "      <td>CONDITION</td>\n",
       "      <td>None</td>\n",
       "      <td>None</td>\n",
       "      <td>None</td>\n",
       "      <td>None</td>\n",
       "    </tr>\n",
       "    <tr>\n",
       "      <th>4</th>\n",
       "      <td>DISEASE</td>\n",
       "      <td>None</td>\n",
       "      <td>None</td>\n",
       "      <td>None</td>\n",
       "      <td>NCIT</td>\n",
       "    </tr>\n",
       "    <tr>\n",
       "      <th>5</th>\n",
       "      <td>DRUG</td>\n",
       "      <td>None</td>\n",
       "      <td>None</td>\n",
       "      <td>None</td>\n",
       "      <td>None</td>\n",
       "    </tr>\n",
       "    <tr>\n",
       "      <th>6</th>\n",
       "      <td>ORGAN</td>\n",
       "      <td>None</td>\n",
       "      <td>None</td>\n",
       "      <td>None</td>\n",
       "      <td>NCIT</td>\n",
       "    </tr>\n",
       "    <tr>\n",
       "      <th>7</th>\n",
       "      <td>ORGANISM</td>\n",
       "      <td>None</td>\n",
       "      <td>None</td>\n",
       "      <td>None</td>\n",
       "      <td>NCIT</td>\n",
       "    </tr>\n",
       "    <tr>\n",
       "      <th>8</th>\n",
       "      <td>PATHWAY</td>\n",
       "      <td>None</td>\n",
       "      <td>None</td>\n",
       "      <td>None</td>\n",
       "      <td>Reactome</td>\n",
       "    </tr>\n",
       "    <tr>\n",
       "      <th>9</th>\n",
       "      <td>PROTEIN</td>\n",
       "      <td>None</td>\n",
       "      <td>None</td>\n",
       "      <td>None</td>\n",
       "      <td>NCIT</td>\n",
       "    </tr>\n",
       "  </tbody>\n",
       "</table>\n",
       "</div>"
      ],
      "text/plain": [
       "        entity_type property property_type property_value_type ontology_source\n",
       "0  CELL_COMPARTMENT     None          None                None            None\n",
       "1         CELL_TYPE     None          None                None            None\n",
       "2          CHEMICAL     None          None                None            NCIT\n",
       "3         CONDITION     None          None                None            None\n",
       "4           DISEASE     None          None                None            NCIT\n",
       "5              DRUG     None          None                None            None\n",
       "6             ORGAN     None          None                None            NCIT\n",
       "7          ORGANISM     None          None                None            NCIT\n",
       "8           PATHWAY     None          None                None        Reactome\n",
       "9           PROTEIN     None          None                None            NCIT"
      ]
     },
     "execution_count": 21,
     "metadata": {},
     "output_type": "execute_result"
    }
   ],
   "source": [
    "mining_schema = MiningSchema()\n",
    "\n",
    "mining_schema.add_entity(\"CELL_COMPARTMENT\")\n",
    "mining_schema.add_entity(\"CELL_TYPE\")\n",
    "mining_schema.add_entity(\"CHEMICAL\", ontology_source=\"NCIT\")\n",
    "mining_schema.add_entity(\"CONDITION\")\n",
    "mining_schema.add_entity(\"DISEASE\", ontology_source=\"NCIT\")\n",
    "mining_schema.add_entity(\"DRUG\")\n",
    "mining_schema.add_entity(\"ORGAN\", ontology_source=\"NCIT\")\n",
    "mining_schema.add_entity(\"ORGANISM\", ontology_source=\"NCIT\")\n",
    "mining_schema.add_entity(\"PATHWAY\", ontology_source=\"Reactome\")\n",
    "mining_schema.add_entity(\"PROTEIN\", ontology_source=\"NCIT\")\n",
    "\n",
    "mining_schema.df"
   ]
  },
  {
   "cell_type": "markdown",
   "metadata": {},
   "source": [
    "# Create a knowledge graph according to schemas\n",
    "The user extracts data from the text of a set of papers using selected Named Entity Recognizers and Relation Extractors from Blue Brain Search.\n",
    "The user can preview the extracted data.\n",
    "The user curates extracted data.\n",
    "The user links the extracted entities and relations to ontologies.\n",
    "The user saves data into Knowledge Graph."
   ]
  },
  {
   "cell_type": "markdown",
   "metadata": {},
   "source": [
    "- **input**: raw text\n",
    "- **output**: csv table of extracted entities/relations"
   ]
  },
  {
   "cell_type": "code",
   "execution_count": 22,
   "metadata": {},
   "outputs": [],
   "source": [
    "DEFAULT_TEXT = \"\"\"Autophagy maintains tumour growth through circulating\n",
    "arginine. Autophagy captures intracellular components and delivers them to\n",
    "lysosomes, where they are degraded and recycled to sustain metabolism and to\n",
    "enable survival during starvation. Acute, whole-body deletion of the essential \n",
    "autophagy gene Atg7 in adult mice causes a systemic metabolic defect that \n",
    "manifests as starvation intolerance and gradual loss of white adipose tissue, \n",
    "liver glycogen and muscle mass. Cancer cells also benefit from autophagy. \n",
    "Deletion of essential autophagy genes impairs the metabolism, proliferation, \n",
    "survival and malignancy of spontaneous tumours in models of autochthonous \n",
    "cancer. Acute, systemic deletion of Atg7 or acute, systemic expression of a \n",
    "dominant-negative ATG4b in mice induces greater regression of KRAS-driven \n",
    "cancers than does tumour-specific autophagy deletion, which suggests that host \n",
    "autophagy promotes tumour growth.\n",
    "\"\"\".replace('\\n', ' ').replace('  ', ' ')"
   ]
  },
  {
   "cell_type": "code",
   "execution_count": 23,
   "metadata": {},
   "outputs": [
    {
     "name": "stdout",
     "output_type": "stream",
     "text": [
      "This server is using the database: cord19_v47\n"
     ]
    }
   ],
   "source": [
    "TEXT_MINING_URL = os.getenv(\"TEXT_MINING_URL\", \"http://dgx1.bbp.epfl.ch:8852\")\n",
    "response = requests.post(TEXT_MINING_URL + \"/help\")\n",
    "assert response.ok and response.json()['name'] == 'MiningServer'\n",
    "print(f\"This server is using the database: {response.json()['database']}\")"
   ]
  },
  {
   "cell_type": "code",
   "execution_count": 24,
   "metadata": {},
   "outputs": [
    {
     "data": {
      "text/html": [
       "<style> /* search engine */\n",
       "\n",
       ".article_title {\n",
       "    font-size: 17px;\n",
       "    color: #1A0DAB;\n",
       "}\n",
       ".paragraph {\n",
       "    font-size: 13px;\n",
       "    color: #222;\n",
       "}\n",
       ".paragraph_emph {\n",
       "    font-weight: bold;\n",
       "    color: #000;\n",
       "}\n",
       ".metadata {\n",
       "    font-size: 13px;\n",
       "    color: #006621;\n",
       "}\n",
       "\n",
       "\n",
       "/* widgets buttons */\n",
       "\n",
       ".bbs_button {\n",
       "    background-color: #3c96f3;\n",
       "    color: #FFF;\n",
       "    font-size: 150%;\n",
       "    transition-duration: 0.2s;\n",
       "}\n",
       ".bbs_button:hover {\n",
       "    background-color: #3176d2;\n",
       "}\n",
       "\n",
       "\n",
       "/* attribute extraction */\n",
       "\n",
       ".number  {\n",
       "    display: inline-block;\n",
       "    background: lightgreen;\n",
       "    padding: 0.2em 0.5em;\n",
       "    border-radius: 7px;\n",
       "}\n",
       ".unit {\n",
       "    display: inline-block;\n",
       "    background: pink;\n",
       "    padding: 0.2em 0.5em;\n",
       "    border-radius: 7px;\n",
       "}\n",
       ".quantityType {\n",
       "    display: inline-block;\n",
       "    background: yellow;\n",
       "    font-variant:small-caps;\n",
       "    padding: 0.2em 0.5em;\n",
       "    border-radius: 7px;\n",
       "}\n",
       ".fixedWidth {\n",
       "    width: 4px;\n",
       "    text-align: justify;\n",
       "} </style>"
      ],
      "text/plain": [
       "<IPython.core.display.HTML object>"
      ]
     },
     "metadata": {},
     "output_type": "display_data"
    },
    {
     "data": {
      "application/vnd.jupyter.widget-view+json": {
       "model_id": "3cb31c3907404486bdde34f63d196844",
       "version_major": 2,
       "version_minor": 0
      },
      "text/plain": [
       "MiningWidget(children=(Textarea(value='Autophagy maintains tumour growth through circulating arginine. Autopha…"
      ]
     },
     "metadata": {},
     "output_type": "display_data"
    }
   ],
   "source": [
    "mining_widget = MiningWidget(\n",
    "    mining_server_url=TEXT_MINING_URL,\n",
    "    mining_schema=mining_schema,\n",
    "    article_saver=article_saver,\n",
    "    default_text=DEFAULT_TEXT)\n",
    "mining_widget"
   ]
  },
  {
   "cell_type": "code",
   "execution_count": 25,
   "metadata": {},
   "outputs": [],
   "source": [
    "# Get DataFrame of extractions\n",
    "table_extractions = mining_widget.get_extracted_table()\n",
    "\n",
    "# Drop duplicates in DataFrame\n",
    "columns_duplicates = table_extractions.columns.tolist()\n",
    "columns_duplicates.remove('entity_type')\n",
    "table_extractions = table_extractions.drop_duplicates(subset=columns_duplicates, keep='first', ignore_index=True)\n",
    "table_extractions = table_extractions.dropna(subset=[\"entity\"])"
   ]
  },
  {
   "cell_type": "markdown",
   "metadata": {},
   "source": [
    "## Curate the table with extracted entities"
   ]
  },
  {
   "cell_type": "markdown",
   "metadata": {},
   "source": [
    "- **input**: csv table of extracted entities/relations\n",
    "- **output**: csv table with curated and ontology linked entities/relations"
   ]
  },
  {
   "cell_type": "code",
   "execution_count": 26,
   "metadata": {},
   "outputs": [
    {
     "name": "stdout",
     "output_type": "stream",
     "text": [
      "The table has 173387 rows.\n"
     ]
    }
   ],
   "source": [
    "print(f'The table has {table_extractions.shape[0]} rows.')"
   ]
  },
  {
   "cell_type": "code",
   "execution_count": 27,
   "metadata": {},
   "outputs": [
    {
     "name": "stdout",
     "output_type": "stream",
     "text": [
      "Setting default term filters: the user can remove them later on in the UI if need be ...\n",
      "Done.\n",
      "Prepating curatation data...\n",
      "Cleaning up the entities...\n",
      "Aggregating occurrences of entities....\n",
      "Done.\n",
      "Loading the ontology linking data...\n",
      "Loading default ontology type mapping...\n",
      "Done.\n",
      "CPU times: user 16.9 s, sys: 1.4 s, total: 18.3 s\n",
      "Wall time: 18.3 s\n"
     ]
    }
   ],
   "source": [
    "%%time\n",
    "\n",
    "print(\"Setting default term filters: the user can remove them later on in the UI if need be ...\")\n",
    "default_term_filters = 'Glucose; Covid-19; SARS-CoV-2; Diabetes; IL-1; ACE2; glycosylation; hyperglycemia; shock; fatigue; CVD; vasoconstriction; lactate; insulin; SP-D; HbA1c; LDH; glycolysis; GLUT; macrophage; lymphocytes; ventilation;SARS; ARDS; Cytokine Storm; pneumonia; multi-organs failure; thrombosis; inflammation; IL-6; CRP; D-Dimer; Ferritin; Lung Disease; Hypertension; Aging; COPD; angiotensin 2 (or angiotensin II or AngII); Obesity; ICU (intensive care unit); ventilation; ketogenic diet'.split(\"; \")\n",
    "filtered_table_extractions = table_extractions.copy()\n",
    "\n",
    "default_found_term_filters = set() \n",
    "for term_filter in default_term_filters:\n",
    "    entities_to_keep = filtered_table_extractions[\n",
    "        filtered_table_extractions[\"entity\"].apply(lambda x: x.lower() == term_filter.lower())][\"entity\"].unique()\n",
    "    if entities_to_keep is not None and len(entities_to_keep) > 0:\n",
    "        default_found_term_filters.add(tuple(entities_to_keep))\n",
    "term_filter_options = [term_filter[0] for term_filter in default_found_term_filters]\n",
    "print(\"Done.\")\n",
    "\n",
    "print(\"Prepating curatation data...\")\n",
    "curation_input_table, factor_counts = generate_curation_table(filtered_table_extractions)\n",
    "print(\"Done.\")\n",
    "\n",
    "print(\"Loading the ontology linking data...\")\n",
    "linking = pd.read_pickle(\"/gpfs/bbp.cscs.ch/project/proj116/network_analytics/data/cord_47_linking.pkl\")\n",
    "definitions = linking[[\"concept\", \"definition\"]].groupby(\"concept\").aggregate(lambda x: list(x)[0]).to_dict()[\"definition\"]\n",
    "\n",
    "print(\"Loading default ontology type mapping...\")\n",
    "with open('/gpfs/bbp.cscs.ch/project/proj116/bbg/ontology-linking/ncit_to_mltypes_mapping.json', \"rb\") as f:\n",
    "    default_type_mapping = json.load(f)\n",
    "\n",
    "print(\"Done.\")"
   ]
  },
  {
   "cell_type": "markdown",
   "metadata": {},
   "source": [
    "Run the curation app. In case of the error 'Address already in use', try specifying another port (for example, in the range 8072-8099)"
   ]
  },
  {
   "cell_type": "code",
   "execution_count": 28,
   "metadata": {},
   "outputs": [
    {
     "name": "stdout",
     "output_type": "stream",
     "text": [
      "Opening port number 8071 failed: Address 'http://127.0.0.1:8071' already in use.\n",
      "    Try passing a different port to run_server.. Trying port number 8072 ...\n"
     ]
    },
    {
     "name": "stderr",
     "output_type": "stream",
     "text": [
      "Exception in thread Thread-4:\n",
      "Traceback (most recent call last):\n",
      "  File \"/gpfs/bbp.cscs.ch/ssd/apps/hpc/jenkins/deploy/external-libraries/2020-02-01/linux-rhel7-x86_64/gcc-8.3.0/python-3.7.4-tfxecymrkn/lib/python3.7/threading.py\", line 926, in _bootstrap_inner\n",
      "    self.run()\n",
      "  File \"/gpfs/bbp.cscs.ch/ssd/apps/hpc/jenkins/deploy/external-libraries/2020-02-01/linux-rhel7-x86_64/gcc-8.3.0/python-3.7.4-tfxecymrkn/lib/python3.7/threading.py\", line 870, in run\n",
      "    self._target(*self._args, **self._kwargs)\n",
      "  File \"/gpfs/bbp.cscs.ch/ssd/apps/tools/jupyter/venvs/bbs_bbg/lib/python3.7/site-packages/retrying.py\", line 49, in wrapped_f\n",
      "    return Retrying(*dargs, **dkw).call(f, *args, **kw)\n",
      "  File \"/gpfs/bbp.cscs.ch/ssd/apps/tools/jupyter/venvs/bbs_bbg/lib/python3.7/site-packages/retrying.py\", line 212, in call\n",
      "    raise attempt.get()\n",
      "  File \"/gpfs/bbp.cscs.ch/ssd/apps/tools/jupyter/venvs/bbs_bbg/lib/python3.7/site-packages/retrying.py\", line 247, in get\n",
      "    six.reraise(self.value[0], self.value[1], self.value[2])\n",
      "  File \"/gpfs/bbp.cscs.ch/ssd/apps/tools/jupyter/venvs/bbs_bbg/lib/python3.7/site-packages/six.py\", line 703, in reraise\n",
      "    raise value\n",
      "  File \"/gpfs/bbp.cscs.ch/ssd/apps/tools/jupyter/venvs/bbs_bbg/lib/python3.7/site-packages/retrying.py\", line 200, in call\n",
      "    attempt = Attempt(fn(*args, **kwargs), attempt_number, False)\n",
      "  File \"/gpfs/bbp.cscs.ch/ssd/apps/tools/jupyter/venvs/bbs_bbg/lib/python3.7/site-packages/jupyter_dash/jupyter_app.py\", line 264, in run\n",
      "    super_run_server(**kwargs)\n",
      "  File \"/gpfs/bbp.cscs.ch/ssd/apps/tools/jupyter/venvs/bbs_bbg/lib/python3.7/site-packages/dash/dash.py\", line 1615, in run_server\n",
      "    self.server.run(host=host, port=port, debug=debug, **flask_run_options)\n",
      "  File \"/gpfs/bbp.cscs.ch/ssd/apps/tools/jupyter/venvs/bbs_bbg/lib/python3.7/site-packages/flask/app.py\", line 990, in run\n",
      "    run_simple(host, port, self, **options)\n",
      "  File \"/gpfs/bbp.cscs.ch/ssd/apps/tools/jupyter/venvs/bbs_bbg/lib/python3.7/site-packages/werkzeug/serving.py\", line 1052, in run_simple\n",
      "    inner()\n",
      "  File \"/gpfs/bbp.cscs.ch/ssd/apps/tools/jupyter/venvs/bbs_bbg/lib/python3.7/site-packages/werkzeug/serving.py\", line 1005, in inner\n",
      "    fd=fd,\n",
      "  File \"/gpfs/bbp.cscs.ch/ssd/apps/tools/jupyter/venvs/bbs_bbg/lib/python3.7/site-packages/werkzeug/serving.py\", line 848, in make_server\n",
      "    host, port, app, request_handler, passthrough_errors, ssl_context, fd=fd\n",
      "  File \"/gpfs/bbp.cscs.ch/ssd/apps/tools/jupyter/venvs/bbs_bbg/lib/python3.7/site-packages/werkzeug/serving.py\", line 740, in __init__\n",
      "    HTTPServer.__init__(self, server_address, handler)\n",
      "  File \"/gpfs/bbp.cscs.ch/ssd/apps/hpc/jenkins/deploy/external-libraries/2020-02-01/linux-rhel7-x86_64/gcc-8.3.0/python-3.7.4-tfxecymrkn/lib/python3.7/socketserver.py\", line 452, in __init__\n",
      "    self.server_bind()\n",
      "  File \"/gpfs/bbp.cscs.ch/ssd/apps/hpc/jenkins/deploy/external-libraries/2020-02-01/linux-rhel7-x86_64/gcc-8.3.0/python-3.7.4-tfxecymrkn/lib/python3.7/http/server.py\", line 137, in server_bind\n",
      "    socketserver.TCPServer.server_bind(self)\n",
      "  File \"/gpfs/bbp.cscs.ch/ssd/apps/hpc/jenkins/deploy/external-libraries/2020-02-01/linux-rhel7-x86_64/gcc-8.3.0/python-3.7.4-tfxecymrkn/lib/python3.7/socketserver.py\", line 466, in server_bind\n",
      "    self.socket.bind(self.server_address)\n",
      "OSError: [Errno 98] Address already in use\n",
      "\n"
     ]
    },
    {
     "name": "stdout",
     "output_type": "stream",
     "text": [
      "Merging the occurrence data with the ontology linking...\n"
     ]
    }
   ],
   "source": [
    "curation_app.set_default_terms_to_include(term_filter_options)\n",
    "curation_app.set_table(curation_input_table.copy())\n",
    "curation_app.set_ontology_linking_callback(lambda x: link_ontology(linking, default_type_mapping, x))\n",
    "\n",
    "curation_app.run(port=8071)"
   ]
  },
  {
   "cell_type": "markdown",
   "metadata": {},
   "source": [
    "## Create a co-mention graph from curated entities"
   ]
  },
  {
   "cell_type": "markdown",
   "metadata": {},
   "source": [
    "- **input**: csv table with curated and ontology linked entities/relations\n",
    "- **output**: graph objects with co-occurrence network and its spanning tree"
   ]
  },
  {
   "cell_type": "code",
   "execution_count": 29,
   "metadata": {},
   "outputs": [],
   "source": [
    "curated_table_extractions = curation_app.get_curated_table()"
   ]
  },
  {
   "cell_type": "code",
   "execution_count": 30,
   "metadata": {},
   "outputs": [],
   "source": [
    "curated_table_extractions[\"paper\"] = curated_table_extractions[\"paper\"].apply(lambda x: set(x))\n",
    "curated_table_extractions[\"paragraph\"] = curated_table_extractions[\"paragraph\"].apply(lambda x: set(x))\n",
    "curated_table_extractions[\"section\"] = curated_table_extractions[\"section\"].apply(lambda x: set(x))"
   ]
  },
  {
   "cell_type": "markdown",
   "metadata": {},
   "source": [
    "Create a co-mention network from curated table"
   ]
  },
  {
   "cell_type": "code",
   "execution_count": 31,
   "metadata": {},
   "outputs": [
    {
     "name": "stdout",
     "output_type": "stream",
     "text": [
      "-------------------------------\n",
      "Factor: paper\n",
      "-------------------------------\n",
      "Fitering data.....\n",
      "Selected 500 most frequent terms\n",
      "Examining 124750 pairs of terms for co-occurrence...\n",
      "Generated 119713 edges                    \n",
      "Created a co-occurrence graph:\n",
      "\tnumber of nodes:  500\n",
      "\tnumber of edges:  119713\n",
      "Saving the edges...\n",
      "Creating a graph object...\n",
      "Computing degree centrality statistics....\n",
      "Top n nodes by frequency:\n",
      "\tcovid-19 (30813)\n",
      "\tcoronavirus (27887)\n",
      "\tsars-cov-2 (27580)\n",
      "\tinfectious disorder (26179)\n",
      "\tvirus (25430)\n",
      "\tdiabetes mellitus (24466)\n",
      "\tlung (24148)\n",
      "\tviral (23807)\n",
      "\tsars coronavirus (23578)\n",
      "\tblood (22652)\n",
      "\n",
      "Computing PageRank centrality statistics....\n",
      "Top n nodes by frequency:\n",
      "\tcovid-19 (0.01)\n",
      "\tcoronavirus (0.01)\n",
      "\tsars-cov-2 (0.01)\n",
      "\tinfectious disorder (0.01)\n",
      "\tvirus (0.01)\n",
      "\tdiabetes mellitus (0.01)\n",
      "\tlung (0.01)\n",
      "\tviral (0.01)\n",
      "\tsars coronavirus (0.01)\n",
      "\tblood (0.01)\n",
      "\n",
      "Computing betweenness centrality statistics....\n",
      "Detecting communities...\n",
      "Best network partition:\n",
      "\t Number of communities: 4\n",
      "\t Modularity: 0.05509750437332097\n",
      "Detecting communities...\n",
      "Best network partition:\n",
      "\t Number of communities: 4\n",
      "\t Modularity: 0.0784179697786083\n",
      "Computing the minimum spanning tree...\n",
      "-------------------------------\n",
      "Factor: paragraph\n",
      "-------------------------------\n",
      "Fitering data.....\n",
      "Selected 500 most frequent terms\n",
      "Examining 124750 pairs of terms for co-occurrence...\n",
      "Generated 119713 edges                    \n",
      "Created a co-occurrence graph:\n",
      "\tnumber of nodes:  500\n",
      "\tnumber of edges:  119713\n",
      "Saving the edges...\n",
      "Creating a graph object...\n",
      "Computing degree centrality statistics....\n",
      "Top n nodes by frequency:\n",
      "\tcovid-19 (32182)\n",
      "\tcoronavirus (27887)\n",
      "\tsars-cov-2 (27580)\n",
      "\tinfectious disorder (26200)\n",
      "\tvirus (25430)\n",
      "\tdiabetes mellitus (25170)\n",
      "\tlung (24148)\n",
      "\tviral (23807)\n",
      "\tsars coronavirus (23578)\n",
      "\tblood (22652)\n",
      "\n",
      "Computing PageRank centrality statistics....\n",
      "Top n nodes by frequency:\n",
      "\tcovid-19 (0.01)\n",
      "\tcoronavirus (0.01)\n",
      "\tsars-cov-2 (0.01)\n",
      "\tinfectious disorder (0.01)\n",
      "\tvirus (0.01)\n",
      "\tdiabetes mellitus (0.01)\n",
      "\tlung (0.01)\n",
      "\tviral (0.01)\n",
      "\tsars coronavirus (0.01)\n",
      "\tblood (0.01)\n",
      "\n",
      "Computing betweenness centrality statistics....\n",
      "Detecting communities...\n",
      "Best network partition:\n",
      "\t Number of communities: 4\n",
      "\t Modularity: 0.05076844573781185\n",
      "Detecting communities...\n",
      "Best network partition:\n",
      "\t Number of communities: 4\n",
      "\t Modularity: 0.030147281291781604\n",
      "Computing the minimum spanning tree...\n",
      "Done.\n"
     ]
    }
   ],
   "source": [
    "type_data = curated_table_extractions[[\"entity_type\"]].rename(columns={\"entity_type\": \"type\"})\n",
    "n_most_frequent = curation_app.n_most_frequent if curation_app.n_most_frequent else 100\n",
    "graphs, trees = generate_comention_analysis(\n",
    "    curated_table_extractions, factor_counts, n_most_frequent=n_most_frequent, type_data=type_data, factors=[\"paper\", \"paragraph\"], cores=10)\n",
    "print(\"Done.\")"
   ]
  },
  {
   "cell_type": "code",
   "execution_count": 32,
   "metadata": {},
   "outputs": [],
   "source": [
    "cytoscape_graphs = dict()\n",
    "for f in [\"paper\", \"paragraph\"]:\n",
    "    cytoscape_graphs[f] = {\n",
    "        \"tree\": build_cytoscape_data(trees[f]),\n",
    "        \"graph\": build_cytoscape_data(graphs[f])\n",
    "    }"
   ]
  },
  {
   "cell_type": "code",
   "execution_count": 33,
   "metadata": {},
   "outputs": [
    {
     "name": "stdout",
     "output_type": "stream",
     "text": [
      "Loading pre-generated graphs with 3'000 entities...\n",
      "\t - paper-based network\n",
      "\t - paragraph-based network\n",
      "Done.\n",
      "Loading pre-computed node positions...\n",
      "Done.\n",
      "CPU times: user 39.1 s, sys: 3.34 s, total: 42.4 s\n",
      "Wall time: 42.7 s\n"
     ]
    }
   ],
   "source": [
    "%%time\n",
    "\n",
    "prefix = \"/gpfs/bbp.cscs.ch/project/proj116/network_analytics/data/graphs/cord_47/full_3000\"\n",
    "\n",
    "print(\"Loading pre-generated graphs with 3'000 entities...\")\n",
    "print(\"\\t - paper-based network\")\n",
    "paper_graph = load_network(\"{}_paper_edge_list.pkl\".format(prefix), \"{}_paper_node_list.pkl\".format(prefix))\n",
    "paper_spanning_tree = load_network(\"{}_paper_tree_edge_list.pkl\".format(prefix), \"{}_paper_tree_node_list.pkl\".format(prefix))\n",
    "nx.set_node_attributes(\n",
    "    paper_spanning_tree, {\n",
    "        n: len(paper_spanning_tree.nodes[n][\"paper\"])\n",
    "        for n in paper_spanning_tree.nodes()\n",
    "    },\n",
    "    \"paper_frequency\")\n",
    "\n",
    "print(\"\\t - paragraph-based network\")\n",
    "paragraph_graph = load_network(\"{}_paragraph_edge_list.pkl\".format(prefix), \"{}_paragraph_node_list.pkl\".format(prefix))\n",
    "paragraph_spanning_tree = load_network(\"{}_paragraph_tree_edge_list.pkl\".format(prefix), \"{}_paragraph_node_list.pkl\".format(prefix))\n",
    "nx.set_node_attributes(\n",
    "    paragraph_spanning_tree, {\n",
    "        n: len(paragraph_spanning_tree.nodes[n][\"paper\"])\n",
    "        for n in paragraph_spanning_tree.nodes()\n",
    "    },\n",
    "    \"paper_frequency\")\n",
    "print(\"Done.\")\n",
    "\n",
    "print(\"Loading pre-computed node positions...\")\n",
    "with open(\"/gpfs/bbp.cscs.ch/project/proj116/network_analytics/data/positions/paper_3000.json\", \"r\") as f:\n",
    "    paper_positions = json.load(f)\n",
    "\n",
    "with open(\"/gpfs/bbp.cscs.ch/project/proj116/network_analytics/data/positions/paragraph_3000.json\", \"r\") as f:\n",
    "    paragraph_positions = json.load(f)\n",
    "print(\"Done.\")"
   ]
  },
  {
   "cell_type": "markdown",
   "metadata": {},
   "source": [
    "Convert pre-computed graphs to a cytoscape format + add node positions"
   ]
  },
  {
   "cell_type": "code",
   "execution_count": 34,
   "metadata": {},
   "outputs": [],
   "source": [
    "paper_3000_cyto = build_cytoscape_data(paper_spanning_tree, positions=paper_positions)\n",
    "paragraph_3000_cyto = build_cytoscape_data(paragraph_spanning_tree, positions=paragraph_positions)"
   ]
  },
  {
   "cell_type": "code",
   "execution_count": 35,
   "metadata": {},
   "outputs": [],
   "source": [
    "paper_3000_cyto = build_cytoscape_data(paper_spanning_tree, positions=paper_positions)\n",
    "paragraph_3000_cyto = build_cytoscape_data(paragraph_spanning_tree, positions=paragraph_positions)"
   ]
  },
  {
   "cell_type": "code",
   "execution_count": 36,
   "metadata": {},
   "outputs": [],
   "source": [
    "def list_papers(papers, limit=200):\n",
    "    META_DATA = sqlalchemy.MetaData(bind=bbs_mysql_engine, reflect=True)\n",
    "    articles = META_DATA.tables[\"articles\"]\n",
    "    clauses = or_( *[articles.c.article_id == x for x in papers[:limit]] )\n",
    "    s = select([\n",
    "        articles.c.title,\n",
    "        articles.c.authors,\n",
    "        articles.c.abstract,\n",
    "        articles.c.doi,\n",
    "        articles.c.url,\n",
    "        articles.c.journal,\n",
    "        articles.c.pmcid,\n",
    "        articles.c.pubmed_id,\n",
    "        articles.c.publish_time\n",
    "    ]).where(clauses)\n",
    "    result = bbs_mysql_engine.execute(s)\n",
    "    results = []\n",
    "    for row in result:\n",
    "        results.append(row)\n",
    "    print(results)\n",
    "    return results"
   ]
  },
  {
   "cell_type": "code",
   "execution_count": 37,
   "metadata": {},
   "outputs": [],
   "source": [
    "GRAPH_OBJECTS = {\n",
    "    \"Topic-centered network (paper-based)\": {\n",
    "        \"graph\": graphs[\"paper\"],\n",
    "        \"tree\": trees[\"paper\"],\n",
    "        \"default_top_n\": 100\n",
    "    },\n",
    "    \"Topic-centered network (paragraph-based)\": {\n",
    "        \"graph\": graphs[\"paragraph\"],\n",
    "        \"tree\": trees[\"paragraph\"],\n",
    "        \"default_top_n\": 100\n",
    "    },\n",
    "    \"Naive pre-computed network (paper-based, 3000)\": {\n",
    "        \"graph\": paper_graph,\n",
    "        \"tree\": paper_spanning_tree,\n",
    "        \"positions\": paper_positions\n",
    "    },\n",
    "    \"Naive pre-computed network (paragraph-based, 3000)\": {\n",
    "        \"graph\": paragraph_graph,\n",
    "        \"tree\": paragraph_spanning_tree,\n",
    "        \"positions\": paragraph_positions,\n",
    "    }\n",
    "}   "
   ]
  },
  {
   "cell_type": "code",
   "execution_count": 38,
   "metadata": {},
   "outputs": [],
   "source": [
    "for k, v in GRAPH_OBJECTS.items():\n",
    "    tree = v[\"tree\"] if \"tree\" in v else None\n",
    "    positions = v[\"positions\"] if \"positions\" in v else None  \n",
    "    default_top_n = v[\"default_top_n\"] if \"default_top_n\" in v else None\n",
    "    visualization_app.set_graph(\n",
    "        k, v[\"graph\"], tree_object=tree, positions=positions, default_top_n=default_top_n)\n",
    "\n",
    "visualization_app.set_current_graph(\"Topic-centered network (paper-based)\")\n",
    "visualization_app.set_list_papers_callback(list_papers)\n",
    "visualization_app.set_entity_definitons(definitions)\n",
    "visualization_app._db_error_message = \"Failed to retreive papers (check if the variable 'bbs_mysql_engine' was initialized or check the DB connection)\""
   ]
  },
  {
   "cell_type": "markdown",
   "metadata": {},
   "source": [
    "By default, the app will display only top-50 most frequent nodes, you can then choose to show all the nodes in the network"
   ]
  },
  {
   "cell_type": "code",
   "execution_count": 40,
   "metadata": {},
   "outputs": [
    {
     "name": "stderr",
     "output_type": "stream",
     "text": [
      "/gpfs/bbp.cscs.ch/ssd/apps/tools/jupyter/ipykernel_launcher.py:2: SADeprecationWarning:\n",
      "\n",
      "The MetaData.reflect flag is deprecated and will be removed in a future release.   Please use the MetaData.reflect() method.\n",
      "\n"
     ]
    },
    {
     "name": "stdout",
     "output_type": "stream",
     "text": [
      "[('Prediction of SARS-CoV interaction with host proteins during lung aging reveals a potential role for TRIB3 in COVID-19', 'de Moraes, Diogo; Paiva, Brunno Vivone Buquete; Cury, Sarah Santiloni; Junior, João Pessoa Araújo; da Silva Mori, Marcelo Alves; Carvalho, Robson Francisco', 'COVID-19 is prevalent in the elderly. Old individuals are more likely to develop pneumonia and respiratory failure due to alveolar damage, suggesting ... (1140 characters truncated) ... related to more severe cases of the COVID-19. Thus, drugs that stimulate TRIB3 expression should be evaluated as a potential therapy for the disease.', '10.1101/2020.04.07.030767', 'https://doi.org/10.1101/2020.04.07.030767', 'bioRxiv', None, None, datetime.date(2020, 4, 9)), ('Obesity and COVID-19: immune and metabolic derangement as a possible link to adverse clinical outcomes', 'Korakas, Emmanouil; Ikonomidis, Ignatios; Kousathana, Foteini; Balampanis, Konstantinos; Kountouri, Aikaterini; Raptis, Athanasios; Palaiodimou, Lina; Kokkinos, Alexander; Lambadiari, Vaia', 'Recent reports have shown a strong association between obesity and the severity of COVID-19 infection, even in the absence of other comorbidities. Af ... (1258 characters truncated) ...  that of rheumatoid arthritis, has triggered the discussion of whether such agents could be administrated in selected patients with COVID-19 disease.', None, None, 'Am J Physiol Endocrinol Metab', None, None, datetime.date(2020, 1, 1)), ('Association between COVID-19 and cardiovascular disease', 'Srivastava, Kamna', 'Severe acute respiratory syndrome coronavirus 2 (SARS-CoV-2), which causes coronavirus disease 2019 (COVID-19) has reached a pandemic level. SARS-CoV ... (1053 characters truncated) ... sics of coronaviruses, novel molecular targets for the coronaviruses with a focus on COVID-19, along with their effects on the cardiovascular system.', None, None, 'IJC Heart Vascul.', None, None, datetime.date(2020, 1, 1)), ('Metabolic Syndrome and COVID 19: Endocrine-Immune-Vascular Interactions Shapes Clinical Course', 'Bansal, Rashika; Gubbi, Sriram; Muniyappa, Ranganath', 'The ongoing coronavirus disease 2019 (COVID-19) pandemic is caused by the novel coronavirus, severe acute respiratory syndrome coronavirus 2 (SARS-Co ... (905 characters truncated) ... f clinical features, the likely pathophysiologic mechanisms and potential implications for the management of metabolic syndrome in COVID-19 patients.', '10.1210/endocr/bqaa112', 'https://doi.org/10.1210/endocr/bqaa112; https://www.ncbi.nlm.nih.gov/pubmed/32603424/', 'Endocrinology', 'PMC7337756', '32603424', datetime.date(2020, 6, 30)), ('Coagulation disorder in COVID-19', 'Kander, Thomas', None, '10.1016/s2352-3026(20)30218-0', 'https://api.elsevier.com/content/article/pii/S2352302620302180; https://www.sciencedirect.com/science/article/pii/S2352302620302180; https://www.ncbi.nlm.nih.gov/pubmed/32659213/; https://doi.org/10.1016/s2352-3026(20)30218-0', 'Lancet Haematol', 'PMC7351400', '32659213', datetime.date(2020, 7, 10)), ('Association between COVID-19 and cardiovascular disease', 'Srivastava, Kamna', 'Abstract Severe acute respiratory syndrome coronavirus 2 (SARS-CoV-2), which causes coronavirus disease 2019 (COVID-19) has reached a pandemic level. ... (1062 characters truncated) ... sics of coronaviruses, novel molecular targets for the coronaviruses with a focus on COVID-19, along with their effects on the cardiovascular system.', '10.1016/j.ijcha.2020.100583', 'https://www.sciencedirect.com/science/article/pii/S2352906720302815?v=s5; https://api.elsevier.com/content/article/pii/S2352906720302815; https://www.ncbi.nlm.nih.gov/pubmed/32715080/; https://doi.org/10.1016/j.ijcha.2020.100583', 'Int J Cardiol Heart Vasc', 'PMC7359796', '32715080', datetime.date(2020, 7, 14)), ('In-hospital Use of Statins is Associated with a Reduced Risk of Mortality among Individuals with COVID-19', 'Zhang, Xiao-Jing; Qin, Juan-Juan; Cheng, Xu; Shen, Lijun; Zhao, Yan-Ci; Yuan, Yufeng; Lei, Fang; Chen, Ming-Ming; Yang, Huilin; Bai, Liangjie; Song,  ... (371 characters truncated) ... , Juan; Zhao, Guang-Nian; Zhang, Peng; Liu, Peter P.; Rohit, Loomba; Ji, Yan-Xiao; Xia, Jiahong; Wang, Yibin; Cai, Jingjing; Guo, Jiao; Li, Hongliang', 'Summary Statins are lipid-lowering therapeutics with favorable anti-inflammatory profiles and have been proposed as an adjunct therapy for COVID-19.  ... (722 characters truncated) ... ving statin treatment for COVID-19, which are needed to further validate the utility of this class of drugs to combat the mortality of this pandemic.', '10.1016/j.cmet.2020.06.015', 'https://www.sciencedirect.com/science/article/pii/S1550413120303168?v=s5; https://www.ncbi.nlm.nih.gov/pubmed/32592657/; https://api.elsevier.com/content/article/pii/S1550413120303168; https://doi.org/10.1016/j.cmet.2020.06.015', 'Cell Metab', 'PMC7311917', '32592657', datetime.date(2020, 6, 24)), ('Diabetes and Novel Coronavirus Infection: Implications for Treatment', 'Williams, David M.; Nawaz, Asif; Evans, Marc', 'The novel coronavirus (severe acute respiratory syndrome coronavirus 2 [SARS-CoV-2]) outbreak originating in December 2019 has resulted in a worldwid ... (1148 characters truncated) ... RY MATERIAL: The online version of this article (10.1007/s13300-020-00858-2) contains supplementary material, which is available to authorized users.', '10.1007/s13300-020-00858-2', 'https://doi.org/10.1007/s13300-020-00858-2; https://www.ncbi.nlm.nih.gov/pubmed/32661881/', 'Diabetes Ther', 'PMC7357277', '32661881', datetime.date(2020, 7, 13)), ('The renin–angiotensin–aldosterone system as a link between obesity and coronavirus disease 2019 severity', 'Akoumianakis, Ioannis; Filippatos, Theodosios', 'Coronavirus disease 2019 (COVID‐19), caused by the severe acute respiratory distress coronavirus 2 (SARS‐CoV2), is a rapidly evolving pandemic challe ... (894 characters truncated) ... ; therefore, more accurate understanding of the underlying mechanisms would be needed with the hope of proposing efficient therapeutic interventions.', '10.1111/obr.13077', 'https://www.ncbi.nlm.nih.gov/pubmed/32567171/; https://doi.org/10.1111/obr.13077', 'Obes Rev', 'PMC7362041', '32567171', datetime.date(2020, 6, 22)), ('Hypercoagulopathy and Adipose Tissue Exacerbated Inflammation May Explain Higher Mortality in COVID-19 Patients With Obesity', 'Pasquarelli-do-Nascimento, Gabriel; Braz-de-Melo, Heloísa Antoniella; Faria, Sara Socorro; Santos, Igor de Oliveira; Kobinger, Gary P.; Magalhães, Kelly Grace', 'COVID-19, caused by SARS-CoV-2, is characterized by pneumonia, lymphopenia, exhausted lymphocytes and a cytokine storm. Several reports from around t ... (1654 characters truncated) ... he immunopathological changes in COVID-19 patients with obesity can provide prominent targets for drug discovery and clinical management improvement.', '10.3389/fendo.2020.00530', 'https://www.ncbi.nlm.nih.gov/pubmed/32849309/; https://doi.org/10.3389/fendo.2020.00530', 'Front Endocrinol (Lausanne)', 'PMC7399077', '32849309', datetime.date(2020, 7, 28)), ('Lessons Learned to Date on COVID-19 Hyperinflammatory Syndrome: Considerations for Interventions to Mitigate SARS-CoV-2 Viral Infection and Detrimental Hyperinflammation', 'Cardone, Marco; Yano, Masahide; Rosenberg, Amy S.; Puig, Montserrat', 'The first case of human transmission of SARS-CoV-2 was reported in China in December 2019. A few months later, this viral infection had spread worldw ... (1216 characters truncated) ...  we have grouped these therapeutics according to the stage of COVID-19 progression that we considered most appropriate for their mechanism of action.', '10.3389/fimmu.2020.01131', 'https://doi.org/10.3389/fimmu.2020.01131; https://www.ncbi.nlm.nih.gov/pubmed/32574265/', 'Front Immunol', 'PMC7272717', '32574265', datetime.date(2020, 5, 29)), ('COVID-19: A Concern for Cardiovascular Disease Patients', 'Sharma, Shruti', 'Coronavirus disease 2019 (COVID-19) is declared as a pandemic that has spread worldwide, affecting 205 countries. The disease affected 1, 40, 43, 176 ... (699 characters truncated) ... he need of the hour to investigate the mechanisms which could better aid in the treatment of COVID-19-infected cardiovascular disease (CVD) patients.', '10.1007/s12012-020-09596-0', 'https://doi.org/10.1007/s12012-020-09596-0; https://www.ncbi.nlm.nih.gov/pubmed/32729064/', 'Cardiovasc Toxicol', 'PMC7387874', '32729064', datetime.date(2020, 7, 29)), ('Mechanism of higher risk for COVID-19 in diabetes: a mask to lift', 'Fang, Chen; Huang, Yun; Guo, Heming; Sun, Yihui; Li, Hui; Bian, Xuna; Guan, Haixia; Hu, Ji', 'PURPOSE: This essay aims to propose suggestions on what we can learn from previous investigations to conduct further studies on the potential mechani ... (326 characters truncated) ... d progression of COVID-19. CONCLUSIONS: In-depth and comprehensive exploration of the mechanism of diabetes affecting COVID-19 should be carried out.', '10.1007/s12020-020-02423-0', 'https://doi.org/10.1007/s12020-020-02423-0; https://www.ncbi.nlm.nih.gov/pubmed/32705411/', 'Endocrine', 'PMC7376821', '32705411', datetime.date(2020, 7, 23)), ('COVID19: A Systematic Approach to Early Identification and Healthcare Worker Protection', 'Zhao, Yu; Cui, Chong; Zhang, Kun; Liu, Jialin; Xu, Jinfu; Nisenbaum, Eric; Huang, Yixiang; Qin, Guoyou; Chen, Bing; Hoffer, Michael; Blanton, Susan H ... (25 characters truncated) ... Joshua M.; Daunert, Sylvia; Shukla, Bhavarth; Pahwa, Savita G.; Jayaweera, Dushyantha T.; Farmer, Paul E.; del Rio, Carlos; Liu, Xuezhong; Shu, Yilai', 'The COVID-19 outbreak spread rapidly throughout the globe, with worldwide infections and deaths continuing to increase dramatically. To control disea ... (766 characters truncated) ... ndardized personal protection protocols can reduce the risk of cross infection. Containing disease spread will require protecting healthcare workers.', '10.3389/fpubh.2020.00205', 'https://doi.org/10.3389/fpubh.2020.00205; https://www.ncbi.nlm.nih.gov/pubmed/32574296/', 'Front Public Health', 'PMC7248242', '32574296', datetime.date(2020, 5, 19)), ('Fatal Outcome in a Kidney-Pancreas Transplant Recipient With COVID-19', 'Suwanwongse, Kulachanya; Shabarek, Nehad', 'Severe acute respiratory syndrome coronavirus 2 (SARS-CoV-2) is a highly contagious pathogen causing the novel coronavirus disease 2019 (COVID-19), t ... (875 characters truncated) ... rom the long-term use of immunosuppressive agents in organ transplant recipients adversely affects COVID-19 prognosis and worsens COVID-19 mortality.', '10.7759/cureus.8691', 'https://doi.org/10.7759/cureus.8691; https://www.ncbi.nlm.nih.gov/pubmed/32699689/', 'Cureus', 'PMC7370643', '32699689', datetime.date(2020, 6, 18)), ('Overexpression of the SARS-CoV-2 receptor, ACE-2, in diabetic kidney disease: implications for kidney injury in Covid-19', 'Gilbert, Richard E.; Caldwell, Lauren; Misra, Paraish S.; Chan, Kin; Burns, Kevin D.; Wrana, Jeffrey L.; Yuen, Darren A.', 'Abstract Objective Diabetes is associated with adverse outcomes including death following Covid-19 infection. Beyond the lungs, SARS-CoV-2, the aetio ... (1208 characters truncated) ... ease. Further studies are needed to ascertain whether this diabetes-related overexpression is generalizable to other tissues, most notably the lungs.', '10.1016/j.jcjd.2020.07.003', 'https://www.sciencedirect.com/science/article/pii/S149926712030215X?v=s5; https://api.elsevier.com/content/article/pii/S149926712030215X', 'Can J Diabetes', 'PMC7368650', None, datetime.date(2020, 7, 18)), ('The COVID-19 Pandemic: Does Our Early Life Environment, Life Trajectory and Socioeconomic Status Determine Disease Susceptibility and Severity?', 'Holuka, Cyrielle; Merz, Myriam P.; Fernandes, Sara B.; Charalambous, Eleftheria G.; Seal, Snehaa V.; Grova, Nathalie; Turner, Jonathan D.', 'A poor socioeconomic environment and social adversity are fundamental determinants of human life span, well-being and health. Previous influenza pand ... (1655 characters truncated) ... ter-life phenotype are starting to be elucidated, and perhaps hold the key to understanding inequalities and differences in the severity of COVID-19.', '10.3390/ijms21145094', 'https://www.ncbi.nlm.nih.gov/pubmed/32707661/; https://doi.org/10.3390/ijms21145094', 'Int J Mol Sci', 'PMC7404093', '32707661', datetime.date(2020, 7, 19)), ('Diagnostic and Treatment Strategies for COVID-19', 'Jamshaid, Humzah; Zahid, Fatima; Din, Intisar ud; Zeb, Alam; Choi, Han Gon; Khan, Gul Majid; Din, Fakhar ud', 'The world is facing lockdown for the first time in decades due to the novel coronavirus COVID-19 (SARS-CoV-2) pandemic. This has led to massive globa ... (1390 characters truncated) ...  fear. It is concluded that the exploration of a range of diagnostic and treatment strategies for the management of COVID-19 is the need of the hour.', '10.1208/s12249-020-01756-3', 'https://www.ncbi.nlm.nih.gov/pubmed/32748244/; https://doi.org/10.1208/s12249-020-01756-3', 'AAPS PharmSciTech', 'PMC7398284', '32748244', datetime.date(2020, 8, 3)), ('SARS‐CoV‐2 endothelial infection causes COVID‐19 chilblains: histopathological, immunohistochemical and ultraestructural study of 7 paediatric cases', 'Colmenero, I.; Santonja, C.; Alonso‐Riaño, M.; Noguera‐Morel, L.; Hernández‐Martín, A.; Andina, D.; Wiesner, T.; Rodríguez‐Peralto, J.L.; Requena, L.; Torrelo, A.', 'BACKGROUND: Chilblains (\"COVID toes\") are being seen with increasing frequency in children and young adults during the COVID‐19 pandemic. Detailed hi ... (1351 characters truncated) ... sis of COVID‐19 chilblains and perhaps also in a group of patients severely affected by COVID‐19 presenting with features of microangiopathic damage.', '10.1111/bjd.19327', 'https://doi.org/10.1111/bjd.19327; https://www.ncbi.nlm.nih.gov/pubmed/32562567/', 'Br J Dermatol', 'PMC7323219', '32562567', datetime.date(2020, 6, 20)), ('Potential therapeutic effect of Qingwen Baidu Decoction against Corona Virus Disease 2019: a mini review', 'Wen, Jianxia; Wang, Ruilin; Liu, Honghong; Tong, Yuling; Wei, Shizhang; Zhou, Xuelin; Li, Haotian; Jing, Manyi; Wang, Min; Zhao, Yanling', 'The Corona Virus Disease 2019 (COVID-19) is an acute respiratory infectious disease. At present, COVID-19 has no specific therapeutic drugs, and the  ... (1111 characters truncated) ... armacological action and mechanism of QBD, this paper will provide a reference theoretical basis for the prevention and treatment of COVID-19 by QBD.', '10.1186/s13020-020-00332-y', 'https://www.ncbi.nlm.nih.gov/pubmed/32454888/; https://doi.org/10.1186/s13020-020-00332-y', 'Chin Med', 'PMC7235554', '32454888', datetime.date(2020, 5, 19)), ('COVID-19–related Genes in Sputum Cells in Asthma. Relationship to Demographic Features and Corticosteroids', 'Peters, Michael C.; Sajuthi, Satria; Deford, Peter; Christenson, Stephanie; Rios, Cydney L.; Montgomery, Michael T.; Woodruff, Prescott G.; Mauger, D ... (94 characters truncated) ... o, Mario; Hastie, Annette T.; Moore, Wendy; Ortega, Victor E.; Bleecker, Eugene R.; Wenzel, Sally E.; Israel, Elliot; Levy, Bruce D.; Seibold, Max A.', 'Rationale: Coronavirus disease (COVID-19) is caused by severe acute respiratory syndrome coronavirus 2 (SARS-CoV-2). ACE2 (angiotensin-converting enz ... (1552 characters truncated) ... th ICS use warrants prospective study of ICS use as a predictor of decreased susceptibility to SARS-CoV-2 infection and decreased COVID-19 morbidity.', '10.1164/rccm.202003-0821oc', 'https://doi.org/10.1164/rccm.202003-0821oc; https://www.ncbi.nlm.nih.gov/pubmed/32348692/', 'Am J Respir Crit Care Med', 'PMC7328313', '32348692', datetime.date(2020, 7, 1)), ('Current data on the cardiovascular effects of the COVID-19', 'Vlachakis, Panayotis K.; Tentolouris, Anastasios; Tousoulis, Dimitris; Tentolouris, Nikolaos', None, '10.1016/j.hjc.2020.04.001', 'https://www.ncbi.nlm.nih.gov/pubmed/32315757/; https://api.elsevier.com/content/article/pii/S1109966620300634; https://www.sciencedirect.com/science/article/pii/S1109966620300634?v=s5; https://doi.org/10.1016/j.hjc.2020.04.001', 'Hellenic J Cardiol', 'PMC7165281', '32315757', datetime.date(2020, 4, 18)), ('Inter nation social lockdown versus medical care against COVID-19, a mild environmental insight with special reference to India', 'Paital, Biswaranjan; Das, Kabita; Parida, Sarat Kumar', 'Abstract Infection by coronavirus (CoV-19) has led to emergence of a pandemic called as Coronavirus Disease (COVID-19) that has so far affected about ... (1723 characters truncated) ... ncluded that stringent social distancing via lockdown is highly important to control COVID-19 and also to contribute for self-regeneration of nature.', '10.1016/j.scitotenv.2020.138914', 'https://api.elsevier.com/content/article/pii/S0048969720324311; https://www.sciencedirect.com/science/article/pii/S0048969720324311?v=s5; https://www.ncbi.nlm.nih.gov/pubmed/32339832/; https://doi.org/10.1016/j.scitotenv.2020.138914', 'Sci Total Environ', 'PMC7179495', '32339832', datetime.date(2020, 4, 23)), ('A dissection of SARS-CoV2 with clinical implications (Review)', 'Stancioiu, Felician; Papadakis, Georgios Z.; Kteniadakis, Stelios; Izotov, Boris Nikovaevich; Coleman, Michael D.; Spandidos, Demetrios A.; Tsatsakis, Aristidis', 'We are being confronted with the most consequential pandemic since the Spanish flu of 1918-1920 to the extent that never before have 4 billion people ... (748 characters truncated) ... syndrome (ARDS); known treatments; ii) Structure and functions of SARS-CoV2 and proposed antiviral drugs; iii) The combination of arginine-ascorbate.', '10.3892/ijmm.2020.4636', 'https://www.ncbi.nlm.nih.gov/pubmed/32626922/; https://doi.org/10.3892/ijmm.2020.4636', 'Int J Mol Med', 'PMC7307812', '32626922', datetime.date(2020, 6, 10)), ('Association of hypertension, diabetes, stroke, cancer, kidney disease, and high-cholesterol with COVID-19 disease severity and fatality: A systematic review', 'Zaki, Nazar; Alashwal, Hany; Ibrahim, Sahar', 'BACKGROUND AND AIMS: To undertake a review and critical appraisal of published/preprint reports that offer methods of determining the effects of hype ... (1317 characters truncated) ... the poor COVID-19 outcomes rather than the comorbidity itself. Further research regarding this relationship and its clinical management is warranted.', '10.1016/j.dsx.2020.07.005', 'https://api.elsevier.com/content/article/pii/S1871402120302514; https://www.ncbi.nlm.nih.gov/pubmed/32663789/; https://doi.org/10.1016/j.dsx.2020.07.005; https://www.sciencedirect.com/science/article/pii/S1871402120302514?v=s5', 'Diabetes Metab Syndr', 'PMC7340589', '32663789', datetime.date(2020, 7, 8)), ('DPP4 and ACE2 in Diabetes and COVID-19: Therapeutic Targets for Cardiovascular Complications?', 'Valencia, Inés; Peiró, Concepción; Lorenzo, Óscar; Sánchez-Ferrer, Carlos F.; Eckel, Jürgen; Romacho, Tania', 'COVID-19 outbreak, caused by severe acute respiratory syndrome (SARS)-CoV-2 coronavirus has become an urgent health and economic challenge. Diabetes  ... (1483 characters truncated) ... e, thus better understanding of how they are affected by COVID-19 holds an important benefit to fight against this disease with pandemic proportions.', '10.3389/fphar.2020.01161', 'https://doi.org/10.3389/fphar.2020.01161; https://www.ncbi.nlm.nih.gov/pubmed/32848769/', 'Front Pharmacol', 'PMC7426477', '32848769', datetime.date(2020, 8, 7)), ('Systemic endothelial dysfunction: a common pathway for COVID-19, cardiovascular and metabolic diseases', 'De Lorenzo, Andrea; Escobar, Silas; Tibiriçá, Eduardo', 'Some of the mechanisms and conditions underlying endothelial dysfunction.A-human skin capillaries, visualized with high-resolution intravital color m ... (56 characters truncated) ... olic syndrome and coronary artery disease.B- healthy control. The reduced number of capillaries can be noticed in A compared to B. [Figure: see text]', '10.1016/j.numecd.2020.05.007', 'https://doi.org/10.1016/j.numecd.2020.05.007; https://www.sciencedirect.com/science/article/pii/S0939475320301824?v=s5; https://www.ncbi.nlm.nih.gov/pubmed/32425360/; https://api.elsevier.com/content/article/pii/S0939475320301824', 'Nutr Metab Cardiovasc Dis', 'PMC7233254', '32425360', datetime.date(2020, 5, 18)), ('A brief analysis and hypotheses about the risk of COVID-19 for people with type 1 and type 2 diabetes mellitus', 'Milionis, Charalampos; Milioni, Stella Olga', 'COVID-19 is an infectious respiratory disease which firstly occurred in Wuhan, China and evolved rapidly around the globe. The causative pathogen is  ... (945 characters truncated) ... resent article speculates that special aspects of the immune dysfunction caused by chronic hyperglycaemia is the main reason for this susceptibility.', '10.1007/s40200-020-00592-3', 'https://doi.org/10.1007/s40200-020-00592-3; https://www.ncbi.nlm.nih.gov/pubmed/32837957/', 'J Diabetes Metab Disord', 'PMC7370870', '32837957', datetime.date(2020, 7, 20)), ('Cardiovascular Risks in Patients with COVID-19: Potential Mechanisms and Areas of Uncertainty', 'Cheng, Paul; Zhu, Han; Witteles, Ronald M.; Wu, Joseph C; Quertermous, Thomas; Wu, Sean M.; Rhee, June-Wha', 'PURPOSE OF REVIEW: COronaVirus Disease 2019 (COVID-19) has spread at unprecedented speed and scale into a global pandemic with cardiovascular risk fa ... (820 characters truncated) ...  epidemiologic and biologic studies are urgently needed to better understand the mechanism underlying these associations to develop better therapies.', '10.1007/s11886-020-01293-2', 'https://www.ncbi.nlm.nih.gov/pubmed/32350632/; https://doi.org/10.1007/s11886-020-01293-2', 'Curr Cardiol Rep', 'PMC7189178', '32350632', datetime.date(2020, 4, 29)), ('Diabetes and COVID-19: Global and Regional Perspectives', 'Jeong, In-Kyung; Ho Yoon, Kun; Kyu Lee, Moon', 'Abstract The coronavirus disease-2019 (COVID-19) has been designated as a highly contagious infectious disease caused by the severe acute respiratory ... (1183 characters truncated) ... ogy, virology, impact of diabetes on COVID-19, treatment of COVID-19, and standard of care in the management of diabetes during this critical period.', '10.1016/j.diabres.2020.108303', 'https://www.sciencedirect.com/science/article/pii/S0168822720305556?v=s5; https://api.elsevier.com/content/article/pii/S0168822720305556; https://doi.org/10.1016/j.diabres.2020.108303; https://www.ncbi.nlm.nih.gov/pubmed/32623038/', 'Diabetes Res Clin Pract', 'PMC7332438', '32623038', datetime.date(2020, 7, 3)), ('Hypertension, Thrombosis, Kidney Failure, and Diabetes: Is COVID-19 an Endothelial Disease? A Comprehensive Evaluation of Clinical and Basic Evidence', 'Sardu, Celestino; Gambardella, Jessica; Morelli, Marco Bruno; Wang, Xujun; Marfella, Raffaele; Santulli, Gaetano', 'The symptoms most commonly reported by patients affected by coronavirus disease (COVID-19) include cough, fever, and shortness of breath. However, ot ... (384 characters truncated) ... pporting the hypothesis that the endothelium is a key target organ in COVID-19, providing a mechanistic rationale behind its systemic manifestations.', '10.3390/jcm9051417', 'https://doi.org/10.3390/jcm9051417; https://www.ncbi.nlm.nih.gov/pubmed/32403217/', 'J Clin Med', 'PMC7290769', '32403217', datetime.date(2020, 5, 11)), ('The dual impact of ACE2 in COVID-19 and ironical actions in geriatrics and pediatrics with possible therapeutic solutions', 'Behl, Tapan; Kaur, Ishnoor; Bungau, Simona; Kumar, Arun; Uddin, Md Sahab; Kumar, Chanchal; Pal, Giridhari; Sahil; Shrivastava, Kamal; Zengin, Gokhan; Arora, Sandeep', 'The novel corona virus disease has shaken the entire world with its deadly effects and rapid transmission rates, posing a significant challenge to th ... (1128 characters truncated) ... pportunity for the researchers to consider RAAS system to be a significant element in development of suitable treatment regime for COVID-19 pandemic.', '10.1016/j.lfs.2020.118075', 'https://api.elsevier.com/content/article/pii/S0024320520308262; https://doi.org/10.1016/j.lfs.2020.118075; https://www.sciencedirect.com/science/article/pii/S0024320520308262?v=s5; https://www.ncbi.nlm.nih.gov/pubmed/32653522/', 'Life Sci', 'PMC7347488', '32653522', datetime.date(2020, 9, 15)), ('How Should Diagnostic Kits Development Adapt Quickly in COVID 19-like Pandemic Models? Pros and Cons of Sensory Platforms used in COVID-19 Sensing', 'Moulahoum, Hichem; Ghorbanizamani, Faezeh; Zihnioglu, Figen; Turhan, Kutsal; Timur, Suna', 'As COVID-19 has reached pandemic status and the number of cases continues to grow, widespread availability of diagnostic testing is critical in helpi ... (885 characters truncated) ... , a SWOT analysis and perspectives on how the development of novel sensory platforms should be treated by the different decision-makers are analyzed.', '10.1016/j.talanta.2020.121534', 'https://api.elsevier.com/content/article/pii/S0039914020308250; https://www.sciencedirect.com/science/article/pii/S0039914020308250?v=s5', 'Talanta', 'PMC7423517', None, datetime.date(2020, 8, 13)), ('The epidemiology and clinical information about COVID-19', 'Ge, Huipeng; Wang, Xiufen; Yuan, Xiangning; Xiao, Gong; Wang, Chengzhi; Deng, Tianci; Yuan, Qiongjing; Xiao, Xiangcheng', 'In December 2019, pneumonia of unknown cause occurred in Wuhan, Hubei Province, China. On 7 January 2020, a novel coronavirus, named as severe acute  ... (512 characters truncated) ...  characteristics, clinical features, diagnosis, treatment, and prognosis of COVID-19. A comprehensive understanding will help to control the disease.', '10.1007/s10096-020-03874-z', 'https://www.ncbi.nlm.nih.gov/pubmed/32291542/; https://doi.org/10.1007/s10096-020-03874-z', 'Eur J Clin Microbiol Infect Dis', 'PMC7154215', '32291542', datetime.date(2020, 4, 14)), ('The Potential Impact of Zinc Supplementation on COVID-19 Pathogenesis', 'Wessels, Inga; Rolles, Benjamin; Rink, Lothar', 'During the current corona pandemic, new therapeutic options against this viral disease are urgently desired. Due to the rapid spread and immense numb ... (1279 characters truncated) ... iviral properties, it can be assumed that zinc administration is beneficial for most of the population, especially those with suboptimal zinc status.', '10.3389/fimmu.2020.01712', 'https://www.ncbi.nlm.nih.gov/pubmed/32754164/; https://doi.org/10.3389/fimmu.2020.01712', 'Front Immunol', 'PMC7365891', '32754164', datetime.date(2020, 7, 10)), ('Scientific research progress of COVID‐19/SARS‐CoV‐2 in the first five months', 'Li, Hua; Liu, Zhe; Ge, Junbo', 'A cluster of pneumonia (COVID‐19) cases have been found in Wuhan China in late December, 2019, and subsequently, a novel coronavirus with a positive  ... (786 characters truncated) ... pathogenesis, pathology, clinical features, comorbidities and treatment of COVID‐19/ SARS‐CoV‐2 as reference for the prevention and control COVID‐19.', '10.1111/jcmm.15364', 'https://www.ncbi.nlm.nih.gov/pubmed/32320516/; https://doi.org/10.1111/jcmm.15364', 'J Cell Mol Med', 'PMC7264656', '32320516', datetime.date(2020, 5, 7)), ('Challenging Issues in the Management of Cardiovascular Risk Factors in Diabetes During the COVID-19 Pandemic: A Review of Current Literature', 'Rahimi, Leili; Malek, Mojtaba; Ismail-Beigi, Faramarz; Khamseh, Mohammad E.', 'The COVID-19 outbreak was declared a pandemic on March 2020. Many patients with SARS-CoV-2 infection have underlying chronic medical conditions such  ... (545 characters truncated) ... siologic links between diabetes and COVID-19 and discuss various options to treat dysglycemia, hypertension, and dyslipidemia in the era of COVID-19.', '10.1007/s12325-020-01417-8', 'https://doi.org/10.1007/s12325-020-01417-8; https://www.ncbi.nlm.nih.gov/pubmed/32632851/', 'Adv Ther', 'PMC7338141', '32632851', datetime.date(2020, 7, 6)), ('Elevations of serum cancer biomarkers correlate with severity of COVID‐19', 'Wei, Xiuqi; Su, Jingyu; Yang, Kunyu; Wei, Jiazhou; Wan, Huimin; Cao, Xiaoling; Tan, Wenbin; Wang, Hui', 'In this retrospective study, we evaluated the levels of a series of serum biomarkers in coronavirus disease 2019 (COVID‐19) patients (mild: 131; seve ... (1139 characters truncated) ... he pathological progressions of COVID‐19, demonstrating diffuse and acute lung injuries. This article is protected by copyright. All rights reserved.', '10.1002/jmv.25957', 'https://www.ncbi.nlm.nih.gov/pubmed/32347972/; https://doi.org/10.1002/jmv.25957', 'J Med Virol', 'PMC7267262', '32347972', datetime.date(2020, 4, 29)), ('Full Issue PDF', None, None, '10.1016/s2452-302x(20)30205-9', 'https://doi.org/10.1016/s2452-302x(20)30205-9; https://www.ncbi.nlm.nih.gov/pubmed/32501428/; https://www.sciencedirect.com/science/article/pii/S2452302X20302059; https://api.elsevier.com/content/article/pii/S2452302X20302059', 'JACC: Basic to Translational Science', 'PMC7247787', '32501428', datetime.date(2020, 5, 31)), ('COVID-19 and Diabetes: Knowledge in Progress', 'Hussain, Akhtar; Bhowmik, Bishwajit; Cristina do Vale Moreira, Nayla', 'Abstract Aims We aimed to briefly review the general characteristics of the novel coronavirus (SARS-CoV-2) and provide a better understanding of the  ... (1498 characters truncated) ... ite conclusions can be made based on current limited evidence. Further research regarding this relationship and its clinical management is warranted.', '10.1016/j.diabres.2020.108142', 'https://api.elsevier.com/content/article/pii/S0168822720303922; https://doi.org/10.1016/j.diabres.2020.108142; https://www.sciencedirect.com/science/article/pii/S0168822720303922?v=s5; https://www.ncbi.nlm.nih.gov/pubmed/32278764/', 'Diabetes Res Clin Pract', 'PMC7144611', '32278764', datetime.date(2020, 4, 9)), ('Considerations for people with diabetes during the Coronavirus Disease (COVID-19) Pandemic', 'Sacks, Lori J; Pham, Cecilia; Fleming, Nicola; Neoh, Sandra L.; I Ekinci, Elif', 'Abstract Introduction The severe acute respiratory syndrome corona virus 2 (SARS-CoV-2) continues to cause havoc globally, resulting in unprecedented ... (1099 characters truncated) ... tralia, delivery of medical care has been adapted to reduce the risk of transmission, with a particular emphasis on telehealth and remote monitoring.', '10.1016/j.diabres.2020.108296', 'https://doi.org/10.1016/j.diabres.2020.108296; https://www.ncbi.nlm.nih.gov/pubmed/32623041/; https://www.sciencedirect.com/science/article/pii/S0168822720305489?v=s5; https://api.elsevier.com/content/article/pii/S0168822720305489', 'Diabetes Res Clin Pract', 'PMC7332442', '32623041', datetime.date(2020, 7, 3)), ('Pathogenesis and Management of Myocardial Injury in Coronavirus Disease 2019', 'Wei, Zhi‐Yao; Qian, Hai‐Yan; Huang, Ji; Geng, Yong‐Jian', 'The outbreak of coronavirus disease 2019 (COVID‐19), caused by severe acute respiratory syndrome coronavirus 2 (SARS‐CoV‐2) infection, has become a m ... (381 characters truncated) ... gical characteristics, potential mechanisms, clinical manifestations, and recent progress in the management of COVID‐19 cardiovascular complications.', '10.1002/ejhf.1967', 'https://www.ncbi.nlm.nih.gov/pubmed/32683753/; https://doi.org/10.1002/ejhf.1967', 'Eur J Heart Fail', 'PMC7405025', '32683753', datetime.date(2020, 7, 19)), ('SARS-CoV-2 and DPP4 inhibition: is it time to pray for Janus Bifrons?', 'Pitocco, Dario; Tartaglione, Linda; Viti, Luca; Di Leo, Mauro; Pontecorvi, Alfredo; Caputo, Salvatore', 'Abstract Diabetes could be a risk factor for severity and mortality in patients with coronavirus disease 2019 Covid-19. It has been hypothesized that ... (438 characters truncated) ... or binding in tropism of the Coronavirus family, support that DPP4 inhibition at present doesn’t represent a plausible approach to mitigate Covid-19.', '10.1016/j.diabres.2020.108162', 'https://doi.org/10.1016/j.diabres.2020.108162; https://www.sciencedirect.com/science/article/pii/S0168822720304125?v=s5; https://api.elsevier.com/content/article/pii/S0168822720304125; https://www.ncbi.nlm.nih.gov/pubmed/32335097/', 'Diabetes Res Clin Pract', 'PMC7179491', '32335097', datetime.date(2020, 4, 23)), ('Coagulation Abnormalities and Thrombosis in Patients Infected With SARS-CoV-2 and Other Pandemic Viruses', 'Mackman, Nigel; Antoniak, Silvio; Wolberg, Alisa S.; Kasthuri, Raj; Key, Nigel S.', 'The world is amid a pandemic caused by severe acute respiratory syndrome-coronavirus 2. Severe acute respiratory syndrome-coronavirus causes serious  ... (862 characters truncated) ... trophil extracellular traps, and complement. Targeting these different pathways may reduce thrombosis and improve lung function in COVID-19 patients.', '10.1161/atvbaha.120.314514', 'https://doi.org/10.1161/atvbaha.120.314514; https://www.ncbi.nlm.nih.gov/pubmed/32657623/', 'Arterioscler Thromb Vasc Biol', 'PMC7447001', '32657623', datetime.date(2020, 7, 13)), ('VI. COVID-19: THERAPEUTICS UNDER REVIEW', 'McFee, R. B.', 'Abstract With the emergence of COVID-19 extensive research began to identify medications, candidate compounds and other therapeutic approaches. The c ... (1624 characters truncated) ... possible. It is hoped that the information shared can help guide the clinician in terms of potential options to treat this complex group of patients.', '10.1016/j.disamonth.2020.101058', 'https://api.elsevier.com/content/article/pii/S0011502920301206; https://www.sciencedirect.com/science/article/pii/S0011502920301206?v=s5', 'Dis Mon', 'PMC7386392', None, datetime.date(2020, 7, 28)), ('A close-up on COVID-19 and cardiovascular diseases', 'Li, Gang; Hu, Rui; Gu, Xuefang', 'Abstract Aims To analyze the potential mechanism of cardiovascular dysfunctions induced by Coronavirus Disease 2019 (COVID-19) and to evaluate more e ... (1545 characters truncated) ...  understand the development of COVID-19 and the impacts of cardiovascular diseases will add valuable measures to the management of COVID-19 patients.', '10.1016/j.numecd.2020.04.001', 'https://doi.org/10.1016/j.numecd.2020.04.001; https://www.sciencedirect.com/science/article/pii/S0939475320301083?v=s5; https://www.ncbi.nlm.nih.gov/pubmed/32423664/; https://api.elsevier.com/content/article/pii/S0939475320301083', 'Nutr Metab Cardiovasc Dis', 'PMC7141632', '32423664', datetime.date(2020, 4, 8)), ('COVID-19 and diabetes mellitus: how one pandemic worsens the other', 'Azar, William S.; Njeim, Rachel; Fares, Angie H.; Azar, Nadim S.; Azar, Sami T.; El Sayed, Mazen; Eid, Assaad A.', 'In light of the most challenging public health crisis of modern history, COVID-19 mortality continues to rise at an alarming rate. Patients with co-m ... (898 characters truncated) ... . If further studied, these findings could help identify novel therapeutic intervention strategies for patients with diabetes comorbid with COVID-19.', '10.1007/s11154-020-09573-6', 'https://www.ncbi.nlm.nih.gov/pubmed/32743793/; https://doi.org/10.1007/s11154-020-09573-6', 'Rev Endocr Metab Disord', 'PMC7395898', '32743793', datetime.date(2020, 8, 2)), ('Potential diagnostics and therapeutic approaches in COVID-19', 'Kumari, Pratibha; Singh, Archana; Rinchui Ngasainao, Moses; Shakeel, Ilma; Kumar, Sanjay; Lal, Seema; Singhal, Anchal; Singh Sohal, Sukhwinder; Kumar Singh, Indrakant; Imtaiyaz Hassan, Md.', 'Abstract The most important aspect of controlling COVID-19 is its timely diagnosis. Molecular diagnostic tests target the detection of any of the fol ... (1016 characters truncated) ... owledge of the diagnostic approaches of SARS-CoV-2, and its pathogenesis will be of great value in designing a long-term strategy to tackle COVID-19.', '10.1016/j.cca.2020.08.013', 'https://doi.org/10.1016/j.cca.2020.08.013; https://www.sciencedirect.com/science/article/pii/S0009898120303958?v=s5; https://api.elsevier.com/content/article/pii/S0009898120303958; https://www.ncbi.nlm.nih.gov/pubmed/32795547/', 'Clin Chim Acta', 'PMC7419266', '32795547', datetime.date(2020, 8, 12)), ('Obesity and COVID-19: immune and metabolic derangement as a possible link to adverse clinical outcomes', 'Korakas, Emmanouil; Ikonomidis, Ignatios; Kousathana, Foteini; Balampanis, Konstantinos; Kountouri, Aikaterini; Raptis, Athanasios; Palaiodimou, Lina; Kokkinos, Alexander; Lambadiari, Vaia', 'Recent reports have shown a strong association between obesity and the severity of COVID-19 infection, even in the absence of other comorbidities. Af ... (1253 characters truncated) ...  that of rheumatoid arthritis, has triggered the discussion of whether such agents could be administrated in selected patients with COVID-19 disease.', '10.1152/ajpendo.00198.2020', 'https://www.ncbi.nlm.nih.gov/pubmed/32459524/; https://doi.org/10.1152/ajpendo.00198.2020', 'Am J Physiol Endocrinol Metab', 'PMC7322508', '32459524', datetime.date(2020, 7, 1)), ('Risk of COVID‐19 for patients with obesity', 'Kassir, Radwan', None, '10.1111/obr.13034', 'https://www.ncbi.nlm.nih.gov/pubmed/32281287/; https://doi.org/10.1111/obr.13034', 'Obes Rev', 'PMC7235532', '32281287', datetime.date(2020, 4, 13)), ('Exploring Sodium Glucose Co-Transporter-2 (SGLT2) Inhibitors for Organ Protection in COVID-19', 'Fernandez-Fernandez, Beatriz; D’Marco, Luis; Górriz, Jose Luis; Jacobs-Cachá, Conxita; Kanbay, Mehmet; Luis-Lima, Sergio; Porrini, Esteban; Sarafidis, Pantelis; Soler, María José; Ortiz, Alberto', 'Hospital admissions and mortality from the Coronavirus disease 2019 (COVID-19) pandemic are spreading throughout the world, and second and third wave ... (1116 characters truncated) ... 2 inhibitors in COVID-19 and an ongoing clinical trial testing the impact of dapagliflozin on outcomes in COVID-19 patients with respiratory failure.', '10.3390/jcm9072030', 'https://doi.org/10.3390/jcm9072030; https://www.ncbi.nlm.nih.gov/pubmed/32605278/', 'J Clin Med', 'PMC7409231', '32605278', datetime.date(2020, 6, 28)), ('Can COVID 2019 disease induces a specific cardiovascular damage or it exacerbates pre-existing cardiovascular diseases?', 'Mansueto, Gelsomina; Niola, Massimo; Napoli, Claudio', 'A novel coronavirus SARS-CoV-2 causes acute respiratory distress syndrome (ARDS) with cardiovascular and multiple organ failure till death. The main  ... (1203 characters truncated) ... ed the role of SARSCoV-2 on the cardiovascular system and in patients with cardiovascular comorbidities, and possible drug interference on the heart.', '10.1016/j.prp.2020.153086', 'https://api.elsevier.com/content/article/pii/S0344033820314795; https://www.ncbi.nlm.nih.gov/pubmed/32825954/; https://www.sciencedirect.com/science/article/pii/S0344033820314795?v=s5; https://doi.org/10.1016/j.prp.2020.153086', 'Pathol Res Pract', 'PMC7319650', '32825954', datetime.date(2020, 6, 26)), ('Suppressed anti-inflammatory heat shock response in high-risk COVID-19 patients: lessons from basic research (inclusive bats), light on conceivable therapies', 'Heck, Thiago Gomes; Ludwig, Mirna Stela; Frizzo, Matias Nunes; Rasia-Filho, Alberto Antonio; Homem de Bittencourt, Paulo Ivo', 'The major risk factors to fatal outcome in COVID-19 patients, i.e., elderliness and pre-existing metabolic and cardiovascular diseases (CVD), share i ... (1522 characters truncated) ...  inflammation through the HSR. These findings offer a rationale for the reevaluation of patient care and fever reduction in SARS, including COVID-19.', '10.1042/cs20200596', 'https://www.ncbi.nlm.nih.gov/pubmed/32749472/; https://doi.org/10.1042/cs20200596', 'Clin Sci (Lond)', 'PMC7403894', '32749472', datetime.date(2020, 8, 4)), ('COVID‐19 and diabetes', 'Ma, R. C. W.; Holt, R. I. G.', None, '10.1111/dme.14300', 'https://doi.org/10.1111/dme.14300; https://www.ncbi.nlm.nih.gov/pubmed/32242990/', 'Diabet Med', 'PMC7228343', '32242990', datetime.date(2020, 4, 3)), ('Clinical, molecular and epidemiological characterization of the SARS-CoV2 virus and the Coronavirus disease 2019 (COVID-19), a comprehensive literature review', 'Ortiz-Prado, Esteban; Simbaña-Rivera, Katherine; Gómez-Barreno, Lenin; Rubio-Neira, Mario; Guaman, Linda P.; Kyriakidis, Nikolaos C; Muslin, Claire;  ... (27 characters truncated) ...  Barba-Ostria, Carlos; Cevallos-Robalino, Doménica; Sanches-SanMiguel, Hugo; Unigarro, Luis; Zalakeviciute, Rasa; Gadian, Naomi; López-Cortés, Andrés', 'Abstract Coronaviruses are an extensive family of viruses that can cause disease in both animals and humans. The current classification of coronaviru ... (1245 characters truncated) ... nsive literature available, we have conducted a comprehensive literature review of the SARS CoV-2 Virus and the Coronavirus Diseases 2019 (COVID-19).', '10.1016/j.diagmicrobio.2020.115094', 'https://doi.org/10.1016/j.diagmicrobio.2020.115094; https://www.sciencedirect.com/science/article/pii/S0732889320304715?v=s5; https://api.elsevier.com/content/article/pii/S0732889320304715; https://www.ncbi.nlm.nih.gov/pubmed/32623267/', 'Diagn Microbiol Infect Dis', 'PMC7260568', '32623267', datetime.date(2020, 5, 30)), ('Naringenin, a flavanone with antiviral and anti‐inflammatory effects: A promising treatment strategy against COVID‐19', 'Tutunchi, Helda; Naeini, Fatemeh; Ostadrahimi, Alireza; Hosseinzadeh‐Attar, Mohammad Javad', 'At the end of 2019, a novel flu‐like coronavirus named COVID‐19 (coronavirus disease 2019) was recognized by World Health Organization. No specific t ... (1123 characters truncated) ... orted. On the whole, the favorable effects of naringenin lead to a conclusion that naringenin may be a promising treatment strategy against COVID‐19.', '10.1002/ptr.6781', 'https://www.ncbi.nlm.nih.gov/pubmed/32613637/; https://doi.org/10.1002/ptr.6781', 'Phytother Res', 'PMC7361426', '32613637', datetime.date(2020, 7, 2)), ('COVID-19 and diabetes: The why, the what and the how', 'Cuschieri, Sarah; Grech, Stephan', \"BACKGROUND: The novel coronavirus SARS-CoV-2 has taken the world by storm. Alongside COVID-19, diabetes is a long-standing global epidemic. The diabe ... (1284 characters truncated) ... morbidities such as diabetes. These require special attention during this pandemic to avoid adding on to the burden of countries' healthcare systems.\", '10.1016/j.jdiacomp.2020.107637', 'https://api.elsevier.com/content/article/pii/S1056872720303962; https://doi.org/10.1016/j.jdiacomp.2020.107637; https://www.ncbi.nlm.nih.gov/pubmed/32456846/; https://www.sciencedirect.com/science/article/pii/S1056872720303962?v=s5', 'J Diabetes Complications', 'PMC7242955', '32456846', datetime.date(2020, 5, 22)), ('Novel coronavirus (COVID-19) infection: What a doctor on the frontline needs to know', 'Down, Billy; Kulkarni, Sagar; Ahmed Khan, Ameer Hamid; Barker, Benjamin; Tang, Ivan', 'Coronavirus disease 2019 (COVID-19) is a zoonotic respiratory infection originating from Wuhan, China. Rapidly spreading from Wuhan to all inhabited  ... (618 characters truncated) ... l, economic and social changes. This review provides an overview of COVID-19 for junior doctors who find themselves on a new frontline of healthcare.', '10.1016/j.amsu.2020.05.014', 'https://doi.org/10.1016/j.amsu.2020.05.014; https://api.elsevier.com/content/article/pii/S2049080120300996; https://www.sciencedirect.com/science/article/pii/S2049080120300996?v=s5; https://www.ncbi.nlm.nih.gov/pubmed/32405411/', 'Ann Med Surg (Lond)', 'PMC7217801', '32405411', datetime.date(2020, 5, 13)), ('COVID-19 and comorbidities: Deleterious impact on infected patients', 'Ejaz, Hasan; Alsrhani, Abdullah; Zafar, Aizza; Javed, Humera; Junaid, Kashaf; Abdalla, Abualgasim E.; Abosalif, Khalid O.A.; Ahmed, Zeeshan; Younas, Sonia', 'The pandemic situation with the emergence of severe acute respiratory syndrome coronavirus 2 (SARS-CoV-2) from China has endangered human lives. Coro ... (1043 characters truncated) ... describing the association of comorbidities in COVID-19; however, our review delineates the broader spectrum of comorbidities with COVID-19 patients.', '10.1016/j.jiph.2020.07.014', 'https://www.sciencedirect.com/science/article/pii/S1876034120305943?v=s5; https://doi.org/10.1016/j.jiph.2020.07.014; https://api.elsevier.com/content/article/pii/S1876034120305943; https://www.ncbi.nlm.nih.gov/pubmed/32788073/', 'J Infect Public Health', 'PMC7402107', '32788073', datetime.date(2020, 8, 4)), ('Potential causes and consequences of gastrointestinal disorders during a SARS-CoV-2 infection', 'Trottein, François; Sokol, Harry', 'Summary Coronaviruses cause several human diseases, including severe acute respiratory syndrome. The global coronaviruses disease 2019 (COVID-19) pan ... (627 characters truncated) ...  of the gut microbiota during respiratory viral infections and suggest that targeting gut dysbiosis may help to control the pathogenesis of COVID-19.', '10.1016/j.celrep.2020.107915', 'https://doi.org/10.1016/j.celrep.2020.107915; https://www.ncbi.nlm.nih.gov/pubmed/32649864/; https://api.elsevier.com/content/article/pii/S2211124720308962; https://www.sciencedirect.com/science/article/pii/S2211124720308962?v=s5', 'Cell Rep', 'PMC7332457', '32649864', datetime.date(2020, 7, 3)), ('An updated review of the association of host genetic factors with susceptibility and resistance to COVID‐19', 'Mohammadpour, Somayeh; Torshizi Esfahani, Amir; Halaji, Mehrdad; Lak, Mina; Ranjbar, Reza', 'The emergence of the severe acute respiratory syndrome coronavirus 2 (SARS‐CoV‐2) in human populations sparked a global pandemic of the coronavirus d ... (601 characters truncated) ...  various aspects of genetic factors in determining the susceptibility and host resistance to SARS‐CoV‐2 throughout the recently published literature.', '10.1002/jcp.29868', 'https://doi.org/10.1002/jcp.29868; https://www.ncbi.nlm.nih.gov/pubmed/32542735/', 'J Cell Physiol', 'PMC7323230', '32542735', datetime.date(2020, 6, 15)), ('Pathogenetic profiling of COVID-19 and SARS-like viruses', 'Nain, Zulkar; Rana, Humayan Kabir; Liò, Pietro; Islam, Sheikh Mohammed Shariful; Summers, Matthew A; Moni, Mohammad Ali', 'The novel coronavirus (2019-nCoV) has recently emerged, causing COVID-19 outbreaks and significant societal/global disruption. Importantly, COVID-19  ... (1643 characters truncated) ... ignaling pathways and chemical antagonists, could prove useful for novel drug development in the fight against the current global 2019-nCoV pandemic.', '10.1093/bib/bbaa173', 'https://www.ncbi.nlm.nih.gov/pubmed/32778874/; https://doi.org/10.1093/bib/bbaa173', 'Brief Bioinform', 'PMC7454314', '32778874', datetime.date(2020, 8, 11)), ('The Enigma of Endothelium in COVID-19', 'Kaur, Savneet; Tripathi, Dinesh M.; Yadav, Angeera', 'Coronavirus disease 2019 (COVID-19), caused by severe acute respiratory syndrome–related coronavirus-2 (SARS-CoV-2) has affected millions of people g ... (636 characters truncated) ... nduced lung injury and recommend the road ahead with respect to identification of endothelium-based biomarkers and plausible treatments for COVID-19.', '10.3389/fphys.2020.00989', 'https://doi.org/10.3389/fphys.2020.00989; https://www.ncbi.nlm.nih.gov/pubmed/32848893/', 'Front Physiol', 'PMC7417426', '32848893', datetime.date(2020, 8, 4)), ('Impact of COVID-19 on the Cardiovascular System: A Review', 'Matsushita, Kensuke; Marchandot, Benjamin; Jesel, Laurence; Ohlmann, Patrick; Morel, Olivier', 'The recent outbreak of coronavirus disease 2019 (COVID-19) caused by severe acute respiratory syndrome coronavirus 2 has been declared a public healt ... (522 characters truncated) ...  critically ill patients. In this review, we summarize the rapidly evolving data and highlight the cardiovascular considerations related to COVID-19.', '10.3390/jcm9051407', 'https://doi.org/10.3390/jcm9051407; https://www.ncbi.nlm.nih.gov/pubmed/32397558/', 'J Clin Med', 'PMC7291320', '32397558', datetime.date(2020, 5, 9)), ('COVID-19: A primer for Neuroradiologists', 'Mankad, Kshitij; Perry, Michael D.; Mirsky, David M.; Rossi, Andrea', 'The potential for central nervous system (CNS) involvement in coronavirus disease 2019 (COVID-19) is a matter of grave concern and there is a relevan ... (121 characters truncated) ...  mechanisms involved in the neuropathogenesis of this virus, as we begin to see cases with abnormal brain scans emerging from all parts of the world.', '10.1007/s00234-020-02437-5', 'https://doi.org/10.1007/s00234-020-02437-5; https://www.ncbi.nlm.nih.gov/pubmed/32342126/', 'Neuroradiology', 'PMC7186113', '32342126', datetime.date(2020, 4, 28)), ('OUTBREAK of novel corona virus disease (COVID-19): Antecedence and aftermath', 'Awasthi, Ankit; Vishwas, Sukriti; Corrie, Leander; Kumar, Rajesh; Khursheed, Rubiya; Kaur, Jaskiran; Kumar, Rajan; Arya, K.R.; Gulati, Monica; Kumar, Bimlesh; Singh, Sachin Kumar; Pandey, Narendra Kumar; Wadhwa, Sheetu; Kumar, Pardeep; Kapoor, Bhupinder; Gupta, Rajneesh Kumar; Kumar, Ankit', 'Outbreak of Coronavirus disease 2019 (COVID-19) started in mid of December 2019 and spread very rapidly across the globe within a month of its outbre ... (1667 characters truncated) ...  to treat this deadly infection. In addition, it attempts to compile the recent updates on development of drugs and vaccines for the dreaded disease.', '10.1016/j.ejphar.2020.173381', 'https://doi.org/10.1016/j.ejphar.2020.173381; https://www.ncbi.nlm.nih.gov/pubmed/32721449/; https://www.sciencedirect.com/science/article/pii/S0014299920304738?v=s5; https://api.elsevier.com/content/article/pii/S0014299920304738', 'Eur J Pharmacol', 'PMC7381902', '32721449', datetime.date(2020, 7, 25)), ('Predicted therapeutic targets for COVID-19 disease by inhibiting SARS-CoV-2 and its related receptors', 'Balmeh, Negar; Mahmoudi, Samira; Mohammadi, Niloofar; Karabedianhajiabadi, Anasik', 'The SARS-CoV-2 causes severe pulmonary infectious disease with an exponential spread-ability. In the present research, we have tried to look into the ... (1272 characters truncated) ... t of these three herbal compounds and hsa-miR-1307-3p may have significant outcomes for the prevention, control, and treatment of COVID-19 infection.', '10.1016/j.imu.2020.100407', 'https://www.ncbi.nlm.nih.gov/pubmed/32835083/; https://doi.org/10.1016/j.imu.2020.100407; https://www.sciencedirect.com/science/article/pii/S2352914820305578?v=s5; https://api.elsevier.com/content/article/pii/S2352914820305578', 'Inform Med Unlocked', 'PMC7411426', '32835083', datetime.date(2020, 8, 7)), ('A Patient With Bilateral Conjunctivitis Positive for SARS-CoV-2 RNA in a Conjunctival Sample', 'Sirakaya, Ender; Sahiner, Mustafa; Aslan Sirakaya, Hatice', 'To present a patient with bilateral conjunctivitis, testing positive for viral RNA of severe acute respiratory syndrome coronavirus 2 (SARS-CoV-2) in ... (1079 characters truncated) ... fficult to detect viral RNA from conjunctival swabs, conjunctival secretions may be a source of contamination, and protective measures must be taken.', '10.1097/ico.0000000000002485', 'https://doi.org/10.1097/ico.0000000000002485; https://www.ncbi.nlm.nih.gov/pubmed/32794685/', 'Cornea', 'PMC7446980', '32794685', datetime.date(2020, 7, 2)), ('Comprehensive Review on Current Interventions, Diagnostics, and Nanotechnology Perspectives against SARS-CoV-2', 'Chauhan, Deepak S.; Prasad, Rajendra; Srivastava, Rohit; Jaggi, Meena; Chauhan, Subhash C.; Yallapu, Murali M.', '[Image: see text] The coronavirus disease 2019 (COVID-19) has dramatically challenged the healthcare system of almost all countries. The authorities  ... (532 characters truncated) ... and deadly viruses, along with the recent interventions and current understanding about severe acute respiratory syndrome coronavirus 2 (SARS-CoV-2).', '10.1021/acs.bioconjchem.0c00323', 'https://www.ncbi.nlm.nih.gov/pubmed/32680422/; https://doi.org/10.1021/acs.bioconjchem.0c00323', 'Bioconjug Chem', 'PMC7425040', '32680422', datetime.date(2020, 7, 17)), ('Clinical Management of Diabetes Mellitus in the Era of COVID-19: Practical Issues, Peculiarities and Concerns', 'Koliaki, Chrysi; Tentolouris, Anastasios; Eleftheriadou, Ioanna; Melidonis, Andreas; Dimitriadis, George; Tentolouris, Nikolaos', 'The management of patients with diabetes mellitus (DM) in the era of the COVID-19 pandemic can be challenging. Even if they are not infected, they ar ... (1036 characters truncated) ... ory and other treatment strategies in the context of patient-tailored precision medicine, which emerges as an urgent priority in the era of COVID-19.', '10.3390/jcm9072288', 'https://doi.org/10.3390/jcm9072288; https://www.ncbi.nlm.nih.gov/pubmed/32708504/', 'J Clin Med', 'PMC7408673', '32708504', datetime.date(2020, 7, 18)), ('Diabetes, Infection Risk And Covid-19', 'Erener, Suheda', 'Abstract Background Individuals with diabetes are at a greater risk of hospitalization and mortality resulting from viral, bacterial and fungal infec ... (1058 characters truncated) ... tanding how diabetes affects COVID-19 severity is critical to design tailored treatments and clinical management of individuals affected by diabetes.', '10.1016/j.molmet.2020.101044', 'https://api.elsevier.com/content/article/pii/S2212877820301186; https://www.sciencedirect.com/science/article/pii/S2212877820301186?v=s5; https://doi.org/10.1016/j.molmet.2020.101044; https://www.ncbi.nlm.nih.gov/pubmed/32585364/', 'Mol Metab', 'PMC7308743', '32585364', datetime.date(2020, 6, 23)), ('COVID‐19 and hypertension—evidence and practical management: Guidance from the HOPE Asia Network', 'Kario, Kazuomi; Morisawa, Yuji; Sukonthasarn, Apichard; Turana, Yuda; Chia, Yook‐Chin; Park, Sungha; Wang, Tzung‐Dau; Chen, Chen‐Huan; Tay, Jam Chin; Li, Yan; Wang, Ji‐Guang', 'There are several risk factors for worse outcomes in patients with coronavirus 2019 disease (COVID‐19). Patients with hypertension appear to have a p ... (1451 characters truncated) ...  a rapidly growing body of evidence will help ensure the best possible outcomes for patients, including those with risk factors such as hypertension.', '10.1111/jch.13917', 'https://doi.org/10.1111/jch.13917; https://www.ncbi.nlm.nih.gov/pubmed/32643874/', 'J Clin Hypertens (Greenwich)', 'PMC7361740', '32643874', datetime.date(2020, 7, 9))]\n",
      "[('Full Issue PDF', None, None, '10.1016/s2666-0849(20)30838-x', 'https://www.ncbi.nlm.nih.gov/pmc/articles/PMC7363418/', 'JACC Case Rep', 'PMC7363418', None, datetime.date(2020, 7, 15)), ('COVID-19 patients upregulate toll-like receptor 4-mediated inflammatory signaling that mimics bacterial sepsis', 'Sohn, Kyung Mok; Lee, Sung-Gwon; Kim, Hyeon Ji; Cheon, Shinhyea; Jeong, Hyeongseok; Lee, Jooyeon; Kim, In Soo; Silwal, Prashanta; Kim, Young Jae; Park, Chungoo; Kim, Yeon-Sook; Jo, Eun-Kyeong', 'Observational studies of the ongoing coronavirus disease 2019 (COVID-19) outbreak suggest that a cytokine storm is involved in the pathogenesis of se ... (603 characters truncated) ... ignaling and pathological inflammation during COVID-19 and contribute to develop therapeutic approaches through targeting TLR4-mediated inflammation.', '10.1101/2020.07.17.207878', 'https://doi.org/10.1101/2020.07.17.207878', 'bioRxiv', None, None, datetime.date(2020, 7, 17)), ('COVID-19 in diabetic patients: Related risks and specifics of management', 'Orioli, Laura; Hermans, Michel P; Thissen, Jean-Paul; Maiter, Dominique; Vandeleene, Bernard; Yombi, Jean-Cyr', 'Diabetes is among the most frequently reported comorbidities in patients infected with COVID-19. According to current data, diabetic patients do not  ... (1090 characters truncated) ...  risks of lactic acidosis and ketoacidosis. Finally, we advise for systematic screening for (pre)diabetes in patients with proven COVID-19 infection.', None, None, 'Ann Endocrinol (Paris)', None, None, datetime.date(2020, 1, 1)), ('Metabolic Syndrome and COVID 19: Endocrine-Immune-Vascular Interactions Shapes Clinical Course', 'Bansal, Rashika; Gubbi, Sriram; Muniyappa, Ranganath', 'The ongoing coronavirus disease 2019 (COVID-19) pandemic is caused by the novel coronavirus, severe acute respiratory syndrome coronavirus 2 (SARS-Co ... (905 characters truncated) ... f clinical features, the likely pathophysiologic mechanisms and potential implications for the management of metabolic syndrome in COVID-19 patients.', '10.1210/endocr/bqaa112', 'https://doi.org/10.1210/endocr/bqaa112; https://www.ncbi.nlm.nih.gov/pubmed/32603424/', 'Endocrinology', 'PMC7337756', '32603424', datetime.date(2020, 6, 30)), ('Impaired Fasting Glucose and Diabetes Are Related to Higher Risks of Complications and Mortality Among Patients With Coronavirus Disease 2019', 'Zhang, Jiaoyue; Kong, Wen; Xia, Pengfei; Xu, Ying; Li, Li; Li, Qin; Yang, Li; Wei, Qi; Wang, Hanyu; Li, Huiqing; Zheng, Juan; Sun, Hui; Xia, Wenfang; ... (26 characters truncated) ... Qiu, Kangli; Li, Yan; Wang, Han; Wang, Yuxiu; Song, Xiaoli; Liu, Hua; Xiong, Si; Liu, Yumei; Cui, Zhenhai; Hu, Yu; Chen, Lulu; Pan, An; Zeng, Tianshu', 'Background: Diabetes correlates with poor prognosis in patients with COVID-19, but very few studies have evaluated whether impaired fasting glucose ( ... (1604 characters truncated) ... tals and comorbidities. Conclusion: IFG and diabetes at admission were associated with higher risks of adverse outcomes among patients with COVID-19.', '10.3389/fendo.2020.00525', 'https://doi.org/10.3389/fendo.2020.00525; https://www.ncbi.nlm.nih.gov/pubmed/32754119/', 'Front Endocrinol (Lausanne)', 'PMC7365851', '32754119', datetime.date(2020, 7, 10)), ('The Clinical Characteristics and Outcomes of Diabetes Mellitus and Secondary Hyperglycaemia Patients with Coronavirus Disease 2019: a Single‐center, Retrospective, Observational Study in Wuhan', 'Zhang, Yang; Li, Haichao; Zhang, Jian; Cao, Yedi; Zhao, Xue; Yu, Nan; Gao, Ying; Ma, Jing; Zhang, Hong; Zhang, Junqing; Guo, Xiaohui; Liu, Xinmin', 'AIMS: Since the pandemic outbreak of COVID‐19, limited information is available on diabetic patients with COVID‐19. MATERIALS AND METHODS: We retrosp ... (1315 characters truncated) ... commend that clinicians pay more attention to the blood glucose status of COVID‐19 patients, even those not diagnosed with diabetes before admission.', '10.1111/dom.14086', 'https://doi.org/10.1111/dom.14086; https://www.ncbi.nlm.nih.gov/pubmed/32406594/', 'Diabetes Obes Metab', 'PMC7273002', '32406594', datetime.date(2020, 5, 14)), ('Clinical, laboratory, and radiological features indicative of novel coronavirus disease (COVID‐19) in emergency departments – a multicentre case‐control study in Hong Kong', 'Lam, Rex Pui Kin; Hung, Kevin Kei Ching; Lau, Eric Ho Yin; Lui, Chun Tat; Chan, Kin Ling; Leung, Chin San; Wong, Ion Wa; Wong, Kin Wa; Graham, Colin A; Woo, Patrick Chiu Yat', 'OBJECTIVES: Little is known about the value of routine clinical assessment in identifying patients with coronavirus disease 2019 (COVID‐19) in the em ... (1438 characters truncated) ...  while waiting for the test result. Further studies are warranted to verify the findings. This article is protected by copyright. All rights reserved', '10.1002/emp2.12183', 'https://doi.org/10.1002/emp2.12183; https://www.ncbi.nlm.nih.gov/pubmed/32838379/', 'J Am Coll Emerg Physicians Open', 'PMC7323237', '32838379', datetime.date(2020, 6, 20)), ('COVID-19 and Thrombotic or Thromboembolic Disease: Implications for Prevention, Antithrombotic Therapy, and Follow-up', 'Bikdeli, Behnood; Madhavan, Mahesh V.; Jimenez, David; Chuich, Taylor; Dreyfus, Isaac; Driggin, Elissa; Nigoghossian, Caroline Der; Ageno, Walter; Ma ... (540 characters truncated) ... ephan; Goldhaber, Samuel Z.; Parikh, Sahil A.; Monreal, Manuel; Krumholz, Harlan M.; Konstantinides, Stavros V.; Weitz, Jeffrey I.; Lip, Gregory Y.H.', 'Abstract Coronavirus disease 2019 (COVID-19), a viral respiratory illness caused by the severe acute respiratory syndrome coronavirus 2 (SARS-CoV-2), ... (766 characters truncated) ...  preexisting thrombotic disease who develop COVID-19, or those who need prevention or care for their thrombotic disease during the COVID-19 pandemic.', '10.1016/j.jacc.2020.04.031', 'https://www.sciencedirect.com/science/article/pii/S0735109720350087?v=s5; https://doi.org/10.1016/j.jacc.2020.04.031; https://api.elsevier.com/content/article/pii/S0735109720350087; https://www.ncbi.nlm.nih.gov/pubmed/32311448/', 'J Am Coll Cardiol', 'PMC7164881', '32311448', datetime.date(2020, 4, 17)), ('Association of Diabetes Mellitus with Disease Severity and Prognosis in COVID-19: A Retrospective Cohort Study', 'Zhang, Yan; Cui, Yanhui; Shen, Minxue; Zhang, Jianchu; Liu, Ben; Dai, Minhui; Chen, Lingli; Han, Duoduo; Fan, Yifei; Zeng, Yanjun; Li, Wen; Lin, Fengyu; Li, Sha; Chen, Xiang; Pan, Pinhua', 'Abstract The 2019 novel coronavirus disease (COVID-19) emerged in Wuhan, China, and was characterized as a pandemic by the World Health Organization. ... (1512 characters truncated) ... al confounders. Conclusions Diabetes mellitus is associated with increased disease severity and a higher risk of mortality in patients with COVID-19.', '10.1016/j.diabres.2020.108227', 'https://www.sciencedirect.com/science/article/pii/S0168822720304770?v=s5; https://www.ncbi.nlm.nih.gov/pubmed/32446795/; https://doi.org/10.1016/j.diabres.2020.108227; https://api.elsevier.com/content/article/pii/S0168822720304770', 'Diabetes Res Clin Pract', 'PMC7242190', '32446795', datetime.date(2020, 5, 22)), ('Influence of COVID-19 on Cerebrovascular Disease and its Possible Mechanism', 'Fan, Hongyang; Tang, Xiaojia; Song, Yuxia; Liu, Peipei; Chen, Yingzhu', 'The global spread of COVID-19 has caused a substantial societal burden and become a major global public health issue. The COVID-19 elderly population ... (1167 characters truncated) ...  cerebrovascular disease and discusses possible pathophysiological mechanisms to provide new angles for the prevention and diagnosis of this disease.', '10.2147/ndt.s251173', 'https://www.ncbi.nlm.nih.gov/pubmed/32547039/; https://doi.org/10.2147/ndt.s251173', 'Neuropsychiatr Dis Treat', 'PMC7266513', '32547039', datetime.date(2020, 5, 28)), ('Serum iron level as a potential predictor of COVID-19 severity and mortality: a retrospective study', 'Zhao, Kang; Huang, Jucun; Dai, Dan; Feng, Yuwei; Liu, Liming; Nie, Shuke', 'BACKGROUND: Various types of pulmonary diseases are associated with iron deficiency. However, information on iron status in COVID-19 is scarce. METHO ... (1070 characters truncated) ... he disease was closely correlated with serum iron levels. Low serum iron concentration was an independent risk factor for death in COVID-19 patients.', '10.1093/ofid/ofaa250', 'https://www.ncbi.nlm.nih.gov/pubmed/32661499/; https://doi.org/10.1093/ofid/ofaa250', 'Open Forum Infect Dis', 'PMC7337740', '32661499', datetime.date(2020, 6, 21)), ('Demographic and Clinical Features of Critically Ill Patients with COVID-19 in Greece: The Burden of Diabetes and Obesity', 'Halvatsiotis, P.; Kotanidou, A.; Tzannis, K.; Jahaj, E.; Magira, E.; Theodorakopoulou, M.; Konstandopoulou, G.; Gkeka, E.; Pouritzaki, C.; Kapravelos ... (58 characters truncated) ... arkou, N.; Stefanatou, E.; Vlachogianni, G.; Aimoniotou, E.; Komnos, A.; Zafeiridis, T.; Koulouvaris, P.; Armaganidis, A.; Bamias, A.; Dimopoulos, G.', 'Abstract Aims The aim of the study was to investigate the association between type-2 diabetes mellitus, other underlying diseases and obesity with th ... (1010 characters truncated) ... vivors. Conclusions Type 2 diabetes and obesity may have contributed to disease severity and mortality in COVID-19 critically ill patients in Greece.', '10.1016/j.diabres.2020.108331', 'https://www.sciencedirect.com/science/article/pii/S0168822720305830?v=s5; https://api.elsevier.com/content/article/pii/S0168822720305830; https://www.ncbi.nlm.nih.gov/pubmed/32682810/; https://doi.org/10.1016/j.diabres.2020.108331', 'Diabetes Res Clin Pract', 'PMC7366091', '32682810', datetime.date(2020, 7, 17)), ('Clinical presentation and management of COVID‐19', 'Thevarajan, Irani; Buising, Kirsty L; Cowie, Benjamin C', 'The rapid spread of severe acute respiratory syndrome coronavirus 2 led to the declaration of a global pandemic within 3 months of its emergence. The ... (757 characters truncated) ... o recognise, diagnose, manage and appropriately refer patients affected by COVID‐19, with thousands of cases likely to present over the coming years.', '10.5694/mja2.50698', 'https://www.ncbi.nlm.nih.gov/pubmed/32677734/; https://doi.org/10.5694/mja2.50698', 'Med J Aust', 'PMC7404664', '32677734', datetime.date(2020, 7, 17)), ('Diabetic Ketoacidosis in COVID-19: unique concerns and considerations', 'Palermo, Nadine E; Sadhu, Archana R; McDonnell, Marie E', 'While individuals with diabetes appear to be at similar risk for SARS-CoV-2 infection than those without diabetes, they are more likely to suffer sev ... (1313 characters truncated) ... tion. We include evidence-based strategies and guidance designed to empower clinicians and patients to avoid this serious complication when possible.', '10.1210/clinem/dgaa360', 'https://doi.org/10.1210/clinem/dgaa360; https://www.ncbi.nlm.nih.gov/pubmed/32556147/', 'J Clin Endocrinol Metab', 'PMC7337869', '32556147', datetime.date(2020, 6, 18)), ('COVID-19 in people with diabetes: understanding the reasons for worse outcomes', 'Apicella, Matteo; Campopiano, Maria Cristina; Mantuano, Michele; Mazoni, Laura; Coppelli, Alberto; Del Prato, Stefano', 'Since the initial COVID-19 outbreak in China, much attention has focused on people with diabetes because of poor prognosis in those with the infectio ... (1004 characters truncated) ...  individuals with diabetes, hyperglycaemia at hospital admission in individuals with unknown history of diabetes, and potentially new-onset diabetes.', '10.1016/s2213-8587(20)30238-2', 'https://www.ncbi.nlm.nih.gov/pubmed/32687793/; https://api.elsevier.com/content/article/pii/S2213858720302382; https://doi.org/10.1016/s2213-8587(20)30238-2; https://www.sciencedirect.com/science/article/pii/S2213858720302382', 'Lancet Diabetes Endocrinol', 'PMC7367664', '32687793', datetime.date(2020, 7, 17)), ('Glycosylated hemoglobin is associated with systemic inflammation, hypercoagulability, and prognosis of COVID-19 patients', 'Wang, Zhenzhou; Du, Zhe; Zhu, Fengxue', 'BACKGROUND: Diabetes is a risk factor for the progression and prognosis of coronavirus disease (COVID-19), but the relationship between glycosylated  ... (1264 characters truncated) ... tes. Determining HbA1c level after hospital admission is thus helpful assessing inflammation, hypercoagulability, and prognosis of COVID-19 patients.', '10.1016/j.diabres.2020.108214', 'https://www.ncbi.nlm.nih.gov/pubmed/32416121/; https://www.sciencedirect.com/science/article/pii/S0168822720304642; https://api.elsevier.com/content/article/pii/S0168822720304642; https://doi.org/10.1016/j.diabres.2020.108214', 'Diabetes Res Clin Pract', 'PMC7233217', '32416121', datetime.date(2020, 5, 18)), ('Clinical characteristics and risk factors for mortality among inpatients with COVID‐19 in Wuhan, China', 'Chen, Fuyang; Sun, Wenwu; Sun, Shengrong; Li, Zhiyu; Wang, Zhong; Yu, Li', None, '10.1002/ctm2.40', 'https://www.ncbi.nlm.nih.gov/pubmed/32508024/; https://doi.org/10.1002/ctm2.40', 'Clin Transl Med', 'PMC7300688', '32508024', datetime.date(2020, 6, 4)), ('Characteristics of laboratory findings of COVID-19 patients with comorbid diabetes mellitus', 'Jing Liang, Jing; Liu, Jun; Chen, Yong; Ye, Bo; Li, Na; Wang, Xiao; Tang, Min; Shao, Jiaqing', 'AIMS: Coronavirus disease (COVID-19), also referred to as severe acute respiratory syndrome coronavirus 2 (SARS-CoV-2), is instigated by a novel coro ... (1370 characters truncated) ... with oxidative stress response and nutritional consumption. The decreased lymphocyte counts and increased CRP levels may be related to the infection.', '10.1016/j.diabres.2020.108351', 'https://api.elsevier.com/content/article/pii/S0168822720306033; https://www.ncbi.nlm.nih.gov/pubmed/32711001/; https://www.sciencedirect.com/science/article/pii/S0168822720306033?v=s5; https://doi.org/10.1016/j.diabres.2020.108351', 'Diabetes Res Clin Pract', 'PMC7375292', '32711001', datetime.date(2020, 7, 22)), ('The management of coronavirus disease 2019 (COVID‐19)', 'Liu, Jialin; Liu, Siru', \"In December 2019, a novel coronavirus causing severe acute respiratory disease occurred in Wuhan, China. It is an emerging infectious disease with wi ... (738 characters truncated) ... gement of COVID‐19 should focus on early diagnosis, immediate isolation, general and optimized supportive care, and infection prevention and control.\", '10.1002/jmv.25965', 'https://doi.org/10.1002/jmv.25965; https://www.ncbi.nlm.nih.gov/pubmed/32369222/', 'J Med Virol', 'PMC7267323', '32369222', datetime.date(2020, 5, 22)), ('Assessment of risk, severity, mortality, glycemic control and antidiabetic agents in patients with diabetes and COVID-19: A Narrative Review', 'Kumar Singh, Awadhesh; Khunti, Kamlesh', 'Abstract Aims Rising prevalence of non-communicable diseases world-wide has made diabetes an important comorbidity in patients with coronavirus disea ... (1101 characters truncated) ... pies including the vaccination programs for these groups in addition to the traditional risk prevention such as social distancing and self-isolation.', '10.1016/j.diabres.2020.108266', 'https://doi.org/10.1016/j.diabres.2020.108266; https://www.ncbi.nlm.nih.gov/pubmed/32533989/; https://api.elsevier.com/content/article/pii/S0168822720305167; https://www.sciencedirect.com/science/article/pii/S0168822720305167?v=s5', 'Diabetes Res Clin Pract', 'PMC7286824', '32533989', datetime.date(2020, 6, 11)), ('A dissection of SARS-CoV2 with clinical implications (Review)', 'Stancioiu, Felician; Papadakis, Georgios Z.; Kteniadakis, Stelios; Izotov, Boris Nikovaevich; Coleman, Michael D.; Spandidos, Demetrios A.; Tsatsakis, Aristidis', 'We are being confronted with the most consequential pandemic since the Spanish flu of 1918-1920 to the extent that never before have 4 billion people ... (748 characters truncated) ... syndrome (ARDS); known treatments; ii) Structure and functions of SARS-CoV2 and proposed antiviral drugs; iii) The combination of arginine-ascorbate.', '10.3892/ijmm.2020.4636', 'https://www.ncbi.nlm.nih.gov/pubmed/32626922/; https://doi.org/10.3892/ijmm.2020.4636', 'Int J Mol Med', 'PMC7307812', '32626922', datetime.date(2020, 6, 10)), ('Nutrition of the COVID-19 patient in the intensive care unit (ICU): a practical guidance', 'Thibault, Ronan; Seguin, Philippe; Tamion, Fabienne; Pichard, Claude; Singer, Pierre', 'Five to 10% of the coronavirus SARS-CoV-2-infected patients, i.e., with new coronavirus disease 2019 (COVID-19), are presenting with an acute respira ... (460 characters truncated) ...  in the ICU should be emphasized. We propose a flow chart and ten key issues for optimizing the nutrition management of COVID-19 patients in the ICU.', '10.1186/s13054-020-03159-z', 'https://doi.org/10.1186/s13054-020-03159-z; https://www.ncbi.nlm.nih.gov/pubmed/32684170/', 'Crit Care', 'PMC7369442', '32684170', datetime.date(2020, 7, 19)), ('Practical recommendations for the management of diabetes in patients with COVID-19', 'Bornstein, Stefan R; Rubino, Francesco; Khunti, Kamlesh; Mingrone, Geltrude; Hopkins, David; Birkenfeld, Andreas L; Boehm, Bernhard; Amiel, Stephanie ... (45 characters truncated) ...  Hans; Renard, Eric; Eckel, Robert H; Zimmet, Paul; Alberti, Kurt George; Vidal, Josep; Geloneze, Bruno; Chan, Juliana C; Ji, Linong; Ludwig, Barbara', 'Summary Diabetes is one of the most important comorbidities linked to the severity of all three known human pathogenic coronavirus infections, includ ... (658 characters truncated) ...  coronavirus infection and diabetes, present practical management recommendations, and elaborate on the differential needs of several patient groups.', '10.1016/s2213-8587(20)30152-2', 'https://doi.org/10.1016/s2213-8587(20)30152-2; https://www.sciencedirect.com/science/article/pii/S2213858720301522; https://api.elsevier.com/content/article/pii/S2213858720301522; https://www.ncbi.nlm.nih.gov/pubmed/32334646/', 'Lancet Diabetes Endocrinol', 'PMC7180013', '32334646', datetime.date(2020, 4, 23)), ('Dysfunction of adaptive immunity is related to severity of COVID-19: a retrospective study', 'Xie, Liang; Wu, Qinhan; Lin, Qunying; Liu, Xuhui; Lin, Weihua; Hao, Shengyu; Hu, Weiping; Xiang, Guiling; Lu, Hongzhou; Li, Shanqun', 'BACKGROUND: In December of 2019, coronavirus disease 2019 (Covid-19) was reported in Wuhan, China, and has now rapidly swept around the world. Much r ... (1454 characters truncated) ... d help physicians with the proper diagnosis and treatment of COVID-19. The reviews of this paper are available via the supplemental material section.', '10.1177/1753466620942129', 'https://doi.org/10.1177/1753466620942129; https://www.ncbi.nlm.nih.gov/pubmed/32684101/', 'Ther Adv Respir Dis', 'PMC7372623', '32684101', datetime.date(2020, 7, 20)), ('Obesity and COVID-19: The Clash of Two Pandemics', 'Chua, M; Zheng, SW', None, '10.1016/j.orcp.2020.06.003', 'https://www.sciencedirect.com/science/article/pii/S1871403X2030315X?v=s5; https://doi.org/10.1016/j.orcp.2020.06.003; https://api.elsevier.com/content/article/pii/S1871403X2030315X; https://www.ncbi.nlm.nih.gov/pubmed/32631805/', 'Obes Res Clin Pract', 'PMC7316069', '32631805', datetime.date(2020, 6, 25)), ('Newly-diagnosed diabetes and admission hyperglycemia predict COVID-19 severity by aggravating respiratory deterioration', 'Paolo Fadini, Gian; Luca Morieri, Mario; Boscari, Federico; Fioretto, Paola; Maran, Alberto; Busetto, Luca; Maria Bonora, Benedetta; Selmin, Elisa; A ... (106 characters truncated) ...  Mazzocut, Sara; Costantini, Giorgia; Ghirardini, Francesca; Tresso, Silvia; Maria Cattelan, Anna; Vianello, Andrea; Avogaro, Angelo; Vettor, Roberto', 'Abstract Aims We investigated whether pre-existing diabetes, newly-diagnosed diabetes, and admission hyperglycemia were associated with COVID-19 seve ... (1212 characters truncated) ...  Conclusion Newly-diagnosed diabetes and admission hyperglycemia are powerful predictors of COVID-19 severity due to rapid respiratory deterioration.', '10.1016/j.diabres.2020.108374', 'https://api.elsevier.com/content/article/pii/S0168822720306276; https://www.sciencedirect.com/science/article/pii/S0168822720306276?v=s5; https://doi ... (11 characters truncated) ... 6/j.diabres.2020.108374; https://www.ncbi.nlm.nih.gov/pubmed/32805345/; http://www.diabetesresearchclinicalpractice.com/article/S0168822720306276/pdf', 'Diabetes Research and Clinical Practice', 'PMC7428425', '32805345', datetime.date(2020, 8, 15)), ('Diabetes and COVID-19: Global and Regional Perspectives', 'Jeong, In-Kyung; Ho Yoon, Kun; Kyu Lee, Moon', 'Abstract The coronavirus disease-2019 (COVID-19) has been designated as a highly contagious infectious disease caused by the severe acute respiratory ... (1183 characters truncated) ... ogy, virology, impact of diabetes on COVID-19, treatment of COVID-19, and standard of care in the management of diabetes during this critical period.', '10.1016/j.diabres.2020.108303', 'https://www.sciencedirect.com/science/article/pii/S0168822720305556?v=s5; https://api.elsevier.com/content/article/pii/S0168822720305556; https://doi.org/10.1016/j.diabres.2020.108303; https://www.ncbi.nlm.nih.gov/pubmed/32623038/', 'Diabetes Res Clin Pract', 'PMC7332438', '32623038', datetime.date(2020, 7, 3)), ('The impact of type 2 diabetes and its management on the prognosis of patients with severe COVID‐19', 'Xu, Zihui; Wang, Zhongjing; Wang, Shuo; Ye, Yingchun; Luo, Deng; Wan, Li; Yu, Ailin; Sun, Lifang; Tesfaye, Solomon; Meng, Qingtao; Gao, Ling', 'BACKGROUND: Although T2DM patients with COVID‐19 develop a more severe condition compared to those without diabetes, the mechanisms for this are unkn ... (1190 characters truncated) ... oid treatment are associated with poor prognosis for T2DM patients with severe COVID‐19. This article is protected by copyright. All rights reserved.', '10.1111/1753-0407.13084', 'https://www.ncbi.nlm.nih.gov/pubmed/32638507/; https://doi.org/10.1111/1753-0407.13084', 'J Diabetes', 'PMC7361557', '32638507', datetime.date(2020, 7, 8)), ('Distinguishing between COVID‐19 and influenza during the early stages by measurement of peripheral blood parameters', 'Chen, Jiangnan; Pan, Yong; Li, Gangfeng; Xu, Wenfang; Zhang, Lihong; Yuan, Shijin; Xia, Yan; Lu, Pei; Zhang, Jun', 'Coronavirus disease 2019 (COVID‐19) is caused by severe acute respiratory syndrome coronavirus 2 infection. This study aims to examine the changes in ... (1039 characters truncated) ... ly disease stages. The diagnostic formula developed by this study will be of benefit for physicians in the differentiation of COVID‐19 and influenza.', '10.1002/jmv.26384', 'https://www.ncbi.nlm.nih.gov/pubmed/32749709/; https://doi.org/10.1002/jmv.26384', 'J Med Virol', 'PMC7436548', '32749709', datetime.date(2020, 8, 13)), ('Early Warning Indicators of Severe COVID-19: A Single-Center Study of Cases From Shanghai, China', 'Lu, Yiming; Sun, Kuo; Guo, Shanshan; Wang, Junjie; Li, An; Rong, Xuli; Wang, Tingfang; Shang, Yan; Chang, Wenjun; Wang, Sheng', 'Background: Patients with severe novel coronavirus disease (COVID-19) can likely develop comorbidities, which can lead to irreversible organ damage a ... (2094 characters truncated) ... Meanwhile, abnormalities in 11 indicators and an abnormal coagulation function index at admission are risk factors for progression to severe disease.', '10.3389/fmed.2020.00432', 'https://doi.org/10.3389/fmed.2020.00432; https://www.ncbi.nlm.nih.gov/pubmed/32766268/', 'Front Med (Lausanne)', 'PMC7379420', '32766268', datetime.date(2020, 7, 17)), ('The epidemiology and clinical information about COVID-19', 'Ge, Huipeng; Wang, Xiufen; Yuan, Xiangning; Xiao, Gong; Wang, Chengzhi; Deng, Tianci; Yuan, Qiongjing; Xiao, Xiangcheng', 'In December 2019, pneumonia of unknown cause occurred in Wuhan, Hubei Province, China. On 7 January 2020, a novel coronavirus, named as severe acute  ... (512 characters truncated) ...  characteristics, clinical features, diagnosis, treatment, and prognosis of COVID-19. A comprehensive understanding will help to control the disease.', '10.1007/s10096-020-03874-z', 'https://www.ncbi.nlm.nih.gov/pubmed/32291542/; https://doi.org/10.1007/s10096-020-03874-z', 'Eur J Clin Microbiol Infect Dis', 'PMC7154215', '32291542', datetime.date(2020, 4, 14)), ('Management of diabetes in patients with COVID-19', 'Lalau, Jean-Daniel; Al-Salameh, Abdallah', None, '10.1016/s2213-8587(20)30231-x', 'https://doi.org/10.1016/s2213-8587(20)30231-x; https://www.ncbi.nlm.nih.gov/pubmed/32707108/; https://api.elsevier.com/content/article/pii/S221385872030231X; https://www.sciencedirect.com/science/article/pii/S221385872030231X', 'Lancet Diabetes Endocrinol', 'PMC7373379', '32707108', datetime.date(2020, 7, 21)), ('From SARS to COVID-19: What lessons have we learned?', 'Liu, Qin; Xu, Kaiyuan; Wang, Xiang; Wang, Wenmei', 'Abstract After the outbreak of severe acute respiratory syndrome (SARS) in November 2002, coronaviruses (CoVs) received worldwide attention. On Decem ... (944 characters truncated) ... xperience in fighting the epidemic to combat the novel coronavirus pandemic. We also discuss the lessons that we have learned from COVID-19 and SARS.', '10.1016/j.jiph.2020.08.001', 'https://www.sciencedirect.com/science/article/pii/S1876034120306006?v=s5; https://api.elsevier.com/content/article/pii/S1876034120306006', 'J Infect Public Health', 'PMC7442131', None, datetime.date(2020, 8, 21)), ('Clinical Course and Factors Associated with Hospitalization and Critical Illness Among COVID‐19 Patients in Chicago, Illinois', 'Gottlieb, Michael; Sansom, Sarah; Frankenberger, Casey; Ward, Edward; Hota, Bala', 'BACKGROUND: SARS‐CoV‐2 is a global pandemic associated with significant morbidity and mortality. However, information from United States cohorts is l ... (2047 characters truncated) ... ber of factors associated with hospitalization and critical illness. Clinicians should consider these factors when evaluating patients with COVID‐19.', '10.1111/acem.14104', 'https://www.ncbi.nlm.nih.gov/pubmed/32762106/; https://doi.org/10.1111/acem.14104', 'Acad Emerg Med', 'PMC7436503', '32762106', datetime.date(2020, 8, 6)), ('Challenging Issues in the Management of Cardiovascular Risk Factors in Diabetes During the COVID-19 Pandemic: A Review of Current Literature', 'Rahimi, Leili; Malek, Mojtaba; Ismail-Beigi, Faramarz; Khamseh, Mohammad E.', 'The COVID-19 outbreak was declared a pandemic on March 2020. Many patients with SARS-CoV-2 infection have underlying chronic medical conditions such  ... (545 characters truncated) ... siologic links between diabetes and COVID-19 and discuss various options to treat dysglycemia, hypertension, and dyslipidemia in the era of COVID-19.', '10.1007/s12325-020-01417-8', 'https://doi.org/10.1007/s12325-020-01417-8; https://www.ncbi.nlm.nih.gov/pubmed/32632851/', 'Adv Ther', 'PMC7338141', '32632851', datetime.date(2020, 7, 6)), ('Risk and predictors of in-hospital mortality from COVID-19 in patients with diabetes and cardiovascular disease', 'Rastad, Hadith; Karim, Hossein; Ejtahed, Hanieh-Sadat; Tajbakhsh, Ramin; Noorisepehr, Mohammad; Babaei, Mehrdad; Azimzadeh, Mehdi; Soleimani, Alireza; Inanloo, Seyed Hasan; Shafiabadi Hassani, Neda; Rasanezhad, Fariba; Shahrestanaki, Ehsan; Khodaparast, Zeinab; Golami, Hossein; Qorbani, Mostafa', 'BACKGROUND: Diabetes mellitus (DM) and cardiovascular disease (CVD) are present in a large number of patients with novel Coronavirus disease 2019 (CO ... (1605 characters truncated) ...  also, lymphocyte count, creatinine and CRP concentrations could be considered as significant predictors for the death of COVID-19 in these patients.', '10.1186/s13098-020-00565-9', 'https://www.ncbi.nlm.nih.gov/pubmed/32641974/; https://doi.org/10.1186/s13098-020-00565-9', 'Diabetol Metab Syndr', 'PMC7338100', '32641974', datetime.date(2020, 7, 6)), ('Full Issue PDF', None, None, '10.1016/s2452-302x(20)30205-9', 'https://doi.org/10.1016/s2452-302x(20)30205-9; https://www.ncbi.nlm.nih.gov/pubmed/32501428/; https://www.sciencedirect.com/science/article/pii/S2452302X20302059; https://api.elsevier.com/content/article/pii/S2452302X20302059', 'JACC: Basic to Translational Science', 'PMC7247787', '32501428', datetime.date(2020, 5, 31)), ('Rethinking the Optimal Duration of Immune Checkpoint Inhibitors in Non-small Cell Lung Cancer Throughout the COVID-19 Pandemic', 'Friedlaender, Alex; Kim, Chul; Addeo, Alfredo', \"Immune checkpoint inhibitors (ICPIs) have revolutionized the management and prognosis of fit patients with advanced non-small cell lung cancer (NSCLC ... (846 characters truncated) ... the context of the ongoing pandemic. We conclude with a discussion of pragmatic approaches, should physicians be unable to continue standard therapy.\", '10.3389/fonc.2020.00862', 'https://doi.org/10.3389/fonc.2020.00862; https://www.ncbi.nlm.nih.gov/pubmed/32574277/', 'Front Oncol', 'PMC7239024', '32574277', datetime.date(2020, 5, 12)), ('Clinical Characteristics and Outcomes of COVID-19 Among Patients with Pre-Existing Liver Disease in United States: A Multi-Center Research Network Study', 'Singh, Shailendra; Khan, Ahmad', None, '10.1053/j.gastro.2020.04.064', 'https://doi.org/10.1053/j.gastro.2020.04.064; https://api.elsevier.com/content/article/pii/S0016508520305850; https://www.sciencedirect.com/science/article/pii/S0016508520305850?v=s5; https://www.ncbi.nlm.nih.gov/pubmed/32376408/', 'Gastroenterology', 'PMC7196546', '32376408', datetime.date(2020, 5, 4)), ('The association of diabetes and the prognosis of COVID-19 patients: a retrospective study', 'Liu, Zhelong; Bai, Xi; Han, Xia; Jiang, Wangyan; Qiu, Lin; Chen, Shi; Yu, Xuefeng', 'Abstract Aims This study evaluated the impact of previous glycemic control and in-hospital use of antidiabetic/antihypertensive drugs on the prognosi ... (1299 characters truncated) ... e of 8.6%. The in-hospital use of antidiabetic/antihypertensive drugs were not associated with increased odds of worsening in patients with diabetes.', '10.1016/j.diabres.2020.108386', 'https://www.sciencedirect.com/science/article/pii/S0168822720306392?v=s5; https://www.ncbi.nlm.nih.gov/pubmed/32853685/; https://doi.org/10.1016/j.diabres.2020.108386; https://api.elsevier.com/content/article/pii/S0168822720306392', 'Diabetes Res Clin Pract', 'PMC7445120', '32853685', datetime.date(2020, 8, 25)), ('Multi-organ Dysfunction in Patients with COVID-19: A Systematic Review and Meta-analysis', 'Wu, Ting; Zuo, Zhihong; Kang, Shuntong; Jiang, Liping; Luo, Xuan; Xia, Zanxian; Liu, Jing; Xiao, Xiaojuan; Ye, Mao; Deng, Meichun', 'This study aimed to provide systematic evidence for the association between multiorgan dysfunction and COVID-19 development. Several online databases ... (1827 characters truncated) ...  COVID-19. Patients with a history of organ dysfunction are more susceptible to severe conditions. COVID-19 can aggravate an acute multiorgan injury.', '10.14336/ad.2020.0520', 'https://www.ncbi.nlm.nih.gov/pubmed/32765952/; https://doi.org/10.14336/ad.2020.0520', 'Aging Dis', 'PMC7390520', '32765952', datetime.date(2020, 5, 13)), ('Development and validation of the HNC-LL score for predicting the severity of coronavirus disease 2019', 'Xiao, Lu-shan; Zhang, Wen-Feng; Gong, Meng-chun; Zhang, Yan-pei; Chen, Li-ya; Zhu, Hong-bo; Hu, Chen-yi; Kang, Pei; Liu, Li; Zhu, Hong', 'BACKGROUND: Information regarding risk factors associated with severe coronavirus disease (COVID-19) is limited. This study aimed to develop a model  ... (1569 characters truncated) ... al Nature Science Foundation of China (grant no. 81972897) and Guangdong Province Universities and Colleges Pearl River Scholar Funded Scheme (2015).', '10.1016/j.ebiom.2020.102880', 'https://api.elsevier.com/content/article/pii/S2352396420302553; https://www.ncbi.nlm.nih.gov/pubmed/32645614/; https://doi.org/10.1016/j.ebiom.2020.102880; https://www.sciencedirect.com/science/article/pii/S2352396420302553', 'EBioMedicine', 'PMC7338276', '32645614', datetime.date(2020, 7, 7)), ('COVID-19 in people living with diabetes: An international consensus', 'Caballero, A.E.; Ceriello, A.; Misra, A.; Aschner, P.; McDonnell, M.E.; Hassanein, M.; Ji, L.; Mbanya, J.C.; Fonseca, V.A.', 'The COVID-19 pandemic has added an enormous toll to the existing challenge of diabetes care world-wide. A large proportion of patients with COVID-19  ... (1104 characters truncated) ... ldwide experience offers us the possibility to not only prepare better for future disasters but also transform diabetes care beyond the COVID-19 era.', '10.1016/j.jdiacomp.2020.107671', 'https://api.elsevier.com/content/article/pii/S1056872720304335; https://www.ncbi.nlm.nih.gov/pubmed/32651031/; https://doi.org/10.1016/j.jdiacomp.2020.107671; https://www.sciencedirect.com/science/article/pii/S1056872720304335?v=s5', 'J Diabetes Complications', 'PMC7336933', '32651031', datetime.date(2020, 7, 6)), ('The absorbing filter Oxiris in severe COVID‐19 patients: A case series', 'fengmin, Shaohao; Zhang, Hongtao; Zhu, Guizhen; Yan, Lei; Lu, Yang; Fang, Qiying', \"OBJECTIVE: Hypercytokines cause acute respiratory distress syndrome (ARDS) in COVID‐19 patients, which is the main reason for ICU treatment and the l ... (1481 characters truncated) ... el of overexpressed cytokines, stabilization of hemodynamic status, and staged improvement of organ function during the treatment with Oxiris filter.\", '10.1111/aor.13786', 'https://doi.org/10.1111/aor.13786; https://www.ncbi.nlm.nih.gov/pubmed/32779737/', 'Artif Organs', 'PMC7404740', '32779737', datetime.date(2020, 7, 22)), ('Role of comorbidities like diabetes on severe acute respiratory syndrome coronavirus-2: A review', 'Das, Subham; Anu, K.R.; Birangal, Sumit Raosaheb; Nikam, Ajinkya Nitin; Pandey, Abhijeet; Mutalik, Srinivas; Joseph, Alex', 'Pandemic coronavirus disease-2019, commonly known as COVID-19 caused by severe acute respiratory syndrome coronavirus-2 (SARS-CoV-2) is a highly cont ... (1133 characters truncated) ...  patients with pre-existing diabetes. Along with this, we have also discussed unexplored therapies and future perspectives for coronavirus infection.', '10.1016/j.lfs.2020.118202', 'https://www.sciencedirect.com/science/article/pii/S0024320520309541?v=s5; https://www.ncbi.nlm.nih.gov/pubmed/32758625/; https://api.elsevier.com/content/article/pii/S0024320520309541; https://doi.org/10.1016/j.lfs.2020.118202', 'Life Sci', 'PMC7397991', '32758625', datetime.date(2020, 8, 3)), ('A compendium answering 150 questions on COVID‐19 and SARS‐CoV‐2', \"Riggioni, Carmen; Comberiati, Pasquale; Giovannini, Mattia; Agache, Ioana; Akdis, Mübeccel; Alves‐Correia, Magna; Antó, Josep M.; Arcolaci, Alessandr ... (456 characters truncated) ... rgen; Sokolowska, Milena; Torres, María J.; van de Veen, Willem; van Zelm, Menno C.; Wang, De Yun; Zhang, Luo; Jiménez‐Saiz, Rodrigo; Akdis, Cezmi A.\", 'In December 2019, China reported the first cases of the coronavirus disease 2019 (COVID‐19). This disease, caused by the severe acute respiratory syn ... (1443 characters truncated) ... emiology. Over 140 questions were answered by experts in the field providing a comprehensive and practical overview of COVID‐19 and allergic disease.', '10.1111/all.14449', 'https://www.ncbi.nlm.nih.gov/pubmed/32535955/; https://doi.org/10.1111/all.14449', 'Allergy', 'PMC7323196', '32535955', datetime.date(2020, 6, 14)), ('A close-up on COVID-19 and cardiovascular diseases', 'Li, Gang; Hu, Rui; Gu, Xuefang', 'Abstract Aims To analyze the potential mechanism of cardiovascular dysfunctions induced by Coronavirus Disease 2019 (COVID-19) and to evaluate more e ... (1545 characters truncated) ...  understand the development of COVID-19 and the impacts of cardiovascular diseases will add valuable measures to the management of COVID-19 patients.', '10.1016/j.numecd.2020.04.001', 'https://doi.org/10.1016/j.numecd.2020.04.001; https://www.sciencedirect.com/science/article/pii/S0939475320301083?v=s5; https://www.ncbi.nlm.nih.gov/pubmed/32423664/; https://api.elsevier.com/content/article/pii/S0939475320301083', 'Nutr Metab Cardiovasc Dis', 'PMC7141632', '32423664', datetime.date(2020, 4, 8)), ('A Collaborative Multidisciplinary Approach to the Management of Coronavirus Disease-19 in the Hospital Setting', 'Razonable, Raymund R.; Pennington, Kelly M.; Meehan, Anne M.; Wilson, John W.; Froemming, Adam T.; Bennett, Courtney E.; Marshall, Ariela L.; Virk, Abinash; Carmona, Eva M.', '• Supportive care is the standard approach to the management of coronavirus disease-19, with particular attention to respiratory support, and early d ... (256 characters truncated) ... . A multidisciplinary collaborative approach to management of coronavirus disease-19 is an essential component of providing optimal care to patients.', '10.1016/j.mayocp.2020.05.010', 'https://www.ncbi.nlm.nih.gov/pubmed/32622450/; https://doi.org/10.1016/j.mayocp.2020.05.010; https://www.sciencedirect.com/science/article/pii/S0025619620305152?v=s5; https://api.elsevier.com/content/article/pii/S0025619620305152', 'Mayo Clin Proc', 'PMC7260518', '32622450', datetime.date(2020, 5, 30)), ('Managing People with Diabetes Fasting for Ramadan During the COVID‐19 Pandemic: A South Asian Health Foundation Update', 'Hanif, S.; Ali, SN.; Hassanein, M.; Khunti, K.; Hanif, W.', 'The month of Ramadan forms one of the five pillars of the Muslim faith. Adult Muslims are obligated to keep daily fasts from dawn to sunset, with exc ... (811 characters truncated) ... re, we discuss the implications of fasting in Ramadan during the COVID‐19 pandemic and make recommendations for those with diabetes who wish to fast.', '10.1111/dme.14312', 'https://doi.org/10.1111/dme.14312; https://www.ncbi.nlm.nih.gov/pubmed/32333691/', 'Diabet Med', 'PMC7267620', '32333691', datetime.date(2020, 4, 25)), ('Practical Considerations for Pregnant Women with Diabetes and SARS-CoV-2 Infection', 'Boyles, Glenn P.; Thung, Stephen; Gabbe, Steven G.; Landon, Mark B.; Costantine, Maged M.', 'Abstract Epidemiological data available so far suggest that individuals with diabetes, especially when not well controlled, are at greater risk than  ... (327 characters truncated) ... iabetes in pregnant women during the pandemic, especially for general obstetricians-gynecologists and non-obstetrician taking care of these patients.', '10.1016/j.ajogmf.2020.100210', 'https://www.sciencedirect.com/science/article/pii/S2589933320301786?v=s5; https://doi.org/10.1016/j.ajogmf.2020.100210; https://www.ncbi.nlm.nih.gov/pubmed/32838276/; https://api.elsevier.com/content/article/pii/S2589933320301786', 'Am J Obstet Gynecol MFM', 'PMC7430221', '32838276', datetime.date(2020, 8, 17)), ('The COVID-19 pandemic and diabetes mellitus', 'Papazafiropoulou, Athanasia K.; Antonopoulos, Stavros', 'COVID-19, a disease caused by a novel coronavirus, SARS-CoV-2, has reached the proportion of a pandemic and presents with either mild and moderate sy ... (532 characters truncated) ... contract the virus. Social distancing and strict hand hygiene are of great importance in order to help the global goal of eradication of the disease.', '10.5114/amsad.2020.97435', 'https://doi.org/10.5114/amsad.2020.97435; https://www.ncbi.nlm.nih.gov/pubmed/32832721/', 'Arch Med Sci Atheroscler Dis', 'PMC7433782', '32832721', datetime.date(2020, 7, 21)), ('COVID-19 in diabetic patients: related risks and specifics of management', 'Orioli, Laura; Hermans, Michel P; Thissen, Jean-Paul; Maiter, Dominique; Vandeleene, Bernard; Yombi, Jean-Cyr', 'Abstract Diabetes is among the most frequently reported comorbidities in patients infected with COVID-19. According to current data, diabetic patient ... (1098 characters truncated) ...  risks of lactic acidosis and ketoacidosis. Finally, we advise for systematic screening for (pre)diabetes in patients with proven COVID-19 infection.', '10.1016/j.ando.2020.05.001', 'https://doi.org/10.1016/j.ando.2020.05.001; https://api.elsevier.com/content/article/pii/S0003426620300688; https://www.ncbi.nlm.nih.gov/pubmed/32413342/; https://www.sciencedirect.com/science/article/pii/S0003426620300688?v=s5', 'Ann Endocrinol (Paris)', 'PMC7217100', '32413342', datetime.date(2020, 5, 12)), ('Clinical, molecular and epidemiological characterization of the SARS-CoV2 virus and the Coronavirus disease 2019 (COVID-19), a comprehensive literature review', 'Ortiz-Prado, Esteban; Simbaña-Rivera, Katherine; Gómez-Barreno, Lenin; Rubio-Neira, Mario; Guaman, Linda P.; Kyriakidis, Nikolaos C; Muslin, Claire;  ... (27 characters truncated) ...  Barba-Ostria, Carlos; Cevallos-Robalino, Doménica; Sanches-SanMiguel, Hugo; Unigarro, Luis; Zalakeviciute, Rasa; Gadian, Naomi; López-Cortés, Andrés', 'Abstract Coronaviruses are an extensive family of viruses that can cause disease in both animals and humans. The current classification of coronaviru ... (1245 characters truncated) ... nsive literature available, we have conducted a comprehensive literature review of the SARS CoV-2 Virus and the Coronavirus Diseases 2019 (COVID-19).', '10.1016/j.diagmicrobio.2020.115094', 'https://doi.org/10.1016/j.diagmicrobio.2020.115094; https://www.sciencedirect.com/science/article/pii/S0732889320304715?v=s5; https://api.elsevier.com/content/article/pii/S0732889320304715; https://www.ncbi.nlm.nih.gov/pubmed/32623267/', 'Diagn Microbiol Infect Dis', 'PMC7260568', '32623267', datetime.date(2020, 5, 30)), ('J-shaped Association Between Fasting Blood Glucose Levels and COVID-19 Severity in Patients without Diabetes', 'Zhu, Bing; Jin, Shengwei; Wu, Lianpeng; Hu, Chenchan; Wang, Zhen; Bu, Le; Sun, Hang; Wang, Xingchun; Qu, Shen; Chen, Dong', 'Abstract Aims coronavirus disease 2019 (COVID-19) has become a recognized worldwide pandemic. Researchers now know that mortality from COVID-19 can b ... (1095 characters truncated) ... f J-shaped associations between FBG and risk of severe and critical condition in non-diabetes patients with COVID-19, with nadir at 4.74-5.78 mmol/L.', '10.1016/j.diabres.2020.108381', 'https://doi.org/10.1016/j.diabres.2020.108381; https://www.sciencedirect.com/science/article/pii/S0168822720306343?v=s5; https://www.ncbi.nlm.nih.gov/pubmed/32853687/; https://api.elsevier.com/content/article/pii/S0168822720306343', 'Diabetes Res Clin Pract', 'PMC7445136', '32853687', datetime.date(2020, 8, 25)), ('Outcomes in Patients With Hyperglycemia Affected by COVID-19: Can We Do More on Glycemic Control?', 'Sardu, Celestino; D’Onofrio, Nunzia; Balestrieri, Maria Luisa; Barbieri, Michelangela; Rizzo, Maria Rosaria; Messina, Vincenzo; Maggi, Paolo; Coppola, Nicola; Paolisso, Giuseppe; Marfella, Raffaele', 'OBJECTIVE: An important prognostic factor in any form of infection seems to be glucose control in patients with type 2 diabetes. There is no informat ... (1806 characters truncated) ... n infusion. CONCLUSIONS: Insulin infusion may be an effective method for achieving glycemic targets and improving outcomes in patients with COVID-19.', '10.2337/dc20-0723', 'https://www.ncbi.nlm.nih.gov/pubmed/32430456/; https://doi.org/10.2337/dc20-0723', 'Diabetes Care', 'PMC7305003', '32430456', datetime.date(2020, 5, 19)), ('Novel coronavirus (COVID-19) infection: What a doctor on the frontline needs to know', 'Down, Billy; Kulkarni, Sagar; Ahmed Khan, Ameer Hamid; Barker, Benjamin; Tang, Ivan', 'Coronavirus disease 2019 (COVID-19) is a zoonotic respiratory infection originating from Wuhan, China. Rapidly spreading from Wuhan to all inhabited  ... (618 characters truncated) ... l, economic and social changes. This review provides an overview of COVID-19 for junior doctors who find themselves on a new frontline of healthcare.', '10.1016/j.amsu.2020.05.014', 'https://doi.org/10.1016/j.amsu.2020.05.014; https://api.elsevier.com/content/article/pii/S2049080120300996; https://www.sciencedirect.com/science/article/pii/S2049080120300996?v=s5; https://www.ncbi.nlm.nih.gov/pubmed/32405411/', 'Ann Med Surg (Lond)', 'PMC7217801', '32405411', datetime.date(2020, 5, 13)), ('Geroprotective and senoremediative strategies to reduce the comorbidity, infection rates, severity, and lethality in gerophilic and gerolavic infections', 'Zhavoronkov, Alex', 'The recently identified SARS-CoV-2 betacoronavirus responsible for the COVID-19 pandemic has uncovered the age-associated vulnerability in the burden ... (1599 characters truncated) ... medications described are not yet licensed or recommended as immune system boosters, as they have not undergone clinical evaluation for this purpose.', '10.18632/aging.102988', 'https://doi.org/10.18632/aging.102988; https://www.ncbi.nlm.nih.gov/pubmed/32229705/', 'Aging (Albany NY)', 'PMC7202545', '32229705', datetime.date(2020, 3, 31)), ('Prognostic Factors for Severe Coronavirus Disease 2019 in Daegu, Korea', 'Jang, Jong Geol; Hur, Jian; Choi, Eun Young; Hong, Kyung Soo; Lee, Wonhwa; Ahn, June Hong', 'BACKGROUND: Since its first detection in December 2019, coronavirus disease 2019 (COVID-19) caused by severe acute respiratory syndrome coronavirus 2 ... (1324 characters truncated) ...  close monitoring to provide the necessary interventions at the appropriate time in high-risk patients may reduce the case fatality rate of COVID-19.', '10.3346/jkms.2020.35.e209', 'https://doi.org/10.3346/jkms.2020.35.e209; https://www.ncbi.nlm.nih.gov/pubmed/32537954/', 'J Korean Med Sci', 'PMC7295599', '32537954', datetime.date(2020, 6, 2)), ('COVID-19 and diabetes: What does the clinician need to know?', 'Papadokostaki, Eleni; Tentolouris, Nikolaos; Liberopoulos, Evangelos', 'COVID-19 and diabetes are currently two global pandemics. Epidemiological studies indicate that diabetes is the second most common comorbidity in COV ... (24 characters truncated) ... to summarize currently available data about prevalence, possible pathophysiological mechanisms and management of patients with diabetes and COVID-19.', '10.1016/j.pcd.2020.06.010', 'https://www.ncbi.nlm.nih.gov/pubmed/32654982/; https://api.elsevier.com/content/article/pii/S1751991820302229; https://doi.org/10.1016/j.pcd.2020.06.010; https://www.sciencedirect.com/science/article/pii/S1751991820302229', 'Prim Care Diabetes', 'PMC7332931', '32654982', datetime.date(2020, 7, 3)), ('Cardiac Manifestations of Coronavirus Disease 2019 (COVID-19): A Comprehensive Review', 'Tahir, Faryal; Bin Arif, Taha; Ahmed, Jawad; Malik, Farheen; Khalid, Muhammad', 'Since its origin in China, severe acute respiratory syndrome coronavirus 2 (SARS-CoV-2) infection has become a pandemic and spread to 209 countries.  ... (807 characters truncated) ... e have summarized the findings of all those studies as well as the clinical features and management of cardiac injury discussed by some case reports.', '10.7759/cureus.8021', 'https://doi.org/10.7759/cureus.8021; https://www.ncbi.nlm.nih.gov/pubmed/32528760/', 'Cureus', 'PMC7282369', '32528760', datetime.date(2020, 5, 8)), ('Clinical Management of Diabetes Mellitus in the Era of COVID-19: Practical Issues, Peculiarities and Concerns', 'Koliaki, Chrysi; Tentolouris, Anastasios; Eleftheriadou, Ioanna; Melidonis, Andreas; Dimitriadis, George; Tentolouris, Nikolaos', 'The management of patients with diabetes mellitus (DM) in the era of the COVID-19 pandemic can be challenging. Even if they are not infected, they ar ... (1036 characters truncated) ... ory and other treatment strategies in the context of patient-tailored precision medicine, which emerges as an urgent priority in the era of COVID-19.', '10.3390/jcm9072288', 'https://doi.org/10.3390/jcm9072288; https://www.ncbi.nlm.nih.gov/pubmed/32708504/', 'J Clin Med', 'PMC7408673', '32708504', datetime.date(2020, 7, 18)), ('Clinical analysis of risk factors for severe COVID-19 patients with type 2 diabetes()', 'Zhang, Qianhui; Wei, Yanhong; Chen, Min; Wan, Qianqian; Chen, Xiaoqi', 'AIMS: To describe characteristics of COVID-19 patients with type 2 diabetes and to analyze risk factors for severity. METHODS: Demographics, comorbid ... (1051 characters truncated) ... ia and dyslipidemia. Aggressive treatment should be suggested, especially when these patients had low CD4(+) T lymphocyte counts and high SAA levels.', '10.1016/j.jdiacomp.2020.107666', 'https://api.elsevier.com/content/article/pii/S1056872720304281; https://doi.org/10.1016/j.jdiacomp.2020.107666; https://www.ncbi.nlm.nih.gov/pubmed/32636061/; https://www.sciencedirect.com/science/article/pii/S1056872720304281', 'J Diabetes Complications', 'PMC7323648', '32636061', datetime.date(2020, 6, 29)), ('COVID‐19 and hypertension—evidence and practical management: Guidance from the HOPE Asia Network', 'Kario, Kazuomi; Morisawa, Yuji; Sukonthasarn, Apichard; Turana, Yuda; Chia, Yook‐Chin; Park, Sungha; Wang, Tzung‐Dau; Chen, Chen‐Huan; Tay, Jam Chin; Li, Yan; Wang, Ji‐Guang', 'There are several risk factors for worse outcomes in patients with coronavirus 2019 disease (COVID‐19). Patients with hypertension appear to have a p ... (1451 characters truncated) ...  a rapidly growing body of evidence will help ensure the best possible outcomes for patients, including those with risk factors such as hypertension.', '10.1111/jch.13917', 'https://doi.org/10.1111/jch.13917; https://www.ncbi.nlm.nih.gov/pubmed/32643874/', 'J Clin Hypertens (Greenwich)', 'PMC7361740', '32643874', datetime.date(2020, 7, 9)), ('Exercise as medicine for COVID-19: on PPAR with emerging pharmacotherapy', 'Heffernan, Kevin S.; Ranadive, Sushant; Jae, Sae Young', 'Coronavirus disease 2019 (COVID-19) may have a metabolic origin given strong links with risk factors such as lipids and glucose and co-morbidities su ... (1077 characters truncated) ... t exercise may be a useful adjuvant in a setting of COVID-19 management/rehabilitation due to its effects on PPARα and vascular endothelial function.', '10.1016/j.mehy.2020.110197', 'https://api.elsevier.com/content/article/pii/S0306987720324853; https://www.sciencedirect.com/science/article/pii/S0306987720324853?v=s5', 'Med Hypotheses', 'PMC7430295', None, datetime.date(2020, 8, 17))]\n"
     ]
    }
   ],
   "source": [
    "visualization_app.run(port=\"8076\")"
   ]
  },
  {
   "cell_type": "markdown",
   "metadata": {},
   "source": [
    "# Validate the knowledge graph\n",
    "Content of the Knowledge Graph is validated. In this version, syntactic validation (i.e. are the identifiers correct, ...) is performed when building the knowledge graph. If the knowledge graph is successfully built then the validation passes. In case of warning (i.e because of a weird character (+,...) in an extracted entity), the user can go back to the curation step and further curate extracted entities. "
   ]
  },
  {
   "cell_type": "markdown",
   "metadata": {},
   "source": [
    "# Correct knowledge graph\n",
    "Correction involves going back to the extraction and/or curation steps."
   ]
  },
  {
   "cell_type": "markdown",
   "metadata": {},
   "source": [
    "# Access the knowledge graph\n",
    "The user can search, visualize, and export the knowledge graph."
   ]
  },
  {
   "cell_type": "markdown",
   "metadata": {},
   "source": [
    "# Version the knowledge graph\n",
    "The user can save a knowledge graph with a version."
   ]
  },
  {
   "cell_type": "code",
   "execution_count": null,
   "metadata": {},
   "outputs": [],
   "source": [
    "import time\n",
    "timestr = time.strftime(\"%Y%m%d-%H%M%S\")\n",
    "        \n",
    "# Temporally save the extracted entities csv file locally\n",
    "table_extractions_filename = \"./table_extractions_%s.csv\" % (timestr)\n",
    "table_extractions.to_csv(table_extractions_filename)\n",
    "\n",
    "\n",
    "# Temporally save the curated list of extracted entities csv file locally\n",
    "curated_table_extractions_filename = \"./curated_table_extractions_%s.csv\" % (timestr)\n",
    "curated_table_extractions.to_csv(curated_table_extractions_filename)"
   ]
  },
  {
   "cell_type": "code",
   "execution_count": null,
   "metadata": {},
   "outputs": [],
   "source": [
    "import jwt\n",
    "from kgforge.core import Resource\n",
    "from kgforge.specializations.resources import Dataset\n",
    "\n",
    "agent = jwt.decode(TOKEN,  verify=False)\n",
    "\n",
    "agent = forge.reshape(forge.from_json(agent), keep=[\"name\",\"email\",\"sub\",\"preferred_username\"])\n",
    "agent.id = agent.sub\n",
    "agent.type = \"Person\"\n",
    "\n",
    "dataset = Dataset(forge,name=\"A dataset\", about=topic_resource.name)\n",
    "dataset.add_distribution(table_extractions_filename, content_type=\"application/csv\")\n",
    "dataset.add_distribution(curated_table_extractions_filename, content_type=\"application/csv\")\n",
    "dataset.add_contribution(agent)\n",
    "dataset.contribution.hadRole= \"Scientists\""
   ]
  },
  {
   "cell_type": "code",
   "execution_count": null,
   "metadata": {},
   "outputs": [],
   "source": [
    "version = agent.preferred_username+\"_\"+timestr\n",
    "\n",
    "def register_dataset(b):\n",
    "    output4.clear_output()\n",
    "    output5.clear_output()\n",
    "    dataset.name = t1.value\n",
    "    dataset.description = t2.value\n",
    "    forge.register(dataset)\n",
    "    if dataset._last_action.succeeded == True:\n",
    "        with output4:\n",
    "            print(\"Dataset registered!\")\n",
    "    else:\n",
    "        with output4:\n",
    "            print(dataset._last_action.message)\n",
    "\n",
    "def version_dataset(b):\n",
    "    output5.clear_output()\n",
    "    version = t3.value\n",
    "    forge.tag(dataset,version)\n",
    "    if dataset._last_action.succeeded == True:\n",
    "        with output5:\n",
    "            print(f\"Tagged with: {str(version)}\")\n",
    "    \n",
    "output4 = ipywidgets.Output()\n",
    "output5 = ipywidgets.Output()\n",
    "\n",
    "b1 = ipywidgets.Button(\n",
    "    description= '💾  Register Dataset',\n",
    "    button_style='',\n",
    "    layout=ipywidgets.Layout(width='300px', height='30px'),\n",
    "    disabled=False)\n",
    "\n",
    "b2 = ipywidgets.Button(\n",
    "    description= '🔖 Tag Dataset',\n",
    "    button_style='',\n",
    "    layout=ipywidgets.Layout(width='300px', height='30px'),\n",
    "    disabled=False)\n",
    "\n",
    "t1 = ipywidgets.Text(\n",
    "    placeholder='Add a name for your dataset',\n",
    "    description='Name:',\n",
    "    disabled=False)\n",
    "\n",
    "t2 = ipywidgets.Textarea(\n",
    "    placeholder='Add a description of your dataset',\n",
    "    description='Description:',\n",
    "    disabled=False)\n",
    "\n",
    "t3 = ipywidgets.Text(\n",
    "    description='Tag:',\n",
    "    value=version,\n",
    "    disabled=False)\n",
    "\n",
    "b1.on_click(register_dataset)\n",
    "b2.on_click(version_dataset)\n",
    "\n",
    "save_widget = ipywidgets.VBox(children=[t1, t2, b1, output4, t3, b2, output5])\n",
    "\n",
    "display(save_widget)"
   ]
  }
 ],
 "metadata": {
  "kernelspec": {
   "display_name": "BBS-BBG",
   "language": "python",
   "name": "devel"
  },
  "language_info": {
   "codemirror_mode": {
    "name": "ipython",
    "version": 3
   },
   "file_extension": ".py",
   "mimetype": "text/x-python",
   "name": "python",
   "nbconvert_exporter": "python",
   "pygments_lexer": "ipython3",
   "version": "3.7.4"
  },
  "toc-autonumbering": true
 },
 "nbformat": 4,
 "nbformat_minor": 4
}
