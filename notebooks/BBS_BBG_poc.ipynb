{
 "cells": [
  {
   "cell_type": "markdown",
   "metadata": {},
   "source": [
    "# Goal of the notebook\n",
    "End to end pipeline for searching articles of interest, extracting entities of interest, building, accessing and deploying a knowled graph and a co-mention graph."
   ]
  },
  {
   "cell_type": "code",
   "execution_count": 1,
   "metadata": {},
   "outputs": [],
   "source": [
    "import getpass\n",
    "import json\n",
    "import os\n",
    "import pathlib\n",
    "import requests\n",
    "import time\n",
    "\n",
    "import ipywidgets\n",
    "import networkx as nx\n",
    "import pandas as pd\n",
    "import sqlalchemy\n",
    "\n",
    "import jwt\n",
    "\n",
    "from bbsearch.widgets import ArticleSaver, MiningSchema, MiningWidget, SearchWidget"
   ]
  },
  {
   "cell_type": "code",
   "execution_count": 2,
   "metadata": {},
   "outputs": [],
   "source": [
    "pd.options.mode.chained_assignment = None"
   ]
  },
  {
   "cell_type": "code",
   "execution_count": 3,
   "metadata": {},
   "outputs": [],
   "source": [
    "from jupyter_dash.comms import _send_jupyter_config_comm_request, _jupyter_config\n",
    "from jupyter_dash import JupyterDash\n",
    "\n",
    "import dash_cytoscape as cyto\n",
    "\n",
    "from tqdm.notebook import tqdm"
   ]
  },
  {
   "cell_type": "code",
   "execution_count": 4,
   "metadata": {},
   "outputs": [],
   "source": [
    "# JupyterDash configs\n",
    "_send_jupyter_config_comm_request()"
   ]
  },
  {
   "cell_type": "code",
   "execution_count": null,
   "metadata": {},
   "outputs": [],
   "source": [
    "time.sleep(3)\n",
    "JupyterDash.infer_jupyter_proxy_config()\n",
    "cyto.load_extra_layouts()"
   ]
  },
  {
   "cell_type": "code",
   "execution_count": 6,
   "metadata": {},
   "outputs": [],
   "source": [
    "from cord_analytics.utils import (generate_curation_table,\n",
    "                                  link_ontology,\n",
    "                                  generate_comention_analysis,\n",
    "                                  build_cytoscape_data,\n",
    "                                  merge_with_ontology_linking,\n",
    "                                  resolve_taxonomy_to_types,\n",
    "                                  list_papers)\n",
    "            \n",
    "from bbg_apps.curation_app import (curation_app)\n",
    "from bbg_apps.visualization_app import (visualization_app)\n",
    "from bbg_apps.topic_app import (TopicWidget, DataSaverWidget)\n",
    "\n",
    "from kganalytics.export import load_network"
   ]
  },
  {
   "cell_type": "code",
   "execution_count": 7,
   "metadata": {},
   "outputs": [],
   "source": [
    "from kgforge.core import KnowledgeGraphForge"
   ]
  },
  {
   "cell_type": "code",
   "execution_count": 8,
   "metadata": {},
   "outputs": [
    {
     "name": "stdout",
     "output_type": "stream",
     "text": [
      "Loading the ontology linking data...\n",
      "Done.\n"
     ]
    }
   ],
   "source": [
    "print(\"Loading the ontology linking data...\")\n",
    "linking = pd.read_pickle(\"/gpfs/bbp.cscs.ch/project/proj116/network_analytics/data/cord_47_linking.pkl\")\n",
    "print(\"Done.\")\n",
    "GRAPH_OBJECTS = {}"
   ]
  },
  {
   "cell_type": "markdown",
   "metadata": {},
   "source": [
    "# Set a Project\n",
    "\n",
    "The user chooses / creates a project to host a KG.\n",
    "\n",
    "* Use the [Nexus web application](https://bbp.epfl.ch/nexus/web) to get a token.\n",
    "* Once a token is obtained then proceed to paste it below."
   ]
  },
  {
   "cell_type": "code",
   "execution_count": 9,
   "metadata": {},
   "outputs": [
    {
     "name": "stdin",
     "output_type": "stream",
     "text": [
      " ··········································································································································································································································································································································································································································································································································································································································································································································································································································································································································································································································································································································································································································································································································································································································································································································································\n"
     ]
    }
   ],
   "source": [
    "import getpass\n",
    "TOKEN = getpass.getpass()"
   ]
  },
  {
   "cell_type": "code",
   "execution_count": 11,
   "metadata": {},
   "outputs": [],
   "source": [
    "# Configure a 'forge' to manage (create, access and deploy) the knowledge graph within a given Blue Brain Nexus Project.\n",
    "FORGE_CONFIG_FILE = os.getenv(\"FORGE_CONFIG_FILE\") \n",
    "assert (FORGE_CONFIG_FILE is not None) \n",
    "forge = KnowledgeGraphForge(FORGE_CONFIG_FILE,token=TOKEN, debug=True)\n",
    "agent_username = jwt.decode(TOKEN,  verify=False)['preferred_username']"
   ]
  },
  {
   "cell_type": "markdown",
   "metadata": {},
   "source": [
    "# Set topic\n",
    "The user defines a topic."
   ]
  },
  {
   "cell_type": "code",
   "execution_count": 12,
   "metadata": {},
   "outputs": [
    {
     "data": {
      "application/vnd.jupyter.widget-view+json": {
       "model_id": "1821e15fd0b947ebbbdbc7181f8c6f0d",
       "version_major": 2,
       "version_minor": 0
      },
      "text/plain": [
       "Tab(children=(VBox(children=(HBox(children=(Button(description='🔬 List all your topics', layout=Layout(height=…"
      ]
     },
     "metadata": {},
     "output_type": "display_data"
    }
   ],
   "source": [
    "widget = TopicWidget(forge, agent_username)\n",
    "widget.display()"
   ]
  },
  {
   "cell_type": "code",
   "execution_count": 13,
   "metadata": {},
   "outputs": [],
   "source": [
    "(\n",
    "    table_extractions,\n",
    "    curated_table_extractions,\n",
    "    curation_meta_data,\n",
    "    loaded_graphs,\n",
    "    visualization_configs,\n",
    "    topic_resource_id\n",
    ") = widget.get_all()"
   ]
  },
  {
   "cell_type": "markdown",
   "metadata": {},
   "source": [
    "# Data Import\n",
    "The user loads data from a data source (CORD-19). The loaded data forms the corpus. The user searches the CORPUS in Blue Brain Search."
   ]
  },
  {
   "cell_type": "markdown",
   "metadata": {},
   "source": [
    "Search server URL"
   ]
  },
  {
   "cell_type": "code",
   "execution_count": 14,
   "metadata": {},
   "outputs": [
    {
     "name": "stdout",
     "output_type": "stream",
     "text": [
      "This server is using the database: cord19_v47\n"
     ]
    }
   ],
   "source": [
    "SEARCH_ENGINE_URL = os.getenv(\"SEARCH_ENGINE_URL\", \"http://dgx1.bbp.epfl.ch:8850\")\n",
    "assert SEARCH_ENGINE_URL is not None\n",
    "\n",
    "response = requests.post(\"{}/help\".format(SEARCH_ENGINE_URL))\n",
    "assert response.ok and response.json()['name'] == 'SearchServer', \"The server is not accessible\"\n",
    "print(f\"This server is using the database: {response.json()['database']}\")"
   ]
  },
  {
   "cell_type": "markdown",
   "metadata": {},
   "source": [
    "MySQL URL and engine"
   ]
  },
  {
   "cell_type": "code",
   "execution_count": 15,
   "metadata": {},
   "outputs": [],
   "source": [
    "MYSQL_DB_URI = os.getenv(\"MYSQL_DB_URI\", \"dgx1.bbp.epfl.ch:8853\")\n",
    "bbs_mysql_engine = sqlalchemy.create_engine(f'mysql+pymysql://guest:guest@{MYSQL_DB_URI}/cord19_v47')"
   ]
  },
  {
   "cell_type": "markdown",
   "metadata": {},
   "source": [
    "Article saver"
   ]
  },
  {
   "cell_type": "code",
   "execution_count": 16,
   "metadata": {},
   "outputs": [],
   "source": [
    "article_saver = ArticleSaver(connection=bbs_mysql_engine)"
   ]
  },
  {
   "cell_type": "markdown",
   "metadata": {},
   "source": [
    "Search widget"
   ]
  },
  {
   "cell_type": "code",
   "execution_count": 17,
   "metadata": {},
   "outputs": [
    {
     "data": {
      "text/html": [
       "<style> /* search engine */\n",
       "\n",
       ".article_title {\n",
       "    font-size: 17px;\n",
       "    color: #1A0DAB;\n",
       "}\n",
       ".paragraph {\n",
       "    font-size: 13px;\n",
       "    color: #222;\n",
       "}\n",
       ".paragraph_emph {\n",
       "    font-weight: bold;\n",
       "    color: #000;\n",
       "}\n",
       ".metadata {\n",
       "    font-size: 13px;\n",
       "    color: #006621;\n",
       "}\n",
       "\n",
       "\n",
       "/* widgets buttons */\n",
       "\n",
       ".bbs_button {\n",
       "    background-color: #3c96f3;\n",
       "    color: #FFF;\n",
       "    font-size: 150%;\n",
       "    transition-duration: 0.2s;\n",
       "}\n",
       ".bbs_button:hover {\n",
       "    background-color: #3176d2;\n",
       "}\n",
       "\n",
       ".jupyter-button:active, .jupyter-button.mod-active {\n",
       "    color: #FFF;\n",
       "    background-color: #3c96f3;\n",
       "}\n",
       ".jupyter-button:hover {\n",
       "    color: #FFF;\n",
       "    background-color: #3176d2;\n",
       "}\n",
       "\n",
       "/* attribute extraction */\n",
       "\n",
       ".number  {\n",
       "    display: inline-block;\n",
       "    background: lightgreen;\n",
       "    padding: 0.2em 0.5em;\n",
       "    border-radius: 7px;\n",
       "}\n",
       ".unit {\n",
       "    display: inline-block;\n",
       "    background: pink;\n",
       "    padding: 0.2em 0.5em;\n",
       "    border-radius: 7px;\n",
       "}\n",
       ".quantityType {\n",
       "    display: inline-block;\n",
       "    background: yellow;\n",
       "    font-variant:small-caps;\n",
       "    padding: 0.2em 0.5em;\n",
       "    border-radius: 7px;\n",
       "}\n",
       ".fixedWidth {\n",
       "    width: 4px;\n",
       "    text-align: justify;\n",
       "} </style>"
      ],
      "text/plain": [
       "<IPython.core.display.HTML object>"
      ]
     },
     "metadata": {},
     "output_type": "display_data"
    },
    {
     "data": {
      "application/vnd.jupyter.widget-view+json": {
       "model_id": "760859f7ffb44f1686ed22ceacffea6f",
       "version_major": 2,
       "version_minor": 0
      },
      "text/plain": [
       "SearchWidget(children=(Textarea(value='Glucose is a risk factor for COVID-19', description='Query', layout=Lay…"
      ]
     },
     "metadata": {},
     "output_type": "display_data"
    }
   ],
   "source": [
    "search_widget = SearchWidget(\n",
    "    bbs_search_url=SEARCH_ENGINE_URL,\n",
    "    bbs_mysql_engine=bbs_mysql_engine,\n",
    "    article_saver=article_saver,\n",
    "    results_per_page=3)\n",
    "search_widget"
   ]
  },
  {
   "cell_type": "markdown",
   "metadata": {},
   "source": [
    "Show saved articles and paragraphs"
   ]
  },
  {
   "cell_type": "code",
   "execution_count": 18,
   "metadata": {},
   "outputs": [
    {
     "data": {
      "text/html": [
       "<div>\n",
       "<style scoped>\n",
       "    .dataframe tbody tr th:only-of-type {\n",
       "        vertical-align: middle;\n",
       "    }\n",
       "\n",
       "    .dataframe tbody tr th {\n",
       "        vertical-align: top;\n",
       "    }\n",
       "\n",
       "    .dataframe thead th {\n",
       "        text-align: right;\n",
       "    }\n",
       "</style>\n",
       "<table border=\"1\" class=\"dataframe\">\n",
       "  <thead>\n",
       "    <tr style=\"text-align: right;\">\n",
       "      <th></th>\n",
       "      <th>Article ID</th>\n",
       "      <th>Paragraph #</th>\n",
       "      <th>Paragraph</th>\n",
       "      <th>Article</th>\n",
       "      <th>Title</th>\n",
       "    </tr>\n",
       "  </thead>\n",
       "  <tbody>\n",
       "    <tr>\n",
       "      <th>0</th>\n",
       "      <td>184360</td>\n",
       "      <td></td>\n",
       "      <td></td>\n",
       "      <td>✓</td>\n",
       "      <td>DPP4 and ACE2 in Diabetes and COVID-19: Therap...</td>\n",
       "    </tr>\n",
       "    <tr>\n",
       "      <th>1</th>\n",
       "      <td>147333</td>\n",
       "      <td></td>\n",
       "      <td></td>\n",
       "      <td>✓</td>\n",
       "      <td>Blood glucose levels and COVID-19. Reply to Sa...</td>\n",
       "    </tr>\n",
       "    <tr>\n",
       "      <th>2</th>\n",
       "      <td>214728</td>\n",
       "      <td></td>\n",
       "      <td></td>\n",
       "      <td>✓</td>\n",
       "      <td>Blood glucose levels and COVID-19. Reply to Sa...</td>\n",
       "    </tr>\n",
       "    <tr>\n",
       "      <th>3</th>\n",
       "      <td>214924</td>\n",
       "      <td></td>\n",
       "      <td></td>\n",
       "      <td>✓</td>\n",
       "      <td>COVID-19 and diabetes mellitus: how one pandem...</td>\n",
       "    </tr>\n",
       "    <tr>\n",
       "      <th>4</th>\n",
       "      <td>179426</td>\n",
       "      <td></td>\n",
       "      <td></td>\n",
       "      <td>✓</td>\n",
       "      <td>Diabetes in COVID-19: Prevalence, pathophysiol...</td>\n",
       "    </tr>\n",
       "    <tr>\n",
       "      <th>5</th>\n",
       "      <td>139943</td>\n",
       "      <td></td>\n",
       "      <td></td>\n",
       "      <td>✓</td>\n",
       "      <td>COVID-19 outbreak and pediatric diabetes: Perc...</td>\n",
       "    </tr>\n",
       "    <tr>\n",
       "      <th>6</th>\n",
       "      <td>78018</td>\n",
       "      <td></td>\n",
       "      <td></td>\n",
       "      <td>✓</td>\n",
       "      <td>Usefulness and safety of remote continuous glu...</td>\n",
       "    </tr>\n",
       "    <tr>\n",
       "      <th>7</th>\n",
       "      <td>102473</td>\n",
       "      <td></td>\n",
       "      <td></td>\n",
       "      <td>✓</td>\n",
       "      <td>In response: Diabetes is a risk factor for the...</td>\n",
       "    </tr>\n",
       "    <tr>\n",
       "      <th>8</th>\n",
       "      <td>211373</td>\n",
       "      <td></td>\n",
       "      <td></td>\n",
       "      <td>✓</td>\n",
       "      <td>SARS-CoV-2 and DPP4 inhibition: is it time to ...</td>\n",
       "    </tr>\n",
       "    <tr>\n",
       "      <th>9</th>\n",
       "      <td>35198</td>\n",
       "      <td></td>\n",
       "      <td></td>\n",
       "      <td>✓</td>\n",
       "      <td>Hyperglycemia at Hospital Admission Is Associa...</td>\n",
       "    </tr>\n",
       "    <tr>\n",
       "      <th>10</th>\n",
       "      <td>104188</td>\n",
       "      <td></td>\n",
       "      <td></td>\n",
       "      <td>✓</td>\n",
       "      <td>Hyperglycemia at Hospital Admission Is Associa...</td>\n",
       "    </tr>\n",
       "    <tr>\n",
       "      <th>11</th>\n",
       "      <td>114119</td>\n",
       "      <td></td>\n",
       "      <td></td>\n",
       "      <td>✓</td>\n",
       "      <td>Diabetes is a risk factor for the progression ...</td>\n",
       "    </tr>\n",
       "    <tr>\n",
       "      <th>12</th>\n",
       "      <td>160564</td>\n",
       "      <td></td>\n",
       "      <td></td>\n",
       "      <td>✓</td>\n",
       "      <td>Burden of diabetes mellitus and its impact on ...</td>\n",
       "    </tr>\n",
       "    <tr>\n",
       "      <th>13</th>\n",
       "      <td>99569</td>\n",
       "      <td></td>\n",
       "      <td></td>\n",
       "      <td>✓</td>\n",
       "      <td>Hyperglycemia is a strong predictor of poor pr...</td>\n",
       "    </tr>\n",
       "    <tr>\n",
       "      <th>14</th>\n",
       "      <td>211125</td>\n",
       "      <td></td>\n",
       "      <td></td>\n",
       "      <td>✓</td>\n",
       "      <td>Hyperglycemia is a strong predictor of poor pr...</td>\n",
       "    </tr>\n",
       "    <tr>\n",
       "      <th>15</th>\n",
       "      <td>172581</td>\n",
       "      <td></td>\n",
       "      <td></td>\n",
       "      <td>✓</td>\n",
       "      <td>In response: Diabetes is a risk factor for the...</td>\n",
       "    </tr>\n",
       "    <tr>\n",
       "      <th>16</th>\n",
       "      <td>197804</td>\n",
       "      <td></td>\n",
       "      <td></td>\n",
       "      <td>✓</td>\n",
       "      <td>COVID‐19 outbreak and pediatric diabetes: perc...</td>\n",
       "    </tr>\n",
       "    <tr>\n",
       "      <th>17</th>\n",
       "      <td>211373</td>\n",
       "      <td></td>\n",
       "      <td></td>\n",
       "      <td>✓</td>\n",
       "      <td>SARS-CoV-2 and DPP4 inhibition: is it time to ...</td>\n",
       "    </tr>\n",
       "    <tr>\n",
       "      <th>18</th>\n",
       "      <td>151932</td>\n",
       "      <td></td>\n",
       "      <td></td>\n",
       "      <td>✓</td>\n",
       "      <td>SARS-CoV-2 and DPP4 inhibition: Is it time to ...</td>\n",
       "    </tr>\n",
       "    <tr>\n",
       "      <th>19</th>\n",
       "      <td>78884</td>\n",
       "      <td></td>\n",
       "      <td></td>\n",
       "      <td>✓</td>\n",
       "      <td>Diabetes as a Risk Factor for Poor Early Outco...</td>\n",
       "    </tr>\n",
       "    <tr>\n",
       "      <th>20</th>\n",
       "      <td>129074</td>\n",
       "      <td></td>\n",
       "      <td></td>\n",
       "      <td>✓</td>\n",
       "      <td>Diabetes and COVID-19: A systematic review on ...</td>\n",
       "    </tr>\n",
       "  </tbody>\n",
       "</table>\n",
       "</div>"
      ],
      "text/plain": [
       "    Article ID Paragraph # Paragraph Article  \\\n",
       "0       184360                             ✓   \n",
       "1       147333                             ✓   \n",
       "2       214728                             ✓   \n",
       "3       214924                             ✓   \n",
       "4       179426                             ✓   \n",
       "5       139943                             ✓   \n",
       "6        78018                             ✓   \n",
       "7       102473                             ✓   \n",
       "8       211373                             ✓   \n",
       "9        35198                             ✓   \n",
       "10      104188                             ✓   \n",
       "11      114119                             ✓   \n",
       "12      160564                             ✓   \n",
       "13       99569                             ✓   \n",
       "14      211125                             ✓   \n",
       "15      172581                             ✓   \n",
       "16      197804                             ✓   \n",
       "17      211373                             ✓   \n",
       "18      151932                             ✓   \n",
       "19       78884                             ✓   \n",
       "20      129074                             ✓   \n",
       "\n",
       "                                                Title  \n",
       "0   DPP4 and ACE2 in Diabetes and COVID-19: Therap...  \n",
       "1   Blood glucose levels and COVID-19. Reply to Sa...  \n",
       "2   Blood glucose levels and COVID-19. Reply to Sa...  \n",
       "3   COVID-19 and diabetes mellitus: how one pandem...  \n",
       "4   Diabetes in COVID-19: Prevalence, pathophysiol...  \n",
       "5   COVID-19 outbreak and pediatric diabetes: Perc...  \n",
       "6   Usefulness and safety of remote continuous glu...  \n",
       "7   In response: Diabetes is a risk factor for the...  \n",
       "8   SARS-CoV-2 and DPP4 inhibition: is it time to ...  \n",
       "9   Hyperglycemia at Hospital Admission Is Associa...  \n",
       "10  Hyperglycemia at Hospital Admission Is Associa...  \n",
       "11  Diabetes is a risk factor for the progression ...  \n",
       "12  Burden of diabetes mellitus and its impact on ...  \n",
       "13  Hyperglycemia is a strong predictor of poor pr...  \n",
       "14  Hyperglycemia is a strong predictor of poor pr...  \n",
       "15  In response: Diabetes is a risk factor for the...  \n",
       "16  COVID‐19 outbreak and pediatric diabetes: perc...  \n",
       "17  SARS-CoV-2 and DPP4 inhibition: is it time to ...  \n",
       "18  SARS-CoV-2 and DPP4 inhibition: Is it time to ...  \n",
       "19  Diabetes as a Risk Factor for Poor Early Outco...  \n",
       "20  Diabetes and COVID-19: A systematic review on ...  "
      ]
     },
     "execution_count": 18,
     "metadata": {},
     "output_type": "execute_result"
    }
   ],
   "source": [
    "df_results = search_widget.saved_results()\n",
    "df_results"
   ]
  },
  {
   "cell_type": "code",
   "execution_count": 19,
   "metadata": {},
   "outputs": [
    {
     "name": "stdout",
     "output_type": "stream",
     "text": [
      "For information: \n",
      " \n",
      "      - The query showed 20 different articles.\n",
      "      - Saved 0 paragraph(s)\n",
      "      - Saved 20 article(s)\n"
     ]
    }
   ],
   "source": [
    "print(f\"\"\"For information: \\n \n",
    "      - The query showed {len(df_results['Article ID'].unique())} different articles.\n",
    "      - Saved {len(df_results[(df_results['Paragraph']=='✓') & (df_results['Article'] != '✓')])} paragraph(s)\n",
    "      - Saved {len(df_results[df_results['Article']=='✓']['Article ID'].unique())} article(s)\"\"\")"
   ]
  },
  {
   "cell_type": "markdown",
   "metadata": {},
   "source": [
    "# Set schemas\n",
    "The user defines the KG schema."
   ]
  },
  {
   "cell_type": "code",
   "execution_count": 20,
   "metadata": {},
   "outputs": [
    {
     "data": {
      "text/html": [
       "<div>\n",
       "<style scoped>\n",
       "    .dataframe tbody tr th:only-of-type {\n",
       "        vertical-align: middle;\n",
       "    }\n",
       "\n",
       "    .dataframe tbody tr th {\n",
       "        vertical-align: top;\n",
       "    }\n",
       "\n",
       "    .dataframe thead th {\n",
       "        text-align: right;\n",
       "    }\n",
       "</style>\n",
       "<table border=\"1\" class=\"dataframe\">\n",
       "  <thead>\n",
       "    <tr style=\"text-align: right;\">\n",
       "      <th></th>\n",
       "      <th>entity_type</th>\n",
       "      <th>property</th>\n",
       "      <th>property_type</th>\n",
       "      <th>property_value_type</th>\n",
       "      <th>ontology_source</th>\n",
       "    </tr>\n",
       "  </thead>\n",
       "  <tbody>\n",
       "    <tr>\n",
       "      <th>0</th>\n",
       "      <td>CELL_COMPARTMENT</td>\n",
       "      <td>None</td>\n",
       "      <td>None</td>\n",
       "      <td>None</td>\n",
       "      <td>None</td>\n",
       "    </tr>\n",
       "    <tr>\n",
       "      <th>1</th>\n",
       "      <td>CELL_TYPE</td>\n",
       "      <td>None</td>\n",
       "      <td>None</td>\n",
       "      <td>None</td>\n",
       "      <td>None</td>\n",
       "    </tr>\n",
       "    <tr>\n",
       "      <th>2</th>\n",
       "      <td>CHEMICAL</td>\n",
       "      <td>None</td>\n",
       "      <td>None</td>\n",
       "      <td>None</td>\n",
       "      <td>NCIT</td>\n",
       "    </tr>\n",
       "    <tr>\n",
       "      <th>3</th>\n",
       "      <td>CONDITION</td>\n",
       "      <td>None</td>\n",
       "      <td>None</td>\n",
       "      <td>None</td>\n",
       "      <td>None</td>\n",
       "    </tr>\n",
       "    <tr>\n",
       "      <th>4</th>\n",
       "      <td>DISEASE</td>\n",
       "      <td>None</td>\n",
       "      <td>None</td>\n",
       "      <td>None</td>\n",
       "      <td>NCIT</td>\n",
       "    </tr>\n",
       "    <tr>\n",
       "      <th>5</th>\n",
       "      <td>DRUG</td>\n",
       "      <td>None</td>\n",
       "      <td>None</td>\n",
       "      <td>None</td>\n",
       "      <td>None</td>\n",
       "    </tr>\n",
       "    <tr>\n",
       "      <th>6</th>\n",
       "      <td>ORGAN</td>\n",
       "      <td>None</td>\n",
       "      <td>None</td>\n",
       "      <td>None</td>\n",
       "      <td>NCIT</td>\n",
       "    </tr>\n",
       "    <tr>\n",
       "      <th>7</th>\n",
       "      <td>ORGANISM</td>\n",
       "      <td>None</td>\n",
       "      <td>None</td>\n",
       "      <td>None</td>\n",
       "      <td>NCIT</td>\n",
       "    </tr>\n",
       "    <tr>\n",
       "      <th>8</th>\n",
       "      <td>PATHWAY</td>\n",
       "      <td>None</td>\n",
       "      <td>None</td>\n",
       "      <td>None</td>\n",
       "      <td>Reactome</td>\n",
       "    </tr>\n",
       "    <tr>\n",
       "      <th>9</th>\n",
       "      <td>PROTEIN</td>\n",
       "      <td>None</td>\n",
       "      <td>None</td>\n",
       "      <td>None</td>\n",
       "      <td>NCIT</td>\n",
       "    </tr>\n",
       "  </tbody>\n",
       "</table>\n",
       "</div>"
      ],
      "text/plain": [
       "        entity_type property property_type property_value_type ontology_source\n",
       "0  CELL_COMPARTMENT     None          None                None            None\n",
       "1         CELL_TYPE     None          None                None            None\n",
       "2          CHEMICAL     None          None                None            NCIT\n",
       "3         CONDITION     None          None                None            None\n",
       "4           DISEASE     None          None                None            NCIT\n",
       "5              DRUG     None          None                None            None\n",
       "6             ORGAN     None          None                None            NCIT\n",
       "7          ORGANISM     None          None                None            NCIT\n",
       "8           PATHWAY     None          None                None        Reactome\n",
       "9           PROTEIN     None          None                None            NCIT"
      ]
     },
     "execution_count": 20,
     "metadata": {},
     "output_type": "execute_result"
    }
   ],
   "source": [
    "mining_schema = MiningSchema()\n",
    "\n",
    "mining_schema.add_entity(\"CELL_COMPARTMENT\")\n",
    "mining_schema.add_entity(\"CELL_TYPE\")\n",
    "mining_schema.add_entity(\"CHEMICAL\", ontology_source=\"NCIT\")\n",
    "mining_schema.add_entity(\"CONDITION\")\n",
    "mining_schema.add_entity(\"DISEASE\", ontology_source=\"NCIT\")\n",
    "mining_schema.add_entity(\"DRUG\")\n",
    "mining_schema.add_entity(\"ORGAN\", ontology_source=\"NCIT\")\n",
    "mining_schema.add_entity(\"ORGANISM\", ontology_source=\"NCIT\")\n",
    "mining_schema.add_entity(\"PATHWAY\", ontology_source=\"Reactome\")\n",
    "mining_schema.add_entity(\"PROTEIN\", ontology_source=\"NCIT\")\n",
    "\n",
    "mining_schema.df"
   ]
  },
  {
   "cell_type": "markdown",
   "metadata": {},
   "source": [
    "# Create a knowledge graph according to schemas\n",
    "The user extracts data from the text of a set of papers using selected Named Entity Recognizers and Relation Extractors from Blue Brain Search.\n",
    "The user can preview the extracted data.\n",
    "The user curates extracted data.\n",
    "The user links the extracted entities and relations to ontologies.\n",
    "The user saves data into Knowledge Graph."
   ]
  },
  {
   "cell_type": "markdown",
   "metadata": {},
   "source": [
    "- **input**: raw text\n",
    "- **output**: csv table of extracted entities/relations"
   ]
  },
  {
   "cell_type": "code",
   "execution_count": 21,
   "metadata": {},
   "outputs": [
    {
     "name": "stdout",
     "output_type": "stream",
     "text": [
      "This server is using the database: cord19_v47\n"
     ]
    }
   ],
   "source": [
    "TEXT_MINING_URL = os.getenv(\"TEXT_MINING_URL\", \"http://dgx1.bbp.epfl.ch:8852\")\n",
    "response = requests.post(TEXT_MINING_URL + \"/help\")\n",
    "assert response.ok and response.json()['name'] == 'MiningServer'\n",
    "print(f\"This server is using the database: {response.json()['database']}\")"
   ]
  },
  {
   "cell_type": "code",
   "execution_count": 22,
   "metadata": {},
   "outputs": [
    {
     "data": {
      "text/html": [
       "<style> /* search engine */\n",
       "\n",
       ".article_title {\n",
       "    font-size: 17px;\n",
       "    color: #1A0DAB;\n",
       "}\n",
       ".paragraph {\n",
       "    font-size: 13px;\n",
       "    color: #222;\n",
       "}\n",
       ".paragraph_emph {\n",
       "    font-weight: bold;\n",
       "    color: #000;\n",
       "}\n",
       ".metadata {\n",
       "    font-size: 13px;\n",
       "    color: #006621;\n",
       "}\n",
       "\n",
       "\n",
       "/* widgets buttons */\n",
       "\n",
       ".bbs_button {\n",
       "    background-color: #3c96f3;\n",
       "    color: #FFF;\n",
       "    font-size: 150%;\n",
       "    transition-duration: 0.2s;\n",
       "}\n",
       ".bbs_button:hover {\n",
       "    background-color: #3176d2;\n",
       "}\n",
       "\n",
       ".jupyter-button:active, .jupyter-button.mod-active {\n",
       "    color: #FFF;\n",
       "    background-color: #3c96f3;\n",
       "}\n",
       ".jupyter-button:hover {\n",
       "    color: #FFF;\n",
       "    background-color: #3176d2;\n",
       "}\n",
       "\n",
       "/* attribute extraction */\n",
       "\n",
       ".number  {\n",
       "    display: inline-block;\n",
       "    background: lightgreen;\n",
       "    padding: 0.2em 0.5em;\n",
       "    border-radius: 7px;\n",
       "}\n",
       ".unit {\n",
       "    display: inline-block;\n",
       "    background: pink;\n",
       "    padding: 0.2em 0.5em;\n",
       "    border-radius: 7px;\n",
       "}\n",
       ".quantityType {\n",
       "    display: inline-block;\n",
       "    background: yellow;\n",
       "    font-variant:small-caps;\n",
       "    padding: 0.2em 0.5em;\n",
       "    border-radius: 7px;\n",
       "}\n",
       ".fixedWidth {\n",
       "    width: 4px;\n",
       "    text-align: justify;\n",
       "} </style>"
      ],
      "text/plain": [
       "<IPython.core.display.HTML object>"
      ]
     },
     "metadata": {},
     "output_type": "display_data"
    },
    {
     "data": {
      "application/vnd.jupyter.widget-view+json": {
       "model_id": "777bc4956d4645e4bfc667498a215da2",
       "version_major": 2,
       "version_minor": 0
      },
      "text/plain": [
       "MiningWidget(children=(Tab(children=(VBox(children=(Button(description='⚒️  Mine Selected Articles!', layout=L…"
      ]
     },
     "metadata": {},
     "output_type": "display_data"
    }
   ],
   "source": [
    "mining_widget = MiningWidget(\n",
    "    mining_server_url=TEXT_MINING_URL,\n",
    "    mining_schema=mining_schema,\n",
    "    article_saver=article_saver,\n",
    ")\n",
    "mining_widget"
   ]
  },
  {
   "cell_type": "code",
   "execution_count": 23,
   "metadata": {},
   "outputs": [],
   "source": [
    "# Get DataFrame of extractions\n",
    "table_extractions = mining_widget.get_extracted_table()\n",
    "\n",
    "# Drop duplicates in DataFrame\n",
    "columns_duplicates = table_extractions.columns.tolist()\n",
    "try:\n",
    "    columns_duplicates.remove('entity_type')\n",
    "    table_extractions = table_extractions.drop_duplicates(subset=columns_duplicates, keep='first', ignore_index=True)\n",
    "    table_extractions = table_extractions.dropna(subset=[\"entity\"])\n",
    "except ValueError:\n",
    "    raise ValueError(\n",
    "        \"Could not find the extraction table, make sure you have launched the mining procedure in the widget above\"\n",
    "    )"
   ]
  },
  {
   "cell_type": "markdown",
   "metadata": {},
   "source": [
    "## Curate the table with extracted entities"
   ]
  },
  {
   "cell_type": "markdown",
   "metadata": {},
   "source": [
    "- **input**: csv table of extracted entities/relations\n",
    "- **output**: csv table with curated and ontology linked entities/relations"
   ]
  },
  {
   "cell_type": "code",
   "execution_count": 24,
   "metadata": {},
   "outputs": [
    {
     "name": "stdout",
     "output_type": "stream",
     "text": [
      "The table has 3526 rows.\n"
     ]
    }
   ],
   "source": [
    "print(f'The table has {table_extractions.shape[0]} rows.')"
   ]
  },
  {
   "cell_type": "code",
   "execution_count": 25,
   "metadata": {},
   "outputs": [
    {
     "name": "stdout",
     "output_type": "stream",
     "text": [
      "Setting default term filters: the user can remove them later on in the UI if need be ...\n",
      "Done.\n",
      "Prepating curatation data...\n",
      "Cleaning up the entities...\n",
      "Aggregating occurrences of entities....\n",
      "Done.\n",
      "Loading default ontology type mapping...\n",
      "Done.\n",
      "CPU times: user 364 ms, sys: 11.1 ms, total: 375 ms\n",
      "Wall time: 358 ms\n"
     ]
    }
   ],
   "source": [
    "%%time\n",
    "\n",
    "print(\"Setting default term filters: the user can remove them later on in the UI if need be ...\")\n",
    "default_term_filters = 'Glucose; Covid-19; SARS-CoV-2; Diabetes; IL-1; ACE2; glycosylation; hyperglycemia; shock; fatigue; CVD; vasoconstriction; lactate; insulin; SP-D; HbA1c; LDH; glycolysis; GLUT; macrophage; lymphocytes; ventilation;SARS; ARDS; Cytokine Storm; pneumonia; multi-organs failure; thrombosis; inflammation; IL-6; CRP; D-Dimer; Ferritin; Lung Disease; Hypertension; Aging; COPD; angiotensin 2 (or angiotensin II or AngII); Obesity; ICU (intensive care unit); ventilation; ketogenic diet'.split(\"; \")\n",
    "filtered_table_extractions = table_extractions.copy()\n",
    "\n",
    "default_found_term_filters = set() \n",
    "for term_filter in default_term_filters:\n",
    "    entities_to_keep = filtered_table_extractions[\n",
    "        filtered_table_extractions[\"entity\"].apply(lambda x: x.lower() == term_filter.lower())][\"entity\"].unique()\n",
    "    if entities_to_keep is not None and len(entities_to_keep) > 0:\n",
    "        default_found_term_filters.add(tuple(entities_to_keep))\n",
    "term_filter_options = [term_filter[0] for term_filter in default_found_term_filters]\n",
    "print(\"Done.\")\n",
    "\n",
    "print(\"Prepating curatation data...\")\n",
    "curation_input_table, factor_counts = generate_curation_table(filtered_table_extractions)\n",
    "print(\"Done.\")\n",
    "\n",
    "print(\"Loading default ontology type mapping...\")\n",
    "with open('/gpfs/bbp.cscs.ch/project/proj116/bbg/ontology-linking/ncit_to_mltypes_mapping.json', \"rb\") as f:\n",
    "    default_type_mapping = json.load(f)\n",
    "\n",
    "print(\"Done.\")"
   ]
  },
  {
   "cell_type": "markdown",
   "metadata": {},
   "source": [
    "Run the curation app. In case of the error 'Address already in use', try specifying another port (for example, in the range 8072-8099)"
   ]
  },
  {
   "cell_type": "code",
   "execution_count": 26,
   "metadata": {},
   "outputs": [
    {
     "name": "stdout",
     "output_type": "stream",
     "text": [
      "Merging the occurrence data with the ontology linking...\n"
     ]
    }
   ],
   "source": [
    "curation_app.set_default_terms_to_include(term_filter_options)\n",
    "curation_app.set_table(curation_input_table.copy())\n",
    "curation_app.set_ontology_linking_callback(lambda x: link_ontology(linking, default_type_mapping, x))\n",
    "\n",
    "curation_app.run(port=8070)"
   ]
  },
  {
   "cell_type": "code",
   "execution_count": 27,
   "metadata": {},
   "outputs": [],
   "source": [
    "curated_table_extractions = curation_app.get_curated_table()\n",
    "curation_meta_data = {\n",
    "    \"factor_counts\": factor_counts,\n",
    "    \"nodes_to_keep\": curation_app.get_terms_to_include(),\n",
    "    \"n_most_frequent\": curation_app.n_most_frequent if curation_app.n_most_frequent else 100\n",
    "}\n"
   ]
  },
  {
   "cell_type": "code",
   "execution_count": 28,
   "metadata": {},
   "outputs": [],
   "source": [
    "curated_table_extractions[\"paper\"] = curated_table_extractions[\"paper\"].apply(lambda x: set(x))\n",
    "curated_table_extractions[\"paragraph\"] = curated_table_extractions[\"paragraph\"].apply(lambda x: set(x))\n",
    "curated_table_extractions[\"section\"] = curated_table_extractions[\"section\"].apply(lambda x: set(x))"
   ]
  },
  {
   "cell_type": "markdown",
   "metadata": {},
   "source": [
    "## Create a co-mention graph from curated entities"
   ]
  },
  {
   "cell_type": "markdown",
   "metadata": {},
   "source": [
    "- **input**: csv table with curated and ontology linked entities/relations\n",
    "- **output**: graph objects with co-occurrence network and its spanning tree"
   ]
  },
  {
   "cell_type": "code",
   "execution_count": 29,
   "metadata": {},
   "outputs": [
    {
     "name": "stdout",
     "output_type": "stream",
     "text": [
      "-------------------------------\n",
      "Factor: paper\n",
      "-------------------------------\n",
      "Fitering data.....\n",
      "Selected 223 most frequent terms\n",
      "Examining 24753 pairs of terms for co-occurrence...\n",
      "Generated 16789 edges                    \n",
      "Created a co-occurrence graph:\n",
      "\tnumber of nodes:  223\n",
      "\tnumber of edges:  16789\n",
      "Saving the edges...\n",
      "Creating a graph object...\n",
      "\n",
      "Computing degree centrality statistics....\n",
      "Top n nodes by frequency:\n",
      "\tcovid-19 (603)\n",
      "\tdiabetes mellitus (600)\n",
      "\tcoronavirus (590)\n",
      "\tglucose (526)\n",
      "\tglyburide (521)\n",
      "\tsars coronavirus (511)\n",
      "\tangiotensin-converting enzyme 2 (502)\n",
      "\tvirus (502)\n",
      "\tsars-cov-2 (496)\n",
      "\tpneumonia (493)\n",
      "\n",
      "Computing PageRank centrality statistics....\n",
      "Top n nodes by frequency:\n",
      "\tcovid-19 (0.01)\n",
      "\tdiabetes mellitus (0.01)\n",
      "\tcoronavirus (0.01)\n",
      "\tglucose (0.01)\n",
      "\tglyburide (0.01)\n",
      "\tsars coronavirus (0.01)\n",
      "\tvirus (0.01)\n",
      "\tangiotensin-converting enzyme 2 (0.01)\n",
      "\tsars-cov-2 (0.01)\n",
      "\tpneumonia (0.01)\n",
      "\n",
      "Computing betweenness centrality statistics....\n",
      "Detecting communities...\n",
      "Best network partition:\n",
      "\t Number of communities: 3\n",
      "\t Modularity: 0.12529290950539357\n",
      "Detecting communities...\n",
      "Best network partition:\n",
      "\t Number of communities: 5\n",
      "\t Modularity: 0.18123949953798485\n",
      "Computing the minimum spanning tree...\n",
      "-------------------------------\n",
      "Factor: paragraph\n",
      "-------------------------------\n",
      "Fitering data.....\n",
      "Selected 223 most frequent terms\n",
      "Examining 24753 pairs of terms for co-occurrence...\n",
      "Generated 4065 edges                    \n",
      "Created a co-occurrence graph:\n",
      "\tnumber of nodes:  223\n",
      "\tnumber of edges:  4065\n",
      "Saving the edges...\n",
      "Creating a graph object...\n",
      "\n",
      "Computing degree centrality statistics....\n",
      "Top n nodes by frequency:\n",
      "\tcovid-19 (1071)\n",
      "\tdiabetes mellitus (852)\n",
      "\tsars-cov-2 (521)\n",
      "\tangiotensin-converting enzyme 2 (393)\n",
      "\tdipeptidyl peptidase 4 (336)\n",
      "\tglucose (313)\n",
      "\tlung (312)\n",
      "\tviral (265)\n",
      "\tcoronavirus (262)\n",
      "\tinterleukin-6 (261)\n",
      "\n",
      "Computing PageRank centrality statistics....\n",
      "Top n nodes by frequency:\n",
      "\tcovid-19 (0.06)\n",
      "\tdiabetes mellitus (0.05)\n",
      "\tsars-cov-2 (0.03)\n",
      "\tangiotensin-converting enzyme 2 (0.02)\n",
      "\tdipeptidyl peptidase 4 (0.02)\n",
      "\tglucose (0.02)\n",
      "\tlung (0.02)\n",
      "\tviral (0.01)\n",
      "\tcoronavirus (0.01)\n",
      "\tinterleukin-6 (0.01)\n",
      "\n",
      "Computing betweenness centrality statistics....\n",
      "Detecting communities...\n",
      "Best network partition:\n",
      "\t Number of communities: 6\n",
      "\t Modularity: 0.22045496583334692\n",
      "Detecting communities...\n",
      "Best network partition:\n",
      "\t Number of communities: 6\n",
      "\t Modularity: 0.3526188969984142\n",
      "Computing the minimum spanning tree...\n",
      "Done.\n"
     ]
    }
   ],
   "source": [
    "type_data = curated_table_extractions[[\"entity_type\"]].rename(columns={\"entity_type\": \"type\"})\n",
    "graphs, trees = generate_comention_analysis(\n",
    "    curated_table_extractions,  curation_meta_data[\"factor_counts\"],\n",
    "    n_most_frequent=curation_meta_data[\"n_most_frequent\"], type_data=type_data, \n",
    "    factors=[\"paper\", \"paragraph\"], keep=curation_meta_data[\"factor_counts\"], cores=10)\n",
    "print(\"Done.\")"
   ]
  },
  {
   "cell_type": "code",
   "execution_count": 30,
   "metadata": {},
   "outputs": [],
   "source": [
    "loaded_graphs = None\n",
    "GRAPH_OBJECTS = {\n",
    "    \"Topic-centered network (paper-based)\": {\n",
    "        \"graph\": graphs[\"paper\"],\n",
    "        \"tree\": trees[\"paper\"],\n",
    "        \"default_top_n\": 100\n",
    "    },\n",
    "    \"Topic-centered network (paragraph-based)\": {\n",
    "        \"graph\": graphs[\"paragraph\"],\n",
    "        \"tree\": trees[\"paragraph\"],\n",
    "        \"default_top_n\": 100\n",
    "    },\n",
    "}   "
   ]
  },
  {
   "cell_type": "markdown",
   "metadata": {},
   "source": [
    "## Visualize the co-mention graph"
   ]
  },
  {
   "cell_type": "code",
   "execution_count": null,
   "metadata": {},
   "outputs": [],
   "source": [
    "paper_graph = None\n",
    "paragraph_graph = None"
   ]
  },
  {
   "cell_type": "code",
   "execution_count": 32,
   "metadata": {},
   "outputs": [
    {
     "name": "stdout",
     "output_type": "stream",
     "text": [
      "Loading pre-generated graphs with 3'000 entities...\n",
      "\t - paper-based network\n"
     ]
    },
    {
     "ename": "KeyboardInterrupt",
     "evalue": "",
     "output_type": "error",
     "traceback": [
      "\u001b[0;31m---------------------------------------------------------------------------\u001b[0m",
      "\u001b[0;31mKeyboardInterrupt\u001b[0m                         Traceback (most recent call last)",
      "\u001b[0;32m<timed exec>\u001b[0m in \u001b[0;36m<module>\u001b[0;34m\u001b[0m\n",
      "\u001b[0;32m/gpfs/bbp.cscs.ch/ssd/apps/tools/jupyter/venvs/bbs_bbg/lib/python3.7/site-packages/kganalytics/export.py\u001b[0m in \u001b[0;36mload_network\u001b[0;34m(edge_path, node_path, edge_attr)\u001b[0m\n\u001b[1;32m     90\u001b[0m \u001b[0;34m\u001b[0m\u001b[0m\n\u001b[1;32m     91\u001b[0m     \u001b[0;32mwith\u001b[0m \u001b[0mopen\u001b[0m\u001b[0;34m(\u001b[0m\u001b[0mnode_path\u001b[0m\u001b[0;34m,\u001b[0m \u001b[0;34m\"rb\"\u001b[0m\u001b[0;34m)\u001b[0m \u001b[0;32mas\u001b[0m \u001b[0mf\u001b[0m\u001b[0;34m:\u001b[0m\u001b[0;34m\u001b[0m\u001b[0;34m\u001b[0m\u001b[0m\n\u001b[0;32m---> 92\u001b[0;31m         \u001b[0mnode_list\u001b[0m \u001b[0;34m=\u001b[0m \u001b[0mpickle\u001b[0m\u001b[0;34m.\u001b[0m\u001b[0mload\u001b[0m\u001b[0;34m(\u001b[0m\u001b[0mf\u001b[0m\u001b[0;34m)\u001b[0m\u001b[0;34m\u001b[0m\u001b[0;34m\u001b[0m\u001b[0m\n\u001b[0m\u001b[1;32m     93\u001b[0m     \u001b[0mnx\u001b[0m\u001b[0;34m.\u001b[0m\u001b[0mset_node_attributes\u001b[0m\u001b[0;34m(\u001b[0m\u001b[0mnetwork\u001b[0m\u001b[0;34m,\u001b[0m \u001b[0mnode_list\u001b[0m\u001b[0;34m.\u001b[0m\u001b[0mto_dict\u001b[0m\u001b[0;34m(\u001b[0m\u001b[0;34m\"index\"\u001b[0m\u001b[0;34m)\u001b[0m\u001b[0;34m)\u001b[0m\u001b[0;34m\u001b[0m\u001b[0;34m\u001b[0m\u001b[0m\n\u001b[1;32m     94\u001b[0m     \u001b[0;32mreturn\u001b[0m \u001b[0mnetwork\u001b[0m\u001b[0;34m\u001b[0m\u001b[0;34m\u001b[0m\u001b[0m\n",
      "\u001b[0;32m/gpfs/bbp.cscs.ch/ssd/apps/tools/jupyter/venvs/bbs_bbg/lib/python3.7/site-packages/pandas/core/indexes/base.py\u001b[0m in \u001b[0;36m_new_Index\u001b[0;34m(cls, d)\u001b[0m\n\u001b[1;32m    168\u001b[0m \u001b[0;34m\u001b[0m\u001b[0m\n\u001b[1;32m    169\u001b[0m \u001b[0;34m\u001b[0m\u001b[0m\n\u001b[0;32m--> 170\u001b[0;31m \u001b[0;32mdef\u001b[0m \u001b[0m_new_Index\u001b[0m\u001b[0;34m(\u001b[0m\u001b[0mcls\u001b[0m\u001b[0;34m,\u001b[0m \u001b[0md\u001b[0m\u001b[0;34m)\u001b[0m\u001b[0;34m:\u001b[0m\u001b[0;34m\u001b[0m\u001b[0;34m\u001b[0m\u001b[0m\n\u001b[0m\u001b[1;32m    171\u001b[0m     \"\"\"\n\u001b[1;32m    172\u001b[0m     \u001b[0mThis\u001b[0m \u001b[0;32mis\u001b[0m \u001b[0mcalled\u001b[0m \u001b[0mupon\u001b[0m \u001b[0munpickling\u001b[0m\u001b[0;34m,\u001b[0m \u001b[0mrather\u001b[0m \u001b[0mthan\u001b[0m \u001b[0mthe\u001b[0m \u001b[0mdefault\u001b[0m \u001b[0mwhich\u001b[0m \u001b[0mdoesn\u001b[0m\u001b[0;31m'\u001b[0m\u001b[0mt\u001b[0m\u001b[0;34m\u001b[0m\u001b[0;34m\u001b[0m\u001b[0m\n",
      "\u001b[0;31mKeyboardInterrupt\u001b[0m: "
     ]
    }
   ],
   "source": [
    "%%time\n",
    "\n",
    "prefix = \"/gpfs/bbp.cscs.ch/project/proj116/network_analytics/data/graphs/cord_47/full_3000\"\n",
    "\n",
    "print(\"Loading pre-generated graphs with 3'000 entities...\")\n",
    "print(\"\\t - paper-based network\")\n",
    "paper_graph = load_network(\"{}_paper_edge_list.pkl\".format(prefix), \"{}_paper_node_list.pkl\".format(prefix))\n",
    "paper_spanning_tree = load_network(\"{}_paper_tree_edge_list.pkl\".format(prefix), \"{}_paper_tree_node_list.pkl\".format(prefix))\n",
    "nx.set_node_attributes(\n",
    "    paper_spanning_tree, {\n",
    "        n: len(paper_spanning_tree.nodes[n][\"paper\"])\n",
    "        for n in paper_spanning_tree.nodes()\n",
    "    },\n",
    "    \"paper_frequency\")\n",
    "\n",
    "print(\"\\t - paragraph-based network\")\n",
    "paragraph_graph = load_network(\"{}_paragraph_edge_list.pkl\".format(prefix), \"{}_paragraph_node_list.pkl\".format(prefix))\n",
    "paragraph_spanning_tree = load_network(\"{}_paragraph_tree_edge_list.pkl\".format(prefix), \"{}_paragraph_node_list.pkl\".format(prefix))\n",
    "nx.set_node_attributes(\n",
    "    paragraph_spanning_tree, {\n",
    "        n: len(paragraph_spanning_tree.nodes[n][\"paper\"])\n",
    "        for n in paragraph_spanning_tree.nodes()\n",
    "    },\n",
    "    \"paper_frequency\")\n",
    "print(\"Done.\")\n",
    "\n",
    "print(\"Loading pre-computed node positions...\")\n",
    "with open(\"/gpfs/bbp.cscs.ch/project/proj116/network_analytics/data/positions/paper_3000.json\", \"r\") as f:\n",
    "    paper_positions = json.load(f)\n",
    "\n",
    "with open(\"/gpfs/bbp.cscs.ch/project/proj116/network_analytics/data/positions/paragraph_3000.json\", \"r\") as f:\n",
    "    paragraph_positions = json.load(f)\n",
    "print(\"Done.\")\n",
    "\n",
    "\n",
    "print(\"Building a cytoscape representation of loaded graphs...\")\n",
    "paper_3000_cyto = build_cytoscape_data(paper_spanning_tree, positions=paper_positions)\n",
    "paragraph_3000_cyto = build_cytoscape_data(paragraph_spanning_tree, positions=paragraph_positions)\n",
    "print(\"Done.\")"
   ]
  },
  {
   "cell_type": "code",
   "execution_count": 34,
   "metadata": {},
   "outputs": [],
   "source": [
    "if loaded_graphs is not None:\n",
    "    for g, data in loaded_graphs.items():\n",
    "        GRAPH_OBJECTS[g] = {\n",
    "            \"graph\": data[\"graph\"],\n",
    "            \"tree\": data[\"tree\"] if \"tree\" in data else None,\n",
    "            \"default_top_n\": 100\n",
    "        }\n",
    "\n",
    "# Add precomputed graphs\n",
    "if paper_graph and paragraph_graph:\n",
    "    GRAPH_OBJECTS.update({\n",
    "        \"Naive pre-computed network (paper-based, 3000)\": {\n",
    "            \"graph\": paper_graph,\n",
    "            \"tree\": paper_spanning_tree,\n",
    "            \"positions\": paper_positions\n",
    "        },\n",
    "        \"Naive pre-computed network (paragraph-based, 3000)\": {\n",
    "            \"graph\": paragraph_graph,\n",
    "            \"tree\": paragraph_spanning_tree,\n",
    "            \"positions\": paragraph_positions,\n",
    "        }\n",
    "    })\n",
    "    \n",
    "for k, v in GRAPH_OBJECTS.items():\n",
    "    tree = v[\"tree\"] if \"tree\" in v else None\n",
    "    positions = v[\"positions\"] if \"positions\" in v else None  \n",
    "    default_top_n = v[\"default_top_n\"] if \"default_top_n\" in v else None\n",
    "    full_graph_view = v[\"full_graph_view\"] if \"full_graph_view\" in v else False\n",
    "    visualization_app.set_graph(\n",
    "        k, v[\"graph\"], tree_object=tree, positions=positions,\n",
    "        default_top_n=default_top_n, full_graph_view=full_graph_view)\n",
    "\n",
    "if visualization_configs is None:\n",
    "    visualization_app.set_current_graph(\"Topic-centered network (paper-based)\")\n",
    "    \n",
    "visualization_app.set_list_papers_callback(lambda x: list_papers(bbs_mysql_engine, x))\n",
    "definitions = linking[[\"concept\", \"definition\"]].groupby(\"concept\").aggregate(lambda x: list(x)[0]).to_dict()[\"definition\"]\n",
    "visualization_app.set_entity_definitons(definitions)\n",
    "visualization_app._db_error_message = \"Failed to retreive papers (check if the variable 'bbs_mysql_engine' was initialized or check the DB connection)\"\n",
    "\n",
    "if visualization_configs is not None:\n",
    "    visualization_app._current_graph = visualization_configs[\"current_graph\"]\n",
    "    visualization_app._configure_layout(visualization_configs)"
   ]
  },
  {
   "cell_type": "markdown",
   "metadata": {},
   "source": [
    "By default, the app will display only top-50 most frequent nodes, you can then choose to show all the nodes in the network"
   ]
  },
  {
   "cell_type": "code",
   "execution_count": 35,
   "metadata": {},
   "outputs": [],
   "source": [
    "visualization_app.run(port=8079)"
   ]
  },
  {
   "cell_type": "markdown",
   "metadata": {},
   "source": [
    "# Validate the knowledge graph\n",
    "Content of the Knowledge Graph is validated. In this version, syntactic validation (i.e. are the identifiers correct, ...) is performed when building the knowledge graph. If the knowledge graph is successfully built then the validation passes. In case of warning (i.e because of a weird character (+,...) in an extracted entity), the user can go back to the curation step and further curate extracted entities. "
   ]
  },
  {
   "cell_type": "markdown",
   "metadata": {},
   "source": [
    "# Correct knowledge graph\n",
    "Correction involves going back to the extraction and/or curation steps."
   ]
  },
  {
   "cell_type": "markdown",
   "metadata": {},
   "source": [
    "# Access the knowledge graph\n",
    "The user can search, visualize, and export the knowledge graph."
   ]
  },
  {
   "cell_type": "markdown",
   "metadata": {},
   "source": [
    "# Version the knowledge graph\n",
    "The user can save a knowledge graph with a version."
   ]
  },
  {
   "cell_type": "code",
   "execution_count": 45,
   "metadata": {},
   "outputs": [],
   "source": [
    "exported_graphs = visualization_app.export_graphs(\n",
    "    [\"Topic-centered network (paper-based)\", \"Topic-centered network (paragraph-based)\"], \n",
    ")\n",
    "visualization_configs = visualization_app.get_configs()\n",
    "edit_history = visualization_app.get_edit_history()"
   ]
  },
  {
   "cell_type": "code",
   "execution_count": 46,
   "metadata": {},
   "outputs": [
    {
     "data": {
      "application/vnd.jupyter.widget-view+json": {
       "model_id": "09b486207bcb40abbce9d78863db764e",
       "version_major": 2,
       "version_minor": 0
      },
      "text/plain": [
       "VBox(children=(Text(value='', description='Name:', placeholder='Add a name for your dataset'), Textarea(value=…"
      ]
     },
     "metadata": {},
     "output_type": "display_data"
    }
   ],
   "source": [
    "saver_widget = DataSaverWidget(\n",
    "    forge, TOKEN, topic_resource_id,\n",
    "    table_extractions,\n",
    "    curated_table_extractions,\n",
    "    curation_meta_data,\n",
    "    exported_graphs,\n",
    "    visualization_configs,\n",
    "    edit_history,\n",
    "    temp_prefix=\"/gpfs/bbp.cscs.ch/project/proj116/\")\n",
    "\n",
    "saver_widget.display()"
   ]
  },
  {
   "cell_type": "code",
   "execution_count": null,
   "metadata": {},
   "outputs": [],
   "source": []
  }
 ],
 "metadata": {
  "kernelspec": {
   "display_name": "BBS-BBG",
   "language": "python",
   "name": "devel"
  },
  "language_info": {
   "codemirror_mode": {
    "name": "ipython",
    "version": 3
   },
   "file_extension": ".py",
   "mimetype": "text/x-python",
   "name": "python",
   "nbconvert_exporter": "python",
   "pygments_lexer": "ipython3",
   "version": "3.7.4"
  },
  "toc-autonumbering": true
 },
 "nbformat": 4,
 "nbformat_minor": 4
}
