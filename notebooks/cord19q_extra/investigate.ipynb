{
 "cells": [
  {
   "cell_type": "markdown",
   "metadata": {},
   "source": [
    "**History**\n",
    "\n",
    "* 30.03.2020 Pierre-Alexandre\n",
    "  1. [x] initialize notebook and environment\n",
    "  2. [x] create widget to enter sentence to investigate and display the report\n",
    "* 31.03.2020 Émilie Francesco Pierre-Alexandre\n",
    "  1. [x] identify where embeddings are computed (query and sentences)\n",
    "* 01.04.2020 Pierre-Alexandre Émilie Francesco\n",
    "  1. [x] create cord19q_extra to modify query and sentences processing\n",
    "  2. [-] use Universal Sentence Encoding instead to compute true sentence embeddings\n",
    "  3. [ ] relaunch indexing"
   ]
  },
  {
   "cell_type": "markdown",
   "metadata": {},
   "source": [
    "**Demo on 30.03.2020**\n",
    "\n",
    "Main limitation\n",
    " - Do specific diets correlate with patient susceptibility / outcomes?\n",
    " - diets patient susceptibility\n",
    "\n",
    "Next step\n",
    " - Overcoming this main limitation.\n",
    " - i.e. using a sentence embeddings model instead of a word one\n",
    "\n",
    "Examples:\n",
    "  * from Emmanuelle:\n",
    "    - ketogenic diet is protective against covid-19\n",
    "  * from Stan:\n",
    "    - honey is the cure for everything"
   ]
  },
  {
   "cell_type": "code",
   "execution_count": null,
   "metadata": {},
   "outputs": [],
   "source": []
  },
  {
   "cell_type": "code",
   "execution_count": null,
   "metadata": {},
   "outputs": [],
   "source": [
    "from functools import partial\n",
    "\n",
    "from ipywidgets import Textarea, Button, Output, VBox, Layout\n",
    "\n",
    "from cord19q_extra.query import CustomQuery"
   ]
  },
  {
   "cell_type": "code",
   "execution_count": null,
   "metadata": {},
   "outputs": [],
   "source": [
    "q = partial(CustomQuery.run, method='fasttext_bm25', path='../../cord19q')"
   ]
  },
  {
   "cell_type": "code",
   "execution_count": null,
   "metadata": {},
   "outputs": [],
   "source": [
    "def investigate():\n",
    "    \n",
    "    def on_clicked(b):\n",
    "        wout.clear_output()\n",
    "        with wout:\n",
    "            q(wtext.value)\n",
    "    \n",
    "    wtext = Textarea(\n",
    "        value=\"Inhibition of N-glycosylation (using N-glycosylation inhibitors or Lectins) is a potential therapeutic approach for COVID-19 therapy.\",\n",
    "        placeholder='You investigation there.',\n",
    "        layout=Layout(width='90%', height='80px')\n",
    "    )\n",
    "\n",
    "    button = Button(description='Generate report')\n",
    "    button.on_click(on_clicked)\n",
    "    \n",
    "    wout = Output(layout={'border': '1px solid black'})\n",
    "\n",
    "    display(VBox([wtext, button, wout], layout=Layout(align_items='center')))"
   ]
  },
  {
   "cell_type": "code",
   "execution_count": null,
   "metadata": {
    "slideshow": {
     "slide_type": "slide"
    }
   },
   "outputs": [],
   "source": [
    "investigate()"
   ]
  },
  {
   "cell_type": "code",
   "execution_count": null,
   "metadata": {},
   "outputs": [],
   "source": []
  }
 ],
 "metadata": {
  "kernelspec": {
   "display_name": "Python 3",
   "language": "python",
   "name": "python3"
  },
  "language_info": {
   "codemirror_mode": {
    "name": "ipython",
    "version": 3
   },
   "file_extension": ".py",
   "mimetype": "text/x-python",
   "name": "python",
   "nbconvert_exporter": "python",
   "pygments_lexer": "ipython3",
   "version": "3.7.7"
  }
 },
 "nbformat": 4,
 "nbformat_minor": 4
}
