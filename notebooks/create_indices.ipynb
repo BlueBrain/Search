{
 "cells": [
  {
   "cell_type": "markdown",
   "metadata": {},
   "source": [
    "# Connect to ES"
   ]
  },
  {
   "cell_type": "code",
   "execution_count": null,
   "metadata": {},
   "outputs": [],
   "source": [
    "import elasticsearch\n",
    "from elasticsearch import Elasticsearch\n",
    "from decouple import config"
   ]
  },
  {
   "cell_type": "code",
   "execution_count": null,
   "metadata": {},
   "outputs": [],
   "source": [
    "import urllib3\n",
    "urllib3.disable_warnings()"
   ]
  },
  {
   "cell_type": "code",
   "execution_count": null,
   "metadata": {},
   "outputs": [],
   "source": [
    "elasticsearch.__version__"
   ]
  },
  {
   "cell_type": "code",
   "execution_count": null,
   "metadata": {},
   "outputs": [],
   "source": [
    "client = Elasticsearch(\n",
    "    config('ES_URL'),\n",
    "    basic_auth=(\"elastic\", config('ES_PASS')),\n",
    "    verify_certs=False,\n",
    ")"
   ]
  },
  {
   "cell_type": "code",
   "execution_count": null,
   "metadata": {},
   "outputs": [],
   "source": [
    "client.info()"
   ]
  },
  {
   "cell_type": "markdown",
   "metadata": {},
   "source": [
    "# Create indices"
   ]
  },
  {
   "cell_type": "markdown",
   "metadata": {},
   "source": [
    "## mapping articles"
   ]
  },
  {
   "cell_type": "code",
   "execution_count": null,
   "metadata": {},
   "outputs": [],
   "source": [
    "client.indices.create(\n",
    "    index=\"articles\",\n",
    "    settings = {\"number_of_shards\": 2,\n",
    "                \"number_of_replicas\": 1},\n",
    "    mappings = {\"dynamic\": \"strict\",\n",
    "                \"properties\": {\n",
    "                    \"article_id\": {\"type\": \"keyword\"},\n",
    "                    \"doi\": {\"type\": \"keyword\"},\n",
    "                    \"pmc_id\": {\"type\": \"keyword\"},\n",
    "                    \"pubmed_id\": {\"type\": \"keyword\"},\n",
    "                    \"arxiv_id\": {\"type\": \"keyword\"},\n",
    "                    \"title\": {\"type\": \"text\"},\n",
    "                    \"authors\": {\"type\": \"text\"},\n",
    "                    \"abstract\": {\"type\": \"text\"},\n",
    "                    \"journal\": {\"type\": \"keyword\"},\n",
    "                    \"publish_time\": {\"type\": \"date\", \"format\": \"yyyy-MM-dd\"},\n",
    "                    \"license\": {\"type\": \"keyword\"},\n",
    "                    \"is_english\": {\"type\": \"boolean\"},\n",
    "                }\n",
    "            }\n",
    ")"
   ]
  },
  {
   "cell_type": "markdown",
   "metadata": {},
   "source": [
    "## mapping paragraphs"
   ]
  },
  {
   "cell_type": "code",
   "execution_count": null,
   "metadata": {},
   "outputs": [],
   "source": [
    "client.indices.create(\n",
    "    index=\"paragraphs\",\n",
    "    settings = {\"number_of_shards\": 2,\n",
    "                \"number_of_replicas\": 1},\n",
    "    mappings = {\n",
    "            \"dynamic\": \"strict\",\n",
    "            \"properties\": {\n",
    "                \"article_id\": {\"type\": \"keyword\"},\n",
    "                \"section_name\": {\"type\": \"keyword\"},\n",
    "                \"paragraph_id\": {\"type\": \"short\"},\n",
    "                \"text\": {\"type\": \"text\"},\n",
    "                \"is_bad\": {\"type\": \"boolean\"},\n",
    "                \"embedding\": {\n",
    "                    \"type\": \"dense_vector\",\n",
    "                    \"dims\": 384,\n",
    "                    \"index\": True,\n",
    "                    \"similarity\": \"dot_product\"\n",
    "                }\n",
    "            }\n",
    "        }\n",
    ")"
   ]
  },
  {
   "cell_type": "markdown",
   "metadata": {},
   "source": [
    "## check indices"
   ]
  },
  {
   "cell_type": "code",
   "execution_count": null,
   "metadata": {},
   "outputs": [],
   "source": [
    "indices = client.indices.get_alias().keys()\n",
    "sorted(indices)"
   ]
  }
 ],
 "metadata": {
  "kernelspec": {
   "display_name": "Python 3.10.5 ('py10')",
   "language": "python",
   "name": "python3"
  },
  "language_info": {
   "codemirror_mode": {
    "name": "ipython",
    "version": 3
   },
   "file_extension": ".py",
   "mimetype": "text/x-python",
   "name": "python",
   "nbconvert_exporter": "python",
   "pygments_lexer": "ipython3",
   "version": "3.10.5"
  },
  "orig_nbformat": 4,
  "vscode": {
   "interpreter": {
    "hash": "e14b248c68ef27f7e40aef879e7b97aaa0976632ef81142793ba6d8efee923a4"
   }
  }
 },
 "nbformat": 4,
 "nbformat_minor": 2
}
