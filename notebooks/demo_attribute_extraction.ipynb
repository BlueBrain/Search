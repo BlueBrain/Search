{
 "cells": [
  {
   "cell_type": "markdown",
   "metadata": {},
   "source": [
    "<!---\n",
    "Blue Brain Search is a text mining toolbox focused on scientific use cases.\n",
    "\n",
    "Copyright (C) 2020  Blue Brain Project, EPFL.\n",
    "\n",
    "This program is free software: you can redistribute it and/or modify\n",
    "it under the terms of the GNU Lesser General Public License as published by\n",
    "the Free Software Foundation, either version 3 of the License, or\n",
    "(at your option) any later version.\n",
    "\n",
    "This program is distributed in the hope that it will be useful,\n",
    "but WITHOUT ANY WARRANTY; without even the implied warranty of\n",
    "MERCHANTABILITY or FITNESS FOR A PARTICULAR PURPOSE.  See the\n",
    "GNU Lesser General Public License for more details.\n",
    "\n",
    "You should have received a copy of the GNU Lesser General Public License\n",
    "along with this program. If not, see <https://www.gnu.org/licenses/>.\n",
    "-->\n",
    "\n",
    "# Attribute Extraction Demo"
   ]
  },
  {
   "cell_type": "code",
   "execution_count": null,
   "metadata": {},
   "outputs": [],
   "source": [
    "import spacy\n",
    "\n",
    "from bluesearch.mining import AttributeExtractor, AttributeAnnotationTab, TextCollectionWidget"
   ]
  },
  {
   "cell_type": "code",
   "execution_count": null,
   "metadata": {},
   "outputs": [],
   "source": [
    "core_nlp_url = \"<url>\"\n",
    "grobid_quantities_url = \"<url>/service/processQuantityText\""
   ]
  },
  {
   "cell_type": "code",
   "execution_count": null,
   "metadata": {},
   "outputs": [],
   "source": [
    "entity_model = spacy.load(\"en_ner_craft_md\")"
   ]
  },
  {
   "cell_type": "code",
   "execution_count": null,
   "metadata": {},
   "outputs": [],
   "source": [
    "attribute_extractor = AttributeExtractor(\n",
    "    core_nlp_url,\n",
    "    grobid_quantities_url,\n",
    "    entity_model)"
   ]
  },
  {
   "cell_type": "markdown",
   "metadata": {},
   "source": [
    "# Widget"
   ]
  },
  {
   "cell_type": "markdown",
   "metadata": {},
   "source": [
    "The easiest way is to use the `TextCollectionWidget` to interactively inspect annotations on a number of different texts."
   ]
  },
  {
   "cell_type": "code",
   "execution_count": null,
   "metadata": {},
   "outputs": [],
   "source": [
    "texts = [\n",
    "    \"To a stirred solution of 39 (108 mg) in THF (2 mL) was added 1 M THF solution of TBAF-AcOH (1:1, 300 lL, 0.30 mmol) at ice-water temperature, and the mixture was stirred at the same temperature for 1 h and then at room temperature for 5 h. The solvent was removed under reduced pressure, and the resultant residue was purified by preparative thin layer chromatography (Merck, 113895) (methanol/chloroform, 1:10) to give 20 (181 mg, 34% from 38) as a colorless oil.\",\n",
    "    \"The first generation of selective inhibitors for ACE2 have been designed and synthesised (table 1) [15, 16] . A series of non-peptide compounds were constructed based upon the ACE2 substrate consensus P-X(1-3)-P 1 -fl-X hydrophobic and the requirement of a centrally located carboxylate to co-ordinate with the zinc ion [15] . This lead resulted in the synthesis of an inhibitor (MLN-4760, table 1) possessing sub-nanomolar affinity (IC 50 , 50% inhibitor concentration 0.44 nM) for ACE2 and 220,000-and 22,000fold less affinity for human tACE and bovine carboxypeptidase A, respectively [15] .\",\n",
    "    \"We extended our validated protocol to assess the delivery of aerosolized yeast and spores. Eight A/Jcr mice per group were exposed to aerosolized H99 (a), KN99 (a), or a yeast-spore mixture obtained from mated mixtures in the whole-body exposure chamber for one hour at standardized aerobiology conditions (13 lpm air flow-rate, 19 PSI, and 70% RH). Four mice per group were humanly euthanized and lung, spleen, and brain tissues were sterilely collected at one hour and three weeks post exposure and CFUs were determined as previously described.\",\n",
    "]"
   ]
  },
  {
   "cell_type": "code",
   "execution_count": null,
   "metadata": {},
   "outputs": [],
   "source": [
    "TextCollectionWidget(texts, attribute_extractor, entity_model)"
   ]
  },
  {
   "cell_type": "markdown",
   "metadata": {},
   "source": [
    "# Manual"
   ]
  },
  {
   "cell_type": "code",
   "execution_count": null,
   "metadata": {},
   "outputs": [],
   "source": [
    "text = texts[0]"
   ]
  },
  {
   "cell_type": "markdown",
   "metadata": {},
   "source": [
    "The `AttributeAnnotationTab` widget can be used to display an annotation summary for a given text."
   ]
  },
  {
   "cell_type": "code",
   "execution_count": null,
   "metadata": {},
   "outputs": [],
   "source": [
    "AttributeAnnotationTab(attribute_extractor, entity_model, text)"
   ]
  },
  {
   "cell_type": "markdown",
   "metadata": {},
   "source": [
    "One can use the functionality of the `AttributeExtractor` class to manually extract the attribute information."
   ]
  },
  {
   "cell_type": "code",
   "execution_count": null,
   "metadata": {},
   "outputs": [],
   "source": [
    "df_attributes = attribute_extractor.extract_attributes(text)\n",
    "df_attributes"
   ]
  },
  {
   "cell_type": "code",
   "execution_count": null,
   "metadata": {},
   "outputs": [],
   "source": [
    "measurements = attribute_extractor.get_grobid_measurements(text)\n",
    "annotated_text = attribute_extractor.annotate_quantities(text, measurements, width=70)\n",
    "annotated_text"
   ]
  },
  {
   "cell_type": "code",
   "execution_count": null,
   "metadata": {},
   "outputs": [],
   "source": []
  }
 ],
 "metadata": {
  "kernelspec": {
   "display_name": "Python 3",
   "language": "python",
   "name": "python3"
  },
  "language_info": {
   "codemirror_mode": {
    "name": "ipython",
    "version": 3
   },
   "file_extension": ".py",
   "mimetype": "text/x-python",
   "name": "python",
   "nbconvert_exporter": "python",
   "pygments_lexer": "ipython3",
   "version": "3.7.6"
  }
 },
 "nbformat": 4,
 "nbformat_minor": 4
}
