{
 "cells": [
  {
   "cell_type": "markdown",
   "metadata": {},
   "source": [
    "<!---\n",
    "Blue Brain Search is a text mining toolbox focused on scientific use cases.\n",
    "\n",
    "Copyright (C) 2020  Blue Brain Project, EPFL.\n",
    "\n",
    "This program is free software: you can redistribute it and/or modify\n",
    "it under the terms of the GNU Lesser General Public License as published by\n",
    "the Free Software Foundation, either version 3 of the License, or\n",
    "(at your option) any later version.\n",
    "\n",
    "This program is distributed in the hope that it will be useful,\n",
    "but WITHOUT ANY WARRANTY; without even the implied warranty of\n",
    "MERCHANTABILITY or FITNESS FOR A PARTICULAR PURPOSE.  See the\n",
    "GNU Lesser General Public License for more details.\n",
    "\n",
    "You should have received a copy of the GNU Lesser General Public License\n",
    "along with this program. If not, see <https://www.gnu.org/licenses/>.\n",
    "-->\n",
    "\n",
    "# Demo of the Embedding REST API Server"
   ]
  },
  {
   "cell_type": "markdown",
   "metadata": {},
   "source": [
    "To receive a sentence embedding proceed as follows:\n",
    "\n",
    "- Wrap your query into a JSON file\n",
    "- The JSON file should be of the following form:\n",
    "\n",
    "```\n",
    "    {\n",
    "        \"model\": \"<embedding model name>\",\n",
    "        \"text\": \"<text>\"\n",
    "    }\n",
    "```\n",
    "\n",
    "\n",
    "- Send the JSON file to \"/v1/embed\"\n",
    "- Receive a response as a CSV file\n",
    "\n",
    "The current implementation handles one sentence per request. To compute embeddings for multiple sentences multiple queries need to be made.\n",
    "\n",
    "The models currently available are:\n",
    "- \"USE\" (Universal Sentence Embedding)\n",
    "- \"SBERT\" (Sentence BERT)\n",
    "- \"SBIOBERT\" (Sentence BioBERT)\n",
    "- \"BSV\" (BioSentVec)\n",
    "\n",
    "One can also get a welcome/help message by entering the plain server URL into your browser."
   ]
  },
  {
   "cell_type": "markdown",
   "metadata": {},
   "source": [
    "## Imports"
   ]
  },
  {
   "cell_type": "code",
   "execution_count": null,
   "metadata": {},
   "outputs": [],
   "source": [
    "import io\n",
    "import json\n",
    "import requests\n",
    "\n",
    "import numpy as np\n",
    "import pandas as pd"
   ]
  },
  {
   "cell_type": "markdown",
   "metadata": {},
   "source": [
    "## Helper Functions"
   ]
  },
  {
   "cell_type": "code",
   "execution_count": null,
   "metadata": {},
   "outputs": [],
   "source": [
    "def make_request(request_url, payload):\n",
    "    response = requests.get(url=request_url, json=payload)\n",
    "        \n",
    "    if response.ok:\n",
    "        return response.text\n",
    "    else:\n",
    "        print(\"Response not OK :(\")\n",
    "        print(\"Status code:\", response.status_code)\n",
    "        print(\"Content:\", response.text)\n",
    "        return None"
   ]
  },
  {
   "cell_type": "markdown",
   "metadata": {},
   "source": [
    "## Configure the Server"
   ]
  },
  {
   "cell_type": "markdown",
   "metadata": {},
   "source": [
    "To find the correct port run the following command:\n",
    "\n",
    "```bash\n",
    "docker port embedding_server\n",
    "```\n",
    "\n",
    "if the output is\n",
    "\n",
    "```\n",
    "8080/tcp -> 0.0.0.0:32774\n",
    "```\n",
    "\n",
    "then the port variable should be set to 32774"
   ]
  },
  {
   "cell_type": "code",
   "execution_count": null,
   "metadata": {},
   "outputs": [],
   "source": [
    "host = \"<hostname>\"\n",
    "port = -1"
   ]
  },
  {
   "cell_type": "code",
   "execution_count": null,
   "metadata": {},
   "outputs": [],
   "source": [
    "url = f\"http://{host}:{port}/v1/embed\""
   ]
  },
  {
   "cell_type": "markdown",
   "metadata": {},
   "source": [
    "## Create the request"
   ]
  },
  {
   "cell_type": "code",
   "execution_count": null,
   "metadata": {},
   "outputs": [],
   "source": [
    "payload = {\n",
    "    \"model\": \"USE\",\n",
    "    \"text\": \"This is a sample text.\"\n",
    "}"
   ]
  },
  {
   "cell_type": "markdown",
   "metadata": {},
   "source": [
    "## Send the request - response as JSON"
   ]
  },
  {
   "cell_type": "code",
   "execution_count": null,
   "metadata": {},
   "outputs": [],
   "source": [
    "response = make_request(f\"{url}/json\", payload)\n",
    "\n",
    "response_json = json.loads(response)\n",
    "embedding = np.array(response_json[\"embedding\"])\n",
    "print(\"> Embedding shape:\", embedding.shape)"
   ]
  },
  {
   "cell_type": "markdown",
   "metadata": {},
   "source": [
    "## Send the request - response as CSV"
   ]
  },
  {
   "cell_type": "code",
   "execution_count": null,
   "metadata": {},
   "outputs": [],
   "source": [
    "response = make_request(f\"{url}/csv\", payload)\n",
    "\n",
    "string_stream = io.StringIO(response)\n",
    "df_embedding = pd.read_csv(string_stream, header=None)\n",
    "embedding = df_embedding.iloc[0].values\n",
    "print(\"> Embedding shape:\", embedding.shape)"
   ]
  },
  {
   "cell_type": "markdown",
   "metadata": {},
   "source": [
    "## Send an invalid request"
   ]
  },
  {
   "cell_type": "code",
   "execution_count": null,
   "metadata": {},
   "outputs": [],
   "source": [
    "make_request(f\"{url}/microsoft_word\", payload)"
   ]
  },
  {
   "cell_type": "code",
   "execution_count": null,
   "metadata": {},
   "outputs": [],
   "source": []
  }
 ],
 "metadata": {
  "kernelspec": {
   "display_name": "Python 3",
   "language": "python",
   "name": "python3"
  },
  "language_info": {
   "codemirror_mode": {
    "name": "ipython",
    "version": 3
   },
   "file_extension": ".py",
   "mimetype": "text/x-python",
   "name": "python",
   "nbconvert_exporter": "python",
   "pygments_lexer": "ipython3",
   "version": "3.7.6"
  }
 },
 "nbformat": 4,
 "nbformat_minor": 4
}
