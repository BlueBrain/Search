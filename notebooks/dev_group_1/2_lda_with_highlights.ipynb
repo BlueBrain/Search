{
 "cells": [
  {
   "cell_type": "markdown",
   "metadata": {},
   "source": [
    "# LDA with Highlights"
   ]
  },
  {
   "cell_type": "markdown",
   "metadata": {},
   "source": [
    "## Imports"
   ]
  },
  {
   "cell_type": "code",
   "execution_count": 36,
   "metadata": {
    "ExecuteTime": {
     "end_time": "2020-04-01T14:33:39.279934Z",
     "start_time": "2020-04-01T14:33:39.274901Z"
    }
   },
   "outputs": [],
   "source": [
    "import joblib\n",
    "\n",
    "import pandas as pd\n",
    "from sklearn.metrics import pairwise_distances\n",
    "from scipy.spatial.distance import jensenshannon\n",
    "import ipywidgets\n",
    "\n",
    "from bbcov import DummyModel, LDAModel, Embedder, QueryMachine"
   ]
  },
  {
   "cell_type": "markdown",
   "metadata": {},
   "source": [
    "## Data"
   ]
  },
  {
   "cell_type": "code",
   "execution_count": 133,
   "metadata": {
    "ExecuteTime": {
     "end_time": "2020-04-01T15:46:24.579460Z",
     "start_time": "2020-04-01T15:46:21.574288Z"
    }
   },
   "outputs": [
    {
     "data": {
      "text/plain": [
       "(29135, 18)"
      ]
     },
     "execution_count": 133,
     "metadata": {},
     "output_type": "execute_result"
    }
   ],
   "source": [
    "df_docs = pd.read_pickle(\"../preproccessed_data/v4_json_metadata_v2.pkl\")\n",
    "df_docs = df_docs\n",
    "df_docs.shape"
   ]
  },
  {
   "cell_type": "code",
   "execution_count": 134,
   "metadata": {
    "ExecuteTime": {
     "end_time": "2020-04-01T15:46:25.983299Z",
     "start_time": "2020-04-01T15:46:25.938930Z"
    }
   },
   "outputs": [
    {
     "name": "stdout",
     "output_type": "stream",
     "text": [
      "<class 'pandas.core.frame.DataFrame'>\n",
      "Index: 29135 entries, 0001418189999fea7f7cbe3e82703d71c85a6fe5 to fffaed7e9353b7df6c4ca8f66b62e117013cb86d\n",
      "Data columns (total 18 columns):\n",
      " #   Column                       Non-Null Count  Dtype         \n",
      "---  ------                       --------------  -----         \n",
      " 0   title                        29135 non-null  object        \n",
      " 1   abstract                     29135 non-null  object        \n",
      " 2   text                         29135 non-null  object        \n",
      " 3   sections                     29135 non-null  object        \n",
      " 4   ref_captions                 29135 non-null  object        \n",
      " 5   all_text                     29135 non-null  object        \n",
      " 6   source_x                     27675 non-null  object        \n",
      " 7   doi                          27365 non-null  object        \n",
      " 8   pmcid                        12077 non-null  object        \n",
      " 9   pubmed_id                    20815 non-null  float64       \n",
      " 10  license                      27675 non-null  object        \n",
      " 11  publish_time                 27450 non-null  datetime64[ns]\n",
      " 12  authors                      26928 non-null  object        \n",
      " 13  journal                      26781 non-null  object        \n",
      " 14  Microsoft Academic Paper ID  294 non-null    float64       \n",
      " 15  WHO #Covidence               419 non-null    object        \n",
      " 16  has_full_text                27675 non-null  object        \n",
      " 17  full_text_file               27675 non-null  object        \n",
      "dtypes: datetime64[ns](1), float64(2), object(15)\n",
      "memory usage: 4.2+ MB\n"
     ]
    }
   ],
   "source": [
    "df_docs.info()"
   ]
  },
  {
   "cell_type": "code",
   "execution_count": 135,
   "metadata": {
    "ExecuteTime": {
     "end_time": "2020-04-01T15:46:28.075601Z",
     "start_time": "2020-04-01T15:46:28.038315Z"
    }
   },
   "outputs": [
    {
     "data": {
      "text/html": [
       "<div>\n",
       "<style scoped>\n",
       "    .dataframe tbody tr th:only-of-type {\n",
       "        vertical-align: middle;\n",
       "    }\n",
       "\n",
       "    .dataframe tbody tr th {\n",
       "        vertical-align: top;\n",
       "    }\n",
       "\n",
       "    .dataframe thead th {\n",
       "        text-align: right;\n",
       "    }\n",
       "</style>\n",
       "<table border=\"1\" class=\"dataframe\">\n",
       "  <thead>\n",
       "    <tr style=\"text-align: right;\">\n",
       "      <th></th>\n",
       "      <th>title</th>\n",
       "      <th>abstract</th>\n",
       "      <th>text</th>\n",
       "      <th>sections</th>\n",
       "      <th>ref_captions</th>\n",
       "      <th>all_text</th>\n",
       "      <th>source_x</th>\n",
       "      <th>doi</th>\n",
       "      <th>pmcid</th>\n",
       "      <th>pubmed_id</th>\n",
       "      <th>license</th>\n",
       "      <th>publish_time</th>\n",
       "      <th>authors</th>\n",
       "      <th>journal</th>\n",
       "      <th>Microsoft Academic Paper ID</th>\n",
       "      <th>WHO #Covidence</th>\n",
       "      <th>has_full_text</th>\n",
       "      <th>full_text_file</th>\n",
       "    </tr>\n",
       "    <tr>\n",
       "      <th>sha</th>\n",
       "      <th></th>\n",
       "      <th></th>\n",
       "      <th></th>\n",
       "      <th></th>\n",
       "      <th></th>\n",
       "      <th></th>\n",
       "      <th></th>\n",
       "      <th></th>\n",
       "      <th></th>\n",
       "      <th></th>\n",
       "      <th></th>\n",
       "      <th></th>\n",
       "      <th></th>\n",
       "      <th></th>\n",
       "      <th></th>\n",
       "      <th></th>\n",
       "      <th></th>\n",
       "      <th></th>\n",
       "    </tr>\n",
       "  </thead>\n",
       "  <tbody>\n",
       "    <tr>\n",
       "      <th>0001418189999fea7f7cbe3e82703d71c85a6fe5</th>\n",
       "      <td>Absence of surface expression of feline infect...</td>\n",
       "      <td>Feline infectious peritonitis virus (FIPV) pos...</td>\n",
       "      <td>Feline infectious peritonitis (FIP) is a fatal...</td>\n",
       "      <td>Results\\nIsolation of FIPV positive cells\\nCat...</td>\n",
       "      <td>Surface expression of the monocyte marker (A);...</td>\n",
       "      <td>Feline infectious peritonitis virus (FIPV) pos...</td>\n",
       "      <td>Elsevier</td>\n",
       "      <td>10.1016/j.vetmic.2006.11.026</td>\n",
       "      <td>NaN</td>\n",
       "      <td>17188823.0</td>\n",
       "      <td>els-covid</td>\n",
       "      <td>2007-03-31</td>\n",
       "      <td>Cornelissen, E.; Dewerchin, H.L.; Van Hamme, E...</td>\n",
       "      <td>Veterinary Microbiology</td>\n",
       "      <td>NaN</td>\n",
       "      <td>NaN</td>\n",
       "      <td>True</td>\n",
       "      <td>custom_license</td>\n",
       "    </tr>\n",
       "    <tr>\n",
       "      <th>00016663c74157a66b4d509d5c4edffd5391bbe0</th>\n",
       "      <td></td>\n",
       "      <td></td>\n",
       "      <td>Viruses are increasingly recognised as pathoge...</td>\n",
       "      <td>Burden of disease studies\\nAn integrated molec...</td>\n",
       "      <td>Scheme for foodborne virus tracking. Virus det...</td>\n",
       "      <td>\\nViruses are increasingly recognised as patho...</td>\n",
       "      <td>Elsevier</td>\n",
       "      <td>10.1533/9781845691394.1.77</td>\n",
       "      <td>NaN</td>\n",
       "      <td>NaN</td>\n",
       "      <td>els-covid</td>\n",
       "      <td>2006-12-31</td>\n",
       "      <td>Duizer, E.; Koopmans, M.</td>\n",
       "      <td>Emerging Foodborne Pathogens</td>\n",
       "      <td>NaN</td>\n",
       "      <td>NaN</td>\n",
       "      <td>True</td>\n",
       "      <td>custom_license</td>\n",
       "    </tr>\n",
       "    <tr>\n",
       "      <th>0005d253951fedc237715a37db147032eea28912</th>\n",
       "      <td></td>\n",
       "      <td></td>\n",
       "      <td>Synthesized by William Prusoff in the late 195...</td>\n",
       "      <td>\\nLuis Mené ndez-Arias</td>\n",
       "      <td>//dx.doi.org/10.1016/j.coviro.2014.08.002 1879...</td>\n",
       "      <td>\\nSynthesized by William Prusoff in the late 1...</td>\n",
       "      <td>Elsevier</td>\n",
       "      <td>10.1016/j.coviro.2014.08.002</td>\n",
       "      <td>NaN</td>\n",
       "      <td>25155454.0</td>\n",
       "      <td>els-covid</td>\n",
       "      <td>2014-10-31</td>\n",
       "      <td>Menéndez-Arias, Luis; Richman, Douglas D</td>\n",
       "      <td>Current Opinion in Virology</td>\n",
       "      <td>NaN</td>\n",
       "      <td>NaN</td>\n",
       "      <td>True</td>\n",
       "      <td>custom_license</td>\n",
       "    </tr>\n",
       "    <tr>\n",
       "      <th>000affa746a03f1fe4e3b3ef1a62fdfa9b9ac52a</th>\n",
       "      <td>Correlation between antimicrobial consumption ...</td>\n",
       "      <td>Objectives: This study was conducted to invest...</td>\n",
       "      <td>The incidence of health-care-associated infect...</td>\n",
       "      <td>Antimicrobial agents and consumption\\nCorrelat...</td>\n",
       "      <td>(A) Rates of methicillin-resistant Staphylococ...</td>\n",
       "      <td>Objectives: This study was conducted to invest...</td>\n",
       "      <td>Elsevier</td>\n",
       "      <td>10.1016/j.jmii.2013.10.008</td>\n",
       "      <td>NaN</td>\n",
       "      <td>24388582.0</td>\n",
       "      <td>els-covid</td>\n",
       "      <td>2015-08-31</td>\n",
       "      <td>Lai, Chih-Cheng; Chu, Chen-Chen; Cheng, Aristi...</td>\n",
       "      <td>Journal of Microbiology, Immunology and Infection</td>\n",
       "      <td>NaN</td>\n",
       "      <td>NaN</td>\n",
       "      <td>True</td>\n",
       "      <td>custom_license</td>\n",
       "    </tr>\n",
       "    <tr>\n",
       "      <th>000b7d1517ceebb34e1e3e817695b6de03e2fa78</th>\n",
       "      <td>Supplementary Information An eco-epidemiologic...</td>\n",
       "      <td></td>\n",
       "      <td>- Figure S1 : Phylogeny of all sequences belon...</td>\n",
       "      <td></td>\n",
       "      <td>Table S4. Bats cytochrome b sequences data set...</td>\n",
       "      <td>\\n- Figure S1 : Phylogeny of all sequences bel...</td>\n",
       "      <td>NaN</td>\n",
       "      <td>NaN</td>\n",
       "      <td>NaN</td>\n",
       "      <td>NaN</td>\n",
       "      <td>NaN</td>\n",
       "      <td>NaT</td>\n",
       "      <td>NaN</td>\n",
       "      <td>NaN</td>\n",
       "      <td>NaN</td>\n",
       "      <td>NaN</td>\n",
       "      <td>NaN</td>\n",
       "      <td>NaN</td>\n",
       "    </tr>\n",
       "  </tbody>\n",
       "</table>\n",
       "</div>"
      ],
      "text/plain": [
       "                                                                                      title  \\\n",
       "sha                                                                                           \n",
       "0001418189999fea7f7cbe3e82703d71c85a6fe5  Absence of surface expression of feline infect...   \n",
       "00016663c74157a66b4d509d5c4edffd5391bbe0                                                      \n",
       "0005d253951fedc237715a37db147032eea28912                                                      \n",
       "000affa746a03f1fe4e3b3ef1a62fdfa9b9ac52a  Correlation between antimicrobial consumption ...   \n",
       "000b7d1517ceebb34e1e3e817695b6de03e2fa78  Supplementary Information An eco-epidemiologic...   \n",
       "\n",
       "                                                                                   abstract  \\\n",
       "sha                                                                                           \n",
       "0001418189999fea7f7cbe3e82703d71c85a6fe5  Feline infectious peritonitis virus (FIPV) pos...   \n",
       "00016663c74157a66b4d509d5c4edffd5391bbe0                                                      \n",
       "0005d253951fedc237715a37db147032eea28912                                                      \n",
       "000affa746a03f1fe4e3b3ef1a62fdfa9b9ac52a  Objectives: This study was conducted to invest...   \n",
       "000b7d1517ceebb34e1e3e817695b6de03e2fa78                                                      \n",
       "\n",
       "                                                                                       text  \\\n",
       "sha                                                                                           \n",
       "0001418189999fea7f7cbe3e82703d71c85a6fe5  Feline infectious peritonitis (FIP) is a fatal...   \n",
       "00016663c74157a66b4d509d5c4edffd5391bbe0  Viruses are increasingly recognised as pathoge...   \n",
       "0005d253951fedc237715a37db147032eea28912  Synthesized by William Prusoff in the late 195...   \n",
       "000affa746a03f1fe4e3b3ef1a62fdfa9b9ac52a  The incidence of health-care-associated infect...   \n",
       "000b7d1517ceebb34e1e3e817695b6de03e2fa78  - Figure S1 : Phylogeny of all sequences belon...   \n",
       "\n",
       "                                                                                   sections  \\\n",
       "sha                                                                                           \n",
       "0001418189999fea7f7cbe3e82703d71c85a6fe5  Results\\nIsolation of FIPV positive cells\\nCat...   \n",
       "00016663c74157a66b4d509d5c4edffd5391bbe0  Burden of disease studies\\nAn integrated molec...   \n",
       "0005d253951fedc237715a37db147032eea28912                             \\nLuis Mené ndez-Arias   \n",
       "000affa746a03f1fe4e3b3ef1a62fdfa9b9ac52a  Antimicrobial agents and consumption\\nCorrelat...   \n",
       "000b7d1517ceebb34e1e3e817695b6de03e2fa78                                                      \n",
       "\n",
       "                                                                               ref_captions  \\\n",
       "sha                                                                                           \n",
       "0001418189999fea7f7cbe3e82703d71c85a6fe5  Surface expression of the monocyte marker (A);...   \n",
       "00016663c74157a66b4d509d5c4edffd5391bbe0  Scheme for foodborne virus tracking. Virus det...   \n",
       "0005d253951fedc237715a37db147032eea28912  //dx.doi.org/10.1016/j.coviro.2014.08.002 1879...   \n",
       "000affa746a03f1fe4e3b3ef1a62fdfa9b9ac52a  (A) Rates of methicillin-resistant Staphylococ...   \n",
       "000b7d1517ceebb34e1e3e817695b6de03e2fa78  Table S4. Bats cytochrome b sequences data set...   \n",
       "\n",
       "                                                                                   all_text  \\\n",
       "sha                                                                                           \n",
       "0001418189999fea7f7cbe3e82703d71c85a6fe5  Feline infectious peritonitis virus (FIPV) pos...   \n",
       "00016663c74157a66b4d509d5c4edffd5391bbe0  \\nViruses are increasingly recognised as patho...   \n",
       "0005d253951fedc237715a37db147032eea28912  \\nSynthesized by William Prusoff in the late 1...   \n",
       "000affa746a03f1fe4e3b3ef1a62fdfa9b9ac52a  Objectives: This study was conducted to invest...   \n",
       "000b7d1517ceebb34e1e3e817695b6de03e2fa78  \\n- Figure S1 : Phylogeny of all sequences bel...   \n",
       "\n",
       "                                          source_x  \\\n",
       "sha                                                  \n",
       "0001418189999fea7f7cbe3e82703d71c85a6fe5  Elsevier   \n",
       "00016663c74157a66b4d509d5c4edffd5391bbe0  Elsevier   \n",
       "0005d253951fedc237715a37db147032eea28912  Elsevier   \n",
       "000affa746a03f1fe4e3b3ef1a62fdfa9b9ac52a  Elsevier   \n",
       "000b7d1517ceebb34e1e3e817695b6de03e2fa78       NaN   \n",
       "\n",
       "                                                                   doi pmcid  \\\n",
       "sha                                                                            \n",
       "0001418189999fea7f7cbe3e82703d71c85a6fe5  10.1016/j.vetmic.2006.11.026   NaN   \n",
       "00016663c74157a66b4d509d5c4edffd5391bbe0    10.1533/9781845691394.1.77   NaN   \n",
       "0005d253951fedc237715a37db147032eea28912  10.1016/j.coviro.2014.08.002   NaN   \n",
       "000affa746a03f1fe4e3b3ef1a62fdfa9b9ac52a    10.1016/j.jmii.2013.10.008   NaN   \n",
       "000b7d1517ceebb34e1e3e817695b6de03e2fa78                           NaN   NaN   \n",
       "\n",
       "                                           pubmed_id    license publish_time  \\\n",
       "sha                                                                            \n",
       "0001418189999fea7f7cbe3e82703d71c85a6fe5  17188823.0  els-covid   2007-03-31   \n",
       "00016663c74157a66b4d509d5c4edffd5391bbe0         NaN  els-covid   2006-12-31   \n",
       "0005d253951fedc237715a37db147032eea28912  25155454.0  els-covid   2014-10-31   \n",
       "000affa746a03f1fe4e3b3ef1a62fdfa9b9ac52a  24388582.0  els-covid   2015-08-31   \n",
       "000b7d1517ceebb34e1e3e817695b6de03e2fa78         NaN        NaN          NaT   \n",
       "\n",
       "                                                                                    authors  \\\n",
       "sha                                                                                           \n",
       "0001418189999fea7f7cbe3e82703d71c85a6fe5  Cornelissen, E.; Dewerchin, H.L.; Van Hamme, E...   \n",
       "00016663c74157a66b4d509d5c4edffd5391bbe0                           Duizer, E.; Koopmans, M.   \n",
       "0005d253951fedc237715a37db147032eea28912           Menéndez-Arias, Luis; Richman, Douglas D   \n",
       "000affa746a03f1fe4e3b3ef1a62fdfa9b9ac52a  Lai, Chih-Cheng; Chu, Chen-Chen; Cheng, Aristi...   \n",
       "000b7d1517ceebb34e1e3e817695b6de03e2fa78                                                NaN   \n",
       "\n",
       "                                                                                    journal  \\\n",
       "sha                                                                                           \n",
       "0001418189999fea7f7cbe3e82703d71c85a6fe5                            Veterinary Microbiology   \n",
       "00016663c74157a66b4d509d5c4edffd5391bbe0                       Emerging Foodborne Pathogens   \n",
       "0005d253951fedc237715a37db147032eea28912                        Current Opinion in Virology   \n",
       "000affa746a03f1fe4e3b3ef1a62fdfa9b9ac52a  Journal of Microbiology, Immunology and Infection   \n",
       "000b7d1517ceebb34e1e3e817695b6de03e2fa78                                                NaN   \n",
       "\n",
       "                                          Microsoft Academic Paper ID  \\\n",
       "sha                                                                     \n",
       "0001418189999fea7f7cbe3e82703d71c85a6fe5                          NaN   \n",
       "00016663c74157a66b4d509d5c4edffd5391bbe0                          NaN   \n",
       "0005d253951fedc237715a37db147032eea28912                          NaN   \n",
       "000affa746a03f1fe4e3b3ef1a62fdfa9b9ac52a                          NaN   \n",
       "000b7d1517ceebb34e1e3e817695b6de03e2fa78                          NaN   \n",
       "\n",
       "                                         WHO #Covidence has_full_text  \\\n",
       "sha                                                                     \n",
       "0001418189999fea7f7cbe3e82703d71c85a6fe5            NaN          True   \n",
       "00016663c74157a66b4d509d5c4edffd5391bbe0            NaN          True   \n",
       "0005d253951fedc237715a37db147032eea28912            NaN          True   \n",
       "000affa746a03f1fe4e3b3ef1a62fdfa9b9ac52a            NaN          True   \n",
       "000b7d1517ceebb34e1e3e817695b6de03e2fa78            NaN           NaN   \n",
       "\n",
       "                                          full_text_file  \n",
       "sha                                                       \n",
       "0001418189999fea7f7cbe3e82703d71c85a6fe5  custom_license  \n",
       "00016663c74157a66b4d509d5c4edffd5391bbe0  custom_license  \n",
       "0005d253951fedc237715a37db147032eea28912  custom_license  \n",
       "000affa746a03f1fe4e3b3ef1a62fdfa9b9ac52a  custom_license  \n",
       "000b7d1517ceebb34e1e3e817695b6de03e2fa78             NaN  "
      ]
     },
     "execution_count": 135,
     "metadata": {},
     "output_type": "execute_result"
    }
   ],
   "source": [
    "df_docs.head()"
   ]
  },
  {
   "cell_type": "markdown",
   "metadata": {},
   "source": [
    "## Dummy Model"
   ]
  },
  {
   "cell_type": "code",
   "execution_count": 2,
   "metadata": {
    "ExecuteTime": {
     "end_time": "2020-03-31T13:46:11.135145Z",
     "start_time": "2020-03-31T13:46:11.131804Z"
    }
   },
   "outputs": [],
   "source": [
    "model = DummyModel(d_embedding=5)\n",
    "embedder = Embedder(model)"
   ]
  },
  {
   "cell_type": "code",
   "execution_count": 3,
   "metadata": {
    "ExecuteTime": {
     "end_time": "2020-03-31T13:46:11.287257Z",
     "start_time": "2020-03-31T13:46:11.274873Z"
    }
   },
   "outputs": [
    {
     "data": {
      "text/plain": [
       "array([[-0.99570137, -0.20580137,  0.04149257,  0.45220742,  0.77187658]])"
      ]
     },
     "execution_count": 3,
     "metadata": {},
     "output_type": "execute_result"
    }
   ],
   "source": [
    "embedder(\"test\")"
   ]
  },
  {
   "cell_type": "code",
   "execution_count": 4,
   "metadata": {
    "ExecuteTime": {
     "end_time": "2020-03-31T13:46:11.530167Z",
     "start_time": "2020-03-31T13:46:11.525629Z"
    }
   },
   "outputs": [
    {
     "data": {
      "text/plain": [
       "array([[-0.02197083,  0.05120264,  0.070866  , -1.70837688, -0.97788063],\n",
       "       [-1.03407554, -1.11790396, -1.51971689, -2.43708308, -0.07045687]])"
      ]
     },
     "execution_count": 4,
     "metadata": {},
     "output_type": "execute_result"
    }
   ],
   "source": [
    "embedder([\"test1\", \"test2\"])"
   ]
  },
  {
   "cell_type": "code",
   "execution_count": 9,
   "metadata": {
    "ExecuteTime": {
     "end_time": "2020-03-31T13:46:14.753304Z",
     "start_time": "2020-03-31T13:46:14.750459Z"
    }
   },
   "outputs": [],
   "source": [
    "query_machine = QueryMachine(embedder, df_docs, 'text')"
   ]
  },
  {
   "cell_type": "code",
   "execution_count": 10,
   "metadata": {
    "ExecuteTime": {
     "end_time": "2020-03-31T13:46:14.764702Z",
     "start_time": "2020-03-31T13:46:14.760620Z"
    }
   },
   "outputs": [],
   "source": [
    "query = \"Hello\""
   ]
  },
  {
   "cell_type": "code",
   "execution_count": 11,
   "metadata": {
    "ExecuteTime": {
     "end_time": "2020-03-31T13:46:14.897738Z",
     "start_time": "2020-03-31T13:46:14.892861Z"
    }
   },
   "outputs": [
    {
     "data": {
      "text/plain": [
       "array([558, 300, 819])"
      ]
     },
     "execution_count": 11,
     "metadata": {},
     "output_type": "execute_result"
    }
   ],
   "source": [
    "doc_ids = query_machine.get_top_k_docs(query)\n",
    "doc_ids"
   ]
  },
  {
   "cell_type": "code",
   "execution_count": 12,
   "metadata": {
    "ExecuteTime": {
     "end_time": "2020-03-31T13:46:15.936868Z",
     "start_time": "2020-03-31T13:46:15.917703Z"
    }
   },
   "outputs": [
    {
     "data": {
      "text/plain": [
       "(['The bovine placenta does not permit the passive transfer of antibody to the fetus. As a result, the newborn calf does not receive any antibody from the dam and is very susceptible to environmental pathogens. Resistance of the calf to enteric disease is closely related to the timely consumption of high-quality colostrum in sufficient quantities [7] . The neonatal calf should ideally receive 2∼3 L (for beef calves) or 3∼4 L (in dairy calves) of colostrum within the first 6 h after birth [22] . The colostrum contains antibodies, immune cells (neutrophils, macrophages, T cells, and B cells), complements, lactoferrin, insulin-like growth factor-1, transforming growth factor, interferon, and other soluble factors as well as nutrients (sugars and fat-soluble vitamins) [94] . Immunoglobulin G is the primary antibody isotype in bovine colostrum. The quality of colostrum varies based on calving number, nutritional status, and vaccination of the cow [98] . However, calves born to heifers can receive an acceptable level of maternally derived immunity if enough volume of colostrum is ingested within the first 24 h of life [71] . Heifers have a greater likelihood for dystocia, mis-mothering, and poor colostrum production compared to a multiparous cow. Therefore, cow-calf management practices (e.g., calving heifers first and segregation of calves based on birth date) should be considered for reducing the chances of infectious disease development.',\n",
       "  'PRNT assays were performed as previously described with minor modifications [35-37]. HTNV-infected monolayers were fixed 7 days post-infection, while PUUV-infected monolayers were fixed 10 days post infection by 2 mL of 10% formalin per well. Immunostaining was performed as previously described [38] . All sera samples were assayed in duplicate beginning at a 1:20 final dilution. PRNT 50 values represent the reciprocal dilution at which the serum neutralizes 50% of the virus.',\n",
       "  'The SARS-CoV N protein is capable in inducing immunodominant T cell responses in SARS-recovered individuals and these responses were shown to be involved in disease protection in animal models [23, 24] . In our previous study performed at 6 years post-SARS, several SARS-specific T cell epitopes within the N protein were reported [13] . In SARS subject 1 at 6 years post-infection, a HLA-B*1525-restricted memory CD8 + T cell response targeting the N53 peptide, corresponding to residues 261-275 of N protein, was detected. To determine the minimal epitope of the N53 CD8 + T cell response, truncated peptides were tested for induction of CD8 + T cell response using PBMCs from SARS subject 1 previously collected at 6 years post-infection. Truncated peptides consisted of 8-to 10-mers within the 10 overlapping residues between N53 and N54 peptides, as the N54 peptide is also capable of inducing Table 2 Summary of percentage CD8 + IFN␥ + responses in SARS subject 1 induced by truncated peptides within M29 region. T cells used were obtained from SARS subject 1 at 9 years post-infection. Results of positive peptides (M29, M29144-155, M29145-155, M29146-155, M29147-155) and selected negative peptides (M29143-154, M29145-154, M29148-155) are shown. Percentage CD8 + IFN␥ + T cells shown represents the percentage of IFN␥-producing CD8 + T cells in the total T cell population (after gating the CD3 + cells) present in the short-term T cell line obtained by restimulation using M29 peptide. The minimal epitope is indicated in italics.'],\n",
       " [0.12119546043938656, 0.2325186286620997, 0.07187618303731225])"
      ]
     },
     "execution_count": 12,
     "metadata": {},
     "output_type": "execute_result"
    }
   ],
   "source": [
    "query_machine.get_most_relevant_paragraphs(query, doc_ids)"
   ]
  },
  {
   "cell_type": "markdown",
   "metadata": {},
   "source": [
    "- documents = collections of paragraphs + embedding + metadata\n",
    "- query text\n",
    "- 1. find matching documents:\n",
    "    - compute embedding of query\n",
    "    - pre-compute embeddings of all documents (`body_text = concat(paragraphs)`)\n",
    "- 2. "
   ]
  },
  {
   "cell_type": "markdown",
   "metadata": {},
   "source": [
    "- give a query\n",
    "- provide all documents\n",
    "- find top 3 matching documents\n",
    "- highlight most matching paragraph for each document"
   ]
  },
  {
   "cell_type": "markdown",
   "metadata": {},
   "source": [
    "## LDA Model"
   ]
  },
  {
   "cell_type": "code",
   "execution_count": 136,
   "metadata": {
    "ExecuteTime": {
     "end_time": "2020-04-01T15:46:43.389090Z",
     "start_time": "2020-04-01T15:46:33.708964Z"
    }
   },
   "outputs": [],
   "source": [
    "import en_core_sci_md\n",
    "\n",
    "nlp = en_core_sci_md.load(disable=[\"tagger\", \"parser\", \"ner\"])\n",
    "nlp.max_length = 2_000_000  # maximal number of characters in text"
   ]
  },
  {
   "cell_type": "code",
   "execution_count": 137,
   "metadata": {
    "ExecuteTime": {
     "end_time": "2020-04-01T15:46:43.396709Z",
     "start_time": "2020-04-01T15:46:43.391448Z"
    }
   },
   "outputs": [],
   "source": [
    "def spacy_tokenizer(sentence):\n",
    "    return [token.lemma_ for token in nlp(sentence) if not (\n",
    "        token.like_url or\n",
    "        token.like_email or\n",
    "        token.like_num or\n",
    "        token.is_stop or\n",
    "        token.is_punct or\n",
    "        token.is_space or\n",
    "        token.is_bracket or\n",
    "        token.is_punct or\n",
    "        len(token)==1)]"
   ]
  },
  {
   "cell_type": "code",
   "execution_count": 7,
   "metadata": {
    "ExecuteTime": {
     "end_time": "2020-04-01T14:28:40.709694Z",
     "start_time": "2020-04-01T14:28:23.204229Z"
    }
   },
   "outputs": [],
   "source": [
    "vectorizer = joblib.load('1_topic_modeling_lda/tf_vectorizer.csv')\n",
    "lda = joblib.load('1_topic_modeling_lda/lda.csv')"
   ]
  },
  {
   "cell_type": "code",
   "execution_count": 8,
   "metadata": {
    "ExecuteTime": {
     "end_time": "2020-04-01T14:28:40.715763Z",
     "start_time": "2020-04-01T14:28:40.712466Z"
    }
   },
   "outputs": [],
   "source": [
    "lda_model = LDAModel(vectorizer, lda)\n",
    "lda_embedder = Embedder(lda_model)"
   ]
  },
  {
   "cell_type": "code",
   "execution_count": 138,
   "metadata": {
    "ExecuteTime": {
     "end_time": "2020-04-01T16:09:39.680124Z",
     "start_time": "2020-04-01T15:46:46.074677Z"
    }
   },
   "outputs": [],
   "source": [
    "query_machine = QueryMachine(lda_embedder, df_docs, 'text', jensenshannon)"
   ]
  },
  {
   "cell_type": "code",
   "execution_count": 139,
   "metadata": {
    "ExecuteTime": {
     "end_time": "2020-04-01T16:09:39.691897Z",
     "start_time": "2020-04-01T16:09:39.685877Z"
    }
   },
   "outputs": [],
   "source": [
    "query = \"Inhibition of N-glycosylation (using N-glycosylation inhibitors or Lectins) is a potential therapeutic approach for COVID-19 therapy.\""
   ]
  },
  {
   "cell_type": "code",
   "execution_count": 140,
   "metadata": {
    "ExecuteTime": {
     "end_time": "2020-04-01T16:09:41.100199Z",
     "start_time": "2020-04-01T16:09:39.696627Z"
    }
   },
   "outputs": [
    {
     "data": {
      "text/plain": [
       "Index(['2ebbf143f9b3fd5c5e5c7e74cc939d1420bc7de1',\n",
       "       'e888985a66c69031003933c33f92352a8c76ad0d',\n",
       "       '3549df51a2aae3cc1a6e775f0bbfd1386334665c'],\n",
       "      dtype='object', name='sha')"
      ]
     },
     "execution_count": 140,
     "metadata": {},
     "output_type": "execute_result"
    }
   ],
   "source": [
    "doc_ids = query_machine.get_top_k_docs(query)\n",
    "doc_ids"
   ]
  },
  {
   "cell_type": "code",
   "execution_count": 141,
   "metadata": {
    "ExecuteTime": {
     "end_time": "2020-04-01T16:09:41.121115Z",
     "start_time": "2020-04-01T16:09:41.102312Z"
    }
   },
   "outputs": [
    {
     "data": {
      "text/html": [
       "<style  type=\"text/css\" >\n",
       "</style><table id=\"T_3184eb16_7433_11ea_8ec2_0242ac110009\" ><thead>    <tr>        <th class=\"col_heading level0 col0\" >title</th>    </tr></thead><tbody>\n",
       "                <tr>\n",
       "                                <td id=\"T_3184eb16_7433_11ea_8ec2_0242ac110009row0_col0\" class=\"data row0 col0\" >Biological importance of marine algae</td>\n",
       "            </tr>\n",
       "            <tr>\n",
       "                                <td id=\"T_3184eb16_7433_11ea_8ec2_0242ac110009row1_col0\" class=\"data row1 col0\" >Genus Psoralea: A review of the traditional and modern uses, phytochemistry and pharmacology</td>\n",
       "            </tr>\n",
       "            <tr>\n",
       "                                <td id=\"T_3184eb16_7433_11ea_8ec2_0242ac110009row2_col0\" class=\"data row2 col0\" ></td>\n",
       "            </tr>\n",
       "    </tbody></table>"
      ],
      "text/plain": [
       "<pandas.io.formats.style.Styler at 0x7f8c311ff518>"
      ]
     },
     "execution_count": 141,
     "metadata": {},
     "output_type": "execute_result"
    }
   ],
   "source": [
    "df_docs.loc[doc_ids][['title']].style.hide_index()"
   ]
  },
  {
   "cell_type": "code",
   "execution_count": 142,
   "metadata": {
    "ExecuteTime": {
     "end_time": "2020-04-01T16:09:41.637085Z",
     "start_time": "2020-04-01T16:09:41.122866Z"
    },
    "scrolled": true
   },
   "outputs": [
    {
     "data": {
      "text/plain": [
       "(['The above data proved that the probability of finding bioactive compounds from dinoflagellates is very high.',\n",
       "  'The medicinal herbs have been a major source of biodynamic compounds of therapeutic value in Ayurveda, Unani, Homeopathy, Traditional Chinese medicine (TCM) and other traditional system of medicines. Several dreadful diseases including cancer, AIDS, kidney',\n",
       "  ', 8,11,13-tetraen-7- one 29:100 activity in EBV assay system 29:100 Ent- , 13(15)-dien-16,12- olide (jolkiolide E) 9:283, 284, 11, activity in EBV assay system 29:99 18-nor- 11, 7c~, triol 29:99 activity in EBV assay system 29:99 Abieta- 8,11,13-triene-7cz, 15,18-triol 29:99 activity in EBV assay system 29:99 Abieta- 8,11,13-triene-7c~,l 5,18-triol 7- 816 from (15R)-I 5-acetoxy-15,20dihydro catharanthine 14:815,816 1 ot-Acetoxy-20Ctv-hydroxy-24tx,25 c~epoxywitha-5-ene-22,26-olide-413-0glucopyranoside 4, trien-3-one 11:398 (+)-1-Acetoxy-2-epipinoresinol 5:538-540 1 ct-Acetoxy-2ct,6 [3,9[3-trifuroyloxy-4[3- hydroxy-dihydro- [3-agarofuran 29 :87 4-Acetoxy-3 [ 1 \\'-tert-butyldimethylsilyloxy) ethyl]-2-azetidinone 4:448 20S-Acetoxy-3 [3-16-dihydroxylanost-7- en-18-oic acid-18,16-1actone 7:~269 3-Acetoxy-4-hydroxybenzaldehyde 8:166,167 9ot-Acetoxy-4 [3,15- 8ot-Acetoxy-6-epi-tannunolide A 27:583 1-Acetoxy-6cx-hydroxy-germacran-1(10), 3(4)-dien-8,12-olide 27:561 16-Acetoxy -7,8-epoxy-3,12- dolabelladien-13-one 20:491 2-Acetoxy-8,13-dihydroxy-11-epi APO 13:522 12-Acetoxy-8,13-dihydroxy-11-epiapotrichothec-9-ene 9:20 7fl-Acetoxy-8,13-epoxy-1 a,6/3,9 atrihydroxylabd-14-en-11-one 25:256 1 , 7-diene-8-12-olide 20:660 3 [3-A c etoxy-8 [3-i s obutyrylo xy-re ynos in 29:87 activity in Mam-2 assay system 29:87 activity in DIF assay system 29:87 15-Acetoxy-9ct-hydroxy-8 [3-methacryl- oyloxy-14-oxo-acanthospermolide 29:89 activity in NFkB assay system 29:89 15-Acetoxy-9cz-methacryloyloxy-8 f3hydroxy-14-oxo-acantho-spermolide 29:89 activity in NFkB assay system 29:89 5-Acetoxyarctigenin monoacetate 18:601 6\\'-Acetoxyavarol 15:301 1-Acetoxybutadiene 1:571 l\\'-Acetoxychavicol acetate 23:800 25-Acetoxycholesta-1,4,6-trien-3-one 11:385 2tx-Acetoxycholestanone 18:888 2[3-Acetoxycholestanone 18:888 3-Acetoxycostunolide 29:89 activity in NFkB assay system 29:89 (+)-Acetoxycrenulide 18:22-28 15-Acetoxy-eremantholide B 29:89 activity in NFkB assay system 29:89 activity in TNFet assay system 29:89 l\\'-Acetoxyeugenol 23:800 12-Acetoxyfamesol acetate 27:586 3-Acetoxyflavanones 30:729 structure of 30:729 tx-Acetoxyfuranone 12:14 3-Acetoxyguaiazulene 14:321 23S-Acetoxyholost-7-en-3 [3-ol 7:273 613-A cetoxyho lo sta-7,24-dien-3 [3-ol 7 :275 23 S-Ace to x yho losta-7,25 -dien-313-o 1 7:273 16otAcetoxy-holosta-7-en-3b-ol 7:277-1-Acetoxyisocomene 3:6,60 6-Acetoxyldihydrochelerythrine 27:168 313-Acetoxymalabarican-14(26), 17E,21triene 27:591 ent-13-epi-12a-Acetoxymanoyl oxide 25:273 10-Acetoxymenthol 25:160 6-Acetoxymethyl-2,6-dimethyl-9methoxy tricyclo [5.3.01\\'5] undec-9en-8,11-dione 8:163 5-Acetoxymethyltrachelogenin 18:602 5-Acetoxymethyltrachelogenin monoacetate 18:602 9a-Acetoxy-miller-1 (10)-Z-enolide 29:89 activity in NFkB assay system 29:89 13-Acetoxymodhephene 3:6,61 18-Acetoxy-Na-deacetylisoretuline 1:38-39 18-Acetoxynorfluorocurarine 1:38-39 (+)-1-AcetoxypinoresinoI- [3-D- 3 \", 2\\', 3\\', 6\\', 2, 4:306 Aminoalkylindoles 30:196, 197, 198 as cannabinoid receptors ligands 30:197 Aminoalkylindoles 30:196, 197, 6:551,7:32-36,39;10:496-498; 8:343 ;24:995-998;25 :719 enzymatic activity of 24:995-998 a- 10:242, 243, [504] [505] [506] [507] 514, 13:195; 16:8622:622; 27:330, 331 in aleurone protoplasts 27:331 13-Amylase 7 :33,58,59,10:497;16 :86 ~-Amylase inhibitor 13:189 acarbose as 13:189 Amyloglucosidase 7:13, 10:567, 357, in starch 7 :6 Amylose 5:288, 291, 292, 7:6, 10:496, 497 Amylostatins GXGGG 10:509 inhibitory activity of 10:509 Amylostatins GXG 10:509 inhibitory activity of 10:509 Amylostatins GXGG 10:509 inhibitory activity of 10:509 Amylostatins XG 10:509 inhibitory activity of 10:509 synthesis of 10:507-511 Amylostatins XGG 10:509 inhibitory activity of 10:509 Amylostatins XGGG 10:509 inhibitory activity of 10:509 (x- 633;30:193,194,204,799 alkaloid 30 673 ;23:153, 180;26:32,56;30:195,198-201,817 ofbarbatosides A and B 30:191, 192, 203 development of 30:192, 203 use of 30:191 Analgesic effects 26:401, 403, 404, 406, 416, 418; 30:205, 208 1, 4:5, 6:5,6,29 ,30 of cyclopentane ring system 6:6-8,30 ,31 of enolate 10:414,415 of methylenecyclohexane 6:21, 856,857 ;26:226,1002;28:140,688; 30:328,738 of 1,2,3- 11:130;12:192; 17:283 ;21:188,202,223,239,364,437; 23:649;24:953-954 21:186,192,197, 203,206,213,214,218,221,226,227, 233-235,223,238,240,389,391,399, 404,405,435,599-662 ;22:626;23:3,4, 271,341,344,348,468,473,798,801, 354,368 ;26:227,228,553,1098 ;28:4; 66,473,475,686;30:327,738,629 against Candida albicans 30:327,629 from Hypericum roeperanum 30:629 of (E)-8(17), 12-1abdadiene-15,16-dial 23:798 47 of (E)-8b, 17-epoxylabd-12-ene-15,16-deol 23:798 of (E)-813,17-epoxylabol-12-ene-15,16-dial 23 :798 of 2-hydroxynagilactone F 28:475 of 2-thioxopyrrolidines 26:1098 of 3,4,3 \\',4\\'-tetramethoxylignan-7-ol 26:228 of 3,5\\'-diallyl-2\\'-hydroxy-4- methoxybiphenyl 24:861 of 3,5- 132, 133,149,252,269,664,665 ;23:316, 533,534,687,704 ;24:742,743 ;30:226, 396,397 Anti-lactose antibodies 29:538 Antileishmanial activity 21:674,744; 26:229,790,813,887,789,790,791, 800,805,807,810,811,821,828,830 5:752;10:443; 15:327-339;18:776-778;21:153, 235,257,401,571,573,591,596,597, 599,606;22:626;23:94,153,180,233, 237,249,262,268,267,346,353,522; 24:64,69,206,330,331-334,402,403, 404,406,417,418,443,470,485,859, 1091,1092,1189;26:64,330,401,402, 1189;27:807;28:62,224,257,293,698, 671 against Candida albicans 5 21:599,600,618; 22:308,321,345;23:395,534,535,742, 772,773,845 ;25:59;26:250,255,509,5 56,672,763,768,887,1005,1006;28:4, 16,17,63,179,257,293,773 ;30:173, 224,225,289,320,321,524,561, 5:461,563;10:608, 609,619,620;17:146;21:132,148, 150,393,435,600,615,662,690,718; 22:307,361 ;23:233,268,233,346,395, 473,512,531,703;25:114;26:169,222, 224,226,344,452,741,759;27:482; 28:257,293 ;30:224,324-326,393,394, 395,398,401-405,407,410-412,627 of (-)-aristeromycin 10:609 of (+)-C-2\\'-ara-fluoroguanosine 10:609 of 2-amino oxetanocin-A 10:620,621 of 3\\',4-O-dimethylcedrusin 61 22:361 of 3\\'-azido-3\\'-deoxythymidine 10:585 of aciclovir (9-[2-hydroxyethoxy) 7:136,139;22:312;23:163; 30:433 reaction of 30:433 L- Arabinose 7:144, 181, 294, 298; 11:7, 8;  30 21:657,744;25:66, 263,274,275,333,596,597,616,66; 26:758,759;27:422;30:192,225 6:153;20:577,578,588, 607;21:298,299,304,305;30:518,520, 533,538 7:288;15:58,69;28:718 Asterias rubens 6:151, 152, 156, 161; 7:288, 294, 304, 306; 15:48 Asterias vulgaris 7:288,291,304;15:59; 28:718 Asterina pectinifera 7:289;15:44,48,55; 25:698 Asterinic acid 6:161 Asterogenol (20R-5c~-pregn-9(11)-ene-3~,6c~,20-triol) 7:288, 291 Asteroidea 7:265, (11)-en-20-one) 7:290,291 (+)- Asterosaponin 7:285, 288, 290, 291, 294, 7: 303,304 Asterosaponin 1 (forbeside C) 7:287, 288,293 Asterosaponin A and B 7:286,303 from Asterias amurensis 7:286,303 Asuka [744] [745] [746] [747] [748] [749] [750] [751] [752] [753] [754] 761, 766, 767, 772, 773, 775, 777, 780, 781 by diastereofacial selection 13:62-70 by enantiofacial selection 13:70-73 by enantiotopic discrimination 13:60-62 of (+)-azaisopicrostegnane 24:775,777 of conidendrin 24:772,773 of 2,3-dibenzylbutyrolactones 24:744-754 of(+)-gomisin A 24:775-777 of (+)-isolarresinal 24:767 of (+)-isoschizandrin 24:775,777 of (-)-isoschizandrin 24:780,781 of (+)-paulownin 24:761,766 of (-)-podophyllotoxin 24:767, 775 of (+)-schizandrin 24:775-777 of (-)-schizandrin 24:780,781 of paraherquamide A 28:331,367 of carbaoxirose/carbaoxetoses 29:490 of (-)-ajmalicine 14:563,564 of (-)-sibirine 14:539-544 of (+)-(S,S)-solenopsin A 6:431, 432 of (+)-castanospermine 12:346 of(+)-elaeokanine A 12:351,352 of (+)-elaeokanine C 12:351,352 of (R)-muscone 14:490 of (R/S)-1,6-dioxaspiro [4.5] decane 14:523,524 of (R/S)-1,7-dioxaspiro [5.5] of cy-symmetric ketones 11:241, 242 AT2433-AI 12:366,368 from Actinomadura melliaura 12:366,368 AT2433-A2 12:366,368 from Actinomadura melliaura 12:366,368 AT2433-BI 12:366,368 from Actinomadura melliaura 12:366,368 AT2433-B2 12:366,368 from Actinomadura melliaura 12:366,368 Atalantia ceylanica 13:348,349,356 1,5-dihydroxy-3-methoxy-10methylacridin-9-one from 13:348,350 11-hydroxynoracronycine from 13 :830 Attanuatoside C 7:295, 296, 300 Atta-ur-Rahman synthesis 14:850 of (+)-16-hydroxydihydrocleavamine 14:850 of (+)-16-methoxycarbonyldihydrocleavamine 14:850 of (+)-coronaridine 14:850 of (+)-dihydrocatharanthine 14:850 of (+)isovincadifformine 14:850 of (+)-c~-dihydrocleavamine s 14:850 of (+)- [3-dihydrocleavamine s 14:850 of anhydrovinblastine 14: [857] [858] [859] from Hacelia attenuata 7:295 Attenuatoside A- 299, 296, 296, 296 ,300 Attenuatoside C 15:61 from Hacelia attenuata 15:61 Atuna racemosa 29:708 Aucubigenin 7:478 Aucubin 7:440, 455, 465, 472, 473, 476, 478, 479, 480, [481] [482] [483] 29 7:90 Avarol 5:430, 431, 438, 439; 9:30, 31; 15:238, 252; 21:252; 25:697; 29:111 activity in CRG bioassay system 29:111 activity in TPA bioassay system 29:111 Avarol monoacetate 15:300 Avarone 5:430, 431, 434, 438, 439; 15:301, 314; 21:252; 25:697; 29 13:87;4:437,441,448,450, 452-454,457,458,461-466;8: 25:95, 104, 105, 115, 116, 118, 203, 226 Azukisaponin V 25:104, 115, 116, 118, 120, 203 :4, 9; 12:179 Baccatin III 11:3, 4, 179, 180; 12:179, 180; 20:81 ; 22:218; 23:490, 491 ; 25:245 (5,7dihydroxy-6,4\\'-dimethoxy- flavone) from 30:725 pe dunletin (5,4 \\'-dihydro x y-3,6,7- trimethoxyflavone) from 30:725 salvigenin (5-hydroxy-6,7,4 \\'trimethoxyflavone) 5:302,304,368,418, 308,353;8:353;10:117,104,400,345, 692,290,556,559;18:778;21:237,262, 266,267,284,610;22:627,628;23:41, 344,473 ;24:713;25:220,258-260,765, 770,776-779,782,789,792,863 ;26:79, 333,334,1093 ;28:223,693 ;29:272; 30:629,693, 4:158, 263, 324, 325, 340, 341, 410, 542, 543, 552, 553 ; 6:13; 10:410; 13:58, 59, 307, 309; 20:573, 593, 818, 820; 25:143, 145 Baker\\'s yeast reduction 13:662, 176 Balaenonol 5:744, [747] [748] [749] 149, 150, 152 trans-BC-ring fusion 12:205 stereochemistry of 12:205 BCA method 25:433 BCAs 21:182, 191, 193, 202, 203, 218, 224, 226, 229, [190] [191] 195, [196] [197] [198] [199] [200] [201] [202] [203] [204] [205] [206] [207] 195, 196 DIM2BOA 27:191 DIMBOA 27:191, 195, 196 HBoA 27:191 HDMBoA 27:191 synthesis of 25:128,129, 294,300,329,401,659,661,662 Biogeneration 13:295-345 of flavors 13:295-345 Biogenesis 23:204,211,253,255,395-453 ; 26:141,142,313,314,405,465, 552,1054 132,148,162, 223,236,23 8,263,265,269,284,297, 366,388,390,410,419,421,431,571, 578,591,598,601,603,620,694;23:63, 93,95,108,111,129,126,107-152,153, 158,179,267,271,285,395-453, 455-485,491,497,642-643 ;739;24:25, 353-376;799,845;27:178,185-225, 332,377,431,421,443,659693,778, 801,924;28:109,212,228,229,340; 29:743 ;30:4,26,172,175,200,224, 303,310,395,404,483,484,485,495, 496,497,499,562,588,603,637,831, 840,843 (ABI-I) as 29:598  I-A, I-B, I-A\\', II, II\\', I I-A (7R,8S,7\\'R,8\\'R) - 195, 509, 599; 26:321, 324, 326, 329 5:467,469,474,479,111, 119,579,36;22:126,346,645,663; 23:537,551,740,744 ;25:655,657,663, 671,919,920,922-927,932-934, 936-938;28:262;29 3-epi-2-deoxy-20-hydroxyecdysone activity in 29:26 25-deoxy-7,8-dihydro-ecdysone activity in 29:26 2f3,14c~,-dihydroxy-5 a-cholest-7en-6-one activity in 29:27 6-oxo-3 c~, 14ot-dihydroxy-5 [3- cholenoic acid methyl ester activity in 29: 27 3-oxocholest-dihydroxy-cholest-4,7-dien-6-one activity in 29:27 313,14c~-4,6,8(14) -triene activity in 29:27 3 [~, 7 e-dihydroxychole st-5-ene activity in 29:27 ( 2 5 R/S) 2 0,2 6-dih ydro x yecd yso ne activity in 29:26 20-(2\\',2\\'-dimethyl-(22R)furanyl) ecdysone activity in 29:26 6,24-dioxo-3 [3,14t~-dihydroxy-513-chol-7-en-24 -dimethylamine activity in 29:27 ecdysone activity in 29:26,28 3 [3-ethoxy-14 ot-hydroxy-5 ~-cholest-7-en-6-one activity in 29:26 for Bombyx mori pupae\\'s ecdysone 29:25 for Calliphora erythrocephala 29:25 14c~-hydroxy-3c~,5 ~cyclocholest-7-en-6-one activity in 29:27 3-oxo-14~-hydroxy-5 f3-cholest-7-en-6-one activity in 29:26 14~-hydroxy-5 [3-cholest-7-en-6one activity in 29:26 3 [3-hydroxy-5 ~-cholest-7-en-6- one activity in 29:26 3 ~-hydroxy-5 [3-cholest-8,14dien-6- [3-methoxy-14c~-hydroxy-5 [3- cholest-7-en-6-one activity in 29:26 24R-methyl-2 [3,14c~-dihydroxy-5~-cholest-7,22-dien-6-one activity in 29:27 3 ct-methyl-3 ~, 14c~-dihydroxy-5[3-cholest-7-en-6-one activity in 29:26 5 [3-methyl-3 [3,14~-dihyroxy- cholest-7-en-6-one activity in 29:27 2ct,3 ~, 14ot,20R,22R-pentahyd-roxy-5 [3-cholest-7-en-6-one activity in 29:26 213,313,20R,22R,25-pentahydroxy-5 [3 - 4-nor-3 [3,14ot,25-trihydroxy-5 [3cholest-7en-6-one activity in 29:27 313,5(x, 14 c~-trihydroxy-cholest-7en-6- 6, 20:586 Camphor 7:95; 9:530, 536; 16:123, 124; 20:16; 25:125, 128, 154, 156, 547 721, 725; 26:299, 560; 7:20, 98, 318, 319, [334] [335] [336] [337] [338] [339] [340] [341] [342] 344; 17:611, 612, 708; 20:720, 721, 725, 732, 735, [746] [747] [748] 760; 21:304 ; 25:236; 26:299, 300, 305; 30:516, 5 20, 524, 537, [539] [540] [541] [542] [543] [544] 546 2:370373,381,383,385, 390,392,398,39,400,401,402 ;4: 31, 32; 13:663;14:809,810,820,821, 854-859,869-873 ;26:139;27:747,782 15\\',20\\'- -2,7,11-triene-4,6-diol 29:100 activity in EBV assay system 29:100 activity in PKC assay system 29:100 activity in skin-1 assay system 29:100 activity in ODC assay system 29:100 7, activity in EBV assay system 29:100 activity in skin-1 assay system 29:100 activity in ODC assay system 29:100 Cembradiene hydroxy ether 15 7:190-192,194,195;21:80; 25:300,305,311 ;26.\\'467, 817, 868 Cholest-5-ene-24-0ne-313,7oc-diol 4[3, 21disulphate 15:98 from Ophiura sarsi 7ot, from Salvia glutinosa 20:707 Cholest-7-enyl linolenate 9:470 5 oc-Cholesta-9(11),24(25)-dien-3 ~, 6or 20,22-tetraol aglycone 15:49 5cx-Cholestan-3-one 2:168 octant rule in 2:168 5 cc-Cholestan-3 [~,6cc, 8,15o~, 16[3,25hexaol 15:77 from Protoreaster nodosus 15:77 5ot-Cholestane 20:248 Cholestane glycoside 21:636 5ot-Cholestane-3 [3,5,6[3,9-tetrol 23:159 5 [3-Cholestane-3 cc,4a, 11 [3,12[3,21pentaol 3,21-disulphate 15:96 5 [3-Cholestane-3 oc,4c~, 1113,21-tetraol 3,21-di-sulphate 15:96 (25R) 5 6[3, 15ct, 16[3, 26pentaol 15 :75 (25R) 5c~-Cholestane-3 [3,5,6[3,15c~, 1613 26-hexaol 15:75 (24S) 5c~-Cholestane-3 f3,6ct, 8,15 [3,24- pentaol-aglycone 15:61,68 Cholestanepentols 17:214 5a/513Cholestanols 9:454 steryl palmitates of 9:454 Cholestanyl palmitate 37, 447, 449, 454, 461, 462, 464 2:153,159-61,165, 166,169-173,226,227,137,140, 149,264,390,539,542;15:193,194; 423-438;22:374;26:550,551 1:43,45,78,91, 172,173,180,181,230,243,251,457, 459,471,563 ;8:180;11:471 ;13:29,30, 135,142,358,417,437,438,443,613; 16:260,340,439,471,623,627,703, 712;19:229;20:66,67 ;24:47,756,758 [3,3] incremental effects of 9:275-280 of ~-pipitzol benzoate 5:787 of (+)-1-acetoxypinoresinol 5:533,534 of (+)-1-fraxiresinol 5:535 of (+)-1-hydroxypinoresinol 5:534 of (+)-epi-pinoresinol 5 1:182,236,416, 566,567 ;3:47,98,139,190,191,249, 372;7:216 5:5,6 Coumarinolignans 5:3,5,8,9,495,496 Coumarins 4:3,5,8,9,202,204-206,220, 224,225,367,372,375,377,389,391, 399,400,495,496,505,517-521, 574-575,971-1080; 9:113-116,529; 20:283,497 8:45,185,207;11:15-20,45-47; 12:116,150-152,160,161,173,193, 416;15:266;16:127,470 Cycloasgenin C 25:185 Cycloastragenol 25:179, 184, 185, 186, 187, 190, 191, 192, 215, 217, 189, [192] [193] [194] [195] [196] [197] of (-)-deoxypodophyllotoxin 30:589 of (-)-hernone 30:590 of (-)-nymphone 30:590 of (-)-yatein 30:590 of (+)-corytuberine 30:589 of (+)-epiaschantin 30:590 of (+)-epimagnolin 30:590 of (+)-epiyangambin 30:590 of (+)-hernovine 30:589 of (+)-laurotetanine 30:589 of (+)-magnoflorine 30:589 of (+)-malekulatine 30:590 of (+)-N-formyldehydroovigerine 30:589 of (+)-N-formylnornantenine 30:589 of (+)-N-formylovigerine 30:589 of (+)-N-hydroxyhernangerine 30:589 of (+)-N-methylhernangerine 30:590 of (+)-ovigerine 30:590 of (+)-ovihernangerine 30:590 of (+)-vateamine-2\\' [3-N- 5:388;21:134,136,150, 174,257,259,260,262,263,265,267, 269,270,271,273,274,284,311,364, 410,634,643,656,661,690,704,744; 23:96,97,187,218,238,249,250,253, 255,272,274,277,290,292,299,308, 317,701,274 ;24:294,352,740,867; 26:212-213,1185 ;27:94,924,926; 28:118,121 ;30:27,59,226,560,588, 593,596 20:194, 242, 246 Daturalactone B 20:194, 223, 241, 246 Daturalactone C 20:180, 241 (-)-9-Demethyl-7,9-dimethoxynogarene 14:82 9-Demethyl-9-hydroxy-7-methoxynogarene 14:82 Nb-Demethylalstophylline oxindole 5:159-161;9:196,197 (+) -Demethylaspidospermidine 5:127 Demethylated gardenin A (5,6,7,8,3\\',4\\', 5\\'-nonahydroxyflavone) 3:20;22:196,197,200,204, 213,214 20:769,770; 21:211,434;24:8-10,27-31,195-196,762,763,766,768;26:172 3:79,80;8:403-406;10:51, 52,155,156;11:11,92,93,99-108; 12:253;13:108,117-141,144, 149;14:735;19:11,464 umshiol-type 30:116 1 ct-25-Dihydroxy-(24R)-fluorocholecalciferol 10:57,69 3,6-Dihydroxy-1,7-dimethoxyxanthone 30:622 3c~, 13-Dihydroxy-11-epi-apotrichotec-9ene 9:210 3[3,13-Dihydroxy-11-epi-apotrichotec-9ene 9:210 2ct, 13-Dihydroxy-11-epiapotrichothecene 13:520 2[3-13-Dihydroxy-11-epiapotrichothecene 13:520 10-Dihydroxy-11-methoxydracaenone 5:17,18,20,22 ,556 ent-12or, 16-Dihydroxy-13 [R] 655 5, 7, 8, 5:655 5, 7, 4, 15 5, 627, 628, 640 5, 657 213,413-Dihydroxy-6-deoxy-celorbicol 18:744 5,7-Dihydroxy-6-methoxyflavonoid 5:640 11, 11, abietatriene 29:99 activity in COX assay system 29:99 1 [3,4c~-Dihydroxy-6a-angeloyloxyeudesm-11 (13) [3, 6o~olide 27:562 7(x, 11, activity in EBV assay system 29:99 from Larix kaempferi 29: 99 15, 11, one 29:99 activity in EBV assay system 29:99 18-nor-4ct, 11, 7, 8, f] [5.5] undecane 1:692 3,7-D imethyl-1,7-octanedio 1 25:133,136 2,6-Dimethyl-l, 138 12, 1, 2:402,403,404;5:3,31-37;6:110,7:102,121,122,187-189;15:252-260;17:8,11-15,27,148; 18:756 ;21:234 ;22:379;23:488,682; 24:196-202 20:191, 194 Dunawithanine A, B 20:191 from Dunalis australis 20:191 6:39,40,86, 87,443;12:281,311,312;14:14-17, 546,741,742 ;22:235 ;24:185 ;29:244, 490 ,492 of (-)-( 1R-8aS)-1-hydroxyindolizidine 12:281 of (-)-slaframine 12:311,312 of (-)-y-rhodomycinone 14:14-17 of (+)-( 1S,8aS)-1-hydroxyindolizidine 12:281 of (+)-stoechospermol 6:39,40 of 2,5- 11:470;16:571;24:30-32, 62,63,65,66,68,72,73,87,110-112, 175,188-190 14(x, 17[3, tetrahydroxy-with-24-enolide 20:245 5 [3, dioxowitha-2,24-dienolide 20:234 (+)-7,8-Epoxy-2-basemen-6-one 16:226 Epoxy-3 [3,4a, 10a-trihydroxyguaian-6or, 12-olide 27:579 1 [3, germacra-4Z-en-12,613-olide 27:563 2~,5-Epoxy-5,10-dihydroxy-6~angeloy-loxy-913-isobutyloxygermacran-8c~, 12-olide 29:89 activity in iNOS assay system 29:89 activity in NFkB assay system 29:89 7 c~, 8 ot-Ep oxy-6 c~-hydroxyabieta-9(11), 13-dien-12-one 29:99 activity in EBV assay system 29:99 3,4-8c~-Epoxy-8-deoxycumambrin 27:577 9,10a-Epoxy-9,10-seco-abieta- 8,11,13trien-18- 4:433;5:367,429,434; 7:39,44,46,50,52,54 ;9:293,308,537,5 92,593,596,603,604,606;8:102;11:18 2,214;12:63,95-109;13:157,162,164, 261,262,283;17:378;18:709,722,727, 921 ;19:601 ;20:712;21:174,175,299, 573,600;22:623,627;23:67,137,235, 474,533;24:713;25:257,319,765,775, 925,948;26:330,331,333,402,556, 605,802,1092,1093,1135,1263,1269, 1271,1272,1274,1278;27:305; 28 propinoate 20 13;14,15- diepoxy-13-epi-labdan-3p-ol from 29:102 ent- 13-epi-8,13-epoxy-2,3- secolabd-14-ene-2,3-dioic acid 3-methyl ester from 29:102 ent- 13-epi-8,13- 4:29, 130, 197, 198, 198 5:197, 198 Guaianin A2 5:197, [198] [199] 199 Guaianin E 5:199, 200 Guaianins A-L 9:51,52,54-58 5:190;21:68,89,96,97,102, 108,109;22:24,36;25:533,537; 26:828,829 as immunosuppressive drug 25:537 tautomerism of 5:190 Harman 5:353; 18:726; 26:828, 829 from 16:367,391,400,412,416, 418,427,429,430,432,435,438,439, 447;18:96;19:22,78,279 7:427, 20:6; 21:642, 662, 674 ; 24:132, 133 ; 26:813 ; 29:586 Hederagenin 7:134, 135, 429, [431] [432] [433] 9:61, 62; 21:656, 665 Helicobacter pylori 13:183;22:432; 25:611,617,618,778;26:693;30:338 Helicobacter pylori 469, 541, 618; 26:757, 762 Hesperidin 22:325, 423, 429, 436; 23:747; 26:744, 745, 752, 759, 766, 768 Hesperidin (3\\', 5, 15:33 4,4\\',5,5\\',6,6\\'-Hexahydroxydiphenic acid dilactone 27:755 3,5,7,8,3\\',4\\'-Hexahydroxyflavone 8-0glucoside) 29:572 313,1613 ,2113 8:316, [318] [319] [320] [321] 324, 326, 330, 331, [333] [334] [335] [336] [341] [342] [343] 346 Hexanortriterpenoid 9:102, 297, 135 CD correlation 3:7,12;22:195,201 synthesis of 3:7,12,13,17,18, 20,22,40,65;4:588;13:34-37 (+) Histamine 15:328; 21:10, 14, 19, 50, 660; 22:111, 136, 437; 25:516, 520, 532, 536, 538, 612, 613, 701, 719; 30:192 of 5, 7, 2 \\', 13, 15, 21, 25, 29 5:146,149;9:25,26,28, 402;12:313;15:76,270,475;20: ,590 activity of (-)-deoxypodophyllotoxin in 30:589 activity of (-)-hernone in 30:590 activity of (-)-nymphone in 30:590 activity of (-)-yatein in 30:590 activity of (+)-corytuberine in 30:589 actwity of (+)-epiaschantin in 30:590 actwlty of (+)-epimagnolin in 30:590 actwlty of (+)-epiyangambin in 30:590 actwlty of (+)-hernovine in 30:589 actwlty of (+)-laurotetanine in 30:589 actwlty of (+)-magnoflorine in 30:589 activity of (+)-malekulatine in 30:590 activity of (+)-N-activity of hydroxyhernangerine in 30:589 activity of (+)-N-formylnornantenine in 30:589 activity of (+)-N-formyldehydroovigerine in 30:589 activity of (+)-N-formylovigerine in 30:589 activity of (+)-ovigerine in 30:590 activity of (+)-ovihernangerine in 30:590 activity of (+)-vateamine-2\\'~-Noxide in 30:590 activity of 7-formyldehydrohemangerine in 30:589 activity of 7-formyldehydronornantenine in 30:589 activity of 7-formyldehydroovigerine in 30:589 activity of 7-hydroxy-6-methoxy- 15:472 Humantenine-type oxindole alkaloids 197; 15:472 6:276,426,435,451,168, 169; 19:6,36,38,42,104,332,362, 367-368,371 ;21:200 [2,3-b] furan -4,9- 1083 ,1084 ,1087 ,1092 ,1093 ,1095 , 1096 ,1099 ,1100 ,1102 ,1103 20S-Hydroxy-1,2-dehydropseudoaspidospermidine 5:126; 7ctH, 8,  11 ~H-eudesm-4(15)-en-8,12-olide 27:552 1-Hydroxy-11 -methoxycanthin-6-one 7:389,390 12-Hydroxy-11-methoxydiaboline 9:189 10-Hydroxy-11-methoxydracaenone 5:17-20 12-Hydroxy-11-methoxyhenningsamine 9:27 12-Hydroxy-11-methoxy-N-acetyl-nor-C-fluorocurarimine 26:1052,1053 12-Hydroxy-11-methoxy-nor-Cflourocurarine 26:1052 19-Hydroxy-11-methoxytabersonine 2:375 10-Hydroxy-11-methoxytabersonine 5:128 6-Hydroxy-12-tridecene 9:241,243 3 14, 15, 613) , ( 12, 17 )-diolide 28:508 synthesis of 28:508 Ent-16-Hydroxy-13 [R] 19R-Hydroxy-20-epi-ibophyllidine 5:127 19S-Hydroxy-20-epi-ibophyllidine 5:127;9:190,192 18-Hydroxy-20-epi-ibophyllidine (+)-19-Hydroxy-20-epi-pandoline 5:124 19-Hydroxy-20-epipandoline 539, 194, 5, 9, 7, 3\\', 4\\', 7, 7, 8, 7, 11, activity in EBV assay system 29: activity in TPA assay system 29:89 activity in PKC assay system 29:89 activity in CRG assay system 29:89 1-Hydroxyacridin-9-one (N-methylnoracridin)-9-one 13:348, 362, 358, 366, 509, 511, 513, ( Hypericum perforatum 5:656,758; 21:541 ;22:643,653,661,664,666,672, 673,675,676,679-690;25:557;29:580; 30:407,603,604,605,609,610,616, 618,619,622,624,626- 1:196,197,205,206 trans-to-cis- 1:31-34;2:172,173;5:3, 69-134,389,390,443,444 ;9:85, 163-199;13:70,92,93;10:407,411; 14:703-730 aspidosperma 13:70,92,93 Aspidosperma 12:332;21:98,193, 263,270,312,398,430,585,589,591, 594,643,659,670, 673,675,690 ;23:59, 216,808;26:217;28:481 [3,3 [3-dihydroxy-5 [3-cholest-7- en-6-one activity in 29:32 3 [3,14cx-dihydroxy-5 [~-cholest-7- en-6-one activity in 29:32 ecdysone activity in 29:32 3 [3-hydroxy-5 [3-cholest-6-one activity in 29:32 20-hydroxyecdysone activity in 29:32 inokosterone activity in 29:32 Kc cell bioassay as 29:30 makisterone A activity in 29:32 muristerone A activity in 29:32 podecdysone A activity in 29:32 ponasterones activity in 29:32 213,3 [3,5 [3,14cx-tetrahydro xy- cholest-7-en-6-one activity in 29:32 2 [3,3 [3,25-tridihydroxy-5 [3cholest-6- 493, 494; 704; 21:252, 254, 262, 266, 267, 269, 270, 271, 278, 285, 379, 595, 611 ; 23:666; 667, 670, 677, 678; 24:25, 799, 845, 866; 26:231, 232, 426, 471, 479, 485 Iridomyrmex humilis 5:223,225,240, 241,245,253 Iridomyrmex nitidus 5:222-224,233,253 Iridomyrmex purpureus 5:222,224,233, 253 Iridomyrmex rufoniger sp.gr. 5 20 Isocomene 3:6, 9, 15, 21, 24, 60; synthesis of 3:6,9,15,21,24 ,60 ISOCOMS (Immunostimulating complexes) 24:163 (+)-Isoconcinndiol 6:26 from Laurencia snyderae 6:26 (+)-14-epi-Isocopal- 12-ene-15,16-dial 6:108,110 (+)-ent-Isocopal- 12-ene-15,16-dial 6:108,110 (+)-14-epi-ent-Isocopal- 12-ene-15,16- 20:283 Isophytolaccagenin 7:144, 145 Isophytolaccinic acid A 7:144, 145 Isopicropodophyllone 5:481, 483; 7 c~, [2,3-b] furan 1:168;5:3,42, 494,265,266;13:642;21:107,733; 27:819,863;30:560,562,588,590,594, 597 (-) 13:410; 25:3, 13, 29 conformation 25:23 Isoretronecanol 1:231, 233, [235] [236] [237] 241, 244, [247] [248] [249] [250] [251] 253, 256, 257, 259, 260, 325, 326, 339 (+) 5:515, 516; 26:315, 332, 333, 334, 516 Isoscutellarein 5:624, 627, 215, 216, 222, 225, 227, 228; 5:754 12:379-381 K-252d 12:366,368,369,386 Nocardiopsis sp. K-290 12:366, 368 protein kinase inhibitor of 12:386 K-25a 12:366,368,369,384,390,395, 396,398 acid 29:101 activity in EBV bioassay system 29:101 (+)- , 57, 111, 117, 120, ,12(E)-) 25:266 8(17), 12 266 Labdadienoic acid 25:248 5R, 8R, 9R, 25:251 ent-Labdane 15:252; 244, 256, 259, 261, 266, 275, 276 17:198 Lactarius picinus 196, 201 Lactarius piperatus 17:197, 198 Lactarius quietus 17:196 Lactarius rufus 17:199 Lactarius scrobiculatus 17:153, 196, 197 Lactarius subvellereus 17:198 Lactarius thejogalus 17:200 Lactarius torminosus 17:196, 197 Lactarius vellereus 17:153, 196, 197 Lactarius, metabolites 7 S, 8 R, 8\\' R-(-) -Laric ires ino [1] [2] [3] [4] Larikaempferic acid methyl ester 29:100 activity in EBV assay system 29:100 Larix decidua 17:332 Larix kaempferi 29:99 Larix leptolepis 20:613; 26:185 Larmor frequency 9:127, 131 Larrea divaricata 17:315 Larrea tridentata 5:9; 26:187, 205, Larus asrgentatus 5 Lefevreiosides A~, A2, C and D 15:96 NO-Leghemoglobin complex 26:937 Legionella pneumophila 91, 139, 611; 25:92, 180, 186, 188, 246, 248, 465; 26:637, 871, 931 ; 27:443, 766 saponins from 21:642 Leguminous isoflavone reductase (IFRs) 25:319 Leishma braziliensis 18:791, 793, 794; 26:779, 780, 783, 786, 789, 790, 793, 801, 803, 805, 807, 808, 810, 821, 822, 824, 828 5:287,288,316;23:111, 115,131;25:450 1:528;5:513,9:368,559, 560;17:642;22:126,434,437;25:274, 275,939-940;30:192,225 and macrophages 30:192 [3,20[3-epoxydihydro- 13:654 Lignans 5:9, 459, 503, 753, 754, 311; 17:313, 441 ; 273, 613; 24:215, [228] [229] [230] [231] [232] [503] [504] [505] [506] [507] [508] [509] 26:229, 790, 813, 887 ; 30:560, 562, 567, 570, 590, 594 ; 24:215, [228] [229] [230] [231] [232] 26:206, 207 9:300,302,303 Limocin B 9:300,302,303 Limocinin 9:300,304,305 Limocinol (tirucalla-7,24-dien 1613-ol) 9:300,301 Limocinone 9:300-303 Limocitrin rhamnoside 25:594 Limocrocine 21:374, 405, 407 Limonen 20:6, 13, activity in lung-1, RAS bioassay system 29:83 (+)-Limonene 5:702;10:412;15:257; 21:585;27:372 Nazarov cyclization of 10:412 (-)-Limonene 16:211,216; 21:585 Limonene 16:211,221,260; 20:6,13,16; 21:574,599,600,607,614 ; 25:44,125, 133,140,145-147,149,150,15130:723 structure of 30:723 (d)-Limonene 21:585,618,621 8-Limonene 23:818 d-Limonene 27:386; 29:83 activity in AM assay system 29:83 activity in GPx assay system 29:83 activity in GST assay system 29:83 activity in NFkB assay system 29:83 activity in RAS assay system 29:83 activity in mam-1 assay system 29:83 activity in mam-2 assay system 29:83 activity in stoma assay system 29:83 477 activity in AM assay system 29:83 activity in TPA assay system 29:83 activity in liver-1 assay system 29:83 activity in lung-1 assay system 29:83 activity in AM assay system 29:83 R-(+)-Limonene 5:732, 733; 8:48; 75; 16:208, 225 ( 9:307,20:492;22:146 from Trichilia emetica 20:492 Linalool 13:332; 20:587; 21:589, 600, 602, 607, 612, 615; 22:509, 511, 537; 25:125, 136, 140, 142, 162; 26:396, 397; 28:406, 413 13:304,305,311,313,659; 21:187,189;22:317;26:361,433,434, 461;27:68 15:521 ; 27:267; 29:587, lupinine from 5:299 Lutein 7:20, 98, 320, 336, 350, 351, 352, 363, 584, 727, 733 7:318,319,321,322,327-354, 358;20:561,587,588,725;26:299,300; 30:525 in prostate cancer prevention 30:525 structure of 30:525 (7Z, 9Z, 7\\'Z, 335 from (9Z,7Z,9Z)-neurosporene 7:332 Lycopersene 7:325, 326 Lycopersicon esculentum 18:523,529, 532,533;25:294,298,657;29:591,604, 608,610 1:333, 334 Lycorine 20:234, 347, 351, 356, 367, 368, 384; 21:97; 22:29; 26:581, [609] [610] [611] [612] [613] [614] 617, 618 from Narcissus pseudonarcissus 20:233 Lycoris incarnata 20 26:434,435,437, 439,447-450,460,462,463,466,467, 469,471,473,476,483-493,1289 Meloidogynejavanica 26:429,430,456, 464,466,473,478,482 Meloidogyne spp. 26:428,430,432,437, 481 29:83 activity in GST assay system 29:83 cis and trans 25: 7, 8, 9, in Artemisia austriaca 7:207 193 4:11,18,29,31-36,39, 42,45,62,69,72,143,203-208, 216-218,235,270,278,287-289,291, 315-338;6:397,398,406 1:190,191 (-)-epi-Ophiocarpine 1:190,191 Ophiocoma dentata 7 Ophiosparte gigas 15:99 Ophioxanthin 28: 721 5,6,5 \\'-6\\'-tetrahydro-[3,[3carotene-3,4,3 \\',4\\'-tetraol 4,4 Phylum chordata 28:621 Physagulin C 20:180, 242 Physagulins E 20:194 from Physalis angulaten 20:194 Physagulins G 20:194 from Physalis angulaten 20:194 Physalis angulata 20:180,182,194,247 Physalis berghei 20:522,524 Physalis cordeana 20:470 Physalis cubeba 20:619 Physalis lancifolia 20:182 Physalis minima 20:234,238,247 A4,6-hydroxyphysalin from 20:189 Physalis mirabilis 20:859 Physalis peruviana 20:247 Physalis pubescens 20:180,189,191,247 physapubescin from 20:189 physapubenolide from 20:189 pubescenin from 20:191 Physalis vulgaris 20:845,849,851,853, 854,857 Physalis yoelii from Physalis peruviana 20:191 Physangulide 20:246 Physapubenolide 20:180, 191, 242 from Physalis pubescens 20:189 Physapubescin 20:180, 189, 191, 224, 224, 242 from Physalis pubeseens 20:189 Physarium sp. 5:275 Physarum polycephalum 5:275,276; 28:133;29:23 ;223,239;29:239 all-trans-N-[ 11-(2-acetylamino-3-hydroxyphenyl)2,4,6,8,10undecapentaenoyl with Cu (I)-tributylphosphine 4:556,557 Tandem Michael-aldol reaction 3:138-143 Tandem process (two-stage coupling process) 12:55-58 mechanistic consideration of 12:55-58 Tangeretin (5,6,7,8,4\\'-pentahydroxy- flavone) 23:747;29:573 effects on HIV-1 protease 29:573 Tangeretin (5,6,7,8,4\\'- 3:12:179,180;21:96;22:217, 218 ;23:490;24:269,271,276,405,933-972;25:244,245;26:753,811,812,828, 830;27:857; 7:18,19,21 ;21:79,80;25:294, 295,296,297,298,299,300,301,302, 306,311,312,315-322;26 '],\n",
       " [0.12447418215597741, 0.24150450573748947, 0.33535004521371503])"
      ]
     },
     "execution_count": 142,
     "metadata": {},
     "output_type": "execute_result"
    }
   ],
   "source": [
    "query_machine.get_most_relevant_paragraphs(query, doc_ids)"
   ]
  },
  {
   "cell_type": "code",
   "execution_count": 143,
   "metadata": {
    "ExecuteTime": {
     "end_time": "2020-04-01T16:09:43.076520Z",
     "start_time": "2020-04-01T16:09:41.640839Z"
    },
    "scrolled": false
   },
   "outputs": [
    {
     "name": "stderr",
     "output_type": "stream",
     "text": [
      "/opt/conda/lib/python3.6/site-packages/scipy/spatial/distance.py:1296: RuntimeWarning: invalid value encountered in sqrt\n",
      "  return np.sqrt(js / 2.0)\n"
     ]
    },
    {
     "name": "stdout",
     "output_type": "stream",
     "text": [
      "Distance : 0.158\n",
      "ID       : a50f3a7514dd9363e42a1eff725a7eb3e49b6ed2\n",
      "Title    : \n",
      "Authors  : nan\n",
      "Date     : NaT\n",
      "Journal  : nan\n",
      "DOI      : nan\n",
      "--------------------- Relevant paragraph (distance: 0.158)----------------------\n",
      "1 Supporting Text S1 infection (relative to control) \n",
      "\n",
      "/\\/\\/\\/\\/\\/\\/\\/\\/\\/\\/\\/\\/\\/\\/\\/\\/\\/\\/\\/\\/\\/\\/\\/\\/\\/\\/\\/\\/\\/\\/\\/\\/\\/\\/\\/\\/\\/\\/\\/\\\n",
      "\n",
      "Distance : 0.271\n",
      "ID       : 58383a13c8f80823bd6cf3516faf38c1687994a7\n",
      "Title    : Heterogeneity in District-level Transmission of Ebola Virus Disease during the Epidemic in West Africa\n",
      "Authors  : nan\n",
      "Date     : NaT\n",
      "Journal  : nan\n",
      "DOI      : nan\n",
      "--------------------- Relevant paragraph (distance: 0.271)----------------------\n",
      "SEIR susceptible-exposed-infected-recovered model, IDEA incidence decay and exponential adjustment model, ABM agent-based model, BDEI birth-death-exposed-infected model, BD birthdeath model *corresponds to R e for the early period of May 27-August 4, 2014\n",
      "\n",
      "/\\/\\/\\/\\/\\/\\/\\/\\/\\/\\/\\/\\/\\/\\/\\/\\/\\/\\/\\/\\/\\/\\/\\/\\/\\/\\/\\/\\/\\/\\/\\/\\/\\/\\/\\/\\/\\/\\/\\/\\\n",
      "\n",
      "Distance : 0.298\n",
      "ID       : 68a4cb26f4d7448117bfcb2d2794211c04605765\n",
      "Title    : Additional file 3 -Three measures for geographical risk status\n",
      "Authors  : nan\n",
      "Date     : NaT\n",
      "Journal  : nan\n",
      "DOI      : nan\n",
      "--------------------- Relevant paragraph (distance: 0.298)----------------------\n",
      "reported in the state. (1), (2) and the cumulative number of deaths are shown in Table   A2 . [1] , †United States Census [2] .\n",
      "\n",
      "/\\/\\/\\/\\/\\/\\/\\/\\/\\/\\/\\/\\/\\/\\/\\/\\/\\/\\/\\/\\/\\/\\/\\/\\/\\/\\/\\/\\/\\/\\/\\/\\/\\/\\/\\/\\/\\/\\/\\/\\\n",
      "\n",
      "Distance : 0.302\n",
      "ID       : 84ad793db6fd5878929791f4a2f50943881206f1\n",
      "Title    : \n",
      "Authors  : nan\n",
      "Date     : NaT\n",
      "Journal  : nan\n",
      "DOI      : nan\n",
      "--------------------- Relevant paragraph (distance: 0.302)----------------------\n",
      ". Household dynamics. A shows the distribution of household sizes in Hong Kong [1] . B shows household infection attack rate for different household sizes averaged over 500 model realizations for each household size for the baseline transmission scenario (see main text) without transmission between households. The overall household attack rate of 22.5% in the absence of community transmission implies a symptomatic attack rate of 15.2%.\n",
      "\n",
      "/\\/\\/\\/\\/\\/\\/\\/\\/\\/\\/\\/\\/\\/\\/\\/\\/\\/\\/\\/\\/\\/\\/\\/\\/\\/\\/\\/\\/\\/\\/\\/\\/\\/\\/\\/\\/\\/\\/\\/\\\n",
      "\n",
      "Distance : 0.308\n",
      "ID       : 09cec865941962acf6060e72ef9c477c196c4c3b\n",
      "Title    : 중동호흡기증후군 코로나바이러스 검사실진단지침 대한진단검사의학회 Supplementary 메르스에 대한 기본 설명 1. 한글명 2. 영문명\n",
      "Authors  : nan\n",
      "Date     : NaT\n",
      "Journal  : nan\n",
      "DOI      : nan\n",
      "--------------------- Relevant paragraph (distance: 0.064)----------------------\n",
      "결과 판독 및 보고 \n"
     ]
    },
    {
     "name": "stderr",
     "output_type": "stream",
     "text": [
      "/opt/conda/lib/python3.6/site-packages/scipy/spatial/distance.py:1296: RuntimeWarning: invalid value encountered in sqrt\n",
      "  return np.sqrt(js / 2.0)\n"
     ]
    }
   ],
   "source": [
    "query_machine.print_query(\"cure for covid-19\", k=5)"
   ]
  },
  {
   "cell_type": "code",
   "execution_count": 144,
   "metadata": {
    "ExecuteTime": {
     "end_time": "2020-04-01T16:09:43.087272Z",
     "start_time": "2020-04-01T16:09:43.078392Z"
    }
   },
   "outputs": [],
   "source": [
    "mask = ~(df_docs.title == '')"
   ]
  },
  {
   "cell_type": "code",
   "execution_count": 145,
   "metadata": {
    "ExecuteTime": {
     "end_time": "2020-04-01T16:09:44.409873Z",
     "start_time": "2020-04-01T16:09:43.089562Z"
    }
   },
   "outputs": [
    {
     "name": "stderr",
     "output_type": "stream",
     "text": [
      "/opt/conda/lib/python3.6/site-packages/scipy/spatial/distance.py:1296: RuntimeWarning: invalid value encountered in sqrt\n",
      "  return np.sqrt(js / 2.0)\n"
     ]
    },
    {
     "name": "stdout",
     "output_type": "stream",
     "text": [
      "Distance : 0.271\n",
      "ID       : 58383a13c8f80823bd6cf3516faf38c1687994a7\n",
      "Title    : Heterogeneity in District-level Transmission of Ebola Virus Disease during the Epidemic in West Africa\n",
      "Authors  : nan\n",
      "Date     : NaT\n",
      "Journal  : nan\n",
      "DOI      : nan\n",
      "--------------------- Relevant paragraph (distance: 0.271)----------------------\n",
      "SEIR susceptible-exposed-infected-recovered model, IDEA incidence decay and exponential adjustment model, ABM agent-based model, BDEI birth-death-exposed-infected model, BD birthdeath model *corresponds to R e for the early period of May 27-August 4, 2014\n",
      "\n",
      "/\\/\\/\\/\\/\\/\\/\\/\\/\\/\\/\\/\\/\\/\\/\\/\\/\\/\\/\\/\\/\\/\\/\\/\\/\\/\\/\\/\\/\\/\\/\\/\\/\\/\\/\\/\\/\\/\\/\\/\\\n",
      "\n",
      "Distance : 0.298\n",
      "ID       : 68a4cb26f4d7448117bfcb2d2794211c04605765\n",
      "Title    : Additional file 3 -Three measures for geographical risk status\n",
      "Authors  : nan\n",
      "Date     : NaT\n",
      "Journal  : nan\n",
      "DOI      : nan\n",
      "--------------------- Relevant paragraph (distance: 0.298)----------------------\n",
      "reported in the state. (1), (2) and the cumulative number of deaths are shown in Table   A2 . [1] , †United States Census [2] .\n",
      "\n",
      "/\\/\\/\\/\\/\\/\\/\\/\\/\\/\\/\\/\\/\\/\\/\\/\\/\\/\\/\\/\\/\\/\\/\\/\\/\\/\\/\\/\\/\\/\\/\\/\\/\\/\\/\\/\\/\\/\\/\\/\\\n",
      "\n",
      "Distance : 0.308\n",
      "ID       : 09cec865941962acf6060e72ef9c477c196c4c3b\n",
      "Title    : 중동호흡기증후군 코로나바이러스 검사실진단지침 대한진단검사의학회 Supplementary 메르스에 대한 기본 설명 1. 한글명 2. 영문명\n",
      "Authors  : nan\n",
      "Date     : NaT\n",
      "Journal  : nan\n",
      "DOI      : nan\n",
      "--------------------- Relevant paragraph (distance: 0.064)----------------------\n",
      "결과 판독 및 보고 \n",
      "\n",
      "/\\/\\/\\/\\/\\/\\/\\/\\/\\/\\/\\/\\/\\/\\/\\/\\/\\/\\/\\/\\/\\/\\/\\/\\/\\/\\/\\/\\/\\/\\/\\/\\/\\/\\/\\/\\/\\/\\/\\/\\\n",
      "\n",
      "Distance : 0.324\n",
      "ID       : c91b581d38243c502118d93fc6f71ee02ec395e4\n",
      "Title    : Quantifying dynamics of SARS-CoV-2 transmission suggests that epidemic control and avoidance is feasible through instantaneous digital contact tracing\n",
      "Authors  : Luca Ferretti; Chris Wymant; Michelle Kendall; Lele Zhao; Anel Nurtay; David G Bonsall; Christophe Fraser\n",
      "Date     : 2020-03-12 00:00:00\n",
      "Journal  : nan\n",
      "DOI      : 10.1101/2020.03.08.20032946\n",
      "--------------------- Relevant paragraph (distance: 0.158)----------------------\n",
      "author/funder, who has granted medRxiv a license to display the preprint in perpetuity.\n",
      "\n",
      "/\\/\\/\\/\\/\\/\\/\\/\\/\\/\\/\\/\\/\\/\\/\\/\\/\\/\\/\\/\\/\\/\\/\\/\\/\\/\\/\\/\\/\\/\\/\\/\\/\\/\\/\\/\\/\\/\\/\\/\\\n",
      "\n",
      "Distance : 0.338\n",
      "ID       : 8e6c272aa614e312f82acd586d34401c462072d6\n",
      "Title    : An investigation of the combined effect of an annual mass gathering event and seasonal infectiousness on disease outbreak\n",
      "Authors  : Xu, Fei; Connell McCluskey, C.\n",
      "Date     : 2019-06-30 00:00:00\n",
      "Journal  : Mathematical Biosciences\n",
      "DOI      : 10.1016/j.mbs.2019.03.006\n",
      "--------------------- Relevant paragraph (distance: 0.064)----------------------\n",
      "Thus, in the disease-free attractor we must have S S S j j m j + = . Using this to replace S ,\n"
     ]
    },
    {
     "name": "stderr",
     "output_type": "stream",
     "text": [
      "/opt/conda/lib/python3.6/site-packages/scipy/spatial/distance.py:1296: RuntimeWarning: invalid value encountered in sqrt\n",
      "  return np.sqrt(js / 2.0)\n",
      "/opt/conda/lib/python3.6/site-packages/scipy/spatial/distance.py:1296: RuntimeWarning: invalid value encountered in sqrt\n",
      "  return np.sqrt(js / 2.0)\n"
     ]
    }
   ],
   "source": [
    "query_machine.print_query(\"cure for covid-19\", k=5, df_mask=mask)"
   ]
  },
  {
   "cell_type": "markdown",
   "metadata": {},
   "source": [
    "To do ideas\n",
    "\n",
    "- do data reading properly\n",
    "- truncate dictionary\n",
    "- better formatters\n",
    "    - print formatter\n",
    "    - HTML formatter\n",
    "- more models\n",
    "- several paragraphs instead of just one\n",
    "- double check the results make sense\n",
    "- exclusions\n",
    "- visualise (PCA/t-SNE) doc embeddings together with the query embedding\n",
    "\n",
    "- good highlights / paragraphs:\n",
    "    - data preprocessing"
   ]
  },
  {
   "cell_type": "code",
   "execution_count": null,
   "metadata": {},
   "outputs": [],
   "source": []
  },
  {
   "cell_type": "markdown",
   "metadata": {},
   "source": [
    "## Create Query Widget"
   ]
  },
  {
   "cell_type": "code",
   "execution_count": 146,
   "metadata": {
    "ExecuteTime": {
     "end_time": "2020-04-01T16:09:52.148801Z",
     "start_time": "2020-04-01T16:09:44.411724Z"
    }
   },
   "outputs": [
    {
     "data": {
      "text/plain": [
       "<matplotlib.axes._subplots.AxesSubplot at 0x7f8c310cd240>"
      ]
     },
     "execution_count": 146,
     "metadata": {},
     "output_type": "execute_result"
    },
    {
     "data": {
      "image/png": "[encoded data removed]",
      "text/plain": [
       "<Figure size 432x288 with 1 Axes>"
      ]
     },
     "metadata": {
      "needs_background": "light"
     },
     "output_type": "display_data"
    }
   ],
   "source": [
    "df_docs.text.apply(lambda x: len(x.split())).hist(bins=50)"
   ]
  },
  {
   "cell_type": "code",
   "execution_count": 159,
   "metadata": {
    "ExecuteTime": {
     "end_time": "2020-04-02T08:24:51.882997Z",
     "start_time": "2020-04-02T08:24:42.815206Z"
    },
    "scrolled": false
   },
   "outputs": [
    {
     "data": {
      "application/vnd.jupyter.widget-view+json": {
       "model_id": "b5ee2e4f9e864b88b8ff97665b3ecb24",
       "version_major": 2,
       "version_minor": 0
      },
      "text/plain": [
       "interactive(children=(IntSlider(value=3, continuous_update=False, description='Top k:', max=30, min=1), IntRan…"
      ]
     },
     "metadata": {},
     "output_type": "display_data"
    }
   ],
   "source": [
    "min_year = df_docs.publish_time.min().year\n",
    "max_year = df_docs.publish_time.max().year\n",
    "word_counts = df_docs.text.apply(lambda x: len(x.split()))\n",
    "min_word_count = word_counts.min()\n",
    "max_word_count = word_counts.max()\n",
    "\n",
    "@ipywidgets.interact(\n",
    "    has_title=ipywidgets.Checkbox(\n",
    "        description=\"Require Title\",\n",
    "        value=True),\n",
    "    has_authors=ipywidgets.Checkbox(\n",
    "        description=\"Require Authors\",\n",
    "        value=True),\n",
    "    has_abstract=ipywidgets.Checkbox(\n",
    "        description=\"Require Abstract\",\n",
    "        value=False),\n",
    "    has_journal=ipywidgets.Checkbox(\n",
    "        description=\"Require Journal\",\n",
    "        value=False),\n",
    "    has_doi=ipywidgets.Checkbox(\n",
    "        description=\"Require DOI\",\n",
    "        value=False),\n",
    "    date_range=ipywidgets.IntRangeSlider(\n",
    "        description=\"Date Range:\",\n",
    "        continuous_update=False,\n",
    "        min=min_year,\n",
    "        max=max_year,\n",
    "        value=(min_year, max_year),\n",
    "        layout=ipywidgets.Layout(width='80ch')),\n",
    "    word_count_range=ipywidgets.IntRangeSlider(\n",
    "        description=\"Text Word Count Range:\",\n",
    "        continuous_update=False,\n",
    "        min=min_word_count,\n",
    "        max=max_word_count,\n",
    "        value=(min_word_count, max_word_count),\n",
    "        style={'description_width': '20ch'},\n",
    "        layout=ipywidgets.Layout(width='80ch')),\n",
    "    k=ipywidgets.IntSlider(\n",
    "        description=\"Top k:\",\n",
    "        value=3,\n",
    "        min=1,\n",
    "        max=30,\n",
    "        continuous_update=False),\n",
    "    text=ipywidgets.Textarea(\n",
    "        description=\"Query:\",\n",
    "        value=\"cure for covid-19\",\n",
    "        continuous_update=False,\n",
    "        layout=ipywidgets.Layout(width='80ch', height='200px')),\n",
    "    inclusions=ipywidgets.Textarea(\n",
    "        description=\"Required Phrases (one per line):\",\n",
    "        value=\"\",\n",
    "        continuous_update=False,\n",
    "        style={'description_width': '30ch'},\n",
    "        layout=ipywidgets.Layout(width='50ch', height='200px')),\n",
    "    exclusions=ipywidgets.Textarea(\n",
    "        description=\"Excluded Phrases (one per line):\",\n",
    "        value=\"\",\n",
    "        continuous_update=False,\n",
    "        style={'description_width': '30ch'},\n",
    "        layout=ipywidgets.Layout(width='50ch', height='200px')),\n",
    "    button=ipywidgets.ToggleButton(description=\"Submit\")\n",
    ")\n",
    "def _(k, date_range, word_count_range, has_title,\n",
    "      has_authors, has_abstract, has_journal, has_doi, text,\n",
    "      inclusions, exclusions, button):\n",
    "    # Year filter\n",
    "    from_year = pd.Timestamp(year=date_range[0], month=1, day=1)\n",
    "    to_year = pd.Timestamp(year=date_range[1], month=12, day=31)\n",
    "    mask = df_docs.publish_time.between(from_year, to_year)\n",
    "    \n",
    "    # Word counts\n",
    "    mask &= word_counts.between(*word_count_range)\n",
    "    \n",
    "    if has_title:\n",
    "        mask &= ~(df_docs.title.isna() | (df_docs.title == ''))\n",
    "        \n",
    "    if has_authors:\n",
    "        mask &= ~(df_docs.authors.isna() | (df_docs.authors == ''))\n",
    "    \n",
    "    if has_abstract:\n",
    "        mask &= ~(df_docs.abstract.isna() | (df_docs.abstract == ''))\n",
    "        \n",
    "    if has_journal:\n",
    "        mask &= ~(df_docs.journal.isna() | (df_docs.journal == ''))\n",
    "    \n",
    "    if has_doi:\n",
    "        mask &= ~(df_docs.doi.isna() | (df_docs.doi == ''))\n",
    "    \n",
    "    # Inclusions / exclusions\n",
    "    df_docs_filtered = df_docs[mask]\n",
    "    \n",
    "    for phrase in inclusions.split('\\n'):\n",
    "        mask[mask] &= df_docs_filtered.text.str.contains(phrase, case=False)\n",
    "        df_docs_filtered = df_docs[mask]\n",
    "    \n",
    "    for phrase in exclusions.split('\\n'):\n",
    "        if len(phrase) > 0:\n",
    "            mask[mask] &= ~df_docs_filtered.text.str.contains(phrase, case=False)\n",
    "            df_docs_filtered = df_docs[mask]\n",
    "    \n",
    "    print(f\"Searching through {mask.sum()} of {len(mask)} documents\")\n",
    "    if len(inclusions) > 0:\n",
    "        print(\"Inclusions:\")\n",
    "        print(inclusions)\n",
    "    if len(exclusions) > 0:\n",
    "        print(\"Exclusions:\")\n",
    "        print(exclusions)\n",
    "    print(\"-\" * 8)\n",
    "    \n",
    "    if any(mask):\n",
    "        query_machine.print_query(text, k=k, df_mask=mask)"
   ]
  },
  {
   "cell_type": "code",
   "execution_count": 117,
   "metadata": {
    "ExecuteTime": {
     "end_time": "2020-04-01T15:29:43.327805Z",
     "start_time": "2020-04-01T15:29:43.317350Z"
    }
   },
   "outputs": [],
   "source": [
    "def relevant_articles_for_text():    \n",
    "    textW = widgets.Textarea(\n",
    "        value='',\n",
    "        placeholder='Type something',\n",
    "        description='',\n",
    "        disabled=False,\n",
    "        layout=widgets.Layout(width='90%', height='200px')\n",
    "    )\n",
    "\n",
    "    yearW = widgets.IntRangeSlider(min=1950, max=2020, value=[2010, 2020], description='Year Range', \n",
    "                               continuous_update=False, layout=widgets.Layout(width='40%'))\n",
    "    covidW = widgets.Checkbox(value=True,description='Only COVID-19-Papers',disabled=False, indent=False, layout=widgets.Layout(width='25%'))\n",
    "    kWidget = widgets.IntSlider(value=10, description='k', max=50, min=1, layout=widgets.Layout(width='25%'))\n",
    "\n",
    "    button = widgets.Button(description=\"Search\")\n",
    "\n",
    "    display(widgets.VBox([widgets.HBox([kWidget, yearW, covidW], layout=widgets.Layout(width='90%', justify_content='space-around')),\n",
    "        textW, button], layout=widgets.Layout(align_items='center')))\n",
    "\n",
    "    def on_button_clicked(b):\n",
    "        clear_output()\n",
    "        display(widgets.VBox([widgets.HBox([kWidget, yearW, covidW], layout=widgets.Layout(width='90%', justify_content='space-around')),\n",
    "            textW, button], layout=widgets.Layout(align_items='center')))        \n",
    "        relevant_articles(textW.value, kWidget.value, yearW.value[0], yearW.value[1], covidW.value)\n",
    "\n",
    "    button.on_click(on_button_clicked)"
   ]
  },
  {
   "cell_type": "markdown",
   "metadata": {},
   "source": [
    "## Sandbox"
   ]
  },
  {
   "cell_type": "code",
   "execution_count": 64,
   "metadata": {
    "ExecuteTime": {
     "end_time": "2020-04-01T09:43:29.681178Z",
     "start_time": "2020-04-01T09:43:29.678532Z"
    }
   },
   "outputs": [],
   "source": [
    "import numpy as np"
   ]
  },
  {
   "cell_type": "code",
   "execution_count": 67,
   "metadata": {
    "ExecuteTime": {
     "end_time": "2020-04-01T09:44:28.251992Z",
     "start_time": "2020-04-01T09:44:28.247357Z"
    }
   },
   "outputs": [],
   "source": [
    "v = vectorizer.transform([\"cure for covid-19\"])"
   ]
  },
  {
   "cell_type": "code",
   "execution_count": 68,
   "metadata": {
    "ExecuteTime": {
     "end_time": "2020-04-01T09:44:30.131323Z",
     "start_time": "2020-04-01T09:44:30.118972Z"
    }
   },
   "outputs": [
    {
     "data": {
      "text/plain": [
       "(array([0, 0]), array([148543, 154401]))"
      ]
     },
     "execution_count": 68,
     "metadata": {},
     "output_type": "execute_result"
    }
   ],
   "source": [
    "np.where(v.A)"
   ]
  },
  {
   "cell_type": "code",
   "execution_count": 72,
   "metadata": {
    "ExecuteTime": {
     "end_time": "2020-04-01T09:45:50.726888Z",
     "start_time": "2020-04-01T09:45:50.720670Z"
    }
   },
   "outputs": [
    {
     "data": {
      "text/plain": [
       "(array([0.00666667, 0.00666667, 0.67333333]), array([48,  1,  1]))"
      ]
     },
     "execution_count": 72,
     "metadata": {},
     "output_type": "execute_result"
    }
   ],
   "source": [
    "np.unique(lda.transform(v), return_counts=True)"
   ]
  },
  {
   "cell_type": "code",
   "execution_count": null,
   "metadata": {},
   "outputs": [],
   "source": [
    "(array([0, 0]), array([148543, 154401]))"
   ]
  },
  {
   "cell_type": "code",
   "execution_count": 73,
   "metadata": {
    "ExecuteTime": {
     "end_time": "2020-04-01T09:51:31.941360Z",
     "start_time": "2020-04-01T09:51:31.938383Z"
    }
   },
   "outputs": [],
   "source": [
    "top_sha = 'c91b581d38243c502118d93fc6f71ee02ec395e4'"
   ]
  },
  {
   "cell_type": "code",
   "execution_count": 75,
   "metadata": {
    "ExecuteTime": {
     "end_time": "2020-04-01T09:51:54.107856Z",
     "start_time": "2020-04-01T09:51:54.089840Z"
    }
   },
   "outputs": [
    {
     "data": {
      "text/plain": [
       "title                          Quantifying dynamics of SARS-CoV-2 transmissio...\n",
       "abstract                       Mobile phone apps implementing algorithmic con...\n",
       "text                           The new viral pathogen SARS-CoV-2 emerged in l...\n",
       "sections                       Results\\nImpact of interventions.\\nIncubation ...\n",
       "ref_captions                   our inferred generation time distributions, in...\n",
       "all_text                       Mobile phone apps implementing algorithmic con...\n",
       "source_x                                                                 medrxiv\n",
       "doi                                                  10.1101/2020.03.08.20032946\n",
       "pmcid                                                                        NaN\n",
       "pubmed_id                                                                    NaN\n",
       "license                                                                  medrvix\n",
       "publish_time                                                 2020-03-12 00:00:00\n",
       "authors                        Luca Ferretti; Chris Wymant; Michelle Kendall;...\n",
       "journal                                                                      NaN\n",
       "Microsoft Academic Paper ID                                                  NaN\n",
       "WHO #Covidence                                                               NaN\n",
       "has_full_text                                                               True\n",
       "full_text_file                                                   biorxiv_medrxiv\n",
       "Name: c91b581d38243c502118d93fc6f71ee02ec395e4, dtype: object"
      ]
     },
     "execution_count": 75,
     "metadata": {},
     "output_type": "execute_result"
    }
   ],
   "source": [
    "df_docs.loc[top_sha]"
   ]
  },
  {
   "cell_type": "code",
   "execution_count": 77,
   "metadata": {
    "ExecuteTime": {
     "end_time": "2020-04-01T09:53:25.340898Z",
     "start_time": "2020-04-01T09:53:25.334833Z"
    }
   },
   "outputs": [
    {
     "data": {
      "text/plain": [
       "0.32399999999999995"
      ]
     },
     "execution_count": 77,
     "metadata": {},
     "output_type": "execute_result"
    }
   ],
   "source": [
    "1 - 0.676"
   ]
  },
  {
   "cell_type": "code",
   "execution_count": 84,
   "metadata": {
    "ExecuteTime": {
     "end_time": "2020-04-01T09:58:18.058076Z",
     "start_time": "2020-04-01T09:58:18.050321Z"
    }
   },
   "outputs": [
    {
     "data": {
      "text/plain": [
       "sha\n",
       "0001418189999fea7f7cbe3e82703d71c85a6fe5    False\n",
       "00016663c74157a66b4d509d5c4edffd5391bbe0    False\n",
       "0005d253951fedc237715a37db147032eea28912    False\n",
       "000affa746a03f1fe4e3b3ef1a62fdfa9b9ac52a    False\n",
       "000b7d1517ceebb34e1e3e817695b6de03e2fa78     True\n",
       "                                            ...  \n",
       "fff3bfb7647cd0806ce98340baceec1be3ea5245    False\n",
       "fff600839441a60bb883d5f4328aa3227e127d1d    False\n",
       "fff6fe12beb51ee2641ddb5381378ff3560d8103    False\n",
       "fff6febdd287d474d7950b14faa899c4095557b3    False\n",
       "fffaed7e9353b7df6c4ca8f66b62e117013cb86d    False\n",
       "Name: publish_time, Length: 29135, dtype: bool"
      ]
     },
     "execution_count": 84,
     "metadata": {},
     "output_type": "execute_result"
    }
   ],
   "source": [
    "df_docs.publish_time.isna()"
   ]
  },
  {
   "cell_type": "code",
   "execution_count": 98,
   "metadata": {
    "ExecuteTime": {
     "end_time": "2020-04-01T13:32:30.930587Z",
     "start_time": "2020-04-01T13:32:30.922408Z"
    }
   },
   "outputs": [
    {
     "data": {
      "text/plain": [
       "title                                                                           \n",
       "abstract                                                                        \n",
       "text                           veals the epidemic in Hubei is much more serio...\n",
       "sections                                     \\nDeclaration of Competing Interest\n",
       "ref_captions                   COVID-19 epidemic in China is predicted to end...\n",
       "all_text                       \\nveals the epidemic in Hubei is much more ser...\n",
       "source_x                                                                Elsevier\n",
       "doi                                                   10.1016/j.jinf.2020.02.014\n",
       "pmcid                                                                        NaN\n",
       "pubmed_id                                                                    NaN\n",
       "license                                                                els-covid\n",
       "publish_time                                                 2020-02-27 00:00:00\n",
       "authors                                     Li, Qiang; Feng, Wei; Quan, Ying-Hui\n",
       "journal                                                     Journal of Infection\n",
       "Microsoft Academic Paper ID                                           3.0059e+09\n",
       "WHO #Covidence                                                             #2988\n",
       "has_full_text                                                               True\n",
       "full_text_file                                                    custom_license\n",
       "Name: 2309dc999803317771dca7201f28e8632b8bf773, dtype: object"
      ]
     },
     "execution_count": 98,
     "metadata": {},
     "output_type": "execute_result"
    }
   ],
   "source": [
    "df_docs.loc['2309dc999803317771dca7201f28e8632b8bf773']"
   ]
  },
  {
   "cell_type": "code",
   "execution_count": 103,
   "metadata": {
    "ExecuteTime": {
     "end_time": "2020-04-01T13:34:23.975449Z",
     "start_time": "2020-04-01T13:34:23.012245Z"
    }
   },
   "outputs": [
    {
     "name": "stdout",
     "output_type": "stream",
     "text": [
      "../v4/metadata.csv\r\n"
     ]
    }
   ],
   "source": [
    "! ls ../v4/metadata.csv"
   ]
  },
  {
   "cell_type": "code",
   "execution_count": 104,
   "metadata": {
    "ExecuteTime": {
     "end_time": "2020-04-01T13:34:38.256878Z",
     "start_time": "2020-04-01T13:34:37.689379Z"
    }
   },
   "outputs": [],
   "source": [
    "df_metadata = pd.read_csv('../v4/metadata.csv')"
   ]
  },
  {
   "cell_type": "code",
   "execution_count": 105,
   "metadata": {
    "ExecuteTime": {
     "end_time": "2020-04-01T13:34:43.572329Z",
     "start_time": "2020-04-01T13:34:43.566782Z"
    }
   },
   "outputs": [
    {
     "data": {
      "text/plain": [
       "(44220, 15)"
      ]
     },
     "execution_count": 105,
     "metadata": {},
     "output_type": "execute_result"
    }
   ],
   "source": [
    "df_metadata.shape"
   ]
  },
  {
   "cell_type": "code",
   "execution_count": 106,
   "metadata": {
    "ExecuteTime": {
     "end_time": "2020-04-01T13:34:47.294975Z",
     "start_time": "2020-04-01T13:34:47.269275Z"
    }
   },
   "outputs": [
    {
     "data": {
      "text/html": [
       "<div>\n",
       "<style scoped>\n",
       "    .dataframe tbody tr th:only-of-type {\n",
       "        vertical-align: middle;\n",
       "    }\n",
       "\n",
       "    .dataframe tbody tr th {\n",
       "        vertical-align: top;\n",
       "    }\n",
       "\n",
       "    .dataframe thead th {\n",
       "        text-align: right;\n",
       "    }\n",
       "</style>\n",
       "<table border=\"1\" class=\"dataframe\">\n",
       "  <thead>\n",
       "    <tr style=\"text-align: right;\">\n",
       "      <th></th>\n",
       "      <th>sha</th>\n",
       "      <th>source_x</th>\n",
       "      <th>title</th>\n",
       "      <th>doi</th>\n",
       "      <th>pmcid</th>\n",
       "      <th>pubmed_id</th>\n",
       "      <th>license</th>\n",
       "      <th>abstract</th>\n",
       "      <th>publish_time</th>\n",
       "      <th>authors</th>\n",
       "      <th>journal</th>\n",
       "      <th>Microsoft Academic Paper ID</th>\n",
       "      <th>WHO #Covidence</th>\n",
       "      <th>has_full_text</th>\n",
       "      <th>full_text_file</th>\n",
       "    </tr>\n",
       "  </thead>\n",
       "  <tbody>\n",
       "    <tr>\n",
       "      <th>0</th>\n",
       "      <td>NaN</td>\n",
       "      <td>Elsevier</td>\n",
       "      <td>Intrauterine virus infections and congenital h...</td>\n",
       "      <td>10.1016/0002-8703(72)90077-4</td>\n",
       "      <td>NaN</td>\n",
       "      <td>4361535.0</td>\n",
       "      <td>els-covid</td>\n",
       "      <td>Abstract The etiologic basis for the vast majo...</td>\n",
       "      <td>1972-12-31</td>\n",
       "      <td>Overall, James C.</td>\n",
       "      <td>American Heart Journal</td>\n",
       "      <td>NaN</td>\n",
       "      <td>NaN</td>\n",
       "      <td>False</td>\n",
       "      <td>custom_license</td>\n",
       "    </tr>\n",
       "    <tr>\n",
       "      <th>1</th>\n",
       "      <td>NaN</td>\n",
       "      <td>Elsevier</td>\n",
       "      <td>Coronaviruses in Balkan nephritis</td>\n",
       "      <td>10.1016/0002-8703(80)90355-5</td>\n",
       "      <td>NaN</td>\n",
       "      <td>6243850.0</td>\n",
       "      <td>els-covid</td>\n",
       "      <td>NaN</td>\n",
       "      <td>1980-03-31</td>\n",
       "      <td>Georgescu, Leonida; Diosi, Peter; Buţiu, Ioan;...</td>\n",
       "      <td>American Heart Journal</td>\n",
       "      <td>NaN</td>\n",
       "      <td>NaN</td>\n",
       "      <td>False</td>\n",
       "      <td>custom_license</td>\n",
       "    </tr>\n",
       "    <tr>\n",
       "      <th>2</th>\n",
       "      <td>NaN</td>\n",
       "      <td>Elsevier</td>\n",
       "      <td>Cigarette smoking and coronary heart disease: ...</td>\n",
       "      <td>10.1016/0002-8703(80)90356-7</td>\n",
       "      <td>NaN</td>\n",
       "      <td>7355701.0</td>\n",
       "      <td>els-covid</td>\n",
       "      <td>NaN</td>\n",
       "      <td>1980-03-31</td>\n",
       "      <td>Friedman, Gary D</td>\n",
       "      <td>American Heart Journal</td>\n",
       "      <td>NaN</td>\n",
       "      <td>NaN</td>\n",
       "      <td>False</td>\n",
       "      <td>custom_license</td>\n",
       "    </tr>\n",
       "    <tr>\n",
       "      <th>3</th>\n",
       "      <td>aecbc613ebdab36753235197ffb4f35734b5ca63</td>\n",
       "      <td>Elsevier</td>\n",
       "      <td>Clinical and immunologic studies in identical ...</td>\n",
       "      <td>10.1016/0002-9343(73)90176-9</td>\n",
       "      <td>NaN</td>\n",
       "      <td>4579077.0</td>\n",
       "      <td>els-covid</td>\n",
       "      <td>Abstract Middle-aged female identical twins, o...</td>\n",
       "      <td>1973-08-31</td>\n",
       "      <td>Brunner, Carolyn M.; Horwitz, David A.; Shann,...</td>\n",
       "      <td>The American Journal of Medicine</td>\n",
       "      <td>NaN</td>\n",
       "      <td>NaN</td>\n",
       "      <td>True</td>\n",
       "      <td>custom_license</td>\n",
       "    </tr>\n",
       "    <tr>\n",
       "      <th>4</th>\n",
       "      <td>NaN</td>\n",
       "      <td>Elsevier</td>\n",
       "      <td>Epidemiology of community-acquired respiratory...</td>\n",
       "      <td>10.1016/0002-9343(85)90361-4</td>\n",
       "      <td>NaN</td>\n",
       "      <td>4014285.0</td>\n",
       "      <td>els-covid</td>\n",
       "      <td>Abstract Upper respiratory tract infections ar...</td>\n",
       "      <td>1985-06-28</td>\n",
       "      <td>Garibaldi, Richard A.</td>\n",
       "      <td>The American Journal of Medicine</td>\n",
       "      <td>NaN</td>\n",
       "      <td>NaN</td>\n",
       "      <td>False</td>\n",
       "      <td>custom_license</td>\n",
       "    </tr>\n",
       "  </tbody>\n",
       "</table>\n",
       "</div>"
      ],
      "text/plain": [
       "                                        sha  source_x  \\\n",
       "0                                       NaN  Elsevier   \n",
       "1                                       NaN  Elsevier   \n",
       "2                                       NaN  Elsevier   \n",
       "3  aecbc613ebdab36753235197ffb4f35734b5ca63  Elsevier   \n",
       "4                                       NaN  Elsevier   \n",
       "\n",
       "                                               title  \\\n",
       "0  Intrauterine virus infections and congenital h...   \n",
       "1                  Coronaviruses in Balkan nephritis   \n",
       "2  Cigarette smoking and coronary heart disease: ...   \n",
       "3  Clinical and immunologic studies in identical ...   \n",
       "4  Epidemiology of community-acquired respiratory...   \n",
       "\n",
       "                            doi pmcid  pubmed_id    license  \\\n",
       "0  10.1016/0002-8703(72)90077-4   NaN  4361535.0  els-covid   \n",
       "1  10.1016/0002-8703(80)90355-5   NaN  6243850.0  els-covid   \n",
       "2  10.1016/0002-8703(80)90356-7   NaN  7355701.0  els-covid   \n",
       "3  10.1016/0002-9343(73)90176-9   NaN  4579077.0  els-covid   \n",
       "4  10.1016/0002-9343(85)90361-4   NaN  4014285.0  els-covid   \n",
       "\n",
       "                                            abstract publish_time  \\\n",
       "0  Abstract The etiologic basis for the vast majo...   1972-12-31   \n",
       "1                                                NaN   1980-03-31   \n",
       "2                                                NaN   1980-03-31   \n",
       "3  Abstract Middle-aged female identical twins, o...   1973-08-31   \n",
       "4  Abstract Upper respiratory tract infections ar...   1985-06-28   \n",
       "\n",
       "                                             authors  \\\n",
       "0                                  Overall, James C.   \n",
       "1  Georgescu, Leonida; Diosi, Peter; Buţiu, Ioan;...   \n",
       "2                                   Friedman, Gary D   \n",
       "3  Brunner, Carolyn M.; Horwitz, David A.; Shann,...   \n",
       "4                              Garibaldi, Richard A.   \n",
       "\n",
       "                            journal  Microsoft Academic Paper ID  \\\n",
       "0            American Heart Journal                          NaN   \n",
       "1            American Heart Journal                          NaN   \n",
       "2            American Heart Journal                          NaN   \n",
       "3  The American Journal of Medicine                          NaN   \n",
       "4  The American Journal of Medicine                          NaN   \n",
       "\n",
       "  WHO #Covidence  has_full_text  full_text_file  \n",
       "0            NaN          False  custom_license  \n",
       "1            NaN          False  custom_license  \n",
       "2            NaN          False  custom_license  \n",
       "3            NaN           True  custom_license  \n",
       "4            NaN          False  custom_license  "
      ]
     },
     "execution_count": 106,
     "metadata": {},
     "output_type": "execute_result"
    }
   ],
   "source": [
    "df_metadata.head()"
   ]
  },
  {
   "cell_type": "code",
   "execution_count": 107,
   "metadata": {
    "ExecuteTime": {
     "end_time": "2020-04-01T13:35:07.318592Z",
     "start_time": "2020-04-01T13:35:07.288789Z"
    }
   },
   "outputs": [
    {
     "data": {
      "text/html": [
       "<div>\n",
       "<style scoped>\n",
       "    .dataframe tbody tr th:only-of-type {\n",
       "        vertical-align: middle;\n",
       "    }\n",
       "\n",
       "    .dataframe tbody tr th {\n",
       "        vertical-align: top;\n",
       "    }\n",
       "\n",
       "    .dataframe thead th {\n",
       "        text-align: right;\n",
       "    }\n",
       "</style>\n",
       "<table border=\"1\" class=\"dataframe\">\n",
       "  <thead>\n",
       "    <tr style=\"text-align: right;\">\n",
       "      <th></th>\n",
       "      <th>sha</th>\n",
       "      <th>source_x</th>\n",
       "      <th>title</th>\n",
       "      <th>doi</th>\n",
       "      <th>pmcid</th>\n",
       "      <th>pubmed_id</th>\n",
       "      <th>license</th>\n",
       "      <th>abstract</th>\n",
       "      <th>publish_time</th>\n",
       "      <th>authors</th>\n",
       "      <th>journal</th>\n",
       "      <th>Microsoft Academic Paper ID</th>\n",
       "      <th>WHO #Covidence</th>\n",
       "      <th>has_full_text</th>\n",
       "      <th>full_text_file</th>\n",
       "    </tr>\n",
       "  </thead>\n",
       "  <tbody>\n",
       "    <tr>\n",
       "      <th>42867</th>\n",
       "      <td>2309dc999803317771dca7201f28e8632b8bf773</td>\n",
       "      <td>Elsevier</td>\n",
       "      <td>Trend and forecasting of the COVID-19 outbreak...</td>\n",
       "      <td>10.1016/j.jinf.2020.02.014</td>\n",
       "      <td>NaN</td>\n",
       "      <td>NaN</td>\n",
       "      <td>els-covid</td>\n",
       "      <td>NaN</td>\n",
       "      <td>2020-02-27</td>\n",
       "      <td>Li, Qiang; Feng, Wei; Quan, Ying-Hui</td>\n",
       "      <td>Journal of Infection</td>\n",
       "      <td>3.005902e+09</td>\n",
       "      <td>#2988</td>\n",
       "      <td>True</td>\n",
       "      <td>custom_license</td>\n",
       "    </tr>\n",
       "  </tbody>\n",
       "</table>\n",
       "</div>"
      ],
      "text/plain": [
       "                                            sha  source_x  \\\n",
       "42867  2309dc999803317771dca7201f28e8632b8bf773  Elsevier   \n",
       "\n",
       "                                                   title  \\\n",
       "42867  Trend and forecasting of the COVID-19 outbreak...   \n",
       "\n",
       "                              doi pmcid  pubmed_id    license abstract  \\\n",
       "42867  10.1016/j.jinf.2020.02.014   NaN        NaN  els-covid      NaN   \n",
       "\n",
       "      publish_time                               authors  \\\n",
       "42867   2020-02-27  Li, Qiang; Feng, Wei; Quan, Ying-Hui   \n",
       "\n",
       "                    journal  Microsoft Academic Paper ID WHO #Covidence  \\\n",
       "42867  Journal of Infection                 3.005902e+09          #2988   \n",
       "\n",
       "       has_full_text  full_text_file  \n",
       "42867           True  custom_license  "
      ]
     },
     "execution_count": 107,
     "metadata": {},
     "output_type": "execute_result"
    }
   ],
   "source": [
    "df_metadata[df_metadata.sha == '2309dc999803317771dca7201f28e8632b8bf773']"
   ]
  },
  {
   "cell_type": "code",
   "execution_count": 110,
   "metadata": {
    "ExecuteTime": {
     "end_time": "2020-04-01T13:36:22.846720Z",
     "start_time": "2020-04-01T13:36:22.812007Z"
    }
   },
   "outputs": [
    {
     "data": {
      "text/html": [
       "<div>\n",
       "<style scoped>\n",
       "    .dataframe tbody tr th:only-of-type {\n",
       "        vertical-align: middle;\n",
       "    }\n",
       "\n",
       "    .dataframe tbody tr th {\n",
       "        vertical-align: top;\n",
       "    }\n",
       "\n",
       "    .dataframe thead th {\n",
       "        text-align: right;\n",
       "    }\n",
       "</style>\n",
       "<table border=\"1\" class=\"dataframe\">\n",
       "  <thead>\n",
       "    <tr style=\"text-align: right;\">\n",
       "      <th></th>\n",
       "      <th>title</th>\n",
       "      <th>abstract</th>\n",
       "      <th>text</th>\n",
       "      <th>sections</th>\n",
       "      <th>ref_captions</th>\n",
       "      <th>all_text</th>\n",
       "      <th>source_x</th>\n",
       "      <th>doi</th>\n",
       "      <th>pmcid</th>\n",
       "      <th>pubmed_id</th>\n",
       "      <th>license</th>\n",
       "      <th>publish_time</th>\n",
       "      <th>authors</th>\n",
       "      <th>journal</th>\n",
       "      <th>Microsoft Academic Paper ID</th>\n",
       "      <th>WHO #Covidence</th>\n",
       "      <th>has_full_text</th>\n",
       "      <th>full_text_file</th>\n",
       "    </tr>\n",
       "    <tr>\n",
       "      <th>sha</th>\n",
       "      <th></th>\n",
       "      <th></th>\n",
       "      <th></th>\n",
       "      <th></th>\n",
       "      <th></th>\n",
       "      <th></th>\n",
       "      <th></th>\n",
       "      <th></th>\n",
       "      <th></th>\n",
       "      <th></th>\n",
       "      <th></th>\n",
       "      <th></th>\n",
       "      <th></th>\n",
       "      <th></th>\n",
       "      <th></th>\n",
       "      <th></th>\n",
       "      <th></th>\n",
       "      <th></th>\n",
       "    </tr>\n",
       "  </thead>\n",
       "  <tbody>\n",
       "    <tr>\n",
       "      <th>2309dc999803317771dca7201f28e8632b8bf773</th>\n",
       "      <td></td>\n",
       "      <td></td>\n",
       "      <td>veals the epidemic in Hubei is much more serio...</td>\n",
       "      <td>\\nDeclaration of Competing Interest</td>\n",
       "      <td>COVID-19 epidemic in China is predicted to end...</td>\n",
       "      <td>\\nveals the epidemic in Hubei is much more ser...</td>\n",
       "      <td>Elsevier</td>\n",
       "      <td>10.1016/j.jinf.2020.02.014</td>\n",
       "      <td>NaN</td>\n",
       "      <td>NaN</td>\n",
       "      <td>els-covid</td>\n",
       "      <td>2020-02-27</td>\n",
       "      <td>Li, Qiang; Feng, Wei; Quan, Ying-Hui</td>\n",
       "      <td>Journal of Infection</td>\n",
       "      <td>3.005902e+09</td>\n",
       "      <td>#2988</td>\n",
       "      <td>True</td>\n",
       "      <td>custom_license</td>\n",
       "    </tr>\n",
       "  </tbody>\n",
       "</table>\n",
       "</div>"
      ],
      "text/plain": [
       "                                         title abstract  \\\n",
       "sha                                                       \n",
       "2309dc999803317771dca7201f28e8632b8bf773                  \n",
       "\n",
       "                                                                                       text  \\\n",
       "sha                                                                                           \n",
       "2309dc999803317771dca7201f28e8632b8bf773  veals the epidemic in Hubei is much more serio...   \n",
       "\n",
       "                                                                     sections  \\\n",
       "sha                                                                             \n",
       "2309dc999803317771dca7201f28e8632b8bf773  \\nDeclaration of Competing Interest   \n",
       "\n",
       "                                                                               ref_captions  \\\n",
       "sha                                                                                           \n",
       "2309dc999803317771dca7201f28e8632b8bf773  COVID-19 epidemic in China is predicted to end...   \n",
       "\n",
       "                                                                                   all_text  \\\n",
       "sha                                                                                           \n",
       "2309dc999803317771dca7201f28e8632b8bf773  \\nveals the epidemic in Hubei is much more ser...   \n",
       "\n",
       "                                          source_x  \\\n",
       "sha                                                  \n",
       "2309dc999803317771dca7201f28e8632b8bf773  Elsevier   \n",
       "\n",
       "                                                                 doi pmcid  \\\n",
       "sha                                                                          \n",
       "2309dc999803317771dca7201f28e8632b8bf773  10.1016/j.jinf.2020.02.014   NaN   \n",
       "\n",
       "                                          pubmed_id    license publish_time  \\\n",
       "sha                                                                           \n",
       "2309dc999803317771dca7201f28e8632b8bf773        NaN  els-covid   2020-02-27   \n",
       "\n",
       "                                                                       authors  \\\n",
       "sha                                                                              \n",
       "2309dc999803317771dca7201f28e8632b8bf773  Li, Qiang; Feng, Wei; Quan, Ying-Hui   \n",
       "\n",
       "                                                       journal  \\\n",
       "sha                                                              \n",
       "2309dc999803317771dca7201f28e8632b8bf773  Journal of Infection   \n",
       "\n",
       "                                          Microsoft Academic Paper ID  \\\n",
       "sha                                                                     \n",
       "2309dc999803317771dca7201f28e8632b8bf773                 3.005902e+09   \n",
       "\n",
       "                                         WHO #Covidence has_full_text  \\\n",
       "sha                                                                     \n",
       "2309dc999803317771dca7201f28e8632b8bf773          #2988          True   \n",
       "\n",
       "                                          full_text_file  \n",
       "sha                                                       \n",
       "2309dc999803317771dca7201f28e8632b8bf773  custom_license  "
      ]
     },
     "execution_count": 110,
     "metadata": {},
     "output_type": "execute_result"
    }
   ],
   "source": [
    "df_docs[df_docs.index == '2309dc999803317771dca7201f28e8632b8bf773']"
   ]
  },
  {
   "cell_type": "code",
   "execution_count": 112,
   "metadata": {
    "ExecuteTime": {
     "end_time": "2020-04-01T13:37:07.109130Z",
     "start_time": "2020-04-01T13:37:07.089778Z"
    }
   },
   "outputs": [
    {
     "ename": "AttributeError",
     "evalue": "'Series' object has no attribute 'value'",
     "output_type": "error",
     "traceback": [
      "\u001b[0;31m---------------------------------------------------------------------------\u001b[0m",
      "\u001b[0;31mAttributeError\u001b[0m                            Traceback (most recent call last)",
      "\u001b[0;32m<ipython-input-112-61b8af193201>\u001b[0m in \u001b[0;36m<module>\u001b[0;34m\u001b[0m\n\u001b[0;32m----> 1\u001b[0;31m \u001b[0mprint\u001b[0m\u001b[0;34m(\u001b[0m\u001b[0mdf_docs\u001b[0m\u001b[0;34m[\u001b[0m\u001b[0mdf_docs\u001b[0m\u001b[0;34m.\u001b[0m\u001b[0mindex\u001b[0m \u001b[0;34m==\u001b[0m \u001b[0;34m'2309dc999803317771dca7201f28e8632b8bf773'\u001b[0m\u001b[0;34m]\u001b[0m\u001b[0;34m.\u001b[0m\u001b[0mall_text\u001b[0m\u001b[0;34m.\u001b[0m\u001b[0mvalue\u001b[0m\u001b[0;34m)\u001b[0m\u001b[0;34m\u001b[0m\u001b[0;34m\u001b[0m\u001b[0m\n\u001b[0m",
      "\u001b[0;32m/opt/conda/lib/python3.6/site-packages/pandas/core/generic.py\u001b[0m in \u001b[0;36m__getattr__\u001b[0;34m(self, name)\u001b[0m\n\u001b[1;32m   5272\u001b[0m             \u001b[0;32mif\u001b[0m \u001b[0mself\u001b[0m\u001b[0;34m.\u001b[0m\u001b[0m_info_axis\u001b[0m\u001b[0;34m.\u001b[0m\u001b[0m_can_hold_identifiers_and_holds_name\u001b[0m\u001b[0;34m(\u001b[0m\u001b[0mname\u001b[0m\u001b[0;34m)\u001b[0m\u001b[0;34m:\u001b[0m\u001b[0;34m\u001b[0m\u001b[0;34m\u001b[0m\u001b[0m\n\u001b[1;32m   5273\u001b[0m                 \u001b[0;32mreturn\u001b[0m \u001b[0mself\u001b[0m\u001b[0;34m[\u001b[0m\u001b[0mname\u001b[0m\u001b[0;34m]\u001b[0m\u001b[0;34m\u001b[0m\u001b[0;34m\u001b[0m\u001b[0m\n\u001b[0;32m-> 5274\u001b[0;31m             \u001b[0;32mreturn\u001b[0m \u001b[0mobject\u001b[0m\u001b[0;34m.\u001b[0m\u001b[0m__getattribute__\u001b[0m\u001b[0;34m(\u001b[0m\u001b[0mself\u001b[0m\u001b[0;34m,\u001b[0m \u001b[0mname\u001b[0m\u001b[0;34m)\u001b[0m\u001b[0;34m\u001b[0m\u001b[0;34m\u001b[0m\u001b[0m\n\u001b[0m\u001b[1;32m   5275\u001b[0m \u001b[0;34m\u001b[0m\u001b[0m\n\u001b[1;32m   5276\u001b[0m     \u001b[0;32mdef\u001b[0m \u001b[0m__setattr__\u001b[0m\u001b[0;34m(\u001b[0m\u001b[0mself\u001b[0m\u001b[0;34m,\u001b[0m \u001b[0mname\u001b[0m\u001b[0;34m:\u001b[0m \u001b[0mstr\u001b[0m\u001b[0;34m,\u001b[0m \u001b[0mvalue\u001b[0m\u001b[0;34m)\u001b[0m \u001b[0;34m->\u001b[0m \u001b[0;32mNone\u001b[0m\u001b[0;34m:\u001b[0m\u001b[0;34m\u001b[0m\u001b[0;34m\u001b[0m\u001b[0m\n",
      "\u001b[0;31mAttributeError\u001b[0m: 'Series' object has no attribute 'value'"
     ]
    }
   ],
   "source": [
    "print(df_docs[df_docs.index == '2309dc999803317771dca7201f28e8632b8bf773'].all_text.value)"
   ]
  },
  {
   "cell_type": "code",
   "execution_count": 121,
   "metadata": {
    "ExecuteTime": {
     "end_time": "2020-04-01T13:38:43.162611Z",
     "start_time": "2020-04-01T13:38:43.109133Z"
    }
   },
   "outputs": [
    {
     "data": {
      "text/html": [
       "<div>\n",
       "<style scoped>\n",
       "    .dataframe tbody tr th:only-of-type {\n",
       "        vertical-align: middle;\n",
       "    }\n",
       "\n",
       "    .dataframe tbody tr th {\n",
       "        vertical-align: top;\n",
       "    }\n",
       "\n",
       "    .dataframe thead th {\n",
       "        text-align: right;\n",
       "    }\n",
       "</style>\n",
       "<table border=\"1\" class=\"dataframe\">\n",
       "  <thead>\n",
       "    <tr style=\"text-align: right;\">\n",
       "      <th></th>\n",
       "      <th>title</th>\n",
       "      <th>abstract</th>\n",
       "      <th>text</th>\n",
       "      <th>sections</th>\n",
       "      <th>ref_captions</th>\n",
       "      <th>all_text</th>\n",
       "      <th>source_x</th>\n",
       "      <th>doi</th>\n",
       "      <th>pmcid</th>\n",
       "      <th>pubmed_id</th>\n",
       "      <th>license</th>\n",
       "      <th>publish_time</th>\n",
       "      <th>authors</th>\n",
       "      <th>journal</th>\n",
       "      <th>Microsoft Academic Paper ID</th>\n",
       "      <th>WHO #Covidence</th>\n",
       "      <th>has_full_text</th>\n",
       "      <th>full_text_file</th>\n",
       "    </tr>\n",
       "    <tr>\n",
       "      <th>sha</th>\n",
       "      <th></th>\n",
       "      <th></th>\n",
       "      <th></th>\n",
       "      <th></th>\n",
       "      <th></th>\n",
       "      <th></th>\n",
       "      <th></th>\n",
       "      <th></th>\n",
       "      <th></th>\n",
       "      <th></th>\n",
       "      <th></th>\n",
       "      <th></th>\n",
       "      <th></th>\n",
       "      <th></th>\n",
       "      <th></th>\n",
       "      <th></th>\n",
       "      <th></th>\n",
       "      <th></th>\n",
       "    </tr>\n",
       "  </thead>\n",
       "  <tbody>\n",
       "    <tr>\n",
       "      <th>0001418189999fea7f7cbe3e82703d71c85a6fe5</th>\n",
       "      <td>Absence of surface expression of feline infect...</td>\n",
       "      <td>Feline infectious peritonitis virus (FIPV) pos...</td>\n",
       "      <td>Feline infectious peritonitis (FIP) is a fatal...</td>\n",
       "      <td>Results\\nIsolation of FIPV positive cells\\nCat...</td>\n",
       "      <td>Surface expression of the monocyte marker (A);...</td>\n",
       "      <td>Feline infectious peritonitis virus (FIPV) pos...</td>\n",
       "      <td>Elsevier</td>\n",
       "      <td>10.1016/j.vetmic.2006.11.026</td>\n",
       "      <td>NaN</td>\n",
       "      <td>17188823.0</td>\n",
       "      <td>els-covid</td>\n",
       "      <td>2007-03-31</td>\n",
       "      <td>Cornelissen, E.; Dewerchin, H.L.; Van Hamme, E...</td>\n",
       "      <td>Veterinary Microbiology</td>\n",
       "      <td>NaN</td>\n",
       "      <td>NaN</td>\n",
       "      <td>True</td>\n",
       "      <td>custom_license</td>\n",
       "    </tr>\n",
       "    <tr>\n",
       "      <th>00016663c74157a66b4d509d5c4edffd5391bbe0</th>\n",
       "      <td></td>\n",
       "      <td></td>\n",
       "      <td>Viruses are increasingly recognised as pathoge...</td>\n",
       "      <td>Burden of disease studies\\nAn integrated molec...</td>\n",
       "      <td>Scheme for foodborne virus tracking. Virus det...</td>\n",
       "      <td>\\nViruses are increasingly recognised as patho...</td>\n",
       "      <td>Elsevier</td>\n",
       "      <td>10.1533/9781845691394.1.77</td>\n",
       "      <td>NaN</td>\n",
       "      <td>NaN</td>\n",
       "      <td>els-covid</td>\n",
       "      <td>2006-12-31</td>\n",
       "      <td>Duizer, E.; Koopmans, M.</td>\n",
       "      <td>Emerging Foodborne Pathogens</td>\n",
       "      <td>NaN</td>\n",
       "      <td>NaN</td>\n",
       "      <td>True</td>\n",
       "      <td>custom_license</td>\n",
       "    </tr>\n",
       "    <tr>\n",
       "      <th>0005d253951fedc237715a37db147032eea28912</th>\n",
       "      <td></td>\n",
       "      <td></td>\n",
       "      <td>Synthesized by William Prusoff in the late 195...</td>\n",
       "      <td>\\nLuis Mené ndez-Arias</td>\n",
       "      <td>//dx.doi.org/10.1016/j.coviro.2014.08.002 1879...</td>\n",
       "      <td>\\nSynthesized by William Prusoff in the late 1...</td>\n",
       "      <td>Elsevier</td>\n",
       "      <td>10.1016/j.coviro.2014.08.002</td>\n",
       "      <td>NaN</td>\n",
       "      <td>25155454.0</td>\n",
       "      <td>els-covid</td>\n",
       "      <td>2014-10-31</td>\n",
       "      <td>Menéndez-Arias, Luis; Richman, Douglas D</td>\n",
       "      <td>Current Opinion in Virology</td>\n",
       "      <td>NaN</td>\n",
       "      <td>NaN</td>\n",
       "      <td>True</td>\n",
       "      <td>custom_license</td>\n",
       "    </tr>\n",
       "    <tr>\n",
       "      <th>000affa746a03f1fe4e3b3ef1a62fdfa9b9ac52a</th>\n",
       "      <td>Correlation between antimicrobial consumption ...</td>\n",
       "      <td>Objectives: This study was conducted to invest...</td>\n",
       "      <td>The incidence of health-care-associated infect...</td>\n",
       "      <td>Antimicrobial agents and consumption\\nCorrelat...</td>\n",
       "      <td>(A) Rates of methicillin-resistant Staphylococ...</td>\n",
       "      <td>Objectives: This study was conducted to invest...</td>\n",
       "      <td>Elsevier</td>\n",
       "      <td>10.1016/j.jmii.2013.10.008</td>\n",
       "      <td>NaN</td>\n",
       "      <td>24388582.0</td>\n",
       "      <td>els-covid</td>\n",
       "      <td>2015-08-31</td>\n",
       "      <td>Lai, Chih-Cheng; Chu, Chen-Chen; Cheng, Aristi...</td>\n",
       "      <td>Journal of Microbiology, Immunology and Infection</td>\n",
       "      <td>NaN</td>\n",
       "      <td>NaN</td>\n",
       "      <td>True</td>\n",
       "      <td>custom_license</td>\n",
       "    </tr>\n",
       "    <tr>\n",
       "      <th>000b7d1517ceebb34e1e3e817695b6de03e2fa78</th>\n",
       "      <td>Supplementary Information An eco-epidemiologic...</td>\n",
       "      <td></td>\n",
       "      <td>- Figure S1 : Phylogeny of all sequences belon...</td>\n",
       "      <td></td>\n",
       "      <td>Table S4. Bats cytochrome b sequences data set...</td>\n",
       "      <td>\\n- Figure S1 : Phylogeny of all sequences bel...</td>\n",
       "      <td>NaN</td>\n",
       "      <td>NaN</td>\n",
       "      <td>NaN</td>\n",
       "      <td>NaN</td>\n",
       "      <td>NaN</td>\n",
       "      <td>NaT</td>\n",
       "      <td>NaN</td>\n",
       "      <td>NaN</td>\n",
       "      <td>NaN</td>\n",
       "      <td>NaN</td>\n",
       "      <td>NaN</td>\n",
       "      <td>NaN</td>\n",
       "    </tr>\n",
       "    <tr>\n",
       "      <th>...</th>\n",
       "      <td>...</td>\n",
       "      <td>...</td>\n",
       "      <td>...</td>\n",
       "      <td>...</td>\n",
       "      <td>...</td>\n",
       "      <td>...</td>\n",
       "      <td>...</td>\n",
       "      <td>...</td>\n",
       "      <td>...</td>\n",
       "      <td>...</td>\n",
       "      <td>...</td>\n",
       "      <td>...</td>\n",
       "      <td>...</td>\n",
       "      <td>...</td>\n",
       "      <td>...</td>\n",
       "      <td>...</td>\n",
       "      <td>...</td>\n",
       "      <td>...</td>\n",
       "    </tr>\n",
       "    <tr>\n",
       "      <th>fff3bfb7647cd0806ce98340baceec1be3ea5245</th>\n",
       "      <td>Emergency Preparedness and the Development of ...</td>\n",
       "      <td></td>\n",
       "      <td>Hospital emergency preparedness is not a new i...</td>\n",
       "      <td>THE HOSPITAL PREPAREDNESS PROGRAM: CURRENT STA...</td>\n",
       "      <td>of the US Department of Health and Human Servi...</td>\n",
       "      <td>\\nHospital emergency preparedness is not a new...</td>\n",
       "      <td>Elsevier</td>\n",
       "      <td>10.1016/j.cnur.2016.07.013</td>\n",
       "      <td>NaN</td>\n",
       "      <td>27863572.0</td>\n",
       "      <td>els-covid</td>\n",
       "      <td>2016-12-31</td>\n",
       "      <td>Kim, Deborah H.</td>\n",
       "      <td>Nursing Clinics of North America</td>\n",
       "      <td>NaN</td>\n",
       "      <td>NaN</td>\n",
       "      <td>True</td>\n",
       "      <td>custom_license</td>\n",
       "    </tr>\n",
       "    <tr>\n",
       "      <th>fff600839441a60bb883d5f4328aa3227e127d1d</th>\n",
       "      <td>Effects of a porcine reproductive and respirat...</td>\n",
       "      <td>The aim of this study was to investigate the e...</td>\n",
       "      <td>Porcine reproductive and respiratory syndrome ...</td>\n",
       "      <td>Animals and experimental design\\nLymphocyte pr...</td>\n",
       "      <td>Time course of PRV-speci®c lymphoproliferation...</td>\n",
       "      <td>The aim of this study was to investigate the e...</td>\n",
       "      <td>Elsevier</td>\n",
       "      <td>10.1016/S0165-2427(00)00208-7</td>\n",
       "      <td>NaN</td>\n",
       "      <td>10973691.0</td>\n",
       "      <td>els-covid</td>\n",
       "      <td>2000-08-31</td>\n",
       "      <td>De Bruin, M.G.M; Samsom, J.N; Voermans, J.J.M;...</td>\n",
       "      <td>Veterinary Immunology and Immunopathology</td>\n",
       "      <td>NaN</td>\n",
       "      <td>NaN</td>\n",
       "      <td>True</td>\n",
       "      <td>custom_license</td>\n",
       "    </tr>\n",
       "    <tr>\n",
       "      <th>fff6fe12beb51ee2641ddb5381378ff3560d8103</th>\n",
       "      <td>Health shocks and their long-lasting impact on...</td>\n",
       "      <td>Worldwide, the leading causes of death could b...</td>\n",
       "      <td>Worldwide, the adoption of low-cost technologi...</td>\n",
       "      <td>Are the effects persistent?\\nMexico and the 20...</td>\n",
       "      <td>Geographic Variation of Laboratory Confirmed H...</td>\n",
       "      <td>Worldwide, the leading causes of death could b...</td>\n",
       "      <td>Elsevier</td>\n",
       "      <td>10.1016/j.jhealeco.2017.03.008</td>\n",
       "      <td>NaN</td>\n",
       "      <td>28414953.0</td>\n",
       "      <td>els-covid</td>\n",
       "      <td>2017-07-31</td>\n",
       "      <td>Agüero, Jorge M.; Beleche, Trinidad</td>\n",
       "      <td>Journal of Health Economics</td>\n",
       "      <td>NaN</td>\n",
       "      <td>NaN</td>\n",
       "      <td>True</td>\n",
       "      <td>custom_license</td>\n",
       "    </tr>\n",
       "    <tr>\n",
       "      <th>fff6febdd287d474d7950b14faa899c4095557b3</th>\n",
       "      <td></td>\n",
       "      <td></td>\n",
       "      <td>pneumonia had not been the \"friend of the aged...</td>\n",
       "      <td>\\nPrognosis/Outcome\\nPulmonary Features\\nTreat...</td>\n",
       "      <td>EpidemiologyThe early cases of SARS probably o...</td>\n",
       "      <td>\\npneumonia had not been the \"friend of the ag...</td>\n",
       "      <td>Elsevier</td>\n",
       "      <td>10.1378/chest.124.1.12</td>\n",
       "      <td>NaN</td>\n",
       "      <td>12853495.0</td>\n",
       "      <td>els-covid</td>\n",
       "      <td>2003-07-31</td>\n",
       "      <td>Hui, David S.C.; Sung, Joseph J.Y.</td>\n",
       "      <td>Chest</td>\n",
       "      <td>NaN</td>\n",
       "      <td>NaN</td>\n",
       "      <td>True</td>\n",
       "      <td>custom_license</td>\n",
       "    </tr>\n",
       "    <tr>\n",
       "      <th>fffaed7e9353b7df6c4ca8f66b62e117013cb86d</th>\n",
       "      <td>Dengue Virus Glycosylation: What Do We Know?</td>\n",
       "      <td>In many infectious diseases caused by either v...</td>\n",
       "      <td>Most DENV infections are asymptomatic or remai...</td>\n",
       "      <td>\\nPrM/M Protein\\nVirulence and immunogenicity\\...</td>\n",
       "      <td>Types of N-glycans. High mannose, hybrid and c...</td>\n",
       "      <td>In many infectious diseases caused by either v...</td>\n",
       "      <td>PMC</td>\n",
       "      <td>10.3389/fmicb.2017.01415</td>\n",
       "      <td>PMC5524768</td>\n",
       "      <td>28791003.0</td>\n",
       "      <td>cc-by</td>\n",
       "      <td>2017-07-25</td>\n",
       "      <td>Yap, Sally S. L.; Nguyen-Khuong, Terry; Rudd, ...</td>\n",
       "      <td>Front Microbiol</td>\n",
       "      <td>NaN</td>\n",
       "      <td>NaN</td>\n",
       "      <td>True</td>\n",
       "      <td>comm_use_subset</td>\n",
       "    </tr>\n",
       "  </tbody>\n",
       "</table>\n",
       "<p>29135 rows × 18 columns</p>\n",
       "</div>"
      ],
      "text/plain": [
       "                                                                                      title  \\\n",
       "sha                                                                                           \n",
       "0001418189999fea7f7cbe3e82703d71c85a6fe5  Absence of surface expression of feline infect...   \n",
       "00016663c74157a66b4d509d5c4edffd5391bbe0                                                      \n",
       "0005d253951fedc237715a37db147032eea28912                                                      \n",
       "000affa746a03f1fe4e3b3ef1a62fdfa9b9ac52a  Correlation between antimicrobial consumption ...   \n",
       "000b7d1517ceebb34e1e3e817695b6de03e2fa78  Supplementary Information An eco-epidemiologic...   \n",
       "...                                                                                     ...   \n",
       "fff3bfb7647cd0806ce98340baceec1be3ea5245  Emergency Preparedness and the Development of ...   \n",
       "fff600839441a60bb883d5f4328aa3227e127d1d  Effects of a porcine reproductive and respirat...   \n",
       "fff6fe12beb51ee2641ddb5381378ff3560d8103  Health shocks and their long-lasting impact on...   \n",
       "fff6febdd287d474d7950b14faa899c4095557b3                                                      \n",
       "fffaed7e9353b7df6c4ca8f66b62e117013cb86d       Dengue Virus Glycosylation: What Do We Know?   \n",
       "\n",
       "                                                                                   abstract  \\\n",
       "sha                                                                                           \n",
       "0001418189999fea7f7cbe3e82703d71c85a6fe5  Feline infectious peritonitis virus (FIPV) pos...   \n",
       "00016663c74157a66b4d509d5c4edffd5391bbe0                                                      \n",
       "0005d253951fedc237715a37db147032eea28912                                                      \n",
       "000affa746a03f1fe4e3b3ef1a62fdfa9b9ac52a  Objectives: This study was conducted to invest...   \n",
       "000b7d1517ceebb34e1e3e817695b6de03e2fa78                                                      \n",
       "...                                                                                     ...   \n",
       "fff3bfb7647cd0806ce98340baceec1be3ea5245                                                      \n",
       "fff600839441a60bb883d5f4328aa3227e127d1d  The aim of this study was to investigate the e...   \n",
       "fff6fe12beb51ee2641ddb5381378ff3560d8103  Worldwide, the leading causes of death could b...   \n",
       "fff6febdd287d474d7950b14faa899c4095557b3                                                      \n",
       "fffaed7e9353b7df6c4ca8f66b62e117013cb86d  In many infectious diseases caused by either v...   \n",
       "\n",
       "                                                                                       text  \\\n",
       "sha                                                                                           \n",
       "0001418189999fea7f7cbe3e82703d71c85a6fe5  Feline infectious peritonitis (FIP) is a fatal...   \n",
       "00016663c74157a66b4d509d5c4edffd5391bbe0  Viruses are increasingly recognised as pathoge...   \n",
       "0005d253951fedc237715a37db147032eea28912  Synthesized by William Prusoff in the late 195...   \n",
       "000affa746a03f1fe4e3b3ef1a62fdfa9b9ac52a  The incidence of health-care-associated infect...   \n",
       "000b7d1517ceebb34e1e3e817695b6de03e2fa78  - Figure S1 : Phylogeny of all sequences belon...   \n",
       "...                                                                                     ...   \n",
       "fff3bfb7647cd0806ce98340baceec1be3ea5245  Hospital emergency preparedness is not a new i...   \n",
       "fff600839441a60bb883d5f4328aa3227e127d1d  Porcine reproductive and respiratory syndrome ...   \n",
       "fff6fe12beb51ee2641ddb5381378ff3560d8103  Worldwide, the adoption of low-cost technologi...   \n",
       "fff6febdd287d474d7950b14faa899c4095557b3  pneumonia had not been the \"friend of the aged...   \n",
       "fffaed7e9353b7df6c4ca8f66b62e117013cb86d  Most DENV infections are asymptomatic or remai...   \n",
       "\n",
       "                                                                                   sections  \\\n",
       "sha                                                                                           \n",
       "0001418189999fea7f7cbe3e82703d71c85a6fe5  Results\\nIsolation of FIPV positive cells\\nCat...   \n",
       "00016663c74157a66b4d509d5c4edffd5391bbe0  Burden of disease studies\\nAn integrated molec...   \n",
       "0005d253951fedc237715a37db147032eea28912                             \\nLuis Mené ndez-Arias   \n",
       "000affa746a03f1fe4e3b3ef1a62fdfa9b9ac52a  Antimicrobial agents and consumption\\nCorrelat...   \n",
       "000b7d1517ceebb34e1e3e817695b6de03e2fa78                                                      \n",
       "...                                                                                     ...   \n",
       "fff3bfb7647cd0806ce98340baceec1be3ea5245  THE HOSPITAL PREPAREDNESS PROGRAM: CURRENT STA...   \n",
       "fff600839441a60bb883d5f4328aa3227e127d1d  Animals and experimental design\\nLymphocyte pr...   \n",
       "fff6fe12beb51ee2641ddb5381378ff3560d8103  Are the effects persistent?\\nMexico and the 20...   \n",
       "fff6febdd287d474d7950b14faa899c4095557b3  \\nPrognosis/Outcome\\nPulmonary Features\\nTreat...   \n",
       "fffaed7e9353b7df6c4ca8f66b62e117013cb86d  \\nPrM/M Protein\\nVirulence and immunogenicity\\...   \n",
       "\n",
       "                                                                               ref_captions  \\\n",
       "sha                                                                                           \n",
       "0001418189999fea7f7cbe3e82703d71c85a6fe5  Surface expression of the monocyte marker (A);...   \n",
       "00016663c74157a66b4d509d5c4edffd5391bbe0  Scheme for foodborne virus tracking. Virus det...   \n",
       "0005d253951fedc237715a37db147032eea28912  //dx.doi.org/10.1016/j.coviro.2014.08.002 1879...   \n",
       "000affa746a03f1fe4e3b3ef1a62fdfa9b9ac52a  (A) Rates of methicillin-resistant Staphylococ...   \n",
       "000b7d1517ceebb34e1e3e817695b6de03e2fa78  Table S4. Bats cytochrome b sequences data set...   \n",
       "...                                                                                     ...   \n",
       "fff3bfb7647cd0806ce98340baceec1be3ea5245  of the US Department of Health and Human Servi...   \n",
       "fff600839441a60bb883d5f4328aa3227e127d1d  Time course of PRV-speci®c lymphoproliferation...   \n",
       "fff6fe12beb51ee2641ddb5381378ff3560d8103  Geographic Variation of Laboratory Confirmed H...   \n",
       "fff6febdd287d474d7950b14faa899c4095557b3  EpidemiologyThe early cases of SARS probably o...   \n",
       "fffaed7e9353b7df6c4ca8f66b62e117013cb86d  Types of N-glycans. High mannose, hybrid and c...   \n",
       "\n",
       "                                                                                   all_text  \\\n",
       "sha                                                                                           \n",
       "0001418189999fea7f7cbe3e82703d71c85a6fe5  Feline infectious peritonitis virus (FIPV) pos...   \n",
       "00016663c74157a66b4d509d5c4edffd5391bbe0  \\nViruses are increasingly recognised as patho...   \n",
       "0005d253951fedc237715a37db147032eea28912  \\nSynthesized by William Prusoff in the late 1...   \n",
       "000affa746a03f1fe4e3b3ef1a62fdfa9b9ac52a  Objectives: This study was conducted to invest...   \n",
       "000b7d1517ceebb34e1e3e817695b6de03e2fa78  \\n- Figure S1 : Phylogeny of all sequences bel...   \n",
       "...                                                                                     ...   \n",
       "fff3bfb7647cd0806ce98340baceec1be3ea5245  \\nHospital emergency preparedness is not a new...   \n",
       "fff600839441a60bb883d5f4328aa3227e127d1d  The aim of this study was to investigate the e...   \n",
       "fff6fe12beb51ee2641ddb5381378ff3560d8103  Worldwide, the leading causes of death could b...   \n",
       "fff6febdd287d474d7950b14faa899c4095557b3  \\npneumonia had not been the \"friend of the ag...   \n",
       "fffaed7e9353b7df6c4ca8f66b62e117013cb86d  In many infectious diseases caused by either v...   \n",
       "\n",
       "                                          source_x  \\\n",
       "sha                                                  \n",
       "0001418189999fea7f7cbe3e82703d71c85a6fe5  Elsevier   \n",
       "00016663c74157a66b4d509d5c4edffd5391bbe0  Elsevier   \n",
       "0005d253951fedc237715a37db147032eea28912  Elsevier   \n",
       "000affa746a03f1fe4e3b3ef1a62fdfa9b9ac52a  Elsevier   \n",
       "000b7d1517ceebb34e1e3e817695b6de03e2fa78       NaN   \n",
       "...                                            ...   \n",
       "fff3bfb7647cd0806ce98340baceec1be3ea5245  Elsevier   \n",
       "fff600839441a60bb883d5f4328aa3227e127d1d  Elsevier   \n",
       "fff6fe12beb51ee2641ddb5381378ff3560d8103  Elsevier   \n",
       "fff6febdd287d474d7950b14faa899c4095557b3  Elsevier   \n",
       "fffaed7e9353b7df6c4ca8f66b62e117013cb86d       PMC   \n",
       "\n",
       "                                                                     doi  \\\n",
       "sha                                                                        \n",
       "0001418189999fea7f7cbe3e82703d71c85a6fe5    10.1016/j.vetmic.2006.11.026   \n",
       "00016663c74157a66b4d509d5c4edffd5391bbe0      10.1533/9781845691394.1.77   \n",
       "0005d253951fedc237715a37db147032eea28912    10.1016/j.coviro.2014.08.002   \n",
       "000affa746a03f1fe4e3b3ef1a62fdfa9b9ac52a      10.1016/j.jmii.2013.10.008   \n",
       "000b7d1517ceebb34e1e3e817695b6de03e2fa78                             NaN   \n",
       "...                                                                  ...   \n",
       "fff3bfb7647cd0806ce98340baceec1be3ea5245      10.1016/j.cnur.2016.07.013   \n",
       "fff600839441a60bb883d5f4328aa3227e127d1d   10.1016/S0165-2427(00)00208-7   \n",
       "fff6fe12beb51ee2641ddb5381378ff3560d8103  10.1016/j.jhealeco.2017.03.008   \n",
       "fff6febdd287d474d7950b14faa899c4095557b3          10.1378/chest.124.1.12   \n",
       "fffaed7e9353b7df6c4ca8f66b62e117013cb86d        10.3389/fmicb.2017.01415   \n",
       "\n",
       "                                               pmcid   pubmed_id    license  \\\n",
       "sha                                                                           \n",
       "0001418189999fea7f7cbe3e82703d71c85a6fe5         NaN  17188823.0  els-covid   \n",
       "00016663c74157a66b4d509d5c4edffd5391bbe0         NaN         NaN  els-covid   \n",
       "0005d253951fedc237715a37db147032eea28912         NaN  25155454.0  els-covid   \n",
       "000affa746a03f1fe4e3b3ef1a62fdfa9b9ac52a         NaN  24388582.0  els-covid   \n",
       "000b7d1517ceebb34e1e3e817695b6de03e2fa78         NaN         NaN        NaN   \n",
       "...                                              ...         ...        ...   \n",
       "fff3bfb7647cd0806ce98340baceec1be3ea5245         NaN  27863572.0  els-covid   \n",
       "fff600839441a60bb883d5f4328aa3227e127d1d         NaN  10973691.0  els-covid   \n",
       "fff6fe12beb51ee2641ddb5381378ff3560d8103         NaN  28414953.0  els-covid   \n",
       "fff6febdd287d474d7950b14faa899c4095557b3         NaN  12853495.0  els-covid   \n",
       "fffaed7e9353b7df6c4ca8f66b62e117013cb86d  PMC5524768  28791003.0      cc-by   \n",
       "\n",
       "                                         publish_time  \\\n",
       "sha                                                     \n",
       "0001418189999fea7f7cbe3e82703d71c85a6fe5   2007-03-31   \n",
       "00016663c74157a66b4d509d5c4edffd5391bbe0   2006-12-31   \n",
       "0005d253951fedc237715a37db147032eea28912   2014-10-31   \n",
       "000affa746a03f1fe4e3b3ef1a62fdfa9b9ac52a   2015-08-31   \n",
       "000b7d1517ceebb34e1e3e817695b6de03e2fa78          NaT   \n",
       "...                                               ...   \n",
       "fff3bfb7647cd0806ce98340baceec1be3ea5245   2016-12-31   \n",
       "fff600839441a60bb883d5f4328aa3227e127d1d   2000-08-31   \n",
       "fff6fe12beb51ee2641ddb5381378ff3560d8103   2017-07-31   \n",
       "fff6febdd287d474d7950b14faa899c4095557b3   2003-07-31   \n",
       "fffaed7e9353b7df6c4ca8f66b62e117013cb86d   2017-07-25   \n",
       "\n",
       "                                                                                    authors  \\\n",
       "sha                                                                                           \n",
       "0001418189999fea7f7cbe3e82703d71c85a6fe5  Cornelissen, E.; Dewerchin, H.L.; Van Hamme, E...   \n",
       "00016663c74157a66b4d509d5c4edffd5391bbe0                           Duizer, E.; Koopmans, M.   \n",
       "0005d253951fedc237715a37db147032eea28912           Menéndez-Arias, Luis; Richman, Douglas D   \n",
       "000affa746a03f1fe4e3b3ef1a62fdfa9b9ac52a  Lai, Chih-Cheng; Chu, Chen-Chen; Cheng, Aristi...   \n",
       "000b7d1517ceebb34e1e3e817695b6de03e2fa78                                                NaN   \n",
       "...                                                                                     ...   \n",
       "fff3bfb7647cd0806ce98340baceec1be3ea5245                                    Kim, Deborah H.   \n",
       "fff600839441a60bb883d5f4328aa3227e127d1d  De Bruin, M.G.M; Samsom, J.N; Voermans, J.J.M;...   \n",
       "fff6fe12beb51ee2641ddb5381378ff3560d8103                Agüero, Jorge M.; Beleche, Trinidad   \n",
       "fff6febdd287d474d7950b14faa899c4095557b3                 Hui, David S.C.; Sung, Joseph J.Y.   \n",
       "fffaed7e9353b7df6c4ca8f66b62e117013cb86d  Yap, Sally S. L.; Nguyen-Khuong, Terry; Rudd, ...   \n",
       "\n",
       "                                                                                    journal  \\\n",
       "sha                                                                                           \n",
       "0001418189999fea7f7cbe3e82703d71c85a6fe5                            Veterinary Microbiology   \n",
       "00016663c74157a66b4d509d5c4edffd5391bbe0                       Emerging Foodborne Pathogens   \n",
       "0005d253951fedc237715a37db147032eea28912                        Current Opinion in Virology   \n",
       "000affa746a03f1fe4e3b3ef1a62fdfa9b9ac52a  Journal of Microbiology, Immunology and Infection   \n",
       "000b7d1517ceebb34e1e3e817695b6de03e2fa78                                                NaN   \n",
       "...                                                                                     ...   \n",
       "fff3bfb7647cd0806ce98340baceec1be3ea5245                   Nursing Clinics of North America   \n",
       "fff600839441a60bb883d5f4328aa3227e127d1d          Veterinary Immunology and Immunopathology   \n",
       "fff6fe12beb51ee2641ddb5381378ff3560d8103                        Journal of Health Economics   \n",
       "fff6febdd287d474d7950b14faa899c4095557b3                                              Chest   \n",
       "fffaed7e9353b7df6c4ca8f66b62e117013cb86d                                    Front Microbiol   \n",
       "\n",
       "                                          Microsoft Academic Paper ID  \\\n",
       "sha                                                                     \n",
       "0001418189999fea7f7cbe3e82703d71c85a6fe5                          NaN   \n",
       "00016663c74157a66b4d509d5c4edffd5391bbe0                          NaN   \n",
       "0005d253951fedc237715a37db147032eea28912                          NaN   \n",
       "000affa746a03f1fe4e3b3ef1a62fdfa9b9ac52a                          NaN   \n",
       "000b7d1517ceebb34e1e3e817695b6de03e2fa78                          NaN   \n",
       "...                                                               ...   \n",
       "fff3bfb7647cd0806ce98340baceec1be3ea5245                          NaN   \n",
       "fff600839441a60bb883d5f4328aa3227e127d1d                          NaN   \n",
       "fff6fe12beb51ee2641ddb5381378ff3560d8103                          NaN   \n",
       "fff6febdd287d474d7950b14faa899c4095557b3                          NaN   \n",
       "fffaed7e9353b7df6c4ca8f66b62e117013cb86d                          NaN   \n",
       "\n",
       "                                         WHO #Covidence has_full_text  \\\n",
       "sha                                                                     \n",
       "0001418189999fea7f7cbe3e82703d71c85a6fe5            NaN          True   \n",
       "00016663c74157a66b4d509d5c4edffd5391bbe0            NaN          True   \n",
       "0005d253951fedc237715a37db147032eea28912            NaN          True   \n",
       "000affa746a03f1fe4e3b3ef1a62fdfa9b9ac52a            NaN          True   \n",
       "000b7d1517ceebb34e1e3e817695b6de03e2fa78            NaN           NaN   \n",
       "...                                                 ...           ...   \n",
       "fff3bfb7647cd0806ce98340baceec1be3ea5245            NaN          True   \n",
       "fff600839441a60bb883d5f4328aa3227e127d1d            NaN          True   \n",
       "fff6fe12beb51ee2641ddb5381378ff3560d8103            NaN          True   \n",
       "fff6febdd287d474d7950b14faa899c4095557b3            NaN          True   \n",
       "fffaed7e9353b7df6c4ca8f66b62e117013cb86d            NaN          True   \n",
       "\n",
       "                                           full_text_file  \n",
       "sha                                                        \n",
       "0001418189999fea7f7cbe3e82703d71c85a6fe5   custom_license  \n",
       "00016663c74157a66b4d509d5c4edffd5391bbe0   custom_license  \n",
       "0005d253951fedc237715a37db147032eea28912   custom_license  \n",
       "000affa746a03f1fe4e3b3ef1a62fdfa9b9ac52a   custom_license  \n",
       "000b7d1517ceebb34e1e3e817695b6de03e2fa78              NaN  \n",
       "...                                                   ...  \n",
       "fff3bfb7647cd0806ce98340baceec1be3ea5245   custom_license  \n",
       "fff600839441a60bb883d5f4328aa3227e127d1d   custom_license  \n",
       "fff6fe12beb51ee2641ddb5381378ff3560d8103   custom_license  \n",
       "fff6febdd287d474d7950b14faa899c4095557b3   custom_license  \n",
       "fffaed7e9353b7df6c4ca8f66b62e117013cb86d  comm_use_subset  \n",
       "\n",
       "[29135 rows x 18 columns]"
      ]
     },
     "execution_count": 121,
     "metadata": {},
     "output_type": "execute_result"
    }
   ],
   "source": [
    "df_docs"
   ]
  },
  {
   "cell_type": "code",
   "execution_count": 116,
   "metadata": {
    "ExecuteTime": {
     "end_time": "2020-04-01T13:37:41.290421Z",
     "start_time": "2020-04-01T13:37:41.279690Z"
    }
   },
   "outputs": [
    {
     "name": "stdout",
     "output_type": "stream",
     "text": [
      "\n",
      "veals the epidemic in Hubei is much more serious than that in the other areas of China. On the hand, it states the strict quarantine and limitation on population mobility have effectively prevented outbreaks in other provinces of China.\n",
      "We use function h (t) = A (1 + e −kx ) −1 − (1 + e k −kx ) −1 to describe the data of daily infections and deaths in Hubei, where x = (t + 0 . 5 − t T ) with t denoting the day, and t T representing the turning point; A and k are the parameters and determined by the data together with t T . The cumulative data of infections or deaths are obtained by the integration over h ( t ). For the epidemic in the other areas of China, the data of infections shows an asymmetric character, and then will be described as\n",
      "where x = t − t T ; the parameters B, k 1 , and k 2 together with t T , are then determined by fitting to the data. Fig. 2 shows the fit and trend predictions to the total infections and deaths in Hubei and China other than Hubei. The extracted turning point of the infections in Hubei is the 17th day, namely, Feb. 6, 2020. The epidemic in Hubei is predicted to end after Mar. 10, 2020. We estimated that the epidemic is to end up with a total of 39, 0 0 0 infections in Hubei, not including the clinically diagnosed cases since Feb. 12, which may enlarge the prediction by 1.4 times. With considered data, namely, data from Jan. 20 to Feb. 11, the average errors are bout 166 and 190 for the fits to describe the daily and cumulative infections in Hubei, respectively, corresponding to 8.6% and 1.6% for the average relative errors, respectively. Fig. 2 (b) and (e) shows the estimations of the total and daily deaths in Hubei. The predicted turning point is Feb. 12, 2020. The total deaths is estimated to be 2250. Notice the distribution of the daily deaths is delayed about 5 ∼6 days compared with the that of the daily infections. The average errors are bout 4 and 22 for the model to describe the daily and cumulative death numbers, respectively, corresponding to the relative errors 8.6% and 6.2%, respectively.\n",
      "The numbers of the daily and total infections in China other than Hubei are showed in Fig. 2 (c) and 2 (f), respectively. The extracted turning point is Feb. 1, 2020 and the epidemic is expected to end on the 45th day, namely, on Mar. 5, 2020. The estimated number of cumulative infections is about 12,600 in China other than Hubei. With the data in the considered period, the average errors are bout 41 and 58 for this model to describe the daily and total cumulative infections, and the corresponding relative errors are about 8.4% and 1.2%, respectively. Due to the minority of the statistical data in deaths of China other than Hubei (45 until Feb. 11, 2020, see Fig. 1 (f)), we did not parameterize this data, and hence did not give a trend prediction.\n",
      "The strategies to reduce human exposure taken in China, such as limitation on population mobility and interpersonal contact rates, strict quarantine on migrants, have already had good impacts on control of the epidemic. Now the outbreak and deaths of the COVID-19 epidemic are mainly in Hubei province. After this letter has been written, the Hubei reported 14,840 confirmed infections (including 13,332 clinically diagnosed cases) on Feb. 12, 2020, which is almost 9 times greater than the data of the previous day. The huge fluctuation is due to the changing of diagnostic criteria in Hubei. And this clinical criteria taken in Hubei is expected to play an active and important role in controlling the outbreak and death rate. \n",
      "The authors declare no conflict of interest.\n",
      "\n",
      "Declaration of Competing Interest\n",
      "COVID-19 epidemic in China is predicted to end after Mar. 20, 2020, and cause 52,0 0 0-68,0 0 0 infections and about 240 0 deaths. However, the data trends show that the quick and active https://doi.org/10.1016/j.jinf.2020.02.014 0163-4453/© 2020 The British Infection Association. Published by Elsevier Ltd. All rights reserved.\n",
      "Varies of the COVID-19 epidemic (Jan. 20-Feb. 11, 2020) in China, with (a) total and (b) daily suspected and confirmed cases, (c) total and (d) daily deaths, (e) death rate, and (f) deaths in China other than Hubei.\n",
      "Data (Jan. 20-Feb. 11, 2020) and fits of the infections and deaths in China; the black circle denotes the data, and the dotted line the predicted trend; the turning points of daily infections and deaths in Hubei are predicted to be Feb. 6, and Feb. 12, 2020, respectively, and Feb. 1 for daily infections in China other than Hubei.\n",
      "\n"
     ]
    }
   ],
   "source": [
    "print(df_docs[df_docs.index == '2309dc999803317771dca7201f28e8632b8bf773'].iloc[0].all_text)"
   ]
  },
  {
   "cell_type": "code",
   "execution_count": null,
   "metadata": {},
   "outputs": [],
   "source": []
  }
 ],
 "metadata": {
  "kernelspec": {
   "display_name": "Python 3",
   "language": "python",
   "name": "python3"
  },
  "language_info": {
   "codemirror_mode": {
    "name": "ipython",
    "version": 3
   },
   "file_extension": ".py",
   "mimetype": "text/x-python",
   "name": "python",
   "nbconvert_exporter": "python",
   "pygments_lexer": "ipython3",
   "version": "3.6.10"
  },
  "toc": {
   "base_numbering": 1,
   "nav_menu": {},
   "number_sections": true,
   "sideBar": true,
   "skip_h1_title": true,
   "title_cell": "Table of Contents",
   "title_sidebar": "Contents",
   "toc_cell": false,
   "toc_position": {
    "height": "calc(100% - 180px)",
    "left": "10px",
    "top": "150px",
    "width": "278px"
   },
   "toc_section_display": true,
   "toc_window_display": true
  }
 },
 "nbformat": 4,
 "nbformat_minor": 2
}
