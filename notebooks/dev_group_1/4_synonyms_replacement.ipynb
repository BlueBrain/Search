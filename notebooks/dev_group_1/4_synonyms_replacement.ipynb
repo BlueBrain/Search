{
 "cells": [
  {
   "cell_type": "markdown",
   "metadata": {},
   "source": [
    "# Replacing the related terms defined by the expert\n",
    "\n",
    "The domain expert has defined related terms related to each other to be sought on the database.\n",
    "This notebook reduces those related terms into a single term on the database in order to improve the query matching.\n",
    "\n",
    "\n",
    "TODO: \n",
    "- extract the synonyms (relevant terms)\n",
    "- if applicable, try lemmatization\n",
    "- create rules to replace those\n",
    "- replace the text with those rules\n"
   ]
  },
  {
   "cell_type": "markdown",
   "metadata": {},
   "source": [
    "## Extract the synonyms\n",
    "\n",
    "Relevant terms to be considered synonym are below.\n",
    "\n",
    "\n",
    "\n",
    "Sugar = glucose = carbohydrates\n",
    "\n",
    "Level = concentration\n",
    "\n",
    "Coronavirus = viral infection = SARS = SARS-CoV-1 = SARS-CoV-2 = HCoV-NL63 = HCoV-229E = HCoV-OC43 = HCoV-HKU1 = MERS = MERS-CoV = THEV = PHEV = MHV= TGEV = IBV\n",
    "\n",
    "(Other glycosylated viruses = Ebola = EBOV = Dengue = DENV = Lassa Virus = Influenza Virus = HIV = HIV-1 = HIV-2)\n",
    "\n",
    "(Glycosylation = N-glycosylation = N-glycans = glycans = oligomannose = high-mannose = N-glycoproteins)\n",
    "\n",
    "Risk factor = prediction factor = susceptibility factor = severity \n",
    "\n",
    "Outcomes = SARS = severe acute respiratory syndrome = pneumonia = ARDS = acute respiratory distress syndrome = respiratory failure  \n",
    "\n",
    "Glucose lowering drugs = acarbose = miglitol = metformin = gliptin = gliflozin\n",
    "\n",
    "Glucose transport inhibitor = Cytochalasine B, WZB117\n",
    "\n",
    "Chloroquine = CQ = hydroxychloroquine = HQ\n",
    "\n",
    "\n",
    "Exclusion of diabetes = non-diabetes or non-diabetic\n",
    "\n",
    "source: https://drive.google.com/drive/u/2/folders/0AKAVOK2lq3hPUk9PVA"
   ]
  },
  {
   "cell_type": "markdown",
   "metadata": {},
   "source": [
    "[!UPDATE]\n",
    "</n>\n",
    "\n",
    "be careful the list abouve should not be taken as granted!\n",
    "Emmanuelle said she needs to revise these terms.\n",
    "</n>\n",
    "\n",
    "For example this line does not make sense as \"Outcomes\" is too general.\n",
    "\n",
    "</n>\n",
    "Outcomes = SARS = severe acute respiratory syndrome = pneumonia = ARDS = acute respiratory distress syndrome = respiratory failure "
   ]
  },
  {
   "cell_type": "markdown",
   "metadata": {},
   "source": [
    "[!UPDATE2]\n",
    "\n",
    "</n>\n",
    "The document is updated by Emmanuelle. The new contents will be on the google drive as well.\n",
    "\n",
    "**Sugar** = glucose = carbohydrates\n",
    "\n",
    "**Level** = concentration\n",
    "\n",
    "**Coronavirus** = SARS = SARS-CoV-1 = SARS-CoV-2 = HCoV-NL63 = HCoV-229E = HCoV-OC43 = HCoV-HKU1 = MERS = MERS-CoV = THEV = PHEV = MHV= TGEV = IBV\n",
    "\n",
    "**Glycosylation** = N-glycosylation = N-glycans = glycans = oligomannose = high-mannose = N-glycoproteins\n",
    "\n",
    "**Risk factor** = prediction factor = susceptibility factor = severity \n",
    "\n",
    "**(list of Outcomes)** :  SARS = severe acute respiratory syndrome = pneumonia = ARDS = acute respiratory distress syndrome = respiratory failure  \n",
    "\n",
    "**Glucose lowering drugs** = acarbose = miglitol = metformin = gliptin = gliflozin\n",
    "\n",
    "**Glucose transport inhibitor** = Cytochalasine B = WZB117\n",
    "\n",
    "**Chloroquine** = CQ = hydroxychloroquine = HQ\n",
    "\n"
   ]
  },
  {
   "cell_type": "markdown",
   "metadata": {},
   "source": [
    "[!UPDATE3]\n",
    "\n",
    "</n>\n",
    "There is still some ambiguity on list of outcomes. Looking forward to Emmanuelle's reply."
   ]
  },
  {
   "cell_type": "markdown",
   "metadata": {},
   "source": [
    "synonyms = {\n",
    "\n",
    "}"
   ]
  },
  {
   "cell_type": "markdown",
   "metadata": {},
   "source": [
    "## Loading"
   ]
  },
  {
   "cell_type": "code",
   "execution_count": 86,
   "metadata": {
    "ExecuteTime": {
     "end_time": "2020-04-06T15:45:30.351585Z",
     "start_time": "2020-04-06T15:45:30.346289Z"
    }
   },
   "outputs": [],
   "source": [
    "from functools import partial\n",
    "\n",
    "import pandas as pd\n"
   ]
  },
  {
   "cell_type": "code",
   "execution_count": 81,
   "metadata": {
    "ExecuteTime": {
     "end_time": "2020-04-06T15:42:23.111544Z",
     "start_time": "2020-04-06T15:42:18.453560Z"
    }
   },
   "outputs": [],
   "source": [
    "path_syn = '/raid/covid19_kaggle-data/synonyms_list.txt'\n",
    "path_data = \"../../preproccessed_data/v4_json_metadata_v2.pkl\"\n",
    "\n",
    "df_docs = pd.read_pickle(path_data)\n",
    "df_docs = df_docs[:500]"
   ]
  },
  {
   "cell_type": "code",
   "execution_count": 9,
   "metadata": {
    "ExecuteTime": {
     "end_time": "2020-04-06T15:01:34.879941Z",
     "start_time": "2020-04-06T15:01:34.875566Z"
    }
   },
   "outputs": [],
   "source": [
    "with open(path_syn, 'r') as f:\n",
    "    raw = f.read()"
   ]
  },
  {
   "cell_type": "code",
   "execution_count": 25,
   "metadata": {
    "ExecuteTime": {
     "end_time": "2020-04-06T15:08:40.337147Z",
     "start_time": "2020-04-06T15:08:40.331562Z"
    }
   },
   "outputs": [],
   "source": [
    "final_list = []\n",
    "\n",
    "for line in raw[1:].split('\\n'):\n",
    "    if line:\n",
    "        final_list.append([])\n",
    "        for word in line.split('='):\n",
    "            final_list[-1].append(word.replace(' ', '').lower())"
   ]
  },
  {
   "cell_type": "code",
   "execution_count": 87,
   "metadata": {
    "ExecuteTime": {
     "end_time": "2020-04-06T15:45:48.449067Z",
     "start_time": "2020-04-06T15:45:48.442070Z"
    }
   },
   "outputs": [],
   "source": [
    "dict_synonyms = {group[0]: set(group[1:]) for group in final_list}\n",
    "\n",
    "dict_inv = {}\n",
    "\n",
    "for k, v in dict_synonyms.items():\n",
    "    for word in v:\n",
    "        dict_inv[word] = k\n",
    "        \n",
    "        \n",
    "def tform(x, verbose=False):\n",
    "    \"\"\"\n",
    "    Parameters\n",
    "    ----------\n",
    "    x : str\n",
    "        An input text.\n",
    "    \"\"\"\n",
    "    \n",
    "    tokens = x.split(' ')\n",
    "    \n",
    "    new_tokens = []\n",
    "    counter = 0\n",
    "    for i, token in enumerate(tokens):\n",
    "        try:\n",
    "            new_token = dict_inv[token.lower()]\n",
    "            counter += 1\n",
    "        except KeyError:\n",
    "            new_token = token\n",
    "        \n",
    "        new_tokens.append(new_token)\n",
    "    \n",
    "    if verbose:\n",
    "        print(counter)\n",
    "\n",
    "    return ' '.join(new_tokens)"
   ]
  },
  {
   "cell_type": "code",
   "execution_count": 88,
   "metadata": {
    "ExecuteTime": {
     "end_time": "2020-04-06T15:45:53.582332Z",
     "start_time": "2020-04-06T15:45:48.840072Z"
    }
   },
   "outputs": [
    {
     "data": {
      "text/plain": [
       "141.6"
      ]
     },
     "execution_count": 88,
     "metadata": {},
     "output_type": "execute_result"
    }
   ],
   "source": [
    "30000/500 * 2.36"
   ]
  },
  {
   "cell_type": "code",
   "execution_count": 93,
   "metadata": {
    "ExecuteTime": {
     "end_time": "2020-04-06T15:48:02.222532Z",
     "start_time": "2020-04-06T15:48:00.185733Z"
    }
   },
   "outputs": [
    {
     "name": "stdout",
     "output_type": "stream",
     "text": [
      "CPU times: user 2.03 s, sys: 0 ns, total: 2.03 s\n",
      "Wall time: 2.03 s\n"
     ]
    }
   ],
   "source": [
    "%%time\n",
    "\n",
    "df_docs['tformed_all_text'] = df_docs['all_text'].apply(lambda x: tform(x, verbose=False))"
   ]
  },
  {
   "cell_type": "code",
   "execution_count": 78,
   "metadata": {
    "ExecuteTime": {
     "end_time": "2020-04-06T15:39:48.412707Z",
     "start_time": "2020-04-06T15:39:48.407899Z"
    }
   },
   "outputs": [],
   "source": [
    "df = pd.DataFrame('Some sentence sars and  hydroxychloroquine', columns=['title', 'text'], index=range(1000))"
   ]
  },
  {
   "cell_type": "code",
   "execution_count": 79,
   "metadata": {
    "ExecuteTime": {
     "end_time": "2020-04-06T15:39:52.786088Z",
     "start_time": "2020-04-06T15:39:52.770973Z"
    }
   },
   "outputs": [],
   "source": [
    "df['tformed_text'] = df['text'].apply(tform)"
   ]
  },
  {
   "cell_type": "code",
   "execution_count": 63,
   "metadata": {
    "ExecuteTime": {
     "end_time": "2020-04-06T15:33:48.335235Z",
     "start_time": "2020-04-06T15:33:48.328328Z"
    }
   },
   "outputs": [
    {
     "data": {
      "text/plain": [
       "0    Some sentence sars\n",
       "1    Some sentence sars\n",
       "2    Some sentence sars\n",
       "3    Some sentence sars\n",
       "4    Some sentence sars\n",
       "5    Some sentence sars\n",
       "6    Some sentence sars\n",
       "7    Some sentence sars\n",
       "8    Some sentence sars\n",
       "9    Some sentence sars\n",
       "Name: text, dtype: object"
      ]
     },
     "execution_count": 63,
     "metadata": {},
     "output_type": "execute_result"
    }
   ],
   "source": [
    "df['new_text'] = df['text'].apply(tform)"
   ]
  },
  {
   "cell_type": "code",
   "execution_count": 62,
   "metadata": {
    "ExecuteTime": {
     "end_time": "2020-04-06T15:33:41.610310Z",
     "start_time": "2020-04-06T15:33:41.600693Z"
    }
   },
   "outputs": [
    {
     "data": {
      "text/html": [
       "<div>\n",
       "<style scoped>\n",
       "    .dataframe tbody tr th:only-of-type {\n",
       "        vertical-align: middle;\n",
       "    }\n",
       "\n",
       "    .dataframe tbody tr th {\n",
       "        vertical-align: top;\n",
       "    }\n",
       "\n",
       "    .dataframe thead th {\n",
       "        text-align: right;\n",
       "    }\n",
       "</style>\n",
       "<table border=\"1\" class=\"dataframe\">\n",
       "  <thead>\n",
       "    <tr style=\"text-align: right;\">\n",
       "      <th></th>\n",
       "      <th>title</th>\n",
       "      <th>text</th>\n",
       "      <th>new_text</th>\n",
       "    </tr>\n",
       "  </thead>\n",
       "  <tbody>\n",
       "    <tr>\n",
       "      <th>0</th>\n",
       "      <td>Some sentence sars</td>\n",
       "      <td>Some sentence sars</td>\n",
       "      <td>Some sentence sars</td>\n",
       "    </tr>\n",
       "    <tr>\n",
       "      <th>1</th>\n",
       "      <td>Some sentence sars</td>\n",
       "      <td>Some sentence sars</td>\n",
       "      <td>Some sentence sars</td>\n",
       "    </tr>\n",
       "    <tr>\n",
       "      <th>2</th>\n",
       "      <td>Some sentence sars</td>\n",
       "      <td>Some sentence sars</td>\n",
       "      <td>Some sentence sars</td>\n",
       "    </tr>\n",
       "    <tr>\n",
       "      <th>3</th>\n",
       "      <td>Some sentence sars</td>\n",
       "      <td>Some sentence sars</td>\n",
       "      <td>Some sentence sars</td>\n",
       "    </tr>\n",
       "    <tr>\n",
       "      <th>4</th>\n",
       "      <td>Some sentence sars</td>\n",
       "      <td>Some sentence sars</td>\n",
       "      <td>Some sentence sars</td>\n",
       "    </tr>\n",
       "    <tr>\n",
       "      <th>5</th>\n",
       "      <td>Some sentence sars</td>\n",
       "      <td>Some sentence sars</td>\n",
       "      <td>Some sentence sars</td>\n",
       "    </tr>\n",
       "    <tr>\n",
       "      <th>6</th>\n",
       "      <td>Some sentence sars</td>\n",
       "      <td>Some sentence sars</td>\n",
       "      <td>Some sentence sars</td>\n",
       "    </tr>\n",
       "    <tr>\n",
       "      <th>7</th>\n",
       "      <td>Some sentence sars</td>\n",
       "      <td>Some sentence sars</td>\n",
       "      <td>Some sentence sars</td>\n",
       "    </tr>\n",
       "    <tr>\n",
       "      <th>8</th>\n",
       "      <td>Some sentence sars</td>\n",
       "      <td>Some sentence sars</td>\n",
       "      <td>Some sentence sars</td>\n",
       "    </tr>\n",
       "    <tr>\n",
       "      <th>9</th>\n",
       "      <td>Some sentence sars</td>\n",
       "      <td>Some sentence sars</td>\n",
       "      <td>Some sentence sars</td>\n",
       "    </tr>\n",
       "  </tbody>\n",
       "</table>\n",
       "</div>"
      ],
      "text/plain": [
       "                title                text            new_text\n",
       "0  Some sentence sars  Some sentence sars  Some sentence sars\n",
       "1  Some sentence sars  Some sentence sars  Some sentence sars\n",
       "2  Some sentence sars  Some sentence sars  Some sentence sars\n",
       "3  Some sentence sars  Some sentence sars  Some sentence sars\n",
       "4  Some sentence sars  Some sentence sars  Some sentence sars\n",
       "5  Some sentence sars  Some sentence sars  Some sentence sars\n",
       "6  Some sentence sars  Some sentence sars  Some sentence sars\n",
       "7  Some sentence sars  Some sentence sars  Some sentence sars\n",
       "8  Some sentence sars  Some sentence sars  Some sentence sars\n",
       "9  Some sentence sars  Some sentence sars  Some sentence sars"
      ]
     },
     "execution_count": 62,
     "metadata": {},
     "output_type": "execute_result"
    }
   ],
   "source": [
    "df"
   ]
  },
  {
   "cell_type": "code",
   "execution_count": 34,
   "metadata": {
    "ExecuteTime": {
     "end_time": "2020-04-06T15:26:05.545272Z",
     "start_time": "2020-04-06T15:26:05.527665Z"
    }
   },
   "outputs": [
    {
     "data": {
      "text/html": [
       "<div>\n",
       "<style scoped>\n",
       "    .dataframe tbody tr th:only-of-type {\n",
       "        vertical-align: middle;\n",
       "    }\n",
       "\n",
       "    .dataframe tbody tr th {\n",
       "        vertical-align: top;\n",
       "    }\n",
       "\n",
       "    .dataframe thead th {\n",
       "        text-align: right;\n",
       "    }\n",
       "</style>\n",
       "<table border=\"1\" class=\"dataframe\">\n",
       "  <thead>\n",
       "    <tr style=\"text-align: right;\">\n",
       "      <th></th>\n",
       "      <th>title</th>\n",
       "      <th>text</th>\n",
       "    </tr>\n",
       "  </thead>\n",
       "  <tbody>\n",
       "    <tr>\n",
       "      <th>0</th>\n",
       "      <td>NaN</td>\n",
       "      <td>NaN</td>\n",
       "    </tr>\n",
       "    <tr>\n",
       "      <th>1</th>\n",
       "      <td>NaN</td>\n",
       "      <td>NaN</td>\n",
       "    </tr>\n",
       "    <tr>\n",
       "      <th>2</th>\n",
       "      <td>NaN</td>\n",
       "      <td>NaN</td>\n",
       "    </tr>\n",
       "    <tr>\n",
       "      <th>3</th>\n",
       "      <td>NaN</td>\n",
       "      <td>NaN</td>\n",
       "    </tr>\n",
       "    <tr>\n",
       "      <th>4</th>\n",
       "      <td>NaN</td>\n",
       "      <td>NaN</td>\n",
       "    </tr>\n",
       "    <tr>\n",
       "      <th>5</th>\n",
       "      <td>NaN</td>\n",
       "      <td>NaN</td>\n",
       "    </tr>\n",
       "    <tr>\n",
       "      <th>6</th>\n",
       "      <td>NaN</td>\n",
       "      <td>NaN</td>\n",
       "    </tr>\n",
       "    <tr>\n",
       "      <th>7</th>\n",
       "      <td>NaN</td>\n",
       "      <td>NaN</td>\n",
       "    </tr>\n",
       "    <tr>\n",
       "      <th>8</th>\n",
       "      <td>NaN</td>\n",
       "      <td>NaN</td>\n",
       "    </tr>\n",
       "    <tr>\n",
       "      <th>9</th>\n",
       "      <td>NaN</td>\n",
       "      <td>NaN</td>\n",
       "    </tr>\n",
       "  </tbody>\n",
       "</table>\n",
       "</div>"
      ],
      "text/plain": [
       "  title text\n",
       "0   NaN  NaN\n",
       "1   NaN  NaN\n",
       "2   NaN  NaN\n",
       "3   NaN  NaN\n",
       "4   NaN  NaN\n",
       "5   NaN  NaN\n",
       "6   NaN  NaN\n",
       "7   NaN  NaN\n",
       "8   NaN  NaN\n",
       "9   NaN  NaN"
      ]
     },
     "execution_count": 34,
     "metadata": {},
     "output_type": "execute_result"
    }
   ],
   "source": [
    "df['converted_text'] = df['text'].apply(tfom)"
   ]
  },
  {
   "cell_type": "code",
   "execution_count": 37,
   "metadata": {
    "ExecuteTime": {
     "end_time": "2020-04-06T15:27:45.509964Z",
     "start_time": "2020-04-06T15:27:45.468016Z"
    }
   },
   "outputs": [
    {
     "ename": "KeyError",
     "evalue": "'b'",
     "output_type": "error",
     "traceback": [
      "\u001b[0;31m---------------------------------------------------------------------------\u001b[0m",
      "\u001b[0;31mKeyError\u001b[0m                                  Traceback (most recent call last)",
      "\u001b[0;32m<ipython-input-37-5b40cb25bedc>\u001b[0m in \u001b[0;36m<module>\u001b[0;34m\u001b[0m\n\u001b[1;32m      1\u001b[0m \u001b[0md\u001b[0m \u001b[0;34m=\u001b[0m \u001b[0;34m{\u001b[0m\u001b[0;34m'a'\u001b[0m\u001b[0;34m:\u001b[0m \u001b[0;36m321\u001b[0m\u001b[0;34m}\u001b[0m\u001b[0;34m\u001b[0m\u001b[0;34m\u001b[0m\u001b[0m\n\u001b[0;32m----> 2\u001b[0;31m \u001b[0md\u001b[0m\u001b[0;34m[\u001b[0m\u001b[0;34m'b'\u001b[0m\u001b[0;34m]\u001b[0m\u001b[0;34m\u001b[0m\u001b[0;34m\u001b[0m\u001b[0m\n\u001b[0m",
      "\u001b[0;31mKeyError\u001b[0m: 'b'"
     ]
    }
   ],
   "source": [
    "\n",
    "d = {'a': 321}"
   ]
  },
  {
   "cell_type": "code",
   "execution_count": 30,
   "metadata": {
    "ExecuteTime": {
     "end_time": "2020-04-06T15:25:09.478438Z",
     "start_time": "2020-04-06T15:25:09.473489Z"
    }
   },
   "outputs": [],
   "source": [
    "final_list\n",
    "\n",
    "\n",
    "dict_synonyms = {group[0]: set(group[1:]) for group in final_list}"
   ]
  },
  {
   "cell_type": "code",
   "execution_count": 31,
   "metadata": {
    "ExecuteTime": {
     "end_time": "2020-04-06T15:25:09.962169Z",
     "start_time": "2020-04-06T15:25:09.955092Z"
    }
   },
   "outputs": [
    {
     "data": {
      "text/plain": [
       "{'sugar': {'carbohydrates', 'glucose'},\n",
       " 'level': {'concentration'},\n",
       " 'coronavirus': {'hcov-229e',\n",
       "  'hcov-hku1',\n",
       "  'hcov-nl63',\n",
       "  'hcov-oc43',\n",
       "  'ibv',\n",
       "  'mers',\n",
       "  'mers-cov',\n",
       "  'mhv',\n",
       "  'phev',\n",
       "  'sars',\n",
       "  'sars-cov-1',\n",
       "  'sars-cov-2',\n",
       "  'tgev',\n",
       "  'thev'},\n",
       " 'glycosylation': {'glycans',\n",
       "  'high-mannose',\n",
       "  'n-glycans',\n",
       "  'n-glycoproteins',\n",
       "  'n-glycosylation',\n",
       "  'oligomannose'},\n",
       " 'riskfactor': {'predictionfactor', 'severity', 'susceptibilityfactor'},\n",
       " 'sars': {'acuterespiratorydistresssyndrome',\n",
       "  'ards',\n",
       "  'pneumonia',\n",
       "  'respiratoryfailure',\n",
       "  'severeacuterespiratorysyndrome'},\n",
       " 'glucoseloweringdrugs': {'acarbose',\n",
       "  'gliflozin',\n",
       "  'gliptin',\n",
       "  'metformin',\n",
       "  'miglitol'},\n",
       " 'glucosetransportinhibitor': {'cytochalasineb', 'wzb117'},\n",
       " 'chloroquine': {'cq', 'hq', 'hydroxychloroquine'}}"
      ]
     },
     "execution_count": 31,
     "metadata": {},
     "output_type": "execute_result"
    }
   ],
   "source": [
    "\n",
    "\n",
    "dict_synonyms"
   ]
  },
  {
   "cell_type": "code",
   "execution_count": null,
   "metadata": {},
   "outputs": [],
   "source": [
    "query = 'Hello yes I am a gliptin'"
   ]
  },
  {
   "cell_type": "code",
   "execution_count": null,
   "metadata": {},
   "outputs": [],
   "source": [
    "\"\"\"\n",
    "hello gliptin how are you mhv\n",
    "hello gliptin how are you mhv\n",
    "hello gliptin how are you mhv\n",
    "hello gliptin how are you mhv\n",
    "hello gliptin how are you mhv\n",
    "hello gliptin how are you mhv\n",
    "hello gliptin how are you mhv\n",
    "hello gliptin how are you mhv\n",
    "hello gliptin how are you mhv\n",
    "hello gliptin how are you mhv\n",
    "hello gliptin how are you mhv\n",
    "hello gliptin how are you mhv\n",
    "hello gliptin how are you mhv\n",
    "hello gliptin how are you mhv\n",
    "hello gliptin how are you mhv\n",
    "hello gliptin how are you mhv\n",
    "\n",
    "\"\"\""
   ]
  },
  {
   "cell_type": "code",
   "execution_count": 24,
   "metadata": {
    "ExecuteTime": {
     "end_time": "2020-04-06T15:06:38.364857Z",
     "start_time": "2020-04-06T15:06:38.360345Z"
    }
   },
   "outputs": [],
   "source": [
    "input_text = 'hello gliptin how are you mhv' # -> (9, 1.2, ...., 4.5)\n",
    "keyword = 'gliptin'\n",
    "\n",
    "\n",
    "['hello glucoseloweringdrugs how are you',\n",
    "'hello acarbose how are you',\n",
    "'hello metformin how are you',\n",
    "'hello miglitol how are you',\n",
    "'hello gliflozin how are you',\n",
    "]\n",
    "\n",
    "def generate_alternatives(inp, keyword):\n",
    "    keyword_ix = \n",
    "    "
   ]
  },
  {
   "cell_type": "code",
   "execution_count": 27,
   "metadata": {
    "ExecuteTime": {
     "end_time": "2020-04-06T15:16:45.125604Z",
     "start_time": "2020-04-06T15:16:45.122222Z"
    }
   },
   "outputs": [],
   "source": [
    "# replace all synonymc occurances in all papers\n",
    "# recompute all embeddings"
   ]
  },
  {
   "cell_type": "markdown",
   "metadata": {},
   "source": [
    "## Lemmatization\n",
    "\n",
    "Try to see if lemmatization makes sense for the biomedical terms.\n",
    "</n>\n",
    "\n",
    "This step is most probably something useful for the terms like \"prediction factor\", \"N-glycoproteins\" or \"severity\" but necessarily not for \"HCoV-229E\". Maybe scispacy has something suited for this."
   ]
  },
  {
   "cell_type": "markdown",
   "metadata": {},
   "source": [
    "### SpaCy Lemmatization"
   ]
  },
  {
   "cell_type": "code",
   "execution_count": null,
   "metadata": {},
   "outputs": [],
   "source": []
  }
 ],
 "metadata": {
  "kernelspec": {
   "display_name": "Python 3",
   "language": "python",
   "name": "python3"
  },
  "language_info": {
   "codemirror_mode": {
    "name": "ipython",
    "version": 3
   },
   "file_extension": ".py",
   "mimetype": "text/x-python",
   "name": "python",
   "nbconvert_exporter": "python",
   "pygments_lexer": "ipython3",
   "version": "3.6.10"
  },
  "toc": {
   "base_numbering": 1,
   "nav_menu": {},
   "number_sections": true,
   "sideBar": true,
   "skip_h1_title": true,
   "title_cell": "Table of Contents",
   "title_sidebar": "Contents",
   "toc_cell": false,
   "toc_position": {},
   "toc_section_display": true,
   "toc_window_display": true
  }
 },
 "nbformat": 4,
 "nbformat_minor": 2
}
