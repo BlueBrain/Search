{
 "cells": [
  {
   "cell_type": "markdown",
   "metadata": {},
   "source": [
    "# Convert BioBERT's TensorFlow checkpoints to PyTorch Checkpoints"
   ]
  },
  {
   "cell_type": "markdown",
   "metadata": {},
   "source": [
    "Reference:\n",
    "\n",
    "https://github.com/dmis-lab/biobert/issues/2"
   ]
  },
  {
   "cell_type": "code",
   "execution_count": null,
   "metadata": {
    "ExecuteTime": {
     "end_time": "2020-04-14T13:37:17.907645Z",
     "start_time": "2020-04-14T13:37:15.774132Z"
    }
   },
   "outputs": [],
   "source": [
    "from pathlib import Path\n",
    "from pytorch_pretrained_bert.convert_tf_checkpoint_to_pytorch import convert_tf_checkpoint_to_pytorch"
   ]
  },
  {
   "cell_type": "code",
   "execution_count": null,
   "metadata": {
    "ExecuteTime": {
     "end_time": "2020-04-14T13:37:20.915614Z",
     "start_time": "2020-04-14T13:37:20.911184Z"
    }
   },
   "outputs": [],
   "source": [
    "assets_path = Path(\"../assets\")\n",
    "assert assets_path.exists()"
   ]
  },
  {
   "cell_type": "markdown",
   "metadata": {},
   "source": [
    "## BioBERT-Base v1.1 (+ PubMed 1M)\n",
    "\n",
    "based on BERT-base-Cased (same vocabulary)"
   ]
  },
  {
   "cell_type": "code",
   "execution_count": null,
   "metadata": {
    "ExecuteTime": {
     "end_time": "2020-04-14T13:37:52.356108Z",
     "start_time": "2020-04-14T13:37:52.352549Z"
    }
   },
   "outputs": [],
   "source": [
    "name = \"biobert_v1.1_pubmed\""
   ]
  },
  {
   "cell_type": "code",
   "execution_count": null,
   "metadata": {
    "ExecuteTime": {
     "end_time": "2020-04-14T13:37:57.079612Z",
     "start_time": "2020-04-14T13:37:57.075782Z"
    }
   },
   "outputs": [],
   "source": [
    "biobert_checkpoint_path = assets_path / name\n",
    "assert biobert_checkpoint_path.exists()"
   ]
  },
  {
   "cell_type": "code",
   "execution_count": null,
   "metadata": {
    "ExecuteTime": {
     "end_time": "2020-04-14T13:38:58.361465Z",
     "start_time": "2020-04-14T13:38:55.116797Z"
    }
   },
   "outputs": [],
   "source": [
    "convert_tf_checkpoint_to_pytorch(\n",
    "    biobert_checkpoint_path / 'model.ckpt-1000000',\n",
    "    biobert_checkpoint_path / 'bert_config.json',\n",
    "    assets_path / f\"{name}.pth\"\n",
    ")"
   ]
  },
  {
   "cell_type": "markdown",
   "metadata": {},
   "source": [
    "## BioBERT-Large v1.1 (+ PubMed 1M)\n",
    "\n",
    "based on BERT-large-Cased (custom 30k vocabulary), NER/QA Results"
   ]
  },
  {
   "cell_type": "code",
   "execution_count": null,
   "metadata": {
    "ExecuteTime": {
     "end_time": "2020-04-14T13:40:09.887285Z",
     "start_time": "2020-04-14T13:40:09.883697Z"
    }
   },
   "outputs": [],
   "source": [
    "name = \"biobert_large\""
   ]
  },
  {
   "cell_type": "code",
   "execution_count": null,
   "metadata": {
    "ExecuteTime": {
     "end_time": "2020-04-14T13:40:35.639713Z",
     "start_time": "2020-04-14T13:40:35.635452Z"
    }
   },
   "outputs": [],
   "source": [
    "biobert_checkpoint_path = assets_path / name\n",
    "assert biobert_checkpoint_path.exists()"
   ]
  },
  {
   "cell_type": "code",
   "execution_count": null,
   "metadata": {
    "ExecuteTime": {
     "end_time": "2020-04-14T13:42:00.742289Z",
     "start_time": "2020-04-14T13:41:50.731323Z"
    }
   },
   "outputs": [],
   "source": [
    "convert_tf_checkpoint_to_pytorch(\n",
    "    biobert_checkpoint_path / 'bio_bert_large_1000k.ckpt',\n",
    "    biobert_checkpoint_path / 'bert_config_bio_58k_large.json',\n",
    "    assets_path / f\"{name}.pth\"\n",
    ")"
   ]
  },
  {
   "cell_type": "markdown",
   "metadata": {},
   "source": [
    "## BioBERT-Base v1.0 (+ PubMed 200K)\n",
    "\n",
    "based on BERT-base-Cased (same vocabulary)"
   ]
  },
  {
   "cell_type": "code",
   "execution_count": null,
   "metadata": {
    "ExecuteTime": {
     "end_time": "2020-04-14T13:43:26.321470Z",
     "start_time": "2020-04-14T13:43:26.317951Z"
    }
   },
   "outputs": [],
   "source": [
    "name = \"biobert_v1.0_pubmed\""
   ]
  },
  {
   "cell_type": "code",
   "execution_count": null,
   "metadata": {
    "ExecuteTime": {
     "end_time": "2020-04-14T13:43:26.525566Z",
     "start_time": "2020-04-14T13:43:26.522268Z"
    }
   },
   "outputs": [],
   "source": [
    "biobert_checkpoint_path = assets_path / name\n",
    "assert biobert_checkpoint_path.exists()"
   ]
  },
  {
   "cell_type": "code",
   "execution_count": null,
   "metadata": {
    "ExecuteTime": {
     "end_time": "2020-04-14T13:43:31.023635Z",
     "start_time": "2020-04-14T13:43:27.952536Z"
    }
   },
   "outputs": [],
   "source": [
    "convert_tf_checkpoint_to_pytorch(\n",
    "    biobert_checkpoint_path / 'biobert_model.ckpt',\n",
    "    biobert_checkpoint_path / 'bert_config.json',\n",
    "    assets_path / f\"{name}.pth\"\n",
    ")"
   ]
  },
  {
   "cell_type": "markdown",
   "metadata": {},
   "source": [
    "## BioBERT-Base v1.0 (+ PMC 270K)\n",
    "\n",
    "based on BERT-base-Cased (same vocabulary)"
   ]
  },
  {
   "cell_type": "code",
   "execution_count": null,
   "metadata": {
    "ExecuteTime": {
     "end_time": "2020-04-14T13:44:15.145598Z",
     "start_time": "2020-04-14T13:44:15.141435Z"
    }
   },
   "outputs": [],
   "source": [
    "name = \"biobert_v1.0_pmc\""
   ]
  },
  {
   "cell_type": "code",
   "execution_count": null,
   "metadata": {
    "ExecuteTime": {
     "end_time": "2020-04-14T13:44:17.574429Z",
     "start_time": "2020-04-14T13:44:17.570679Z"
    }
   },
   "outputs": [],
   "source": [
    "biobert_checkpoint_path = assets_path / name\n",
    "assert biobert_checkpoint_path.exists()"
   ]
  },
  {
   "cell_type": "code",
   "execution_count": null,
   "metadata": {
    "ExecuteTime": {
     "end_time": "2020-04-14T13:44:21.961189Z",
     "start_time": "2020-04-14T13:44:18.617761Z"
    }
   },
   "outputs": [],
   "source": [
    "convert_tf_checkpoint_to_pytorch(\n",
    "    biobert_checkpoint_path / 'biobert_model.ckpt',\n",
    "    biobert_checkpoint_path / 'bert_config.json',\n",
    "    assets_path / f\"{name}.pth\"\n",
    ")"
   ]
  },
  {
   "cell_type": "markdown",
   "metadata": {
    "ExecuteTime": {
     "start_time": "2020-04-14T13:35:18.557Z"
    }
   },
   "source": [
    "## BioBERT-Base v1.0 (+ PubMed 200K + PMC 270K)\n",
    "\n",
    "based on BERT-base-Cased (same vocabulary)"
   ]
  },
  {
   "cell_type": "code",
   "execution_count": null,
   "metadata": {
    "ExecuteTime": {
     "end_time": "2020-04-14T13:44:46.105318Z",
     "start_time": "2020-04-14T13:44:46.102027Z"
    }
   },
   "outputs": [],
   "source": [
    "name = \"biobert_v1.0_pubmed_pmc\""
   ]
  },
  {
   "cell_type": "code",
   "execution_count": null,
   "metadata": {
    "ExecuteTime": {
     "end_time": "2020-04-14T13:44:46.687232Z",
     "start_time": "2020-04-14T13:44:46.684196Z"
    }
   },
   "outputs": [],
   "source": [
    "biobert_checkpoint_path = assets_path / name\n",
    "assert biobert_checkpoint_path.exists()"
   ]
  },
  {
   "cell_type": "code",
   "execution_count": null,
   "metadata": {
    "ExecuteTime": {
     "end_time": "2020-04-14T13:44:50.533796Z",
     "start_time": "2020-04-14T13:44:47.238333Z"
    }
   },
   "outputs": [],
   "source": [
    "convert_tf_checkpoint_to_pytorch(\n",
    "    biobert_checkpoint_path / 'biobert_model.ckpt',\n",
    "    biobert_checkpoint_path / 'bert_config.json',\n",
    "    assets_path / f\"{name}.pth\"\n",
    ")"
   ]
  },
  {
   "cell_type": "code",
   "execution_count": null,
   "metadata": {},
   "outputs": [],
   "source": []
  }
 ],
 "metadata": {
  "kernelspec": {
   "display_name": "Python 3",
   "language": "python",
   "name": "python3"
  },
  "language_info": {
   "codemirror_mode": {
    "name": "ipython",
    "version": 3
   },
   "file_extension": ".py",
   "mimetype": "text/x-python",
   "name": "python",
   "nbconvert_exporter": "python",
   "pygments_lexer": "ipython3",
   "version": "3.6.9"
  },
  "toc": {
   "base_numbering": 1,
   "nav_menu": {},
   "number_sections": true,
   "sideBar": true,
   "skip_h1_title": true,
   "title_cell": "Table of Contents",
   "title_sidebar": "Contents",
   "toc_cell": false,
   "toc_position": {},
   "toc_section_display": true,
   "toc_window_display": true
  }
 },
 "nbformat": 4,
 "nbformat_minor": 2
}
