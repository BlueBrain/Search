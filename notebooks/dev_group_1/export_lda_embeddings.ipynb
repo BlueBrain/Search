{
 "cells": [
  {
   "cell_type": "markdown",
   "metadata": {},
   "source": [
    "# Export LDA Embeddings\n",
    "\n",
    "    Creation date : 2020-04-06 (Monday)\n",
    "    Creator       : Stanislav Schmidt <stanislav.schmidt@epfl.ch>"
   ]
  },
  {
   "cell_type": "code",
   "execution_count": 12,
   "metadata": {
    "ExecuteTime": {
     "end_time": "2020-04-06T11:01:48.794801Z",
     "start_time": "2020-04-06T11:01:48.479050Z"
    }
   },
   "outputs": [],
   "source": [
    "from pathlib import Path\n",
    "import joblib\n",
    "\n",
    "import pandas as pd\n",
    "import en_core_sci_md"
   ]
  },
  {
   "cell_type": "code",
   "execution_count": 50,
   "metadata": {
    "ExecuteTime": {
     "end_time": "2020-04-06T11:11:57.112280Z",
     "start_time": "2020-04-06T11:11:57.108444Z"
    }
   },
   "outputs": [],
   "source": [
    "metadata_path = Path(\"/raid/covid19_kaggle-data/preproccessed_data\")\n",
    "model_path = Path(\"/raid/covid19_kaggle-data/stan/1_topic_modeling_lda\")\n",
    "export_path = Path(\"/raid/covid19_kaggle-data/exports\")"
   ]
  },
  {
   "cell_type": "code",
   "execution_count": 1,
   "metadata": {
    "ExecuteTime": {
     "end_time": "2020-04-06T10:57:09.121461Z",
     "start_time": "2020-04-06T10:56:59.417211Z"
    }
   },
   "outputs": [],
   "source": [
    "nlp = en_core_sci_md.load(disable=[\"tagger\", \"parser\", \"ner\"])\n",
    "nlp.max_length = 2_000_000  # maximal number of characters in text"
   ]
  },
  {
   "cell_type": "code",
   "execution_count": 4,
   "metadata": {
    "ExecuteTime": {
     "end_time": "2020-04-06T10:57:20.437030Z",
     "start_time": "2020-04-06T10:57:20.431307Z"
    }
   },
   "outputs": [],
   "source": [
    "def spacy_tokenizer(sentence):\n",
    "    return [token.lemma_ for token in nlp(sentence) if not (\n",
    "        token.like_url or\n",
    "        token.like_email or\n",
    "        token.like_num or\n",
    "        token.is_stop or\n",
    "        token.is_punct or\n",
    "        token.is_space or\n",
    "        token.is_bracket or\n",
    "        token.is_punct or\n",
    "        len(token)==1)]"
   ]
  },
  {
   "cell_type": "code",
   "execution_count": 13,
   "metadata": {
    "ExecuteTime": {
     "end_time": "2020-04-06T11:01:53.371688Z",
     "start_time": "2020-04-06T11:01:50.349766Z"
    }
   },
   "outputs": [
    {
     "data": {
      "text/plain": [
       "(29135, 18)"
      ]
     },
     "execution_count": 13,
     "metadata": {},
     "output_type": "execute_result"
    }
   ],
   "source": [
    "df_docs = pd.read_pickle(metadata_path / \"v4_json_metadata_v2.pkl\")\n",
    "df_docs = df_docs\n",
    "df_docs.shape"
   ]
  },
  {
   "cell_type": "code",
   "execution_count": 14,
   "metadata": {
    "ExecuteTime": {
     "end_time": "2020-04-06T11:03:27.893443Z",
     "start_time": "2020-04-06T11:03:27.851758Z"
    }
   },
   "outputs": [
    {
     "data": {
      "text/html": [
       "<div>\n",
       "<style scoped>\n",
       "    .dataframe tbody tr th:only-of-type {\n",
       "        vertical-align: middle;\n",
       "    }\n",
       "\n",
       "    .dataframe tbody tr th {\n",
       "        vertical-align: top;\n",
       "    }\n",
       "\n",
       "    .dataframe thead th {\n",
       "        text-align: right;\n",
       "    }\n",
       "</style>\n",
       "<table border=\"1\" class=\"dataframe\">\n",
       "  <thead>\n",
       "    <tr style=\"text-align: right;\">\n",
       "      <th></th>\n",
       "      <th>title</th>\n",
       "      <th>abstract</th>\n",
       "      <th>text</th>\n",
       "      <th>sections</th>\n",
       "      <th>ref_captions</th>\n",
       "      <th>all_text</th>\n",
       "      <th>source_x</th>\n",
       "      <th>doi</th>\n",
       "      <th>pmcid</th>\n",
       "      <th>pubmed_id</th>\n",
       "      <th>license</th>\n",
       "      <th>publish_time</th>\n",
       "      <th>authors</th>\n",
       "      <th>journal</th>\n",
       "      <th>Microsoft Academic Paper ID</th>\n",
       "      <th>WHO #Covidence</th>\n",
       "      <th>has_full_text</th>\n",
       "      <th>full_text_file</th>\n",
       "    </tr>\n",
       "    <tr>\n",
       "      <th>sha</th>\n",
       "      <th></th>\n",
       "      <th></th>\n",
       "      <th></th>\n",
       "      <th></th>\n",
       "      <th></th>\n",
       "      <th></th>\n",
       "      <th></th>\n",
       "      <th></th>\n",
       "      <th></th>\n",
       "      <th></th>\n",
       "      <th></th>\n",
       "      <th></th>\n",
       "      <th></th>\n",
       "      <th></th>\n",
       "      <th></th>\n",
       "      <th></th>\n",
       "      <th></th>\n",
       "      <th></th>\n",
       "    </tr>\n",
       "  </thead>\n",
       "  <tbody>\n",
       "    <tr>\n",
       "      <th>0001418189999fea7f7cbe3e82703d71c85a6fe5</th>\n",
       "      <td>Absence of surface expression of feline infect...</td>\n",
       "      <td>Feline infectious peritonitis virus (FIPV) pos...</td>\n",
       "      <td>Feline infectious peritonitis (FIP) is a fatal...</td>\n",
       "      <td>Results\\nIsolation of FIPV positive cells\\nCat...</td>\n",
       "      <td>Surface expression of the monocyte marker (A);...</td>\n",
       "      <td>Feline infectious peritonitis virus (FIPV) pos...</td>\n",
       "      <td>Elsevier</td>\n",
       "      <td>10.1016/j.vetmic.2006.11.026</td>\n",
       "      <td>NaN</td>\n",
       "      <td>17188823.0</td>\n",
       "      <td>els-covid</td>\n",
       "      <td>2007-03-31</td>\n",
       "      <td>Cornelissen, E.; Dewerchin, H.L.; Van Hamme, E...</td>\n",
       "      <td>Veterinary Microbiology</td>\n",
       "      <td>NaN</td>\n",
       "      <td>NaN</td>\n",
       "      <td>True</td>\n",
       "      <td>custom_license</td>\n",
       "    </tr>\n",
       "    <tr>\n",
       "      <th>00016663c74157a66b4d509d5c4edffd5391bbe0</th>\n",
       "      <td></td>\n",
       "      <td></td>\n",
       "      <td>Viruses are increasingly recognised as pathoge...</td>\n",
       "      <td>Burden of disease studies\\nAn integrated molec...</td>\n",
       "      <td>Scheme for foodborne virus tracking. Virus det...</td>\n",
       "      <td>\\nViruses are increasingly recognised as patho...</td>\n",
       "      <td>Elsevier</td>\n",
       "      <td>10.1533/9781845691394.1.77</td>\n",
       "      <td>NaN</td>\n",
       "      <td>NaN</td>\n",
       "      <td>els-covid</td>\n",
       "      <td>2006-12-31</td>\n",
       "      <td>Duizer, E.; Koopmans, M.</td>\n",
       "      <td>Emerging Foodborne Pathogens</td>\n",
       "      <td>NaN</td>\n",
       "      <td>NaN</td>\n",
       "      <td>True</td>\n",
       "      <td>custom_license</td>\n",
       "    </tr>\n",
       "    <tr>\n",
       "      <th>0005d253951fedc237715a37db147032eea28912</th>\n",
       "      <td></td>\n",
       "      <td></td>\n",
       "      <td>Synthesized by William Prusoff in the late 195...</td>\n",
       "      <td>\\nLuis Mené ndez-Arias</td>\n",
       "      <td>//dx.doi.org/10.1016/j.coviro.2014.08.002 1879...</td>\n",
       "      <td>\\nSynthesized by William Prusoff in the late 1...</td>\n",
       "      <td>Elsevier</td>\n",
       "      <td>10.1016/j.coviro.2014.08.002</td>\n",
       "      <td>NaN</td>\n",
       "      <td>25155454.0</td>\n",
       "      <td>els-covid</td>\n",
       "      <td>2014-10-31</td>\n",
       "      <td>Menéndez-Arias, Luis; Richman, Douglas D</td>\n",
       "      <td>Current Opinion in Virology</td>\n",
       "      <td>NaN</td>\n",
       "      <td>NaN</td>\n",
       "      <td>True</td>\n",
       "      <td>custom_license</td>\n",
       "    </tr>\n",
       "    <tr>\n",
       "      <th>000affa746a03f1fe4e3b3ef1a62fdfa9b9ac52a</th>\n",
       "      <td>Correlation between antimicrobial consumption ...</td>\n",
       "      <td>Objectives: This study was conducted to invest...</td>\n",
       "      <td>The incidence of health-care-associated infect...</td>\n",
       "      <td>Antimicrobial agents and consumption\\nCorrelat...</td>\n",
       "      <td>(A) Rates of methicillin-resistant Staphylococ...</td>\n",
       "      <td>Objectives: This study was conducted to invest...</td>\n",
       "      <td>Elsevier</td>\n",
       "      <td>10.1016/j.jmii.2013.10.008</td>\n",
       "      <td>NaN</td>\n",
       "      <td>24388582.0</td>\n",
       "      <td>els-covid</td>\n",
       "      <td>2015-08-31</td>\n",
       "      <td>Lai, Chih-Cheng; Chu, Chen-Chen; Cheng, Aristi...</td>\n",
       "      <td>Journal of Microbiology, Immunology and Infection</td>\n",
       "      <td>NaN</td>\n",
       "      <td>NaN</td>\n",
       "      <td>True</td>\n",
       "      <td>custom_license</td>\n",
       "    </tr>\n",
       "    <tr>\n",
       "      <th>000b7d1517ceebb34e1e3e817695b6de03e2fa78</th>\n",
       "      <td>Supplementary Information An eco-epidemiologic...</td>\n",
       "      <td></td>\n",
       "      <td>- Figure S1 : Phylogeny of all sequences belon...</td>\n",
       "      <td></td>\n",
       "      <td>Table S4. Bats cytochrome b sequences data set...</td>\n",
       "      <td>\\n- Figure S1 : Phylogeny of all sequences bel...</td>\n",
       "      <td>NaN</td>\n",
       "      <td>NaN</td>\n",
       "      <td>NaN</td>\n",
       "      <td>NaN</td>\n",
       "      <td>NaN</td>\n",
       "      <td>NaT</td>\n",
       "      <td>NaN</td>\n",
       "      <td>NaN</td>\n",
       "      <td>NaN</td>\n",
       "      <td>NaN</td>\n",
       "      <td>NaN</td>\n",
       "      <td>NaN</td>\n",
       "    </tr>\n",
       "  </tbody>\n",
       "</table>\n",
       "</div>"
      ],
      "text/plain": [
       "                                                                                      title  \\\n",
       "sha                                                                                           \n",
       "0001418189999fea7f7cbe3e82703d71c85a6fe5  Absence of surface expression of feline infect...   \n",
       "00016663c74157a66b4d509d5c4edffd5391bbe0                                                      \n",
       "0005d253951fedc237715a37db147032eea28912                                                      \n",
       "000affa746a03f1fe4e3b3ef1a62fdfa9b9ac52a  Correlation between antimicrobial consumption ...   \n",
       "000b7d1517ceebb34e1e3e817695b6de03e2fa78  Supplementary Information An eco-epidemiologic...   \n",
       "\n",
       "                                                                                   abstract  \\\n",
       "sha                                                                                           \n",
       "0001418189999fea7f7cbe3e82703d71c85a6fe5  Feline infectious peritonitis virus (FIPV) pos...   \n",
       "00016663c74157a66b4d509d5c4edffd5391bbe0                                                      \n",
       "0005d253951fedc237715a37db147032eea28912                                                      \n",
       "000affa746a03f1fe4e3b3ef1a62fdfa9b9ac52a  Objectives: This study was conducted to invest...   \n",
       "000b7d1517ceebb34e1e3e817695b6de03e2fa78                                                      \n",
       "\n",
       "                                                                                       text  \\\n",
       "sha                                                                                           \n",
       "0001418189999fea7f7cbe3e82703d71c85a6fe5  Feline infectious peritonitis (FIP) is a fatal...   \n",
       "00016663c74157a66b4d509d5c4edffd5391bbe0  Viruses are increasingly recognised as pathoge...   \n",
       "0005d253951fedc237715a37db147032eea28912  Synthesized by William Prusoff in the late 195...   \n",
       "000affa746a03f1fe4e3b3ef1a62fdfa9b9ac52a  The incidence of health-care-associated infect...   \n",
       "000b7d1517ceebb34e1e3e817695b6de03e2fa78  - Figure S1 : Phylogeny of all sequences belon...   \n",
       "\n",
       "                                                                                   sections  \\\n",
       "sha                                                                                           \n",
       "0001418189999fea7f7cbe3e82703d71c85a6fe5  Results\\nIsolation of FIPV positive cells\\nCat...   \n",
       "00016663c74157a66b4d509d5c4edffd5391bbe0  Burden of disease studies\\nAn integrated molec...   \n",
       "0005d253951fedc237715a37db147032eea28912                             \\nLuis Mené ndez-Arias   \n",
       "000affa746a03f1fe4e3b3ef1a62fdfa9b9ac52a  Antimicrobial agents and consumption\\nCorrelat...   \n",
       "000b7d1517ceebb34e1e3e817695b6de03e2fa78                                                      \n",
       "\n",
       "                                                                               ref_captions  \\\n",
       "sha                                                                                           \n",
       "0001418189999fea7f7cbe3e82703d71c85a6fe5  Surface expression of the monocyte marker (A);...   \n",
       "00016663c74157a66b4d509d5c4edffd5391bbe0  Scheme for foodborne virus tracking. Virus det...   \n",
       "0005d253951fedc237715a37db147032eea28912  //dx.doi.org/10.1016/j.coviro.2014.08.002 1879...   \n",
       "000affa746a03f1fe4e3b3ef1a62fdfa9b9ac52a  (A) Rates of methicillin-resistant Staphylococ...   \n",
       "000b7d1517ceebb34e1e3e817695b6de03e2fa78  Table S4. Bats cytochrome b sequences data set...   \n",
       "\n",
       "                                                                                   all_text  \\\n",
       "sha                                                                                           \n",
       "0001418189999fea7f7cbe3e82703d71c85a6fe5  Feline infectious peritonitis virus (FIPV) pos...   \n",
       "00016663c74157a66b4d509d5c4edffd5391bbe0  \\nViruses are increasingly recognised as patho...   \n",
       "0005d253951fedc237715a37db147032eea28912  \\nSynthesized by William Prusoff in the late 1...   \n",
       "000affa746a03f1fe4e3b3ef1a62fdfa9b9ac52a  Objectives: This study was conducted to invest...   \n",
       "000b7d1517ceebb34e1e3e817695b6de03e2fa78  \\n- Figure S1 : Phylogeny of all sequences bel...   \n",
       "\n",
       "                                          source_x  \\\n",
       "sha                                                  \n",
       "0001418189999fea7f7cbe3e82703d71c85a6fe5  Elsevier   \n",
       "00016663c74157a66b4d509d5c4edffd5391bbe0  Elsevier   \n",
       "0005d253951fedc237715a37db147032eea28912  Elsevier   \n",
       "000affa746a03f1fe4e3b3ef1a62fdfa9b9ac52a  Elsevier   \n",
       "000b7d1517ceebb34e1e3e817695b6de03e2fa78       NaN   \n",
       "\n",
       "                                                                   doi pmcid  \\\n",
       "sha                                                                            \n",
       "0001418189999fea7f7cbe3e82703d71c85a6fe5  10.1016/j.vetmic.2006.11.026   NaN   \n",
       "00016663c74157a66b4d509d5c4edffd5391bbe0    10.1533/9781845691394.1.77   NaN   \n",
       "0005d253951fedc237715a37db147032eea28912  10.1016/j.coviro.2014.08.002   NaN   \n",
       "000affa746a03f1fe4e3b3ef1a62fdfa9b9ac52a    10.1016/j.jmii.2013.10.008   NaN   \n",
       "000b7d1517ceebb34e1e3e817695b6de03e2fa78                           NaN   NaN   \n",
       "\n",
       "                                           pubmed_id    license publish_time  \\\n",
       "sha                                                                            \n",
       "0001418189999fea7f7cbe3e82703d71c85a6fe5  17188823.0  els-covid   2007-03-31   \n",
       "00016663c74157a66b4d509d5c4edffd5391bbe0         NaN  els-covid   2006-12-31   \n",
       "0005d253951fedc237715a37db147032eea28912  25155454.0  els-covid   2014-10-31   \n",
       "000affa746a03f1fe4e3b3ef1a62fdfa9b9ac52a  24388582.0  els-covid   2015-08-31   \n",
       "000b7d1517ceebb34e1e3e817695b6de03e2fa78         NaN        NaN          NaT   \n",
       "\n",
       "                                                                                    authors  \\\n",
       "sha                                                                                           \n",
       "0001418189999fea7f7cbe3e82703d71c85a6fe5  Cornelissen, E.; Dewerchin, H.L.; Van Hamme, E...   \n",
       "00016663c74157a66b4d509d5c4edffd5391bbe0                           Duizer, E.; Koopmans, M.   \n",
       "0005d253951fedc237715a37db147032eea28912           Menéndez-Arias, Luis; Richman, Douglas D   \n",
       "000affa746a03f1fe4e3b3ef1a62fdfa9b9ac52a  Lai, Chih-Cheng; Chu, Chen-Chen; Cheng, Aristi...   \n",
       "000b7d1517ceebb34e1e3e817695b6de03e2fa78                                                NaN   \n",
       "\n",
       "                                                                                    journal  \\\n",
       "sha                                                                                           \n",
       "0001418189999fea7f7cbe3e82703d71c85a6fe5                            Veterinary Microbiology   \n",
       "00016663c74157a66b4d509d5c4edffd5391bbe0                       Emerging Foodborne Pathogens   \n",
       "0005d253951fedc237715a37db147032eea28912                        Current Opinion in Virology   \n",
       "000affa746a03f1fe4e3b3ef1a62fdfa9b9ac52a  Journal of Microbiology, Immunology and Infection   \n",
       "000b7d1517ceebb34e1e3e817695b6de03e2fa78                                                NaN   \n",
       "\n",
       "                                          Microsoft Academic Paper ID  \\\n",
       "sha                                                                     \n",
       "0001418189999fea7f7cbe3e82703d71c85a6fe5                          NaN   \n",
       "00016663c74157a66b4d509d5c4edffd5391bbe0                          NaN   \n",
       "0005d253951fedc237715a37db147032eea28912                          NaN   \n",
       "000affa746a03f1fe4e3b3ef1a62fdfa9b9ac52a                          NaN   \n",
       "000b7d1517ceebb34e1e3e817695b6de03e2fa78                          NaN   \n",
       "\n",
       "                                         WHO #Covidence has_full_text  \\\n",
       "sha                                                                     \n",
       "0001418189999fea7f7cbe3e82703d71c85a6fe5            NaN          True   \n",
       "00016663c74157a66b4d509d5c4edffd5391bbe0            NaN          True   \n",
       "0005d253951fedc237715a37db147032eea28912            NaN          True   \n",
       "000affa746a03f1fe4e3b3ef1a62fdfa9b9ac52a            NaN          True   \n",
       "000b7d1517ceebb34e1e3e817695b6de03e2fa78            NaN           NaN   \n",
       "\n",
       "                                          full_text_file  \n",
       "sha                                                       \n",
       "0001418189999fea7f7cbe3e82703d71c85a6fe5  custom_license  \n",
       "00016663c74157a66b4d509d5c4edffd5391bbe0  custom_license  \n",
       "0005d253951fedc237715a37db147032eea28912  custom_license  \n",
       "000affa746a03f1fe4e3b3ef1a62fdfa9b9ac52a  custom_license  \n",
       "000b7d1517ceebb34e1e3e817695b6de03e2fa78             NaN  "
      ]
     },
     "execution_count": 14,
     "metadata": {},
     "output_type": "execute_result"
    }
   ],
   "source": [
    "df_docs.head()"
   ]
  },
  {
   "cell_type": "code",
   "execution_count": 9,
   "metadata": {
    "ExecuteTime": {
     "end_time": "2020-04-06T10:59:53.215561Z",
     "start_time": "2020-04-06T10:59:35.786995Z"
    }
   },
   "outputs": [],
   "source": [
    "vectorizer = joblib.load(model_path / \"tf_vectorizer.csv\")\n",
    "lda = joblib.load(model_path / \"lda.csv\")"
   ]
  },
  {
   "cell_type": "code",
   "execution_count": 36,
   "metadata": {
    "ExecuteTime": {
     "end_time": "2020-04-06T11:07:27.738104Z",
     "start_time": "2020-04-06T11:07:27.732986Z"
    }
   },
   "outputs": [],
   "source": [
    "def embed(text):\n",
    "    if isinstance(text, str):\n",
    "        text = [text]\n",
    "    tf = vectorizer.transform(text)\n",
    "    embedding = lda.transform(tf)\n",
    "    \n",
    "    return embedding"
   ]
  },
  {
   "cell_type": "code",
   "execution_count": 56,
   "metadata": {
    "ExecuteTime": {
     "end_time": "2020-04-06T11:38:57.563066Z",
     "start_time": "2020-04-06T11:16:11.537985Z"
    }
   },
   "outputs": [],
   "source": [
    "embeddings = embed(df_docs['text'])"
   ]
  },
  {
   "cell_type": "code",
   "execution_count": 57,
   "metadata": {
    "ExecuteTime": {
     "end_time": "2020-04-06T11:38:57.576741Z",
     "start_time": "2020-04-06T11:38:57.568593Z"
    }
   },
   "outputs": [],
   "source": [
    "df_embeddings = pd.DataFrame(embeddings, index=df_docs.index)"
   ]
  },
  {
   "cell_type": "code",
   "execution_count": 58,
   "metadata": {
    "ExecuteTime": {
     "end_time": "2020-04-06T11:39:00.484350Z",
     "start_time": "2020-04-06T11:38:57.580819Z"
    }
   },
   "outputs": [],
   "source": [
    "df_embeddings.to_csv(export_path / \"lda_embeddings.csv\")"
   ]
  },
  {
   "cell_type": "code",
   "execution_count": null,
   "metadata": {},
   "outputs": [],
   "source": []
  }
 ],
 "metadata": {
  "kernelspec": {
   "display_name": "Python 3",
   "language": "python",
   "name": "python3"
  },
  "language_info": {
   "codemirror_mode": {
    "name": "ipython",
    "version": 3
   },
   "file_extension": ".py",
   "mimetype": "text/x-python",
   "name": "python",
   "nbconvert_exporter": "python",
   "pygments_lexer": "ipython3",
   "version": "3.6.10"
  },
  "toc": {
   "base_numbering": 1,
   "nav_menu": {},
   "number_sections": true,
   "sideBar": true,
   "skip_h1_title": true,
   "title_cell": "Table of Contents",
   "title_sidebar": "Contents",
   "toc_cell": false,
   "toc_position": {},
   "toc_section_display": true,
   "toc_window_display": true
  }
 },
 "nbformat": 4,
 "nbformat_minor": 2
}
