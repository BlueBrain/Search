{
 "cells": [
  {
   "cell_type": "code",
   "execution_count": 58,
   "metadata": {
    "ExecuteTime": {
     "end_time": "2020-04-06T15:22:49.648974Z",
     "start_time": "2020-04-06T15:22:49.644437Z"
    }
   },
   "outputs": [],
   "source": [
    "import textwrap"
   ]
  },
  {
   "cell_type": "code",
   "execution_count": 1,
   "metadata": {
    "ExecuteTime": {
     "end_time": "2020-04-06T12:40:45.707465Z",
     "start_time": "2020-04-06T12:40:35.614743Z"
    }
   },
   "outputs": [],
   "source": [
    "import en_core_sci_md\n",
    "\n",
    "\n",
    "nlp = en_core_sci_md.load()"
   ]
  },
  {
   "cell_type": "markdown",
   "metadata": {},
   "source": [
    "## Installations"
   ]
  },
  {
   "cell_type": "code",
   "execution_count": 18,
   "metadata": {
    "ExecuteTime": {
     "end_time": "2020-04-06T12:55:31.555014Z",
     "start_time": "2020-04-06T12:54:14.028525Z"
    },
    "scrolled": false
   },
   "outputs": [
    {
     "name": "stdout",
     "output_type": "stream",
     "text": [
      "Collecting https://s3-us-west-2.amazonaws.com/ai2-s2-scispacy/releases/v0.2.4/en_ner_craft_md-0.2.4.tar.gz\n",
      "  Downloading https://s3-us-west-2.amazonaws.com/ai2-s2-scispacy/releases/v0.2.4/en_ner_craft_md-0.2.4.tar.gz (70.1 MB)\n",
      "\u001b[K     |████████████████████████████████| 70.1 MB 806 kB/s eta 0:00:01     |██████████████████▍             | 40.2 MB 796 kB/s eta 0:00:38\n",
      "\u001b[?25hRequirement already satisfied: spacy>=2.2.1 in /home/sschmidt/.local/lib/python3.6/site-packages (from en-ner-craft-md==0.2.4) (2.2.4)\n",
      "Requirement already satisfied: wasabi<1.1.0,>=0.4.0 in /home/sschmidt/.local/lib/python3.6/site-packages (from spacy>=2.2.1->en-ner-craft-md==0.2.4) (0.6.0)\n",
      "Requirement already satisfied: thinc==7.4.0 in /home/sschmidt/.local/lib/python3.6/site-packages (from spacy>=2.2.1->en-ner-craft-md==0.2.4) (7.4.0)\n",
      "Requirement already satisfied: setuptools in /opt/conda/lib/python3.6/site-packages (from spacy>=2.2.1->en-ner-craft-md==0.2.4) (46.0.0.post20200309)\n",
      "Requirement already satisfied: tqdm<5.0.0,>=4.38.0 in /opt/conda/lib/python3.6/site-packages (from spacy>=2.2.1->en-ner-craft-md==0.2.4) (4.43.0)\n",
      "Requirement already satisfied: plac<1.2.0,>=0.9.6 in /home/sschmidt/.local/lib/python3.6/site-packages (from spacy>=2.2.1->en-ner-craft-md==0.2.4) (1.1.3)\n",
      "Requirement already satisfied: srsly<1.1.0,>=1.0.2 in /home/sschmidt/.local/lib/python3.6/site-packages (from spacy>=2.2.1->en-ner-craft-md==0.2.4) (1.0.2)\n",
      "Requirement already satisfied: murmurhash<1.1.0,>=0.28.0 in /home/sschmidt/.local/lib/python3.6/site-packages (from spacy>=2.2.1->en-ner-craft-md==0.2.4) (1.0.2)\n",
      "Requirement already satisfied: numpy>=1.15.0 in /opt/conda/lib/python3.6/site-packages (from spacy>=2.2.1->en-ner-craft-md==0.2.4) (1.18.2)\n",
      "Requirement already satisfied: blis<0.5.0,>=0.4.0 in /home/sschmidt/.local/lib/python3.6/site-packages (from spacy>=2.2.1->en-ner-craft-md==0.2.4) (0.4.1)\n",
      "Requirement already satisfied: preshed<3.1.0,>=3.0.2 in /home/sschmidt/.local/lib/python3.6/site-packages (from spacy>=2.2.1->en-ner-craft-md==0.2.4) (3.0.2)\n",
      "Requirement already satisfied: requests<3.0.0,>=2.13.0 in /opt/conda/lib/python3.6/site-packages (from spacy>=2.2.1->en-ner-craft-md==0.2.4) (2.23.0)\n",
      "Requirement already satisfied: catalogue<1.1.0,>=0.0.7 in /home/sschmidt/.local/lib/python3.6/site-packages (from spacy>=2.2.1->en-ner-craft-md==0.2.4) (1.0.0)\n",
      "Requirement already satisfied: cymem<2.1.0,>=2.0.2 in /home/sschmidt/.local/lib/python3.6/site-packages (from spacy>=2.2.1->en-ner-craft-md==0.2.4) (2.0.3)\n",
      "Requirement already satisfied: urllib3!=1.25.0,!=1.25.1,<1.26,>=1.21.1 in /opt/conda/lib/python3.6/site-packages (from requests<3.0.0,>=2.13.0->spacy>=2.2.1->en-ner-craft-md==0.2.4) (1.25.8)\n",
      "Requirement already satisfied: certifi>=2017.4.17 in /opt/conda/lib/python3.6/site-packages (from requests<3.0.0,>=2.13.0->spacy>=2.2.1->en-ner-craft-md==0.2.4) (2019.11.28)\n",
      "Requirement already satisfied: chardet<4,>=3.0.2 in /opt/conda/lib/python3.6/site-packages (from requests<3.0.0,>=2.13.0->spacy>=2.2.1->en-ner-craft-md==0.2.4) (3.0.4)\n",
      "Requirement already satisfied: idna<3,>=2.5 in /opt/conda/lib/python3.6/site-packages (from requests<3.0.0,>=2.13.0->spacy>=2.2.1->en-ner-craft-md==0.2.4) (2.9)\n",
      "Requirement already satisfied: importlib-metadata>=0.20; python_version < \"3.8\" in /opt/conda/lib/python3.6/site-packages (from catalogue<1.1.0,>=0.0.7->spacy>=2.2.1->en-ner-craft-md==0.2.4) (1.3.0)\n",
      "Requirement already satisfied: zipp>=0.5 in /opt/conda/lib/python3.6/site-packages (from importlib-metadata>=0.20; python_version < \"3.8\"->catalogue<1.1.0,>=0.0.7->spacy>=2.2.1->en-ner-craft-md==0.2.4) (0.6.0)\n",
      "Requirement already satisfied: more-itertools in /opt/conda/lib/python3.6/site-packages (from zipp>=0.5->importlib-metadata>=0.20; python_version < \"3.8\"->catalogue<1.1.0,>=0.0.7->spacy>=2.2.1->en-ner-craft-md==0.2.4) (8.0.2)\n",
      "Building wheels for collected packages: en-ner-craft-md\n",
      "  Building wheel for en-ner-craft-md (setup.py) ... \u001b[?25ldone\n",
      "\u001b[?25h  Created wheel for en-ner-craft-md: filename=en_ner_craft_md-0.2.4-py3-none-any.whl size=70540605 sha256=51f968f6f91024e5b12aec14f26dc87e958c4e40f853c380426c25dafde08711\n",
      "  Stored in directory: /home/sschmidt/.cache/pip/wheels/64/83/5e/e01c4ac4512b393b6f5a0a1362b5bf1cc39cf5e3a13e9d32db\n",
      "Successfully built en-ner-craft-md\n",
      "Installing collected packages: en-ner-craft-md\n",
      "Successfully installed en-ner-craft-md-0.2.4\n",
      "Collecting https://s3-us-west-2.amazonaws.com/ai2-s2-scispacy/releases/v0.2.4/en_ner_jnlpba_md-0.2.4.tar.gz\n",
      "  Downloading https://s3-us-west-2.amazonaws.com/ai2-s2-scispacy/releases/v0.2.4/en_ner_jnlpba_md-0.2.4.tar.gz (70.1 MB)\n",
      "\u001b[K     |████████████████████████████████| 70.1 MB 915 kB/s eta 0:00:01\n",
      "\u001b[?25hRequirement already satisfied: spacy>=2.2.1 in /home/sschmidt/.local/lib/python3.6/site-packages (from en-ner-jnlpba-md==0.2.4) (2.2.4)\n",
      "Requirement already satisfied: cymem<2.1.0,>=2.0.2 in /home/sschmidt/.local/lib/python3.6/site-packages (from spacy>=2.2.1->en-ner-jnlpba-md==0.2.4) (2.0.3)\n",
      "Requirement already satisfied: thinc==7.4.0 in /home/sschmidt/.local/lib/python3.6/site-packages (from spacy>=2.2.1->en-ner-jnlpba-md==0.2.4) (7.4.0)\n",
      "Requirement already satisfied: setuptools in /opt/conda/lib/python3.6/site-packages (from spacy>=2.2.1->en-ner-jnlpba-md==0.2.4) (46.0.0.post20200309)\n",
      "Requirement already satisfied: murmurhash<1.1.0,>=0.28.0 in /home/sschmidt/.local/lib/python3.6/site-packages (from spacy>=2.2.1->en-ner-jnlpba-md==0.2.4) (1.0.2)\n",
      "Requirement already satisfied: requests<3.0.0,>=2.13.0 in /opt/conda/lib/python3.6/site-packages (from spacy>=2.2.1->en-ner-jnlpba-md==0.2.4) (2.23.0)\n",
      "Requirement already satisfied: numpy>=1.15.0 in /opt/conda/lib/python3.6/site-packages (from spacy>=2.2.1->en-ner-jnlpba-md==0.2.4) (1.18.2)\n",
      "Requirement already satisfied: plac<1.2.0,>=0.9.6 in /home/sschmidt/.local/lib/python3.6/site-packages (from spacy>=2.2.1->en-ner-jnlpba-md==0.2.4) (1.1.3)\n",
      "Requirement already satisfied: preshed<3.1.0,>=3.0.2 in /home/sschmidt/.local/lib/python3.6/site-packages (from spacy>=2.2.1->en-ner-jnlpba-md==0.2.4) (3.0.2)\n",
      "Requirement already satisfied: tqdm<5.0.0,>=4.38.0 in /opt/conda/lib/python3.6/site-packages (from spacy>=2.2.1->en-ner-jnlpba-md==0.2.4) (4.43.0)\n",
      "Requirement already satisfied: blis<0.5.0,>=0.4.0 in /home/sschmidt/.local/lib/python3.6/site-packages (from spacy>=2.2.1->en-ner-jnlpba-md==0.2.4) (0.4.1)\n",
      "Requirement already satisfied: srsly<1.1.0,>=1.0.2 in /home/sschmidt/.local/lib/python3.6/site-packages (from spacy>=2.2.1->en-ner-jnlpba-md==0.2.4) (1.0.2)\n",
      "Requirement already satisfied: wasabi<1.1.0,>=0.4.0 in /home/sschmidt/.local/lib/python3.6/site-packages (from spacy>=2.2.1->en-ner-jnlpba-md==0.2.4) (0.6.0)\n",
      "Requirement already satisfied: catalogue<1.1.0,>=0.0.7 in /home/sschmidt/.local/lib/python3.6/site-packages (from spacy>=2.2.1->en-ner-jnlpba-md==0.2.4) (1.0.0)\n",
      "Requirement already satisfied: certifi>=2017.4.17 in /opt/conda/lib/python3.6/site-packages (from requests<3.0.0,>=2.13.0->spacy>=2.2.1->en-ner-jnlpba-md==0.2.4) (2019.11.28)\n",
      "Requirement already satisfied: chardet<4,>=3.0.2 in /opt/conda/lib/python3.6/site-packages (from requests<3.0.0,>=2.13.0->spacy>=2.2.1->en-ner-jnlpba-md==0.2.4) (3.0.4)\n",
      "Requirement already satisfied: urllib3!=1.25.0,!=1.25.1,<1.26,>=1.21.1 in /opt/conda/lib/python3.6/site-packages (from requests<3.0.0,>=2.13.0->spacy>=2.2.1->en-ner-jnlpba-md==0.2.4) (1.25.8)\n",
      "Requirement already satisfied: idna<3,>=2.5 in /opt/conda/lib/python3.6/site-packages (from requests<3.0.0,>=2.13.0->spacy>=2.2.1->en-ner-jnlpba-md==0.2.4) (2.9)\n",
      "Requirement already satisfied: importlib-metadata>=0.20; python_version < \"3.8\" in /opt/conda/lib/python3.6/site-packages (from catalogue<1.1.0,>=0.0.7->spacy>=2.2.1->en-ner-jnlpba-md==0.2.4) (1.3.0)\n",
      "Requirement already satisfied: zipp>=0.5 in /opt/conda/lib/python3.6/site-packages (from importlib-metadata>=0.20; python_version < \"3.8\"->catalogue<1.1.0,>=0.0.7->spacy>=2.2.1->en-ner-jnlpba-md==0.2.4) (0.6.0)\n",
      "Requirement already satisfied: more-itertools in /opt/conda/lib/python3.6/site-packages (from zipp>=0.5->importlib-metadata>=0.20; python_version < \"3.8\"->catalogue<1.1.0,>=0.0.7->spacy>=2.2.1->en-ner-jnlpba-md==0.2.4) (8.0.2)\n",
      "Building wheels for collected packages: en-ner-jnlpba-md\n"
     ]
    },
    {
     "name": "stdout",
     "output_type": "stream",
     "text": [
      "  Building wheel for en-ner-jnlpba-md (setup.py) ... \u001b[?25ldone\n",
      "\u001b[?25h  Created wheel for en-ner-jnlpba-md: filename=en_ner_jnlpba_md-0.2.4-py3-none-any.whl size=70531494 sha256=ce5e7cb913f057173e1c759641d15faf82a9b644fac612ab92f53743fa86a983\n",
      "  Stored in directory: /home/sschmidt/.cache/pip/wheels/4e/5a/99/0391f161e42ad59b820878ca4e495bfc175cb9ba6ffbc3a229\n",
      "Successfully built en-ner-jnlpba-md\n",
      "Installing collected packages: en-ner-jnlpba-md\n",
      "Successfully installed en-ner-jnlpba-md-0.2.4\n",
      "Collecting https://s3-us-west-2.amazonaws.com/ai2-s2-scispacy/releases/v0.2.4/en_ner_bc5cdr_md-0.2.4.tar.gz\n",
      "  Downloading https://s3-us-west-2.amazonaws.com/ai2-s2-scispacy/releases/v0.2.4/en_ner_bc5cdr_md-0.2.4.tar.gz (70.1 MB)\n",
      "\u001b[K     |████████████████████████████████| 70.1 MB 882 kB/s eta 0:00:01\n",
      "\u001b[?25hRequirement already satisfied: spacy>=2.2.1 in /home/sschmidt/.local/lib/python3.6/site-packages (from en-ner-bc5cdr-md==0.2.4) (2.2.4)\n",
      "Requirement already satisfied: numpy>=1.15.0 in /opt/conda/lib/python3.6/site-packages (from spacy>=2.2.1->en-ner-bc5cdr-md==0.2.4) (1.18.2)\n",
      "Requirement already satisfied: preshed<3.1.0,>=3.0.2 in /home/sschmidt/.local/lib/python3.6/site-packages (from spacy>=2.2.1->en-ner-bc5cdr-md==0.2.4) (3.0.2)\n",
      "Requirement already satisfied: thinc==7.4.0 in /home/sschmidt/.local/lib/python3.6/site-packages (from spacy>=2.2.1->en-ner-bc5cdr-md==0.2.4) (7.4.0)\n",
      "Requirement already satisfied: srsly<1.1.0,>=1.0.2 in /home/sschmidt/.local/lib/python3.6/site-packages (from spacy>=2.2.1->en-ner-bc5cdr-md==0.2.4) (1.0.2)\n",
      "Requirement already satisfied: plac<1.2.0,>=0.9.6 in /home/sschmidt/.local/lib/python3.6/site-packages (from spacy>=2.2.1->en-ner-bc5cdr-md==0.2.4) (1.1.3)\n",
      "Requirement already satisfied: murmurhash<1.1.0,>=0.28.0 in /home/sschmidt/.local/lib/python3.6/site-packages (from spacy>=2.2.1->en-ner-bc5cdr-md==0.2.4) (1.0.2)\n",
      "Requirement already satisfied: blis<0.5.0,>=0.4.0 in /home/sschmidt/.local/lib/python3.6/site-packages (from spacy>=2.2.1->en-ner-bc5cdr-md==0.2.4) (0.4.1)\n",
      "Requirement already satisfied: requests<3.0.0,>=2.13.0 in /opt/conda/lib/python3.6/site-packages (from spacy>=2.2.1->en-ner-bc5cdr-md==0.2.4) (2.23.0)\n",
      "Requirement already satisfied: tqdm<5.0.0,>=4.38.0 in /opt/conda/lib/python3.6/site-packages (from spacy>=2.2.1->en-ner-bc5cdr-md==0.2.4) (4.43.0)\n",
      "Requirement already satisfied: catalogue<1.1.0,>=0.0.7 in /home/sschmidt/.local/lib/python3.6/site-packages (from spacy>=2.2.1->en-ner-bc5cdr-md==0.2.4) (1.0.0)\n",
      "Requirement already satisfied: setuptools in /opt/conda/lib/python3.6/site-packages (from spacy>=2.2.1->en-ner-bc5cdr-md==0.2.4) (46.0.0.post20200309)\n",
      "Requirement already satisfied: wasabi<1.1.0,>=0.4.0 in /home/sschmidt/.local/lib/python3.6/site-packages (from spacy>=2.2.1->en-ner-bc5cdr-md==0.2.4) (0.6.0)\n",
      "Requirement already satisfied: cymem<2.1.0,>=2.0.2 in /home/sschmidt/.local/lib/python3.6/site-packages (from spacy>=2.2.1->en-ner-bc5cdr-md==0.2.4) (2.0.3)\n",
      "Requirement already satisfied: certifi>=2017.4.17 in /opt/conda/lib/python3.6/site-packages (from requests<3.0.0,>=2.13.0->spacy>=2.2.1->en-ner-bc5cdr-md==0.2.4) (2019.11.28)\n",
      "Requirement already satisfied: chardet<4,>=3.0.2 in /opt/conda/lib/python3.6/site-packages (from requests<3.0.0,>=2.13.0->spacy>=2.2.1->en-ner-bc5cdr-md==0.2.4) (3.0.4)\n",
      "Requirement already satisfied: urllib3!=1.25.0,!=1.25.1,<1.26,>=1.21.1 in /opt/conda/lib/python3.6/site-packages (from requests<3.0.0,>=2.13.0->spacy>=2.2.1->en-ner-bc5cdr-md==0.2.4) (1.25.8)\n",
      "Requirement already satisfied: idna<3,>=2.5 in /opt/conda/lib/python3.6/site-packages (from requests<3.0.0,>=2.13.0->spacy>=2.2.1->en-ner-bc5cdr-md==0.2.4) (2.9)\n",
      "Requirement already satisfied: importlib-metadata>=0.20; python_version < \"3.8\" in /opt/conda/lib/python3.6/site-packages (from catalogue<1.1.0,>=0.0.7->spacy>=2.2.1->en-ner-bc5cdr-md==0.2.4) (1.3.0)\n",
      "Requirement already satisfied: zipp>=0.5 in /opt/conda/lib/python3.6/site-packages (from importlib-metadata>=0.20; python_version < \"3.8\"->catalogue<1.1.0,>=0.0.7->spacy>=2.2.1->en-ner-bc5cdr-md==0.2.4) (0.6.0)\n",
      "Requirement already satisfied: more-itertools in /opt/conda/lib/python3.6/site-packages (from zipp>=0.5->importlib-metadata>=0.20; python_version < \"3.8\"->catalogue<1.1.0,>=0.0.7->spacy>=2.2.1->en-ner-bc5cdr-md==0.2.4) (8.0.2)\n",
      "Building wheels for collected packages: en-ner-bc5cdr-md\n",
      "  Building wheel for en-ner-bc5cdr-md (setup.py) ... \u001b[?25ldone\n",
      "\u001b[?25h  Created wheel for en-ner-bc5cdr-md: filename=en_ner_bc5cdr_md-0.2.4-py3-none-any.whl size=70531464 sha256=e6de6ff042709f2ff8d3eea5ed7dd0f1a0c8cae61593b42d11513323cb93a9c6\n",
      "  Stored in directory: /home/sschmidt/.cache/pip/wheels/ef/46/ab/a7c167cf18e10044e58be349e252c93e07eec2760d8c1d93ef\n",
      "Successfully built en-ner-bc5cdr-md\n",
      "Installing collected packages: en-ner-bc5cdr-md\n",
      "Successfully installed en-ner-bc5cdr-md-0.2.4\n",
      "Collecting https://s3-us-west-2.amazonaws.com/ai2-s2-scispacy/releases/v0.2.4/en_ner_bionlp13cg_md-0.2.4.tar.gz\n",
      "  Downloading https://s3-us-west-2.amazonaws.com/ai2-s2-scispacy/releases/v0.2.4/en_ner_bionlp13cg_md-0.2.4.tar.gz (70.1 MB)\n",
      "\u001b[K     |████████████████████████████████| 70.1 MB 847 kB/s eta 0:00:01\n",
      "\u001b[?25hRequirement already satisfied: spacy>=2.2.1 in /home/sschmidt/.local/lib/python3.6/site-packages (from en-ner-bionlp13cg-md==0.2.4) (2.2.4)\n",
      "Requirement already satisfied: preshed<3.1.0,>=3.0.2 in /home/sschmidt/.local/lib/python3.6/site-packages (from spacy>=2.2.1->en-ner-bionlp13cg-md==0.2.4) (3.0.2)\n",
      "Requirement already satisfied: setuptools in /opt/conda/lib/python3.6/site-packages (from spacy>=2.2.1->en-ner-bionlp13cg-md==0.2.4) (46.0.0.post20200309)\n",
      "Requirement already satisfied: srsly<1.1.0,>=1.0.2 in /home/sschmidt/.local/lib/python3.6/site-packages (from spacy>=2.2.1->en-ner-bionlp13cg-md==0.2.4) (1.0.2)\n",
      "Requirement already satisfied: catalogue<1.1.0,>=0.0.7 in /home/sschmidt/.local/lib/python3.6/site-packages (from spacy>=2.2.1->en-ner-bionlp13cg-md==0.2.4) (1.0.0)\n",
      "Requirement already satisfied: numpy>=1.15.0 in /opt/conda/lib/python3.6/site-packages (from spacy>=2.2.1->en-ner-bionlp13cg-md==0.2.4) (1.18.2)\n",
      "Requirement already satisfied: requests<3.0.0,>=2.13.0 in /opt/conda/lib/python3.6/site-packages (from spacy>=2.2.1->en-ner-bionlp13cg-md==0.2.4) (2.23.0)\n",
      "Requirement already satisfied: murmurhash<1.1.0,>=0.28.0 in /home/sschmidt/.local/lib/python3.6/site-packages (from spacy>=2.2.1->en-ner-bionlp13cg-md==0.2.4) (1.0.2)\n",
      "Requirement already satisfied: tqdm<5.0.0,>=4.38.0 in /opt/conda/lib/python3.6/site-packages (from spacy>=2.2.1->en-ner-bionlp13cg-md==0.2.4) (4.43.0)\n",
      "Requirement already satisfied: wasabi<1.1.0,>=0.4.0 in /home/sschmidt/.local/lib/python3.6/site-packages (from spacy>=2.2.1->en-ner-bionlp13cg-md==0.2.4) (0.6.0)\n",
      "Requirement already satisfied: plac<1.2.0,>=0.9.6 in /home/sschmidt/.local/lib/python3.6/site-packages (from spacy>=2.2.1->en-ner-bionlp13cg-md==0.2.4) (1.1.3)\n",
      "Requirement already satisfied: thinc==7.4.0 in /home/sschmidt/.local/lib/python3.6/site-packages (from spacy>=2.2.1->en-ner-bionlp13cg-md==0.2.4) (7.4.0)\n",
      "Requirement already satisfied: blis<0.5.0,>=0.4.0 in /home/sschmidt/.local/lib/python3.6/site-packages (from spacy>=2.2.1->en-ner-bionlp13cg-md==0.2.4) (0.4.1)\n",
      "Requirement already satisfied: cymem<2.1.0,>=2.0.2 in /home/sschmidt/.local/lib/python3.6/site-packages (from spacy>=2.2.1->en-ner-bionlp13cg-md==0.2.4) (2.0.3)\n",
      "Requirement already satisfied: importlib-metadata>=0.20; python_version < \"3.8\" in /opt/conda/lib/python3.6/site-packages (from catalogue<1.1.0,>=0.0.7->spacy>=2.2.1->en-ner-bionlp13cg-md==0.2.4) (1.3.0)\n",
      "Requirement already satisfied: idna<3,>=2.5 in /opt/conda/lib/python3.6/site-packages (from requests<3.0.0,>=2.13.0->spacy>=2.2.1->en-ner-bionlp13cg-md==0.2.4) (2.9)\n",
      "Requirement already satisfied: chardet<4,>=3.0.2 in /opt/conda/lib/python3.6/site-packages (from requests<3.0.0,>=2.13.0->spacy>=2.2.1->en-ner-bionlp13cg-md==0.2.4) (3.0.4)\n",
      "Requirement already satisfied: urllib3!=1.25.0,!=1.25.1,<1.26,>=1.21.1 in /opt/conda/lib/python3.6/site-packages (from requests<3.0.0,>=2.13.0->spacy>=2.2.1->en-ner-bionlp13cg-md==0.2.4) (1.25.8)\n",
      "Requirement already satisfied: certifi>=2017.4.17 in /opt/conda/lib/python3.6/site-packages (from requests<3.0.0,>=2.13.0->spacy>=2.2.1->en-ner-bionlp13cg-md==0.2.4) (2019.11.28)\n",
      "Requirement already satisfied: zipp>=0.5 in /opt/conda/lib/python3.6/site-packages (from importlib-metadata>=0.20; python_version < \"3.8\"->catalogue<1.1.0,>=0.0.7->spacy>=2.2.1->en-ner-bionlp13cg-md==0.2.4) (0.6.0)\n",
      "Requirement already satisfied: more-itertools in /opt/conda/lib/python3.6/site-packages (from zipp>=0.5->importlib-metadata>=0.20; python_version < \"3.8\"->catalogue<1.1.0,>=0.0.7->spacy>=2.2.1->en-ner-bionlp13cg-md==0.2.4) (8.0.2)\n",
      "Building wheels for collected packages: en-ner-bionlp13cg-md\n"
     ]
    },
    {
     "name": "stdout",
     "output_type": "stream",
     "text": [
      "  Building wheel for en-ner-bionlp13cg-md (setup.py) ... \u001b[?25ldone\n",
      "\u001b[?25h  Created wheel for en-ner-bionlp13cg-md: filename=en_ner_bionlp13cg_md-0.2.4-py3-none-any.whl size=70542690 sha256=2f702bc86ddaca888313e787e3b066a7d4fa5ec8f5ac0d544be36d9360b0269c\n",
      "  Stored in directory: /home/sschmidt/.cache/pip/wheels/d8/d6/fe/377a4530f8e2979b48ef8338e64579c7277a85e3647f51f282\n",
      "Successfully built en-ner-bionlp13cg-md\n",
      "Installing collected packages: en-ner-bionlp13cg-md\n",
      "Successfully installed en-ner-bionlp13cg-md-0.2.4\n"
     ]
    }
   ],
   "source": [
    "!pip install --user https://s3-us-west-2.amazonaws.com/ai2-s2-scispacy/releases/v0.2.4/en_ner_craft_md-0.2.4.tar.gz\n",
    "!pip install --user https://s3-us-west-2.amazonaws.com/ai2-s2-scispacy/releases/v0.2.4/en_ner_jnlpba_md-0.2.4.tar.gz\n",
    "!pip install --user https://s3-us-west-2.amazonaws.com/ai2-s2-scispacy/releases/v0.2.4/en_ner_bc5cdr_md-0.2.4.tar.gz\n",
    "!pip install --user https://s3-us-west-2.amazonaws.com/ai2-s2-scispacy/releases/v0.2.4/en_ner_bionlp13cg_md-0.2.4.tar.gz"
   ]
  },
  {
   "cell_type": "code",
   "execution_count": 8,
   "metadata": {
    "ExecuteTime": {
     "end_time": "2020-04-06T12:45:25.153233Z",
     "start_time": "2020-04-06T12:45:15.597509Z"
    }
   },
   "outputs": [
    {
     "name": "stdout",
     "output_type": "stream",
     "text": [
      "Defaulting to user installation because normal site-packages is not writeable\n",
      "Collecting en_core_web_sm==2.2.5\n",
      "  Downloading https://github.com/explosion/spacy-models/releases/download/en_core_web_sm-2.2.5/en_core_web_sm-2.2.5.tar.gz (12.0 MB)\n",
      "\u001b[K     |████████████████████████████████| 12.0 MB 495 kB/s eta 0:00:01\n",
      "\u001b[?25hRequirement already satisfied: spacy>=2.2.2 in /home/sschmidt/.local/lib/python3.6/site-packages (from en_core_web_sm==2.2.5) (2.2.4)\n",
      "Requirement already satisfied: catalogue<1.1.0,>=0.0.7 in /home/sschmidt/.local/lib/python3.6/site-packages (from spacy>=2.2.2->en_core_web_sm==2.2.5) (1.0.0)\n",
      "Requirement already satisfied: murmurhash<1.1.0,>=0.28.0 in /home/sschmidt/.local/lib/python3.6/site-packages (from spacy>=2.2.2->en_core_web_sm==2.2.5) (1.0.2)\n",
      "Requirement already satisfied: wasabi<1.1.0,>=0.4.0 in /home/sschmidt/.local/lib/python3.6/site-packages (from spacy>=2.2.2->en_core_web_sm==2.2.5) (0.6.0)\n",
      "Requirement already satisfied: thinc==7.4.0 in /home/sschmidt/.local/lib/python3.6/site-packages (from spacy>=2.2.2->en_core_web_sm==2.2.5) (7.4.0)\n",
      "Requirement already satisfied: plac<1.2.0,>=0.9.6 in /home/sschmidt/.local/lib/python3.6/site-packages (from spacy>=2.2.2->en_core_web_sm==2.2.5) (1.1.3)\n",
      "Requirement already satisfied: setuptools in /opt/conda/lib/python3.6/site-packages (from spacy>=2.2.2->en_core_web_sm==2.2.5) (46.0.0.post20200309)\n",
      "Requirement already satisfied: cymem<2.1.0,>=2.0.2 in /home/sschmidt/.local/lib/python3.6/site-packages (from spacy>=2.2.2->en_core_web_sm==2.2.5) (2.0.3)\n",
      "Requirement already satisfied: tqdm<5.0.0,>=4.38.0 in /opt/conda/lib/python3.6/site-packages (from spacy>=2.2.2->en_core_web_sm==2.2.5) (4.43.0)\n",
      "Requirement already satisfied: srsly<1.1.0,>=1.0.2 in /home/sschmidt/.local/lib/python3.6/site-packages (from spacy>=2.2.2->en_core_web_sm==2.2.5) (1.0.2)\n",
      "Requirement already satisfied: blis<0.5.0,>=0.4.0 in /home/sschmidt/.local/lib/python3.6/site-packages (from spacy>=2.2.2->en_core_web_sm==2.2.5) (0.4.1)\n",
      "Requirement already satisfied: requests<3.0.0,>=2.13.0 in /opt/conda/lib/python3.6/site-packages (from spacy>=2.2.2->en_core_web_sm==2.2.5) (2.23.0)\n",
      "Requirement already satisfied: numpy>=1.15.0 in /opt/conda/lib/python3.6/site-packages (from spacy>=2.2.2->en_core_web_sm==2.2.5) (1.18.2)\n",
      "Requirement already satisfied: preshed<3.1.0,>=3.0.2 in /home/sschmidt/.local/lib/python3.6/site-packages (from spacy>=2.2.2->en_core_web_sm==2.2.5) (3.0.2)\n",
      "Requirement already satisfied: importlib-metadata>=0.20; python_version < \"3.8\" in /opt/conda/lib/python3.6/site-packages (from catalogue<1.1.0,>=0.0.7->spacy>=2.2.2->en_core_web_sm==2.2.5) (1.3.0)\n",
      "Requirement already satisfied: idna<3,>=2.5 in /opt/conda/lib/python3.6/site-packages (from requests<3.0.0,>=2.13.0->spacy>=2.2.2->en_core_web_sm==2.2.5) (2.9)\n",
      "Requirement already satisfied: chardet<4,>=3.0.2 in /opt/conda/lib/python3.6/site-packages (from requests<3.0.0,>=2.13.0->spacy>=2.2.2->en_core_web_sm==2.2.5) (3.0.4)\n",
      "Requirement already satisfied: certifi>=2017.4.17 in /opt/conda/lib/python3.6/site-packages (from requests<3.0.0,>=2.13.0->spacy>=2.2.2->en_core_web_sm==2.2.5) (2019.11.28)\n",
      "Requirement already satisfied: urllib3!=1.25.0,!=1.25.1,<1.26,>=1.21.1 in /opt/conda/lib/python3.6/site-packages (from requests<3.0.0,>=2.13.0->spacy>=2.2.2->en_core_web_sm==2.2.5) (1.25.8)\n",
      "Requirement already satisfied: zipp>=0.5 in /opt/conda/lib/python3.6/site-packages (from importlib-metadata>=0.20; python_version < \"3.8\"->catalogue<1.1.0,>=0.0.7->spacy>=2.2.2->en_core_web_sm==2.2.5) (0.6.0)\n",
      "Requirement already satisfied: more-itertools in /opt/conda/lib/python3.6/site-packages (from zipp>=0.5->importlib-metadata>=0.20; python_version < \"3.8\"->catalogue<1.1.0,>=0.0.7->spacy>=2.2.2->en_core_web_sm==2.2.5) (8.0.2)\n",
      "Building wheels for collected packages: en-core-web-sm\n",
      "  Building wheel for en-core-web-sm (setup.py) ... \u001b[?25ldone\n",
      "\u001b[?25h  Created wheel for en-core-web-sm: filename=en_core_web_sm-2.2.5-py3-none-any.whl size=12011738 sha256=c68627b6eed1da0d34569dbfcbb3bcf70d5b70292dba373b5e0e8ca8daaf6cd7\n",
      "  Stored in directory: /tmp/pip-ephem-wheel-cache-nziouz34/wheels/b5/94/56/596daa677d7e91038cbddfcf32b591d0c915a1b3a3e3d3c79d\n",
      "Successfully built en-core-web-sm\n",
      "Installing collected packages: en-core-web-sm\n",
      "Successfully installed en-core-web-sm-2.2.5\n",
      "\u001b[38;5;2m✔ Download and installation successful\u001b[0m\n",
      "You can now load the model via spacy.load('en_core_web_sm')\n"
     ]
    }
   ],
   "source": [
    "!python -m spacy download en_core_web_sm"
   ]
  },
  {
   "cell_type": "markdown",
   "metadata": {},
   "source": [
    "## Experiments"
   ]
  },
  {
   "cell_type": "code",
   "execution_count": 5,
   "metadata": {
    "ExecuteTime": {
     "end_time": "2020-04-06T12:42:27.649836Z",
     "start_time": "2020-04-06T12:42:27.630915Z"
    }
   },
   "outputs": [
    {
     "name": "stdout",
     "output_type": "stream",
     "text": [
      "Apple 0 5 ENTITY\n",
      "buying U.K. 20 31 ENTITY\n",
      "startup 32 39 ENTITY\n"
     ]
    }
   ],
   "source": [
    "doc = nlp(\"Apple is looking at buying U.K. startup for $1 billion\")\n",
    "\n",
    "for ent in doc.ents:\n",
    "    print(ent.text, ent.start_char, ent.end_char, ent.label_)"
   ]
  },
  {
   "cell_type": "code",
   "execution_count": 4,
   "metadata": {
    "ExecuteTime": {
     "end_time": "2020-04-06T12:42:19.723532Z",
     "start_time": "2020-04-06T12:42:19.720036Z"
    }
   },
   "outputs": [],
   "source": [
    "text = \"Quantifying dynamics of SARS-CoV-2 transmission suggests that epidemic control and avoidance is feasible through instantaneous digital contact tracing\""
   ]
  },
  {
   "cell_type": "code",
   "execution_count": 6,
   "metadata": {
    "ExecuteTime": {
     "end_time": "2020-04-06T12:42:36.535016Z",
     "start_time": "2020-04-06T12:42:36.514430Z"
    }
   },
   "outputs": [
    {
     "name": "stdout",
     "output_type": "stream",
     "text": [
      "Quantifying 0 11 ENTITY\n",
      "dynamics 12 20 ENTITY\n",
      "SARS-CoV-2 24 34 ENTITY\n",
      "transmission 35 47 ENTITY\n",
      "epidemic control 62 78 ENTITY\n",
      "avoidance 83 92 ENTITY\n",
      "instantaneous 113 126 ENTITY\n",
      "digital contact tracing 127 150 ENTITY\n"
     ]
    }
   ],
   "source": [
    "doc = nlp(text)\n",
    "\n",
    "for ent in doc.ents:\n",
    "    print(ent.text, ent.start_char, ent.end_char, ent.label_)"
   ]
  },
  {
   "cell_type": "code",
   "execution_count": 10,
   "metadata": {
    "ExecuteTime": {
     "end_time": "2020-04-06T12:45:37.628694Z",
     "start_time": "2020-04-06T12:45:37.625342Z"
    }
   },
   "outputs": [],
   "source": [
    "import spacy"
   ]
  },
  {
   "cell_type": "code",
   "execution_count": 13,
   "metadata": {
    "ExecuteTime": {
     "end_time": "2020-04-06T12:46:36.409850Z",
     "start_time": "2020-04-06T12:46:35.400127Z"
    }
   },
   "outputs": [],
   "source": [
    "nlp_sp = en_core_web_sm.load()"
   ]
  },
  {
   "cell_type": "code",
   "execution_count": 16,
   "metadata": {
    "ExecuteTime": {
     "end_time": "2020-04-06T12:47:21.681515Z",
     "start_time": "2020-04-06T12:47:21.661448Z"
    }
   },
   "outputs": [
    {
     "name": "stdout",
     "output_type": "stream",
     "text": [
      "Apple 0 5 ORG\n",
      "U.K. 27 31 GPE\n",
      "$1 billion 44 54 MONEY\n"
     ]
    }
   ],
   "source": [
    "doc_sp = nlp_sp(\"Apple is looking at buying U.K. startup for $1 billion\")\n",
    "\n",
    "for ent in doc_sp.ents:\n",
    "    print(ent.text, ent.start_char, ent.end_char, ent.label_)"
   ]
  },
  {
   "cell_type": "markdown",
   "metadata": {},
   "source": [
    "## SciSpacy NER"
   ]
  },
  {
   "cell_type": "markdown",
   "metadata": {},
   "source": [
    "Reference: https://allenai.github.io/scispacy/"
   ]
  },
  {
   "cell_type": "code",
   "execution_count": 20,
   "metadata": {
    "ExecuteTime": {
     "end_time": "2020-04-06T12:57:20.257538Z",
     "start_time": "2020-04-06T12:57:20.209570Z"
    }
   },
   "outputs": [],
   "source": [
    "import en_ner_craft_md\n",
    "import en_ner_jnlpba_md\n",
    "import en_ner_bc5cdr_md\n",
    "import en_ner_bionlp13cg_md"
   ]
  },
  {
   "cell_type": "markdown",
   "metadata": {},
   "source": [
    "Available Named Entities:\n",
    "\n",
    "en_ner_craft_md\n",
    "- GGP\n",
    "- SO\n",
    "- TAXON\n",
    "- CHEBI\n",
    "- GO\n",
    "- CL\n",
    "\n",
    "en_ner_jnlpba_md\n",
    "- DNA\n",
    "- CELL_TYPE\n",
    "- CELL_LINE\n",
    "- RNA\n",
    "- PROTEIN\n",
    "\n",
    "en_ner_bc5cdr_md\n",
    "- DISEASE\n",
    "- CHEMICAL\n",
    "\n",
    "en_ner_bionlp13cg_md\n",
    "- CANCER\n",
    "- ORGAN\n",
    "- TISSUE\n",
    "- ORGANISM\n",
    "- CELL\n",
    "- AMINO_ACID\n",
    "- GENE_OR_GENE_PRODUCT\n",
    "- SIMPLE_CHEMICAL\n",
    "- ANATOMICAL_SYSTEM\n",
    "- IMMATERIAL_ANATOMICAL_ENTITY\n",
    "- MULTI-TISSUE_STRUCTURE\n",
    "- DEVELOPING_ANATOMICAL_STRUCTURE\n",
    "- ORGANISM_SUBDIVISION\n",
    "- CELLULAR_COMPONENT"
   ]
  },
  {
   "cell_type": "code",
   "execution_count": 21,
   "metadata": {
    "ExecuteTime": {
     "end_time": "2020-04-06T12:58:30.207687Z",
     "start_time": "2020-04-06T12:57:52.623798Z"
    }
   },
   "outputs": [],
   "source": [
    "nlp_ner_craft = en_ner_craft_md.load()\n",
    "nlp_ner_jnlpba = en_ner_jnlpba_md.load()\n",
    "nlp_ner_bc5cdr = en_ner_bc5cdr_md.load()\n",
    "nlp_ner_bionlp13cg = en_ner_bionlp13cg_md.load()"
   ]
  },
  {
   "cell_type": "code",
   "execution_count": 22,
   "metadata": {
    "ExecuteTime": {
     "end_time": "2020-04-06T12:58:31.163335Z",
     "start_time": "2020-04-06T12:58:31.159190Z"
    }
   },
   "outputs": [],
   "source": [
    "ners = {\n",
    "    'craft': nlp_ner_craft,\n",
    "    'jnlpba': nlp_ner_jnlpba,\n",
    "    'bc5cdr': nlp_ner_bc5cdr,\n",
    "    'bionlp13cg': nlp_ner_bionlp13cg,\n",
    "}"
   ]
  },
  {
   "cell_type": "code",
   "execution_count": 24,
   "metadata": {
    "ExecuteTime": {
     "end_time": "2020-04-06T12:59:31.344681Z",
     "start_time": "2020-04-06T12:59:31.288518Z"
    }
   },
   "outputs": [
    {
     "name": "stdout",
     "output_type": "stream",
     "text": [
      ">>> craft\n",
      "\n",
      ">>> jnlpba\n",
      "\n",
      ">>> bc5cdr\n",
      "\n",
      ">>> bionlp13cg\n",
      "\n"
     ]
    }
   ],
   "source": [
    "text = \"Apple is looking at buying U.K. startup for $1 billion\"\n",
    "\n",
    "for ner_name, ner in ners.items():\n",
    "    print(\">>>\", ner_name)\n",
    "    doc = ner(text)\n",
    "    for ent in doc.ents:\n",
    "        print(ent.text, ent.start_char, ent.end_char, ent.label_)\n",
    "    print()"
   ]
  },
  {
   "cell_type": "code",
   "execution_count": 54,
   "metadata": {
    "ExecuteTime": {
     "end_time": "2020-04-06T14:44:15.224257Z",
     "start_time": "2020-04-06T14:44:15.172665Z"
    }
   },
   "outputs": [
    {
     "name": "stdout",
     "output_type": "stream",
     "text": [
      ">>> craft\n",
      "\n",
      ">>> jnlpba\n",
      "\n",
      ">>> bc5cdr\n",
      "\n",
      ">>> bionlp13cg\n",
      "N-glycans 6 15 GENE_OR_GENE_PRODUCT\n",
      "\n"
     ]
    }
   ],
   "source": [
    "text = \"risky N-glycans\"\n",
    "\n",
    "for ner_name, ner in ners.items():\n",
    "    print(\">>>\", ner_name)\n",
    "    doc = ner(text)\n",
    "    for ent in doc.ents:\n",
    "        print(ent.text, ent.start_char, ent.end_char, ent.label_)\n",
    "    print()"
   ]
  },
  {
   "cell_type": "code",
   "execution_count": 25,
   "metadata": {
    "ExecuteTime": {
     "end_time": "2020-04-06T12:59:49.893882Z",
     "start_time": "2020-04-06T12:59:49.828649Z"
    }
   },
   "outputs": [
    {
     "name": "stdout",
     "output_type": "stream",
     "text": [
      ">>> craft\n",
      "\n",
      ">>> jnlpba\n",
      "\n",
      ">>> bc5cdr\n",
      "SARS-CoV-2 24 34 CHEMICAL\n",
      "\n",
      ">>> bionlp13cg\n",
      "SARS-CoV-2 24 34 SIMPLE_CHEMICAL\n",
      "\n"
     ]
    }
   ],
   "source": [
    "text = \"Quantifying dynamics of SARS-CoV-2 transmission suggests that epidemic control and avoidance is feasible through instantaneous digital contact tracing\"\n",
    "\n",
    "for ner_name, ner in ners.items():\n",
    "    print(\">>>\", ner_name)\n",
    "    doc = ner(text)\n",
    "    for ent in doc.ents:\n",
    "        print(ent.text, ent.start_char, ent.end_char, ent.label_)\n",
    "    print()"
   ]
  },
  {
   "cell_type": "code",
   "execution_count": 57,
   "metadata": {
    "ExecuteTime": {
     "end_time": "2020-04-06T15:22:35.078805Z",
     "start_time": "2020-04-06T15:22:35.074227Z"
    }
   },
   "outputs": [],
   "source": [
    "text = \"Autophagy maintains tumour growth through circulating arginine. Autophagy captures intracellular components and delivers them to lysosomes, where they are degraded and recycled to sustain metabolism and to enable survival during starvation1-5. Acute, whole-body deletion of the essential autophagy gene Atg7 in adult mice causes a systemic metabolic defect that manifests as starvation intolerance and gradual loss of white adipose tissue, liver glycogen and muscle mass1. Cancer cells also benefit from autophagy. Deletion of essential autophagy genes impairs the metabolism, proliferation, survival and malignancy of spontaneous tumours in models of autochthonous cancer6,7. Acute, systemic deletion of Atg7 or acute, systemic expression of a dominant-negative ATG4b in mice induces greater regression of KRAS-driven cancers than does tumour-specific autophagy deletion, which suggests that host autophagy promotes tumour growth1,8. Here we show that host-specific deletion of Atg7 impairs the growth of multiple allografted tumours, although not all tumour lines were sensitive to host autophagy status. Loss of autophagy in the host was associated with a reduction in circulating arginine, and the sensitive tumour cell lines were arginine auxotrophs owing to the lack of expression of the enzyme argininosuccinate synthase 1. Serum proteomic analysis identified the arginine-degrading enzyme arginase I (ARG1) in the circulation of Atg7-deficient hosts, and in vivo arginine metabolic tracing demonstrated that serum arginine was degraded to ornithine. ARG1 is predominantly expressed in the liver and can be released from hepatocytes into the circulation. Liver-specific deletion of Atg7 produced circulating ARG1, and reduced both serum arginine and tumour growth. Deletion of Atg5 in the host similarly regulated [corrected] circulating arginine and suppressed tumorigenesis, which demonstrates that this phenotype is specific to autophagy function rather than to deletion of Atg7. Dietary supplementation of Atg7-deficient hosts with arginine partially restored levels of circulating arginine and tumour growth. Thus, defective autophagy in the host leads to the release of ARG1 from the liver and the degradation of circulating arginine, which is essential for tumour growth; this identifies a metabolic vulnerability of cancer. (PMID:30429607)\""
   ]
  },
  {
   "cell_type": "code",
   "execution_count": null,
   "metadata": {},
   "outputs": [],
   "source": []
  },
  {
   "cell_type": "code",
   "execution_count": 61,
   "metadata": {
    "ExecuteTime": {
     "end_time": "2020-04-06T15:23:52.129032Z",
     "start_time": "2020-04-06T15:23:51.890064Z"
    },
    "scrolled": false
   },
   "outputs": [
    {
     "name": "stdout",
     "output_type": "stream",
     "text": [
      ">> TEXT:\n",
      "Autophagy maintains tumour growth through circulating arginine.\n",
      "Autophagy captures intracellular components and delivers them to\n",
      "lysosomes, where they are degraded and recycled to sustain metabolism\n",
      "and to enable survival during starvation1-5. Acute, whole-body\n",
      "deletion of the essential autophagy gene Atg7 in adult mice causes a\n",
      "systemic metabolic defect that manifests as starvation intolerance and\n",
      "gradual loss of white adipose tissue, liver glycogen and muscle mass1.\n",
      "Cancer cells also benefit from autophagy. Deletion of essential\n",
      "autophagy genes impairs the metabolism, proliferation, survival and\n",
      "malignancy of spontaneous tumours in models of autochthonous\n",
      "cancer6,7. Acute, systemic deletion of Atg7 or acute, systemic\n",
      "expression of a dominant-negative ATG4b in mice induces greater\n",
      "regression of KRAS-driven cancers than does tumour-specific autophagy\n",
      "deletion, which suggests that host autophagy promotes tumour\n",
      "growth1,8. Here we show that host-specific deletion of Atg7 impairs\n",
      "the growth of multiple allografted tumours, although not all tumour\n",
      "lines were sensitive to host autophagy status. Loss of autophagy in\n",
      "the host was associated with a reduction in circulating arginine, and\n",
      "the sensitive tumour cell lines were arginine auxotrophs owing to the\n",
      "lack of expression of the enzyme argininosuccinate synthase 1. Serum\n",
      "proteomic analysis identified the arginine-degrading enzyme arginase I\n",
      "(ARG1) in the circulation of Atg7-deficient hosts, and in vivo\n",
      "arginine metabolic tracing demonstrated that serum arginine was\n",
      "degraded to ornithine. ARG1 is predominantly expressed in the liver\n",
      "and can be released from hepatocytes into the circulation. Liver-\n",
      "specific deletion of Atg7 produced circulating ARG1, and reduced both\n",
      "serum arginine and tumour growth. Deletion of Atg5 in the host\n",
      "similarly regulated [corrected] circulating arginine and suppressed\n",
      "tumorigenesis, which demonstrates that this phenotype is specific to\n",
      "autophagy function rather than to deletion of Atg7. Dietary\n",
      "supplementation of Atg7-deficient hosts with arginine partially\n",
      "restored levels of circulating arginine and tumour growth. Thus,\n",
      "defective autophagy in the host leads to the release of ARG1 from the\n",
      "liver and the degradation of circulating arginine, which is essential\n",
      "for tumour growth; this identifies a metabolic vulnerability of\n",
      "cancer. (PMID:30429607)\n",
      "\n",
      ">>> craft\n",
      "arginine 54 62 CHEBI\n",
      "intracellular 83 96 GO\n",
      "lysosomes 129 138 GO\n",
      "deletion 262 270 SO\n",
      "autophagy gene 288 302 CL\n",
      "mice 317 321 TAXON\n",
      "glycogen 446 454 CHEBI\n",
      "mass1 466 471 GGP\n",
      "Cancer cells 473 485 CL\n",
      "Deletion 515 523 SO\n",
      "genes 547 552 SO\n",
      "deletion 693 701 SO\n",
      "Atg7 705 709 GGP\n",
      "ATG4b 763 768 GGP\n",
      "mice 772 776 TAXON\n",
      "autophagy deletion 853 871 CHEBI\n",
      "host 893 897 TAXON\n",
      "deletion 967 975 SO\n",
      "Atg7 979 983 GGP\n",
      "host 1084 1088 TAXON\n",
      "host 1132 1136 TAXON\n",
      "arginine 1184 1192 CHEBI\n",
      "tumour cell 1212 1223 CL\n",
      "arginine auxotrophs 1235 1254 CHEBI\n",
      "enzyme argininosuccinate synthase 1 1294 1329 SO\n",
      "enzyme 1390 1396 SO\n",
      "ARG1 1409 1413 GGP\n",
      "hosts 1452 1457 TAXON\n",
      "arginine 1471 1479 CHEBI\n",
      "arginine 1522 1530 CHEBI\n",
      "ornithine 1547 1556 CHEBI\n",
      "ARG1 1558 1562 GGP\n",
      "hepatocytes 1628 1639 CL\n",
      "deletion 1677 1685 SO\n",
      "Atg7 1689 1693 GGP\n",
      "ARG1 1715 1719 GGP\n",
      "serum arginine 1738 1752 CHEBI\n",
      "Deletion 1772 1780 SO\n",
      "Atg5 1784 1788 GGP\n",
      "host 1796 1800 TAXON\n",
      "arginine 1845 1853 CHEBI\n",
      "deletion 1972 1980 SO\n",
      "Atg7 1984 1988 GGP\n",
      "hosts 2032 2037 TAXON\n",
      "arginine 2043 2051 CHEBI\n",
      "arginine 2093 2101 CHEBI\n",
      "host 2154 2158 TAXON\n",
      "ARG1 2183 2187 GGP\n",
      "arginine 2238 2246 CHEBI\n",
      "\n",
      ">>> jnlpba\n",
      "starvation1-5 229 242 PROTEIN\n",
      "liver glycogen 440 454 PROTEIN\n",
      "muscle mass1 459 471 PROTEIN\n",
      "Cancer cells 473 485 CELL_TYPE\n",
      "Atg7 705 709 PROTEIN\n",
      "dominant-negative ATG4b 745 768 PROTEIN\n",
      "tumour growth1,8 917 933 PROTEIN\n",
      "Atg7 979 983 PROTEIN\n",
      "tumour lines 1053 1065 CELL_LINE\n",
      "tumour cell lines 1212 1229 CELL_LINE\n",
      "enzyme argininosuccinate synthase 1 1294 1329 PROTEIN\n",
      "arginine-degrading enzyme arginase I 1371 1407 PROTEIN\n",
      "ARG1 1409 1413 PROTEIN\n",
      "ornithine 1547 1556 PROTEIN\n",
      "ARG1 1558 1562 PROTEIN\n",
      "hepatocytes 1628 1639 CELL_TYPE\n",
      "Atg7 1689 1693 PROTEIN\n",
      "ARG1 1715 1719 PROTEIN\n",
      "Atg5 1784 1788 PROTEIN\n",
      "Atg7 1984 1988 PROTEIN\n",
      "ARG1 2183 2187 PROTEIN\n",
      "\n",
      ">>> bc5cdr\n",
      "tumour 20 26 DISEASE\n",
      "arginine 54 62 CHEMICAL\n",
      "metabolic defect 340 356 DISEASE\n",
      "loss of white adipose tissue 410 438 DISEASE\n",
      "muscle mass1 459 471 DISEASE\n",
      "Cancer 473 479 DISEASE\n",
      "malignancy 605 615 DISEASE\n",
      "tumours 631 638 DISEASE\n",
      "ATG4b 763 768 DISEASE\n",
      "KRAS-driven cancers 807 826 DISEASE\n",
      "tumour 917 923 DISEASE\n",
      "growth1,8 924 933 CHEMICAL\n",
      "tumours 1027 1034 DISEASE\n",
      "tumour 1053 1059 DISEASE\n",
      "arginine 1184 1192 CHEMICAL\n",
      "tumour 1212 1218 DISEASE\n",
      "arginine 1235 1243 CHEMICAL\n",
      "arginine 1471 1479 CHEMICAL\n",
      "arginine 1522 1530 CHEMICAL\n",
      "ornithine 1547 1556 CHEMICAL\n",
      "arginine 1744 1752 CHEMICAL\n",
      "tumour 1757 1763 DISEASE\n",
      "Atg5 1784 1788 CHEMICAL\n",
      "arginine 1845 1853 CHEMICAL\n",
      "arginine 2043 2051 CHEMICAL\n",
      "arginine 2093 2101 CHEMICAL\n",
      "tumour 2106 2112 DISEASE\n",
      "arginine 2238 2246 CHEMICAL\n",
      "tumour 2271 2277 DISEASE\n",
      "cancer 2331 2337 DISEASE\n",
      "\n",
      ">>> bionlp13cg\n",
      "tumour 20 26 CANCER\n",
      "intracellular 83 96 IMMATERIAL_ANATOMICAL_ENTITY\n",
      "lysosomes 129 138 CELLULAR_COMPONENT\n",
      "starvation1-5 229 242 GENE_OR_GENE_PRODUCT\n",
      "Atg7 303 307 GENE_OR_GENE_PRODUCT\n",
      "adult mice 311 321 ORGANISM\n",
      "adipose tissue 424 438 TISSUE\n",
      "liver glycogen 440 454 MULTI-TISSUE_STRUCTURE\n",
      "muscle mass1 459 471 ORGANISM_SUBSTANCE\n",
      "Cancer cells 473 485 CELL\n",
      "tumours 631 638 CANCER\n",
      "Atg7 705 709 GENE_OR_GENE_PRODUCT\n",
      "ATG4b 763 768 GENE_OR_GENE_PRODUCT\n",
      "mice 772 776 ORGANISM\n",
      "KRAS-driven cancers 807 826 CANCER\n",
      "tumour 917 923 CANCER\n",
      "Atg7 979 983 GENE_OR_GENE_PRODUCT\n",
      "tumours 1027 1034 CANCER\n",
      "tumour lines 1053 1065 CELL\n",
      "tumour cell lines 1212 1229 CELL\n",
      "argininosuccinate synthase 1 1301 1329 GENE_OR_GENE_PRODUCT\n",
      "Serum 1331 1336 ORGANISM_SUBSTANCE\n",
      "arginase I 1397 1407 GENE_OR_GENE_PRODUCT\n",
      "ARG1 1409 1413 GENE_OR_GENE_PRODUCT\n",
      "Atg7-deficient hosts 1437 1457 GENE_OR_GENE_PRODUCT\n",
      "serum 1516 1521 ORGANISM_SUBSTANCE\n",
      "ornithine 1547 1556 GENE_OR_GENE_PRODUCT\n",
      "ARG1 1558 1562 GENE_OR_GENE_PRODUCT\n",
      "liver 1597 1602 ORGAN\n",
      "hepatocytes 1628 1639 CELL\n",
      "Atg7 1689 1693 GENE_OR_GENE_PRODUCT\n",
      "ARG1 1715 1719 GENE_OR_GENE_PRODUCT\n",
      "serum arginine 1738 1752 ORGANISM_SUBSTANCE\n",
      "tumour 1757 1763 CANCER\n",
      "Atg5 1784 1788 GENE_OR_GENE_PRODUCT\n",
      "Atg7 1984 1988 GENE_OR_GENE_PRODUCT\n",
      "Atg7-deficient hosts 2017 2037 GENE_OR_GENE_PRODUCT\n",
      "tumour 2106 2112 CANCER\n",
      "ARG1 2183 2187 GENE_OR_GENE_PRODUCT\n",
      "liver 2197 2202 ORGAN\n",
      "tumour 2271 2277 CANCER\n",
      "cancer 2331 2337 CANCER\n",
      "PMID:30429607 2340 2353 GENE_OR_GENE_PRODUCT\n",
      "\n"
     ]
    }
   ],
   "source": [
    "print(\">> TEXT:\")\n",
    "print(textwrap.fill(text))\n",
    "print()\n",
    "\n",
    "for ner_name, ner in ners.items():\n",
    "    print(\">>>\", ner_name)\n",
    "    doc = ner(text)\n",
    "    for ent in doc.ents:\n",
    "        print(ent.text, ent.start_char, ent.end_char, ent.label_)\n",
    "    print()"
   ]
  },
  {
   "cell_type": "markdown",
   "metadata": {},
   "source": [
    "## Bio-NER"
   ]
  },
  {
   "cell_type": "markdown",
   "metadata": {},
   "source": [
    "- Repo: https://github.com/dmis-lab/biobert\n",
    "- A UI for testing: https://bern.korea.ac.kr/"
   ]
  },
  {
   "cell_type": "markdown",
   "metadata": {},
   "source": [
    "From the UI above one can see that the named entities are the following:\n",
    "\n",
    "- Pathways\n",
    "- miRNAs\n",
    "- Mutations\n",
    "- Species\n",
    "- Drugs/Chemicals\n",
    "- Diseases\n",
    "- Genes/Proteins\n"
   ]
  },
  {
   "cell_type": "markdown",
   "metadata": {},
   "source": [
    "## Comments / Notes"
   ]
  },
  {
   "cell_type": "markdown",
   "metadata": {},
   "source": [
    "Named entities we want:\n",
    "- disease\n",
    "- therapy\n",
    "- protein\n",
    "- virus\n",
    "- molecule\n",
    "- receptor\n",
    "- ..."
   ]
  },
  {
   "cell_type": "markdown",
   "metadata": {},
   "source": [
    "- Spacy's NER: https://spacy.io/usage/linguistic-features#named-entities\n",
    "- Training Spacy's NER: https://spacy.io/usage/examples#training-ner\n",
    "- Training Spacy's NER (2): https://spacy.io/usage/training#example-train-ner"
   ]
  },
  {
   "cell_type": "code",
   "execution_count": null,
   "metadata": {},
   "outputs": [],
   "source": []
  },
  {
   "cell_type": "code",
   "execution_count": null,
   "metadata": {},
   "outputs": [],
   "source": []
  }
 ],
 "metadata": {
  "kernelspec": {
   "display_name": "Python 3",
   "language": "python",
   "name": "python3"
  },
  "language_info": {
   "codemirror_mode": {
    "name": "ipython",
    "version": 3
   },
   "file_extension": ".py",
   "mimetype": "text/x-python",
   "name": "python",
   "nbconvert_exporter": "python",
   "pygments_lexer": "ipython3",
   "version": "3.6.10"
  },
  "toc": {
   "base_numbering": 1,
   "nav_menu": {},
   "number_sections": true,
   "sideBar": true,
   "skip_h1_title": true,
   "title_cell": "Table of Contents",
   "title_sidebar": "Contents",
   "toc_cell": false,
   "toc_position": {},
   "toc_section_display": true,
   "toc_window_display": true
  }
 },
 "nbformat": 4,
 "nbformat_minor": 2
}
