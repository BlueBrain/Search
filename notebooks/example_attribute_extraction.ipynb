{
 "cells": [
  {
   "cell_type": "code",
   "execution_count": null,
   "metadata": {},
   "outputs": [],
   "source": [
    "import spacy\n",
    "\n",
    "from bbsearch.mining import AttributeExtractor, AttributeAnnotationTab, TextCollectionWidget"
   ]
  },
  {
   "cell_type": "code",
   "execution_count": null,
   "metadata": {},
   "outputs": [],
   "source": [
    "core_nlp_url = \"<url>\"\n",
    "grobid_quantities_url = \"<url>/service/processQuantityText\""
   ]
  },
  {
   "cell_type": "code",
   "execution_count": null,
   "metadata": {},
   "outputs": [],
   "source": [
    "entity_model = spacy.load(\"en_ner_craft_md\")"
   ]
  },
  {
   "cell_type": "code",
   "execution_count": null,
   "metadata": {},
   "outputs": [],
   "source": [
    "attribute_extractor = AttributeExtractor(\n",
    "    core_nlp_url,\n",
    "    grobid_quantities_url,\n",
    "    entity_model)"
   ]
  },
  {
   "cell_type": "markdown",
   "metadata": {},
   "source": [
    "# Widget"
   ]
  },
  {
   "cell_type": "markdown",
   "metadata": {},
   "source": [
    "The easiest way is to use the `TextCollectionWidget` to interactively inspect annotations on a number of different texts."
   ]
  },
  {
   "cell_type": "code",
   "execution_count": null,
   "metadata": {},
   "outputs": [],
   "source": [
    "texts = [\n",
    "    \"In SARS-CoV-2, the S protein is particularly highly glycosylated, with 22 sites of N-glycosylation per monomer, holding mostly complex glycans, and ~30% HM-type (Watanabee, 2020). The proper glycosylation of the spike, is required in many functions of the virus such as structural shape, host recognition and binding as well as viral entry.\",\n",
    "    \"Comorbidities were present in nearly half of patients, with hypertension being the most common comorbidity, followed by diabetes and coronary heart disease (table 1). The most common symptoms on admission were fever and cough, followed by sputum production and fatigue (table 1). Lymphocytopenia occurred in 77 (40%) patients. 181 (95%) patients received antibiotics and 41 (21%) received antivirals (lopinavir/ritonavir; table 2). Systematic corticosteroid and intravenous immunoglobulin use differed significantly between non-survivors and survivors (table 2). The comparison of characteristics, treatment, and outcomes of patients from the two hospitals are shown in the appendix (pp 2–4). \",\n",
    "    \"Similarly, other literature recently published in this population also showed that the increasing odds of in-hospital death associated with older age, the presence of underlying diseases, elevated inflammatory, and d-dimer greater than 1 μg/ml on admission.\",\n",
    "    \"Fifty to 500 ng of poly(A)-RNA from HCV 229E-infected MRC-5 cells were used for reverse transcription in a volume of 20 ml with 1 ml (200 U) SuperScript II reverse transcriptase (Life Technologies), 4 ml of 51 first-strand buffer (Life Technologies), 2 ml of 10 mM dNTPs, 2 ml of 0.1 M DTT, 0.5 ml of RNasin (50 U/ml) (Pharmacia), and 30-100 ng of oligonucleotide primer (Table 1, Fig. 2 ).\",\n",
    "]"
   ]
  },
  {
   "cell_type": "code",
   "execution_count": null,
   "metadata": {},
   "outputs": [],
   "source": [
    "TextCollectionWidget(texts, attribute_extractor, entity_model)"
   ]
  },
  {
   "cell_type": "markdown",
   "metadata": {},
   "source": [
    "# Manual"
   ]
  },
  {
   "cell_type": "code",
   "execution_count": null,
   "metadata": {},
   "outputs": [],
   "source": [
    "text = texts[-1]"
   ]
  },
  {
   "cell_type": "markdown",
   "metadata": {},
   "source": [
    "The `AttributeAnnotationTab` widget can be used to display an annotation summary for a given text."
   ]
  },
  {
   "cell_type": "code",
   "execution_count": null,
   "metadata": {},
   "outputs": [],
   "source": [
    "AttributeAnnotationTab(attribute_extractor, entity_model, text)"
   ]
  },
  {
   "cell_type": "markdown",
   "metadata": {},
   "source": [
    "One can use the functionality of the `AttributeExtractor` class to manually extract the attribute information."
   ]
  },
  {
   "cell_type": "code",
   "execution_count": null,
   "metadata": {},
   "outputs": [],
   "source": [
    "df_attributes = attribute_extractor.extract_attributes(text)\n",
    "df_attributes"
   ]
  },
  {
   "cell_type": "code",
   "execution_count": null,
   "metadata": {},
   "outputs": [],
   "source": [
    "measurements = attribute_extractor.get_grobid_measurements(text)\n",
    "annotated_text = attribute_extractor.annotate_quantities(text, measurements, width=70)\n",
    "annotated_text"
   ]
  },
  {
   "cell_type": "code",
   "execution_count": null,
   "metadata": {},
   "outputs": [],
   "source": []
  }
 ],
 "metadata": {
  "kernelspec": {
   "display_name": "Python 3",
   "language": "python",
   "name": "python3"
  },
  "language_info": {
   "codemirror_mode": {
    "name": "ipython",
    "version": 3
   },
   "file_extension": ".py",
   "mimetype": "text/x-python",
   "name": "python",
   "nbconvert_exporter": "python",
   "pygments_lexer": "ipython3",
   "version": "3.7.6"
  }
 },
 "nbformat": 4,
 "nbformat_minor": 4
}
