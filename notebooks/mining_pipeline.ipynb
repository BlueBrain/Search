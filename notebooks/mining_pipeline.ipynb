{
 "cells": [
  {
   "cell_type": "markdown",
   "metadata": {},
   "source": [
    "# <center>End-to-end mining pipeline</center>\n",
    "\n",
    "**! WARNING !**\n",
    "One needs to make sure that `scibert` repository is in the PYTHONPATH and its dependencies (as per `requirements.txt`) are in your env\n",
    "\n",
    "Possible solution:\n",
    "```python\n",
    "import sys\n",
    "sys.path.append('/path/to/scibert')\n",
    "```"
   ]
  },
  {
   "cell_type": "code",
   "execution_count": null,
   "metadata": {},
   "outputs": [],
   "source": [
    "from collections import OrderedDict\n",
    "import pathlib \n",
    "import textwrap\n",
    "\n",
    "import IPython\n",
    "import ipywidgets\n",
    "import spacy\n",
    "\n",
    "from bbsearch.mining import ChemProt, run_pipeline"
   ]
  },
  {
   "cell_type": "code",
   "execution_count": null,
   "metadata": {},
   "outputs": [],
   "source": [
    "# Parameters\n",
    "chemprot_path = pathlib.Path('/raid/covid_data/assets/scibert_chemprot.tar.gz')\n",
    "\n",
    "# Variables\n",
    "model_entities = spacy.load(\"en_ner_craft_md\")\n",
    "models_relations = {('CHEBI', 'GGP'): [ChemProt(chemprot_path)]}\n",
    "\n",
    "default_text = \"\"\"Autophagy maintains tumour growth through circulating arginine. Autophagy captures intracellular components and delivers\n",
    "them to lysosomes, where they are degraded and recycled to sustain metabolism and to enable survival during starvation1-5.\n",
    "Acute, whole-body deletion of the essential autophagy gene Atg7 in adult mice causes a systemic metabolic defect that manifests\n",
    "as starvation intolerance and gradual loss of white adipose tissue, liver glycogen and muscle mass1. Cancer cells also benefit\n",
    "from autophagy. Deletion of essential autophagy genes impairs the metabolism, proliferation, survival and malignancy of spontaneous\n",
    "tumours in models of autochthonous cancer6,7. Acute, systemic deletion of Atg7 or acute, systemic expression of a dominant-negative\n",
    "ATG4b in mice induces greater regression of KRAS-driven cancers than does tumour-specific autophagy deletion, which suggests that\n",
    "host autophagy promotes tumour growth1,8.\n",
    "\"\"\".replace('\\n', ' ')"
   ]
  },
  {
   "cell_type": "code",
   "execution_count": null,
   "metadata": {},
   "outputs": [],
   "source": [
    "# Define widgets\n",
    "bbs_widgets = OrderedDict()\n",
    "bbs_widgets['input_text'] = ipywidgets.Textarea(\n",
    "        value=default_text,\n",
    "        layout=ipywidgets.Layout(width='75%', height='300px')\n",
    "    )\n",
    "bbs_widgets['submit_button'] = ipywidgets.Button(\n",
    "    description='Extract Entities & Properties!',\n",
    "    layout=ipywidgets.Layout(width='30%')\n",
    ")\n",
    "\n",
    "bbs_widgets['out'] = ipywidgets.Output(layout={'border': '0.5px solid black'})\n",
    "\n",
    "# Define callback\n",
    "def cb(b):\n",
    "    bbs_widgets['out'].clear_output()\n",
    "    with bbs_widgets['out']:\n",
    "        text = bbs_widgets['input_text'].value\n",
    "        df = run_pipeline(text, model_entities, models_relations)\n",
    "        display(df)\n",
    "\n",
    "\n",
    "# Finalize widgets\n",
    "bbs_widgets['submit_button'].on_click(cb)\n",
    "ordered_widgets = list(bbs_widgets.values())\n",
    "main_widget = ipywidgets.VBox(ordered_widgets)\n",
    "IPython.display.display(main_widget)"
   ]
  }
 ],
 "metadata": {
  "kernelspec": {
   "display_name": "Python 3",
   "language": "python",
   "name": "python3"
  },
  "language_info": {
   "codemirror_mode": {
    "name": "ipython",
    "version": 3
   },
   "file_extension": ".py",
   "mimetype": "text/x-python",
   "name": "python",
   "nbconvert_exporter": "python",
   "pygments_lexer": "ipython3",
   "version": "3.6.9"
  }
 },
 "nbformat": 4,
 "nbformat_minor": 4
}
