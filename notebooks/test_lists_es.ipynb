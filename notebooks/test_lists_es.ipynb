{
 "cells": [
  {
   "cell_type": "code",
   "execution_count": null,
   "metadata": {},
   "outputs": [],
   "source": [
    "from elasticsearch import Elasticsearch"
   ]
  },
  {
   "cell_type": "code",
   "execution_count": null,
   "metadata": {},
   "outputs": [],
   "source": [
    "client = Elasticsearch('http://localhost:9200')"
   ]
  },
  {
   "cell_type": "code",
   "execution_count": null,
   "metadata": {},
   "outputs": [],
   "source": [
    "from bluesearch.k8s.create_indices import (MAPPINGS_ARTICLES, MAPPINGS_PARAGRAPHS, SETTINGS, add_index)"
   ]
  },
  {
   "cell_type": "code",
   "execution_count": null,
   "metadata": {},
   "outputs": [],
   "source": [
    "add_index(client, \"test_articles\", SETTINGS, MAPPINGS_ARTICLES)\n",
    "add_index(client, \"test_paragraphs\", SETTINGS, MAPPINGS_PARAGRAPHS)"
   ]
  },
  {
   "cell_type": "code",
   "execution_count": null,
   "metadata": {},
   "outputs": [],
   "source": [
    "client.index(\n",
    " index = 'test_articles',\n",
    " document = {\n",
    "    \"article_id\":\"1\",\n",
    "        \"authors\": [\"A\", \"B\"],\n",
    "        \"title\": \"some test title\",\n",
    "        \"abstract\": [\"some test abstract\", \"abcd\"],\n",
    "        },\n",
    "id = \"1\"\n",
    ")\n",
    "\n",
    "client.index(\n",
    " index = 'test_articles',\n",
    " document = {\n",
    "    \"article_id\":\"2\",\n",
    "        \"authors\": [\"Diogo\", \"Emilie\", \"Jan\", \"Francesco\"],\n",
    "        \"title\": \"some test title\",\n",
    "        \"abstract\": [\"Francesco Casalegno is the Section Manager of the Machine Learning team within the Simulation Neuroscience Division.\",\n",
    "            \"Together with his team, he works on the development of Machine Learning and Deep Learning models for both internal and translation projects in order to improve accuracy and scaling of current approaches.\",\n",
    "            \"Before joining Blue Brain, Francesco worked at RUAG Space in Switzerland and at the European Space Agency in Spain.\",\n",
    "            \"Francesco holds a PhD in Physics from the University of Geneva, Switzerland, and a Master in Physics from the University of Padova, Italy.\",\n",
    "            \"He is also a member of the IEEE Computational Intelligence Society.\",\n",
    "            \"His research interests include Machine Learning, Deep Learning, and Computational Neuroscience.\",\n",
    "            \"He is also interested in the application of Machine Learning to the field of Space Exploration.\",\n",
    "            \"Francesco is a member of the Blue Brain Project's Machine Learning team.\"],\n",
    "        },\n",
    "id = \"2\"\n",
    ")\n",
    "\n",
    "client.index(\n",
    " index = 'test_articles',\n",
    " document = {\n",
    "    \"article_id\":\"3\",\n",
    "        \"authors\": [\"William\", \"George\", \"Harry\"],\n",
    "        \"title\": \"some test title\",\n",
    "        \"abstract\": [\"Willim is a good guy\",\n",
    "            \"George is a good guy\",\n",
    "            \"Harry is a good guy\"],\n",
    "        },\n",
    "id = \"3\"\n",
    ")"
   ]
  },
  {
   "cell_type": "code",
   "execution_count": null,
   "metadata": {},
   "outputs": [],
   "source": [
    "resp = client.get(index = 'test_articles', id = '1')\n",
    "print(resp['_source'])"
   ]
  },
  {
   "cell_type": "code",
   "execution_count": null,
   "metadata": {},
   "outputs": [],
   "source": [
    "print(type(resp['_source']['authors']))\n",
    "print(resp['_source']['authors'])"
   ]
  },
  {
   "cell_type": "code",
   "execution_count": null,
   "metadata": {},
   "outputs": [],
   "source": [
    "resp = client.search(index=\"test_articles\", query={\"match\": {\"abstract\": \"test\"}})"
   ]
  },
  {
   "cell_type": "code",
   "execution_count": null,
   "metadata": {},
   "outputs": [],
   "source": [
    "print(resp)"
   ]
  },
  {
   "cell_type": "code",
   "execution_count": null,
   "metadata": {},
   "outputs": [],
   "source": [
    "resp = client.search(index=\"test_articles\", query={\"match\": {\"abstract\": \"Blue Brain\"}})"
   ]
  },
  {
   "cell_type": "code",
   "execution_count": null,
   "metadata": {},
   "outputs": [],
   "source": [
    "print(resp)"
   ]
  },
  {
   "cell_type": "code",
   "execution_count": null,
   "metadata": {},
   "outputs": [],
   "source": [
    "resp = client.search(index=\"test_articles\", query={\"match\": {\"authors\": \"William\"}})"
   ]
  },
  {
   "cell_type": "code",
   "execution_count": null,
   "metadata": {},
   "outputs": [],
   "source": [
    "print(resp)"
   ]
  }
 ],
 "metadata": {
  "kernelspec": {
   "display_name": "Python 3.10.5 ('py10')",
   "language": "python",
   "name": "python3"
  },
  "language_info": {
   "codemirror_mode": {
    "name": "ipython",
    "version": 3
   },
   "file_extension": ".py",
   "mimetype": "text/x-python",
   "name": "python",
   "nbconvert_exporter": "python",
   "pygments_lexer": "ipython3",
   "version": "3.10.5"
  },
  "orig_nbformat": 4,
  "vscode": {
   "interpreter": {
    "hash": "e14b248c68ef27f7e40aef879e7b97aaa0976632ef81142793ba6d8efee923a4"
   }
  }
 },
 "nbformat": 4,
 "nbformat_minor": 2
}
