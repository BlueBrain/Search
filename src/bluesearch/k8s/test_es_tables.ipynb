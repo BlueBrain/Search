{
 "cells": [
  {
   "cell_type": "markdown",
   "metadata": {},
   "source": [
    "# Connect to ES"
   ]
  },
  {
   "cell_type": "code",
   "execution_count": 1,
   "metadata": {},
   "outputs": [],
   "source": [
    "import elasticsearch\n",
    "from elasticsearch import Elasticsearch\n",
    "from decouple import config\n",
    "import urllib3\n",
    "urllib3.disable_warnings()"
   ]
  },
  {
   "cell_type": "code",
   "execution_count": 2,
   "metadata": {},
   "outputs": [
    {
     "data": {
      "text/plain": [
       "(8, 3, 3)"
      ]
     },
     "execution_count": 2,
     "metadata": {},
     "output_type": "execute_result"
    }
   ],
   "source": [
    "elasticsearch.__version__"
   ]
  },
  {
   "cell_type": "code",
   "execution_count": 3,
   "metadata": {},
   "outputs": [
    {
     "name": "stderr",
     "output_type": "stream",
     "text": [
      "/home/reissant/miniforge3/envs/py10/lib/python3.10/site-packages/elasticsearch/_sync/client/__init__.py:395: SecurityWarning: Connecting to 'https://ml-elasticsearch.kcp.bbp.epfl.ch:443' using TLS with verify_certs=False is insecure\n",
      "  _transport = transport_class(\n"
     ]
    }
   ],
   "source": [
    "client = Elasticsearch(\n",
    "    config('ES_URL'),\n",
    "    basic_auth=(\"elastic\", config('ES_PASS')),\n",
    "    verify_certs=False,\n",
    ")"
   ]
  },
  {
   "cell_type": "code",
   "execution_count": 4,
   "metadata": {},
   "outputs": [
    {
     "data": {
      "text/plain": [
       "ObjectApiResponse({'name': 'elasticsearch-coordinating-0', 'cluster_name': 'elastic', 'cluster_uuid': 'dv5oiXnCRJiB8nhV7a81RA', 'version': {'number': '8.3.3', 'build_flavor': 'default', 'build_type': 'tar', 'build_hash': '801fed82df74dbe537f89b71b098ccaff88d2c56', 'build_date': '2022-07-23T19:30:09.227964828Z', 'build_snapshot': False, 'lucene_version': '9.2.0', 'minimum_wire_compatibility_version': '7.17.0', 'minimum_index_compatibility_version': '7.0.0'}, 'tagline': 'You Know, for Search'})"
      ]
     },
     "execution_count": 4,
     "metadata": {},
     "output_type": "execute_result"
    }
   ],
   "source": [
    "client.info()"
   ]
  },
  {
   "cell_type": "markdown",
   "metadata": {},
   "source": [
    "# Explore tables\n",
    "tables names are articles and paragraphs"
   ]
  },
  {
   "cell_type": "code",
   "execution_count": 6,
   "metadata": {},
   "outputs": [],
   "source": [
    "import json"
   ]
  },
  {
   "cell_type": "code",
   "execution_count": 7,
   "metadata": {},
   "outputs": [
    {
     "name": "stdout",
     "output_type": "stream",
     "text": [
      "{\n",
      "    \"articles\": {\n",
      "        \"aliases\": {},\n",
      "        \"mappings\": {\n",
      "            \"dynamic\": \"strict\",\n",
      "            \"properties\": {\n",
      "                \"abstract\": {\n",
      "                    \"type\": \"text\"\n",
      "                },\n",
      "                \"article_id\": {\n",
      "                    \"type\": \"keyword\"\n",
      "                },\n",
      "                \"authors\": {\n",
      "                    \"type\": \"text\"\n",
      "                },\n",
      "                \"doi\": {\n",
      "                    \"type\": \"keyword\"\n",
      "                },\n",
      "                \"is_english\": {\n",
      "                    \"type\": \"boolean\"\n",
      "                },\n",
      "                \"journal\": {\n",
      "                    \"type\": \"keyword\"\n",
      "                },\n",
      "                \"license\": {\n",
      "                    \"type\": \"keyword\"\n",
      "                },\n",
      "                \"pmc_id\": {\n",
      "                    \"type\": \"keyword\"\n",
      "                },\n",
      "                \"publish_time\": {\n",
      "                    \"type\": \"date\",\n",
      "                    \"format\": \"yyyy-MM-dd\"\n",
      "                },\n",
      "                \"pubmed_id\": {\n",
      "                    \"type\": \"keyword\"\n",
      "                },\n",
      "                \"title\": {\n",
      "                    \"type\": \"text\"\n",
      "                }\n",
      "            }\n",
      "        },\n",
      "        \"settings\": {\n",
      "            \"index\": {\n",
      "                \"routing\": {\n",
      "                    \"allocation\": {\n",
      "                        \"include\": {\n",
      "                            \"_tier_preference\": \"data_content\"\n",
      "                        }\n",
      "                    }\n",
      "                },\n",
      "                \"number_of_shards\": \"2\",\n",
      "                \"provided_name\": \"articles\",\n",
      "                \"creation_date\": \"1661960402029\",\n",
      "                \"number_of_replicas\": \"1\",\n",
      "                \"uuid\": \"E5WT1fgUQFyOTZK6JAP90w\",\n",
      "                \"version\": {\n",
      "                    \"created\": \"8030399\"\n",
      "                }\n",
      "            }\n",
      "        }\n",
      "    }\n",
      "}\n"
     ]
    }
   ],
   "source": [
    "# articles index mapping\n",
    "resp = dict(client.indices.get(index=\"articles\"))\n",
    "print(json.dumps(resp, indent=4))"
   ]
  },
  {
   "cell_type": "code",
   "execution_count": 8,
   "metadata": {},
   "outputs": [
    {
     "name": "stdout",
     "output_type": "stream",
     "text": [
      "{\n",
      "    \"paragraphs\": {\n",
      "        \"aliases\": {},\n",
      "        \"mappings\": {\n",
      "            \"dynamic\": \"strict\",\n",
      "            \"properties\": {\n",
      "                \"article_id\": {\n",
      "                    \"type\": \"keyword\"\n",
      "                },\n",
      "                \"embedding\": {\n",
      "                    \"type\": \"dense_vector\",\n",
      "                    \"dims\": 384,\n",
      "                    \"index\": true,\n",
      "                    \"similarity\": \"dot_product\"\n",
      "                },\n",
      "                \"is_bad\": {\n",
      "                    \"type\": \"boolean\"\n",
      "                },\n",
      "                \"paragraph_id\": {\n",
      "                    \"type\": \"short\"\n",
      "                },\n",
      "                \"section_name\": {\n",
      "                    \"type\": \"keyword\"\n",
      "                },\n",
      "                \"text\": {\n",
      "                    \"type\": \"text\"\n",
      "                }\n",
      "            }\n",
      "        },\n",
      "        \"settings\": {\n",
      "            \"index\": {\n",
      "                \"routing\": {\n",
      "                    \"allocation\": {\n",
      "                        \"include\": {\n",
      "                            \"_tier_preference\": \"data_content\"\n",
      "                        }\n",
      "                    }\n",
      "                },\n",
      "                \"number_of_shards\": \"2\",\n",
      "                \"provided_name\": \"paragraphs\",\n",
      "                \"creation_date\": \"1661960990706\",\n",
      "                \"number_of_replicas\": \"1\",\n",
      "                \"uuid\": \"RL0iw_7_SmO-xzRB5pjO9w\",\n",
      "                \"version\": {\n",
      "                    \"created\": \"8030399\"\n",
      "                }\n",
      "            }\n",
      "        }\n",
      "    }\n",
      "}\n"
     ]
    }
   ],
   "source": [
    "# paragraphs index mapping\n",
    "resp = dict(client.indices.get(index=\"paragraphs\"))\n",
    "print(json.dumps(resp, indent=4))"
   ]
  },
  {
   "cell_type": "code",
   "execution_count": 12,
   "metadata": {},
   "outputs": [
    {
     "name": "stdout",
     "output_type": "stream",
     "text": [
      "Got 68 Hits:\n",
      "{\n",
      "    \"article_id\": \"f619d10de9834bbb8b0252c9e8455489\",\n",
      "    \"section_name\": \"\",\n",
      "    \"text\": \"This study reports on the cellular uptake of folate tethered micelles using a branched skeleton of poly(ethylene glycol) and poly(\\u03b5-caprolactone). The chemical structures of the copolymers were characterized by proton nuclear magnetic resonance spectroscopy, and Fourier transform infrared spectroscopy. Doxorubicin (DOX) was utilized as an anticancer drug. The highest drug loading efficiencies of DOX in the folate decorated micelle (DMCF) and folate-free micelle (DMC) were found to be 88.5 % and 88.2 %, respectively, depending on the segment length of the poly(\\u03b5-caprolactone) in the copolymers. A comparison of fluorescent microscopic images of the endocytosis pathway in two cells lines, human breast cancer cells (MCF-7) and human oral cavity carcinoma cells (KB), revealed that the micelles were engulfed by KB and MCF-7 cells following in vitro incubation for 1 h. Flow cytometric analysis revealed that free folic acid can inhibit the uptake of DOX loaded in the micelles by 48\\u201357 % and 26\\u201339 % in KB cells and MCF-7 cells, respectively. These results prove that KB cells are relatively sensitive to folate-tethered micelles. Upon the administering of methyl-beta-cyclodextrin, an inhibitor of the caveolae-mediated endocytosis pathway, the uptake of DOX by KB cells was reduced by 69 % and that by MCF-7 cells was reduced by 56 %. This finding suggests that DMCF enters cells via multiple pathways, so folate receptor is not the only target of tumor therapeutics.\",\n",
      "    \"paragraph_id\": 395\n",
      "}\n"
     ]
    }
   ],
   "source": [
    "query = {\n",
    "    \"match\": {\n",
    "        \"text\": \"Fourier Transform Spectroscopy\"\n",
    "    }\n",
    "}\n",
    "resp = client.search(index=\"paragraphs\", query=query, size=1)\n",
    "print(\"Got %d Hits:\" % resp['hits']['total']['value'])\n",
    "for hit in resp['hits']['hits']:\n",
    "    print(json.dumps(hit[\"_source\"], indent=4))"
   ]
  },
  {
   "cell_type": "code",
   "execution_count": 21,
   "metadata": {},
   "outputs": [
    {
     "name": "stdout",
     "output_type": "stream",
     "text": [
      "{\n",
      "    \"article_id\": \"f619d10de9834bbb8b0252c9e8455489\",\n",
      "    \"authors\": \"Fourth Annual Conference of the American Society for Nanomedicine\",\n",
      "    \"title\": \"Howard E. Gendelman, Lajos P. Balogh, Raj Bawa, Michelle Bradbury, Esther H. Chang, Wah Chiu, Omid Farokhzad, Marianna Foldvari, Gregory Lanza, Kuan Wang\",\n",
      "    \"abstract\": \"\",\n",
      "    \"pubmed_id\": \"24573530\",\n",
      "    \"pmc_id\": \"3951957\",\n",
      "    \"doi\": \"10.1007/s11481-014-9526-4\"\n",
      "}\n"
     ]
    }
   ],
   "source": [
    "resp = client.get(index=\"articles\", id=\"f619d10de9834bbb8b0252c9e8455489\")\n",
    "print(json.dumps(resp['_source'], indent=4))"
   ]
  }
 ],
 "metadata": {
  "kernelspec": {
   "display_name": "Python 3.10.5 ('py10')",
   "language": "python",
   "name": "python3"
  },
  "language_info": {
   "codemirror_mode": {
    "name": "ipython",
    "version": 3
   },
   "file_extension": ".py",
   "mimetype": "text/x-python",
   "name": "python",
   "nbconvert_exporter": "python",
   "pygments_lexer": "ipython3",
   "version": "3.10.5"
  },
  "orig_nbformat": 4,
  "vscode": {
   "interpreter": {
    "hash": "e14b248c68ef27f7e40aef879e7b97aaa0976632ef81142793ba6d8efee923a4"
   }
  }
 },
 "nbformat": 4,
 "nbformat_minor": 2
}
